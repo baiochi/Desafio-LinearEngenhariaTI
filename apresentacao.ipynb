{
 "cells": [
  {
   "cell_type": "markdown",
   "metadata": {},
   "source": [
    "# Desafio técnico *Linear Engenharia TI*\n",
    "<hr>\n",
    "<font size=2>Autor: <a href='https://github.com/baiochi'>João Baiochi  "
   ]
  },
  {
   "cell_type": "markdown",
   "metadata": {},
   "source": [
    "# Workflow  \n",
    "\n",
    "1. [Descrição do desafio](#item1)  \n",
    "2. [Bibliotecas e APIs  ](#item2)  \n",
    "> Descrição das bibliotecas utilizadas na exploração e análise dos dados.\n",
    "3. [Leitura dos dados](#item3)  \n",
    "> Carregando o arquivo e viualizando a estrutura dos dados.\n",
    "4. [Descrição das *features*](#item4)  \n",
    "> Entender qual o significado das features e labels para melhor contextualizar o problema,  \n",
    "Definir as perguntas.\n",
    "5. [Tratamento dos dados](#item5)  \n",
    "> Organização dos dataframes,  \n",
    "Atribuição dos tipos corretos,  \n",
    "Tratamento de dados faltantes.  \n",
    "6. [Análise dos dados](#item6)   \n",
    "> Distribuição das features,\n",
    "Responder as perguntas geradas.\n",
    "7. [Apresentação com *Dashboards* ](#item7)  \n",
    "> Cloud deployment com o *Streamlit*.  \n",
    "8. [Possíveis aplicações de ML](#item8)  \n",
    "> Algumas abordagens de Machine Learning que possam ser utilizadas.  "
   ]
  },
  {
   "cell_type": "markdown",
   "metadata": {},
   "source": [
    "# 1. <span id='item1'>Descrição do desafio"
   ]
  },
  {
   "cell_type": "markdown",
   "metadata": {},
   "source": [
    "- Analisar o arquivo json referente as faturas e contas de energia.\n",
    "- Observar como os dados estão estruturados.\n",
    "- Fazer a limpeza e organização dos dados.\n",
    "- Analisar e levantar questão a respeito de quais problemas podemos solucionar."
   ]
  },
  {
   "cell_type": "markdown",
   "metadata": {},
   "source": [
    "# 2. <span id='item2'>Bibliotecas e APIs"
   ]
  },
  {
   "cell_type": "code",
   "execution_count": 48,
   "metadata": {},
   "outputs": [
    {
     "data": {
      "text/html": [
       "<details>\n",
       "<summary>Click to view session information</summary>\n",
       "<pre>\n",
       "-----\n",
       "numpy               1.21.5\n",
       "pandas              1.4.2\n",
       "plotly              5.6.0\n",
       "session_info        1.0.0\n",
       "-----\n",
       "</pre>\n",
       "<details>\n",
       "<summary>Click to view modules imported as dependencies</summary>\n",
       "<pre>\n",
       "PIL                         9.0.1\n",
       "PyObjCTools                 NA\n",
       "appnope                     0.1.2\n",
       "asttokens                   NA\n",
       "attr                        20.3.0\n",
       "backcall                    0.2.0\n",
       "bottleneck                  1.3.4\n",
       "cffi                        1.15.0\n",
       "cloudpickle                 2.0.0\n",
       "colorama                    0.4.4\n",
       "cython_runtime              NA\n",
       "dateutil                    2.8.2\n",
       "debugpy                     1.5.1\n",
       "decorator                   5.1.1\n",
       "defusedxml                  0.7.1\n",
       "executing                   0.8.3\n",
       "fastjsonschema              NA\n",
       "google                      NA\n",
       "idna                        3.3\n",
       "importlib_metadata          NA\n",
       "ipykernel                   6.9.1\n",
       "ipython_genutils            0.2.0\n",
       "jedi                        0.18.1\n",
       "jsonschema                  4.5.1\n",
       "jupyter_server              1.13.5\n",
       "mkl                         2.4.0\n",
       "mpl_toolkits                NA\n",
       "nbformat                    5.3.0\n",
       "numexpr                     2.8.1\n",
       "orjson                      3.7.2\n",
       "packaging                   21.3\n",
       "parso                       0.8.3\n",
       "pexpect                     4.8.0\n",
       "pickle5                     NA\n",
       "pickleshare                 0.7.5\n",
       "pkg_resources               NA\n",
       "prompt_toolkit              3.0.20\n",
       "psutil                      5.9.1\n",
       "ptyprocess                  0.7.0\n",
       "pure_eval                   0.2.2\n",
       "pvectorc                    NA\n",
       "pyarrow                     7.0.0\n",
       "pydev_ipython               NA\n",
       "pydevconsole                NA\n",
       "pydevd                      2.6.0\n",
       "pydevd_concurrency_analyser NA\n",
       "pydevd_file_utils           NA\n",
       "pydevd_plugins              NA\n",
       "pydevd_tracing              NA\n",
       "pygments                    2.12.0\n",
       "pyrsistent                  NA\n",
       "pytz                        2022.1\n",
       "setuptools                  61.2.0\n",
       "six                         1.16.0\n",
       "sphinxcontrib               NA\n",
       "stack_data                  0.2.0\n",
       "tenacity                    NA\n",
       "tornado                     6.1\n",
       "traitlets                   5.1.1\n",
       "typing_extensions           NA\n",
       "utils                       NA\n",
       "wcwidth                     0.2.5\n",
       "zipp                        NA\n",
       "zmq                         22.3.0\n",
       "zoneinfo                    NA\n",
       "zope                        NA\n",
       "</pre>\n",
       "</details> <!-- seems like this ends pre, so might as well be explicit -->\n",
       "<pre>\n",
       "-----\n",
       "IPython             8.3.0\n",
       "jupyter_client      6.1.12\n",
       "jupyter_core        4.10.0\n",
       "jupyterlab          3.3.2\n",
       "notebook            6.4.11\n",
       "-----\n",
       "Python 3.9.12 (main, Apr  5 2022, 01:53:17) [Clang 12.0.0 ]\n",
       "macOS-10.15.7-x86_64-i386-64bit\n",
       "-----\n",
       "Session information updated at 2022-07-06 14:05\n",
       "</pre>\n",
       "</details>"
      ],
      "text/plain": [
       "<IPython.core.display.HTML object>"
      ]
     },
     "execution_count": 48,
     "metadata": {},
     "output_type": "execute_result"
    }
   ],
   "source": [
    "# Leitura de arquivos .json\n",
    "import json\n",
    "# Operações matemáticas\n",
    "import numpy as np\n",
    "# Operações com regex\n",
    "import re\n",
    "# Leitura e manipulação de dados\n",
    "import pandas as pd\n",
    "# Visualização interativa dos dados\n",
    "import plotly.express as px\n",
    "# Customizações para visualização os dados\n",
    "from utils.urban_layout import CATEGORICAL_GROUPS, LAYOUT_SPECS, SHADES\n",
    "# Sumário das bibliotecas e ambiente utilizado na análise\n",
    "import session_info\n",
    "session_info.show()"
   ]
  },
  {
   "cell_type": "code",
   "execution_count": 3,
   "metadata": {},
   "outputs": [],
   "source": [
    "# Remove o limite de colunas a serem mostradas\n",
    "pd.set_option('display.max_columns', None)"
   ]
  },
  {
   "cell_type": "markdown",
   "metadata": {},
   "source": [
    "# 3. <span id='item3'>Leitura dos dados"
   ]
  },
  {
   "cell_type": "markdown",
   "metadata": {},
   "source": [
    "Para ler os dados, podemos tanto usar a bilioteca `json` ou `pandas`, ambos fornecem meios diferentes para fazer a extração e organização nos dataframes."
   ]
  },
  {
   "cell_type": "code",
   "execution_count": 4,
   "metadata": {},
   "outputs": [],
   "source": [
    "# Carregando com json\n",
    "with open('data/consumo.json', 'r') as file:\n",
    "  json_data = json.load(file)\n",
    "# Carregando com pandas\n",
    "df = pd.read_json('data/consumo.json')\n",
    "\n",
    "# Mantendo uma cópia dos arquivos orginais\n",
    "raw_df = df.copy()\n",
    "raw_json_data = json_data.copy()"
   ]
  },
  {
   "cell_type": "markdown",
   "metadata": {},
   "source": [
    "`pandas` fornece uma rápido sumário dos dados: quais os tipos, se há dados faltantes(null), e quantidade de obervações.  "
   ]
  },
  {
   "cell_type": "code",
   "execution_count": 5,
   "metadata": {},
   "outputs": [
    {
     "name": "stdout",
     "output_type": "stream",
     "text": [
      "<class 'pandas.core.frame.DataFrame'>\n",
      "RangeIndex: 162 entries, 0 to 161\n",
      "Data columns (total 18 columns):\n",
      " #   Column                Non-Null Count  Dtype \n",
      "---  ------                --------------  ----- \n",
      " 0   _id                   162 non-null    object\n",
      " 1   estruturaConsumo      162 non-null    object\n",
      " 2   unique                162 non-null    object\n",
      " 3   cliente               162 non-null    object\n",
      " 4   classe                162 non-null    object\n",
      " 5   ligacao               162 non-null    object\n",
      " 6   referencia            162 non-null    object\n",
      " 7   data_vencimento       162 non-null    object\n",
      " 8   data_emissao          162 non-null    object\n",
      " 9   data_apresentacao     162 non-null    object\n",
      " 10  data_proxima_leitura  162 non-null    object\n",
      " 11  cnpj                  162 non-null    object\n",
      " 12  uc                    162 non-null    object\n",
      " 13  refaturamento         162 non-null    bool  \n",
      " 14  tarifas               162 non-null    object\n",
      " 15  createdAt             162 non-null    object\n",
      " 16  updatedAt             162 non-null    object\n",
      " 17  __v                   162 non-null    int64 \n",
      "dtypes: bool(1), int64(1), object(16)\n",
      "memory usage: 21.8+ KB\n"
     ]
    }
   ],
   "source": [
    "df.info()"
   ]
  },
  {
   "cell_type": "markdown",
   "metadata": {},
   "source": [
    "Também podemos visualizar as 5 primeiras linhas para ver como os dados foram ineridos. "
   ]
  },
  {
   "cell_type": "code",
   "execution_count": 6,
   "metadata": {},
   "outputs": [
    {
     "data": {
      "text/html": [
       "<div>\n",
       "<style scoped>\n",
       "    .dataframe tbody tr th:only-of-type {\n",
       "        vertical-align: middle;\n",
       "    }\n",
       "\n",
       "    .dataframe tbody tr th {\n",
       "        vertical-align: top;\n",
       "    }\n",
       "\n",
       "    .dataframe thead th {\n",
       "        text-align: right;\n",
       "    }\n",
       "</style>\n",
       "<table border=\"1\" class=\"dataframe\">\n",
       "  <thead>\n",
       "    <tr style=\"text-align: right;\">\n",
       "      <th></th>\n",
       "      <th>_id</th>\n",
       "      <th>estruturaConsumo</th>\n",
       "      <th>unique</th>\n",
       "      <th>cliente</th>\n",
       "      <th>classe</th>\n",
       "      <th>ligacao</th>\n",
       "      <th>referencia</th>\n",
       "      <th>data_vencimento</th>\n",
       "      <th>data_emissao</th>\n",
       "      <th>data_apresentacao</th>\n",
       "      <th>data_proxima_leitura</th>\n",
       "      <th>cnpj</th>\n",
       "      <th>uc</th>\n",
       "      <th>refaturamento</th>\n",
       "      <th>tarifas</th>\n",
       "      <th>createdAt</th>\n",
       "      <th>updatedAt</th>\n",
       "      <th>__v</th>\n",
       "    </tr>\n",
       "  </thead>\n",
       "  <tbody>\n",
       "    <tr>\n",
       "      <th>0</th>\n",
       "      <td>{'$oid': '62220ff138b5b03262a806d4'}</td>\n",
       "      <td>{'saldoPonta': '0', 'saldoForaPonta': '0', 'ex...</td>\n",
       "      <td>b45dc7a8-2aa8-4693-a7c2-2260c4f0b642</td>\n",
       "      <td>SUPERMERCADO PAREDAO LTDA</td>\n",
       "      <td>COMERCIAL / OUTROS SERVIÇOS E OUTRAS ATIVIDADES</td>\n",
       "      <td>TRIFASICO</td>\n",
       "      <td>2022-02</td>\n",
       "      <td>2022-04-11</td>\n",
       "      <td>2022-02-26</td>\n",
       "      <td>2022-03-04</td>\n",
       "      <td>2022-03-29</td>\n",
       "      <td>28.847.082/0001-23</td>\n",
       "      <td>6/732146-6</td>\n",
       "      <td>False</td>\n",
       "      <td>[{'cci': '0601', 'descricao': 'CONSUMO EM KWH'...</td>\n",
       "      <td>{'$date': '2022-03-04T13:11:13.417Z'}</td>\n",
       "      <td>{'$date': '2022-03-04T13:11:13.417Z'}</td>\n",
       "      <td>0</td>\n",
       "    </tr>\n",
       "    <tr>\n",
       "      <th>1</th>\n",
       "      <td>{'$oid': '62220ff138b5b03262a806da'}</td>\n",
       "      <td>{'saldoPonta': '0', 'saldoForaPonta': '0', 'ex...</td>\n",
       "      <td>1bcac16e-289a-45c4-8509-f98ad5b66bcb</td>\n",
       "      <td>TELEFONICA BRASIL SA</td>\n",
       "      <td>COMERCIAL / SERVIÇOS DE COMUNICAÇÕES E TELECOM...</td>\n",
       "      <td>TRIFASICO</td>\n",
       "      <td>2022-02</td>\n",
       "      <td>2022-03-15</td>\n",
       "      <td>2022-02-26</td>\n",
       "      <td>2022-03-08</td>\n",
       "      <td>2022-03-29</td>\n",
       "      <td>02.558.157/0001-62</td>\n",
       "      <td>6/2669086-7</td>\n",
       "      <td>False</td>\n",
       "      <td>[{'cci': '0601', 'descricao': 'CONSUMO EM KWH'...</td>\n",
       "      <td>{'$date': '2022-03-04T13:11:13.565Z'}</td>\n",
       "      <td>{'$date': '2022-03-04T13:11:13.565Z'}</td>\n",
       "      <td>0</td>\n",
       "    </tr>\n",
       "    <tr>\n",
       "      <th>2</th>\n",
       "      <td>{'$oid': '62220ff238b5b03262a806e0'}</td>\n",
       "      <td>{'saldoPonta': '0', 'saldoForaPonta': '0', 'ex...</td>\n",
       "      <td>37399592-abd1-4de3-bb28-1b3753caf972</td>\n",
       "      <td>TELEFONICA BRASIL SA</td>\n",
       "      <td>COMERCIAL / SERVIÇOS DE COMUNICAÇÕES E TELECOM...</td>\n",
       "      <td>BIFASICO</td>\n",
       "      <td>2022-02</td>\n",
       "      <td>2022-03-28</td>\n",
       "      <td>2022-02-26</td>\n",
       "      <td>2022-03-11</td>\n",
       "      <td>2022-03-29</td>\n",
       "      <td>02.558.157/0001-62</td>\n",
       "      <td>6/2668744-2</td>\n",
       "      <td>False</td>\n",
       "      <td>[{'cci': '0601', 'descricao': 'CONSUMO EM KWH'...</td>\n",
       "      <td>{'$date': '2022-03-04T13:11:14.121Z'}</td>\n",
       "      <td>{'$date': '2022-03-04T13:11:14.121Z'}</td>\n",
       "      <td>0</td>\n",
       "    </tr>\n",
       "    <tr>\n",
       "      <th>3</th>\n",
       "      <td>{'$oid': '62220ff338b5b03262a806ee'}</td>\n",
       "      <td>{'saldoPonta': '16769', 'saldoForaPonta': '180...</td>\n",
       "      <td>c0185cf7-f793-4c23-a593-b1ec1d41219a</td>\n",
       "      <td>COMERCIAL IOMAR DE ALIMENTOS LTDA EPP</td>\n",
       "      <td>COMERCIAL / COMERCIAL</td>\n",
       "      <td>TRIFASICO</td>\n",
       "      <td>2022-02</td>\n",
       "      <td>2022-04-13</td>\n",
       "      <td>2022-03-02</td>\n",
       "      <td>2022-03-04</td>\n",
       "      <td>2022-03-31</td>\n",
       "      <td>01.436.106/0001-03</td>\n",
       "      <td>6/336632-5</td>\n",
       "      <td>False</td>\n",
       "      <td>[{'cci': '0601', 'descricao': 'CONSUMO EM KWH ...</td>\n",
       "      <td>{'$date': '2022-03-04T13:11:15.541Z'}</td>\n",
       "      <td>{'$date': '2022-03-04T13:11:15.541Z'}</td>\n",
       "      <td>0</td>\n",
       "    </tr>\n",
       "    <tr>\n",
       "      <th>4</th>\n",
       "      <td>{'$oid': '62220ff538b5b03262a80702'}</td>\n",
       "      <td>{'saldoPonta': '222726', 'saldoForaPonta': '24...</td>\n",
       "      <td>161ce259-5c70-4818-b2c5-2eee335e5067</td>\n",
       "      <td>CONSORCIO GERADOR FAZENDA MODELO</td>\n",
       "      <td>COMERCIAL / OUTROS SERVIÇOS E OUTRAS ATIVIDADES</td>\n",
       "      <td>TRIFASICO</td>\n",
       "      <td>2022-03</td>\n",
       "      <td>2022-03-16</td>\n",
       "      <td>2022-03-03</td>\n",
       "      <td>2022-03-09</td>\n",
       "      <td>2022-03-30</td>\n",
       "      <td>33.372.528/0001-40</td>\n",
       "      <td>6/2731936-7</td>\n",
       "      <td>False</td>\n",
       "      <td>[{'cci': '0602', 'descricao': 'DEMANDA POTÊNCI...</td>\n",
       "      <td>{'$date': '2022-03-04T13:11:17.866Z'}</td>\n",
       "      <td>{'$date': '2022-03-04T13:11:17.866Z'}</td>\n",
       "      <td>0</td>\n",
       "    </tr>\n",
       "  </tbody>\n",
       "</table>\n",
       "</div>"
      ],
      "text/plain": [
       "                                    _id  \\\n",
       "0  {'$oid': '62220ff138b5b03262a806d4'}   \n",
       "1  {'$oid': '62220ff138b5b03262a806da'}   \n",
       "2  {'$oid': '62220ff238b5b03262a806e0'}   \n",
       "3  {'$oid': '62220ff338b5b03262a806ee'}   \n",
       "4  {'$oid': '62220ff538b5b03262a80702'}   \n",
       "\n",
       "                                    estruturaConsumo  \\\n",
       "0  {'saldoPonta': '0', 'saldoForaPonta': '0', 'ex...   \n",
       "1  {'saldoPonta': '0', 'saldoForaPonta': '0', 'ex...   \n",
       "2  {'saldoPonta': '0', 'saldoForaPonta': '0', 'ex...   \n",
       "3  {'saldoPonta': '16769', 'saldoForaPonta': '180...   \n",
       "4  {'saldoPonta': '222726', 'saldoForaPonta': '24...   \n",
       "\n",
       "                                 unique  \\\n",
       "0  b45dc7a8-2aa8-4693-a7c2-2260c4f0b642   \n",
       "1  1bcac16e-289a-45c4-8509-f98ad5b66bcb   \n",
       "2  37399592-abd1-4de3-bb28-1b3753caf972   \n",
       "3  c0185cf7-f793-4c23-a593-b1ec1d41219a   \n",
       "4  161ce259-5c70-4818-b2c5-2eee335e5067   \n",
       "\n",
       "                                 cliente  \\\n",
       "0              SUPERMERCADO PAREDAO LTDA   \n",
       "1                   TELEFONICA BRASIL SA   \n",
       "2                   TELEFONICA BRASIL SA   \n",
       "3  COMERCIAL IOMAR DE ALIMENTOS LTDA EPP   \n",
       "4       CONSORCIO GERADOR FAZENDA MODELO   \n",
       "\n",
       "                                              classe    ligacao referencia  \\\n",
       "0    COMERCIAL / OUTROS SERVIÇOS E OUTRAS ATIVIDADES  TRIFASICO    2022-02   \n",
       "1  COMERCIAL / SERVIÇOS DE COMUNICAÇÕES E TELECOM...  TRIFASICO    2022-02   \n",
       "2  COMERCIAL / SERVIÇOS DE COMUNICAÇÕES E TELECOM...   BIFASICO    2022-02   \n",
       "3                              COMERCIAL / COMERCIAL  TRIFASICO    2022-02   \n",
       "4    COMERCIAL / OUTROS SERVIÇOS E OUTRAS ATIVIDADES  TRIFASICO    2022-03   \n",
       "\n",
       "  data_vencimento data_emissao data_apresentacao data_proxima_leitura  \\\n",
       "0      2022-04-11   2022-02-26        2022-03-04           2022-03-29   \n",
       "1      2022-03-15   2022-02-26        2022-03-08           2022-03-29   \n",
       "2      2022-03-28   2022-02-26        2022-03-11           2022-03-29   \n",
       "3      2022-04-13   2022-03-02        2022-03-04           2022-03-31   \n",
       "4      2022-03-16   2022-03-03        2022-03-09           2022-03-30   \n",
       "\n",
       "                 cnpj           uc  refaturamento  \\\n",
       "0  28.847.082/0001-23   6/732146-6          False   \n",
       "1  02.558.157/0001-62  6/2669086-7          False   \n",
       "2  02.558.157/0001-62  6/2668744-2          False   \n",
       "3  01.436.106/0001-03   6/336632-5          False   \n",
       "4  33.372.528/0001-40  6/2731936-7          False   \n",
       "\n",
       "                                             tarifas  \\\n",
       "0  [{'cci': '0601', 'descricao': 'CONSUMO EM KWH'...   \n",
       "1  [{'cci': '0601', 'descricao': 'CONSUMO EM KWH'...   \n",
       "2  [{'cci': '0601', 'descricao': 'CONSUMO EM KWH'...   \n",
       "3  [{'cci': '0601', 'descricao': 'CONSUMO EM KWH ...   \n",
       "4  [{'cci': '0602', 'descricao': 'DEMANDA POTÊNCI...   \n",
       "\n",
       "                               createdAt  \\\n",
       "0  {'$date': '2022-03-04T13:11:13.417Z'}   \n",
       "1  {'$date': '2022-03-04T13:11:13.565Z'}   \n",
       "2  {'$date': '2022-03-04T13:11:14.121Z'}   \n",
       "3  {'$date': '2022-03-04T13:11:15.541Z'}   \n",
       "4  {'$date': '2022-03-04T13:11:17.866Z'}   \n",
       "\n",
       "                               updatedAt  __v  \n",
       "0  {'$date': '2022-03-04T13:11:13.417Z'}    0  \n",
       "1  {'$date': '2022-03-04T13:11:13.565Z'}    0  \n",
       "2  {'$date': '2022-03-04T13:11:14.121Z'}    0  \n",
       "3  {'$date': '2022-03-04T13:11:15.541Z'}    0  \n",
       "4  {'$date': '2022-03-04T13:11:17.866Z'}    0  "
      ]
     },
     "execution_count": 6,
     "metadata": {},
     "output_type": "execute_result"
    }
   ],
   "source": [
    "df.head()"
   ]
  },
  {
   "cell_type": "markdown",
   "metadata": {},
   "source": [
    "De início observa-se que várias colunas não estão num formato adequado, por exemplo as referentes as datas.  \n",
    "Algumas colunas também possuem dataframes aninhados."
   ]
  },
  {
   "cell_type": "code",
   "execution_count": 7,
   "metadata": {},
   "outputs": [
    {
     "data": {
      "text/plain": [
       "['_id', 'estruturaConsumo', 'tarifas', 'createdAt', 'updatedAt']"
      ]
     },
     "execution_count": 7,
     "metadata": {},
     "output_type": "execute_result"
    }
   ],
   "source": [
    "# Verificando quais colunas pertencem ao tipo dicionáro ou lista\n",
    "[column for column in df.columns if isinstance(df[column][0], (dict, list))]"
   ]
  },
  {
   "cell_type": "markdown",
   "metadata": {},
   "source": [
    "As colunas *_id*, *createdAt* e *updatedAt* podem ser normalizadas facilmente uma vez que possuem apenas 1 campo \"chave-valor\". Já as colunas *estruturaConsumo* e *tarifas* precisam ser analisadas com mais atenção, por conterem uma maior quantidade de informação e talvez mais dataframes aninhados."
   ]
  },
  {
   "cell_type": "markdown",
   "metadata": {},
   "source": [
    "## Analisando a coluna *estruturaConsumo*"
   ]
  },
  {
   "cell_type": "code",
   "execution_count": 8,
   "metadata": {},
   "outputs": [
    {
     "name": "stdout",
     "output_type": "stream",
     "text": [
      "saldoPonta         object\n",
      "saldoForaPonta     object\n",
      "expiraForaPonta    object\n",
      "expiraPonta        object\n",
      "saldoAcumulado     object\n",
      "expiraAcumulado    object\n",
      "leituraAnterior    object\n",
      "leituraAtual       object\n",
      "leituras           object\n",
      "dtype: object\n"
     ]
    },
    {
     "data": {
      "text/html": [
       "<div>\n",
       "<style scoped>\n",
       "    .dataframe tbody tr th:only-of-type {\n",
       "        vertical-align: middle;\n",
       "    }\n",
       "\n",
       "    .dataframe tbody tr th {\n",
       "        vertical-align: top;\n",
       "    }\n",
       "\n",
       "    .dataframe thead th {\n",
       "        text-align: right;\n",
       "    }\n",
       "</style>\n",
       "<table border=\"1\" class=\"dataframe\">\n",
       "  <thead>\n",
       "    <tr style=\"text-align: right;\">\n",
       "      <th></th>\n",
       "      <th>saldoPonta</th>\n",
       "      <th>saldoForaPonta</th>\n",
       "      <th>expiraForaPonta</th>\n",
       "      <th>expiraPonta</th>\n",
       "      <th>saldoAcumulado</th>\n",
       "      <th>expiraAcumulado</th>\n",
       "      <th>leituraAnterior</th>\n",
       "      <th>leituraAtual</th>\n",
       "      <th>leituras</th>\n",
       "    </tr>\n",
       "  </thead>\n",
       "  <tbody>\n",
       "    <tr>\n",
       "      <th>0</th>\n",
       "      <td>0</td>\n",
       "      <td>0</td>\n",
       "      <td>0</td>\n",
       "      <td>0</td>\n",
       "      <td>0</td>\n",
       "      <td>0</td>\n",
       "      <td>2022-01-28</td>\n",
       "      <td>2022-02-25</td>\n",
       "      <td>[{'un': 'KWH', 'posto': 'PONTA', 'medido': '24...</td>\n",
       "    </tr>\n",
       "  </tbody>\n",
       "</table>\n",
       "</div>"
      ],
      "text/plain": [
       "  saldoPonta saldoForaPonta expiraForaPonta expiraPonta saldoAcumulado  \\\n",
       "0          0              0               0           0              0   \n",
       "\n",
       "  expiraAcumulado leituraAnterior leituraAtual  \\\n",
       "0               0      2022-01-28   2022-02-25   \n",
       "\n",
       "                                            leituras  \n",
       "0  [{'un': 'KWH', 'posto': 'PONTA', 'medido': '24...  "
      ]
     },
     "execution_count": 8,
     "metadata": {},
     "output_type": "execute_result"
    }
   ],
   "source": [
    "# Achatando os dados dentro da coluna estruturaConsumo\n",
    "estruturaConsumo_df = pd.json_normalize(df['estruturaConsumo'])\n",
    "print(estruturaConsumo_df.dtypes)\n",
    "estruturaConsumo_df.head(1)"
   ]
  },
  {
   "cell_type": "code",
   "execution_count": 9,
   "metadata": {},
   "outputs": [
    {
     "data": {
      "text/plain": [
       "[{'un': 'KWH',\n",
       "  'posto': 'PONTA',\n",
       "  'medido': '24363',\n",
       "  'faturado': '24363',\n",
       "  '_id': {'$oid': '62220ff138b5b03262a806d9'}}]"
      ]
     },
     "execution_count": 9,
     "metadata": {},
     "output_type": "execute_result"
    }
   ],
   "source": [
    "estruturaConsumo_df['leituras'][0]"
   ]
  },
  {
   "cell_type": "markdown",
   "metadata": {},
   "source": [
    "O campo *estruturaConsumo* possuí algumas colunas com valores numéricos, data e uma com lista contendo outros dataframes. Esta é mais uma coluna que iremos normalizar, lembrando que uma observação do campo *estruturaConsumo* pode conter mais de um tipo de leitura.  "
   ]
  },
  {
   "cell_type": "code",
   "execution_count": 10,
   "metadata": {},
   "outputs": [
    {
     "data": {
      "application/vnd.plotly.v1+json": {
       "config": {
        "plotlyServerURL": "https://plot.ly"
       },
       "data": [
        {
         "alignmentgroup": "True",
         "bingroup": "x",
         "hovertemplate": "variable=leituras<br>value=%{x}<br>count=%{y}<extra></extra>",
         "legendgroup": "leituras",
         "marker": {
          "color": "#46ABDB",
          "line": {
           "color": "#0A4C6A",
           "width": 1.5
          },
          "opacity": 0.8,
          "pattern": {
           "shape": ""
          }
         },
         "name": "leituras",
         "offsetgroup": "leituras",
         "orientation": "v",
         "showlegend": true,
         "type": "histogram",
         "x": [
          1,
          1,
          1,
          9,
          4,
          10,
          8,
          1,
          1,
          1,
          1,
          1,
          3,
          2,
          1,
          1,
          1,
          1,
          1,
          1,
          1,
          1,
          10,
          1,
          1,
          1,
          1,
          1,
          1,
          1,
          1,
          1,
          1,
          1,
          1,
          1,
          1,
          1,
          9,
          4,
          1,
          1,
          1,
          1,
          2,
          3,
          1,
          1,
          1,
          1,
          1,
          1,
          1,
          1,
          1,
          1,
          1,
          10,
          1,
          1,
          1,
          1,
          1,
          1,
          1,
          1,
          1,
          1,
          1,
          1,
          1,
          1,
          1,
          1,
          9,
          1,
          1,
          1,
          1,
          4,
          1,
          1,
          1,
          1,
          1,
          1,
          1,
          2,
          1,
          1,
          1,
          1,
          2,
          1,
          1,
          1,
          1,
          2,
          1,
          1,
          1,
          1,
          1,
          1,
          1,
          2,
          1,
          1,
          1,
          1,
          1,
          8,
          8,
          5,
          3,
          5,
          3,
          3,
          4,
          6,
          3,
          5,
          3,
          3,
          3,
          3,
          5,
          4,
          2,
          2,
          1,
          6,
          3,
          4,
          4,
          4,
          4,
          1,
          2,
          1,
          1,
          1,
          6,
          10,
          9,
          6,
          8,
          1,
          2,
          1,
          1,
          1,
          1,
          1,
          10,
          1,
          1,
          1,
          1,
          1,
          1,
          1
         ],
         "xaxis": "x",
         "yaxis": "y"
        }
       ],
       "layout": {
        "barmode": "relative",
        "hoverlabel": {
         "font": {
          "family": "Lato-Regular",
          "size": 14
         }
        },
        "legend": {
         "font": {
          "color": "#000000",
          "family": "Lato-Regular",
          "size": 13
         },
         "title": {
          "font": {
           "color": "#000000",
           "family": "Lato-Bold",
           "size": 14
          },
          "text": "variable"
         },
         "tracegroupgap": 0
        },
        "showlegend": false,
        "template": {
         "data": {
          "bar": [
           {
            "error_x": {
             "color": "#2a3f5f"
            },
            "error_y": {
             "color": "#2a3f5f"
            },
            "marker": {
             "line": {
              "color": "#E5ECF6",
              "width": 0.5
             },
             "pattern": {
              "fillmode": "overlay",
              "size": 10,
              "solidity": 0.2
             }
            },
            "type": "bar"
           }
          ],
          "barpolar": [
           {
            "marker": {
             "line": {
              "color": "#E5ECF6",
              "width": 0.5
             },
             "pattern": {
              "fillmode": "overlay",
              "size": 10,
              "solidity": 0.2
             }
            },
            "type": "barpolar"
           }
          ],
          "carpet": [
           {
            "aaxis": {
             "endlinecolor": "#2a3f5f",
             "gridcolor": "white",
             "linecolor": "white",
             "minorgridcolor": "white",
             "startlinecolor": "#2a3f5f"
            },
            "baxis": {
             "endlinecolor": "#2a3f5f",
             "gridcolor": "white",
             "linecolor": "white",
             "minorgridcolor": "white",
             "startlinecolor": "#2a3f5f"
            },
            "type": "carpet"
           }
          ],
          "choropleth": [
           {
            "colorbar": {
             "outlinewidth": 0,
             "ticks": ""
            },
            "type": "choropleth"
           }
          ],
          "contour": [
           {
            "colorbar": {
             "outlinewidth": 0,
             "ticks": ""
            },
            "colorscale": [
             [
              0,
              "#0d0887"
             ],
             [
              0.1111111111111111,
              "#46039f"
             ],
             [
              0.2222222222222222,
              "#7201a8"
             ],
             [
              0.3333333333333333,
              "#9c179e"
             ],
             [
              0.4444444444444444,
              "#bd3786"
             ],
             [
              0.5555555555555556,
              "#d8576b"
             ],
             [
              0.6666666666666666,
              "#ed7953"
             ],
             [
              0.7777777777777778,
              "#fb9f3a"
             ],
             [
              0.8888888888888888,
              "#fdca26"
             ],
             [
              1,
              "#f0f921"
             ]
            ],
            "type": "contour"
           }
          ],
          "contourcarpet": [
           {
            "colorbar": {
             "outlinewidth": 0,
             "ticks": ""
            },
            "type": "contourcarpet"
           }
          ],
          "heatmap": [
           {
            "colorbar": {
             "outlinewidth": 0,
             "ticks": ""
            },
            "colorscale": [
             [
              0,
              "#0d0887"
             ],
             [
              0.1111111111111111,
              "#46039f"
             ],
             [
              0.2222222222222222,
              "#7201a8"
             ],
             [
              0.3333333333333333,
              "#9c179e"
             ],
             [
              0.4444444444444444,
              "#bd3786"
             ],
             [
              0.5555555555555556,
              "#d8576b"
             ],
             [
              0.6666666666666666,
              "#ed7953"
             ],
             [
              0.7777777777777778,
              "#fb9f3a"
             ],
             [
              0.8888888888888888,
              "#fdca26"
             ],
             [
              1,
              "#f0f921"
             ]
            ],
            "type": "heatmap"
           }
          ],
          "heatmapgl": [
           {
            "colorbar": {
             "outlinewidth": 0,
             "ticks": ""
            },
            "colorscale": [
             [
              0,
              "#0d0887"
             ],
             [
              0.1111111111111111,
              "#46039f"
             ],
             [
              0.2222222222222222,
              "#7201a8"
             ],
             [
              0.3333333333333333,
              "#9c179e"
             ],
             [
              0.4444444444444444,
              "#bd3786"
             ],
             [
              0.5555555555555556,
              "#d8576b"
             ],
             [
              0.6666666666666666,
              "#ed7953"
             ],
             [
              0.7777777777777778,
              "#fb9f3a"
             ],
             [
              0.8888888888888888,
              "#fdca26"
             ],
             [
              1,
              "#f0f921"
             ]
            ],
            "type": "heatmapgl"
           }
          ],
          "histogram": [
           {
            "marker": {
             "pattern": {
              "fillmode": "overlay",
              "size": 10,
              "solidity": 0.2
             }
            },
            "type": "histogram"
           }
          ],
          "histogram2d": [
           {
            "colorbar": {
             "outlinewidth": 0,
             "ticks": ""
            },
            "colorscale": [
             [
              0,
              "#0d0887"
             ],
             [
              0.1111111111111111,
              "#46039f"
             ],
             [
              0.2222222222222222,
              "#7201a8"
             ],
             [
              0.3333333333333333,
              "#9c179e"
             ],
             [
              0.4444444444444444,
              "#bd3786"
             ],
             [
              0.5555555555555556,
              "#d8576b"
             ],
             [
              0.6666666666666666,
              "#ed7953"
             ],
             [
              0.7777777777777778,
              "#fb9f3a"
             ],
             [
              0.8888888888888888,
              "#fdca26"
             ],
             [
              1,
              "#f0f921"
             ]
            ],
            "type": "histogram2d"
           }
          ],
          "histogram2dcontour": [
           {
            "colorbar": {
             "outlinewidth": 0,
             "ticks": ""
            },
            "colorscale": [
             [
              0,
              "#0d0887"
             ],
             [
              0.1111111111111111,
              "#46039f"
             ],
             [
              0.2222222222222222,
              "#7201a8"
             ],
             [
              0.3333333333333333,
              "#9c179e"
             ],
             [
              0.4444444444444444,
              "#bd3786"
             ],
             [
              0.5555555555555556,
              "#d8576b"
             ],
             [
              0.6666666666666666,
              "#ed7953"
             ],
             [
              0.7777777777777778,
              "#fb9f3a"
             ],
             [
              0.8888888888888888,
              "#fdca26"
             ],
             [
              1,
              "#f0f921"
             ]
            ],
            "type": "histogram2dcontour"
           }
          ],
          "mesh3d": [
           {
            "colorbar": {
             "outlinewidth": 0,
             "ticks": ""
            },
            "type": "mesh3d"
           }
          ],
          "parcoords": [
           {
            "line": {
             "colorbar": {
              "outlinewidth": 0,
              "ticks": ""
             }
            },
            "type": "parcoords"
           }
          ],
          "pie": [
           {
            "automargin": true,
            "type": "pie"
           }
          ],
          "scatter": [
           {
            "marker": {
             "colorbar": {
              "outlinewidth": 0,
              "ticks": ""
             }
            },
            "type": "scatter"
           }
          ],
          "scatter3d": [
           {
            "line": {
             "colorbar": {
              "outlinewidth": 0,
              "ticks": ""
             }
            },
            "marker": {
             "colorbar": {
              "outlinewidth": 0,
              "ticks": ""
             }
            },
            "type": "scatter3d"
           }
          ],
          "scattercarpet": [
           {
            "marker": {
             "colorbar": {
              "outlinewidth": 0,
              "ticks": ""
             }
            },
            "type": "scattercarpet"
           }
          ],
          "scattergeo": [
           {
            "marker": {
             "colorbar": {
              "outlinewidth": 0,
              "ticks": ""
             }
            },
            "type": "scattergeo"
           }
          ],
          "scattergl": [
           {
            "marker": {
             "colorbar": {
              "outlinewidth": 0,
              "ticks": ""
             }
            },
            "type": "scattergl"
           }
          ],
          "scattermapbox": [
           {
            "marker": {
             "colorbar": {
              "outlinewidth": 0,
              "ticks": ""
             }
            },
            "type": "scattermapbox"
           }
          ],
          "scatterpolar": [
           {
            "marker": {
             "colorbar": {
              "outlinewidth": 0,
              "ticks": ""
             }
            },
            "type": "scatterpolar"
           }
          ],
          "scatterpolargl": [
           {
            "marker": {
             "colorbar": {
              "outlinewidth": 0,
              "ticks": ""
             }
            },
            "type": "scatterpolargl"
           }
          ],
          "scatterternary": [
           {
            "marker": {
             "colorbar": {
              "outlinewidth": 0,
              "ticks": ""
             }
            },
            "type": "scatterternary"
           }
          ],
          "surface": [
           {
            "colorbar": {
             "outlinewidth": 0,
             "ticks": ""
            },
            "colorscale": [
             [
              0,
              "#0d0887"
             ],
             [
              0.1111111111111111,
              "#46039f"
             ],
             [
              0.2222222222222222,
              "#7201a8"
             ],
             [
              0.3333333333333333,
              "#9c179e"
             ],
             [
              0.4444444444444444,
              "#bd3786"
             ],
             [
              0.5555555555555556,
              "#d8576b"
             ],
             [
              0.6666666666666666,
              "#ed7953"
             ],
             [
              0.7777777777777778,
              "#fb9f3a"
             ],
             [
              0.8888888888888888,
              "#fdca26"
             ],
             [
              1,
              "#f0f921"
             ]
            ],
            "type": "surface"
           }
          ],
          "table": [
           {
            "cells": {
             "fill": {
              "color": "#EBF0F8"
             },
             "line": {
              "color": "white"
             }
            },
            "header": {
             "fill": {
              "color": "#C8D4E3"
             },
             "line": {
              "color": "white"
             }
            },
            "type": "table"
           }
          ]
         },
         "layout": {
          "annotationdefaults": {
           "arrowcolor": "#2a3f5f",
           "arrowhead": 0,
           "arrowwidth": 1
          },
          "autotypenumbers": "strict",
          "coloraxis": {
           "colorbar": {
            "outlinewidth": 0,
            "ticks": ""
           }
          },
          "colorscale": {
           "diverging": [
            [
             0,
             "#8e0152"
            ],
            [
             0.1,
             "#c51b7d"
            ],
            [
             0.2,
             "#de77ae"
            ],
            [
             0.3,
             "#f1b6da"
            ],
            [
             0.4,
             "#fde0ef"
            ],
            [
             0.5,
             "#f7f7f7"
            ],
            [
             0.6,
             "#e6f5d0"
            ],
            [
             0.7,
             "#b8e186"
            ],
            [
             0.8,
             "#7fbc41"
            ],
            [
             0.9,
             "#4d9221"
            ],
            [
             1,
             "#276419"
            ]
           ],
           "sequential": [
            [
             0,
             "#0d0887"
            ],
            [
             0.1111111111111111,
             "#46039f"
            ],
            [
             0.2222222222222222,
             "#7201a8"
            ],
            [
             0.3333333333333333,
             "#9c179e"
            ],
            [
             0.4444444444444444,
             "#bd3786"
            ],
            [
             0.5555555555555556,
             "#d8576b"
            ],
            [
             0.6666666666666666,
             "#ed7953"
            ],
            [
             0.7777777777777778,
             "#fb9f3a"
            ],
            [
             0.8888888888888888,
             "#fdca26"
            ],
            [
             1,
             "#f0f921"
            ]
           ],
           "sequentialminus": [
            [
             0,
             "#0d0887"
            ],
            [
             0.1111111111111111,
             "#46039f"
            ],
            [
             0.2222222222222222,
             "#7201a8"
            ],
            [
             0.3333333333333333,
             "#9c179e"
            ],
            [
             0.4444444444444444,
             "#bd3786"
            ],
            [
             0.5555555555555556,
             "#d8576b"
            ],
            [
             0.6666666666666666,
             "#ed7953"
            ],
            [
             0.7777777777777778,
             "#fb9f3a"
            ],
            [
             0.8888888888888888,
             "#fdca26"
            ],
            [
             1,
             "#f0f921"
            ]
           ]
          },
          "colorway": [
           "#636efa",
           "#EF553B",
           "#00cc96",
           "#ab63fa",
           "#FFA15A",
           "#19d3f3",
           "#FF6692",
           "#B6E880",
           "#FF97FF",
           "#FECB52"
          ],
          "font": {
           "color": "#2a3f5f"
          },
          "geo": {
           "bgcolor": "white",
           "lakecolor": "white",
           "landcolor": "#E5ECF6",
           "showlakes": true,
           "showland": true,
           "subunitcolor": "white"
          },
          "hoverlabel": {
           "align": "left"
          },
          "hovermode": "closest",
          "mapbox": {
           "style": "light"
          },
          "paper_bgcolor": "white",
          "plot_bgcolor": "#E5ECF6",
          "polar": {
           "angularaxis": {
            "gridcolor": "white",
            "linecolor": "white",
            "ticks": ""
           },
           "bgcolor": "#E5ECF6",
           "radialaxis": {
            "gridcolor": "white",
            "linecolor": "white",
            "ticks": ""
           }
          },
          "scene": {
           "xaxis": {
            "backgroundcolor": "#E5ECF6",
            "gridcolor": "white",
            "gridwidth": 2,
            "linecolor": "white",
            "showbackground": true,
            "ticks": "",
            "zerolinecolor": "white"
           },
           "yaxis": {
            "backgroundcolor": "#E5ECF6",
            "gridcolor": "white",
            "gridwidth": 2,
            "linecolor": "white",
            "showbackground": true,
            "ticks": "",
            "zerolinecolor": "white"
           },
           "zaxis": {
            "backgroundcolor": "#E5ECF6",
            "gridcolor": "white",
            "gridwidth": 2,
            "linecolor": "white",
            "showbackground": true,
            "ticks": "",
            "zerolinecolor": "white"
           }
          },
          "shapedefaults": {
           "line": {
            "color": "#2a3f5f"
           }
          },
          "ternary": {
           "aaxis": {
            "gridcolor": "white",
            "linecolor": "white",
            "ticks": ""
           },
           "baxis": {
            "gridcolor": "white",
            "linecolor": "white",
            "ticks": ""
           },
           "bgcolor": "#E5ECF6",
           "caxis": {
            "gridcolor": "white",
            "linecolor": "white",
            "ticks": ""
           }
          },
          "title": {
           "x": 0.05
          },
          "xaxis": {
           "automargin": true,
           "gridcolor": "white",
           "linecolor": "white",
           "ticks": "",
           "title": {
            "standoff": 15
           },
           "zerolinecolor": "white",
           "zerolinewidth": 2
          },
          "yaxis": {
           "automargin": true,
           "gridcolor": "white",
           "linecolor": "white",
           "ticks": "",
           "title": {
            "standoff": 15
           },
           "zerolinecolor": "white",
           "zerolinewidth": 2
          }
         }
        },
        "title": {
         "font": {
          "color": "#000000",
          "family": "Lato-Bold",
          "size": 18
         },
         "text": "Distribuição da quantidade de leituras"
        },
        "width": 800,
        "xaxis": {
         "anchor": "y",
         "domain": [
          0,
          1
         ],
         "tickfont": {
          "color": "#000000",
          "family": "Lato-Regular",
          "size": 12
         },
         "title": {
          "font": {
           "color": "#000000",
           "family": "Lato-Italic",
           "size": 14
          },
          "text": "Número de tarifas"
         }
        },
        "yaxis": {
         "anchor": "x",
         "domain": [
          0,
          1
         ],
         "tickfont": {
          "color": "#000000",
          "family": "Lato-Regular",
          "size": 12
         },
         "title": {
          "font": {
           "color": "#000000",
           "family": "Lato-Italic",
           "size": 14
          },
          "text": "Quantidade"
         }
        }
       }
      }
     },
     "metadata": {},
     "output_type": "display_data"
    }
   ],
   "source": [
    "# Selecionando o dado a ser plotado\n",
    "# Retorna um pd.Series com o tamanho de cada lista por linha\n",
    "plot_data = estruturaConsumo_df['leituras'].apply(lambda x : len(x))\n",
    "\n",
    "#\n",
    "px.histogram(\n",
    "\tdata_frame=plot_data,\t    \t\t\t\t\t# Dado a ser plotado\n",
    "\ttitle='Distribuição da quantidade de leituras',\t# Título do gráfico\n",
    "\twidth=800, opacity=0.8\t\t\t\t\t\t\t# Tamanho e alpha da cor\n",
    ").update_traces(\t\t\t\t\t\t\t\t\t\t\t\n",
    "\tmarker_color=SHADES['CYAN'][3], \t\t\t\t# Customização do layput da barra\t\n",
    "\tmarker_line_color=SHADES['CYAN'][6], \n",
    "\tmarker_line_width=1.5,\n",
    ").update_layout(\n",
    "\tshowlegend=False, \t\t\t\t\t\t\t\t# Esconde a legenda\n",
    "\txaxis_title='Número de tarifas',\t\t\t\t# Renomeia título do eixo x \n",
    "\tyaxis_title='Quantidade',\t\t\t\t\t\t# Renomeia título do eixo y \n",
    "\t**LAYOUT_SPECS\t\t\t\t\t\t\t\t\t# Customizações do layout\n",
    ")"
   ]
  },
  {
   "cell_type": "markdown",
   "metadata": {},
   "source": [
    "Para analisar os campos desta coluna *leituras*, vamos normalizar os dados separadamente."
   ]
  },
  {
   "cell_type": "code",
   "execution_count": 11,
   "metadata": {},
   "outputs": [
    {
     "data": {
      "text/html": [
       "<div>\n",
       "<style scoped>\n",
       "    .dataframe tbody tr th:only-of-type {\n",
       "        vertical-align: middle;\n",
       "    }\n",
       "\n",
       "    .dataframe tbody tr th {\n",
       "        vertical-align: top;\n",
       "    }\n",
       "\n",
       "    .dataframe thead th {\n",
       "        text-align: right;\n",
       "    }\n",
       "</style>\n",
       "<table border=\"1\" class=\"dataframe\">\n",
       "  <thead>\n",
       "    <tr style=\"text-align: right;\">\n",
       "      <th></th>\n",
       "      <th>un</th>\n",
       "      <th>posto</th>\n",
       "      <th>medido</th>\n",
       "      <th>faturado</th>\n",
       "      <th>_id.$oid</th>\n",
       "    </tr>\n",
       "  </thead>\n",
       "  <tbody>\n",
       "    <tr>\n",
       "      <th>0</th>\n",
       "      <td>KWH</td>\n",
       "      <td>PONTA</td>\n",
       "      <td>24363</td>\n",
       "      <td>24363</td>\n",
       "      <td>62220ff138b5b03262a806d9</td>\n",
       "    </tr>\n",
       "    <tr>\n",
       "      <th>1</th>\n",
       "      <td>KWH</td>\n",
       "      <td>PONTA</td>\n",
       "      <td>1005</td>\n",
       "      <td>1005</td>\n",
       "      <td>62220ff138b5b03262a806df</td>\n",
       "    </tr>\n",
       "    <tr>\n",
       "      <th>2</th>\n",
       "      <td>KWH</td>\n",
       "      <td>PONTA</td>\n",
       "      <td>1000</td>\n",
       "      <td>1000</td>\n",
       "      <td>62220ff238b5b03262a806e6</td>\n",
       "    </tr>\n",
       "    <tr>\n",
       "      <th>3</th>\n",
       "      <td>KWH</td>\n",
       "      <td>PONTA</td>\n",
       "      <td>1856.97</td>\n",
       "      <td>1856.97</td>\n",
       "      <td>62220ff338b5b03262a806f8</td>\n",
       "    </tr>\n",
       "    <tr>\n",
       "      <th>4</th>\n",
       "      <td>INJ</td>\n",
       "      <td>PONTA</td>\n",
       "      <td>0</td>\n",
       "      <td>1856.97</td>\n",
       "      <td>62220ff338b5b03262a806f9</td>\n",
       "    </tr>\n",
       "  </tbody>\n",
       "</table>\n",
       "</div>"
      ],
      "text/plain": [
       "    un  posto   medido faturado                  _id.$oid\n",
       "0  KWH  PONTA    24363    24363  62220ff138b5b03262a806d9\n",
       "1  KWH  PONTA     1005     1005  62220ff138b5b03262a806df\n",
       "2  KWH  PONTA     1000     1000  62220ff238b5b03262a806e6\n",
       "3  KWH  PONTA  1856.97  1856.97  62220ff338b5b03262a806f8\n",
       "4  INJ  PONTA        0  1856.97  62220ff338b5b03262a806f9"
      ]
     },
     "execution_count": 11,
     "metadata": {},
     "output_type": "execute_result"
    }
   ],
   "source": [
    "leituras_df = pd.json_normalize(\n",
    "\tdf['estruturaConsumo'], \n",
    "\trecord_path=['leituras']\n",
    ")\n",
    "leituras_df.head()"
   ]
  },
  {
   "cell_type": "code",
   "execution_count": 12,
   "metadata": {},
   "outputs": [
    {
     "name": "stdout",
     "output_type": "stream",
     "text": [
      "Labels da coluna \"un\": ['KWH' 'INJ' 'KW' 'ERE' 'DRE' 'KVA' 'ULTP']\n",
      "Labels da coluna \"posto\": ['PONTA' 'FPONTA']\n"
     ]
    }
   ],
   "source": [
    "for coluna in ['un', 'posto']:\n",
    "\tprint(f'Labels da coluna \"{coluna}\": {leituras_df[coluna].unique()}')"
   ]
  },
  {
   "cell_type": "markdown",
   "metadata": {},
   "source": [
    "Por enquanto concluímos quais *features* e *labels* devemos pesquisar para entender melhor o contexto."
   ]
  },
  {
   "cell_type": "markdown",
   "metadata": {},
   "source": [
    "## Analisando a coluna *tarifas*"
   ]
  },
  {
   "cell_type": "code",
   "execution_count": 13,
   "metadata": {},
   "outputs": [
    {
     "data": {
      "text/plain": [
       "0    [{'cci': '0601', 'descricao': 'CONSUMO EM KWH'...\n",
       "1    [{'cci': '0601', 'descricao': 'CONSUMO EM KWH'...\n",
       "2    [{'cci': '0601', 'descricao': 'CONSUMO EM KWH'...\n",
       "3    [{'cci': '0601', 'descricao': 'CONSUMO EM KWH ...\n",
       "4    [{'cci': '0602', 'descricao': 'DEMANDA POTÊNCI...\n",
       "Name: tarifas, dtype: object"
      ]
     },
     "execution_count": 13,
     "metadata": {},
     "output_type": "execute_result"
    }
   ],
   "source": [
    "df['tarifas'][:5]"
   ]
  },
  {
   "cell_type": "markdown",
   "metadata": {},
   "source": [
    "Esta coluna já se difere por ser uma lista contendo mais de um dataframe. Vamos aplicar o gráfico usado anteriormente para visualizar a distribuição do número de tarifas."
   ]
  },
  {
   "cell_type": "code",
   "execution_count": 14,
   "metadata": {},
   "outputs": [
    {
     "data": {
      "application/vnd.plotly.v1+json": {
       "config": {
        "plotlyServerURL": "https://plot.ly"
       },
       "data": [
        {
         "alignmentgroup": "True",
         "bingroup": "x",
         "hovertemplate": "variable=tarifas<br>value=%{x}<br>count=%{y}<extra></extra>",
         "legendgroup": "tarifas",
         "marker": {
          "color": "#FCCB41",
          "line": {
           "color": "#CA5800",
           "width": 1.5
          },
          "opacity": 0.8,
          "pattern": {
           "shape": ""
          }
         },
         "name": "tarifas",
         "offsetgroup": "tarifas",
         "orientation": "v",
         "showlegend": true,
         "type": "histogram",
         "x": [
          4,
          4,
          5,
          9,
          2,
          8,
          8,
          5,
          8,
          4,
          4,
          5,
          9,
          5,
          3,
          5,
          5,
          3,
          4,
          3,
          4,
          5,
          13,
          4,
          3,
          4,
          5,
          5,
          5,
          4,
          5,
          4,
          3,
          4,
          5,
          4,
          3,
          4,
          9,
          2,
          8,
          4,
          4,
          5,
          5,
          8,
          3,
          5,
          3,
          4,
          3,
          3,
          4,
          4,
          4,
          4,
          4,
          13,
          5,
          5,
          3,
          5,
          4,
          5,
          4,
          5,
          5,
          5,
          4,
          3,
          6,
          7,
          7,
          7,
          9,
          7,
          10,
          7,
          10,
          2,
          5,
          8,
          5,
          5,
          5,
          5,
          3,
          3,
          3,
          3,
          3,
          5,
          5,
          3,
          5,
          3,
          3,
          3,
          4,
          5,
          3,
          3,
          7,
          3,
          4,
          7,
          8,
          9,
          5,
          5,
          7,
          6,
          9,
          3,
          2,
          5,
          2,
          2,
          2,
          9,
          2,
          8,
          2,
          2,
          2,
          2,
          8,
          7,
          5,
          5,
          5,
          5,
          2,
          8,
          7,
          2,
          2,
          3,
          6,
          4,
          5,
          3,
          3,
          9,
          6,
          6,
          4,
          2,
          3,
          2,
          3,
          4,
          3,
          4,
          14,
          4,
          4,
          3,
          4,
          2,
          3,
          3
         ],
         "xaxis": "x",
         "yaxis": "y"
        }
       ],
       "layout": {
        "barmode": "relative",
        "hoverlabel": {
         "font": {
          "family": "Lato-Regular",
          "size": 14
         }
        },
        "legend": {
         "font": {
          "color": "#000000",
          "family": "Lato-Regular",
          "size": 13
         },
         "title": {
          "font": {
           "color": "#000000",
           "family": "Lato-Bold",
           "size": 14
          },
          "text": "variable"
         },
         "tracegroupgap": 0
        },
        "showlegend": false,
        "template": {
         "data": {
          "bar": [
           {
            "error_x": {
             "color": "#2a3f5f"
            },
            "error_y": {
             "color": "#2a3f5f"
            },
            "marker": {
             "line": {
              "color": "#E5ECF6",
              "width": 0.5
             },
             "pattern": {
              "fillmode": "overlay",
              "size": 10,
              "solidity": 0.2
             }
            },
            "type": "bar"
           }
          ],
          "barpolar": [
           {
            "marker": {
             "line": {
              "color": "#E5ECF6",
              "width": 0.5
             },
             "pattern": {
              "fillmode": "overlay",
              "size": 10,
              "solidity": 0.2
             }
            },
            "type": "barpolar"
           }
          ],
          "carpet": [
           {
            "aaxis": {
             "endlinecolor": "#2a3f5f",
             "gridcolor": "white",
             "linecolor": "white",
             "minorgridcolor": "white",
             "startlinecolor": "#2a3f5f"
            },
            "baxis": {
             "endlinecolor": "#2a3f5f",
             "gridcolor": "white",
             "linecolor": "white",
             "minorgridcolor": "white",
             "startlinecolor": "#2a3f5f"
            },
            "type": "carpet"
           }
          ],
          "choropleth": [
           {
            "colorbar": {
             "outlinewidth": 0,
             "ticks": ""
            },
            "type": "choropleth"
           }
          ],
          "contour": [
           {
            "colorbar": {
             "outlinewidth": 0,
             "ticks": ""
            },
            "colorscale": [
             [
              0,
              "#0d0887"
             ],
             [
              0.1111111111111111,
              "#46039f"
             ],
             [
              0.2222222222222222,
              "#7201a8"
             ],
             [
              0.3333333333333333,
              "#9c179e"
             ],
             [
              0.4444444444444444,
              "#bd3786"
             ],
             [
              0.5555555555555556,
              "#d8576b"
             ],
             [
              0.6666666666666666,
              "#ed7953"
             ],
             [
              0.7777777777777778,
              "#fb9f3a"
             ],
             [
              0.8888888888888888,
              "#fdca26"
             ],
             [
              1,
              "#f0f921"
             ]
            ],
            "type": "contour"
           }
          ],
          "contourcarpet": [
           {
            "colorbar": {
             "outlinewidth": 0,
             "ticks": ""
            },
            "type": "contourcarpet"
           }
          ],
          "heatmap": [
           {
            "colorbar": {
             "outlinewidth": 0,
             "ticks": ""
            },
            "colorscale": [
             [
              0,
              "#0d0887"
             ],
             [
              0.1111111111111111,
              "#46039f"
             ],
             [
              0.2222222222222222,
              "#7201a8"
             ],
             [
              0.3333333333333333,
              "#9c179e"
             ],
             [
              0.4444444444444444,
              "#bd3786"
             ],
             [
              0.5555555555555556,
              "#d8576b"
             ],
             [
              0.6666666666666666,
              "#ed7953"
             ],
             [
              0.7777777777777778,
              "#fb9f3a"
             ],
             [
              0.8888888888888888,
              "#fdca26"
             ],
             [
              1,
              "#f0f921"
             ]
            ],
            "type": "heatmap"
           }
          ],
          "heatmapgl": [
           {
            "colorbar": {
             "outlinewidth": 0,
             "ticks": ""
            },
            "colorscale": [
             [
              0,
              "#0d0887"
             ],
             [
              0.1111111111111111,
              "#46039f"
             ],
             [
              0.2222222222222222,
              "#7201a8"
             ],
             [
              0.3333333333333333,
              "#9c179e"
             ],
             [
              0.4444444444444444,
              "#bd3786"
             ],
             [
              0.5555555555555556,
              "#d8576b"
             ],
             [
              0.6666666666666666,
              "#ed7953"
             ],
             [
              0.7777777777777778,
              "#fb9f3a"
             ],
             [
              0.8888888888888888,
              "#fdca26"
             ],
             [
              1,
              "#f0f921"
             ]
            ],
            "type": "heatmapgl"
           }
          ],
          "histogram": [
           {
            "marker": {
             "pattern": {
              "fillmode": "overlay",
              "size": 10,
              "solidity": 0.2
             }
            },
            "type": "histogram"
           }
          ],
          "histogram2d": [
           {
            "colorbar": {
             "outlinewidth": 0,
             "ticks": ""
            },
            "colorscale": [
             [
              0,
              "#0d0887"
             ],
             [
              0.1111111111111111,
              "#46039f"
             ],
             [
              0.2222222222222222,
              "#7201a8"
             ],
             [
              0.3333333333333333,
              "#9c179e"
             ],
             [
              0.4444444444444444,
              "#bd3786"
             ],
             [
              0.5555555555555556,
              "#d8576b"
             ],
             [
              0.6666666666666666,
              "#ed7953"
             ],
             [
              0.7777777777777778,
              "#fb9f3a"
             ],
             [
              0.8888888888888888,
              "#fdca26"
             ],
             [
              1,
              "#f0f921"
             ]
            ],
            "type": "histogram2d"
           }
          ],
          "histogram2dcontour": [
           {
            "colorbar": {
             "outlinewidth": 0,
             "ticks": ""
            },
            "colorscale": [
             [
              0,
              "#0d0887"
             ],
             [
              0.1111111111111111,
              "#46039f"
             ],
             [
              0.2222222222222222,
              "#7201a8"
             ],
             [
              0.3333333333333333,
              "#9c179e"
             ],
             [
              0.4444444444444444,
              "#bd3786"
             ],
             [
              0.5555555555555556,
              "#d8576b"
             ],
             [
              0.6666666666666666,
              "#ed7953"
             ],
             [
              0.7777777777777778,
              "#fb9f3a"
             ],
             [
              0.8888888888888888,
              "#fdca26"
             ],
             [
              1,
              "#f0f921"
             ]
            ],
            "type": "histogram2dcontour"
           }
          ],
          "mesh3d": [
           {
            "colorbar": {
             "outlinewidth": 0,
             "ticks": ""
            },
            "type": "mesh3d"
           }
          ],
          "parcoords": [
           {
            "line": {
             "colorbar": {
              "outlinewidth": 0,
              "ticks": ""
             }
            },
            "type": "parcoords"
           }
          ],
          "pie": [
           {
            "automargin": true,
            "type": "pie"
           }
          ],
          "scatter": [
           {
            "marker": {
             "colorbar": {
              "outlinewidth": 0,
              "ticks": ""
             }
            },
            "type": "scatter"
           }
          ],
          "scatter3d": [
           {
            "line": {
             "colorbar": {
              "outlinewidth": 0,
              "ticks": ""
             }
            },
            "marker": {
             "colorbar": {
              "outlinewidth": 0,
              "ticks": ""
             }
            },
            "type": "scatter3d"
           }
          ],
          "scattercarpet": [
           {
            "marker": {
             "colorbar": {
              "outlinewidth": 0,
              "ticks": ""
             }
            },
            "type": "scattercarpet"
           }
          ],
          "scattergeo": [
           {
            "marker": {
             "colorbar": {
              "outlinewidth": 0,
              "ticks": ""
             }
            },
            "type": "scattergeo"
           }
          ],
          "scattergl": [
           {
            "marker": {
             "colorbar": {
              "outlinewidth": 0,
              "ticks": ""
             }
            },
            "type": "scattergl"
           }
          ],
          "scattermapbox": [
           {
            "marker": {
             "colorbar": {
              "outlinewidth": 0,
              "ticks": ""
             }
            },
            "type": "scattermapbox"
           }
          ],
          "scatterpolar": [
           {
            "marker": {
             "colorbar": {
              "outlinewidth": 0,
              "ticks": ""
             }
            },
            "type": "scatterpolar"
           }
          ],
          "scatterpolargl": [
           {
            "marker": {
             "colorbar": {
              "outlinewidth": 0,
              "ticks": ""
             }
            },
            "type": "scatterpolargl"
           }
          ],
          "scatterternary": [
           {
            "marker": {
             "colorbar": {
              "outlinewidth": 0,
              "ticks": ""
             }
            },
            "type": "scatterternary"
           }
          ],
          "surface": [
           {
            "colorbar": {
             "outlinewidth": 0,
             "ticks": ""
            },
            "colorscale": [
             [
              0,
              "#0d0887"
             ],
             [
              0.1111111111111111,
              "#46039f"
             ],
             [
              0.2222222222222222,
              "#7201a8"
             ],
             [
              0.3333333333333333,
              "#9c179e"
             ],
             [
              0.4444444444444444,
              "#bd3786"
             ],
             [
              0.5555555555555556,
              "#d8576b"
             ],
             [
              0.6666666666666666,
              "#ed7953"
             ],
             [
              0.7777777777777778,
              "#fb9f3a"
             ],
             [
              0.8888888888888888,
              "#fdca26"
             ],
             [
              1,
              "#f0f921"
             ]
            ],
            "type": "surface"
           }
          ],
          "table": [
           {
            "cells": {
             "fill": {
              "color": "#EBF0F8"
             },
             "line": {
              "color": "white"
             }
            },
            "header": {
             "fill": {
              "color": "#C8D4E3"
             },
             "line": {
              "color": "white"
             }
            },
            "type": "table"
           }
          ]
         },
         "layout": {
          "annotationdefaults": {
           "arrowcolor": "#2a3f5f",
           "arrowhead": 0,
           "arrowwidth": 1
          },
          "autotypenumbers": "strict",
          "coloraxis": {
           "colorbar": {
            "outlinewidth": 0,
            "ticks": ""
           }
          },
          "colorscale": {
           "diverging": [
            [
             0,
             "#8e0152"
            ],
            [
             0.1,
             "#c51b7d"
            ],
            [
             0.2,
             "#de77ae"
            ],
            [
             0.3,
             "#f1b6da"
            ],
            [
             0.4,
             "#fde0ef"
            ],
            [
             0.5,
             "#f7f7f7"
            ],
            [
             0.6,
             "#e6f5d0"
            ],
            [
             0.7,
             "#b8e186"
            ],
            [
             0.8,
             "#7fbc41"
            ],
            [
             0.9,
             "#4d9221"
            ],
            [
             1,
             "#276419"
            ]
           ],
           "sequential": [
            [
             0,
             "#0d0887"
            ],
            [
             0.1111111111111111,
             "#46039f"
            ],
            [
             0.2222222222222222,
             "#7201a8"
            ],
            [
             0.3333333333333333,
             "#9c179e"
            ],
            [
             0.4444444444444444,
             "#bd3786"
            ],
            [
             0.5555555555555556,
             "#d8576b"
            ],
            [
             0.6666666666666666,
             "#ed7953"
            ],
            [
             0.7777777777777778,
             "#fb9f3a"
            ],
            [
             0.8888888888888888,
             "#fdca26"
            ],
            [
             1,
             "#f0f921"
            ]
           ],
           "sequentialminus": [
            [
             0,
             "#0d0887"
            ],
            [
             0.1111111111111111,
             "#46039f"
            ],
            [
             0.2222222222222222,
             "#7201a8"
            ],
            [
             0.3333333333333333,
             "#9c179e"
            ],
            [
             0.4444444444444444,
             "#bd3786"
            ],
            [
             0.5555555555555556,
             "#d8576b"
            ],
            [
             0.6666666666666666,
             "#ed7953"
            ],
            [
             0.7777777777777778,
             "#fb9f3a"
            ],
            [
             0.8888888888888888,
             "#fdca26"
            ],
            [
             1,
             "#f0f921"
            ]
           ]
          },
          "colorway": [
           "#636efa",
           "#EF553B",
           "#00cc96",
           "#ab63fa",
           "#FFA15A",
           "#19d3f3",
           "#FF6692",
           "#B6E880",
           "#FF97FF",
           "#FECB52"
          ],
          "font": {
           "color": "#2a3f5f"
          },
          "geo": {
           "bgcolor": "white",
           "lakecolor": "white",
           "landcolor": "#E5ECF6",
           "showlakes": true,
           "showland": true,
           "subunitcolor": "white"
          },
          "hoverlabel": {
           "align": "left"
          },
          "hovermode": "closest",
          "mapbox": {
           "style": "light"
          },
          "paper_bgcolor": "white",
          "plot_bgcolor": "#E5ECF6",
          "polar": {
           "angularaxis": {
            "gridcolor": "white",
            "linecolor": "white",
            "ticks": ""
           },
           "bgcolor": "#E5ECF6",
           "radialaxis": {
            "gridcolor": "white",
            "linecolor": "white",
            "ticks": ""
           }
          },
          "scene": {
           "xaxis": {
            "backgroundcolor": "#E5ECF6",
            "gridcolor": "white",
            "gridwidth": 2,
            "linecolor": "white",
            "showbackground": true,
            "ticks": "",
            "zerolinecolor": "white"
           },
           "yaxis": {
            "backgroundcolor": "#E5ECF6",
            "gridcolor": "white",
            "gridwidth": 2,
            "linecolor": "white",
            "showbackground": true,
            "ticks": "",
            "zerolinecolor": "white"
           },
           "zaxis": {
            "backgroundcolor": "#E5ECF6",
            "gridcolor": "white",
            "gridwidth": 2,
            "linecolor": "white",
            "showbackground": true,
            "ticks": "",
            "zerolinecolor": "white"
           }
          },
          "shapedefaults": {
           "line": {
            "color": "#2a3f5f"
           }
          },
          "ternary": {
           "aaxis": {
            "gridcolor": "white",
            "linecolor": "white",
            "ticks": ""
           },
           "baxis": {
            "gridcolor": "white",
            "linecolor": "white",
            "ticks": ""
           },
           "bgcolor": "#E5ECF6",
           "caxis": {
            "gridcolor": "white",
            "linecolor": "white",
            "ticks": ""
           }
          },
          "title": {
           "x": 0.05
          },
          "xaxis": {
           "automargin": true,
           "gridcolor": "white",
           "linecolor": "white",
           "ticks": "",
           "title": {
            "standoff": 15
           },
           "zerolinecolor": "white",
           "zerolinewidth": 2
          },
          "yaxis": {
           "automargin": true,
           "gridcolor": "white",
           "linecolor": "white",
           "ticks": "",
           "title": {
            "standoff": 15
           },
           "zerolinecolor": "white",
           "zerolinewidth": 2
          }
         }
        },
        "title": {
         "font": {
          "color": "#000000",
          "family": "Lato-Bold",
          "size": 18
         },
         "text": "Distribuição da quantidade de tarifas"
        },
        "width": 800,
        "xaxis": {
         "anchor": "y",
         "domain": [
          0,
          1
         ],
         "tickfont": {
          "color": "#000000",
          "family": "Lato-Regular",
          "size": 12
         },
         "title": {
          "font": {
           "color": "#000000",
           "family": "Lato-Italic",
           "size": 14
          },
          "text": "Número de tarifas"
         }
        },
        "yaxis": {
         "anchor": "x",
         "domain": [
          0,
          1
         ],
         "tickfont": {
          "color": "#000000",
          "family": "Lato-Regular",
          "size": 12
         },
         "title": {
          "font": {
           "color": "#000000",
           "family": "Lato-Italic",
           "size": 14
          },
          "text": "Quantidade"
         }
        }
       }
      }
     },
     "metadata": {},
     "output_type": "display_data"
    }
   ],
   "source": [
    "# Selecionando o dado a ser plotado\n",
    "# Retorna um pd.Series com o tamanho de cada lista por linha\n",
    "plot_data = df['tarifas'].apply(lambda x : len(x))\n",
    "# Plotando com plotly express\n",
    "px.histogram(\n",
    "\tdata_frame=plot_data,\t    \t\t\t\t\t# Dado a ser plotado\n",
    "\ttitle='Distribuição da quantidade de tarifas',\t# Título do gráfico\n",
    "\twidth=800, opacity=0.8\t\t\t\t\t\t\t# Tamanho e alpha da cor\n",
    ").update_traces(\t\t\t\t\t\t\t\t\t\t\t\n",
    "\tmarker_color=SHADES['YELLOW'][3], \t\t\t\t# Customização do layout da barra\t\n",
    "\tmarker_line_color=SHADES['YELLOW'][6], \n",
    "\tmarker_line_width=1.5,\n",
    ").update_layout(\n",
    "\tshowlegend=False, \t\t\t\t\t\t\t\t# Esconde a legenda\n",
    "\txaxis_title='Número de tarifas',\t\t\t\t# Renomeia título do eixo x \n",
    "\tyaxis_title='Quantidade',\t\t\t\t\t\t# Renomeia título do eixo y \n",
    "\t**LAYOUT_SPECS\t\t\t\t\t\t\t\t\t# Customizações do layout\n",
    ")"
   ]
  },
  {
   "cell_type": "markdown",
   "metadata": {},
   "source": [
    "A distribuição das tarifas é bem diferente das leituras, portanto podemos questionar qual a relação entre elas, ou seja, se o número de tarifas aplicadas tem correlação entre a quantidade de itens medidos na *estruturaConsumo*."
   ]
  },
  {
   "cell_type": "code",
   "execution_count": 15,
   "metadata": {},
   "outputs": [
    {
     "data": {
      "application/vnd.plotly.v1+json": {
       "config": {
        "plotlyServerURL": "https://plot.ly"
       },
       "data": [
        {
         "hovertemplate": "variable=0<br>index=%{x}<br>value=%{y}<extra></extra>",
         "legendgroup": "0",
         "line": {
          "color": "#1696D2",
          "dash": "solid"
         },
         "marker": {
          "symbol": "circle"
         },
         "mode": "lines",
         "name": "0",
         "orientation": "v",
         "showlegend": true,
         "type": "scatter",
         "x": [
          0,
          1,
          2,
          3,
          4,
          5,
          6,
          7,
          8,
          9,
          10,
          11,
          12,
          13,
          14,
          15,
          16,
          17,
          18,
          19,
          20,
          21,
          22,
          23,
          24,
          25,
          26,
          27,
          28,
          29,
          30,
          31,
          32,
          33,
          34,
          35,
          36,
          37,
          38,
          39,
          40,
          41,
          42,
          43,
          44,
          45,
          46,
          47,
          48,
          49,
          50,
          51,
          52,
          53,
          54,
          55,
          56,
          57,
          58,
          59,
          60,
          61,
          62,
          63,
          64,
          65,
          66,
          67,
          68,
          69,
          70,
          71,
          72,
          73,
          74,
          75,
          76,
          77,
          78,
          79,
          80,
          81,
          82,
          83,
          84,
          85,
          86,
          87,
          88,
          89,
          90,
          91,
          92,
          93,
          94,
          95,
          96,
          97,
          98,
          99,
          100,
          101,
          102,
          103,
          104,
          105,
          106,
          107,
          108,
          109,
          110,
          111,
          112,
          113,
          114,
          115,
          116,
          117,
          118,
          119,
          120,
          121,
          122,
          123,
          124,
          125,
          126,
          127,
          128,
          129,
          130,
          131,
          132,
          133,
          134,
          135,
          136,
          137,
          138,
          139,
          140,
          141,
          142,
          143,
          144,
          145,
          146,
          147,
          148,
          149,
          150,
          151,
          152,
          153,
          154,
          155,
          156,
          157,
          158,
          159,
          160,
          161
         ],
         "xaxis": "x",
         "y": [
          3,
          3,
          4,
          0,
          -2,
          -2,
          0,
          4,
          7,
          3,
          3,
          4,
          6,
          3,
          2,
          4,
          4,
          2,
          3,
          2,
          3,
          4,
          3,
          3,
          2,
          3,
          4,
          4,
          4,
          3,
          4,
          3,
          2,
          3,
          4,
          3,
          2,
          3,
          0,
          -2,
          7,
          3,
          3,
          4,
          3,
          5,
          2,
          4,
          2,
          3,
          2,
          2,
          3,
          3,
          3,
          3,
          3,
          3,
          4,
          4,
          2,
          4,
          3,
          4,
          3,
          4,
          4,
          4,
          3,
          2,
          5,
          6,
          6,
          6,
          0,
          6,
          9,
          6,
          9,
          -2,
          4,
          7,
          4,
          4,
          4,
          4,
          2,
          1,
          2,
          2,
          2,
          4,
          3,
          2,
          4,
          2,
          2,
          1,
          3,
          4,
          2,
          2,
          6,
          2,
          3,
          5,
          7,
          8,
          4,
          4,
          6,
          -2,
          1,
          -2,
          -1,
          0,
          -1,
          -1,
          -2,
          3,
          -1,
          3,
          -1,
          -1,
          -1,
          -1,
          3,
          3,
          3,
          3,
          4,
          -1,
          -1,
          4,
          3,
          -2,
          -2,
          2,
          4,
          3,
          4,
          2,
          -3,
          -1,
          -3,
          0,
          -4,
          1,
          1,
          1,
          2,
          3,
          2,
          3,
          4,
          3,
          3,
          2,
          3,
          1,
          2,
          2
         ],
         "yaxis": "y"
        }
       ],
       "layout": {
        "hoverlabel": {
         "font": {
          "family": "Lato-Regular",
          "size": 14
         }
        },
        "legend": {
         "font": {
          "color": "#000000",
          "family": "Lato-Regular",
          "size": 13
         },
         "title": {
          "font": {
           "color": "#000000",
           "family": "Lato-Bold",
           "size": 14
          },
          "text": "variable"
         },
         "tracegroupgap": 0
        },
        "shapes": [
         {
          "line": {
           "color": "#332D2F"
          },
          "type": "line",
          "x0": 0,
          "x1": 160,
          "y0": 0,
          "y1": 0
         }
        ],
        "showlegend": false,
        "template": {
         "data": {
          "bar": [
           {
            "error_x": {
             "color": "#2a3f5f"
            },
            "error_y": {
             "color": "#2a3f5f"
            },
            "marker": {
             "line": {
              "color": "#E5ECF6",
              "width": 0.5
             },
             "pattern": {
              "fillmode": "overlay",
              "size": 10,
              "solidity": 0.2
             }
            },
            "type": "bar"
           }
          ],
          "barpolar": [
           {
            "marker": {
             "line": {
              "color": "#E5ECF6",
              "width": 0.5
             },
             "pattern": {
              "fillmode": "overlay",
              "size": 10,
              "solidity": 0.2
             }
            },
            "type": "barpolar"
           }
          ],
          "carpet": [
           {
            "aaxis": {
             "endlinecolor": "#2a3f5f",
             "gridcolor": "white",
             "linecolor": "white",
             "minorgridcolor": "white",
             "startlinecolor": "#2a3f5f"
            },
            "baxis": {
             "endlinecolor": "#2a3f5f",
             "gridcolor": "white",
             "linecolor": "white",
             "minorgridcolor": "white",
             "startlinecolor": "#2a3f5f"
            },
            "type": "carpet"
           }
          ],
          "choropleth": [
           {
            "colorbar": {
             "outlinewidth": 0,
             "ticks": ""
            },
            "type": "choropleth"
           }
          ],
          "contour": [
           {
            "colorbar": {
             "outlinewidth": 0,
             "ticks": ""
            },
            "colorscale": [
             [
              0,
              "#0d0887"
             ],
             [
              0.1111111111111111,
              "#46039f"
             ],
             [
              0.2222222222222222,
              "#7201a8"
             ],
             [
              0.3333333333333333,
              "#9c179e"
             ],
             [
              0.4444444444444444,
              "#bd3786"
             ],
             [
              0.5555555555555556,
              "#d8576b"
             ],
             [
              0.6666666666666666,
              "#ed7953"
             ],
             [
              0.7777777777777778,
              "#fb9f3a"
             ],
             [
              0.8888888888888888,
              "#fdca26"
             ],
             [
              1,
              "#f0f921"
             ]
            ],
            "type": "contour"
           }
          ],
          "contourcarpet": [
           {
            "colorbar": {
             "outlinewidth": 0,
             "ticks": ""
            },
            "type": "contourcarpet"
           }
          ],
          "heatmap": [
           {
            "colorbar": {
             "outlinewidth": 0,
             "ticks": ""
            },
            "colorscale": [
             [
              0,
              "#0d0887"
             ],
             [
              0.1111111111111111,
              "#46039f"
             ],
             [
              0.2222222222222222,
              "#7201a8"
             ],
             [
              0.3333333333333333,
              "#9c179e"
             ],
             [
              0.4444444444444444,
              "#bd3786"
             ],
             [
              0.5555555555555556,
              "#d8576b"
             ],
             [
              0.6666666666666666,
              "#ed7953"
             ],
             [
              0.7777777777777778,
              "#fb9f3a"
             ],
             [
              0.8888888888888888,
              "#fdca26"
             ],
             [
              1,
              "#f0f921"
             ]
            ],
            "type": "heatmap"
           }
          ],
          "heatmapgl": [
           {
            "colorbar": {
             "outlinewidth": 0,
             "ticks": ""
            },
            "colorscale": [
             [
              0,
              "#0d0887"
             ],
             [
              0.1111111111111111,
              "#46039f"
             ],
             [
              0.2222222222222222,
              "#7201a8"
             ],
             [
              0.3333333333333333,
              "#9c179e"
             ],
             [
              0.4444444444444444,
              "#bd3786"
             ],
             [
              0.5555555555555556,
              "#d8576b"
             ],
             [
              0.6666666666666666,
              "#ed7953"
             ],
             [
              0.7777777777777778,
              "#fb9f3a"
             ],
             [
              0.8888888888888888,
              "#fdca26"
             ],
             [
              1,
              "#f0f921"
             ]
            ],
            "type": "heatmapgl"
           }
          ],
          "histogram": [
           {
            "marker": {
             "pattern": {
              "fillmode": "overlay",
              "size": 10,
              "solidity": 0.2
             }
            },
            "type": "histogram"
           }
          ],
          "histogram2d": [
           {
            "colorbar": {
             "outlinewidth": 0,
             "ticks": ""
            },
            "colorscale": [
             [
              0,
              "#0d0887"
             ],
             [
              0.1111111111111111,
              "#46039f"
             ],
             [
              0.2222222222222222,
              "#7201a8"
             ],
             [
              0.3333333333333333,
              "#9c179e"
             ],
             [
              0.4444444444444444,
              "#bd3786"
             ],
             [
              0.5555555555555556,
              "#d8576b"
             ],
             [
              0.6666666666666666,
              "#ed7953"
             ],
             [
              0.7777777777777778,
              "#fb9f3a"
             ],
             [
              0.8888888888888888,
              "#fdca26"
             ],
             [
              1,
              "#f0f921"
             ]
            ],
            "type": "histogram2d"
           }
          ],
          "histogram2dcontour": [
           {
            "colorbar": {
             "outlinewidth": 0,
             "ticks": ""
            },
            "colorscale": [
             [
              0,
              "#0d0887"
             ],
             [
              0.1111111111111111,
              "#46039f"
             ],
             [
              0.2222222222222222,
              "#7201a8"
             ],
             [
              0.3333333333333333,
              "#9c179e"
             ],
             [
              0.4444444444444444,
              "#bd3786"
             ],
             [
              0.5555555555555556,
              "#d8576b"
             ],
             [
              0.6666666666666666,
              "#ed7953"
             ],
             [
              0.7777777777777778,
              "#fb9f3a"
             ],
             [
              0.8888888888888888,
              "#fdca26"
             ],
             [
              1,
              "#f0f921"
             ]
            ],
            "type": "histogram2dcontour"
           }
          ],
          "mesh3d": [
           {
            "colorbar": {
             "outlinewidth": 0,
             "ticks": ""
            },
            "type": "mesh3d"
           }
          ],
          "parcoords": [
           {
            "line": {
             "colorbar": {
              "outlinewidth": 0,
              "ticks": ""
             }
            },
            "type": "parcoords"
           }
          ],
          "pie": [
           {
            "automargin": true,
            "type": "pie"
           }
          ],
          "scatter": [
           {
            "marker": {
             "colorbar": {
              "outlinewidth": 0,
              "ticks": ""
             }
            },
            "type": "scatter"
           }
          ],
          "scatter3d": [
           {
            "line": {
             "colorbar": {
              "outlinewidth": 0,
              "ticks": ""
             }
            },
            "marker": {
             "colorbar": {
              "outlinewidth": 0,
              "ticks": ""
             }
            },
            "type": "scatter3d"
           }
          ],
          "scattercarpet": [
           {
            "marker": {
             "colorbar": {
              "outlinewidth": 0,
              "ticks": ""
             }
            },
            "type": "scattercarpet"
           }
          ],
          "scattergeo": [
           {
            "marker": {
             "colorbar": {
              "outlinewidth": 0,
              "ticks": ""
             }
            },
            "type": "scattergeo"
           }
          ],
          "scattergl": [
           {
            "marker": {
             "colorbar": {
              "outlinewidth": 0,
              "ticks": ""
             }
            },
            "type": "scattergl"
           }
          ],
          "scattermapbox": [
           {
            "marker": {
             "colorbar": {
              "outlinewidth": 0,
              "ticks": ""
             }
            },
            "type": "scattermapbox"
           }
          ],
          "scatterpolar": [
           {
            "marker": {
             "colorbar": {
              "outlinewidth": 0,
              "ticks": ""
             }
            },
            "type": "scatterpolar"
           }
          ],
          "scatterpolargl": [
           {
            "marker": {
             "colorbar": {
              "outlinewidth": 0,
              "ticks": ""
             }
            },
            "type": "scatterpolargl"
           }
          ],
          "scatterternary": [
           {
            "marker": {
             "colorbar": {
              "outlinewidth": 0,
              "ticks": ""
             }
            },
            "type": "scatterternary"
           }
          ],
          "surface": [
           {
            "colorbar": {
             "outlinewidth": 0,
             "ticks": ""
            },
            "colorscale": [
             [
              0,
              "#0d0887"
             ],
             [
              0.1111111111111111,
              "#46039f"
             ],
             [
              0.2222222222222222,
              "#7201a8"
             ],
             [
              0.3333333333333333,
              "#9c179e"
             ],
             [
              0.4444444444444444,
              "#bd3786"
             ],
             [
              0.5555555555555556,
              "#d8576b"
             ],
             [
              0.6666666666666666,
              "#ed7953"
             ],
             [
              0.7777777777777778,
              "#fb9f3a"
             ],
             [
              0.8888888888888888,
              "#fdca26"
             ],
             [
              1,
              "#f0f921"
             ]
            ],
            "type": "surface"
           }
          ],
          "table": [
           {
            "cells": {
             "fill": {
              "color": "#EBF0F8"
             },
             "line": {
              "color": "white"
             }
            },
            "header": {
             "fill": {
              "color": "#C8D4E3"
             },
             "line": {
              "color": "white"
             }
            },
            "type": "table"
           }
          ]
         },
         "layout": {
          "annotationdefaults": {
           "arrowcolor": "#2a3f5f",
           "arrowhead": 0,
           "arrowwidth": 1
          },
          "autotypenumbers": "strict",
          "coloraxis": {
           "colorbar": {
            "outlinewidth": 0,
            "ticks": ""
           }
          },
          "colorscale": {
           "diverging": [
            [
             0,
             "#8e0152"
            ],
            [
             0.1,
             "#c51b7d"
            ],
            [
             0.2,
             "#de77ae"
            ],
            [
             0.3,
             "#f1b6da"
            ],
            [
             0.4,
             "#fde0ef"
            ],
            [
             0.5,
             "#f7f7f7"
            ],
            [
             0.6,
             "#e6f5d0"
            ],
            [
             0.7,
             "#b8e186"
            ],
            [
             0.8,
             "#7fbc41"
            ],
            [
             0.9,
             "#4d9221"
            ],
            [
             1,
             "#276419"
            ]
           ],
           "sequential": [
            [
             0,
             "#0d0887"
            ],
            [
             0.1111111111111111,
             "#46039f"
            ],
            [
             0.2222222222222222,
             "#7201a8"
            ],
            [
             0.3333333333333333,
             "#9c179e"
            ],
            [
             0.4444444444444444,
             "#bd3786"
            ],
            [
             0.5555555555555556,
             "#d8576b"
            ],
            [
             0.6666666666666666,
             "#ed7953"
            ],
            [
             0.7777777777777778,
             "#fb9f3a"
            ],
            [
             0.8888888888888888,
             "#fdca26"
            ],
            [
             1,
             "#f0f921"
            ]
           ],
           "sequentialminus": [
            [
             0,
             "#0d0887"
            ],
            [
             0.1111111111111111,
             "#46039f"
            ],
            [
             0.2222222222222222,
             "#7201a8"
            ],
            [
             0.3333333333333333,
             "#9c179e"
            ],
            [
             0.4444444444444444,
             "#bd3786"
            ],
            [
             0.5555555555555556,
             "#d8576b"
            ],
            [
             0.6666666666666666,
             "#ed7953"
            ],
            [
             0.7777777777777778,
             "#fb9f3a"
            ],
            [
             0.8888888888888888,
             "#fdca26"
            ],
            [
             1,
             "#f0f921"
            ]
           ]
          },
          "colorway": [
           "#636efa",
           "#EF553B",
           "#00cc96",
           "#ab63fa",
           "#FFA15A",
           "#19d3f3",
           "#FF6692",
           "#B6E880",
           "#FF97FF",
           "#FECB52"
          ],
          "font": {
           "color": "#2a3f5f"
          },
          "geo": {
           "bgcolor": "white",
           "lakecolor": "white",
           "landcolor": "#E5ECF6",
           "showlakes": true,
           "showland": true,
           "subunitcolor": "white"
          },
          "hoverlabel": {
           "align": "left"
          },
          "hovermode": "closest",
          "mapbox": {
           "style": "light"
          },
          "paper_bgcolor": "white",
          "plot_bgcolor": "#E5ECF6",
          "polar": {
           "angularaxis": {
            "gridcolor": "white",
            "linecolor": "white",
            "ticks": ""
           },
           "bgcolor": "#E5ECF6",
           "radialaxis": {
            "gridcolor": "white",
            "linecolor": "white",
            "ticks": ""
           }
          },
          "scene": {
           "xaxis": {
            "backgroundcolor": "#E5ECF6",
            "gridcolor": "white",
            "gridwidth": 2,
            "linecolor": "white",
            "showbackground": true,
            "ticks": "",
            "zerolinecolor": "white"
           },
           "yaxis": {
            "backgroundcolor": "#E5ECF6",
            "gridcolor": "white",
            "gridwidth": 2,
            "linecolor": "white",
            "showbackground": true,
            "ticks": "",
            "zerolinecolor": "white"
           },
           "zaxis": {
            "backgroundcolor": "#E5ECF6",
            "gridcolor": "white",
            "gridwidth": 2,
            "linecolor": "white",
            "showbackground": true,
            "ticks": "",
            "zerolinecolor": "white"
           }
          },
          "shapedefaults": {
           "line": {
            "color": "#2a3f5f"
           }
          },
          "ternary": {
           "aaxis": {
            "gridcolor": "white",
            "linecolor": "white",
            "ticks": ""
           },
           "baxis": {
            "gridcolor": "white",
            "linecolor": "white",
            "ticks": ""
           },
           "bgcolor": "#E5ECF6",
           "caxis": {
            "gridcolor": "white",
            "linecolor": "white",
            "ticks": ""
           }
          },
          "title": {
           "x": 0.05
          },
          "xaxis": {
           "automargin": true,
           "gridcolor": "white",
           "linecolor": "white",
           "ticks": "",
           "title": {
            "standoff": 15
           },
           "zerolinecolor": "white",
           "zerolinewidth": 2
          },
          "yaxis": {
           "automargin": true,
           "gridcolor": "white",
           "linecolor": "white",
           "ticks": "",
           "title": {
            "standoff": 15
           },
           "zerolinecolor": "white",
           "zerolinewidth": 2
          }
         }
        },
        "title": {
         "font": {
          "color": "#000000",
          "family": "Lato-Bold",
          "size": 18
         },
         "text": "Diferença entre # de tarifas e medições na estruturaConsumo<br>\t<sup>p = 0.4979</sup>"
        },
        "width": 800,
        "xaxis": {
         "anchor": "y",
         "domain": [
          0,
          1
         ],
         "tickfont": {
          "color": "#000000",
          "family": "Lato-Regular",
          "size": 12
         },
         "title": {
          "font": {
           "color": "#000000",
           "family": "Lato-Italic",
           "size": 14
          },
          "text": "Índice da Fatura"
         }
        },
        "yaxis": {
         "anchor": "x",
         "domain": [
          0,
          1
         ],
         "tickfont": {
          "color": "#000000",
          "family": "Lato-Regular",
          "size": 12
         },
         "title": {
          "font": {
           "color": "#000000",
           "family": "Lato-Italic",
           "size": 14
          },
          "text": "Diferença"
         }
        }
       }
      }
     },
     "metadata": {},
     "output_type": "display_data"
    }
   ],
   "source": [
    "# Calculando a diferença entre quantidade de tarifas e quantidade\n",
    "# de medições feitas na estruturaConsumo de uma fatura\n",
    "dist_tarifas = df['tarifas'].apply(lambda x : len(x))\n",
    "dist_leituras = estruturaConsumo_df['leituras'].apply(lambda x : len(x))\n",
    "plot_data = dist_tarifas - dist_leituras\n",
    "p_corr = dist_tarifas.corr(dist_leituras)\n",
    "\n",
    "px.line(\n",
    "\tdata_frame = plot_data,\t\t\t\t\t\t\t# Dado a ser plotado\n",
    "\ttitle=f'Diferença entre # de tarifas\\\n",
    " e medições na estruturaConsumo<br>\\\n",
    "\t<sup>p = {p_corr:.4f}</sup>', \t\t\t\t\t# Título do gráfico\n",
    "\tcolor_discrete_sequence=[SHADES['CYAN'][4]], \t# Cor da linha\n",
    "\twidth=800, \t\t\t\t\t\t\t\t\t \t# Tamanho \n",
    ").add_shape(\n",
    "\ttype='line', x0=0, y0=0, x1=160, y1=0, \t\t\t # Desenha uma linha horizontal\n",
    "\tline_color=SHADES['GRAY'][4]\n",
    ").update_layout(\n",
    "\tshowlegend=False, \t\t\t\t\t\t\t \t # Esconde a legenda\n",
    "\txaxis_title='Índice da Fatura',\t\t\t\t     # Renomeia título do eixo x \n",
    "\tyaxis_title='Diferença',\t\t\t\t\t\t # Renomeia título do eixo y \n",
    "\t**LAYOUT_SPECS\t\t\t\t\t\t\t\t\t # Customizações do layout\n",
    ")"
   ]
  },
  {
   "cell_type": "markdown",
   "metadata": {},
   "source": [
    "Essa diferença possue uma leve correlação positiva, mas em alguns casos há mais quantidades de medições do que tarifas aplicadas na fatura.   \n",
    "  \n",
    "Agora vamos analisar quais os campos da coluna *tarifas*. Neste caso iremos utilizar a normalização através dos dados carregados pela biblioteca `json`"
   ]
  },
  {
   "cell_type": "code",
   "execution_count": 16,
   "metadata": {},
   "outputs": [
    {
     "name": "stdout",
     "output_type": "stream",
     "text": [
      "cci               object\n",
      "descricao         object\n",
      "quantidade       float64\n",
      "semTributos      float64\n",
      "comTributos      float64\n",
      "valorTotal       float64\n",
      "baseIcms         float64\n",
      "aliqIcms         float64\n",
      "icms             float64\n",
      "basePisCofins    float64\n",
      "pis              float64\n",
      "cofins           float64\n",
      "_id.$oid          object\n",
      "dtype: object\n"
     ]
    },
    {
     "data": {
      "text/html": [
       "<div>\n",
       "<style scoped>\n",
       "    .dataframe tbody tr th:only-of-type {\n",
       "        vertical-align: middle;\n",
       "    }\n",
       "\n",
       "    .dataframe tbody tr th {\n",
       "        vertical-align: top;\n",
       "    }\n",
       "\n",
       "    .dataframe thead th {\n",
       "        text-align: right;\n",
       "    }\n",
       "</style>\n",
       "<table border=\"1\" class=\"dataframe\">\n",
       "  <thead>\n",
       "    <tr style=\"text-align: right;\">\n",
       "      <th></th>\n",
       "      <th>cci</th>\n",
       "      <th>descricao</th>\n",
       "      <th>quantidade</th>\n",
       "      <th>semTributos</th>\n",
       "      <th>comTributos</th>\n",
       "      <th>valorTotal</th>\n",
       "      <th>baseIcms</th>\n",
       "      <th>aliqIcms</th>\n",
       "      <th>icms</th>\n",
       "      <th>basePisCofins</th>\n",
       "      <th>pis</th>\n",
       "      <th>cofins</th>\n",
       "      <th>_id.$oid</th>\n",
       "    </tr>\n",
       "  </thead>\n",
       "  <tbody>\n",
       "    <tr>\n",
       "      <th>0</th>\n",
       "      <td>0601</td>\n",
       "      <td>CONSUMO EM KWH</td>\n",
       "      <td>24363.0</td>\n",
       "      <td>0.6835</td>\n",
       "      <td>0.85548</td>\n",
       "      <td>20842.28</td>\n",
       "      <td>20842.28</td>\n",
       "      <td>17.0</td>\n",
       "      <td>3543.18</td>\n",
       "      <td>17299.10</td>\n",
       "      <td>115.40</td>\n",
       "      <td>531.58</td>\n",
       "      <td>62220ff138b5b03262a806d5</td>\n",
       "    </tr>\n",
       "    <tr>\n",
       "      <th>1</th>\n",
       "      <td>0601</td>\n",
       "      <td>ENERGIA ATV INJETADA OUC 02/2022 MPT</td>\n",
       "      <td>12429.0</td>\n",
       "      <td>0.6835</td>\n",
       "      <td>0.76897</td>\n",
       "      <td>-9557.65</td>\n",
       "      <td>-4308.07</td>\n",
       "      <td>17.0</td>\n",
       "      <td>-732.37</td>\n",
       "      <td>-8825.28</td>\n",
       "      <td>-58.87</td>\n",
       "      <td>-271.19</td>\n",
       "      <td>62220ff138b5b03262a806d6</td>\n",
       "    </tr>\n",
       "    <tr>\n",
       "      <th>2</th>\n",
       "      <td>0601</td>\n",
       "      <td>ADIC. B. VERMELHA</td>\n",
       "      <td>0.0</td>\n",
       "      <td>0.0000</td>\n",
       "      <td>0.00000</td>\n",
       "      <td>2121.05</td>\n",
       "      <td>2121.05</td>\n",
       "      <td>17.0</td>\n",
       "      <td>360.58</td>\n",
       "      <td>1760.47</td>\n",
       "      <td>11.74</td>\n",
       "      <td>54.09</td>\n",
       "      <td>62220ff138b5b03262a806d7</td>\n",
       "    </tr>\n",
       "  </tbody>\n",
       "</table>\n",
       "</div>"
      ],
      "text/plain": [
       "    cci                             descricao  quantidade  semTributos  \\\n",
       "0  0601                        CONSUMO EM KWH     24363.0       0.6835   \n",
       "1  0601  ENERGIA ATV INJETADA OUC 02/2022 MPT     12429.0       0.6835   \n",
       "2  0601                     ADIC. B. VERMELHA         0.0       0.0000   \n",
       "\n",
       "   comTributos  valorTotal  baseIcms  aliqIcms     icms  basePisCofins  \\\n",
       "0      0.85548    20842.28  20842.28      17.0  3543.18       17299.10   \n",
       "1      0.76897    -9557.65  -4308.07      17.0  -732.37       -8825.28   \n",
       "2      0.00000     2121.05   2121.05      17.0   360.58        1760.47   \n",
       "\n",
       "      pis  cofins                  _id.$oid  \n",
       "0  115.40  531.58  62220ff138b5b03262a806d5  \n",
       "1  -58.87 -271.19  62220ff138b5b03262a806d6  \n",
       "2   11.74   54.09  62220ff138b5b03262a806d7  "
      ]
     },
     "execution_count": 16,
     "metadata": {},
     "output_type": "execute_result"
    }
   ],
   "source": [
    "# Achatando os dados da coluna tarifas\n",
    "tarifas_df = pd.json_normalize(\n",
    "\tjson_data,\t\t\t\t\t# Dado carregado com json\n",
    "\trecord_path=['tarifas']\t# Caminho com os dados para normalizar\n",
    ")\n",
    "print(tarifas_df.dtypes)\n",
    "tarifas_df.head(3)"
   ]
  },
  {
   "cell_type": "markdown",
   "metadata": {},
   "source": [
    "Desta vez o formato dos arquivos foram carregados corretamente. Por último vamos analisar quais são as categorias para as colunas *cci* e *descricao*.  "
   ]
  },
  {
   "cell_type": "code",
   "execution_count": 17,
   "metadata": {},
   "outputs": [
    {
     "name": "stdout",
     "output_type": "stream",
     "text": [
      "Categorias para cci: ['0601' '0807' '0904' '0602' '0999' '0899' '0603' '0805' '0804' '0610'\n",
      " '0906' '0806']\n"
     ]
    }
   ],
   "source": [
    "print(f\"Categorias para cci: {tarifas_df['cci'].unique()}\")"
   ]
  },
  {
   "cell_type": "code",
   "execution_count": 18,
   "metadata": {},
   "outputs": [
    {
     "name": "stdout",
     "output_type": "stream",
     "text": [
      "Categorias para descricao: ['CONSUMO EM KWH' 'ENERGIA ATV INJETADA OUC 02/2022 MPT'\n",
      " 'ADIC. B. VERMELHA' 'CONTRIB DE ILUM PUB'\n",
      " 'COMPENS. P/INDICADOR-FIC ANUAL 12/2021' 'CONSUMO EM KWH - PONTA'\n",
      " 'ENERGIA ATV INJETADA OUC 2/2022 MPT' 'CONSUMO EM KWH - FORA PONTA'\n",
      " 'ENERGIA REATIVA EXCED EM KWH - FPONTA'\n",
      " 'DEMANDA DE POTÊNCIA MEDIDA - FORA PONTA'\n",
      " 'DEMANDA POTÊNCIA NÃO CONSUMIDA - F PONTA'\n",
      " 'DEV. DE ICMS JUDICIAL ( - ): ISENÇÃO ICMS S/ TUSD'\n",
      " 'ENERGIA REATIVA EXCED EM KWH - PONTA' 'DIF. CUSTO DISP. RES. 482.'\n",
      " 'ENERGIA ATV INJETADA OUC 03/2022 MPT' 'CREDITO ANTERIOR 02/2022'\n",
      " 'DEV. DE ICMS JUDICIAL ( - ) : ISENÇÃO ICMS S/ TUSD'\n",
      " 'DIF.CREDITO A DEVOLVER 03/2022' 'ENERGIA ATV INJETADA MUC 12/2021 MPT'\n",
      " 'ENERGIA ATV INJETADA OUC 3/2022 MPT' 'ENERGIA REATIVA EXCED EM KWH'\n",
      " 'CUSTO DE DISPONIBILIDADE' 'ENERGIA ATV INJETADA MUC 1/2022 MPT'\n",
      " 'DEMANDA DE POTÊNCIA MEDIDA - PONTA'\n",
      " 'DEMANDA POTÊNCIA NÃO CONSUMIDA - PONTA'\n",
      " 'DEMANDA POTÊNCIA REATIVA EXCEDENTE PONTA'\n",
      " 'DEMANDA POTÊNCIA REATIVA EXCED - F PONTA'\n",
      " 'COMPENSACAO POR INDICADOR -DIC 01/2022'\n",
      " 'ENERGIA ATV INJETADA OUC 04/2022 MPT' 'CREDITO ANTERIOR 03/2022'\n",
      " 'DIF.CREDITO A DEVOLVER 04/2022' 'DEV. ICMS JUD. TUSD INJET( - )'\n",
      " 'ENERGIA ATV INJETADA OUC 4/2022 MPT'\n",
      " 'ATUALIZAÇÃO MONET COMP INDIC. 01/2019'\n",
      " 'ATUALIZAÇÃO MONET COMP INDIC. 03/2019' 'CUSTO DE VISTORIA 04/2022'\n",
      " 'ATUALIZAÇÃO MONET COMP INDIC. 10/2019'\n",
      " 'ATUALIZAÇÃO MONET COMP INDIC. 12/2019'\n",
      " 'COMPENSACAO POR INDICADOR -DIC 01/2019' 'MULTA 03/2022'\n",
      " 'JUROS DE MORA 03/2022' 'COMPENSACAO POR INDICADOR -DIC 10/2019'\n",
      " 'COMP. INDICADOR-DIC TRIMESTRAL 03/2019'\n",
      " 'COMPENSACAO POR INDICADOR -DIC 02/2019'\n",
      " 'ATUALIZAÇÃO MONET COMP INDIC. 02/2019'\n",
      " 'ENERGIA ATV INJETADA OUC 05/2022 MPT'\n",
      " 'ENERGIA ATV INJETADA MUC 11/2021 MPT' 'CREDITO ANTERIOR 04/2022'\n",
      " 'ENERGIA ATV INJETADA MUC 04/2022 MPT'\n",
      " 'CUSTO DE EMISSÃO DE 2ª VIA 12/2015'\n",
      " 'INDEN VIOL PZO SOLUCAO RECLAM 03/2016' 'DIF.CREDITO A DEVOLVER 01/2022'\n",
      " 'JUROS DE MORA 01/2022' 'MULTA 01/2022' 'CREDITO ANTERIOR 01/2022'\n",
      " 'INDENIZ VIOL.PZO REL.AREA RUR 12/2021' 'DIF.CREDITO A DEVOLVER 02/2022'\n",
      " 'SUBSÍDIO' 'DEVOLUÇÃO SUBSÍDIO' 'ATUALIZAÇÃO MONET COMP INDIC. 09/2019'\n",
      " 'ENERGIA ATV INJETADA - FORA PONTA' 'ENERGIA ATV INJETADA - PONTA'\n",
      " 'RECEBIMENTO A MENOR 04/2022' 'JUROS DE MORA 04/2022' 'MULTA 04/2022'\n",
      " 'DEMANDA POTÊNCIA ATIVA - ULTRAP - F PONTA' 'JUROS DE MORA 12/2020'\n",
      " 'MULTA 12/2020' 'JUROS DE MORA 02/2020' 'MULTA 02/2020'\n",
      " 'JUROS DE MORA 12/2019' 'MULTA 12/2019' 'ATUALIZAÇÃO MONETÁRIA 12/2019'\n",
      " 'JUROS DE MORA 01/2020' 'MULTA 01/2020' 'ATUALIZAÇÃO MONETÁRIA 01/2020'\n",
      " 'JUROS DE MORA 04/2020' 'MULTA 04/2020' 'ATUALIZAÇÃO MONETÁRIA 04/2020'\n",
      " 'JUROS DE MORA 05/2020' 'MULTA 05/2020' 'ATUALIZAÇÃO MONETÁRIA 05/2020'\n",
      " 'JUROS DE MORA 06/2020' 'MULTA 06/2020' 'ATUALIZAÇÃO MONETÁRIA 06/2020'\n",
      " 'JUROS DE MORA 07/2020' 'MULTA 07/2020' 'ATUALIZAÇÃO MONETÁRIA 07/2020'\n",
      " 'JUROS DE MORA 12/2021' 'MULTA 12/2021' 'JUROS DE MORA 03/2020'\n",
      " 'MULTA 03/2020' 'ATUALIZAÇÃO MONETÁRIA 03/2020'\n",
      " 'ENERGIA ATV INJETADA OUC 5/2022 MPT'\n",
      " 'ENERGIA ATV INJETADA MUC 1/2022 OPT']\n"
     ]
    }
   ],
   "source": [
    "print(f\"Categorias para descricao: {tarifas_df['descricao'].unique()}\")"
   ]
  },
  {
   "cell_type": "markdown",
   "metadata": {},
   "source": [
    "# 4. <span id='item4'> Descrição das *features*"
   ]
  },
  {
   "cell_type": "markdown",
   "metadata": {},
   "source": [
    "Após esta breve visualização de como os dados estão estruturados, vamos entender melhor o significado das *features* e *labels* encontradas, para conseguir elaborar perguntas que irão definir o rumo da análise.  \n",
    "  \n",
    "As informacões a seguir foram retiradas através de consultas no site da [Energisa](https://www.energisa.com.br/) e da [Agência Nacional de Energia Elétrica (ANEEL)](https://www.gov.br/aneel/pt-br/centrais-de-conteudos/glossario)."
   ]
  },
  {
   "cell_type": "markdown",
   "metadata": {},
   "source": [
    "### Termos gerais\n",
    "\n",
    "**Consumo**: Quantidade de energia consumida em um mês, em KWH.  \n",
    "**Demanda**: Potência ativa a ser obrigatória e continuamente disponibilizada pela distribuidora, em KW.  \n",
    "\n",
    "**Postos tarifários**  \n",
    "Períodos de tempo do dia definidos pela distribuidora.  \n",
    "- Ponta: 3 horas consecutivas, onde o consumo de energia pela rede é maior.\n",
    "A tarifa nesse período é mais cara.\n",
    "- Fora de Ponta: demais horas do dia, a tarifa é mais barata.  \n",
    "\n",
    "**TE**: Tarifa de Energia (KWh)  \n",
    "**TUSD**: Tarifa de Uso do Sistema de Distribuição  \n",
    "\n",
    "**Energia consumida**: parcelas $TE$ e $TUSD_{energia}$ em $R$/KWh$  \n",
    "**Demanda contratada**: apenas a parcela $TUSD_{demanda}$ em $R$/KW$  \n",
    "  \n",
    "<font color='#1696D2'>*Tarifa Azul*\n",
    "- $TUSD_{energia}$ única\n",
    "- $TUSD_{demanda}$ Ponta/FPonta\n",
    "- $TE$ Ponta/FPonta</font>  \n",
    "\n",
    "<font color='#55B748'>*Tarifa Verde*\n",
    "- $TUSD_{energia}$ Ponta/FPonta\n",
    "- $TUSD_{demanda}$ única\n",
    "- $TE$ Ponta/FPonta</font>  \n",
    "\n",
    "Em resumo, a tarifa azul é mais atraente para locais que tem a necessidade de consumir mais energia no período de Ponta, pois dependendo da consecionária, a tarifa $TUSD_{energia}$ única costuma ser igual a $TUSD_{energia}$ FPonta. Por outro lado, a tarifa verde é interessante para locais que conseguem economizar energia no período de Ponta ou que necessitem de uma demanda maior."
   ]
  },
  {
   "cell_type": "markdown",
   "metadata": {},
   "source": [
    "  ### Signifcado das labels do campo *leituras*:  \n",
    "\n",
    "- KWH: Consumo, $TUSD_{energia}$\n",
    "- KW: Demanda de potência medida, $TUSD_{demanda}$\n",
    "- KVA: Energia reativa, [cobrada caso fator de potência < 0.92](http://www2.aneel.gov.br/aplicacoes/audiencia/arquivo/2012/065/resultado/ren2013569.pdf)  \n",
    "- ERE: Energia reativa excedente  \n",
    "- DRE: Demanda reativa excedente  \n",
    "- INJ: Quantidade de energia elétrica injetada nas redes do sistema  \n",
    "- ULTP: Ultrapasagem da demanda contratada"
   ]
  },
  {
   "cell_type": "markdown",
   "metadata": {},
   "source": [
    "### Visualizando as labels mais comuns da coluna *descricao* em *tarifas*"
   ]
  },
  {
   "cell_type": "code",
   "execution_count": 19,
   "metadata": {},
   "outputs": [],
   "source": [
    "# Seleciona apenas descrições com os termos mais comuns\n",
    "query = tarifas_df[tarifas_df['descricao'].str.contains('CONSUMO|ENERGIA|DEMANDA|MULTA')]\n",
    "# Excluí os valores numéricos (datas)\n",
    "query_results = query['descricao'].apply(lambda x : ' '.join([char for char in x.split() if char.isalpha()]))"
   ]
  },
  {
   "cell_type": "code",
   "execution_count": 20,
   "metadata": {},
   "outputs": [
    {
     "data": {
      "application/vnd.plotly.v1+json": {
       "config": {
        "plotlyServerURL": "https://plot.ly"
       },
       "data": [
        {
         "alignmentgroup": "True",
         "bingroup": "y",
         "hovertemplate": "classe=MULTA<br>count=%{x}<br>descricao=%{y}<extra></extra>",
         "legendgroup": "MULTA",
         "marker": {
          "color": "#000000",
          "line": {
           "color": "#1A1717",
           "width": 1.5
          },
          "opacity": 0.8,
          "pattern": {
           "shape": ""
          }
         },
         "name": "MULTA",
         "offsetgroup": "MULTA",
         "orientation": "h",
         "showlegend": true,
         "type": "histogram",
         "xaxis": "x",
         "y": [
          "MULTA",
          "MULTA",
          "MULTA",
          "MULTA",
          "MULTA",
          "MULTA",
          "MULTA",
          "MULTA",
          "MULTA",
          "MULTA",
          "MULTA",
          "MULTA",
          "MULTA",
          "MULTA",
          "MULTA",
          "MULTA",
          "MULTA",
          "MULTA"
         ],
         "yaxis": "y"
        },
        {
         "alignmentgroup": "True",
         "bingroup": "y",
         "hovertemplate": "classe=ENERGIA<br>count=%{x}<br>descricao=%{y}<extra></extra>",
         "legendgroup": "ENERGIA",
         "marker": {
          "color": "#d2d2d2",
          "line": {
           "color": "#1A1717",
           "width": 1.5
          },
          "opacity": 0.8,
          "pattern": {
           "shape": ""
          }
         },
         "name": "ENERGIA",
         "offsetgroup": "ENERGIA",
         "orientation": "h",
         "showlegend": true,
         "type": "histogram",
         "xaxis": "x",
         "y": [
          "ENERGIA REATIVA EXCED EM KWH PONTA",
          "ENERGIA REATIVA EXCED EM KWH PONTA",
          "ENERGIA REATIVA EXCED EM KWH PONTA",
          "ENERGIA REATIVA EXCED EM KWH PONTA",
          "ENERGIA REATIVA EXCED EM KWH PONTA",
          "ENERGIA REATIVA EXCED EM KWH PONTA",
          "ENERGIA REATIVA EXCED EM KWH PONTA",
          "ENERGIA REATIVA EXCED EM KWH PONTA",
          "ENERGIA REATIVA EXCED EM KWH PONTA",
          "ENERGIA REATIVA EXCED EM KWH FPONTA",
          "ENERGIA REATIVA EXCED EM KWH FPONTA",
          "ENERGIA REATIVA EXCED EM KWH FPONTA",
          "ENERGIA REATIVA EXCED EM KWH FPONTA",
          "ENERGIA REATIVA EXCED EM KWH FPONTA",
          "ENERGIA REATIVA EXCED EM KWH FPONTA",
          "ENERGIA REATIVA EXCED EM KWH FPONTA",
          "ENERGIA REATIVA EXCED EM KWH FPONTA",
          "ENERGIA REATIVA EXCED EM KWH FPONTA",
          "ENERGIA REATIVA EXCED EM KWH FPONTA",
          "ENERGIA REATIVA EXCED EM KWH FPONTA",
          "ENERGIA REATIVA EXCED EM KWH FPONTA",
          "ENERGIA REATIVA EXCED EM KWH FPONTA",
          "ENERGIA REATIVA EXCED EM KWH FPONTA",
          "ENERGIA REATIVA EXCED EM KWH FPONTA",
          "ENERGIA REATIVA EXCED EM KWH FPONTA",
          "ENERGIA REATIVA EXCED EM KWH FPONTA",
          "ENERGIA REATIVA EXCED EM KWH FPONTA",
          "ENERGIA REATIVA EXCED EM KWH FPONTA",
          "ENERGIA REATIVA EXCED EM KWH",
          "ENERGIA REATIVA EXCED EM KWH",
          "ENERGIA ATV INJETADA PONTA",
          "ENERGIA ATV INJETADA PONTA",
          "ENERGIA ATV INJETADA PONTA",
          "ENERGIA ATV INJETADA OUC MPT",
          "ENERGIA ATV INJETADA OUC MPT",
          "ENERGIA ATV INJETADA OUC MPT",
          "ENERGIA ATV INJETADA OUC MPT",
          "ENERGIA ATV INJETADA OUC MPT",
          "ENERGIA ATV INJETADA OUC MPT",
          "ENERGIA ATV INJETADA OUC MPT",
          "ENERGIA ATV INJETADA OUC MPT",
          "ENERGIA ATV INJETADA OUC MPT",
          "ENERGIA ATV INJETADA OUC MPT",
          "ENERGIA ATV INJETADA OUC MPT",
          "ENERGIA ATV INJETADA OUC MPT",
          "ENERGIA ATV INJETADA OUC MPT",
          "ENERGIA ATV INJETADA OUC MPT",
          "ENERGIA ATV INJETADA OUC MPT",
          "ENERGIA ATV INJETADA OUC MPT",
          "ENERGIA ATV INJETADA OUC MPT",
          "ENERGIA ATV INJETADA OUC MPT",
          "ENERGIA ATV INJETADA OUC MPT",
          "ENERGIA ATV INJETADA OUC MPT",
          "ENERGIA ATV INJETADA OUC MPT",
          "ENERGIA ATV INJETADA OUC MPT",
          "ENERGIA ATV INJETADA OUC MPT",
          "ENERGIA ATV INJETADA OUC MPT",
          "ENERGIA ATV INJETADA OUC MPT",
          "ENERGIA ATV INJETADA OUC MPT",
          "ENERGIA ATV INJETADA OUC MPT",
          "ENERGIA ATV INJETADA OUC MPT",
          "ENERGIA ATV INJETADA OUC MPT",
          "ENERGIA ATV INJETADA OUC MPT",
          "ENERGIA ATV INJETADA OUC MPT",
          "ENERGIA ATV INJETADA OUC MPT",
          "ENERGIA ATV INJETADA OUC MPT",
          "ENERGIA ATV INJETADA OUC MPT",
          "ENERGIA ATV INJETADA OUC MPT",
          "ENERGIA ATV INJETADA OUC MPT",
          "ENERGIA ATV INJETADA OUC MPT",
          "ENERGIA ATV INJETADA OUC MPT",
          "ENERGIA ATV INJETADA OUC MPT",
          "ENERGIA ATV INJETADA OUC MPT",
          "ENERGIA ATV INJETADA OUC MPT",
          "ENERGIA ATV INJETADA OUC MPT",
          "ENERGIA ATV INJETADA OUC MPT",
          "ENERGIA ATV INJETADA OUC MPT",
          "ENERGIA ATV INJETADA OUC MPT",
          "ENERGIA ATV INJETADA OUC MPT",
          "ENERGIA ATV INJETADA OUC MPT",
          "ENERGIA ATV INJETADA OUC MPT",
          "ENERGIA ATV INJETADA OUC MPT",
          "ENERGIA ATV INJETADA OUC MPT",
          "ENERGIA ATV INJETADA OUC MPT",
          "ENERGIA ATV INJETADA OUC MPT",
          "ENERGIA ATV INJETADA OUC MPT",
          "ENERGIA ATV INJETADA OUC MPT",
          "ENERGIA ATV INJETADA OUC MPT",
          "ENERGIA ATV INJETADA OUC MPT",
          "ENERGIA ATV INJETADA OUC MPT",
          "ENERGIA ATV INJETADA OUC MPT",
          "ENERGIA ATV INJETADA OUC MPT",
          "ENERGIA ATV INJETADA OUC MPT",
          "ENERGIA ATV INJETADA OUC MPT",
          "ENERGIA ATV INJETADA OUC MPT",
          "ENERGIA ATV INJETADA OUC MPT",
          "ENERGIA ATV INJETADA OUC MPT",
          "ENERGIA ATV INJETADA OUC MPT",
          "ENERGIA ATV INJETADA OUC MPT",
          "ENERGIA ATV INJETADA OUC MPT",
          "ENERGIA ATV INJETADA OUC MPT",
          "ENERGIA ATV INJETADA OUC MPT",
          "ENERGIA ATV INJETADA OUC MPT",
          "ENERGIA ATV INJETADA OUC MPT",
          "ENERGIA ATV INJETADA OUC MPT",
          "ENERGIA ATV INJETADA OUC MPT",
          "ENERGIA ATV INJETADA OUC MPT",
          "ENERGIA ATV INJETADA OUC MPT",
          "ENERGIA ATV INJETADA OUC MPT",
          "ENERGIA ATV INJETADA OUC MPT",
          "ENERGIA ATV INJETADA OUC MPT",
          "ENERGIA ATV INJETADA OUC MPT",
          "ENERGIA ATV INJETADA OUC MPT",
          "ENERGIA ATV INJETADA OUC MPT",
          "ENERGIA ATV INJETADA OUC MPT",
          "ENERGIA ATV INJETADA OUC MPT",
          "ENERGIA ATV INJETADA OUC MPT",
          "ENERGIA ATV INJETADA OUC MPT",
          "ENERGIA ATV INJETADA MUC OPT",
          "ENERGIA ATV INJETADA MUC MPT",
          "ENERGIA ATV INJETADA MUC MPT",
          "ENERGIA ATV INJETADA MUC MPT",
          "ENERGIA ATV INJETADA MUC MPT",
          "ENERGIA ATV INJETADA MUC MPT",
          "ENERGIA ATV INJETADA MUC MPT",
          "ENERGIA ATV INJETADA MUC MPT",
          "ENERGIA ATV INJETADA MUC MPT",
          "ENERGIA ATV INJETADA MUC MPT",
          "ENERGIA ATV INJETADA MUC MPT",
          "ENERGIA ATV INJETADA MUC MPT",
          "ENERGIA ATV INJETADA MUC MPT",
          "ENERGIA ATV INJETADA MUC MPT",
          "ENERGIA ATV INJETADA MUC MPT",
          "ENERGIA ATV INJETADA MUC MPT",
          "ENERGIA ATV INJETADA MUC MPT",
          "ENERGIA ATV INJETADA MUC MPT",
          "ENERGIA ATV INJETADA MUC MPT",
          "ENERGIA ATV INJETADA MUC MPT",
          "ENERGIA ATV INJETADA MUC MPT",
          "ENERGIA ATV INJETADA MUC MPT",
          "ENERGIA ATV INJETADA MUC MPT",
          "ENERGIA ATV INJETADA MUC MPT",
          "ENERGIA ATV INJETADA MUC MPT",
          "ENERGIA ATV INJETADA MUC MPT",
          "ENERGIA ATV INJETADA FORA PONTA",
          "ENERGIA ATV INJETADA FORA PONTA",
          "ENERGIA ATV INJETADA FORA PONTA",
          "ENERGIA ATV INJETADA FORA PONTA",
          "ENERGIA ATV INJETADA FORA PONTA",
          "ENERGIA ATV INJETADA FORA PONTA"
         ],
         "yaxis": "y"
        },
        {
         "alignmentgroup": "True",
         "bingroup": "y",
         "hovertemplate": "classe=DEMANDA<br>count=%{x}<br>descricao=%{y}<extra></extra>",
         "legendgroup": "DEMANDA",
         "marker": {
          "color": "#fdbf11",
          "line": {
           "color": "#1A1717",
           "width": 1.5
          },
          "opacity": 0.8,
          "pattern": {
           "shape": ""
          }
         },
         "name": "DEMANDA",
         "offsetgroup": "DEMANDA",
         "orientation": "h",
         "showlegend": true,
         "type": "histogram",
         "xaxis": "x",
         "y": [
          "DEMANDA POTÊNCIA REATIVA EXCEDENTE PONTA",
          "DEMANDA POTÊNCIA REATIVA EXCEDENTE PONTA",
          "DEMANDA POTÊNCIA REATIVA EXCEDENTE PONTA",
          "DEMANDA POTÊNCIA REATIVA EXCED F PONTA",
          "DEMANDA POTÊNCIA REATIVA EXCED F PONTA",
          "DEMANDA POTÊNCIA REATIVA EXCED F PONTA",
          "DEMANDA POTÊNCIA REATIVA EXCED F PONTA",
          "DEMANDA POTÊNCIA REATIVA EXCED F PONTA",
          "DEMANDA POTÊNCIA REATIVA EXCED F PONTA",
          "DEMANDA POTÊNCIA NÃO CONSUMIDA PONTA",
          "DEMANDA POTÊNCIA NÃO CONSUMIDA PONTA",
          "DEMANDA POTÊNCIA NÃO CONSUMIDA PONTA",
          "DEMANDA POTÊNCIA NÃO CONSUMIDA F PONTA",
          "DEMANDA POTÊNCIA NÃO CONSUMIDA F PONTA",
          "DEMANDA POTÊNCIA NÃO CONSUMIDA F PONTA",
          "DEMANDA POTÊNCIA NÃO CONSUMIDA F PONTA",
          "DEMANDA POTÊNCIA NÃO CONSUMIDA F PONTA",
          "DEMANDA POTÊNCIA NÃO CONSUMIDA F PONTA",
          "DEMANDA POTÊNCIA NÃO CONSUMIDA F PONTA",
          "DEMANDA POTÊNCIA NÃO CONSUMIDA F PONTA",
          "DEMANDA POTÊNCIA NÃO CONSUMIDA F PONTA",
          "DEMANDA POTÊNCIA NÃO CONSUMIDA F PONTA",
          "DEMANDA POTÊNCIA NÃO CONSUMIDA F PONTA",
          "DEMANDA POTÊNCIA NÃO CONSUMIDA F PONTA",
          "DEMANDA POTÊNCIA NÃO CONSUMIDA F PONTA",
          "DEMANDA POTÊNCIA NÃO CONSUMIDA F PONTA",
          "DEMANDA POTÊNCIA NÃO CONSUMIDA F PONTA",
          "DEMANDA POTÊNCIA NÃO CONSUMIDA F PONTA",
          "DEMANDA POTÊNCIA NÃO CONSUMIDA F PONTA",
          "DEMANDA POTÊNCIA NÃO CONSUMIDA F PONTA",
          "DEMANDA POTÊNCIA NÃO CONSUMIDA F PONTA",
          "DEMANDA POTÊNCIA NÃO CONSUMIDA F PONTA",
          "DEMANDA POTÊNCIA NÃO CONSUMIDA F PONTA",
          "DEMANDA POTÊNCIA NÃO CONSUMIDA F PONTA",
          "DEMANDA POTÊNCIA NÃO CONSUMIDA F PONTA",
          "DEMANDA POTÊNCIA NÃO CONSUMIDA F PONTA",
          "DEMANDA POTÊNCIA NÃO CONSUMIDA F PONTA",
          "DEMANDA POTÊNCIA NÃO CONSUMIDA F PONTA",
          "DEMANDA POTÊNCIA NÃO CONSUMIDA F PONTA",
          "DEMANDA POTÊNCIA NÃO CONSUMIDA F PONTA",
          "DEMANDA POTÊNCIA NÃO CONSUMIDA F PONTA",
          "DEMANDA POTÊNCIA NÃO CONSUMIDA F PONTA",
          "DEMANDA POTÊNCIA NÃO CONSUMIDA F PONTA",
          "DEMANDA POTÊNCIA NÃO CONSUMIDA F PONTA",
          "DEMANDA POTÊNCIA NÃO CONSUMIDA F PONTA",
          "DEMANDA POTÊNCIA NÃO CONSUMIDA F PONTA",
          "DEMANDA POTÊNCIA NÃO CONSUMIDA F PONTA",
          "DEMANDA POTÊNCIA NÃO CONSUMIDA F PONTA",
          "DEMANDA POTÊNCIA NÃO CONSUMIDA F PONTA",
          "DEMANDA POTÊNCIA NÃO CONSUMIDA F PONTA",
          "DEMANDA POTÊNCIA NÃO CONSUMIDA F PONTA",
          "DEMANDA POTÊNCIA NÃO CONSUMIDA F PONTA",
          "DEMANDA POTÊNCIA ATIVA ULTRAP F PONTA",
          "DEMANDA POTÊNCIA ATIVA ULTRAP F PONTA",
          "DEMANDA POTÊNCIA ATIVA ULTRAP F PONTA",
          "DEMANDA POTÊNCIA ATIVA ULTRAP F PONTA",
          "DEMANDA POTÊNCIA ATIVA ULTRAP F PONTA",
          "DEMANDA DE POTÊNCIA MEDIDA PONTA",
          "DEMANDA DE POTÊNCIA MEDIDA PONTA",
          "DEMANDA DE POTÊNCIA MEDIDA PONTA",
          "DEMANDA DE POTÊNCIA MEDIDA FORA PONTA",
          "DEMANDA DE POTÊNCIA MEDIDA FORA PONTA",
          "DEMANDA DE POTÊNCIA MEDIDA FORA PONTA",
          "DEMANDA DE POTÊNCIA MEDIDA FORA PONTA",
          "DEMANDA DE POTÊNCIA MEDIDA FORA PONTA",
          "DEMANDA DE POTÊNCIA MEDIDA FORA PONTA",
          "DEMANDA DE POTÊNCIA MEDIDA FORA PONTA",
          "DEMANDA DE POTÊNCIA MEDIDA FORA PONTA",
          "DEMANDA DE POTÊNCIA MEDIDA FORA PONTA",
          "DEMANDA DE POTÊNCIA MEDIDA FORA PONTA",
          "DEMANDA DE POTÊNCIA MEDIDA FORA PONTA",
          "DEMANDA DE POTÊNCIA MEDIDA FORA PONTA",
          "DEMANDA DE POTÊNCIA MEDIDA FORA PONTA",
          "DEMANDA DE POTÊNCIA MEDIDA FORA PONTA",
          "DEMANDA DE POTÊNCIA MEDIDA FORA PONTA",
          "DEMANDA DE POTÊNCIA MEDIDA FORA PONTA",
          "DEMANDA DE POTÊNCIA MEDIDA FORA PONTA",
          "DEMANDA DE POTÊNCIA MEDIDA FORA PONTA",
          "DEMANDA DE POTÊNCIA MEDIDA FORA PONTA",
          "DEMANDA DE POTÊNCIA MEDIDA FORA PONTA",
          "DEMANDA DE POTÊNCIA MEDIDA FORA PONTA",
          "DEMANDA DE POTÊNCIA MEDIDA FORA PONTA",
          "DEMANDA DE POTÊNCIA MEDIDA FORA PONTA"
         ],
         "yaxis": "y"
        },
        {
         "alignmentgroup": "True",
         "bingroup": "y",
         "hovertemplate": "classe=CONSUMO<br>count=%{x}<br>descricao=%{y}<extra></extra>",
         "legendgroup": "CONSUMO",
         "marker": {
          "color": "#1696d2",
          "line": {
           "color": "#1A1717",
           "width": 1.5
          },
          "opacity": 0.8,
          "pattern": {
           "shape": ""
          }
         },
         "name": "CONSUMO",
         "offsetgroup": "CONSUMO",
         "orientation": "h",
         "showlegend": true,
         "type": "histogram",
         "xaxis": "x",
         "y": [
          "CONSUMO EM KWH PONTA",
          "CONSUMO EM KWH PONTA",
          "CONSUMO EM KWH PONTA",
          "CONSUMO EM KWH PONTA",
          "CONSUMO EM KWH PONTA",
          "CONSUMO EM KWH PONTA",
          "CONSUMO EM KWH PONTA",
          "CONSUMO EM KWH PONTA",
          "CONSUMO EM KWH PONTA",
          "CONSUMO EM KWH PONTA",
          "CONSUMO EM KWH PONTA",
          "CONSUMO EM KWH FORA PONTA",
          "CONSUMO EM KWH FORA PONTA",
          "CONSUMO EM KWH FORA PONTA",
          "CONSUMO EM KWH FORA PONTA",
          "CONSUMO EM KWH FORA PONTA",
          "CONSUMO EM KWH FORA PONTA",
          "CONSUMO EM KWH FORA PONTA",
          "CONSUMO EM KWH FORA PONTA",
          "CONSUMO EM KWH FORA PONTA",
          "CONSUMO EM KWH FORA PONTA",
          "CONSUMO EM KWH FORA PONTA",
          "CONSUMO EM KWH FORA PONTA",
          "CONSUMO EM KWH FORA PONTA",
          "CONSUMO EM KWH FORA PONTA",
          "CONSUMO EM KWH",
          "CONSUMO EM KWH",
          "CONSUMO EM KWH",
          "CONSUMO EM KWH",
          "CONSUMO EM KWH",
          "CONSUMO EM KWH",
          "CONSUMO EM KWH",
          "CONSUMO EM KWH",
          "CONSUMO EM KWH",
          "CONSUMO EM KWH",
          "CONSUMO EM KWH",
          "CONSUMO EM KWH",
          "CONSUMO EM KWH",
          "CONSUMO EM KWH",
          "CONSUMO EM KWH",
          "CONSUMO EM KWH",
          "CONSUMO EM KWH",
          "CONSUMO EM KWH",
          "CONSUMO EM KWH",
          "CONSUMO EM KWH",
          "CONSUMO EM KWH",
          "CONSUMO EM KWH",
          "CONSUMO EM KWH",
          "CONSUMO EM KWH",
          "CONSUMO EM KWH",
          "CONSUMO EM KWH",
          "CONSUMO EM KWH",
          "CONSUMO EM KWH",
          "CONSUMO EM KWH",
          "CONSUMO EM KWH",
          "CONSUMO EM KWH",
          "CONSUMO EM KWH",
          "CONSUMO EM KWH",
          "CONSUMO EM KWH",
          "CONSUMO EM KWH",
          "CONSUMO EM KWH",
          "CONSUMO EM KWH",
          "CONSUMO EM KWH",
          "CONSUMO EM KWH",
          "CONSUMO EM KWH",
          "CONSUMO EM KWH",
          "CONSUMO EM KWH",
          "CONSUMO EM KWH",
          "CONSUMO EM KWH",
          "CONSUMO EM KWH",
          "CONSUMO EM KWH",
          "CONSUMO EM KWH",
          "CONSUMO EM KWH",
          "CONSUMO EM KWH",
          "CONSUMO EM KWH",
          "CONSUMO EM KWH",
          "CONSUMO EM KWH",
          "CONSUMO EM KWH",
          "CONSUMO EM KWH",
          "CONSUMO EM KWH",
          "CONSUMO EM KWH",
          "CONSUMO EM KWH",
          "CONSUMO EM KWH",
          "CONSUMO EM KWH",
          "CONSUMO EM KWH",
          "CONSUMO EM KWH",
          "CONSUMO EM KWH",
          "CONSUMO EM KWH",
          "CONSUMO EM KWH",
          "CONSUMO EM KWH",
          "CONSUMO EM KWH",
          "CONSUMO EM KWH",
          "CONSUMO EM KWH",
          "CONSUMO EM KWH",
          "CONSUMO EM KWH",
          "CONSUMO EM KWH",
          "CONSUMO EM KWH",
          "CONSUMO EM KWH",
          "CONSUMO EM KWH",
          "CONSUMO EM KWH",
          "CONSUMO EM KWH",
          "CONSUMO EM KWH",
          "CONSUMO EM KWH",
          "CONSUMO EM KWH",
          "CONSUMO EM KWH",
          "CONSUMO EM KWH",
          "CONSUMO EM KWH",
          "CONSUMO EM KWH",
          "CONSUMO EM KWH",
          "CONSUMO EM KWH",
          "CONSUMO EM KWH",
          "CONSUMO EM KWH",
          "CONSUMO EM KWH",
          "CONSUMO EM KWH",
          "CONSUMO EM KWH",
          "CONSUMO EM KWH",
          "CONSUMO EM KWH",
          "CONSUMO EM KWH",
          "CONSUMO EM KWH",
          "CONSUMO EM KWH",
          "CONSUMO EM KWH",
          "CONSUMO EM KWH",
          "CONSUMO EM KWH",
          "CONSUMO EM KWH",
          "CONSUMO EM KWH",
          "CONSUMO EM KWH",
          "CONSUMO EM KWH",
          "CONSUMO EM KWH",
          "CONSUMO EM KWH",
          "CONSUMO EM KWH",
          "CONSUMO EM KWH",
          "CONSUMO EM KWH"
         ],
         "yaxis": "y"
        }
       ],
       "layout": {
        "barmode": "relative",
        "hoverlabel": {
         "font": {
          "family": "Lato-Regular",
          "size": 14
         }
        },
        "legend": {
         "font": {
          "color": "#000000",
          "family": "Lato-Regular",
          "size": 13
         },
         "title": {
          "font": {
           "color": "#000000",
           "family": "Lato-Bold",
           "size": 14
          },
          "text": "classe"
         },
         "tracegroupgap": 0,
         "traceorder": "reversed"
        },
        "template": {
         "data": {
          "bar": [
           {
            "error_x": {
             "color": "#2a3f5f"
            },
            "error_y": {
             "color": "#2a3f5f"
            },
            "marker": {
             "line": {
              "color": "#E5ECF6",
              "width": 0.5
             },
             "pattern": {
              "fillmode": "overlay",
              "size": 10,
              "solidity": 0.2
             }
            },
            "type": "bar"
           }
          ],
          "barpolar": [
           {
            "marker": {
             "line": {
              "color": "#E5ECF6",
              "width": 0.5
             },
             "pattern": {
              "fillmode": "overlay",
              "size": 10,
              "solidity": 0.2
             }
            },
            "type": "barpolar"
           }
          ],
          "carpet": [
           {
            "aaxis": {
             "endlinecolor": "#2a3f5f",
             "gridcolor": "white",
             "linecolor": "white",
             "minorgridcolor": "white",
             "startlinecolor": "#2a3f5f"
            },
            "baxis": {
             "endlinecolor": "#2a3f5f",
             "gridcolor": "white",
             "linecolor": "white",
             "minorgridcolor": "white",
             "startlinecolor": "#2a3f5f"
            },
            "type": "carpet"
           }
          ],
          "choropleth": [
           {
            "colorbar": {
             "outlinewidth": 0,
             "ticks": ""
            },
            "type": "choropleth"
           }
          ],
          "contour": [
           {
            "colorbar": {
             "outlinewidth": 0,
             "ticks": ""
            },
            "colorscale": [
             [
              0,
              "#0d0887"
             ],
             [
              0.1111111111111111,
              "#46039f"
             ],
             [
              0.2222222222222222,
              "#7201a8"
             ],
             [
              0.3333333333333333,
              "#9c179e"
             ],
             [
              0.4444444444444444,
              "#bd3786"
             ],
             [
              0.5555555555555556,
              "#d8576b"
             ],
             [
              0.6666666666666666,
              "#ed7953"
             ],
             [
              0.7777777777777778,
              "#fb9f3a"
             ],
             [
              0.8888888888888888,
              "#fdca26"
             ],
             [
              1,
              "#f0f921"
             ]
            ],
            "type": "contour"
           }
          ],
          "contourcarpet": [
           {
            "colorbar": {
             "outlinewidth": 0,
             "ticks": ""
            },
            "type": "contourcarpet"
           }
          ],
          "heatmap": [
           {
            "colorbar": {
             "outlinewidth": 0,
             "ticks": ""
            },
            "colorscale": [
             [
              0,
              "#0d0887"
             ],
             [
              0.1111111111111111,
              "#46039f"
             ],
             [
              0.2222222222222222,
              "#7201a8"
             ],
             [
              0.3333333333333333,
              "#9c179e"
             ],
             [
              0.4444444444444444,
              "#bd3786"
             ],
             [
              0.5555555555555556,
              "#d8576b"
             ],
             [
              0.6666666666666666,
              "#ed7953"
             ],
             [
              0.7777777777777778,
              "#fb9f3a"
             ],
             [
              0.8888888888888888,
              "#fdca26"
             ],
             [
              1,
              "#f0f921"
             ]
            ],
            "type": "heatmap"
           }
          ],
          "heatmapgl": [
           {
            "colorbar": {
             "outlinewidth": 0,
             "ticks": ""
            },
            "colorscale": [
             [
              0,
              "#0d0887"
             ],
             [
              0.1111111111111111,
              "#46039f"
             ],
             [
              0.2222222222222222,
              "#7201a8"
             ],
             [
              0.3333333333333333,
              "#9c179e"
             ],
             [
              0.4444444444444444,
              "#bd3786"
             ],
             [
              0.5555555555555556,
              "#d8576b"
             ],
             [
              0.6666666666666666,
              "#ed7953"
             ],
             [
              0.7777777777777778,
              "#fb9f3a"
             ],
             [
              0.8888888888888888,
              "#fdca26"
             ],
             [
              1,
              "#f0f921"
             ]
            ],
            "type": "heatmapgl"
           }
          ],
          "histogram": [
           {
            "marker": {
             "pattern": {
              "fillmode": "overlay",
              "size": 10,
              "solidity": 0.2
             }
            },
            "type": "histogram"
           }
          ],
          "histogram2d": [
           {
            "colorbar": {
             "outlinewidth": 0,
             "ticks": ""
            },
            "colorscale": [
             [
              0,
              "#0d0887"
             ],
             [
              0.1111111111111111,
              "#46039f"
             ],
             [
              0.2222222222222222,
              "#7201a8"
             ],
             [
              0.3333333333333333,
              "#9c179e"
             ],
             [
              0.4444444444444444,
              "#bd3786"
             ],
             [
              0.5555555555555556,
              "#d8576b"
             ],
             [
              0.6666666666666666,
              "#ed7953"
             ],
             [
              0.7777777777777778,
              "#fb9f3a"
             ],
             [
              0.8888888888888888,
              "#fdca26"
             ],
             [
              1,
              "#f0f921"
             ]
            ],
            "type": "histogram2d"
           }
          ],
          "histogram2dcontour": [
           {
            "colorbar": {
             "outlinewidth": 0,
             "ticks": ""
            },
            "colorscale": [
             [
              0,
              "#0d0887"
             ],
             [
              0.1111111111111111,
              "#46039f"
             ],
             [
              0.2222222222222222,
              "#7201a8"
             ],
             [
              0.3333333333333333,
              "#9c179e"
             ],
             [
              0.4444444444444444,
              "#bd3786"
             ],
             [
              0.5555555555555556,
              "#d8576b"
             ],
             [
              0.6666666666666666,
              "#ed7953"
             ],
             [
              0.7777777777777778,
              "#fb9f3a"
             ],
             [
              0.8888888888888888,
              "#fdca26"
             ],
             [
              1,
              "#f0f921"
             ]
            ],
            "type": "histogram2dcontour"
           }
          ],
          "mesh3d": [
           {
            "colorbar": {
             "outlinewidth": 0,
             "ticks": ""
            },
            "type": "mesh3d"
           }
          ],
          "parcoords": [
           {
            "line": {
             "colorbar": {
              "outlinewidth": 0,
              "ticks": ""
             }
            },
            "type": "parcoords"
           }
          ],
          "pie": [
           {
            "automargin": true,
            "type": "pie"
           }
          ],
          "scatter": [
           {
            "marker": {
             "colorbar": {
              "outlinewidth": 0,
              "ticks": ""
             }
            },
            "type": "scatter"
           }
          ],
          "scatter3d": [
           {
            "line": {
             "colorbar": {
              "outlinewidth": 0,
              "ticks": ""
             }
            },
            "marker": {
             "colorbar": {
              "outlinewidth": 0,
              "ticks": ""
             }
            },
            "type": "scatter3d"
           }
          ],
          "scattercarpet": [
           {
            "marker": {
             "colorbar": {
              "outlinewidth": 0,
              "ticks": ""
             }
            },
            "type": "scattercarpet"
           }
          ],
          "scattergeo": [
           {
            "marker": {
             "colorbar": {
              "outlinewidth": 0,
              "ticks": ""
             }
            },
            "type": "scattergeo"
           }
          ],
          "scattergl": [
           {
            "marker": {
             "colorbar": {
              "outlinewidth": 0,
              "ticks": ""
             }
            },
            "type": "scattergl"
           }
          ],
          "scattermapbox": [
           {
            "marker": {
             "colorbar": {
              "outlinewidth": 0,
              "ticks": ""
             }
            },
            "type": "scattermapbox"
           }
          ],
          "scatterpolar": [
           {
            "marker": {
             "colorbar": {
              "outlinewidth": 0,
              "ticks": ""
             }
            },
            "type": "scatterpolar"
           }
          ],
          "scatterpolargl": [
           {
            "marker": {
             "colorbar": {
              "outlinewidth": 0,
              "ticks": ""
             }
            },
            "type": "scatterpolargl"
           }
          ],
          "scatterternary": [
           {
            "marker": {
             "colorbar": {
              "outlinewidth": 0,
              "ticks": ""
             }
            },
            "type": "scatterternary"
           }
          ],
          "surface": [
           {
            "colorbar": {
             "outlinewidth": 0,
             "ticks": ""
            },
            "colorscale": [
             [
              0,
              "#0d0887"
             ],
             [
              0.1111111111111111,
              "#46039f"
             ],
             [
              0.2222222222222222,
              "#7201a8"
             ],
             [
              0.3333333333333333,
              "#9c179e"
             ],
             [
              0.4444444444444444,
              "#bd3786"
             ],
             [
              0.5555555555555556,
              "#d8576b"
             ],
             [
              0.6666666666666666,
              "#ed7953"
             ],
             [
              0.7777777777777778,
              "#fb9f3a"
             ],
             [
              0.8888888888888888,
              "#fdca26"
             ],
             [
              1,
              "#f0f921"
             ]
            ],
            "type": "surface"
           }
          ],
          "table": [
           {
            "cells": {
             "fill": {
              "color": "#EBF0F8"
             },
             "line": {
              "color": "white"
             }
            },
            "header": {
             "fill": {
              "color": "#C8D4E3"
             },
             "line": {
              "color": "white"
             }
            },
            "type": "table"
           }
          ]
         },
         "layout": {
          "annotationdefaults": {
           "arrowcolor": "#2a3f5f",
           "arrowhead": 0,
           "arrowwidth": 1
          },
          "autotypenumbers": "strict",
          "coloraxis": {
           "colorbar": {
            "outlinewidth": 0,
            "ticks": ""
           }
          },
          "colorscale": {
           "diverging": [
            [
             0,
             "#8e0152"
            ],
            [
             0.1,
             "#c51b7d"
            ],
            [
             0.2,
             "#de77ae"
            ],
            [
             0.3,
             "#f1b6da"
            ],
            [
             0.4,
             "#fde0ef"
            ],
            [
             0.5,
             "#f7f7f7"
            ],
            [
             0.6,
             "#e6f5d0"
            ],
            [
             0.7,
             "#b8e186"
            ],
            [
             0.8,
             "#7fbc41"
            ],
            [
             0.9,
             "#4d9221"
            ],
            [
             1,
             "#276419"
            ]
           ],
           "sequential": [
            [
             0,
             "#0d0887"
            ],
            [
             0.1111111111111111,
             "#46039f"
            ],
            [
             0.2222222222222222,
             "#7201a8"
            ],
            [
             0.3333333333333333,
             "#9c179e"
            ],
            [
             0.4444444444444444,
             "#bd3786"
            ],
            [
             0.5555555555555556,
             "#d8576b"
            ],
            [
             0.6666666666666666,
             "#ed7953"
            ],
            [
             0.7777777777777778,
             "#fb9f3a"
            ],
            [
             0.8888888888888888,
             "#fdca26"
            ],
            [
             1,
             "#f0f921"
            ]
           ],
           "sequentialminus": [
            [
             0,
             "#0d0887"
            ],
            [
             0.1111111111111111,
             "#46039f"
            ],
            [
             0.2222222222222222,
             "#7201a8"
            ],
            [
             0.3333333333333333,
             "#9c179e"
            ],
            [
             0.4444444444444444,
             "#bd3786"
            ],
            [
             0.5555555555555556,
             "#d8576b"
            ],
            [
             0.6666666666666666,
             "#ed7953"
            ],
            [
             0.7777777777777778,
             "#fb9f3a"
            ],
            [
             0.8888888888888888,
             "#fdca26"
            ],
            [
             1,
             "#f0f921"
            ]
           ]
          },
          "colorway": [
           "#636efa",
           "#EF553B",
           "#00cc96",
           "#ab63fa",
           "#FFA15A",
           "#19d3f3",
           "#FF6692",
           "#B6E880",
           "#FF97FF",
           "#FECB52"
          ],
          "font": {
           "color": "#2a3f5f"
          },
          "geo": {
           "bgcolor": "white",
           "lakecolor": "white",
           "landcolor": "#E5ECF6",
           "showlakes": true,
           "showland": true,
           "subunitcolor": "white"
          },
          "hoverlabel": {
           "align": "left"
          },
          "hovermode": "closest",
          "mapbox": {
           "style": "light"
          },
          "paper_bgcolor": "white",
          "plot_bgcolor": "#E5ECF6",
          "polar": {
           "angularaxis": {
            "gridcolor": "white",
            "linecolor": "white",
            "ticks": ""
           },
           "bgcolor": "#E5ECF6",
           "radialaxis": {
            "gridcolor": "white",
            "linecolor": "white",
            "ticks": ""
           }
          },
          "scene": {
           "xaxis": {
            "backgroundcolor": "#E5ECF6",
            "gridcolor": "white",
            "gridwidth": 2,
            "linecolor": "white",
            "showbackground": true,
            "ticks": "",
            "zerolinecolor": "white"
           },
           "yaxis": {
            "backgroundcolor": "#E5ECF6",
            "gridcolor": "white",
            "gridwidth": 2,
            "linecolor": "white",
            "showbackground": true,
            "ticks": "",
            "zerolinecolor": "white"
           },
           "zaxis": {
            "backgroundcolor": "#E5ECF6",
            "gridcolor": "white",
            "gridwidth": 2,
            "linecolor": "white",
            "showbackground": true,
            "ticks": "",
            "zerolinecolor": "white"
           }
          },
          "shapedefaults": {
           "line": {
            "color": "#2a3f5f"
           }
          },
          "ternary": {
           "aaxis": {
            "gridcolor": "white",
            "linecolor": "white",
            "ticks": ""
           },
           "baxis": {
            "gridcolor": "white",
            "linecolor": "white",
            "ticks": ""
           },
           "bgcolor": "#E5ECF6",
           "caxis": {
            "gridcolor": "white",
            "linecolor": "white",
            "ticks": ""
           }
          },
          "title": {
           "x": 0.05
          },
          "xaxis": {
           "automargin": true,
           "gridcolor": "white",
           "linecolor": "white",
           "ticks": "",
           "title": {
            "standoff": 15
           },
           "zerolinecolor": "white",
           "zerolinewidth": 2
          },
          "yaxis": {
           "automargin": true,
           "gridcolor": "white",
           "linecolor": "white",
           "ticks": "",
           "title": {
            "standoff": 15
           },
           "zerolinecolor": "white",
           "zerolinewidth": 2
          }
         }
        },
        "title": {
         "font": {
          "color": "#000000",
          "family": "Lato-Bold",
          "size": 18
         },
         "text": "Descrições das tarifas mais comuns"
        },
        "width": 800,
        "xaxis": {
         "anchor": "y",
         "domain": [
          0,
          1
         ],
         "tickfont": {
          "color": "#000000",
          "family": "Lato-Regular",
          "size": 12
         },
         "title": {
          "font": {
           "color": "#000000",
           "family": "Lato-Italic",
           "size": 14
          },
          "text": "Quantidade"
         }
        },
        "yaxis": {
         "anchor": "x",
         "domain": [
          0,
          1
         ],
         "tickfont": {
          "color": "#000000",
          "family": "Lato-Regular",
          "size": 12
         },
         "title": {
          "font": {
           "color": "#000000",
           "family": "Lato-Italic",
           "size": 14
          },
          "text": "Descrição"
         }
        }
       }
      }
     },
     "metadata": {},
     "output_type": "display_data"
    }
   ],
   "source": [
    "# Selecionando o dado a ser plotado\n",
    "plot_data = pd.DataFrame({\n",
    "\t'descricao' : query_results,\n",
    "\t'classe' : query_results.apply(lambda x : x.split()[0])\n",
    "}).sort_values(by='descricao', ascending=False)\n",
    "# Plotando com plotly express\n",
    "px.histogram(\n",
    "\tdata_frame=plot_data,\t    \t\t\t\t\t# Dado a ser plotado\n",
    "\ty='descricao',\t\t\t\t\t\t\t\t\t# Muda a orientacão para a vertical\n",
    "\tcolor='classe',\t\t\t\t\t\t\t\t\t# Separa em classes\n",
    "\tcolor_discrete_sequence=CATEGORICAL_GROUPS[4],\t# Define as cores dos grupos\n",
    "\ttitle='Descrições das tarifas mais comuns',\t\t# Título do gráfico\n",
    "\twidth=800, opacity=0.8\t\t\t\t\t\t\t# Tamanho e alpha da cor\n",
    ").update_traces(\t\t\t\t\t\t\t\t\t\t\t\t\n",
    "\tmarker_line_color=SHADES['GRAY'][6], \t\t\t# Customização do layout da barra\t\n",
    "\tmarker_line_width=1.5,\n",
    ").update_layout(\n",
    "\tlegend_traceorder='reversed',\t\t\t\t\t# Corrige a legenda em orem alfabética\n",
    "\txaxis_title='Quantidade',\t\t\t\t\t\t# Renomeia título do eixo x \n",
    "\tyaxis_title='Descrição',\t\t\t\t\t\t# Renomeia título do eixo y \n",
    "\t**LAYOUT_SPECS\t\t\t\t\t\t\t\t\t# Customizações do layout\n",
    ")"
   ]
  },
  {
   "cell_type": "markdown",
   "metadata": {},
   "source": [
    "Algumas descrições pertencem à categoria do posto **Ponta/FPonta**:  \n",
    "- Consumo;  \n",
    "- Demanda medida;\n",
    "- Demanda não consumida; \n",
    "- Demanda ultrapassada;\n",
    "- Demanda reativa excedente. \n",
    "\n",
    "Outras são inependentes dessa classificação:\n",
    "- Energia ativa injetada;\n",
    "- Energia reativa excedente."
   ]
  },
  {
   "cell_type": "markdown",
   "metadata": {},
   "source": [
    "### Questões a serem analisadas:\n",
    "- Consumo (KWh) é maior na PONTA ou FPONTA?  \n",
    "- Demanda contratada (KW) está sendo utilizada acima ou abaixo?  \n",
    "- Relação entre a diferença do valor faturado e o valor medido. Se o valor medido for maior, qual o motivo do faturado ser menor? E no caso contrário? Existe algum comportamento comum para cada caso?\n",
    "- Como se comporta a fatura onde há alto valor medido de energia injetada(INJ)? Essa energia é proveniente de geração própria?  \n"
   ]
  },
  {
   "cell_type": "markdown",
   "metadata": {},
   "source": [
    "# 5. <span id='item5'>Tratamento dos dados"
   ]
  },
  {
   "cell_type": "markdown",
   "metadata": {},
   "source": [
    "Antes de iniciar a análise exploratória, vamos aplicar alguns ajustes."
   ]
  },
  {
   "cell_type": "markdown",
   "metadata": {},
   "source": [
    "## Features com tipo *dict*"
   ]
  },
  {
   "cell_type": "markdown",
   "metadata": {},
   "source": [
    "Iniciando pelo primeiro nível do arquivo *json*, será normalizada as colunas contendo valores do tipo *dict*, exceto as que contém outros valores aninhados (esturturaConsumo e tarifas)."
   ]
  },
  {
   "cell_type": "code",
   "execution_count": 21,
   "metadata": {},
   "outputs": [],
   "source": [
    "# Achatando os dados\n",
    "df['_id'] = pd.json_normalize(df['_id'])\n",
    "df['createdAt'] = pd.json_normalize(df['createdAt'])\n",
    "df['updatedAt'] = pd.json_normalize(df['updatedAt'])"
   ]
  },
  {
   "cell_type": "markdown",
   "metadata": {},
   "source": [
    "## Features do tipo *string*"
   ]
  },
  {
   "cell_type": "markdown",
   "metadata": {},
   "source": [
    "Agora conseguimos visualizar melhor as colunas com tipo *string*"
   ]
  },
  {
   "cell_type": "code",
   "execution_count": 22,
   "metadata": {},
   "outputs": [
    {
     "name": "stdout",
     "output_type": "stream",
     "text": [
      "Quantidade de valores únicos por feature\n"
     ]
    },
    {
     "data": {
      "text/plain": [
       "_id        162\n",
       "unique     162\n",
       "cliente     18\n",
       "classe      10\n",
       "ligacao      2\n",
       "cnpj        17\n",
       "uc          48\n",
       "dtype: int64"
      ]
     },
     "execution_count": 22,
     "metadata": {},
     "output_type": "execute_result"
    }
   ],
   "source": [
    "string_columns = [\n",
    "\t'_id', 'unique', 'cliente', \n",
    "\t'classe', 'ligacao', 'cnpj', 'uc',\n",
    "]\n",
    "print('Quantidade de valores únicos por feature')\n",
    "(df[string_columns]\n",
    ".apply(lambda x : x.nunique()))"
   ]
  },
  {
   "cell_type": "markdown",
   "metadata": {},
   "source": [
    "Temos valores únicos tanto para `_id` quanto parece `unique`, entretando  a feature `_id` se assemelha mais com um identificador relacionado a coleta dos dados, enquanto `unique` é a chave da fatura.  \n",
    "Vamos observar a relação desta chave com as demais features."
   ]
  },
  {
   "cell_type": "code",
   "execution_count": 23,
   "metadata": {},
   "outputs": [
    {
     "data": {
      "application/vnd.plotly.v1+json": {
       "config": {
        "plotlyServerURL": "https://plot.ly"
       },
       "data": [
        {
         "alignmentgroup": "True",
         "bingroup": "y",
         "histfunc": "sum",
         "hovertemplate": "Feature=uc<br>sum of Valor=%{x}<br>cliente=%{y}<extra></extra>",
         "legendgroup": "uc",
         "marker": {
          "color": "#000000",
          "line": {
           "color": "#1A1717",
           "width": 1.5
          },
          "opacity": 0.8,
          "pattern": {
           "shape": ""
          }
         },
         "name": "uc",
         "offsetgroup": "uc",
         "orientation": "h",
         "showlegend": true,
         "type": "histogram",
         "x": [
          3,
          59,
          19,
          3,
          1,
          1,
          2,
          3,
          1,
          27,
          2,
          2,
          3,
          6,
          2,
          3,
          23,
          2
         ],
         "xaxis": "x",
         "y": [
          "VENTOS DO NORTE - COMERCIO DE PRODUTOS",
          "TELEFONICA BRASIL SA",
          "TELEFONICA BRASIL S A",
          "SUPERMERCADO PAREDAO LTDA",
          "SUPERMERCADO ALAMEDA LTDA EPP",
          "SUPERMERCADO ALAMEDA LTDA",
          "SB SUPERMERCADO LTDA ME",
          "NERY ANDRADE NERY LTDA ME",
          "MW COMERCIO D E GENEROS ALIMENTICIOS LTDA",
          "MINERACAO COITE LTDA",
          "M ALVORADA LTDA EPP",
          "J C ANDRADE SOUZA ME",
          "IGUACU SUPERMERCADOS LTDA",
          "CONSORCIO GERADOR FAZENDA MODELO",
          "COMERCIO DE GENEROS ALIMENTICIOS V S LTDA - ME",
          "COMERCIAL IOMAR DE ALIMENTOS LTDA EPP",
          "AGUAS LEBRINHA LTDA",
          "AGUAS CUIABA S A CONCESSIONARIA DE SERVICOS"
         ],
         "yaxis": "y"
        },
        {
         "alignmentgroup": "True",
         "bingroup": "y",
         "histfunc": "sum",
         "hovertemplate": "Feature=cnpj<br>sum of Valor=%{x}<br>cliente=%{y}<extra></extra>",
         "legendgroup": "cnpj",
         "marker": {
          "color": "#d2d2d2",
          "line": {
           "color": "#1A1717",
           "width": 1.5
          },
          "opacity": 0.8,
          "pattern": {
           "shape": ""
          }
         },
         "name": "cnpj",
         "offsetgroup": "cnpj",
         "orientation": "h",
         "showlegend": true,
         "type": "histogram",
         "x": [
          3,
          59,
          19,
          3,
          1,
          1,
          2,
          3,
          1,
          27,
          2,
          2,
          3,
          6,
          2,
          3,
          23,
          2
         ],
         "xaxis": "x",
         "y": [
          "VENTOS DO NORTE - COMERCIO DE PRODUTOS",
          "TELEFONICA BRASIL SA",
          "TELEFONICA BRASIL S A",
          "SUPERMERCADO PAREDAO LTDA",
          "SUPERMERCADO ALAMEDA LTDA EPP",
          "SUPERMERCADO ALAMEDA LTDA",
          "SB SUPERMERCADO LTDA ME",
          "NERY ANDRADE NERY LTDA ME",
          "MW COMERCIO D E GENEROS ALIMENTICIOS LTDA",
          "MINERACAO COITE LTDA",
          "M ALVORADA LTDA EPP",
          "J C ANDRADE SOUZA ME",
          "IGUACU SUPERMERCADOS LTDA",
          "CONSORCIO GERADOR FAZENDA MODELO",
          "COMERCIO DE GENEROS ALIMENTICIOS V S LTDA - ME",
          "COMERCIAL IOMAR DE ALIMENTOS LTDA EPP",
          "AGUAS LEBRINHA LTDA",
          "AGUAS CUIABA S A CONCESSIONARIA DE SERVICOS"
         ],
         "yaxis": "y"
        },
        {
         "alignmentgroup": "True",
         "bingroup": "y",
         "histfunc": "sum",
         "hovertemplate": "Feature=ligacao<br>sum of Valor=%{x}<br>cliente=%{y}<extra></extra>",
         "legendgroup": "ligacao",
         "marker": {
          "color": "#fdbf11",
          "line": {
           "color": "#1A1717",
           "width": 1.5
          },
          "opacity": 0.8,
          "pattern": {
           "shape": ""
          }
         },
         "name": "ligacao",
         "offsetgroup": "ligacao",
         "orientation": "h",
         "showlegend": true,
         "type": "histogram",
         "x": [
          3,
          59,
          19,
          3,
          1,
          1,
          2,
          3,
          1,
          27,
          2,
          2,
          3,
          6,
          2,
          3,
          23,
          2
         ],
         "xaxis": "x",
         "y": [
          "VENTOS DO NORTE - COMERCIO DE PRODUTOS",
          "TELEFONICA BRASIL SA",
          "TELEFONICA BRASIL S A",
          "SUPERMERCADO PAREDAO LTDA",
          "SUPERMERCADO ALAMEDA LTDA EPP",
          "SUPERMERCADO ALAMEDA LTDA",
          "SB SUPERMERCADO LTDA ME",
          "NERY ANDRADE NERY LTDA ME",
          "MW COMERCIO D E GENEROS ALIMENTICIOS LTDA",
          "MINERACAO COITE LTDA",
          "M ALVORADA LTDA EPP",
          "J C ANDRADE SOUZA ME",
          "IGUACU SUPERMERCADOS LTDA",
          "CONSORCIO GERADOR FAZENDA MODELO",
          "COMERCIO DE GENEROS ALIMENTICIOS V S LTDA - ME",
          "COMERCIAL IOMAR DE ALIMENTOS LTDA EPP",
          "AGUAS LEBRINHA LTDA",
          "AGUAS CUIABA S A CONCESSIONARIA DE SERVICOS"
         ],
         "yaxis": "y"
        },
        {
         "alignmentgroup": "True",
         "bingroup": "y",
         "histfunc": "sum",
         "hovertemplate": "Feature=classe<br>sum of Valor=%{x}<br>cliente=%{y}<extra></extra>",
         "legendgroup": "classe",
         "marker": {
          "color": "#1696d2",
          "line": {
           "color": "#1A1717",
           "width": 1.5
          },
          "opacity": 0.8,
          "pattern": {
           "shape": ""
          }
         },
         "name": "classe",
         "offsetgroup": "classe",
         "orientation": "h",
         "showlegend": true,
         "type": "histogram",
         "x": [
          3,
          59,
          19,
          3,
          1,
          1,
          2,
          3,
          1,
          27,
          2,
          2,
          3,
          6,
          2,
          3,
          23,
          2
         ],
         "xaxis": "x",
         "y": [
          "VENTOS DO NORTE - COMERCIO DE PRODUTOS",
          "TELEFONICA BRASIL SA",
          "TELEFONICA BRASIL S A",
          "SUPERMERCADO PAREDAO LTDA",
          "SUPERMERCADO ALAMEDA LTDA EPP",
          "SUPERMERCADO ALAMEDA LTDA",
          "SB SUPERMERCADO LTDA ME",
          "NERY ANDRADE NERY LTDA ME",
          "MW COMERCIO D E GENEROS ALIMENTICIOS LTDA",
          "MINERACAO COITE LTDA",
          "M ALVORADA LTDA EPP",
          "J C ANDRADE SOUZA ME",
          "IGUACU SUPERMERCADOS LTDA",
          "CONSORCIO GERADOR FAZENDA MODELO",
          "COMERCIO DE GENEROS ALIMENTICIOS V S LTDA - ME",
          "COMERCIAL IOMAR DE ALIMENTOS LTDA EPP",
          "AGUAS LEBRINHA LTDA",
          "AGUAS CUIABA S A CONCESSIONARIA DE SERVICOS"
         ],
         "yaxis": "y"
        }
       ],
       "layout": {
        "barmode": "group",
        "hoverlabel": {
         "font": {
          "family": "Lato-Regular",
          "size": 14
         }
        },
        "legend": {
         "font": {
          "color": "#000000",
          "family": "Lato-Regular",
          "size": 13
         },
         "title": {
          "font": {
           "color": "#000000",
           "family": "Lato-Bold",
           "size": 14
          },
          "text": "Feature"
         },
         "tracegroupgap": 0
        },
        "template": {
         "data": {
          "bar": [
           {
            "error_x": {
             "color": "#2a3f5f"
            },
            "error_y": {
             "color": "#2a3f5f"
            },
            "marker": {
             "line": {
              "color": "#E5ECF6",
              "width": 0.5
             },
             "pattern": {
              "fillmode": "overlay",
              "size": 10,
              "solidity": 0.2
             }
            },
            "type": "bar"
           }
          ],
          "barpolar": [
           {
            "marker": {
             "line": {
              "color": "#E5ECF6",
              "width": 0.5
             },
             "pattern": {
              "fillmode": "overlay",
              "size": 10,
              "solidity": 0.2
             }
            },
            "type": "barpolar"
           }
          ],
          "carpet": [
           {
            "aaxis": {
             "endlinecolor": "#2a3f5f",
             "gridcolor": "white",
             "linecolor": "white",
             "minorgridcolor": "white",
             "startlinecolor": "#2a3f5f"
            },
            "baxis": {
             "endlinecolor": "#2a3f5f",
             "gridcolor": "white",
             "linecolor": "white",
             "minorgridcolor": "white",
             "startlinecolor": "#2a3f5f"
            },
            "type": "carpet"
           }
          ],
          "choropleth": [
           {
            "colorbar": {
             "outlinewidth": 0,
             "ticks": ""
            },
            "type": "choropleth"
           }
          ],
          "contour": [
           {
            "colorbar": {
             "outlinewidth": 0,
             "ticks": ""
            },
            "colorscale": [
             [
              0,
              "#0d0887"
             ],
             [
              0.1111111111111111,
              "#46039f"
             ],
             [
              0.2222222222222222,
              "#7201a8"
             ],
             [
              0.3333333333333333,
              "#9c179e"
             ],
             [
              0.4444444444444444,
              "#bd3786"
             ],
             [
              0.5555555555555556,
              "#d8576b"
             ],
             [
              0.6666666666666666,
              "#ed7953"
             ],
             [
              0.7777777777777778,
              "#fb9f3a"
             ],
             [
              0.8888888888888888,
              "#fdca26"
             ],
             [
              1,
              "#f0f921"
             ]
            ],
            "type": "contour"
           }
          ],
          "contourcarpet": [
           {
            "colorbar": {
             "outlinewidth": 0,
             "ticks": ""
            },
            "type": "contourcarpet"
           }
          ],
          "heatmap": [
           {
            "colorbar": {
             "outlinewidth": 0,
             "ticks": ""
            },
            "colorscale": [
             [
              0,
              "#0d0887"
             ],
             [
              0.1111111111111111,
              "#46039f"
             ],
             [
              0.2222222222222222,
              "#7201a8"
             ],
             [
              0.3333333333333333,
              "#9c179e"
             ],
             [
              0.4444444444444444,
              "#bd3786"
             ],
             [
              0.5555555555555556,
              "#d8576b"
             ],
             [
              0.6666666666666666,
              "#ed7953"
             ],
             [
              0.7777777777777778,
              "#fb9f3a"
             ],
             [
              0.8888888888888888,
              "#fdca26"
             ],
             [
              1,
              "#f0f921"
             ]
            ],
            "type": "heatmap"
           }
          ],
          "heatmapgl": [
           {
            "colorbar": {
             "outlinewidth": 0,
             "ticks": ""
            },
            "colorscale": [
             [
              0,
              "#0d0887"
             ],
             [
              0.1111111111111111,
              "#46039f"
             ],
             [
              0.2222222222222222,
              "#7201a8"
             ],
             [
              0.3333333333333333,
              "#9c179e"
             ],
             [
              0.4444444444444444,
              "#bd3786"
             ],
             [
              0.5555555555555556,
              "#d8576b"
             ],
             [
              0.6666666666666666,
              "#ed7953"
             ],
             [
              0.7777777777777778,
              "#fb9f3a"
             ],
             [
              0.8888888888888888,
              "#fdca26"
             ],
             [
              1,
              "#f0f921"
             ]
            ],
            "type": "heatmapgl"
           }
          ],
          "histogram": [
           {
            "marker": {
             "pattern": {
              "fillmode": "overlay",
              "size": 10,
              "solidity": 0.2
             }
            },
            "type": "histogram"
           }
          ],
          "histogram2d": [
           {
            "colorbar": {
             "outlinewidth": 0,
             "ticks": ""
            },
            "colorscale": [
             [
              0,
              "#0d0887"
             ],
             [
              0.1111111111111111,
              "#46039f"
             ],
             [
              0.2222222222222222,
              "#7201a8"
             ],
             [
              0.3333333333333333,
              "#9c179e"
             ],
             [
              0.4444444444444444,
              "#bd3786"
             ],
             [
              0.5555555555555556,
              "#d8576b"
             ],
             [
              0.6666666666666666,
              "#ed7953"
             ],
             [
              0.7777777777777778,
              "#fb9f3a"
             ],
             [
              0.8888888888888888,
              "#fdca26"
             ],
             [
              1,
              "#f0f921"
             ]
            ],
            "type": "histogram2d"
           }
          ],
          "histogram2dcontour": [
           {
            "colorbar": {
             "outlinewidth": 0,
             "ticks": ""
            },
            "colorscale": [
             [
              0,
              "#0d0887"
             ],
             [
              0.1111111111111111,
              "#46039f"
             ],
             [
              0.2222222222222222,
              "#7201a8"
             ],
             [
              0.3333333333333333,
              "#9c179e"
             ],
             [
              0.4444444444444444,
              "#bd3786"
             ],
             [
              0.5555555555555556,
              "#d8576b"
             ],
             [
              0.6666666666666666,
              "#ed7953"
             ],
             [
              0.7777777777777778,
              "#fb9f3a"
             ],
             [
              0.8888888888888888,
              "#fdca26"
             ],
             [
              1,
              "#f0f921"
             ]
            ],
            "type": "histogram2dcontour"
           }
          ],
          "mesh3d": [
           {
            "colorbar": {
             "outlinewidth": 0,
             "ticks": ""
            },
            "type": "mesh3d"
           }
          ],
          "parcoords": [
           {
            "line": {
             "colorbar": {
              "outlinewidth": 0,
              "ticks": ""
             }
            },
            "type": "parcoords"
           }
          ],
          "pie": [
           {
            "automargin": true,
            "type": "pie"
           }
          ],
          "scatter": [
           {
            "marker": {
             "colorbar": {
              "outlinewidth": 0,
              "ticks": ""
             }
            },
            "type": "scatter"
           }
          ],
          "scatter3d": [
           {
            "line": {
             "colorbar": {
              "outlinewidth": 0,
              "ticks": ""
             }
            },
            "marker": {
             "colorbar": {
              "outlinewidth": 0,
              "ticks": ""
             }
            },
            "type": "scatter3d"
           }
          ],
          "scattercarpet": [
           {
            "marker": {
             "colorbar": {
              "outlinewidth": 0,
              "ticks": ""
             }
            },
            "type": "scattercarpet"
           }
          ],
          "scattergeo": [
           {
            "marker": {
             "colorbar": {
              "outlinewidth": 0,
              "ticks": ""
             }
            },
            "type": "scattergeo"
           }
          ],
          "scattergl": [
           {
            "marker": {
             "colorbar": {
              "outlinewidth": 0,
              "ticks": ""
             }
            },
            "type": "scattergl"
           }
          ],
          "scattermapbox": [
           {
            "marker": {
             "colorbar": {
              "outlinewidth": 0,
              "ticks": ""
             }
            },
            "type": "scattermapbox"
           }
          ],
          "scatterpolar": [
           {
            "marker": {
             "colorbar": {
              "outlinewidth": 0,
              "ticks": ""
             }
            },
            "type": "scatterpolar"
           }
          ],
          "scatterpolargl": [
           {
            "marker": {
             "colorbar": {
              "outlinewidth": 0,
              "ticks": ""
             }
            },
            "type": "scatterpolargl"
           }
          ],
          "scatterternary": [
           {
            "marker": {
             "colorbar": {
              "outlinewidth": 0,
              "ticks": ""
             }
            },
            "type": "scatterternary"
           }
          ],
          "surface": [
           {
            "colorbar": {
             "outlinewidth": 0,
             "ticks": ""
            },
            "colorscale": [
             [
              0,
              "#0d0887"
             ],
             [
              0.1111111111111111,
              "#46039f"
             ],
             [
              0.2222222222222222,
              "#7201a8"
             ],
             [
              0.3333333333333333,
              "#9c179e"
             ],
             [
              0.4444444444444444,
              "#bd3786"
             ],
             [
              0.5555555555555556,
              "#d8576b"
             ],
             [
              0.6666666666666666,
              "#ed7953"
             ],
             [
              0.7777777777777778,
              "#fb9f3a"
             ],
             [
              0.8888888888888888,
              "#fdca26"
             ],
             [
              1,
              "#f0f921"
             ]
            ],
            "type": "surface"
           }
          ],
          "table": [
           {
            "cells": {
             "fill": {
              "color": "#EBF0F8"
             },
             "line": {
              "color": "white"
             }
            },
            "header": {
             "fill": {
              "color": "#C8D4E3"
             },
             "line": {
              "color": "white"
             }
            },
            "type": "table"
           }
          ]
         },
         "layout": {
          "annotationdefaults": {
           "arrowcolor": "#2a3f5f",
           "arrowhead": 0,
           "arrowwidth": 1
          },
          "autotypenumbers": "strict",
          "coloraxis": {
           "colorbar": {
            "outlinewidth": 0,
            "ticks": ""
           }
          },
          "colorscale": {
           "diverging": [
            [
             0,
             "#8e0152"
            ],
            [
             0.1,
             "#c51b7d"
            ],
            [
             0.2,
             "#de77ae"
            ],
            [
             0.3,
             "#f1b6da"
            ],
            [
             0.4,
             "#fde0ef"
            ],
            [
             0.5,
             "#f7f7f7"
            ],
            [
             0.6,
             "#e6f5d0"
            ],
            [
             0.7,
             "#b8e186"
            ],
            [
             0.8,
             "#7fbc41"
            ],
            [
             0.9,
             "#4d9221"
            ],
            [
             1,
             "#276419"
            ]
           ],
           "sequential": [
            [
             0,
             "#0d0887"
            ],
            [
             0.1111111111111111,
             "#46039f"
            ],
            [
             0.2222222222222222,
             "#7201a8"
            ],
            [
             0.3333333333333333,
             "#9c179e"
            ],
            [
             0.4444444444444444,
             "#bd3786"
            ],
            [
             0.5555555555555556,
             "#d8576b"
            ],
            [
             0.6666666666666666,
             "#ed7953"
            ],
            [
             0.7777777777777778,
             "#fb9f3a"
            ],
            [
             0.8888888888888888,
             "#fdca26"
            ],
            [
             1,
             "#f0f921"
            ]
           ],
           "sequentialminus": [
            [
             0,
             "#0d0887"
            ],
            [
             0.1111111111111111,
             "#46039f"
            ],
            [
             0.2222222222222222,
             "#7201a8"
            ],
            [
             0.3333333333333333,
             "#9c179e"
            ],
            [
             0.4444444444444444,
             "#bd3786"
            ],
            [
             0.5555555555555556,
             "#d8576b"
            ],
            [
             0.6666666666666666,
             "#ed7953"
            ],
            [
             0.7777777777777778,
             "#fb9f3a"
            ],
            [
             0.8888888888888888,
             "#fdca26"
            ],
            [
             1,
             "#f0f921"
            ]
           ]
          },
          "colorway": [
           "#636efa",
           "#EF553B",
           "#00cc96",
           "#ab63fa",
           "#FFA15A",
           "#19d3f3",
           "#FF6692",
           "#B6E880",
           "#FF97FF",
           "#FECB52"
          ],
          "font": {
           "color": "#2a3f5f"
          },
          "geo": {
           "bgcolor": "white",
           "lakecolor": "white",
           "landcolor": "#E5ECF6",
           "showlakes": true,
           "showland": true,
           "subunitcolor": "white"
          },
          "hoverlabel": {
           "align": "left"
          },
          "hovermode": "closest",
          "mapbox": {
           "style": "light"
          },
          "paper_bgcolor": "white",
          "plot_bgcolor": "#E5ECF6",
          "polar": {
           "angularaxis": {
            "gridcolor": "white",
            "linecolor": "white",
            "ticks": ""
           },
           "bgcolor": "#E5ECF6",
           "radialaxis": {
            "gridcolor": "white",
            "linecolor": "white",
            "ticks": ""
           }
          },
          "scene": {
           "xaxis": {
            "backgroundcolor": "#E5ECF6",
            "gridcolor": "white",
            "gridwidth": 2,
            "linecolor": "white",
            "showbackground": true,
            "ticks": "",
            "zerolinecolor": "white"
           },
           "yaxis": {
            "backgroundcolor": "#E5ECF6",
            "gridcolor": "white",
            "gridwidth": 2,
            "linecolor": "white",
            "showbackground": true,
            "ticks": "",
            "zerolinecolor": "white"
           },
           "zaxis": {
            "backgroundcolor": "#E5ECF6",
            "gridcolor": "white",
            "gridwidth": 2,
            "linecolor": "white",
            "showbackground": true,
            "ticks": "",
            "zerolinecolor": "white"
           }
          },
          "shapedefaults": {
           "line": {
            "color": "#2a3f5f"
           }
          },
          "ternary": {
           "aaxis": {
            "gridcolor": "white",
            "linecolor": "white",
            "ticks": ""
           },
           "baxis": {
            "gridcolor": "white",
            "linecolor": "white",
            "ticks": ""
           },
           "bgcolor": "#E5ECF6",
           "caxis": {
            "gridcolor": "white",
            "linecolor": "white",
            "ticks": ""
           }
          },
          "title": {
           "x": 0.05
          },
          "xaxis": {
           "automargin": true,
           "gridcolor": "white",
           "linecolor": "white",
           "ticks": "",
           "title": {
            "standoff": 15
           },
           "zerolinecolor": "white",
           "zerolinewidth": 2
          },
          "yaxis": {
           "automargin": true,
           "gridcolor": "white",
           "linecolor": "white",
           "ticks": "",
           "title": {
            "standoff": 15
           },
           "zerolinecolor": "white",
           "zerolinewidth": 2
          }
         }
        },
        "title": {
         "font": {
          "color": "#000000",
          "family": "Lato-Bold",
          "size": 18
         },
         "text": "Distribuição das features por cliente"
        },
        "width": 800,
        "xaxis": {
         "anchor": "y",
         "domain": [
          0,
          1
         ],
         "tickfont": {
          "color": "#000000",
          "family": "Lato-Regular",
          "size": 12
         },
         "title": {
          "font": {
           "color": "#000000",
           "family": "Lato-Italic",
           "size": 14
          },
          "text": "Quantidade"
         }
        },
        "yaxis": {
         "anchor": "x",
         "domain": [
          0,
          1
         ],
         "tickfont": {
          "color": "#000000",
          "family": "Lato-Regular",
          "size": 12
         },
         "title": {
          "font": {
           "color": "#000000",
           "family": "Lato-Italic",
           "size": 14
          },
          "text": "Cliente"
         }
        }
       }
      }
     },
     "metadata": {},
     "output_type": "display_data"
    }
   ],
   "source": [
    "# Selecionando o dado a ser plotado\n",
    "plot_columns = ['classe', 'ligacao', 'cnpj', 'uc']\n",
    "plot_data = (\n",
    "\tdf.groupby(by='cliente')\t\t\t\t# Agrupando por cliente\n",
    "\t[plot_columns]\t\t\t\t\t\t\t# Selecionando as colunas de interesse\n",
    "\t.count()\t\t\t\t\t\t\t\t# Contando os valores\n",
    "\t.reset_index()\t\t\t\t\t\t\t# Transformando para o formato \"tidy\"\n",
    "\t.melt(\n",
    "\t\tid_vars=['cliente'],\n",
    "\t\tvar_name='Feature', \n",
    "\t\tvalue_name='Valor')\n",
    "\t).sort_values(by='cliente', ascending=False)\t# Ordenando clientes por ordem alfabética\n",
    "# Plotando com plotly express\n",
    "px.histogram(\n",
    "\tdata_frame=plot_data,\t    \t\t\t\t\t# Dado a ser plotado\n",
    "\tx='Valor',\n",
    "\ty='cliente',\t\t\t\t\t\t\t\t\t# Muda a orientacão para a vertical\n",
    "\tcolor='Feature',\n",
    "\tcolor_discrete_sequence=CATEGORICAL_GROUPS[len(plot_columns)],\n",
    "\tbarmode='group',\n",
    "\ttitle='Distribuição das features por cliente',\t# Título do gráfico\n",
    "\twidth=800, opacity=0.8\t\t\t\t\t\t\t# Tamanho e alpha da cor\n",
    ").update_traces(\t\t\t\t\t\t\t\t\t\n",
    "\tmarker_line_color=SHADES['GRAY'][6], \t\t\t# Customização do layout da barra\n",
    "\tmarker_line_width=1.5,\n",
    ").update_layout(\n",
    "\txaxis_title='Quantidade',\t\t\t\t\t\t# Renomeia título do eixo x \n",
    "\tyaxis_title='Cliente',\t\t\t\t\t\t\t# Renomeia título do eixo y \n",
    "\t**LAYOUT_SPECS\t\t\t\t\t\t\t\t\t# Customizações do layout\n",
    ")"
   ]
  },
  {
   "cell_type": "markdown",
   "metadata": {},
   "source": [
    "Podemos observar que o cliente 'TELEFONICA BRASIL SA' está escrito de duas maneiras, isso explica porque existe 18 registros únicos de `clientes` e 17 de `cnpj`.  "
   ]
  },
  {
   "cell_type": "code",
   "execution_count": 24,
   "metadata": {},
   "outputs": [],
   "source": [
    "# Renomeando o valor alternativo para o cliente\n",
    "df['cliente'] = df['cliente'].replace({'TELEFONICA BRASIL S A': 'TELEFONICA BRASIL SA'})"
   ]
  },
  {
   "cell_type": "markdown",
   "metadata": {},
   "source": [
    "A coluna `__v` possuí apenas 1 valor, portanto iremos removê-la do dataframe"
   ]
  },
  {
   "cell_type": "code",
   "execution_count": 25,
   "metadata": {},
   "outputs": [
    {
     "name": "stdout",
     "output_type": "stream",
     "text": [
      "0    162\n",
      "Name: __v, dtype: int64\n"
     ]
    }
   ],
   "source": [
    "# Contagem dos valores da coluna\n",
    "print(df['__v'].value_counts())\n",
    "# Aplicando o drop da coluna\n",
    "df.drop(columns='__v', inplace=True)"
   ]
  },
  {
   "cell_type": "markdown",
   "metadata": {},
   "source": [
    "## Features do tipo *datetime*"
   ]
  },
  {
   "cell_type": "markdown",
   "metadata": {},
   "source": [
    "Atualizando o *dtype* das colunas com data para *datetime*"
   ]
  },
  {
   "cell_type": "code",
   "execution_count": 26,
   "metadata": {},
   "outputs": [],
   "source": [
    "# Selecionando as colunas com data\n",
    "colunas_date = [\n",
    "\t'referencia', 'data_vencimento', 'data_emissao', \n",
    "\t'data_apresentacao', 'data_proxima_leitura',\n",
    "\t'createdAt', 'updatedAt',\n",
    "\t]\n",
    "# Aplicando o cast para datetime\n",
    "for coluna in colunas_date:\n",
    "\tdf[coluna] =  pd.to_datetime(df[coluna])"
   ]
  },
  {
   "cell_type": "markdown",
   "metadata": {},
   "source": [
    "## `estruturaConsumo`"
   ]
  },
  {
   "cell_type": "markdown",
   "metadata": {},
   "source": [
    "Para a coluna `estruturaConsumo` vamos realizar a normalização feita anteriormente, dessa vez adicionando como metadados os valores do nível raiz, dessa forma conseguimos ter uma chave para cada linha resultante do achatamento na coluna `leituras`."
   ]
  },
  {
   "cell_type": "code",
   "execution_count": 27,
   "metadata": {},
   "outputs": [
    {
     "name": "stdout",
     "output_type": "stream",
     "text": [
      "Tipo dos dados: {dtype('O')}\n"
     ]
    },
    {
     "data": {
      "text/html": [
       "<div>\n",
       "<style scoped>\n",
       "    .dataframe tbody tr th:only-of-type {\n",
       "        vertical-align: middle;\n",
       "    }\n",
       "\n",
       "    .dataframe tbody tr th {\n",
       "        vertical-align: top;\n",
       "    }\n",
       "\n",
       "    .dataframe thead th {\n",
       "        text-align: right;\n",
       "    }\n",
       "</style>\n",
       "<table border=\"1\" class=\"dataframe\">\n",
       "  <thead>\n",
       "    <tr style=\"text-align: right;\">\n",
       "      <th></th>\n",
       "      <th>un</th>\n",
       "      <th>posto</th>\n",
       "      <th>medido</th>\n",
       "      <th>faturado</th>\n",
       "      <th>_id.$oid</th>\n",
       "      <th>saldoPonta</th>\n",
       "      <th>saldoForaPonta</th>\n",
       "      <th>expiraForaPonta</th>\n",
       "      <th>expiraPonta</th>\n",
       "      <th>saldoAcumulado</th>\n",
       "      <th>expiraAcumulado</th>\n",
       "      <th>leituraAnterior</th>\n",
       "      <th>leituraAtual</th>\n",
       "      <th>unique</th>\n",
       "    </tr>\n",
       "  </thead>\n",
       "  <tbody>\n",
       "    <tr>\n",
       "      <th>0</th>\n",
       "      <td>KWH</td>\n",
       "      <td>PONTA</td>\n",
       "      <td>24363</td>\n",
       "      <td>24363</td>\n",
       "      <td>62220ff138b5b03262a806d9</td>\n",
       "      <td>0</td>\n",
       "      <td>0</td>\n",
       "      <td>0</td>\n",
       "      <td>0</td>\n",
       "      <td>0</td>\n",
       "      <td>0</td>\n",
       "      <td>2022-01-28</td>\n",
       "      <td>2022-02-25</td>\n",
       "      <td>b45dc7a8-2aa8-4693-a7c2-2260c4f0b642</td>\n",
       "    </tr>\n",
       "    <tr>\n",
       "      <th>1</th>\n",
       "      <td>KWH</td>\n",
       "      <td>PONTA</td>\n",
       "      <td>1005</td>\n",
       "      <td>1005</td>\n",
       "      <td>62220ff138b5b03262a806df</td>\n",
       "      <td>0</td>\n",
       "      <td>0</td>\n",
       "      <td>0</td>\n",
       "      <td>0</td>\n",
       "      <td>0</td>\n",
       "      <td>0</td>\n",
       "      <td>2022-01-28</td>\n",
       "      <td>2022-02-25</td>\n",
       "      <td>1bcac16e-289a-45c4-8509-f98ad5b66bcb</td>\n",
       "    </tr>\n",
       "    <tr>\n",
       "      <th>2</th>\n",
       "      <td>KWH</td>\n",
       "      <td>PONTA</td>\n",
       "      <td>1000</td>\n",
       "      <td>1000</td>\n",
       "      <td>62220ff238b5b03262a806e6</td>\n",
       "      <td>0</td>\n",
       "      <td>0</td>\n",
       "      <td>0</td>\n",
       "      <td>0</td>\n",
       "      <td>0</td>\n",
       "      <td>0</td>\n",
       "      <td>2022-01-28</td>\n",
       "      <td>2022-02-25</td>\n",
       "      <td>37399592-abd1-4de3-bb28-1b3753caf972</td>\n",
       "    </tr>\n",
       "  </tbody>\n",
       "</table>\n",
       "</div>"
      ],
      "text/plain": [
       "    un  posto medido faturado                  _id.$oid saldoPonta  \\\n",
       "0  KWH  PONTA  24363    24363  62220ff138b5b03262a806d9          0   \n",
       "1  KWH  PONTA   1005     1005  62220ff138b5b03262a806df          0   \n",
       "2  KWH  PONTA   1000     1000  62220ff238b5b03262a806e6          0   \n",
       "\n",
       "  saldoForaPonta expiraForaPonta expiraPonta saldoAcumulado expiraAcumulado  \\\n",
       "0              0               0           0              0               0   \n",
       "1              0               0           0              0               0   \n",
       "2              0               0           0              0               0   \n",
       "\n",
       "  leituraAnterior leituraAtual                                unique  \n",
       "0      2022-01-28   2022-02-25  b45dc7a8-2aa8-4693-a7c2-2260c4f0b642  \n",
       "1      2022-01-28   2022-02-25  1bcac16e-289a-45c4-8509-f98ad5b66bcb  \n",
       "2      2022-01-28   2022-02-25  37399592-abd1-4de3-bb28-1b3753caf972  "
      ]
     },
     "execution_count": 27,
     "metadata": {},
     "output_type": "execute_result"
    }
   ],
   "source": [
    "# Adiciona os ids unique como nova chave para cada linha de estruturaConsumo\n",
    "for index, id_value in enumerate(df['unique']):\n",
    "\tdf['estruturaConsumo'].iloc[index]['unique'] = id_value\n",
    "\n",
    "# Seleciona as colunas e metadados (todas exceto leituras)\n",
    "meta_columns = list(pd.json_normalize(df['estruturaConsumo']).drop(columns='leituras'))\n",
    "\n",
    "# Normaliza os dados\n",
    "consumo_df = pd.json_normalize(\n",
    "\tdf['estruturaConsumo'], \n",
    "\trecord_path=['leituras'],\n",
    "\tmeta = meta_columns\n",
    ")\n",
    "print(f'Tipo dos dados: {set(consumo_df.dtypes)}')\n",
    "consumo_df.head(3)"
   ]
  },
  {
   "cell_type": "markdown",
   "metadata": {},
   "source": [
    "Os daods foram normalizados, porém todas colunas estão do tipo *object*. Quando há claramente valores numéricos em uma coluna e o mesmo é convertido para *object*, pode significar que existe algum valor não numérico, como uma string vazia. Vamos fazer essa verificação."
   ]
  },
  {
   "cell_type": "code",
   "execution_count": 28,
   "metadata": {},
   "outputs": [
    {
     "data": {
      "text/plain": [
       "un                  0\n",
       "posto               0\n",
       "medido              0\n",
       "faturado            0\n",
       "_id.$oid            0\n",
       "saldoPonta         56\n",
       "saldoForaPonta     56\n",
       "expiraForaPonta    56\n",
       "expiraPonta        56\n",
       "saldoAcumulado     56\n",
       "expiraAcumulado    56\n",
       "leituraAnterior     8\n",
       "leituraAtual        8\n",
       "unique              0\n",
       "dtype: int64"
      ]
     },
     "execution_count": 28,
     "metadata": {},
     "output_type": "execute_result"
    }
   ],
   "source": [
    "consumo_df.apply(lambda x: x == '').sum()"
   ]
  },
  {
   "cell_type": "markdown",
   "metadata": {},
   "source": [
    "De fato, as colunas referentes aos saldos e datas possuem alguns valores de strings vazias.\n",
    "Será necessário preencher esses campos com valores nulos(NaN) antes de fazer a atualização dos tipos de dados."
   ]
  },
  {
   "cell_type": "code",
   "execution_count": 29,
   "metadata": {},
   "outputs": [
    {
     "name": "stdout",
     "output_type": "stream",
     "text": [
      "<class 'pandas.core.frame.DataFrame'>\n",
      "RangeIndex: 362 entries, 0 to 361\n",
      "Data columns (total 14 columns):\n",
      " #   Column           Non-Null Count  Dtype         \n",
      "---  ------           --------------  -----         \n",
      " 0   un               362 non-null    object        \n",
      " 1   posto            362 non-null    object        \n",
      " 2   medido           362 non-null    float64       \n",
      " 3   faturado         362 non-null    float64       \n",
      " 4   _id.$oid         362 non-null    object        \n",
      " 5   saldoPonta       306 non-null    Int64         \n",
      " 6   saldoForaPonta   306 non-null    Int64         \n",
      " 7   expiraForaPonta  306 non-null    Int64         \n",
      " 8   expiraPonta      306 non-null    Int64         \n",
      " 9   saldoAcumulado   306 non-null    Int64         \n",
      " 10  expiraAcumulado  306 non-null    Int64         \n",
      " 11  leituraAnterior  354 non-null    datetime64[ns]\n",
      " 12  leituraAtual     354 non-null    datetime64[ns]\n",
      " 13  unique           362 non-null    object        \n",
      "dtypes: Int64(6), datetime64[ns](2), float64(2), object(4)\n",
      "memory usage: 41.8+ KB\n"
     ]
    }
   ],
   "source": [
    "# Preenche strings vazias com valores nulos\n",
    "consumo_df = consumo_df.replace(r'^\\s*$', np.nan, regex=True)\n",
    "\n",
    "# Selecionando as colunas para ser modificadas\n",
    "int_columns = [\n",
    "\t'saldoPonta', 'saldoForaPonta', \n",
    "\t'expiraForaPonta', 'expiraPonta', 'saldoAcumulado', \n",
    "\t'expiraAcumulado']\n",
    "float_columns = ['medido', 'faturado']\n",
    "date_columns = ['leituraAnterior', 'leituraAtual']\n",
    "\n",
    "# Aplicando os casts\n",
    "consumo_df[int_columns]       = consumo_df[int_columns].astype('Int64')\n",
    "consumo_df[float_columns]     = consumo_df[float_columns].astype('float64')\n",
    "consumo_df['leituraAnterior'] = pd.to_datetime(consumo_df['leituraAnterior'])\n",
    "consumo_df['leituraAtual']    = pd.to_datetime(consumo_df['leituraAtual'])\n",
    "\n",
    "# Verificando o sumário do dataframe\n",
    "consumo_df.info()"
   ]
  },
  {
   "cell_type": "markdown",
   "metadata": {},
   "source": [
    "Atualizando a coluna `estruturaConsumo` com os valores tratados."
   ]
  },
  {
   "cell_type": "code",
   "execution_count": 30,
   "metadata": {},
   "outputs": [],
   "source": [
    "# Convertendo o dataframe de volta ao formato dict\n",
    "df['estruturaConsumo'] = consumo_df.apply(lambda x : x.to_dict(), axis=1)"
   ]
  },
  {
   "cell_type": "markdown",
   "metadata": {},
   "source": [
    "## `tarifas`"
   ]
  },
  {
   "cell_type": "markdown",
   "metadata": {},
   "source": [
    "Para melhor acessar as informações, vamos carregar novamente a coluna tarifas, dessa vez associando como metadado o id `unique` da fatura."
   ]
  },
  {
   "cell_type": "code",
   "execution_count": 31,
   "metadata": {},
   "outputs": [
    {
     "data": {
      "text/html": [
       "<div>\n",
       "<style scoped>\n",
       "    .dataframe tbody tr th:only-of-type {\n",
       "        vertical-align: middle;\n",
       "    }\n",
       "\n",
       "    .dataframe tbody tr th {\n",
       "        vertical-align: top;\n",
       "    }\n",
       "\n",
       "    .dataframe thead th {\n",
       "        text-align: right;\n",
       "    }\n",
       "</style>\n",
       "<table border=\"1\" class=\"dataframe\">\n",
       "  <thead>\n",
       "    <tr style=\"text-align: right;\">\n",
       "      <th></th>\n",
       "      <th>cci</th>\n",
       "      <th>descricao</th>\n",
       "      <th>quantidade</th>\n",
       "      <th>semTributos</th>\n",
       "      <th>comTributos</th>\n",
       "      <th>valorTotal</th>\n",
       "      <th>baseIcms</th>\n",
       "      <th>aliqIcms</th>\n",
       "      <th>icms</th>\n",
       "      <th>basePisCofins</th>\n",
       "      <th>pis</th>\n",
       "      <th>cofins</th>\n",
       "      <th>_id.$oid</th>\n",
       "      <th>unique</th>\n",
       "    </tr>\n",
       "  </thead>\n",
       "  <tbody>\n",
       "    <tr>\n",
       "      <th>0</th>\n",
       "      <td>0601</td>\n",
       "      <td>CONSUMO EM KWH</td>\n",
       "      <td>24363.0</td>\n",
       "      <td>0.6835</td>\n",
       "      <td>0.85548</td>\n",
       "      <td>20842.28</td>\n",
       "      <td>20842.28</td>\n",
       "      <td>17.0</td>\n",
       "      <td>3543.18</td>\n",
       "      <td>17299.10</td>\n",
       "      <td>115.40</td>\n",
       "      <td>531.58</td>\n",
       "      <td>62220ff138b5b03262a806d5</td>\n",
       "      <td>b45dc7a8-2aa8-4693-a7c2-2260c4f0b642</td>\n",
       "    </tr>\n",
       "    <tr>\n",
       "      <th>1</th>\n",
       "      <td>0601</td>\n",
       "      <td>ENERGIA ATV INJETADA OUC 02/2022 MPT</td>\n",
       "      <td>12429.0</td>\n",
       "      <td>0.6835</td>\n",
       "      <td>0.76897</td>\n",
       "      <td>-9557.65</td>\n",
       "      <td>-4308.07</td>\n",
       "      <td>17.0</td>\n",
       "      <td>-732.37</td>\n",
       "      <td>-8825.28</td>\n",
       "      <td>-58.87</td>\n",
       "      <td>-271.19</td>\n",
       "      <td>62220ff138b5b03262a806d6</td>\n",
       "      <td>b45dc7a8-2aa8-4693-a7c2-2260c4f0b642</td>\n",
       "    </tr>\n",
       "    <tr>\n",
       "      <th>2</th>\n",
       "      <td>0601</td>\n",
       "      <td>ADIC. B. VERMELHA</td>\n",
       "      <td>0.0</td>\n",
       "      <td>0.0000</td>\n",
       "      <td>0.00000</td>\n",
       "      <td>2121.05</td>\n",
       "      <td>2121.05</td>\n",
       "      <td>17.0</td>\n",
       "      <td>360.58</td>\n",
       "      <td>1760.47</td>\n",
       "      <td>11.74</td>\n",
       "      <td>54.09</td>\n",
       "      <td>62220ff138b5b03262a806d7</td>\n",
       "      <td>b45dc7a8-2aa8-4693-a7c2-2260c4f0b642</td>\n",
       "    </tr>\n",
       "  </tbody>\n",
       "</table>\n",
       "</div>"
      ],
      "text/plain": [
       "    cci                             descricao  quantidade  semTributos  \\\n",
       "0  0601                        CONSUMO EM KWH     24363.0       0.6835   \n",
       "1  0601  ENERGIA ATV INJETADA OUC 02/2022 MPT     12429.0       0.6835   \n",
       "2  0601                     ADIC. B. VERMELHA         0.0       0.0000   \n",
       "\n",
       "   comTributos  valorTotal  baseIcms  aliqIcms     icms  basePisCofins  \\\n",
       "0      0.85548    20842.28  20842.28      17.0  3543.18       17299.10   \n",
       "1      0.76897    -9557.65  -4308.07      17.0  -732.37       -8825.28   \n",
       "2      0.00000     2121.05   2121.05      17.0   360.58        1760.47   \n",
       "\n",
       "      pis  cofins                  _id.$oid  \\\n",
       "0  115.40  531.58  62220ff138b5b03262a806d5   \n",
       "1  -58.87 -271.19  62220ff138b5b03262a806d6   \n",
       "2   11.74   54.09  62220ff138b5b03262a806d7   \n",
       "\n",
       "                                 unique  \n",
       "0  b45dc7a8-2aa8-4693-a7c2-2260c4f0b642  \n",
       "1  b45dc7a8-2aa8-4693-a7c2-2260c4f0b642  \n",
       "2  b45dc7a8-2aa8-4693-a7c2-2260c4f0b642  "
      ]
     },
     "execution_count": 31,
     "metadata": {},
     "output_type": "execute_result"
    }
   ],
   "source": [
    "tarifas_df = pd.json_normalize(\n",
    "\tjson_data,\t\t\t\t\t# Dado carregado com json\n",
    "\trecord_path=['tarifas'],\t# Caminho para achatar\n",
    "\tmeta=['unique']\t\t\t\t# Coluna de metadado\n",
    ")\n",
    "tarifas_df.head(3)"
   ]
  },
  {
   "cell_type": "markdown",
   "metadata": {},
   "source": [
    "Agora vamos adicionar uma nova coluna referente ao tipo da descrição, e uma ao posto."
   ]
  },
  {
   "cell_type": "code",
   "execution_count": 32,
   "metadata": {},
   "outputs": [],
   "source": [
    "tarifas_df['class_desc'] = tarifas_df['descricao'].apply(lambda x: x.split()[0])"
   ]
  },
  {
   "cell_type": "code",
   "execution_count": 33,
   "metadata": {},
   "outputs": [],
   "source": [
    "# Filtrando a descrição com regex\n",
    "tarifas_df['tarifa_posto'] = tarifas_df['descricao'].apply(\n",
    "\tlambda x: re.findall('PONTA|FORA PONTA|F PONTA|FPONTA', x))\n",
    "# Eliminando o formato de lista\n",
    "tarifas_df['tarifa_posto'] = tarifas_df['tarifa_posto'].apply(lambda x : x[0] if len(x)>0 else 'NA')\n",
    "# Normalizando as labels\n",
    "tarifas_df['tarifa_posto'] = tarifas_df['tarifa_posto'].replace({\n",
    "\t'F PONTA' : 'FPONTA',\n",
    "\t'FORA PONTA' : 'FPONTA',\n",
    "})"
   ]
  },
  {
   "cell_type": "code",
   "execution_count": 34,
   "metadata": {},
   "outputs": [
    {
     "name": "stdout",
     "output_type": "stream",
     "text": [
      "<class 'pandas.core.frame.DataFrame'>\n",
      "RangeIndex: 777 entries, 0 to 776\n",
      "Data columns (total 16 columns):\n",
      " #   Column         Non-Null Count  Dtype  \n",
      "---  ------         --------------  -----  \n",
      " 0   cci            777 non-null    object \n",
      " 1   descricao      777 non-null    object \n",
      " 2   quantidade     777 non-null    float64\n",
      " 3   semTributos    777 non-null    float64\n",
      " 4   comTributos    777 non-null    float64\n",
      " 5   valorTotal     777 non-null    float64\n",
      " 6   baseIcms       777 non-null    float64\n",
      " 7   aliqIcms       777 non-null    float64\n",
      " 8   icms           777 non-null    float64\n",
      " 9   basePisCofins  777 non-null    float64\n",
      " 10  pis            777 non-null    float64\n",
      " 11  cofins         777 non-null    float64\n",
      " 12  _id.$oid       777 non-null    object \n",
      " 13  unique         777 non-null    object \n",
      " 14  class_desc     777 non-null    object \n",
      " 15  tarifa_posto   777 non-null    object \n",
      "dtypes: float64(10), object(6)\n",
      "memory usage: 97.2+ KB\n"
     ]
    }
   ],
   "source": [
    "tarifas_df.info()"
   ]
  },
  {
   "cell_type": "markdown",
   "metadata": {},
   "source": [
    "Atualizando a coluna `tarifas` com os valores tratados."
   ]
  },
  {
   "cell_type": "code",
   "execution_count": 35,
   "metadata": {},
   "outputs": [
    {
     "data": {
      "text/html": [
       "<div>\n",
       "<style scoped>\n",
       "    .dataframe tbody tr th:only-of-type {\n",
       "        vertical-align: middle;\n",
       "    }\n",
       "\n",
       "    .dataframe tbody tr th {\n",
       "        vertical-align: top;\n",
       "    }\n",
       "\n",
       "    .dataframe thead th {\n",
       "        text-align: right;\n",
       "    }\n",
       "</style>\n",
       "<table border=\"1\" class=\"dataframe\">\n",
       "  <thead>\n",
       "    <tr style=\"text-align: right;\">\n",
       "      <th></th>\n",
       "      <th>unique</th>\n",
       "      <th>tarifas</th>\n",
       "    </tr>\n",
       "  </thead>\n",
       "  <tbody>\n",
       "    <tr>\n",
       "      <th>0</th>\n",
       "      <td>0044e06c-d45a-4ff1-907c-1d9ac4848945</td>\n",
       "      <td>[{'cci': '0601', 'descricao': 'CONSUMO EM KWH'...</td>\n",
       "    </tr>\n",
       "    <tr>\n",
       "      <th>1</th>\n",
       "      <td>02e9ef72-4a15-453e-a164-688bc64c189b</td>\n",
       "      <td>[{'cci': '0602', 'descricao': 'DEMANDA POTÊNCI...</td>\n",
       "    </tr>\n",
       "    <tr>\n",
       "      <th>2</th>\n",
       "      <td>051499f5-81ef-47a2-979a-8178e9915b53</td>\n",
       "      <td>[{'cci': '0601', 'descricao': 'CONSUMO EM KWH'...</td>\n",
       "    </tr>\n",
       "    <tr>\n",
       "      <th>3</th>\n",
       "      <td>093812c1-ab23-409f-8ff2-9dfffddbb64f</td>\n",
       "      <td>[{'cci': '0601', 'descricao': 'CONSUMO EM KWH'...</td>\n",
       "    </tr>\n",
       "    <tr>\n",
       "      <th>4</th>\n",
       "      <td>0bc7b143-9a0b-4c7d-b4dc-d5f68fd33775</td>\n",
       "      <td>[{'cci': '0601', 'descricao': 'CONSUMO EM KWH ...</td>\n",
       "    </tr>\n",
       "    <tr>\n",
       "      <th>...</th>\n",
       "      <td>...</td>\n",
       "      <td>...</td>\n",
       "    </tr>\n",
       "    <tr>\n",
       "      <th>157</th>\n",
       "      <td>f7cc0a2d-6c38-4b6b-9e9a-b46022c8af23</td>\n",
       "      <td>[{'cci': '0602', 'descricao': 'DEMANDA POTÊNCI...</td>\n",
       "    </tr>\n",
       "    <tr>\n",
       "      <th>158</th>\n",
       "      <td>f8c5ef05-fa88-4fb6-b0c7-2fc64134a166</td>\n",
       "      <td>[{'cci': '0601', 'descricao': 'CONSUMO EM KWH'...</td>\n",
       "    </tr>\n",
       "    <tr>\n",
       "      <th>159</th>\n",
       "      <td>fe1ad27b-808d-43b7-af3c-7da2ff2b551d</td>\n",
       "      <td>[{'cci': '0601', 'descricao': 'CONSUMO EM KWH'...</td>\n",
       "    </tr>\n",
       "    <tr>\n",
       "      <th>160</th>\n",
       "      <td>fe9e3273-73ca-49cf-8ea0-3a31984b4935</td>\n",
       "      <td>[{'cci': '0601', 'descricao': 'CONSUMO EM KWH ...</td>\n",
       "    </tr>\n",
       "    <tr>\n",
       "      <th>161</th>\n",
       "      <td>ff7699c8-4e6a-40e8-b8b5-7f7339b5b00e</td>\n",
       "      <td>[{'cci': '0601', 'descricao': 'CONSUMO EM KWH'...</td>\n",
       "    </tr>\n",
       "  </tbody>\n",
       "</table>\n",
       "<p>162 rows × 2 columns</p>\n",
       "</div>"
      ],
      "text/plain": [
       "                                   unique  \\\n",
       "0    0044e06c-d45a-4ff1-907c-1d9ac4848945   \n",
       "1    02e9ef72-4a15-453e-a164-688bc64c189b   \n",
       "2    051499f5-81ef-47a2-979a-8178e9915b53   \n",
       "3    093812c1-ab23-409f-8ff2-9dfffddbb64f   \n",
       "4    0bc7b143-9a0b-4c7d-b4dc-d5f68fd33775   \n",
       "..                                    ...   \n",
       "157  f7cc0a2d-6c38-4b6b-9e9a-b46022c8af23   \n",
       "158  f8c5ef05-fa88-4fb6-b0c7-2fc64134a166   \n",
       "159  fe1ad27b-808d-43b7-af3c-7da2ff2b551d   \n",
       "160  fe9e3273-73ca-49cf-8ea0-3a31984b4935   \n",
       "161  ff7699c8-4e6a-40e8-b8b5-7f7339b5b00e   \n",
       "\n",
       "                                               tarifas  \n",
       "0    [{'cci': '0601', 'descricao': 'CONSUMO EM KWH'...  \n",
       "1    [{'cci': '0602', 'descricao': 'DEMANDA POTÊNCI...  \n",
       "2    [{'cci': '0601', 'descricao': 'CONSUMO EM KWH'...  \n",
       "3    [{'cci': '0601', 'descricao': 'CONSUMO EM KWH'...  \n",
       "4    [{'cci': '0601', 'descricao': 'CONSUMO EM KWH ...  \n",
       "..                                                 ...  \n",
       "157  [{'cci': '0602', 'descricao': 'DEMANDA POTÊNCI...  \n",
       "158  [{'cci': '0601', 'descricao': 'CONSUMO EM KWH'...  \n",
       "159  [{'cci': '0601', 'descricao': 'CONSUMO EM KWH'...  \n",
       "160  [{'cci': '0601', 'descricao': 'CONSUMO EM KWH ...  \n",
       "161  [{'cci': '0601', 'descricao': 'CONSUMO EM KWH'...  \n",
       "\n",
       "[162 rows x 2 columns]"
      ]
     },
     "execution_count": 35,
     "metadata": {},
     "output_type": "execute_result"
    }
   ],
   "source": [
    "# Retornando ao formato de dicionários armazenados em lista\n",
    "tarifas_list = (\n",
    "\ttarifas_df\n",
    "\t.groupby('unique')\n",
    "\t.apply(lambda x : x[tarifas_df.drop(columns='unique').columns].to_dict('records'))\n",
    "\t.reset_index()\n",
    "\t.rename(columns={0:'tarifas'})\n",
    ")\n",
    "tarifas_list"
   ]
  },
  {
   "cell_type": "markdown",
   "metadata": {},
   "source": [
    "Como os dados `unique` não estão ordenados, será necessário fazer um merge."
   ]
  },
  {
   "cell_type": "code",
   "execution_count": 36,
   "metadata": {},
   "outputs": [
    {
     "name": "stdout",
     "output_type": "stream",
     "text": [
      "_id                                  object\n",
      "estruturaConsumo                     object\n",
      "unique                               object\n",
      "cliente                              object\n",
      "classe                               object\n",
      "ligacao                              object\n",
      "referencia                   datetime64[ns]\n",
      "data_vencimento              datetime64[ns]\n",
      "data_emissao                 datetime64[ns]\n",
      "data_apresentacao            datetime64[ns]\n",
      "data_proxima_leitura         datetime64[ns]\n",
      "cnpj                                 object\n",
      "uc                                   object\n",
      "refaturamento                          bool\n",
      "createdAt               datetime64[ns, UTC]\n",
      "updatedAt               datetime64[ns, UTC]\n",
      "tarifas                              object\n",
      "dtype: object\n"
     ]
    },
    {
     "data": {
      "text/html": [
       "<div>\n",
       "<style scoped>\n",
       "    .dataframe tbody tr th:only-of-type {\n",
       "        vertical-align: middle;\n",
       "    }\n",
       "\n",
       "    .dataframe tbody tr th {\n",
       "        vertical-align: top;\n",
       "    }\n",
       "\n",
       "    .dataframe thead th {\n",
       "        text-align: right;\n",
       "    }\n",
       "</style>\n",
       "<table border=\"1\" class=\"dataframe\">\n",
       "  <thead>\n",
       "    <tr style=\"text-align: right;\">\n",
       "      <th></th>\n",
       "      <th>_id</th>\n",
       "      <th>estruturaConsumo</th>\n",
       "      <th>unique</th>\n",
       "      <th>cliente</th>\n",
       "      <th>classe</th>\n",
       "      <th>ligacao</th>\n",
       "      <th>referencia</th>\n",
       "      <th>data_vencimento</th>\n",
       "      <th>data_emissao</th>\n",
       "      <th>data_apresentacao</th>\n",
       "      <th>data_proxima_leitura</th>\n",
       "      <th>cnpj</th>\n",
       "      <th>uc</th>\n",
       "      <th>refaturamento</th>\n",
       "      <th>createdAt</th>\n",
       "      <th>updatedAt</th>\n",
       "      <th>tarifas</th>\n",
       "    </tr>\n",
       "  </thead>\n",
       "  <tbody>\n",
       "    <tr>\n",
       "      <th>0</th>\n",
       "      <td>62220ff138b5b03262a806d4</td>\n",
       "      <td>{'un': 'KWH', 'posto': 'PONTA', 'medido': 2436...</td>\n",
       "      <td>b45dc7a8-2aa8-4693-a7c2-2260c4f0b642</td>\n",
       "      <td>SUPERMERCADO PAREDAO LTDA</td>\n",
       "      <td>COMERCIAL / OUTROS SERVIÇOS E OUTRAS ATIVIDADES</td>\n",
       "      <td>TRIFASICO</td>\n",
       "      <td>2022-02-01</td>\n",
       "      <td>2022-04-11</td>\n",
       "      <td>2022-02-26</td>\n",
       "      <td>2022-03-04</td>\n",
       "      <td>2022-03-29</td>\n",
       "      <td>28.847.082/0001-23</td>\n",
       "      <td>6/732146-6</td>\n",
       "      <td>False</td>\n",
       "      <td>2022-03-04 13:11:13.417000+00:00</td>\n",
       "      <td>2022-03-04 13:11:13.417000+00:00</td>\n",
       "      <td>[{'cci': '0601', 'descricao': 'CONSUMO EM KWH'...</td>\n",
       "    </tr>\n",
       "    <tr>\n",
       "      <th>1</th>\n",
       "      <td>62220ff138b5b03262a806da</td>\n",
       "      <td>{'un': 'KWH', 'posto': 'PONTA', 'medido': 1005...</td>\n",
       "      <td>1bcac16e-289a-45c4-8509-f98ad5b66bcb</td>\n",
       "      <td>TELEFONICA BRASIL SA</td>\n",
       "      <td>COMERCIAL / SERVIÇOS DE COMUNICAÇÕES E TELECOM...</td>\n",
       "      <td>TRIFASICO</td>\n",
       "      <td>2022-02-01</td>\n",
       "      <td>2022-03-15</td>\n",
       "      <td>2022-02-26</td>\n",
       "      <td>2022-03-08</td>\n",
       "      <td>2022-03-29</td>\n",
       "      <td>02.558.157/0001-62</td>\n",
       "      <td>6/2669086-7</td>\n",
       "      <td>False</td>\n",
       "      <td>2022-03-04 13:11:13.565000+00:00</td>\n",
       "      <td>2022-03-04 13:11:13.565000+00:00</td>\n",
       "      <td>[{'cci': '0601', 'descricao': 'CONSUMO EM KWH'...</td>\n",
       "    </tr>\n",
       "    <tr>\n",
       "      <th>2</th>\n",
       "      <td>62220ff238b5b03262a806e0</td>\n",
       "      <td>{'un': 'KWH', 'posto': 'PONTA', 'medido': 1000...</td>\n",
       "      <td>37399592-abd1-4de3-bb28-1b3753caf972</td>\n",
       "      <td>TELEFONICA BRASIL SA</td>\n",
       "      <td>COMERCIAL / SERVIÇOS DE COMUNICAÇÕES E TELECOM...</td>\n",
       "      <td>BIFASICO</td>\n",
       "      <td>2022-02-01</td>\n",
       "      <td>2022-03-28</td>\n",
       "      <td>2022-02-26</td>\n",
       "      <td>2022-03-11</td>\n",
       "      <td>2022-03-29</td>\n",
       "      <td>02.558.157/0001-62</td>\n",
       "      <td>6/2668744-2</td>\n",
       "      <td>False</td>\n",
       "      <td>2022-03-04 13:11:14.121000+00:00</td>\n",
       "      <td>2022-03-04 13:11:14.121000+00:00</td>\n",
       "      <td>[{'cci': '0601', 'descricao': 'CONSUMO EM KWH'...</td>\n",
       "    </tr>\n",
       "    <tr>\n",
       "      <th>3</th>\n",
       "      <td>62220ff338b5b03262a806ee</td>\n",
       "      <td>{'un': 'KWH', 'posto': 'PONTA', 'medido': 1856...</td>\n",
       "      <td>c0185cf7-f793-4c23-a593-b1ec1d41219a</td>\n",
       "      <td>COMERCIAL IOMAR DE ALIMENTOS LTDA EPP</td>\n",
       "      <td>COMERCIAL / COMERCIAL</td>\n",
       "      <td>TRIFASICO</td>\n",
       "      <td>2022-02-01</td>\n",
       "      <td>2022-04-13</td>\n",
       "      <td>2022-03-02</td>\n",
       "      <td>2022-03-04</td>\n",
       "      <td>2022-03-31</td>\n",
       "      <td>01.436.106/0001-03</td>\n",
       "      <td>6/336632-5</td>\n",
       "      <td>False</td>\n",
       "      <td>2022-03-04 13:11:15.541000+00:00</td>\n",
       "      <td>2022-03-04 13:11:15.541000+00:00</td>\n",
       "      <td>[{'cci': '0601', 'descricao': 'CONSUMO EM KWH ...</td>\n",
       "    </tr>\n",
       "    <tr>\n",
       "      <th>4</th>\n",
       "      <td>62220ff538b5b03262a80702</td>\n",
       "      <td>{'un': 'INJ', 'posto': 'PONTA', 'medido': 0.0,...</td>\n",
       "      <td>161ce259-5c70-4818-b2c5-2eee335e5067</td>\n",
       "      <td>CONSORCIO GERADOR FAZENDA MODELO</td>\n",
       "      <td>COMERCIAL / OUTROS SERVIÇOS E OUTRAS ATIVIDADES</td>\n",
       "      <td>TRIFASICO</td>\n",
       "      <td>2022-03-01</td>\n",
       "      <td>2022-03-16</td>\n",
       "      <td>2022-03-03</td>\n",
       "      <td>2022-03-09</td>\n",
       "      <td>2022-03-30</td>\n",
       "      <td>33.372.528/0001-40</td>\n",
       "      <td>6/2731936-7</td>\n",
       "      <td>False</td>\n",
       "      <td>2022-03-04 13:11:17.866000+00:00</td>\n",
       "      <td>2022-03-04 13:11:17.866000+00:00</td>\n",
       "      <td>[{'cci': '0602', 'descricao': 'DEMANDA POTÊNCI...</td>\n",
       "    </tr>\n",
       "  </tbody>\n",
       "</table>\n",
       "</div>"
      ],
      "text/plain": [
       "                        _id  \\\n",
       "0  62220ff138b5b03262a806d4   \n",
       "1  62220ff138b5b03262a806da   \n",
       "2  62220ff238b5b03262a806e0   \n",
       "3  62220ff338b5b03262a806ee   \n",
       "4  62220ff538b5b03262a80702   \n",
       "\n",
       "                                    estruturaConsumo  \\\n",
       "0  {'un': 'KWH', 'posto': 'PONTA', 'medido': 2436...   \n",
       "1  {'un': 'KWH', 'posto': 'PONTA', 'medido': 1005...   \n",
       "2  {'un': 'KWH', 'posto': 'PONTA', 'medido': 1000...   \n",
       "3  {'un': 'KWH', 'posto': 'PONTA', 'medido': 1856...   \n",
       "4  {'un': 'INJ', 'posto': 'PONTA', 'medido': 0.0,...   \n",
       "\n",
       "                                 unique  \\\n",
       "0  b45dc7a8-2aa8-4693-a7c2-2260c4f0b642   \n",
       "1  1bcac16e-289a-45c4-8509-f98ad5b66bcb   \n",
       "2  37399592-abd1-4de3-bb28-1b3753caf972   \n",
       "3  c0185cf7-f793-4c23-a593-b1ec1d41219a   \n",
       "4  161ce259-5c70-4818-b2c5-2eee335e5067   \n",
       "\n",
       "                                 cliente  \\\n",
       "0              SUPERMERCADO PAREDAO LTDA   \n",
       "1                   TELEFONICA BRASIL SA   \n",
       "2                   TELEFONICA BRASIL SA   \n",
       "3  COMERCIAL IOMAR DE ALIMENTOS LTDA EPP   \n",
       "4       CONSORCIO GERADOR FAZENDA MODELO   \n",
       "\n",
       "                                              classe    ligacao referencia  \\\n",
       "0    COMERCIAL / OUTROS SERVIÇOS E OUTRAS ATIVIDADES  TRIFASICO 2022-02-01   \n",
       "1  COMERCIAL / SERVIÇOS DE COMUNICAÇÕES E TELECOM...  TRIFASICO 2022-02-01   \n",
       "2  COMERCIAL / SERVIÇOS DE COMUNICAÇÕES E TELECOM...   BIFASICO 2022-02-01   \n",
       "3                              COMERCIAL / COMERCIAL  TRIFASICO 2022-02-01   \n",
       "4    COMERCIAL / OUTROS SERVIÇOS E OUTRAS ATIVIDADES  TRIFASICO 2022-03-01   \n",
       "\n",
       "  data_vencimento data_emissao data_apresentacao data_proxima_leitura  \\\n",
       "0      2022-04-11   2022-02-26        2022-03-04           2022-03-29   \n",
       "1      2022-03-15   2022-02-26        2022-03-08           2022-03-29   \n",
       "2      2022-03-28   2022-02-26        2022-03-11           2022-03-29   \n",
       "3      2022-04-13   2022-03-02        2022-03-04           2022-03-31   \n",
       "4      2022-03-16   2022-03-03        2022-03-09           2022-03-30   \n",
       "\n",
       "                 cnpj           uc  refaturamento  \\\n",
       "0  28.847.082/0001-23   6/732146-6          False   \n",
       "1  02.558.157/0001-62  6/2669086-7          False   \n",
       "2  02.558.157/0001-62  6/2668744-2          False   \n",
       "3  01.436.106/0001-03   6/336632-5          False   \n",
       "4  33.372.528/0001-40  6/2731936-7          False   \n",
       "\n",
       "                         createdAt                        updatedAt  \\\n",
       "0 2022-03-04 13:11:13.417000+00:00 2022-03-04 13:11:13.417000+00:00   \n",
       "1 2022-03-04 13:11:13.565000+00:00 2022-03-04 13:11:13.565000+00:00   \n",
       "2 2022-03-04 13:11:14.121000+00:00 2022-03-04 13:11:14.121000+00:00   \n",
       "3 2022-03-04 13:11:15.541000+00:00 2022-03-04 13:11:15.541000+00:00   \n",
       "4 2022-03-04 13:11:17.866000+00:00 2022-03-04 13:11:17.866000+00:00   \n",
       "\n",
       "                                             tarifas  \n",
       "0  [{'cci': '0601', 'descricao': 'CONSUMO EM KWH'...  \n",
       "1  [{'cci': '0601', 'descricao': 'CONSUMO EM KWH'...  \n",
       "2  [{'cci': '0601', 'descricao': 'CONSUMO EM KWH'...  \n",
       "3  [{'cci': '0601', 'descricao': 'CONSUMO EM KWH ...  \n",
       "4  [{'cci': '0602', 'descricao': 'DEMANDA POTÊNCI...  "
      ]
     },
     "execution_count": 36,
     "metadata": {},
     "output_type": "execute_result"
    }
   ],
   "source": [
    "# Dataframe com todos dados normalizados\n",
    "norm_df = pd.merge(\n",
    "\tleft=df.drop(columns='tarifas'),\n",
    "\tright=tarifas_list,\n",
    "\ton='unique'\n",
    ")\n",
    "print(norm_df.dtypes)\n",
    "norm_df.head()"
   ]
  },
  {
   "cell_type": "markdown",
   "metadata": {},
   "source": [
    "# 6. <span id='item6'>Análise dos dados"
   ]
  },
  {
   "cell_type": "markdown",
   "metadata": {},
   "source": [
    "## Distribuição das medições por cliente"
   ]
  },
  {
   "cell_type": "code",
   "execution_count": 37,
   "metadata": {},
   "outputs": [
    {
     "data": {
      "text/html": [
       "<div>\n",
       "<style scoped>\n",
       "    .dataframe tbody tr th:only-of-type {\n",
       "        vertical-align: middle;\n",
       "    }\n",
       "\n",
       "    .dataframe tbody tr th {\n",
       "        vertical-align: top;\n",
       "    }\n",
       "\n",
       "    .dataframe thead th {\n",
       "        text-align: right;\n",
       "    }\n",
       "</style>\n",
       "<table border=\"1\" class=\"dataframe\">\n",
       "  <thead>\n",
       "    <tr style=\"text-align: right;\">\n",
       "      <th></th>\n",
       "      <th>classe</th>\n",
       "      <th>ligacao</th>\n",
       "      <th>cnpj</th>\n",
       "      <th>uc</th>\n",
       "    </tr>\n",
       "    <tr>\n",
       "      <th>cliente</th>\n",
       "      <th></th>\n",
       "      <th></th>\n",
       "      <th></th>\n",
       "      <th></th>\n",
       "    </tr>\n",
       "  </thead>\n",
       "  <tbody>\n",
       "    <tr>\n",
       "      <th>AGUAS CUIABA S A CONCESSIONARIA DE SERVICOS</th>\n",
       "      <td>2</td>\n",
       "      <td>1</td>\n",
       "      <td>1</td>\n",
       "      <td>1</td>\n",
       "    </tr>\n",
       "    <tr>\n",
       "      <th>AGUAS LEBRINHA LTDA</th>\n",
       "      <td>2</td>\n",
       "      <td>1</td>\n",
       "      <td>1</td>\n",
       "      <td>1</td>\n",
       "    </tr>\n",
       "    <tr>\n",
       "      <th>COMERCIAL IOMAR DE ALIMENTOS LTDA EPP</th>\n",
       "      <td>1</td>\n",
       "      <td>1</td>\n",
       "      <td>1</td>\n",
       "      <td>1</td>\n",
       "    </tr>\n",
       "    <tr>\n",
       "      <th>COMERCIO DE GENEROS ALIMENTICIOS V S LTDA - ME</th>\n",
       "      <td>1</td>\n",
       "      <td>1</td>\n",
       "      <td>1</td>\n",
       "      <td>1</td>\n",
       "    </tr>\n",
       "    <tr>\n",
       "      <th>CONSORCIO GERADOR FAZENDA MODELO</th>\n",
       "      <td>2</td>\n",
       "      <td>1</td>\n",
       "      <td>1</td>\n",
       "      <td>1</td>\n",
       "    </tr>\n",
       "    <tr>\n",
       "      <th>IGUACU SUPERMERCADOS LTDA</th>\n",
       "      <td>1</td>\n",
       "      <td>1</td>\n",
       "      <td>1</td>\n",
       "      <td>1</td>\n",
       "    </tr>\n",
       "    <tr>\n",
       "      <th>J C ANDRADE SOUZA ME</th>\n",
       "      <td>1</td>\n",
       "      <td>1</td>\n",
       "      <td>1</td>\n",
       "      <td>1</td>\n",
       "    </tr>\n",
       "    <tr>\n",
       "      <th>M ALVORADA LTDA EPP</th>\n",
       "      <td>1</td>\n",
       "      <td>1</td>\n",
       "      <td>1</td>\n",
       "      <td>1</td>\n",
       "    </tr>\n",
       "    <tr>\n",
       "      <th>MINERACAO COITE LTDA</th>\n",
       "      <td>4</td>\n",
       "      <td>2</td>\n",
       "      <td>1</td>\n",
       "      <td>8</td>\n",
       "    </tr>\n",
       "    <tr>\n",
       "      <th>MW COMERCIO D E GENEROS ALIMENTICIOS LTDA</th>\n",
       "      <td>1</td>\n",
       "      <td>1</td>\n",
       "      <td>1</td>\n",
       "      <td>1</td>\n",
       "    </tr>\n",
       "    <tr>\n",
       "      <th>NERY ANDRADE NERY LTDA ME</th>\n",
       "      <td>1</td>\n",
       "      <td>1</td>\n",
       "      <td>1</td>\n",
       "      <td>1</td>\n",
       "    </tr>\n",
       "    <tr>\n",
       "      <th>SB SUPERMERCADO LTDA ME</th>\n",
       "      <td>1</td>\n",
       "      <td>1</td>\n",
       "      <td>1</td>\n",
       "      <td>1</td>\n",
       "    </tr>\n",
       "    <tr>\n",
       "      <th>SUPERMERCADO ALAMEDA LTDA</th>\n",
       "      <td>1</td>\n",
       "      <td>1</td>\n",
       "      <td>1</td>\n",
       "      <td>1</td>\n",
       "    </tr>\n",
       "    <tr>\n",
       "      <th>SUPERMERCADO ALAMEDA LTDA EPP</th>\n",
       "      <td>1</td>\n",
       "      <td>1</td>\n",
       "      <td>1</td>\n",
       "      <td>1</td>\n",
       "    </tr>\n",
       "    <tr>\n",
       "      <th>SUPERMERCADO PAREDAO LTDA</th>\n",
       "      <td>1</td>\n",
       "      <td>1</td>\n",
       "      <td>1</td>\n",
       "      <td>1</td>\n",
       "    </tr>\n",
       "    <tr>\n",
       "      <th>TELEFONICA BRASIL SA</th>\n",
       "      <td>4</td>\n",
       "      <td>2</td>\n",
       "      <td>1</td>\n",
       "      <td>25</td>\n",
       "    </tr>\n",
       "    <tr>\n",
       "      <th>VENTOS DO NORTE - COMERCIO DE PRODUTOS</th>\n",
       "      <td>1</td>\n",
       "      <td>1</td>\n",
       "      <td>1</td>\n",
       "      <td>1</td>\n",
       "    </tr>\n",
       "  </tbody>\n",
       "</table>\n",
       "</div>"
      ],
      "text/plain": [
       "                                                classe  ligacao  cnpj  uc\n",
       "cliente                                                                  \n",
       "AGUAS CUIABA S A CONCESSIONARIA DE SERVICOS          2        1     1   1\n",
       "AGUAS LEBRINHA LTDA                                  2        1     1   1\n",
       "COMERCIAL IOMAR DE ALIMENTOS LTDA EPP                1        1     1   1\n",
       "COMERCIO DE GENEROS ALIMENTICIOS V S LTDA - ME       1        1     1   1\n",
       "CONSORCIO GERADOR FAZENDA MODELO                     2        1     1   1\n",
       "IGUACU SUPERMERCADOS LTDA                            1        1     1   1\n",
       "J C ANDRADE SOUZA ME                                 1        1     1   1\n",
       "M ALVORADA LTDA EPP                                  1        1     1   1\n",
       "MINERACAO COITE LTDA                                 4        2     1   8\n",
       "MW COMERCIO D E GENEROS ALIMENTICIOS LTDA            1        1     1   1\n",
       "NERY ANDRADE NERY LTDA ME                            1        1     1   1\n",
       "SB SUPERMERCADO LTDA ME                              1        1     1   1\n",
       "SUPERMERCADO ALAMEDA LTDA                            1        1     1   1\n",
       "SUPERMERCADO ALAMEDA LTDA EPP                        1        1     1   1\n",
       "SUPERMERCADO PAREDAO LTDA                            1        1     1   1\n",
       "TELEFONICA BRASIL SA                                 4        2     1  25\n",
       "VENTOS DO NORTE - COMERCIO DE PRODUTOS               1        1     1   1"
      ]
     },
     "execution_count": 37,
     "metadata": {},
     "output_type": "execute_result"
    }
   ],
   "source": [
    "# Visualizando os registros únicos agrupados por cliente\n",
    "df.groupby(by='cliente')[['classe', 'ligacao', 'cnpj', 'uc']].nunique()"
   ]
  },
  {
   "cell_type": "markdown",
   "metadata": {},
   "source": [
    "Como o cliente 'TELEFONICA BRASIL SA' possuí mais dados em quantidade e variedade, vamos utilizá-lo como amostra para visualizar as distribuições do consumo e tarifas."
   ]
  },
  {
   "cell_type": "code",
   "execution_count": 38,
   "metadata": {},
   "outputs": [
    {
     "name": "stdout",
     "output_type": "stream",
     "text": [
      "<class 'pandas.core.frame.DataFrame'>\n",
      "Int64Index: 345 entries, 1 to 161\n",
      "Data columns (total 44 columns):\n",
      " #   Column                Non-Null Count  Dtype              \n",
      "---  ------                --------------  -----              \n",
      " 0   _id                   345 non-null    object             \n",
      " 1   unique                345 non-null    object             \n",
      " 2   cliente               345 non-null    object             \n",
      " 3   classe                345 non-null    object             \n",
      " 4   ligacao               345 non-null    object             \n",
      " 5   referencia            345 non-null    datetime64[ns]     \n",
      " 6   data_vencimento       345 non-null    datetime64[ns]     \n",
      " 7   data_emissao          345 non-null    datetime64[ns]     \n",
      " 8   data_apresentacao     345 non-null    datetime64[ns]     \n",
      " 9   data_proxima_leitura  345 non-null    datetime64[ns]     \n",
      " 10  cnpj                  345 non-null    object             \n",
      " 11  uc                    345 non-null    object             \n",
      " 12  refaturamento         345 non-null    bool               \n",
      " 13  createdAt             345 non-null    datetime64[ns, UTC]\n",
      " 14  updatedAt             345 non-null    datetime64[ns, UTC]\n",
      " 15  cci                   345 non-null    object             \n",
      " 16  descricao             345 non-null    object             \n",
      " 17  quantidade            345 non-null    float64            \n",
      " 18  semTributos           345 non-null    float64            \n",
      " 19  comTributos           345 non-null    float64            \n",
      " 20  valorTotal            345 non-null    float64            \n",
      " 21  baseIcms              345 non-null    float64            \n",
      " 22  aliqIcms              345 non-null    float64            \n",
      " 23  icms                  345 non-null    float64            \n",
      " 24  basePisCofins         345 non-null    float64            \n",
      " 25  pis                   345 non-null    float64            \n",
      " 26  cofins                345 non-null    float64            \n",
      " 27  _id.$oid              345 non-null    object             \n",
      " 28  class_desc            345 non-null    object             \n",
      " 29  tarifa_posto          345 non-null    object             \n",
      " 30  un                    345 non-null    object             \n",
      " 31  posto                 345 non-null    object             \n",
      " 32  medido                345 non-null    float64            \n",
      " 33  faturado              345 non-null    float64            \n",
      " 34  _id.$oid              345 non-null    object             \n",
      " 35  saldoPonta            271 non-null    object             \n",
      " 36  saldoForaPonta        271 non-null    object             \n",
      " 37  expiraForaPonta       271 non-null    object             \n",
      " 38  expiraPonta           271 non-null    object             \n",
      " 39  saldoAcumulado        271 non-null    object             \n",
      " 40  expiraAcumulado       271 non-null    object             \n",
      " 41  leituraAnterior       345 non-null    datetime64[ns]     \n",
      " 42  leituraAtual          345 non-null    datetime64[ns]     \n",
      " 43  unique                345 non-null    object             \n",
      "dtypes: bool(1), datetime64[ns, UTC](2), datetime64[ns](7), float64(12), object(22)\n",
      "memory usage: 118.9+ KB\n"
     ]
    }
   ],
   "source": [
    "cliente = 'TELEFONICA BRASIL SA'\n",
    "\n",
    "query_data = norm_df[norm_df['cliente']==cliente]\n",
    "# Normalizando os valores das tarifas\n",
    "query_data = query_data.explode('tarifas')\n",
    "query_data = pd.concat([\n",
    "\tquery_data.drop(columns='tarifas'),\n",
    "\tquery_data['tarifas'].apply(pd.Series)\n",
    "], axis=1)\n",
    "# Normalizando o valores de estruturaConsumo\n",
    "query_data = pd.concat([\n",
    "\tquery_data.drop(columns='estruturaConsumo'),\n",
    "\tquery_data['estruturaConsumo'].apply(pd.Series)\n",
    "], axis=1)\n",
    "query_data.info()"
   ]
  },
  {
   "cell_type": "markdown",
   "metadata": {},
   "source": [
    "## Explorando `estruturaConsumo`"
   ]
  },
  {
   "cell_type": "markdown",
   "metadata": {},
   "source": [
    "Analisando a estrutura de todos os clientes."
   ]
  },
  {
   "cell_type": "code",
   "execution_count": 58,
   "metadata": {},
   "outputs": [
    {
     "data": {
      "text/html": [
       "<div>\n",
       "<style scoped>\n",
       "    .dataframe tbody tr th:only-of-type {\n",
       "        vertical-align: middle;\n",
       "    }\n",
       "\n",
       "    .dataframe tbody tr th {\n",
       "        vertical-align: top;\n",
       "    }\n",
       "\n",
       "    .dataframe thead tr th {\n",
       "        text-align: left;\n",
       "    }\n",
       "\n",
       "    .dataframe thead tr:last-of-type th {\n",
       "        text-align: right;\n",
       "    }\n",
       "</style>\n",
       "<table border=\"1\" class=\"dataframe\">\n",
       "  <thead>\n",
       "    <tr>\n",
       "      <th></th>\n",
       "      <th></th>\n",
       "      <th colspan=\"8\" halign=\"left\">medido</th>\n",
       "      <th colspan=\"8\" halign=\"left\">faturado</th>\n",
       "    </tr>\n",
       "    <tr>\n",
       "      <th></th>\n",
       "      <th></th>\n",
       "      <th>count</th>\n",
       "      <th>mean</th>\n",
       "      <th>std</th>\n",
       "      <th>min</th>\n",
       "      <th>25%</th>\n",
       "      <th>50%</th>\n",
       "      <th>75%</th>\n",
       "      <th>max</th>\n",
       "      <th>count</th>\n",
       "      <th>mean</th>\n",
       "      <th>std</th>\n",
       "      <th>min</th>\n",
       "      <th>25%</th>\n",
       "      <th>50%</th>\n",
       "      <th>75%</th>\n",
       "      <th>max</th>\n",
       "    </tr>\n",
       "    <tr>\n",
       "      <th>un</th>\n",
       "      <th>posto</th>\n",
       "      <th></th>\n",
       "      <th></th>\n",
       "      <th></th>\n",
       "      <th></th>\n",
       "      <th></th>\n",
       "      <th></th>\n",
       "      <th></th>\n",
       "      <th></th>\n",
       "      <th></th>\n",
       "      <th></th>\n",
       "      <th></th>\n",
       "      <th></th>\n",
       "      <th></th>\n",
       "      <th></th>\n",
       "      <th></th>\n",
       "      <th></th>\n",
       "    </tr>\n",
       "  </thead>\n",
       "  <tbody>\n",
       "    <tr>\n",
       "      <th rowspan=\"2\" valign=\"top\">DRE</th>\n",
       "      <th>FPONTA</th>\n",
       "      <td>6.0</td>\n",
       "      <td>58.471100</td>\n",
       "      <td>37.497876</td>\n",
       "      <td>34.65</td>\n",
       "      <td>35.5800</td>\n",
       "      <td>39.2150</td>\n",
       "      <td>65.733250</td>\n",
       "      <td>128.8056</td>\n",
       "      <td>6.0</td>\n",
       "      <td>0.293333</td>\n",
       "      <td>0.718517</td>\n",
       "      <td>0.00</td>\n",
       "      <td>0.0000</td>\n",
       "      <td>0.0000</td>\n",
       "      <td>0.00000</td>\n",
       "      <td>1.7600</td>\n",
       "    </tr>\n",
       "    <tr>\n",
       "      <th>PONTA</th>\n",
       "      <td>6.0</td>\n",
       "      <td>56.094050</td>\n",
       "      <td>37.184023</td>\n",
       "      <td>32.43</td>\n",
       "      <td>32.9175</td>\n",
       "      <td>37.5250</td>\n",
       "      <td>63.218825</td>\n",
       "      <td>125.9192</td>\n",
       "      <td>6.0</td>\n",
       "      <td>0.196667</td>\n",
       "      <td>0.481733</td>\n",
       "      <td>0.00</td>\n",
       "      <td>0.0000</td>\n",
       "      <td>0.0000</td>\n",
       "      <td>0.00000</td>\n",
       "      <td>1.1800</td>\n",
       "    </tr>\n",
       "    <tr>\n",
       "      <th rowspan=\"2\" valign=\"top\">ERE</th>\n",
       "      <th>FPONTA</th>\n",
       "      <td>6.0</td>\n",
       "      <td>313.249367</td>\n",
       "      <td>642.310015</td>\n",
       "      <td>0.21</td>\n",
       "      <td>1.0175</td>\n",
       "      <td>58.4916</td>\n",
       "      <td>136.470550</td>\n",
       "      <td>1617.9800</td>\n",
       "      <td>6.0</td>\n",
       "      <td>313.249367</td>\n",
       "      <td>642.310015</td>\n",
       "      <td>0.21</td>\n",
       "      <td>1.0175</td>\n",
       "      <td>58.4916</td>\n",
       "      <td>136.47055</td>\n",
       "      <td>1617.9800</td>\n",
       "    </tr>\n",
       "    <tr>\n",
       "      <th>PONTA</th>\n",
       "      <td>2.0</td>\n",
       "      <td>669.615000</td>\n",
       "      <td>666.639060</td>\n",
       "      <td>198.23</td>\n",
       "      <td>433.9225</td>\n",
       "      <td>669.6150</td>\n",
       "      <td>905.307500</td>\n",
       "      <td>1141.0000</td>\n",
       "      <td>2.0</td>\n",
       "      <td>669.615000</td>\n",
       "      <td>666.639060</td>\n",
       "      <td>198.23</td>\n",
       "      <td>433.9225</td>\n",
       "      <td>669.6150</td>\n",
       "      <td>905.30750</td>\n",
       "      <td>1141.0000</td>\n",
       "    </tr>\n",
       "    <tr>\n",
       "      <th rowspan=\"2\" valign=\"top\">INJ</th>\n",
       "      <th>FPONTA</th>\n",
       "      <td>5.0</td>\n",
       "      <td>241727.800000</td>\n",
       "      <td>413655.786950</td>\n",
       "      <td>0.00</td>\n",
       "      <td>0.0000</td>\n",
       "      <td>0.0000</td>\n",
       "      <td>253462.000000</td>\n",
       "      <td>955177.0000</td>\n",
       "      <td>5.0</td>\n",
       "      <td>17078.879760</td>\n",
       "      <td>20730.240790</td>\n",
       "      <td>0.00</td>\n",
       "      <td>0.0000</td>\n",
       "      <td>16706.4500</td>\n",
       "      <td>17923.11000</td>\n",
       "      <td>50764.8388</td>\n",
       "    </tr>\n",
       "    <tr>\n",
       "      <th>PONTA</th>\n",
       "      <td>4.0</td>\n",
       "      <td>0.000000</td>\n",
       "      <td>0.000000</td>\n",
       "      <td>0.00</td>\n",
       "      <td>0.0000</td>\n",
       "      <td>0.0000</td>\n",
       "      <td>0.000000</td>\n",
       "      <td>0.0000</td>\n",
       "      <td>4.0</td>\n",
       "      <td>3168.487400</td>\n",
       "      <td>2427.224960</td>\n",
       "      <td>1780.75</td>\n",
       "      <td>1947.0175</td>\n",
       "      <td>2044.5100</td>\n",
       "      <td>3265.97990</td>\n",
       "      <td>6804.1796</td>\n",
       "    </tr>\n",
       "    <tr>\n",
       "      <th>KVA</th>\n",
       "      <th>PONTA</th>\n",
       "      <td>2.0</td>\n",
       "      <td>7277.500000</td>\n",
       "      <td>9190.266835</td>\n",
       "      <td>779.00</td>\n",
       "      <td>4028.2500</td>\n",
       "      <td>7277.5000</td>\n",
       "      <td>10526.750000</td>\n",
       "      <td>13776.0000</td>\n",
       "      <td>2.0</td>\n",
       "      <td>0.000000</td>\n",
       "      <td>0.000000</td>\n",
       "      <td>0.00</td>\n",
       "      <td>0.0000</td>\n",
       "      <td>0.0000</td>\n",
       "      <td>0.00000</td>\n",
       "      <td>0.0000</td>\n",
       "    </tr>\n",
       "    <tr>\n",
       "      <th rowspan=\"2\" valign=\"top\">KW</th>\n",
       "      <th>FPONTA</th>\n",
       "      <td>5.0</td>\n",
       "      <td>42.817920</td>\n",
       "      <td>55.424665</td>\n",
       "      <td>0.00</td>\n",
       "      <td>0.0000</td>\n",
       "      <td>38.8700</td>\n",
       "      <td>39.690000</td>\n",
       "      <td>135.5296</td>\n",
       "      <td>5.0</td>\n",
       "      <td>1032.800000</td>\n",
       "      <td>1294.277675</td>\n",
       "      <td>57.00</td>\n",
       "      <td>57.0000</td>\n",
       "      <td>150.0000</td>\n",
       "      <td>2450.00000</td>\n",
       "      <td>2450.0000</td>\n",
       "    </tr>\n",
       "    <tr>\n",
       "      <th>PONTA</th>\n",
       "      <td>4.0</td>\n",
       "      <td>70.492200</td>\n",
       "      <td>44.159066</td>\n",
       "      <td>37.56</td>\n",
       "      <td>39.3525</td>\n",
       "      <td>56.0140</td>\n",
       "      <td>87.153700</td>\n",
       "      <td>132.3808</td>\n",
       "      <td>4.0</td>\n",
       "      <td>10.000000</td>\n",
       "      <td>20.000000</td>\n",
       "      <td>0.00</td>\n",
       "      <td>0.0000</td>\n",
       "      <td>0.0000</td>\n",
       "      <td>10.00000</td>\n",
       "      <td>40.0000</td>\n",
       "    </tr>\n",
       "    <tr>\n",
       "      <th rowspan=\"2\" valign=\"top\">KWH</th>\n",
       "      <th>FPONTA</th>\n",
       "      <td>3.0</td>\n",
       "      <td>33494.214600</td>\n",
       "      <td>17034.327899</td>\n",
       "      <td>16706.45</td>\n",
       "      <td>24858.9025</td>\n",
       "      <td>33011.3550</td>\n",
       "      <td>41888.096900</td>\n",
       "      <td>50764.8388</td>\n",
       "      <td>3.0</td>\n",
       "      <td>33494.214600</td>\n",
       "      <td>17034.327899</td>\n",
       "      <td>16706.45</td>\n",
       "      <td>24858.9025</td>\n",
       "      <td>33011.3550</td>\n",
       "      <td>41888.09690</td>\n",
       "      <td>50764.8388</td>\n",
       "    </tr>\n",
       "    <tr>\n",
       "      <th>PONTA</th>\n",
       "      <td>35.0</td>\n",
       "      <td>7006.344440</td>\n",
       "      <td>11672.592857</td>\n",
       "      <td>55.00</td>\n",
       "      <td>1614.0000</td>\n",
       "      <td>2178.0000</td>\n",
       "      <td>4647.427900</td>\n",
       "      <td>55350.0000</td>\n",
       "      <td>35.0</td>\n",
       "      <td>7007.630154</td>\n",
       "      <td>11671.807111</td>\n",
       "      <td>100.00</td>\n",
       "      <td>1614.0000</td>\n",
       "      <td>2178.0000</td>\n",
       "      <td>4647.42790</td>\n",
       "      <td>55350.0000</td>\n",
       "    </tr>\n",
       "  </tbody>\n",
       "</table>\n",
       "</div>"
      ],
      "text/plain": [
       "           medido                                                      \\\n",
       "            count           mean            std       min         25%   \n",
       "un  posto                                                               \n",
       "DRE FPONTA    6.0      58.471100      37.497876     34.65     35.5800   \n",
       "    PONTA     6.0      56.094050      37.184023     32.43     32.9175   \n",
       "ERE FPONTA    6.0     313.249367     642.310015      0.21      1.0175   \n",
       "    PONTA     2.0     669.615000     666.639060    198.23    433.9225   \n",
       "INJ FPONTA    5.0  241727.800000  413655.786950      0.00      0.0000   \n",
       "    PONTA     4.0       0.000000       0.000000      0.00      0.0000   \n",
       "KVA PONTA     2.0    7277.500000    9190.266835    779.00   4028.2500   \n",
       "KW  FPONTA    5.0      42.817920      55.424665      0.00      0.0000   \n",
       "    PONTA     4.0      70.492200      44.159066     37.56     39.3525   \n",
       "KWH FPONTA    3.0   33494.214600   17034.327899  16706.45  24858.9025   \n",
       "    PONTA    35.0    7006.344440   11672.592857     55.00   1614.0000   \n",
       "\n",
       "                                                   faturado                \\\n",
       "                   50%            75%          max    count          mean   \n",
       "un  posto                                                                   \n",
       "DRE FPONTA     39.2150      65.733250     128.8056      6.0      0.293333   \n",
       "    PONTA      37.5250      63.218825     125.9192      6.0      0.196667   \n",
       "ERE FPONTA     58.4916     136.470550    1617.9800      6.0    313.249367   \n",
       "    PONTA     669.6150     905.307500    1141.0000      2.0    669.615000   \n",
       "INJ FPONTA      0.0000  253462.000000  955177.0000      5.0  17078.879760   \n",
       "    PONTA       0.0000       0.000000       0.0000      4.0   3168.487400   \n",
       "KVA PONTA    7277.5000   10526.750000   13776.0000      2.0      0.000000   \n",
       "KW  FPONTA     38.8700      39.690000     135.5296      5.0   1032.800000   \n",
       "    PONTA      56.0140      87.153700     132.3808      4.0     10.000000   \n",
       "KWH FPONTA  33011.3550   41888.096900   50764.8388      3.0  33494.214600   \n",
       "    PONTA    2178.0000    4647.427900   55350.0000     35.0   7007.630154   \n",
       "\n",
       "                                                                         \\\n",
       "                     std       min         25%         50%          75%   \n",
       "un  posto                                                                 \n",
       "DRE FPONTA      0.718517      0.00      0.0000      0.0000      0.00000   \n",
       "    PONTA       0.481733      0.00      0.0000      0.0000      0.00000   \n",
       "ERE FPONTA    642.310015      0.21      1.0175     58.4916    136.47055   \n",
       "    PONTA     666.639060    198.23    433.9225    669.6150    905.30750   \n",
       "INJ FPONTA  20730.240790      0.00      0.0000  16706.4500  17923.11000   \n",
       "    PONTA    2427.224960   1780.75   1947.0175   2044.5100   3265.97990   \n",
       "KVA PONTA       0.000000      0.00      0.0000      0.0000      0.00000   \n",
       "KW  FPONTA   1294.277675     57.00     57.0000    150.0000   2450.00000   \n",
       "    PONTA      20.000000      0.00      0.0000      0.0000     10.00000   \n",
       "KWH FPONTA  17034.327899  16706.45  24858.9025  33011.3550  41888.09690   \n",
       "    PONTA   11671.807111    100.00   1614.0000   2178.0000   4647.42790   \n",
       "\n",
       "                        \n",
       "                   max  \n",
       "un  posto               \n",
       "DRE FPONTA      1.7600  \n",
       "    PONTA       1.1800  \n",
       "ERE FPONTA   1617.9800  \n",
       "    PONTA    1141.0000  \n",
       "INJ FPONTA  50764.8388  \n",
       "    PONTA    6804.1796  \n",
       "KVA PONTA       0.0000  \n",
       "KW  FPONTA   2450.0000  \n",
       "    PONTA      40.0000  \n",
       "KWH FPONTA  50764.8388  \n",
       "    PONTA   55350.0000  "
      ]
     },
     "execution_count": 58,
     "metadata": {},
     "output_type": "execute_result"
    }
   ],
   "source": [
    "consumo_df.groupby(['un', 'posto']).describe()"
   ]
  },
  {
   "cell_type": "markdown",
   "metadata": {},
   "source": [
    "Criando uma *feature* `saldo_medido` = `faturado` - `medido`"
   ]
  },
  {
   "cell_type": "code",
   "execution_count": 59,
   "metadata": {},
   "outputs": [
    {
     "data": {
      "application/vnd.plotly.v1+json": {
       "config": {
        "plotlyServerURL": "https://plot.ly"
       },
       "data": [
        {
         "alignmentgroup": "True",
         "hovertemplate": "un=KWH<br>posto=%{x}<br>saldo_medido=%{y}<extra></extra>",
         "legendgroup": "KWH",
         "marker": {
          "color": "#1696d2"
         },
         "name": "KWH",
         "notched": false,
         "offsetgroup": "KWH",
         "orientation": "v",
         "showlegend": true,
         "type": "box",
         "x": [
          "PONTA",
          "PONTA",
          "PONTA",
          "FPONTA",
          "PONTA",
          "FPONTA",
          "PONTA",
          "PONTA",
          "PONTA",
          "PONTA",
          "PONTA",
          "PONTA",
          "PONTA",
          "PONTA",
          "PONTA",
          "PONTA",
          "FPONTA",
          "PONTA",
          "PONTA",
          "PONTA",
          "PONTA",
          "PONTA",
          "PONTA",
          "PONTA",
          "PONTA",
          "PONTA",
          "PONTA",
          "PONTA",
          "PONTA",
          "PONTA",
          "PONTA",
          "PONTA",
          "PONTA",
          "PONTA",
          "PONTA",
          "PONTA",
          "PONTA",
          "PONTA"
         ],
         "x0": " ",
         "xaxis": "x",
         "y": [
          0,
          0,
          0,
          0,
          0,
          0,
          0,
          0,
          0,
          0,
          0,
          0,
          0,
          0,
          0,
          0,
          0,
          0,
          0,
          0,
          0,
          0,
          0,
          0,
          0,
          45,
          0,
          0,
          0,
          0,
          0,
          0,
          0,
          0,
          0,
          0,
          0,
          0
         ],
         "y0": " ",
         "yaxis": "y"
        },
        {
         "alignmentgroup": "True",
         "hovertemplate": "un=ERE<br>posto=%{x}<br>saldo_medido=%{y}<extra></extra>",
         "legendgroup": "ERE",
         "marker": {
          "color": "#d2d2d2"
         },
         "name": "ERE",
         "notched": false,
         "offsetgroup": "ERE",
         "orientation": "v",
         "showlegend": true,
         "type": "box",
         "x": [
          "FPONTA",
          "FPONTA",
          "FPONTA",
          "PONTA",
          "PONTA",
          "FPONTA",
          "FPONTA",
          "FPONTA"
         ],
         "x0": " ",
         "xaxis": "x",
         "y": [
          0,
          0,
          0,
          0,
          0,
          0,
          0,
          0
         ],
         "y0": " ",
         "yaxis": "y"
        },
        {
         "alignmentgroup": "True",
         "hovertemplate": "un=DRE<br>posto=%{x}<br>saldo_medido=%{y}<extra></extra>",
         "legendgroup": "DRE",
         "marker": {
          "color": "#ec008b"
         },
         "name": "DRE",
         "notched": false,
         "offsetgroup": "DRE",
         "orientation": "v",
         "showlegend": true,
         "type": "box",
         "x": [
          "PONTA",
          "FPONTA",
          "PONTA",
          "FPONTA",
          "PONTA",
          "FPONTA",
          "PONTA",
          "FPONTA",
          "PONTA",
          "FPONTA",
          "PONTA",
          "FPONTA"
         ],
         "x0": " ",
         "xaxis": "x",
         "y": [
          -32.6,
          -35.51,
          -125.9192,
          -128.8056,
          -70.5651,
          -73.431,
          -40,
          -40.88,
          -32.43,
          -34.65,
          -33.87,
          -35.79
         ],
         "y0": " ",
         "yaxis": "y"
        },
        {
         "alignmentgroup": "True",
         "hovertemplate": "un=INJ<br>posto=%{x}<br>saldo_medido=%{y}<extra></extra>",
         "legendgroup": "INJ",
         "marker": {
          "color": "#fdbf11"
         },
         "name": "INJ",
         "notched": false,
         "offsetgroup": "INJ",
         "orientation": "v",
         "showlegend": true,
         "type": "box",
         "x": [
          "FPONTA",
          "PONTA",
          "FPONTA",
          "PONTA",
          "FPONTA",
          "PONTA",
          "PONTA",
          "FPONTA",
          "FPONTA"
         ],
         "x0": " ",
         "xaxis": "x",
         "y": [
          -955177,
          6804.1796,
          50764.8388,
          2086.58,
          16706.45,
          2002.44,
          1780.75,
          17923.11,
          -253462
         ],
         "y0": " ",
         "yaxis": "y"
        },
        {
         "alignmentgroup": "True",
         "hovertemplate": "un=KW<br>posto=%{x}<br>saldo_medido=%{y}<extra></extra>",
         "legendgroup": "KW",
         "marker": {
          "color": "#332d2f"
         },
         "name": "KW",
         "notched": false,
         "offsetgroup": "KW",
         "orientation": "v",
         "showlegend": true,
         "type": "box",
         "x": [
          "FPONTA",
          "PONTA",
          "FPONTA",
          "PONTA",
          "PONTA",
          "FPONTA",
          "PONTA",
          "FPONTA",
          "FPONTA"
         ],
         "x0": " ",
         "xaxis": "x",
         "y": [
          2450,
          -132.3808,
          14.470400000000012,
          -72.078,
          0.04999999999999716,
          18.130000000000003,
          -37.56,
          17.310000000000002,
          2450
         ],
         "y0": " ",
         "yaxis": "y"
        },
        {
         "alignmentgroup": "True",
         "hovertemplate": "un=KVA<br>posto=%{x}<br>saldo_medido=%{y}<extra></extra>",
         "legendgroup": "KVA",
         "marker": {
          "color": "#0a4c6a"
         },
         "name": "KVA",
         "notched": false,
         "offsetgroup": "KVA",
         "orientation": "v",
         "showlegend": true,
         "type": "box",
         "x": [
          "PONTA",
          "PONTA"
         ],
         "x0": " ",
         "xaxis": "x",
         "y": [
          -13776,
          -779
         ],
         "y0": " ",
         "yaxis": "y"
        }
       ],
       "layout": {
        "boxmode": "group",
        "hoverlabel": {
         "font": {
          "family": "Lato-Regular",
          "size": 14
         }
        },
        "legend": {
         "font": {
          "color": "#000000",
          "family": "Lato-Regular",
          "size": 13
         },
         "title": {
          "font": {
           "color": "#000000",
           "family": "Lato-Bold",
           "size": 14
          },
          "text": "un"
         },
         "tracegroupgap": 0
        },
        "template": {
         "data": {
          "bar": [
           {
            "error_x": {
             "color": "#2a3f5f"
            },
            "error_y": {
             "color": "#2a3f5f"
            },
            "marker": {
             "line": {
              "color": "#E5ECF6",
              "width": 0.5
             },
             "pattern": {
              "fillmode": "overlay",
              "size": 10,
              "solidity": 0.2
             }
            },
            "type": "bar"
           }
          ],
          "barpolar": [
           {
            "marker": {
             "line": {
              "color": "#E5ECF6",
              "width": 0.5
             },
             "pattern": {
              "fillmode": "overlay",
              "size": 10,
              "solidity": 0.2
             }
            },
            "type": "barpolar"
           }
          ],
          "carpet": [
           {
            "aaxis": {
             "endlinecolor": "#2a3f5f",
             "gridcolor": "white",
             "linecolor": "white",
             "minorgridcolor": "white",
             "startlinecolor": "#2a3f5f"
            },
            "baxis": {
             "endlinecolor": "#2a3f5f",
             "gridcolor": "white",
             "linecolor": "white",
             "minorgridcolor": "white",
             "startlinecolor": "#2a3f5f"
            },
            "type": "carpet"
           }
          ],
          "choropleth": [
           {
            "colorbar": {
             "outlinewidth": 0,
             "ticks": ""
            },
            "type": "choropleth"
           }
          ],
          "contour": [
           {
            "colorbar": {
             "outlinewidth": 0,
             "ticks": ""
            },
            "colorscale": [
             [
              0,
              "#0d0887"
             ],
             [
              0.1111111111111111,
              "#46039f"
             ],
             [
              0.2222222222222222,
              "#7201a8"
             ],
             [
              0.3333333333333333,
              "#9c179e"
             ],
             [
              0.4444444444444444,
              "#bd3786"
             ],
             [
              0.5555555555555556,
              "#d8576b"
             ],
             [
              0.6666666666666666,
              "#ed7953"
             ],
             [
              0.7777777777777778,
              "#fb9f3a"
             ],
             [
              0.8888888888888888,
              "#fdca26"
             ],
             [
              1,
              "#f0f921"
             ]
            ],
            "type": "contour"
           }
          ],
          "contourcarpet": [
           {
            "colorbar": {
             "outlinewidth": 0,
             "ticks": ""
            },
            "type": "contourcarpet"
           }
          ],
          "heatmap": [
           {
            "colorbar": {
             "outlinewidth": 0,
             "ticks": ""
            },
            "colorscale": [
             [
              0,
              "#0d0887"
             ],
             [
              0.1111111111111111,
              "#46039f"
             ],
             [
              0.2222222222222222,
              "#7201a8"
             ],
             [
              0.3333333333333333,
              "#9c179e"
             ],
             [
              0.4444444444444444,
              "#bd3786"
             ],
             [
              0.5555555555555556,
              "#d8576b"
             ],
             [
              0.6666666666666666,
              "#ed7953"
             ],
             [
              0.7777777777777778,
              "#fb9f3a"
             ],
             [
              0.8888888888888888,
              "#fdca26"
             ],
             [
              1,
              "#f0f921"
             ]
            ],
            "type": "heatmap"
           }
          ],
          "heatmapgl": [
           {
            "colorbar": {
             "outlinewidth": 0,
             "ticks": ""
            },
            "colorscale": [
             [
              0,
              "#0d0887"
             ],
             [
              0.1111111111111111,
              "#46039f"
             ],
             [
              0.2222222222222222,
              "#7201a8"
             ],
             [
              0.3333333333333333,
              "#9c179e"
             ],
             [
              0.4444444444444444,
              "#bd3786"
             ],
             [
              0.5555555555555556,
              "#d8576b"
             ],
             [
              0.6666666666666666,
              "#ed7953"
             ],
             [
              0.7777777777777778,
              "#fb9f3a"
             ],
             [
              0.8888888888888888,
              "#fdca26"
             ],
             [
              1,
              "#f0f921"
             ]
            ],
            "type": "heatmapgl"
           }
          ],
          "histogram": [
           {
            "marker": {
             "pattern": {
              "fillmode": "overlay",
              "size": 10,
              "solidity": 0.2
             }
            },
            "type": "histogram"
           }
          ],
          "histogram2d": [
           {
            "colorbar": {
             "outlinewidth": 0,
             "ticks": ""
            },
            "colorscale": [
             [
              0,
              "#0d0887"
             ],
             [
              0.1111111111111111,
              "#46039f"
             ],
             [
              0.2222222222222222,
              "#7201a8"
             ],
             [
              0.3333333333333333,
              "#9c179e"
             ],
             [
              0.4444444444444444,
              "#bd3786"
             ],
             [
              0.5555555555555556,
              "#d8576b"
             ],
             [
              0.6666666666666666,
              "#ed7953"
             ],
             [
              0.7777777777777778,
              "#fb9f3a"
             ],
             [
              0.8888888888888888,
              "#fdca26"
             ],
             [
              1,
              "#f0f921"
             ]
            ],
            "type": "histogram2d"
           }
          ],
          "histogram2dcontour": [
           {
            "colorbar": {
             "outlinewidth": 0,
             "ticks": ""
            },
            "colorscale": [
             [
              0,
              "#0d0887"
             ],
             [
              0.1111111111111111,
              "#46039f"
             ],
             [
              0.2222222222222222,
              "#7201a8"
             ],
             [
              0.3333333333333333,
              "#9c179e"
             ],
             [
              0.4444444444444444,
              "#bd3786"
             ],
             [
              0.5555555555555556,
              "#d8576b"
             ],
             [
              0.6666666666666666,
              "#ed7953"
             ],
             [
              0.7777777777777778,
              "#fb9f3a"
             ],
             [
              0.8888888888888888,
              "#fdca26"
             ],
             [
              1,
              "#f0f921"
             ]
            ],
            "type": "histogram2dcontour"
           }
          ],
          "mesh3d": [
           {
            "colorbar": {
             "outlinewidth": 0,
             "ticks": ""
            },
            "type": "mesh3d"
           }
          ],
          "parcoords": [
           {
            "line": {
             "colorbar": {
              "outlinewidth": 0,
              "ticks": ""
             }
            },
            "type": "parcoords"
           }
          ],
          "pie": [
           {
            "automargin": true,
            "type": "pie"
           }
          ],
          "scatter": [
           {
            "marker": {
             "colorbar": {
              "outlinewidth": 0,
              "ticks": ""
             }
            },
            "type": "scatter"
           }
          ],
          "scatter3d": [
           {
            "line": {
             "colorbar": {
              "outlinewidth": 0,
              "ticks": ""
             }
            },
            "marker": {
             "colorbar": {
              "outlinewidth": 0,
              "ticks": ""
             }
            },
            "type": "scatter3d"
           }
          ],
          "scattercarpet": [
           {
            "marker": {
             "colorbar": {
              "outlinewidth": 0,
              "ticks": ""
             }
            },
            "type": "scattercarpet"
           }
          ],
          "scattergeo": [
           {
            "marker": {
             "colorbar": {
              "outlinewidth": 0,
              "ticks": ""
             }
            },
            "type": "scattergeo"
           }
          ],
          "scattergl": [
           {
            "marker": {
             "colorbar": {
              "outlinewidth": 0,
              "ticks": ""
             }
            },
            "type": "scattergl"
           }
          ],
          "scattermapbox": [
           {
            "marker": {
             "colorbar": {
              "outlinewidth": 0,
              "ticks": ""
             }
            },
            "type": "scattermapbox"
           }
          ],
          "scatterpolar": [
           {
            "marker": {
             "colorbar": {
              "outlinewidth": 0,
              "ticks": ""
             }
            },
            "type": "scatterpolar"
           }
          ],
          "scatterpolargl": [
           {
            "marker": {
             "colorbar": {
              "outlinewidth": 0,
              "ticks": ""
             }
            },
            "type": "scatterpolargl"
           }
          ],
          "scatterternary": [
           {
            "marker": {
             "colorbar": {
              "outlinewidth": 0,
              "ticks": ""
             }
            },
            "type": "scatterternary"
           }
          ],
          "surface": [
           {
            "colorbar": {
             "outlinewidth": 0,
             "ticks": ""
            },
            "colorscale": [
             [
              0,
              "#0d0887"
             ],
             [
              0.1111111111111111,
              "#46039f"
             ],
             [
              0.2222222222222222,
              "#7201a8"
             ],
             [
              0.3333333333333333,
              "#9c179e"
             ],
             [
              0.4444444444444444,
              "#bd3786"
             ],
             [
              0.5555555555555556,
              "#d8576b"
             ],
             [
              0.6666666666666666,
              "#ed7953"
             ],
             [
              0.7777777777777778,
              "#fb9f3a"
             ],
             [
              0.8888888888888888,
              "#fdca26"
             ],
             [
              1,
              "#f0f921"
             ]
            ],
            "type": "surface"
           }
          ],
          "table": [
           {
            "cells": {
             "fill": {
              "color": "#EBF0F8"
             },
             "line": {
              "color": "white"
             }
            },
            "header": {
             "fill": {
              "color": "#C8D4E3"
             },
             "line": {
              "color": "white"
             }
            },
            "type": "table"
           }
          ]
         },
         "layout": {
          "annotationdefaults": {
           "arrowcolor": "#2a3f5f",
           "arrowhead": 0,
           "arrowwidth": 1
          },
          "autotypenumbers": "strict",
          "coloraxis": {
           "colorbar": {
            "outlinewidth": 0,
            "ticks": ""
           }
          },
          "colorscale": {
           "diverging": [
            [
             0,
             "#8e0152"
            ],
            [
             0.1,
             "#c51b7d"
            ],
            [
             0.2,
             "#de77ae"
            ],
            [
             0.3,
             "#f1b6da"
            ],
            [
             0.4,
             "#fde0ef"
            ],
            [
             0.5,
             "#f7f7f7"
            ],
            [
             0.6,
             "#e6f5d0"
            ],
            [
             0.7,
             "#b8e186"
            ],
            [
             0.8,
             "#7fbc41"
            ],
            [
             0.9,
             "#4d9221"
            ],
            [
             1,
             "#276419"
            ]
           ],
           "sequential": [
            [
             0,
             "#0d0887"
            ],
            [
             0.1111111111111111,
             "#46039f"
            ],
            [
             0.2222222222222222,
             "#7201a8"
            ],
            [
             0.3333333333333333,
             "#9c179e"
            ],
            [
             0.4444444444444444,
             "#bd3786"
            ],
            [
             0.5555555555555556,
             "#d8576b"
            ],
            [
             0.6666666666666666,
             "#ed7953"
            ],
            [
             0.7777777777777778,
             "#fb9f3a"
            ],
            [
             0.8888888888888888,
             "#fdca26"
            ],
            [
             1,
             "#f0f921"
            ]
           ],
           "sequentialminus": [
            [
             0,
             "#0d0887"
            ],
            [
             0.1111111111111111,
             "#46039f"
            ],
            [
             0.2222222222222222,
             "#7201a8"
            ],
            [
             0.3333333333333333,
             "#9c179e"
            ],
            [
             0.4444444444444444,
             "#bd3786"
            ],
            [
             0.5555555555555556,
             "#d8576b"
            ],
            [
             0.6666666666666666,
             "#ed7953"
            ],
            [
             0.7777777777777778,
             "#fb9f3a"
            ],
            [
             0.8888888888888888,
             "#fdca26"
            ],
            [
             1,
             "#f0f921"
            ]
           ]
          },
          "colorway": [
           "#636efa",
           "#EF553B",
           "#00cc96",
           "#ab63fa",
           "#FFA15A",
           "#19d3f3",
           "#FF6692",
           "#B6E880",
           "#FF97FF",
           "#FECB52"
          ],
          "font": {
           "color": "#2a3f5f"
          },
          "geo": {
           "bgcolor": "white",
           "lakecolor": "white",
           "landcolor": "#E5ECF6",
           "showlakes": true,
           "showland": true,
           "subunitcolor": "white"
          },
          "hoverlabel": {
           "align": "left"
          },
          "hovermode": "closest",
          "mapbox": {
           "style": "light"
          },
          "paper_bgcolor": "white",
          "plot_bgcolor": "#E5ECF6",
          "polar": {
           "angularaxis": {
            "gridcolor": "white",
            "linecolor": "white",
            "ticks": ""
           },
           "bgcolor": "#E5ECF6",
           "radialaxis": {
            "gridcolor": "white",
            "linecolor": "white",
            "ticks": ""
           }
          },
          "scene": {
           "xaxis": {
            "backgroundcolor": "#E5ECF6",
            "gridcolor": "white",
            "gridwidth": 2,
            "linecolor": "white",
            "showbackground": true,
            "ticks": "",
            "zerolinecolor": "white"
           },
           "yaxis": {
            "backgroundcolor": "#E5ECF6",
            "gridcolor": "white",
            "gridwidth": 2,
            "linecolor": "white",
            "showbackground": true,
            "ticks": "",
            "zerolinecolor": "white"
           },
           "zaxis": {
            "backgroundcolor": "#E5ECF6",
            "gridcolor": "white",
            "gridwidth": 2,
            "linecolor": "white",
            "showbackground": true,
            "ticks": "",
            "zerolinecolor": "white"
           }
          },
          "shapedefaults": {
           "line": {
            "color": "#2a3f5f"
           }
          },
          "ternary": {
           "aaxis": {
            "gridcolor": "white",
            "linecolor": "white",
            "ticks": ""
           },
           "baxis": {
            "gridcolor": "white",
            "linecolor": "white",
            "ticks": ""
           },
           "bgcolor": "#E5ECF6",
           "caxis": {
            "gridcolor": "white",
            "linecolor": "white",
            "ticks": ""
           }
          },
          "title": {
           "x": 0.05
          },
          "xaxis": {
           "automargin": true,
           "gridcolor": "white",
           "linecolor": "white",
           "ticks": "",
           "title": {
            "standoff": 15
           },
           "zerolinecolor": "white",
           "zerolinewidth": 2
          },
          "yaxis": {
           "automargin": true,
           "gridcolor": "white",
           "linecolor": "white",
           "ticks": "",
           "title": {
            "standoff": 15
           },
           "zerolinecolor": "white",
           "zerolinewidth": 2
          }
         }
        },
        "title": {
         "font": {
          "color": "#000000",
          "family": "Lato-Bold",
          "size": 18
         },
         "text": "Distribuição do saldo medido por grupo"
        },
        "width": 800,
        "xaxis": {
         "anchor": "y",
         "domain": [
          0,
          1
         ],
         "tickfont": {
          "color": "#000000",
          "family": "Lato-Regular",
          "size": 12
         },
         "title": {
          "font": {
           "color": "#000000",
           "family": "Lato-Italic",
           "size": 14
          },
          "text": "posto"
         }
        },
        "yaxis": {
         "anchor": "x",
         "domain": [
          0,
          1
         ],
         "tickfont": {
          "color": "#000000",
          "family": "Lato-Regular",
          "size": 12
         },
         "title": {
          "font": {
           "color": "#000000",
           "family": "Lato-Italic",
           "size": 14
          },
          "text": "saldo_medido"
         }
        }
       }
      }
     },
     "metadata": {},
     "output_type": "display_data"
    }
   ],
   "source": [
    "consumo_df['saldo_medido'] = consumo_df['faturado'] - consumo_df['medido']\n",
    "# Plotando a distribuição\n",
    "px.box(\n",
    "\tdata_frame=consumo_df, \n",
    "\tx='posto', \n",
    "\ty='saldo_medido', \n",
    "\tcolor='un',\n",
    "\ttitle='Distribuição do saldo medido por grupo', \n",
    "\twidth=800, \n",
    "\tcolor_discrete_sequence=CATEGORICAL_GROUPS[consumo_df['un'].nunique()]\n",
    ").update_layout(**LAYOUT_SPECS)"
   ]
  },
  {
   "cell_type": "markdown",
   "metadata": {},
   "source": [
    "A partir desta visualização podemos tirar conslusões de cada medição:  \n",
    "- `KWH`: com excessão de poucos outliers, todas as medições possuem saldo zero.\n",
    "- `KW`: observa-se que na categoria `PONTA` o saldo tem distribuição negativa, e na `FPONTA` o saldo é positivo. Como a demanda é contratada, isso significa que em geral os locais estão abaixo da demanda em períodos de FPONTA e acima dela nos períodos de PONTA.  \n",
    "- `ERE`: encontra-se alguns outliers(n=4) medidos no período de FPONTA.  \n",
    "- `DRE`: em ambos períodos o saldo é negativo, indicando que o valor medido é superior ao faturado.  \n",
    "- `KVA`: esta medida está presente em poucas observações(n=9), seu valor é negativo pois esse dado é apenas medido, não é cobrado na fatura.  \n",
    "- `INJ`: valores negativos podem significar uma grande quantidade de energia injetada proveniente de geração própria, por isso não é faturada.  \n",
    "- `ULTP`: a ultrapassagem foi registrada em apenas em períodos de `FPONTA`.  "
   ]
  },
  {
   "cell_type": "markdown",
   "metadata": {},
   "source": [
    "## Explorando `tarifas`"
   ]
  },
  {
   "cell_type": "code",
   "execution_count": 64,
   "metadata": {},
   "outputs": [
    {
     "data": {
      "application/vnd.plotly.v1+json": {
       "config": {
        "plotlyServerURL": "https://plot.ly"
       },
       "data": [
        {
         "alignmentgroup": "True",
         "customdata": [
          [
           "DEMANDA POTÊNCIA NÃO CONSUMIDA - F PONTA"
          ],
          [
           "DEMANDA POTÊNCIA NÃO CONSUMIDA - F PONTA"
          ],
          [
           "DEMANDA POTÊNCIA NÃO CONSUMIDA - F PONTA"
          ],
          [
           "DEMANDA DE POTÊNCIA MEDIDA - FORA PONTA"
          ],
          [
           "DEMANDA POTÊNCIA REATIVA EXCED - F PONTA"
          ],
          [
           "DEMANDA POTÊNCIA ATIVA - ULTRAP - F PONTA"
          ],
          [
           "DEMANDA POTÊNCIA NÃO CONSUMIDA - F PONTA"
          ],
          [
           "DEMANDA DE POTÊNCIA MEDIDA - FORA PONTA"
          ],
          [
           "DEMANDA POTÊNCIA REATIVA EXCED - F PONTA"
          ],
          [
           "DEMANDA POTÊNCIA ATIVA - ULTRAP - F PONTA"
          ],
          [
           "DEMANDA POTÊNCIA NÃO CONSUMIDA - F PONTA"
          ],
          [
           "DEMANDA POTÊNCIA NÃO CONSUMIDA - F PONTA"
          ],
          [
           "DEMANDA POTÊNCIA NÃO CONSUMIDA - F PONTA"
          ],
          [
           "DEMANDA POTÊNCIA NÃO CONSUMIDA - F PONTA"
          ],
          [
           "DEMANDA DE POTÊNCIA MEDIDA - FORA PONTA"
          ],
          [
           "DEMANDA POTÊNCIA REATIVA EXCED - F PONTA"
          ],
          [
           "DEMANDA POTÊNCIA ATIVA - ULTRAP - F PONTA"
          ],
          [
           "DEMANDA DE POTÊNCIA MEDIDA - FORA PONTA"
          ],
          [
           "DEMANDA POTÊNCIA NÃO CONSUMIDA - F PONTA"
          ],
          [
           "DEMANDA POTÊNCIA NÃO CONSUMIDA - F PONTA"
          ],
          [
           "DEMANDA POTÊNCIA NÃO CONSUMIDA - F PONTA"
          ],
          [
           "DEMANDA POTÊNCIA NÃO CONSUMIDA - F PONTA"
          ],
          [
           "DEMANDA DE POTÊNCIA MEDIDA - FORA PONTA"
          ],
          [
           "DEMANDA POTÊNCIA NÃO CONSUMIDA - F PONTA"
          ],
          [
           "DEMANDA POTÊNCIA NÃO CONSUMIDA - F PONTA"
          ],
          [
           "DEMANDA POTÊNCIA NÃO CONSUMIDA - F PONTA"
          ],
          [
           "DEMANDA DE POTÊNCIA MEDIDA - FORA PONTA"
          ],
          [
           "DEMANDA POTÊNCIA NÃO CONSUMIDA - F PONTA"
          ],
          [
           "DEMANDA POTÊNCIA NÃO CONSUMIDA - F PONTA"
          ],
          [
           "DEMANDA POTÊNCIA NÃO CONSUMIDA - F PONTA"
          ],
          [
           "DEMANDA POTÊNCIA NÃO CONSUMIDA - F PONTA"
          ],
          [
           "DEMANDA POTÊNCIA NÃO CONSUMIDA - F PONTA"
          ]
         ],
         "hovertemplate": "Data: %{x}<br>Valor medido: %{y}<br>Descrição: %{customdata[0]}",
         "legendgroup": "DEMANDA",
         "marker": {
          "color": "#1696d2",
          "pattern": {
           "shape": ""
          }
         },
         "name": "DEMANDA",
         "offsetgroup": "DEMANDA",
         "orientation": "v",
         "showlegend": true,
         "textposition": "auto",
         "type": "bar",
         "x": [
          "2021-06-01T00:00:00",
          "2021-07-01T00:00:00",
          "2022-05-01T00:00:00",
          "2020-04-01T00:00:00",
          "2020-04-01T00:00:00",
          "2020-04-01T00:00:00",
          "2021-12-01T00:00:00",
          "2020-02-01T00:00:00",
          "2020-02-01T00:00:00",
          "2020-02-01T00:00:00",
          "2021-10-01T00:00:00",
          "2021-09-01T00:00:00",
          "2021-08-01T00:00:00",
          "2021-11-01T00:00:00",
          "2020-03-01T00:00:00",
          "2020-03-01T00:00:00",
          "2020-03-01T00:00:00",
          "2020-06-01T00:00:00",
          "2020-06-01T00:00:00",
          "2020-07-01T00:00:00",
          "2020-08-01T00:00:00",
          "2020-09-01T00:00:00",
          "2020-10-01T00:00:00",
          "2020-10-01T00:00:00",
          "2022-01-01T00:00:00",
          "2022-02-01T00:00:00",
          "2020-05-01T00:00:00",
          "2020-05-01T00:00:00",
          "2022-03-01T00:00:00",
          "2022-04-01T00:00:00",
          "2020-12-01T00:00:00",
          "2021-04-01T00:00:00"
         ],
         "xaxis": "x",
         "y": [
          1000,
          1000,
          1000,
          1198.71,
          159.07,
          198.71,
          1000,
          1196.38,
          126.34,
          196.38,
          1000,
          1000,
          1000,
          1000,
          1179.19,
          49.82,
          179.19,
          979.95,
          20.05,
          1000,
          1000,
          1000,
          21.77,
          978.23,
          1000,
          1000,
          986.97,
          13.03,
          1000,
          1000,
          19.26,
          19.26
         ],
         "yaxis": "y"
        },
        {
         "alignmentgroup": "True",
         "customdata": [
          [
           "CONTRIB DE ILUM PUB"
          ],
          [
           "CONTRIB DE ILUM PUB"
          ],
          [
           "CONTRIB DE ILUM PUB"
          ],
          [
           "CONTRIB DE ILUM PUB"
          ],
          [
           "CONTRIB DE ILUM PUB"
          ],
          [
           "CONTRIB DE ILUM PUB"
          ],
          [
           "CONTRIB DE ILUM PUB"
          ],
          [
           "CONTRIB DE ILUM PUB"
          ],
          [
           "CONTRIB DE ILUM PUB"
          ],
          [
           "CONTRIB DE ILUM PUB"
          ],
          [
           "CONTRIB DE ILUM PUB"
          ],
          [
           "CONTRIB DE ILUM PUB"
          ],
          [
           "CONTRIB DE ILUM PUB"
          ],
          [
           "CONTRIB DE ILUM PUB"
          ],
          [
           "CONTRIB DE ILUM PUB"
          ],
          [
           "CONTRIB DE ILUM PUB"
          ],
          [
           "CONTRIB DE ILUM PUB"
          ],
          [
           "CONTRIB DE ILUM PUB"
          ],
          [
           "CONTRIB DE ILUM PUB"
          ],
          [
           "CONTRIB DE ILUM PUB"
          ],
          [
           "CONTRIB DE ILUM PUB"
          ],
          [
           "CONTRIB DE ILUM PUB"
          ],
          [
           "CONTRIB DE ILUM PUB"
          ]
         ],
         "hovertemplate": "Data: %{x}<br>Valor medido: %{y}<br>Descrição: %{customdata[0]}",
         "legendgroup": "CONTRIB",
         "marker": {
          "color": "#d2d2d2",
          "pattern": {
           "shape": ""
          }
         },
         "name": "CONTRIB",
         "offsetgroup": "CONTRIB",
         "orientation": "v",
         "showlegend": true,
         "textposition": "auto",
         "type": "bar",
         "x": [
          "2021-06-01T00:00:00",
          "2021-07-01T00:00:00",
          "2022-05-01T00:00:00",
          "2020-04-01T00:00:00",
          "2021-12-01T00:00:00",
          "2020-02-01T00:00:00",
          "2021-10-01T00:00:00",
          "2021-09-01T00:00:00",
          "2021-08-01T00:00:00",
          "2021-11-01T00:00:00",
          "2020-03-01T00:00:00",
          "2020-06-01T00:00:00",
          "2020-07-01T00:00:00",
          "2020-08-01T00:00:00",
          "2020-09-01T00:00:00",
          "2020-10-01T00:00:00",
          "2022-01-01T00:00:00",
          "2022-02-01T00:00:00",
          "2020-05-01T00:00:00",
          "2022-03-01T00:00:00",
          "2022-04-01T00:00:00",
          "2020-12-01T00:00:00",
          "2021-04-01T00:00:00"
         ],
         "xaxis": "x",
         "y": [
          0,
          0,
          0,
          0,
          0,
          0,
          0,
          0,
          0,
          0,
          0,
          0,
          0,
          0,
          0,
          0,
          0,
          0,
          0,
          0,
          0,
          0,
          0
         ],
         "yaxis": "y"
        },
        {
         "alignmentgroup": "True",
         "customdata": [
          [
           "CONSUMO EM KWH - FORA PONTA"
          ],
          [
           "CONSUMO EM KWH - FORA PONTA"
          ]
         ],
         "hovertemplate": "Data: %{x}<br>Valor medido: %{y}<br>Descrição: %{customdata[0]}",
         "legendgroup": "CONSUMO",
         "marker": {
          "color": "#ec008b",
          "pattern": {
           "shape": ""
          }
         },
         "name": "CONSUMO",
         "offsetgroup": "CONSUMO",
         "orientation": "v",
         "showlegend": true,
         "textposition": "auto",
         "type": "bar",
         "x": [
          "2020-04-01T00:00:00",
          "2022-02-01T00:00:00"
         ],
         "xaxis": "x",
         "y": [
          0,
          324
         ],
         "yaxis": "y"
        },
        {
         "alignmentgroup": "True",
         "customdata": [
          [
           "ENERGIA ATV INJETADA - FORA PONTA"
          ],
          [
           "ENERGIA REATIVA EXCED EM KWH - FPONTA"
          ],
          [
           "ENERGIA REATIVA EXCED EM KWH - FPONTA"
          ],
          [
           "ENERGIA REATIVA EXCED EM KWH - FPONTA"
          ],
          [
           "ENERGIA REATIVA EXCED EM KWH - FPONTA"
          ],
          [
           "ENERGIA REATIVA EXCED EM KWH - PONTA"
          ],
          [
           "ENERGIA REATIVA EXCED EM KWH - FPONTA"
          ],
          [
           "ENERGIA ATV INJETADA - FORA PONTA"
          ],
          [
           "ENERGIA REATIVA EXCED EM KWH - FPONTA"
          ]
         ],
         "hovertemplate": "Data: %{x}<br>Valor medido: %{y}<br>Descrição: %{customdata[0]}",
         "legendgroup": "ENERGIA",
         "marker": {
          "color": "#fdbf11",
          "pattern": {
           "shape": ""
          }
         },
         "name": "ENERGIA",
         "offsetgroup": "ENERGIA",
         "orientation": "v",
         "showlegend": true,
         "textposition": "auto",
         "type": "bar",
         "x": [
          "2020-04-01T00:00:00",
          "2020-04-01T00:00:00",
          "2020-02-01T00:00:00",
          "2020-03-01T00:00:00",
          "2020-06-01T00:00:00",
          "2020-10-01T00:00:00",
          "2020-10-01T00:00:00",
          "2022-02-01T00:00:00",
          "2020-05-01T00:00:00"
         ],
         "xaxis": "x",
         "y": [
          0,
          1358,
          3550,
          1361,
          314,
          0,
          68,
          324,
          106
         ],
         "yaxis": "y"
        },
        {
         "alignmentgroup": "True",
         "customdata": [
          [
           "JUROS DE MORA 02/2020"
          ],
          [
           "JUROS DE MORA 12/2019"
          ],
          [
           "JUROS DE MORA 01/2020"
          ],
          [
           "JUROS DE MORA 04/2020"
          ],
          [
           "JUROS DE MORA 05/2020"
          ],
          [
           "JUROS DE MORA 06/2020"
          ],
          [
           "JUROS DE MORA 07/2020"
          ],
          [
           "JUROS DE MORA 12/2021"
          ],
          [
           "JUROS DE MORA 01/2022"
          ],
          [
           "JUROS DE MORA 03/2020"
          ]
         ],
         "hovertemplate": "Data: %{x}<br>Valor medido: %{y}<br>Descrição: %{customdata[0]}",
         "legendgroup": "JUROS",
         "marker": {
          "color": "#332d2f",
          "pattern": {
           "shape": ""
          }
         },
         "name": "JUROS",
         "offsetgroup": "JUROS",
         "orientation": "v",
         "showlegend": true,
         "textposition": "auto",
         "type": "bar",
         "x": [
          "2020-04-01T00:00:00",
          "2020-02-01T00:00:00",
          "2020-03-01T00:00:00",
          "2020-06-01T00:00:00",
          "2020-07-01T00:00:00",
          "2020-08-01T00:00:00",
          "2020-09-01T00:00:00",
          "2022-02-01T00:00:00",
          "2022-02-01T00:00:00",
          "2020-05-01T00:00:00"
         ],
         "xaxis": "x",
         "y": [
          0,
          0,
          0,
          0,
          0,
          0,
          0,
          0,
          0,
          0
         ],
         "yaxis": "y"
        },
        {
         "alignmentgroup": "True",
         "customdata": [
          [
           "MULTA 02/2020"
          ],
          [
           "MULTA 12/2019"
          ],
          [
           "MULTA 01/2020"
          ],
          [
           "MULTA 04/2020"
          ],
          [
           "MULTA 05/2020"
          ],
          [
           "MULTA 06/2020"
          ],
          [
           "MULTA 07/2020"
          ],
          [
           "MULTA 12/2021"
          ],
          [
           "MULTA 01/2022"
          ],
          [
           "MULTA 03/2020"
          ]
         ],
         "hovertemplate": "Data: %{x}<br>Valor medido: %{y}<br>Descrição: %{customdata[0]}",
         "legendgroup": "MULTA",
         "marker": {
          "color": "#0a4c6a",
          "pattern": {
           "shape": ""
          }
         },
         "name": "MULTA",
         "offsetgroup": "MULTA",
         "orientation": "v",
         "showlegend": true,
         "textposition": "auto",
         "type": "bar",
         "x": [
          "2020-04-01T00:00:00",
          "2020-02-01T00:00:00",
          "2020-03-01T00:00:00",
          "2020-06-01T00:00:00",
          "2020-07-01T00:00:00",
          "2020-08-01T00:00:00",
          "2020-09-01T00:00:00",
          "2022-02-01T00:00:00",
          "2022-02-01T00:00:00",
          "2020-05-01T00:00:00"
         ],
         "xaxis": "x",
         "y": [
          0,
          0,
          0,
          0,
          0,
          0,
          0,
          0,
          0,
          0
         ],
         "yaxis": "y"
        },
        {
         "alignmentgroup": "True",
         "customdata": [
          [
           "ATUALIZAÇÃO MONETÁRIA 12/2019"
          ],
          [
           "ATUALIZAÇÃO MONETÁRIA 01/2020"
          ],
          [
           "ATUALIZAÇÃO MONETÁRIA 04/2020"
          ],
          [
           "ATUALIZAÇÃO MONETÁRIA 05/2020"
          ],
          [
           "ATUALIZAÇÃO MONETÁRIA 06/2020"
          ],
          [
           "ATUALIZAÇÃO MONETÁRIA 07/2020"
          ],
          [
           "ATUALIZAÇÃO MONETÁRIA 03/2020"
          ]
         ],
         "hovertemplate": "Data: %{x}<br>Valor medido: %{y}<br>Descrição: %{customdata[0]}",
         "legendgroup": "ATUALIZAÇÃO",
         "marker": {
          "color": "#55b748",
          "pattern": {
           "shape": ""
          }
         },
         "name": "ATUALIZAÇÃO",
         "offsetgroup": "ATUALIZAÇÃO",
         "orientation": "v",
         "showlegend": true,
         "textposition": "auto",
         "type": "bar",
         "x": [
          "2020-02-01T00:00:00",
          "2020-03-01T00:00:00",
          "2020-06-01T00:00:00",
          "2020-07-01T00:00:00",
          "2020-08-01T00:00:00",
          "2020-09-01T00:00:00",
          "2020-05-01T00:00:00"
         ],
         "xaxis": "x",
         "y": [
          0,
          0,
          0,
          0,
          0,
          0,
          0
         ],
         "yaxis": "y"
        }
       ],
       "layout": {
        "annotations": [
         {
          "font": {},
          "showarrow": false,
          "text": "uc=6/2731957-3",
          "x": 0.5,
          "xanchor": "center",
          "xref": "paper",
          "y": 1,
          "yanchor": "bottom",
          "yref": "paper"
         }
        ],
        "barmode": "group",
        "height": 600,
        "hoverlabel": {
         "font": {
          "family": "Lato-Regular",
          "size": 14
         }
        },
        "legend": {
         "font": {
          "color": "#000000",
          "family": "Lato-Regular",
          "size": 13
         },
         "title": {
          "font": {
           "color": "#000000",
           "family": "Lato-Bold",
           "size": 14
          },
          "text": "class_desc"
         },
         "tracegroupgap": 0
        },
        "template": {
         "data": {
          "bar": [
           {
            "error_x": {
             "color": "#2a3f5f"
            },
            "error_y": {
             "color": "#2a3f5f"
            },
            "marker": {
             "line": {
              "color": "#E5ECF6",
              "width": 0.5
             },
             "pattern": {
              "fillmode": "overlay",
              "size": 10,
              "solidity": 0.2
             }
            },
            "type": "bar"
           }
          ],
          "barpolar": [
           {
            "marker": {
             "line": {
              "color": "#E5ECF6",
              "width": 0.5
             },
             "pattern": {
              "fillmode": "overlay",
              "size": 10,
              "solidity": 0.2
             }
            },
            "type": "barpolar"
           }
          ],
          "carpet": [
           {
            "aaxis": {
             "endlinecolor": "#2a3f5f",
             "gridcolor": "white",
             "linecolor": "white",
             "minorgridcolor": "white",
             "startlinecolor": "#2a3f5f"
            },
            "baxis": {
             "endlinecolor": "#2a3f5f",
             "gridcolor": "white",
             "linecolor": "white",
             "minorgridcolor": "white",
             "startlinecolor": "#2a3f5f"
            },
            "type": "carpet"
           }
          ],
          "choropleth": [
           {
            "colorbar": {
             "outlinewidth": 0,
             "ticks": ""
            },
            "type": "choropleth"
           }
          ],
          "contour": [
           {
            "colorbar": {
             "outlinewidth": 0,
             "ticks": ""
            },
            "colorscale": [
             [
              0,
              "#0d0887"
             ],
             [
              0.1111111111111111,
              "#46039f"
             ],
             [
              0.2222222222222222,
              "#7201a8"
             ],
             [
              0.3333333333333333,
              "#9c179e"
             ],
             [
              0.4444444444444444,
              "#bd3786"
             ],
             [
              0.5555555555555556,
              "#d8576b"
             ],
             [
              0.6666666666666666,
              "#ed7953"
             ],
             [
              0.7777777777777778,
              "#fb9f3a"
             ],
             [
              0.8888888888888888,
              "#fdca26"
             ],
             [
              1,
              "#f0f921"
             ]
            ],
            "type": "contour"
           }
          ],
          "contourcarpet": [
           {
            "colorbar": {
             "outlinewidth": 0,
             "ticks": ""
            },
            "type": "contourcarpet"
           }
          ],
          "heatmap": [
           {
            "colorbar": {
             "outlinewidth": 0,
             "ticks": ""
            },
            "colorscale": [
             [
              0,
              "#0d0887"
             ],
             [
              0.1111111111111111,
              "#46039f"
             ],
             [
              0.2222222222222222,
              "#7201a8"
             ],
             [
              0.3333333333333333,
              "#9c179e"
             ],
             [
              0.4444444444444444,
              "#bd3786"
             ],
             [
              0.5555555555555556,
              "#d8576b"
             ],
             [
              0.6666666666666666,
              "#ed7953"
             ],
             [
              0.7777777777777778,
              "#fb9f3a"
             ],
             [
              0.8888888888888888,
              "#fdca26"
             ],
             [
              1,
              "#f0f921"
             ]
            ],
            "type": "heatmap"
           }
          ],
          "heatmapgl": [
           {
            "colorbar": {
             "outlinewidth": 0,
             "ticks": ""
            },
            "colorscale": [
             [
              0,
              "#0d0887"
             ],
             [
              0.1111111111111111,
              "#46039f"
             ],
             [
              0.2222222222222222,
              "#7201a8"
             ],
             [
              0.3333333333333333,
              "#9c179e"
             ],
             [
              0.4444444444444444,
              "#bd3786"
             ],
             [
              0.5555555555555556,
              "#d8576b"
             ],
             [
              0.6666666666666666,
              "#ed7953"
             ],
             [
              0.7777777777777778,
              "#fb9f3a"
             ],
             [
              0.8888888888888888,
              "#fdca26"
             ],
             [
              1,
              "#f0f921"
             ]
            ],
            "type": "heatmapgl"
           }
          ],
          "histogram": [
           {
            "marker": {
             "pattern": {
              "fillmode": "overlay",
              "size": 10,
              "solidity": 0.2
             }
            },
            "type": "histogram"
           }
          ],
          "histogram2d": [
           {
            "colorbar": {
             "outlinewidth": 0,
             "ticks": ""
            },
            "colorscale": [
             [
              0,
              "#0d0887"
             ],
             [
              0.1111111111111111,
              "#46039f"
             ],
             [
              0.2222222222222222,
              "#7201a8"
             ],
             [
              0.3333333333333333,
              "#9c179e"
             ],
             [
              0.4444444444444444,
              "#bd3786"
             ],
             [
              0.5555555555555556,
              "#d8576b"
             ],
             [
              0.6666666666666666,
              "#ed7953"
             ],
             [
              0.7777777777777778,
              "#fb9f3a"
             ],
             [
              0.8888888888888888,
              "#fdca26"
             ],
             [
              1,
              "#f0f921"
             ]
            ],
            "type": "histogram2d"
           }
          ],
          "histogram2dcontour": [
           {
            "colorbar": {
             "outlinewidth": 0,
             "ticks": ""
            },
            "colorscale": [
             [
              0,
              "#0d0887"
             ],
             [
              0.1111111111111111,
              "#46039f"
             ],
             [
              0.2222222222222222,
              "#7201a8"
             ],
             [
              0.3333333333333333,
              "#9c179e"
             ],
             [
              0.4444444444444444,
              "#bd3786"
             ],
             [
              0.5555555555555556,
              "#d8576b"
             ],
             [
              0.6666666666666666,
              "#ed7953"
             ],
             [
              0.7777777777777778,
              "#fb9f3a"
             ],
             [
              0.8888888888888888,
              "#fdca26"
             ],
             [
              1,
              "#f0f921"
             ]
            ],
            "type": "histogram2dcontour"
           }
          ],
          "mesh3d": [
           {
            "colorbar": {
             "outlinewidth": 0,
             "ticks": ""
            },
            "type": "mesh3d"
           }
          ],
          "parcoords": [
           {
            "line": {
             "colorbar": {
              "outlinewidth": 0,
              "ticks": ""
             }
            },
            "type": "parcoords"
           }
          ],
          "pie": [
           {
            "automargin": true,
            "type": "pie"
           }
          ],
          "scatter": [
           {
            "marker": {
             "colorbar": {
              "outlinewidth": 0,
              "ticks": ""
             }
            },
            "type": "scatter"
           }
          ],
          "scatter3d": [
           {
            "line": {
             "colorbar": {
              "outlinewidth": 0,
              "ticks": ""
             }
            },
            "marker": {
             "colorbar": {
              "outlinewidth": 0,
              "ticks": ""
             }
            },
            "type": "scatter3d"
           }
          ],
          "scattercarpet": [
           {
            "marker": {
             "colorbar": {
              "outlinewidth": 0,
              "ticks": ""
             }
            },
            "type": "scattercarpet"
           }
          ],
          "scattergeo": [
           {
            "marker": {
             "colorbar": {
              "outlinewidth": 0,
              "ticks": ""
             }
            },
            "type": "scattergeo"
           }
          ],
          "scattergl": [
           {
            "marker": {
             "colorbar": {
              "outlinewidth": 0,
              "ticks": ""
             }
            },
            "type": "scattergl"
           }
          ],
          "scattermapbox": [
           {
            "marker": {
             "colorbar": {
              "outlinewidth": 0,
              "ticks": ""
             }
            },
            "type": "scattermapbox"
           }
          ],
          "scatterpolar": [
           {
            "marker": {
             "colorbar": {
              "outlinewidth": 0,
              "ticks": ""
             }
            },
            "type": "scatterpolar"
           }
          ],
          "scatterpolargl": [
           {
            "marker": {
             "colorbar": {
              "outlinewidth": 0,
              "ticks": ""
             }
            },
            "type": "scatterpolargl"
           }
          ],
          "scatterternary": [
           {
            "marker": {
             "colorbar": {
              "outlinewidth": 0,
              "ticks": ""
             }
            },
            "type": "scatterternary"
           }
          ],
          "surface": [
           {
            "colorbar": {
             "outlinewidth": 0,
             "ticks": ""
            },
            "colorscale": [
             [
              0,
              "#0d0887"
             ],
             [
              0.1111111111111111,
              "#46039f"
             ],
             [
              0.2222222222222222,
              "#7201a8"
             ],
             [
              0.3333333333333333,
              "#9c179e"
             ],
             [
              0.4444444444444444,
              "#bd3786"
             ],
             [
              0.5555555555555556,
              "#d8576b"
             ],
             [
              0.6666666666666666,
              "#ed7953"
             ],
             [
              0.7777777777777778,
              "#fb9f3a"
             ],
             [
              0.8888888888888888,
              "#fdca26"
             ],
             [
              1,
              "#f0f921"
             ]
            ],
            "type": "surface"
           }
          ],
          "table": [
           {
            "cells": {
             "fill": {
              "color": "#EBF0F8"
             },
             "line": {
              "color": "white"
             }
            },
            "header": {
             "fill": {
              "color": "#C8D4E3"
             },
             "line": {
              "color": "white"
             }
            },
            "type": "table"
           }
          ]
         },
         "layout": {
          "annotationdefaults": {
           "arrowcolor": "#2a3f5f",
           "arrowhead": 0,
           "arrowwidth": 1
          },
          "autotypenumbers": "strict",
          "coloraxis": {
           "colorbar": {
            "outlinewidth": 0,
            "ticks": ""
           }
          },
          "colorscale": {
           "diverging": [
            [
             0,
             "#8e0152"
            ],
            [
             0.1,
             "#c51b7d"
            ],
            [
             0.2,
             "#de77ae"
            ],
            [
             0.3,
             "#f1b6da"
            ],
            [
             0.4,
             "#fde0ef"
            ],
            [
             0.5,
             "#f7f7f7"
            ],
            [
             0.6,
             "#e6f5d0"
            ],
            [
             0.7,
             "#b8e186"
            ],
            [
             0.8,
             "#7fbc41"
            ],
            [
             0.9,
             "#4d9221"
            ],
            [
             1,
             "#276419"
            ]
           ],
           "sequential": [
            [
             0,
             "#0d0887"
            ],
            [
             0.1111111111111111,
             "#46039f"
            ],
            [
             0.2222222222222222,
             "#7201a8"
            ],
            [
             0.3333333333333333,
             "#9c179e"
            ],
            [
             0.4444444444444444,
             "#bd3786"
            ],
            [
             0.5555555555555556,
             "#d8576b"
            ],
            [
             0.6666666666666666,
             "#ed7953"
            ],
            [
             0.7777777777777778,
             "#fb9f3a"
            ],
            [
             0.8888888888888888,
             "#fdca26"
            ],
            [
             1,
             "#f0f921"
            ]
           ],
           "sequentialminus": [
            [
             0,
             "#0d0887"
            ],
            [
             0.1111111111111111,
             "#46039f"
            ],
            [
             0.2222222222222222,
             "#7201a8"
            ],
            [
             0.3333333333333333,
             "#9c179e"
            ],
            [
             0.4444444444444444,
             "#bd3786"
            ],
            [
             0.5555555555555556,
             "#d8576b"
            ],
            [
             0.6666666666666666,
             "#ed7953"
            ],
            [
             0.7777777777777778,
             "#fb9f3a"
            ],
            [
             0.8888888888888888,
             "#fdca26"
            ],
            [
             1,
             "#f0f921"
            ]
           ]
          },
          "colorway": [
           "#636efa",
           "#EF553B",
           "#00cc96",
           "#ab63fa",
           "#FFA15A",
           "#19d3f3",
           "#FF6692",
           "#B6E880",
           "#FF97FF",
           "#FECB52"
          ],
          "font": {
           "color": "#2a3f5f"
          },
          "geo": {
           "bgcolor": "white",
           "lakecolor": "white",
           "landcolor": "#E5ECF6",
           "showlakes": true,
           "showland": true,
           "subunitcolor": "white"
          },
          "hoverlabel": {
           "align": "left"
          },
          "hovermode": "closest",
          "mapbox": {
           "style": "light"
          },
          "paper_bgcolor": "white",
          "plot_bgcolor": "#E5ECF6",
          "polar": {
           "angularaxis": {
            "gridcolor": "white",
            "linecolor": "white",
            "ticks": ""
           },
           "bgcolor": "#E5ECF6",
           "radialaxis": {
            "gridcolor": "white",
            "linecolor": "white",
            "ticks": ""
           }
          },
          "scene": {
           "xaxis": {
            "backgroundcolor": "#E5ECF6",
            "gridcolor": "white",
            "gridwidth": 2,
            "linecolor": "white",
            "showbackground": true,
            "ticks": "",
            "zerolinecolor": "white"
           },
           "yaxis": {
            "backgroundcolor": "#E5ECF6",
            "gridcolor": "white",
            "gridwidth": 2,
            "linecolor": "white",
            "showbackground": true,
            "ticks": "",
            "zerolinecolor": "white"
           },
           "zaxis": {
            "backgroundcolor": "#E5ECF6",
            "gridcolor": "white",
            "gridwidth": 2,
            "linecolor": "white",
            "showbackground": true,
            "ticks": "",
            "zerolinecolor": "white"
           }
          },
          "shapedefaults": {
           "line": {
            "color": "#2a3f5f"
           }
          },
          "ternary": {
           "aaxis": {
            "gridcolor": "white",
            "linecolor": "white",
            "ticks": ""
           },
           "baxis": {
            "gridcolor": "white",
            "linecolor": "white",
            "ticks": ""
           },
           "bgcolor": "#E5ECF6",
           "caxis": {
            "gridcolor": "white",
            "linecolor": "white",
            "ticks": ""
           }
          },
          "title": {
           "x": 0.05
          },
          "xaxis": {
           "automargin": true,
           "gridcolor": "white",
           "linecolor": "white",
           "ticks": "",
           "title": {
            "standoff": 15
           },
           "zerolinecolor": "white",
           "zerolinewidth": 2
          },
          "yaxis": {
           "automargin": true,
           "gridcolor": "white",
           "linecolor": "white",
           "ticks": "",
           "title": {
            "standoff": 15
           },
           "zerolinecolor": "white",
           "zerolinewidth": 2
          }
         }
        },
        "title": {
         "font": {
          "color": "#000000",
          "family": "Lato-Bold",
          "size": 18
         },
         "text": "TELEFONICA BRASIL SA<br><sup>Histórico por unidade consumidora</sup>"
        },
        "width": 1000,
        "xaxis": {
         "anchor": "y",
         "domain": [
          0,
          1
         ],
         "tickfont": {
          "color": "#000000",
          "family": "Lato-Regular",
          "size": 12
         },
         "title": {
          "font": {
           "color": "#000000",
           "family": "Lato-Italic",
           "size": 14
          },
          "text": "referencia"
         }
        },
        "yaxis": {
         "anchor": "x",
         "domain": [
          0,
          1
         ],
         "showticklabels": true,
         "tickfont": {
          "color": "#000000",
          "family": "Lato-Regular",
          "size": 12
         },
         "title": {
          "font": {
           "color": "#000000",
           "family": "Lato-Italic",
           "size": 14
          },
          "text": "quantidade"
         }
        }
       }
      }
     },
     "metadata": {},
     "output_type": "display_data"
    }
   ],
   "source": [
    "tarifas_cliente = pd.concat([\n",
    "\tquery_data.drop(columns='tarifas'),\n",
    "\tquery_data.explode('tarifas')['tarifas'].apply(pd.Series)\n",
    "], axis=1)\n",
    "\n",
    "px.bar(\n",
    "\ttarifas_cliente,\n",
    "\tx='referencia',\n",
    "\ty='quantidade',\n",
    "\tcolor='class_desc',\n",
    "\t#facet_row='posto',\n",
    "\tfacet_col='uc',\n",
    "\tcustom_data=['descricao'],\n",
    "\tbarmode='group',\n",
    "\ttitle=f'{cliente}<br><sup>Histórico por unidade consumidora</sup>',\n",
    "\tcolor_discrete_sequence=CATEGORICAL_GROUPS[tarifas_cliente['class_desc'].nunique()],\n",
    "\theight=600, width=1000\n",
    ").update_traces(\n",
    "    hovertemplate=\"<br>\".join([\n",
    "        \"Data: %{x}\",\n",
    "        \"Valor medido: %{y}\",\n",
    "        \"Descrição: %{customdata[0]}\",\n",
    "    ])\n",
    ").update_layout(**LAYOUT_SPECS\n",
    ").update_yaxes(matches=None, **LAYOUT_SPECS['yaxis']\n",
    ").for_each_yaxis(lambda yaxis: yaxis.update(showticklabels=True))"
   ]
  },
  {
   "cell_type": "code",
   "execution_count": 65,
   "metadata": {},
   "outputs": [
    {
     "data": {
      "application/vnd.plotly.v1+json": {
       "config": {
        "plotlyServerURL": "https://plot.ly"
       },
       "data": [
        {
         "alignmentgroup": "True",
         "hovertemplate": "un=ERE<br>posto=PONTA<br>referencia=%{x}<br>medido=%{y}<extra></extra>",
         "legendgroup": "ERE",
         "marker": {
          "color": "#000000",
          "pattern": {
           "shape": ""
          }
         },
         "name": "ERE",
         "offsetgroup": "ERE",
         "orientation": "v",
         "showlegend": true,
         "textposition": "auto",
         "type": "bar",
         "x": [
          "2021-06-01T00:00:00"
         ],
         "xaxis": "x",
         "y": [
          223.71
         ],
         "yaxis": "y"
        },
        {
         "alignmentgroup": "True",
         "hovertemplate": "un=ERE<br>posto=FPONTA<br>referencia=%{x}<br>medido=%{y}<extra></extra>",
         "legendgroup": "ERE",
         "marker": {
          "color": "#000000",
          "pattern": {
           "shape": ""
          }
         },
         "name": "ERE",
         "offsetgroup": "ERE",
         "orientation": "v",
         "showlegend": false,
         "textposition": "auto",
         "type": "bar",
         "x": [
          "2021-07-01T00:00:00"
         ],
         "xaxis": "x2",
         "y": [
          1775.98
         ],
         "yaxis": "y2"
        },
        {
         "alignmentgroup": "True",
         "hovertemplate": "un=DRE<br>posto=PONTA<br>referencia=%{x}<br>medido=%{y}<extra></extra>",
         "legendgroup": "DRE",
         "marker": {
          "color": "#d2d2d2",
          "pattern": {
           "shape": ""
          }
         },
         "name": "DRE",
         "offsetgroup": "DRE",
         "orientation": "v",
         "showlegend": true,
         "textposition": "auto",
         "type": "bar",
         "x": [
          "2022-05-01T00:00:00"
         ],
         "xaxis": "x",
         "y": [
          41.3
         ],
         "yaxis": "y"
        },
        {
         "alignmentgroup": "True",
         "hovertemplate": "un=DRE<br>posto=FPONTA<br>referencia=%{x}<br>medido=%{y}<extra></extra>",
         "legendgroup": "DRE",
         "marker": {
          "color": "#d2d2d2",
          "pattern": {
           "shape": ""
          }
         },
         "name": "DRE",
         "offsetgroup": "DRE",
         "orientation": "v",
         "showlegend": false,
         "textposition": "auto",
         "type": "bar",
         "x": [
          "2020-04-01T00:00:00"
         ],
         "xaxis": "x2",
         "y": [
          41.89
         ],
         "yaxis": "y2"
        },
        {
         "alignmentgroup": "True",
         "hovertemplate": "un=KWH<br>posto=PONTA<br>referencia=%{x}<br>medido=%{y}<extra></extra>",
         "legendgroup": "KWH",
         "marker": {
          "color": "#fdbf11",
          "pattern": {
           "shape": ""
          }
         },
         "name": "KWH",
         "offsetgroup": "KWH",
         "orientation": "v",
         "showlegend": true,
         "textposition": "auto",
         "type": "bar",
         "x": [
          "2021-12-01T00:00:00",
          "2020-02-01T00:00:00",
          "2021-10-01T00:00:00",
          "2021-09-01T00:00:00",
          "2021-08-01T00:00:00",
          "2021-11-01T00:00:00",
          "2020-03-01T00:00:00",
          "2020-06-01T00:00:00",
          "2020-07-01T00:00:00",
          "2020-08-01T00:00:00",
          "2020-09-01T00:00:00",
          "2020-10-01T00:00:00",
          "2022-01-01T00:00:00",
          "2022-02-01T00:00:00",
          "2020-05-01T00:00:00",
          "2022-03-01T00:00:00",
          "2022-04-01T00:00:00",
          "2020-12-01T00:00:00"
         ],
         "xaxis": "x",
         "y": [
          1217,
          1365,
          6037,
          1217,
          1347,
          1245,
          1347,
          2021,
          33797,
          2347,
          2536,
          2324,
          7315,
          84,
          84,
          1513,
          1780.75,
          1115
         ],
         "yaxis": "y"
        },
        {
         "alignmentgroup": "True",
         "hovertemplate": "un=INJ<br>posto=PONTA<br>referencia=%{x}<br>medido=%{y}<extra></extra>",
         "legendgroup": "INJ",
         "marker": {
          "color": "#1696d2",
          "pattern": {
           "shape": ""
          }
         },
         "name": "INJ",
         "offsetgroup": "INJ",
         "orientation": "v",
         "showlegend": true,
         "textposition": "auto",
         "type": "bar",
         "x": [
          "2021-04-01T00:00:00"
         ],
         "xaxis": "x",
         "y": [
          26067
         ],
         "yaxis": "y"
        }
       ],
       "layout": {
        "annotations": [
         {
          "font": {},
          "showarrow": false,
          "text": "posto=PONTA",
          "x": 0.245,
          "xanchor": "center",
          "xref": "paper",
          "y": 1,
          "yanchor": "bottom",
          "yref": "paper"
         },
         {
          "font": {},
          "showarrow": false,
          "text": "posto=FPONTA",
          "x": 0.755,
          "xanchor": "center",
          "xref": "paper",
          "y": 1,
          "yanchor": "bottom",
          "yref": "paper"
         }
        ],
        "barmode": "relative",
        "hoverlabel": {
         "font": {
          "family": "Lato-Regular",
          "size": 14
         }
        },
        "legend": {
         "font": {
          "color": "#000000",
          "family": "Lato-Regular",
          "size": 13
         },
         "title": {
          "font": {
           "color": "#000000",
           "family": "Lato-Bold",
           "size": 14
          },
          "text": "un"
         },
         "tracegroupgap": 0
        },
        "template": {
         "data": {
          "bar": [
           {
            "error_x": {
             "color": "#2a3f5f"
            },
            "error_y": {
             "color": "#2a3f5f"
            },
            "marker": {
             "line": {
              "color": "#E5ECF6",
              "width": 0.5
             },
             "pattern": {
              "fillmode": "overlay",
              "size": 10,
              "solidity": 0.2
             }
            },
            "type": "bar"
           }
          ],
          "barpolar": [
           {
            "marker": {
             "line": {
              "color": "#E5ECF6",
              "width": 0.5
             },
             "pattern": {
              "fillmode": "overlay",
              "size": 10,
              "solidity": 0.2
             }
            },
            "type": "barpolar"
           }
          ],
          "carpet": [
           {
            "aaxis": {
             "endlinecolor": "#2a3f5f",
             "gridcolor": "white",
             "linecolor": "white",
             "minorgridcolor": "white",
             "startlinecolor": "#2a3f5f"
            },
            "baxis": {
             "endlinecolor": "#2a3f5f",
             "gridcolor": "white",
             "linecolor": "white",
             "minorgridcolor": "white",
             "startlinecolor": "#2a3f5f"
            },
            "type": "carpet"
           }
          ],
          "choropleth": [
           {
            "colorbar": {
             "outlinewidth": 0,
             "ticks": ""
            },
            "type": "choropleth"
           }
          ],
          "contour": [
           {
            "colorbar": {
             "outlinewidth": 0,
             "ticks": ""
            },
            "colorscale": [
             [
              0,
              "#0d0887"
             ],
             [
              0.1111111111111111,
              "#46039f"
             ],
             [
              0.2222222222222222,
              "#7201a8"
             ],
             [
              0.3333333333333333,
              "#9c179e"
             ],
             [
              0.4444444444444444,
              "#bd3786"
             ],
             [
              0.5555555555555556,
              "#d8576b"
             ],
             [
              0.6666666666666666,
              "#ed7953"
             ],
             [
              0.7777777777777778,
              "#fb9f3a"
             ],
             [
              0.8888888888888888,
              "#fdca26"
             ],
             [
              1,
              "#f0f921"
             ]
            ],
            "type": "contour"
           }
          ],
          "contourcarpet": [
           {
            "colorbar": {
             "outlinewidth": 0,
             "ticks": ""
            },
            "type": "contourcarpet"
           }
          ],
          "heatmap": [
           {
            "colorbar": {
             "outlinewidth": 0,
             "ticks": ""
            },
            "colorscale": [
             [
              0,
              "#0d0887"
             ],
             [
              0.1111111111111111,
              "#46039f"
             ],
             [
              0.2222222222222222,
              "#7201a8"
             ],
             [
              0.3333333333333333,
              "#9c179e"
             ],
             [
              0.4444444444444444,
              "#bd3786"
             ],
             [
              0.5555555555555556,
              "#d8576b"
             ],
             [
              0.6666666666666666,
              "#ed7953"
             ],
             [
              0.7777777777777778,
              "#fb9f3a"
             ],
             [
              0.8888888888888888,
              "#fdca26"
             ],
             [
              1,
              "#f0f921"
             ]
            ],
            "type": "heatmap"
           }
          ],
          "heatmapgl": [
           {
            "colorbar": {
             "outlinewidth": 0,
             "ticks": ""
            },
            "colorscale": [
             [
              0,
              "#0d0887"
             ],
             [
              0.1111111111111111,
              "#46039f"
             ],
             [
              0.2222222222222222,
              "#7201a8"
             ],
             [
              0.3333333333333333,
              "#9c179e"
             ],
             [
              0.4444444444444444,
              "#bd3786"
             ],
             [
              0.5555555555555556,
              "#d8576b"
             ],
             [
              0.6666666666666666,
              "#ed7953"
             ],
             [
              0.7777777777777778,
              "#fb9f3a"
             ],
             [
              0.8888888888888888,
              "#fdca26"
             ],
             [
              1,
              "#f0f921"
             ]
            ],
            "type": "heatmapgl"
           }
          ],
          "histogram": [
           {
            "marker": {
             "pattern": {
              "fillmode": "overlay",
              "size": 10,
              "solidity": 0.2
             }
            },
            "type": "histogram"
           }
          ],
          "histogram2d": [
           {
            "colorbar": {
             "outlinewidth": 0,
             "ticks": ""
            },
            "colorscale": [
             [
              0,
              "#0d0887"
             ],
             [
              0.1111111111111111,
              "#46039f"
             ],
             [
              0.2222222222222222,
              "#7201a8"
             ],
             [
              0.3333333333333333,
              "#9c179e"
             ],
             [
              0.4444444444444444,
              "#bd3786"
             ],
             [
              0.5555555555555556,
              "#d8576b"
             ],
             [
              0.6666666666666666,
              "#ed7953"
             ],
             [
              0.7777777777777778,
              "#fb9f3a"
             ],
             [
              0.8888888888888888,
              "#fdca26"
             ],
             [
              1,
              "#f0f921"
             ]
            ],
            "type": "histogram2d"
           }
          ],
          "histogram2dcontour": [
           {
            "colorbar": {
             "outlinewidth": 0,
             "ticks": ""
            },
            "colorscale": [
             [
              0,
              "#0d0887"
             ],
             [
              0.1111111111111111,
              "#46039f"
             ],
             [
              0.2222222222222222,
              "#7201a8"
             ],
             [
              0.3333333333333333,
              "#9c179e"
             ],
             [
              0.4444444444444444,
              "#bd3786"
             ],
             [
              0.5555555555555556,
              "#d8576b"
             ],
             [
              0.6666666666666666,
              "#ed7953"
             ],
             [
              0.7777777777777778,
              "#fb9f3a"
             ],
             [
              0.8888888888888888,
              "#fdca26"
             ],
             [
              1,
              "#f0f921"
             ]
            ],
            "type": "histogram2dcontour"
           }
          ],
          "mesh3d": [
           {
            "colorbar": {
             "outlinewidth": 0,
             "ticks": ""
            },
            "type": "mesh3d"
           }
          ],
          "parcoords": [
           {
            "line": {
             "colorbar": {
              "outlinewidth": 0,
              "ticks": ""
             }
            },
            "type": "parcoords"
           }
          ],
          "pie": [
           {
            "automargin": true,
            "type": "pie"
           }
          ],
          "scatter": [
           {
            "marker": {
             "colorbar": {
              "outlinewidth": 0,
              "ticks": ""
             }
            },
            "type": "scatter"
           }
          ],
          "scatter3d": [
           {
            "line": {
             "colorbar": {
              "outlinewidth": 0,
              "ticks": ""
             }
            },
            "marker": {
             "colorbar": {
              "outlinewidth": 0,
              "ticks": ""
             }
            },
            "type": "scatter3d"
           }
          ],
          "scattercarpet": [
           {
            "marker": {
             "colorbar": {
              "outlinewidth": 0,
              "ticks": ""
             }
            },
            "type": "scattercarpet"
           }
          ],
          "scattergeo": [
           {
            "marker": {
             "colorbar": {
              "outlinewidth": 0,
              "ticks": ""
             }
            },
            "type": "scattergeo"
           }
          ],
          "scattergl": [
           {
            "marker": {
             "colorbar": {
              "outlinewidth": 0,
              "ticks": ""
             }
            },
            "type": "scattergl"
           }
          ],
          "scattermapbox": [
           {
            "marker": {
             "colorbar": {
              "outlinewidth": 0,
              "ticks": ""
             }
            },
            "type": "scattermapbox"
           }
          ],
          "scatterpolar": [
           {
            "marker": {
             "colorbar": {
              "outlinewidth": 0,
              "ticks": ""
             }
            },
            "type": "scatterpolar"
           }
          ],
          "scatterpolargl": [
           {
            "marker": {
             "colorbar": {
              "outlinewidth": 0,
              "ticks": ""
             }
            },
            "type": "scatterpolargl"
           }
          ],
          "scatterternary": [
           {
            "marker": {
             "colorbar": {
              "outlinewidth": 0,
              "ticks": ""
             }
            },
            "type": "scatterternary"
           }
          ],
          "surface": [
           {
            "colorbar": {
             "outlinewidth": 0,
             "ticks": ""
            },
            "colorscale": [
             [
              0,
              "#0d0887"
             ],
             [
              0.1111111111111111,
              "#46039f"
             ],
             [
              0.2222222222222222,
              "#7201a8"
             ],
             [
              0.3333333333333333,
              "#9c179e"
             ],
             [
              0.4444444444444444,
              "#bd3786"
             ],
             [
              0.5555555555555556,
              "#d8576b"
             ],
             [
              0.6666666666666666,
              "#ed7953"
             ],
             [
              0.7777777777777778,
              "#fb9f3a"
             ],
             [
              0.8888888888888888,
              "#fdca26"
             ],
             [
              1,
              "#f0f921"
             ]
            ],
            "type": "surface"
           }
          ],
          "table": [
           {
            "cells": {
             "fill": {
              "color": "#EBF0F8"
             },
             "line": {
              "color": "white"
             }
            },
            "header": {
             "fill": {
              "color": "#C8D4E3"
             },
             "line": {
              "color": "white"
             }
            },
            "type": "table"
           }
          ]
         },
         "layout": {
          "annotationdefaults": {
           "arrowcolor": "#2a3f5f",
           "arrowhead": 0,
           "arrowwidth": 1
          },
          "autotypenumbers": "strict",
          "coloraxis": {
           "colorbar": {
            "outlinewidth": 0,
            "ticks": ""
           }
          },
          "colorscale": {
           "diverging": [
            [
             0,
             "#8e0152"
            ],
            [
             0.1,
             "#c51b7d"
            ],
            [
             0.2,
             "#de77ae"
            ],
            [
             0.3,
             "#f1b6da"
            ],
            [
             0.4,
             "#fde0ef"
            ],
            [
             0.5,
             "#f7f7f7"
            ],
            [
             0.6,
             "#e6f5d0"
            ],
            [
             0.7,
             "#b8e186"
            ],
            [
             0.8,
             "#7fbc41"
            ],
            [
             0.9,
             "#4d9221"
            ],
            [
             1,
             "#276419"
            ]
           ],
           "sequential": [
            [
             0,
             "#0d0887"
            ],
            [
             0.1111111111111111,
             "#46039f"
            ],
            [
             0.2222222222222222,
             "#7201a8"
            ],
            [
             0.3333333333333333,
             "#9c179e"
            ],
            [
             0.4444444444444444,
             "#bd3786"
            ],
            [
             0.5555555555555556,
             "#d8576b"
            ],
            [
             0.6666666666666666,
             "#ed7953"
            ],
            [
             0.7777777777777778,
             "#fb9f3a"
            ],
            [
             0.8888888888888888,
             "#fdca26"
            ],
            [
             1,
             "#f0f921"
            ]
           ],
           "sequentialminus": [
            [
             0,
             "#0d0887"
            ],
            [
             0.1111111111111111,
             "#46039f"
            ],
            [
             0.2222222222222222,
             "#7201a8"
            ],
            [
             0.3333333333333333,
             "#9c179e"
            ],
            [
             0.4444444444444444,
             "#bd3786"
            ],
            [
             0.5555555555555556,
             "#d8576b"
            ],
            [
             0.6666666666666666,
             "#ed7953"
            ],
            [
             0.7777777777777778,
             "#fb9f3a"
            ],
            [
             0.8888888888888888,
             "#fdca26"
            ],
            [
             1,
             "#f0f921"
            ]
           ]
          },
          "colorway": [
           "#636efa",
           "#EF553B",
           "#00cc96",
           "#ab63fa",
           "#FFA15A",
           "#19d3f3",
           "#FF6692",
           "#B6E880",
           "#FF97FF",
           "#FECB52"
          ],
          "font": {
           "color": "#2a3f5f"
          },
          "geo": {
           "bgcolor": "white",
           "lakecolor": "white",
           "landcolor": "#E5ECF6",
           "showlakes": true,
           "showland": true,
           "subunitcolor": "white"
          },
          "hoverlabel": {
           "align": "left"
          },
          "hovermode": "closest",
          "mapbox": {
           "style": "light"
          },
          "paper_bgcolor": "white",
          "plot_bgcolor": "#E5ECF6",
          "polar": {
           "angularaxis": {
            "gridcolor": "white",
            "linecolor": "white",
            "ticks": ""
           },
           "bgcolor": "#E5ECF6",
           "radialaxis": {
            "gridcolor": "white",
            "linecolor": "white",
            "ticks": ""
           }
          },
          "scene": {
           "xaxis": {
            "backgroundcolor": "#E5ECF6",
            "gridcolor": "white",
            "gridwidth": 2,
            "linecolor": "white",
            "showbackground": true,
            "ticks": "",
            "zerolinecolor": "white"
           },
           "yaxis": {
            "backgroundcolor": "#E5ECF6",
            "gridcolor": "white",
            "gridwidth": 2,
            "linecolor": "white",
            "showbackground": true,
            "ticks": "",
            "zerolinecolor": "white"
           },
           "zaxis": {
            "backgroundcolor": "#E5ECF6",
            "gridcolor": "white",
            "gridwidth": 2,
            "linecolor": "white",
            "showbackground": true,
            "ticks": "",
            "zerolinecolor": "white"
           }
          },
          "shapedefaults": {
           "line": {
            "color": "#2a3f5f"
           }
          },
          "ternary": {
           "aaxis": {
            "gridcolor": "white",
            "linecolor": "white",
            "ticks": ""
           },
           "baxis": {
            "gridcolor": "white",
            "linecolor": "white",
            "ticks": ""
           },
           "bgcolor": "#E5ECF6",
           "caxis": {
            "gridcolor": "white",
            "linecolor": "white",
            "ticks": ""
           }
          },
          "title": {
           "x": 0.05
          },
          "xaxis": {
           "automargin": true,
           "gridcolor": "white",
           "linecolor": "white",
           "ticks": "",
           "title": {
            "standoff": 15
           },
           "zerolinecolor": "white",
           "zerolinewidth": 2
          },
          "yaxis": {
           "automargin": true,
           "gridcolor": "white",
           "linecolor": "white",
           "ticks": "",
           "title": {
            "standoff": 15
           },
           "zerolinecolor": "white",
           "zerolinewidth": 2
          }
         }
        },
        "title": {
         "font": {
          "color": "#000000",
          "family": "Lato-Bold",
          "size": 18
         },
         "text": "TELEFONICA BRASIL SA<br><sup>Histórico das medições</sup>"
        },
        "width": 1000,
        "xaxis": {
         "anchor": "y",
         "domain": [
          0,
          0.49
         ],
         "tickfont": {
          "color": "#000000",
          "family": "Lato-Regular",
          "size": 12
         },
         "title": {
          "font": {
           "color": "#000000",
           "family": "Lato-Italic",
           "size": 14
          },
          "text": "referencia"
         }
        },
        "xaxis2": {
         "anchor": "y2",
         "domain": [
          0.51,
          1
         ],
         "matches": "x",
         "tickfont": {
          "color": "#000000",
          "family": "Lato-Regular",
          "size": 12
         },
         "title": {
          "font": {
           "color": "#000000",
           "family": "Lato-Italic",
           "size": 14
          },
          "text": "referencia"
         }
        },
        "yaxis": {
         "anchor": "x",
         "domain": [
          0,
          1
         ],
         "tickfont": {
          "color": "#000000",
          "family": "Lato-Regular",
          "size": 12
         },
         "title": {
          "font": {
           "color": "#000000",
           "family": "Lato-Italic",
           "size": 14
          },
          "text": "medido"
         }
        },
        "yaxis2": {
         "anchor": "x2",
         "domain": [
          0,
          1
         ],
         "matches": "y",
         "showticklabels": false
        }
       }
      }
     },
     "metadata": {},
     "output_type": "display_data"
    }
   ],
   "source": [
    "consumo_cliente = pd.concat([\n",
    "\tquery_data.drop(columns='estruturaConsumo'),\n",
    "\tquery_data['estruturaConsumo'].apply(pd.Series)\n",
    "], axis=1)\n",
    "\n",
    "consumo_cliente['saldo'] = consumo_cliente['faturado'] - consumo_cliente['medido']\n",
    "\n",
    "px.bar(\n",
    "\tconsumo_cliente,\n",
    "\tx='referencia',\n",
    "\ty='medido',\n",
    "\tcolor='un',\n",
    "\tfacet_col='posto',\n",
    "\ttitle=f'{cliente}<br><sup>Histórico das medições</sup>',\n",
    "\tcolor_discrete_sequence=CATEGORICAL_GROUPS[consumo_cliente['un'].nunique()],\n",
    "\twidth=1000\n",
    ").update_layout(**LAYOUT_SPECS\n",
    ").update_xaxes(**LAYOUT_SPECS['xaxis'])"
   ]
  },
  {
   "cell_type": "code",
   "execution_count": 67,
   "metadata": {},
   "outputs": [],
   "source": [
    "def select_client(name):\n",
    "\tcliente_query = norm_df[norm_df['cliente']==name]\n",
    "\n",
    "\ttarifas_cliente = pd.concat([\n",
    "\t\tcliente_query.drop(columns='tarifas'),\n",
    "\t\tcliente_query.explode('tarifas')['tarifas'].apply(pd.Series)\n",
    "\t], axis=1)\n",
    "\n",
    "\tconsumo_cliente = pd.concat([\n",
    "\t\tcliente_query.drop(columns='estruturaConsumo'),\n",
    "\t\tcliente_query['estruturaConsumo'].apply(pd.Series)\n",
    "\t], axis=1)\n",
    "\n",
    "\treturn tarifas_cliente, consumo_cliente\n",
    "\n",
    "cliente = 'TELEFONICA BRASIL SA'\n",
    "\n",
    "tarifas_cliente, consumo_cliente = select_client(cliente)"
   ]
  },
  {
   "cell_type": "code",
   "execution_count": 69,
   "metadata": {},
   "outputs": [
    {
     "data": {
      "application/vnd.plotly.v1+json": {
       "config": {
        "plotlyServerURL": "https://plot.ly"
       },
       "data": [
        {
         "alignmentgroup": "True",
         "hovertemplate": "class_desc=CONSUMO<br>tarifa_posto=NA<br>referencia=%{x}<br>quantidade=%{y}<extra></extra>",
         "legendgroup": "CONSUMO",
         "marker": {
          "color": "#1696d2"
         },
         "name": "CONSUMO",
         "notched": false,
         "offsetgroup": "CONSUMO",
         "orientation": "v",
         "showlegend": true,
         "type": "box",
         "x": [
          "2022-02-01T00:00:00",
          "2022-02-01T00:00:00",
          "2022-03-01T00:00:00",
          "2022-03-01T00:00:00",
          "2022-03-01T00:00:00",
          "2022-03-01T00:00:00",
          "2022-03-01T00:00:00",
          "2022-03-01T00:00:00",
          "2022-03-01T00:00:00",
          "2022-03-01T00:00:00",
          "2022-03-01T00:00:00",
          "2022-03-01T00:00:00",
          "2022-03-01T00:00:00",
          "2022-03-01T00:00:00",
          "2022-03-01T00:00:00",
          "2022-03-01T00:00:00",
          "2022-03-01T00:00:00",
          "2022-03-01T00:00:00",
          "2022-03-01T00:00:00",
          "2022-03-01T00:00:00",
          "2022-03-01T00:00:00",
          "2022-03-01T00:00:00",
          "2022-04-01T00:00:00",
          "2022-04-01T00:00:00",
          "2022-04-01T00:00:00",
          "2022-04-01T00:00:00",
          "2022-04-01T00:00:00",
          "2022-04-01T00:00:00",
          "2022-04-01T00:00:00",
          "2022-04-01T00:00:00",
          "2022-04-01T00:00:00",
          "2022-04-01T00:00:00",
          "2022-04-01T00:00:00",
          "2022-04-01T00:00:00",
          "2022-04-01T00:00:00",
          "2022-04-01T00:00:00",
          "2022-04-01T00:00:00",
          "2022-04-01T00:00:00",
          "2022-04-01T00:00:00",
          "2022-04-01T00:00:00",
          "2022-04-01T00:00:00",
          "2022-04-01T00:00:00",
          "2022-04-01T00:00:00",
          "2022-04-01T00:00:00",
          "2022-04-01T00:00:00",
          "2022-04-01T00:00:00",
          "2022-04-01T00:00:00",
          "2022-04-01T00:00:00",
          "2022-04-01T00:00:00",
          "2022-04-01T00:00:00",
          "2022-05-01T00:00:00",
          "2022-05-01T00:00:00",
          "2022-05-01T00:00:00",
          "2022-05-01T00:00:00",
          "2022-05-01T00:00:00",
          "2022-05-01T00:00:00",
          "2022-05-01T00:00:00",
          "2022-05-01T00:00:00",
          "2022-05-01T00:00:00",
          "2022-05-01T00:00:00",
          "2022-05-01T00:00:00",
          "2022-05-01T00:00:00",
          "2022-05-01T00:00:00",
          "2022-05-01T00:00:00",
          "2022-05-01T00:00:00",
          "2022-05-01T00:00:00",
          "2022-05-01T00:00:00"
         ],
         "x0": " ",
         "xaxis": "x",
         "y": [
          1005,
          1000,
          2505,
          3432,
          2274,
          4127,
          1749,
          2116,
          0,
          0,
          0,
          0,
          0,
          0,
          0,
          0,
          0,
          0,
          0,
          0,
          0,
          0,
          0,
          0,
          0,
          0,
          0,
          0,
          0,
          0,
          0,
          0,
          0,
          0,
          0,
          0,
          0,
          0,
          0,
          0,
          0,
          0,
          0,
          0,
          0,
          0,
          0,
          0,
          0,
          0,
          0,
          0,
          0,
          0,
          0,
          0,
          0,
          0,
          0,
          0,
          0,
          0,
          0,
          0,
          0,
          0,
          0
         ],
         "y0": " ",
         "yaxis": "y"
        },
        {
         "alignmentgroup": "True",
         "hovertemplate": "class_desc=CONSUMO<br>tarifa_posto=FPONTA<br>referencia=%{x}<br>quantidade=%{y}<extra></extra>",
         "legendgroup": "CONSUMO",
         "marker": {
          "color": "#1696d2"
         },
         "name": "CONSUMO",
         "notched": false,
         "offsetgroup": "CONSUMO",
         "orientation": "v",
         "showlegend": false,
         "type": "box",
         "x": [
          "2022-04-01T00:00:00",
          "2022-03-01T00:00:00",
          "2022-05-01T00:00:00"
         ],
         "x0": " ",
         "xaxis": "x2",
         "y": [
          0,
          0,
          0
         ],
         "y0": " ",
         "yaxis": "y2"
        },
        {
         "alignmentgroup": "True",
         "hovertemplate": "class_desc=CONSUMO<br>tarifa_posto=PONTA<br>referencia=%{x}<br>quantidade=%{y}<extra></extra>",
         "legendgroup": "CONSUMO",
         "marker": {
          "color": "#1696d2"
         },
         "name": "CONSUMO",
         "notched": false,
         "offsetgroup": "CONSUMO",
         "orientation": "v",
         "showlegend": false,
         "type": "box",
         "x": [
          "2022-04-01T00:00:00",
          "2022-05-01T00:00:00"
         ],
         "x0": " ",
         "xaxis": "x3",
         "y": [
          0,
          0
         ],
         "y0": " ",
         "yaxis": "y3"
        },
        {
         "alignmentgroup": "True",
         "hovertemplate": "class_desc=ENERGIA<br>tarifa_posto=NA<br>referencia=%{x}<br>quantidade=%{y}<extra></extra>",
         "legendgroup": "ENERGIA",
         "marker": {
          "color": "#d2d2d2"
         },
         "name": "ENERGIA",
         "notched": false,
         "offsetgroup": "ENERGIA",
         "orientation": "v",
         "showlegend": true,
         "type": "box",
         "x": [
          "2022-02-01T00:00:00",
          "2022-02-01T00:00:00",
          "2022-03-01T00:00:00",
          "2022-03-01T00:00:00",
          "2022-03-01T00:00:00",
          "2022-03-01T00:00:00",
          "2022-03-01T00:00:00",
          "2022-03-01T00:00:00",
          "2022-03-01T00:00:00",
          "2022-03-01T00:00:00",
          "2022-03-01T00:00:00",
          "2022-03-01T00:00:00",
          "2022-03-01T00:00:00",
          "2022-03-01T00:00:00",
          "2022-03-01T00:00:00",
          "2022-03-01T00:00:00",
          "2022-03-01T00:00:00",
          "2022-03-01T00:00:00",
          "2022-03-01T00:00:00",
          "2022-03-01T00:00:00",
          "2022-03-01T00:00:00",
          "2022-03-01T00:00:00",
          "2022-03-01T00:00:00",
          "2022-04-01T00:00:00",
          "2022-04-01T00:00:00",
          "2022-04-01T00:00:00",
          "2022-04-01T00:00:00",
          "2022-04-01T00:00:00",
          "2022-04-01T00:00:00",
          "2022-04-01T00:00:00",
          "2022-04-01T00:00:00",
          "2022-04-01T00:00:00",
          "2022-04-01T00:00:00",
          "2022-04-01T00:00:00",
          "2022-04-01T00:00:00",
          "2022-04-01T00:00:00",
          "2022-04-01T00:00:00",
          "2022-04-01T00:00:00",
          "2022-04-01T00:00:00",
          "2022-04-01T00:00:00",
          "2022-04-01T00:00:00",
          "2022-04-01T00:00:00",
          "2022-04-01T00:00:00",
          "2022-04-01T00:00:00",
          "2022-04-01T00:00:00",
          "2022-04-01T00:00:00",
          "2022-04-01T00:00:00",
          "2022-04-01T00:00:00",
          "2022-05-01T00:00:00",
          "2022-05-01T00:00:00",
          "2022-05-01T00:00:00",
          "2022-05-01T00:00:00",
          "2022-05-01T00:00:00",
          "2022-05-01T00:00:00",
          "2022-05-01T00:00:00",
          "2022-05-01T00:00:00",
          "2022-05-01T00:00:00",
          "2022-05-01T00:00:00",
          "2022-05-01T00:00:00",
          "2022-05-01T00:00:00",
          "2022-05-01T00:00:00",
          "2022-05-01T00:00:00",
          "2022-05-01T00:00:00",
          "2022-05-01T00:00:00",
          "2022-05-01T00:00:00",
          "2022-05-01T00:00:00"
         ],
         "x0": " ",
         "xaxis": "x",
         "y": [
          529,
          263,
          785,
          195,
          1765,
          409,
          2355,
          1355,
          1177,
          472,
          0,
          0,
          0,
          0,
          0,
          0,
          0,
          0,
          0,
          0,
          0,
          0,
          0,
          0,
          0,
          0,
          0,
          0,
          0,
          0,
          0,
          0,
          0,
          0,
          0,
          0,
          0,
          0,
          0,
          0,
          0,
          0,
          0,
          0,
          0,
          0,
          0,
          0,
          0,
          0,
          0,
          0,
          0,
          0,
          0,
          0,
          0,
          0,
          0,
          0,
          0,
          0,
          0,
          0,
          0,
          0
         ],
         "y0": " ",
         "yaxis": "y"
        },
        {
         "alignmentgroup": "True",
         "hovertemplate": "class_desc=ENERGIA<br>tarifa_posto=FPONTA<br>referencia=%{x}<br>quantidade=%{y}<extra></extra>",
         "legendgroup": "ENERGIA",
         "marker": {
          "color": "#d2d2d2"
         },
         "name": "ENERGIA",
         "notched": false,
         "offsetgroup": "ENERGIA",
         "orientation": "v",
         "showlegend": false,
         "type": "box",
         "x": [
          "2022-02-01T00:00:00",
          "2022-04-01T00:00:00",
          "2022-04-01T00:00:00",
          "2022-03-01T00:00:00",
          "2022-03-01T00:00:00",
          "2022-05-01T00:00:00",
          "2022-01-01T00:00:00"
         ],
         "x0": " ",
         "xaxis": "x2",
         "y": [
          0,
          0,
          12.57,
          0,
          19.01,
          0,
          13
         ],
         "y0": " ",
         "yaxis": "y2"
        },
        {
         "alignmentgroup": "True",
         "hovertemplate": "class_desc=ENERGIA<br>tarifa_posto=PONTA<br>referencia=%{x}<br>quantidade=%{y}<extra></extra>",
         "legendgroup": "ENERGIA",
         "marker": {
          "color": "#d2d2d2"
         },
         "name": "ENERGIA",
         "notched": false,
         "offsetgroup": "ENERGIA",
         "orientation": "v",
         "showlegend": false,
         "type": "box",
         "x": [
          "2022-04-01T00:00:00",
          "2022-04-01T00:00:00",
          "2022-03-01T00:00:00",
          "2022-05-01T00:00:00",
          "2022-01-01T00:00:00"
         ],
         "x0": " ",
         "xaxis": "x3",
         "y": [
          0,
          0,
          0,
          0,
          0
         ],
         "y0": " ",
         "yaxis": "y3"
        },
        {
         "alignmentgroup": "True",
         "hovertemplate": "class_desc=ADIC.<br>tarifa_posto=NA<br>referencia=%{x}<br>quantidade=%{y}<extra></extra>",
         "legendgroup": "ADIC.",
         "marker": {
          "color": "#ec008b"
         },
         "name": "ADIC.",
         "notched": false,
         "offsetgroup": "ADIC.",
         "orientation": "v",
         "showlegend": true,
         "type": "box",
         "x": [
          "2022-02-01T00:00:00",
          "2022-02-01T00:00:00",
          "2022-03-01T00:00:00",
          "2022-03-01T00:00:00",
          "2022-03-01T00:00:00",
          "2022-03-01T00:00:00",
          "2022-03-01T00:00:00",
          "2022-03-01T00:00:00",
          "2022-03-01T00:00:00",
          "2022-03-01T00:00:00",
          "2022-03-01T00:00:00",
          "2022-03-01T00:00:00",
          "2022-03-01T00:00:00",
          "2022-03-01T00:00:00",
          "2022-03-01T00:00:00",
          "2022-03-01T00:00:00",
          "2022-03-01T00:00:00",
          "2022-03-01T00:00:00",
          "2022-03-01T00:00:00",
          "2022-03-01T00:00:00",
          "2022-03-01T00:00:00",
          "2022-03-01T00:00:00",
          "2022-03-01T00:00:00",
          "2022-03-01T00:00:00",
          "2022-04-01T00:00:00",
          "2022-04-01T00:00:00",
          "2022-04-01T00:00:00",
          "2022-04-01T00:00:00",
          "2022-04-01T00:00:00",
          "2022-04-01T00:00:00",
          "2022-04-01T00:00:00",
          "2022-04-01T00:00:00",
          "2022-04-01T00:00:00",
          "2022-04-01T00:00:00",
          "2022-04-01T00:00:00",
          "2022-04-01T00:00:00",
          "2022-04-01T00:00:00",
          "2022-04-01T00:00:00",
          "2022-04-01T00:00:00",
          "2022-04-01T00:00:00",
          "2022-04-01T00:00:00",
          "2022-04-01T00:00:00",
          "2022-04-01T00:00:00",
          "2022-04-01T00:00:00",
          "2022-04-01T00:00:00",
          "2022-04-01T00:00:00",
          "2022-04-01T00:00:00",
          "2022-04-01T00:00:00",
          "2022-04-01T00:00:00",
          "2022-04-01T00:00:00",
          "2022-04-01T00:00:00",
          "2022-04-01T00:00:00",
          "2022-04-01T00:00:00",
          "2022-04-01T00:00:00",
          "2022-04-01T00:00:00",
          "2022-05-01T00:00:00",
          "2022-05-01T00:00:00",
          "2022-05-01T00:00:00",
          "2022-05-01T00:00:00",
          "2022-05-01T00:00:00",
          "2022-05-01T00:00:00",
          "2022-05-01T00:00:00",
          "2022-05-01T00:00:00",
          "2022-05-01T00:00:00",
          "2022-05-01T00:00:00",
          "2022-05-01T00:00:00",
          "2022-05-01T00:00:00",
          "2022-05-01T00:00:00",
          "2022-05-01T00:00:00",
          "2022-05-01T00:00:00"
         ],
         "x0": " ",
         "xaxis": "x",
         "y": [
          0,
          0,
          0,
          0,
          0,
          0,
          0,
          0,
          0,
          0,
          0,
          0,
          0,
          0,
          0,
          0,
          0,
          0,
          0,
          0,
          0,
          0,
          0,
          0,
          0,
          0,
          0,
          0,
          0,
          0,
          0,
          0,
          0,
          0,
          0,
          0,
          0,
          0,
          0,
          0,
          0,
          0,
          0,
          0,
          0,
          0,
          0,
          0,
          0,
          0,
          0,
          0,
          0,
          0,
          0,
          0,
          0,
          0,
          0,
          0,
          0,
          0,
          0,
          0,
          0,
          0,
          0,
          0,
          0,
          0
         ],
         "y0": " ",
         "yaxis": "y"
        },
        {
         "alignmentgroup": "True",
         "hovertemplate": "class_desc=COMPENS.<br>tarifa_posto=NA<br>referencia=%{x}<br>quantidade=%{y}<extra></extra>",
         "legendgroup": "COMPENS.",
         "marker": {
          "color": "#fdbf11"
         },
         "name": "COMPENS.",
         "notched": false,
         "offsetgroup": "COMPENS.",
         "orientation": "v",
         "showlegend": true,
         "type": "box",
         "x": [
          "2022-02-01T00:00:00",
          "2022-02-01T00:00:00"
         ],
         "x0": " ",
         "xaxis": "x",
         "y": [
          0,
          0
         ],
         "y0": " ",
         "yaxis": "y"
        },
        {
         "alignmentgroup": "True",
         "hovertemplate": "class_desc=CONTRIB<br>tarifa_posto=NA<br>referencia=%{x}<br>quantidade=%{y}<extra></extra>",
         "legendgroup": "CONTRIB",
         "marker": {
          "color": "#332d2f"
         },
         "name": "CONTRIB",
         "notched": false,
         "offsetgroup": "CONTRIB",
         "orientation": "v",
         "showlegend": true,
         "type": "box",
         "x": [
          "2022-02-01T00:00:00",
          "2022-03-01T00:00:00",
          "2022-03-01T00:00:00",
          "2022-03-01T00:00:00",
          "2022-03-01T00:00:00",
          "2022-03-01T00:00:00",
          "2022-03-01T00:00:00",
          "2022-03-01T00:00:00",
          "2022-03-01T00:00:00",
          "2022-03-01T00:00:00",
          "2022-03-01T00:00:00",
          "2022-03-01T00:00:00",
          "2022-03-01T00:00:00",
          "2022-03-01T00:00:00",
          "2022-03-01T00:00:00",
          "2022-03-01T00:00:00",
          "2022-03-01T00:00:00",
          "2022-03-01T00:00:00",
          "2022-03-01T00:00:00",
          "2022-03-01T00:00:00",
          "2022-03-01T00:00:00",
          "2022-03-01T00:00:00",
          "2022-04-01T00:00:00",
          "2022-04-01T00:00:00",
          "2022-04-01T00:00:00",
          "2022-04-01T00:00:00",
          "2022-04-01T00:00:00",
          "2022-04-01T00:00:00",
          "2022-04-01T00:00:00",
          "2022-04-01T00:00:00",
          "2022-04-01T00:00:00",
          "2022-04-01T00:00:00",
          "2022-04-01T00:00:00",
          "2022-04-01T00:00:00",
          "2022-04-01T00:00:00",
          "2022-04-01T00:00:00",
          "2022-04-01T00:00:00",
          "2022-04-01T00:00:00",
          "2022-04-01T00:00:00",
          "2022-04-01T00:00:00",
          "2022-04-01T00:00:00",
          "2022-04-01T00:00:00",
          "2022-04-01T00:00:00",
          "2022-04-01T00:00:00",
          "2022-04-01T00:00:00",
          "2022-04-01T00:00:00",
          "2022-04-01T00:00:00",
          "2022-04-01T00:00:00",
          "2022-04-01T00:00:00",
          "2022-04-01T00:00:00",
          "2022-04-01T00:00:00",
          "2022-05-01T00:00:00",
          "2022-05-01T00:00:00",
          "2022-05-01T00:00:00",
          "2022-05-01T00:00:00",
          "2022-05-01T00:00:00",
          "2022-05-01T00:00:00",
          "2022-05-01T00:00:00",
          "2022-05-01T00:00:00",
          "2022-05-01T00:00:00",
          "2022-05-01T00:00:00",
          "2022-05-01T00:00:00",
          "2022-05-01T00:00:00",
          "2022-05-01T00:00:00",
          "2022-05-01T00:00:00",
          "2022-05-01T00:00:00",
          "2022-05-01T00:00:00",
          "2022-05-01T00:00:00",
          "2022-05-01T00:00:00"
         ],
         "x0": " ",
         "xaxis": "x",
         "y": [
          0,
          0,
          0,
          0,
          0,
          0,
          0,
          0,
          0,
          0,
          0,
          0,
          0,
          0,
          0,
          0,
          0,
          0,
          0,
          0,
          0,
          0,
          0,
          0,
          0,
          0,
          0,
          0,
          0,
          0,
          0,
          0,
          0,
          0,
          0,
          0,
          0,
          0,
          0,
          0,
          0,
          0,
          0,
          0,
          0,
          0,
          0,
          0,
          0,
          0,
          0,
          0,
          0,
          0,
          0,
          0,
          0,
          0,
          0,
          0,
          0,
          0,
          0,
          0,
          0,
          0,
          0,
          0,
          0
         ],
         "y0": " ",
         "yaxis": "y"
        },
        {
         "alignmentgroup": "True",
         "hovertemplate": "class_desc=CUSTO<br>tarifa_posto=NA<br>referencia=%{x}<br>quantidade=%{y}<extra></extra>",
         "legendgroup": "CUSTO",
         "marker": {
          "color": "#0a4c6a"
         },
         "name": "CUSTO",
         "notched": false,
         "offsetgroup": "CUSTO",
         "orientation": "v",
         "showlegend": true,
         "type": "box",
         "x": [
          "2022-03-01T00:00:00",
          "2022-03-01T00:00:00",
          "2022-04-01T00:00:00",
          "2022-04-01T00:00:00",
          "2022-04-01T00:00:00",
          "2022-05-01T00:00:00"
         ],
         "x0": " ",
         "xaxis": "x",
         "y": [
          0,
          0,
          0,
          0,
          0,
          0
         ],
         "y0": " ",
         "yaxis": "y"
        },
        {
         "alignmentgroup": "True",
         "hovertemplate": "class_desc=DIF.<br>tarifa_posto=NA<br>referencia=%{x}<br>quantidade=%{y}<extra></extra>",
         "legendgroup": "DIF.",
         "marker": {
          "color": "#55b748"
         },
         "name": "DIF.",
         "notched": false,
         "offsetgroup": "DIF.",
         "orientation": "v",
         "showlegend": true,
         "type": "box",
         "x": [
          "2022-03-01T00:00:00",
          "2022-03-01T00:00:00",
          "2022-04-01T00:00:00",
          "2022-04-01T00:00:00"
         ],
         "x0": " ",
         "xaxis": "x",
         "y": [
          0,
          0,
          0,
          0
         ],
         "y0": " ",
         "yaxis": "y"
        },
        {
         "alignmentgroup": "True",
         "hovertemplate": "class_desc=COMPENSACAO<br>tarifa_posto=NA<br>referencia=%{x}<br>quantidade=%{y}<extra></extra>",
         "legendgroup": "COMPENSACAO",
         "marker": {
          "color": "#1696d2"
         },
         "name": "COMPENSACAO",
         "notched": false,
         "offsetgroup": "COMPENSACAO",
         "orientation": "v",
         "showlegend": true,
         "type": "box",
         "x": [
          "2022-03-01T00:00:00",
          "2022-04-01T00:00:00",
          "2022-04-01T00:00:00",
          "2022-04-01T00:00:00",
          "2022-04-01T00:00:00",
          "2022-04-01T00:00:00",
          "2022-04-01T00:00:00"
         ],
         "x0": " ",
         "xaxis": "x",
         "y": [
          0,
          0,
          0,
          0,
          0,
          0,
          0
         ],
         "y0": " ",
         "yaxis": "y"
        },
        {
         "alignmentgroup": "True",
         "hovertemplate": "class_desc=DEV.<br>tarifa_posto=NA<br>referencia=%{x}<br>quantidade=%{y}<extra></extra>",
         "legendgroup": "DEV.",
         "marker": {
          "color": "#d2d2d2"
         },
         "name": "DEV.",
         "notched": false,
         "offsetgroup": "DEV.",
         "orientation": "v",
         "showlegend": true,
         "type": "box",
         "x": [
          "2022-04-01T00:00:00",
          "2022-04-01T00:00:00",
          "2022-04-01T00:00:00"
         ],
         "x0": " ",
         "xaxis": "x",
         "y": [
          0,
          0,
          0
         ],
         "y0": " ",
         "yaxis": "y"
        },
        {
         "alignmentgroup": "True",
         "hovertemplate": "class_desc=ATUALIZAÇÃO<br>tarifa_posto=NA<br>referencia=%{x}<br>quantidade=%{y}<extra></extra>",
         "legendgroup": "ATUALIZAÇÃO",
         "marker": {
          "color": "#ec008b"
         },
         "name": "ATUALIZAÇÃO",
         "notched": false,
         "offsetgroup": "ATUALIZAÇÃO",
         "orientation": "v",
         "showlegend": true,
         "type": "box",
         "x": [
          "2022-04-01T00:00:00",
          "2022-04-01T00:00:00",
          "2022-04-01T00:00:00",
          "2022-04-01T00:00:00",
          "2022-04-01T00:00:00",
          "2022-04-01T00:00:00",
          "2022-04-01T00:00:00",
          "2022-04-01T00:00:00",
          "2022-04-01T00:00:00",
          "2022-04-01T00:00:00",
          "2022-04-01T00:00:00",
          "2022-04-01T00:00:00",
          "2022-04-01T00:00:00",
          "2022-04-01T00:00:00",
          "2022-04-01T00:00:00",
          "2022-04-01T00:00:00",
          "2022-04-01T00:00:00",
          "2022-04-01T00:00:00",
          "2022-04-01T00:00:00",
          "2022-04-01T00:00:00",
          "2022-04-01T00:00:00",
          "2022-04-01T00:00:00"
         ],
         "x0": " ",
         "xaxis": "x",
         "y": [
          0,
          0,
          0,
          0,
          0,
          0,
          0,
          0,
          0,
          0,
          0,
          0,
          0,
          0,
          0,
          0,
          0,
          0,
          0,
          0,
          0,
          0
         ],
         "y0": " ",
         "yaxis": "y"
        },
        {
         "alignmentgroup": "True",
         "hovertemplate": "class_desc=COMP.<br>tarifa_posto=NA<br>referencia=%{x}<br>quantidade=%{y}<extra></extra>",
         "legendgroup": "COMP.",
         "marker": {
          "color": "#fdbf11"
         },
         "name": "COMP.",
         "notched": false,
         "offsetgroup": "COMP.",
         "orientation": "v",
         "showlegend": true,
         "type": "box",
         "x": [
          "2022-04-01T00:00:00",
          "2022-04-01T00:00:00"
         ],
         "x0": " ",
         "xaxis": "x",
         "y": [
          0,
          0
         ],
         "y0": " ",
         "yaxis": "y"
        },
        {
         "alignmentgroup": "True",
         "hovertemplate": "class_desc=DEMANDA<br>tarifa_posto=FPONTA<br>referencia=%{x}<br>quantidade=%{y}<extra></extra>",
         "legendgroup": "DEMANDA",
         "marker": {
          "color": "#332d2f"
         },
         "name": "DEMANDA",
         "notched": false,
         "offsetgroup": "DEMANDA",
         "orientation": "v",
         "showlegend": true,
         "type": "box",
         "x": [
          "2022-02-01T00:00:00",
          "2022-02-01T00:00:00",
          "2022-04-01T00:00:00",
          "2022-04-01T00:00:00",
          "2022-03-01T00:00:00",
          "2022-03-01T00:00:00",
          "2022-05-01T00:00:00",
          "2022-05-01T00:00:00",
          "2022-01-01T00:00:00",
          "2022-01-01T00:00:00"
         ],
         "x0": " ",
         "xaxis": "x2",
         "y": [
          3488.1,
          11.9,
          3484.34,
          15.66,
          3479.58,
          20.42,
          3464.9,
          35.1,
          3494.04,
          20.46
         ],
         "y0": " ",
         "yaxis": "y2"
        }
       ],
       "layout": {
        "annotations": [
         {
          "font": {},
          "showarrow": false,
          "text": "tarifa_posto=NA",
          "x": 0.15999999999999998,
          "xanchor": "center",
          "xref": "paper",
          "y": 1,
          "yanchor": "bottom",
          "yref": "paper"
         },
         {
          "font": {},
          "showarrow": false,
          "text": "tarifa_posto=FPONTA",
          "x": 0.49999999999999994,
          "xanchor": "center",
          "xref": "paper",
          "y": 1,
          "yanchor": "bottom",
          "yref": "paper"
         },
         {
          "font": {},
          "showarrow": false,
          "text": "tarifa_posto=PONTA",
          "x": 0.8399999999999999,
          "xanchor": "center",
          "xref": "paper",
          "y": 1,
          "yanchor": "bottom",
          "yref": "paper"
         }
        ],
        "boxmode": "group",
        "hoverlabel": {
         "font": {
          "family": "Lato-Regular",
          "size": 14
         }
        },
        "legend": {
         "font": {
          "color": "#000000",
          "family": "Lato-Regular",
          "size": 13
         },
         "title": {
          "font": {
           "color": "#000000",
           "family": "Lato-Bold",
           "size": 14
          },
          "text": "class_desc"
         },
         "tracegroupgap": 0
        },
        "template": {
         "data": {
          "bar": [
           {
            "error_x": {
             "color": "#2a3f5f"
            },
            "error_y": {
             "color": "#2a3f5f"
            },
            "marker": {
             "line": {
              "color": "#E5ECF6",
              "width": 0.5
             },
             "pattern": {
              "fillmode": "overlay",
              "size": 10,
              "solidity": 0.2
             }
            },
            "type": "bar"
           }
          ],
          "barpolar": [
           {
            "marker": {
             "line": {
              "color": "#E5ECF6",
              "width": 0.5
             },
             "pattern": {
              "fillmode": "overlay",
              "size": 10,
              "solidity": 0.2
             }
            },
            "type": "barpolar"
           }
          ],
          "carpet": [
           {
            "aaxis": {
             "endlinecolor": "#2a3f5f",
             "gridcolor": "white",
             "linecolor": "white",
             "minorgridcolor": "white",
             "startlinecolor": "#2a3f5f"
            },
            "baxis": {
             "endlinecolor": "#2a3f5f",
             "gridcolor": "white",
             "linecolor": "white",
             "minorgridcolor": "white",
             "startlinecolor": "#2a3f5f"
            },
            "type": "carpet"
           }
          ],
          "choropleth": [
           {
            "colorbar": {
             "outlinewidth": 0,
             "ticks": ""
            },
            "type": "choropleth"
           }
          ],
          "contour": [
           {
            "colorbar": {
             "outlinewidth": 0,
             "ticks": ""
            },
            "colorscale": [
             [
              0,
              "#0d0887"
             ],
             [
              0.1111111111111111,
              "#46039f"
             ],
             [
              0.2222222222222222,
              "#7201a8"
             ],
             [
              0.3333333333333333,
              "#9c179e"
             ],
             [
              0.4444444444444444,
              "#bd3786"
             ],
             [
              0.5555555555555556,
              "#d8576b"
             ],
             [
              0.6666666666666666,
              "#ed7953"
             ],
             [
              0.7777777777777778,
              "#fb9f3a"
             ],
             [
              0.8888888888888888,
              "#fdca26"
             ],
             [
              1,
              "#f0f921"
             ]
            ],
            "type": "contour"
           }
          ],
          "contourcarpet": [
           {
            "colorbar": {
             "outlinewidth": 0,
             "ticks": ""
            },
            "type": "contourcarpet"
           }
          ],
          "heatmap": [
           {
            "colorbar": {
             "outlinewidth": 0,
             "ticks": ""
            },
            "colorscale": [
             [
              0,
              "#0d0887"
             ],
             [
              0.1111111111111111,
              "#46039f"
             ],
             [
              0.2222222222222222,
              "#7201a8"
             ],
             [
              0.3333333333333333,
              "#9c179e"
             ],
             [
              0.4444444444444444,
              "#bd3786"
             ],
             [
              0.5555555555555556,
              "#d8576b"
             ],
             [
              0.6666666666666666,
              "#ed7953"
             ],
             [
              0.7777777777777778,
              "#fb9f3a"
             ],
             [
              0.8888888888888888,
              "#fdca26"
             ],
             [
              1,
              "#f0f921"
             ]
            ],
            "type": "heatmap"
           }
          ],
          "heatmapgl": [
           {
            "colorbar": {
             "outlinewidth": 0,
             "ticks": ""
            },
            "colorscale": [
             [
              0,
              "#0d0887"
             ],
             [
              0.1111111111111111,
              "#46039f"
             ],
             [
              0.2222222222222222,
              "#7201a8"
             ],
             [
              0.3333333333333333,
              "#9c179e"
             ],
             [
              0.4444444444444444,
              "#bd3786"
             ],
             [
              0.5555555555555556,
              "#d8576b"
             ],
             [
              0.6666666666666666,
              "#ed7953"
             ],
             [
              0.7777777777777778,
              "#fb9f3a"
             ],
             [
              0.8888888888888888,
              "#fdca26"
             ],
             [
              1,
              "#f0f921"
             ]
            ],
            "type": "heatmapgl"
           }
          ],
          "histogram": [
           {
            "marker": {
             "pattern": {
              "fillmode": "overlay",
              "size": 10,
              "solidity": 0.2
             }
            },
            "type": "histogram"
           }
          ],
          "histogram2d": [
           {
            "colorbar": {
             "outlinewidth": 0,
             "ticks": ""
            },
            "colorscale": [
             [
              0,
              "#0d0887"
             ],
             [
              0.1111111111111111,
              "#46039f"
             ],
             [
              0.2222222222222222,
              "#7201a8"
             ],
             [
              0.3333333333333333,
              "#9c179e"
             ],
             [
              0.4444444444444444,
              "#bd3786"
             ],
             [
              0.5555555555555556,
              "#d8576b"
             ],
             [
              0.6666666666666666,
              "#ed7953"
             ],
             [
              0.7777777777777778,
              "#fb9f3a"
             ],
             [
              0.8888888888888888,
              "#fdca26"
             ],
             [
              1,
              "#f0f921"
             ]
            ],
            "type": "histogram2d"
           }
          ],
          "histogram2dcontour": [
           {
            "colorbar": {
             "outlinewidth": 0,
             "ticks": ""
            },
            "colorscale": [
             [
              0,
              "#0d0887"
             ],
             [
              0.1111111111111111,
              "#46039f"
             ],
             [
              0.2222222222222222,
              "#7201a8"
             ],
             [
              0.3333333333333333,
              "#9c179e"
             ],
             [
              0.4444444444444444,
              "#bd3786"
             ],
             [
              0.5555555555555556,
              "#d8576b"
             ],
             [
              0.6666666666666666,
              "#ed7953"
             ],
             [
              0.7777777777777778,
              "#fb9f3a"
             ],
             [
              0.8888888888888888,
              "#fdca26"
             ],
             [
              1,
              "#f0f921"
             ]
            ],
            "type": "histogram2dcontour"
           }
          ],
          "mesh3d": [
           {
            "colorbar": {
             "outlinewidth": 0,
             "ticks": ""
            },
            "type": "mesh3d"
           }
          ],
          "parcoords": [
           {
            "line": {
             "colorbar": {
              "outlinewidth": 0,
              "ticks": ""
             }
            },
            "type": "parcoords"
           }
          ],
          "pie": [
           {
            "automargin": true,
            "type": "pie"
           }
          ],
          "scatter": [
           {
            "marker": {
             "colorbar": {
              "outlinewidth": 0,
              "ticks": ""
             }
            },
            "type": "scatter"
           }
          ],
          "scatter3d": [
           {
            "line": {
             "colorbar": {
              "outlinewidth": 0,
              "ticks": ""
             }
            },
            "marker": {
             "colorbar": {
              "outlinewidth": 0,
              "ticks": ""
             }
            },
            "type": "scatter3d"
           }
          ],
          "scattercarpet": [
           {
            "marker": {
             "colorbar": {
              "outlinewidth": 0,
              "ticks": ""
             }
            },
            "type": "scattercarpet"
           }
          ],
          "scattergeo": [
           {
            "marker": {
             "colorbar": {
              "outlinewidth": 0,
              "ticks": ""
             }
            },
            "type": "scattergeo"
           }
          ],
          "scattergl": [
           {
            "marker": {
             "colorbar": {
              "outlinewidth": 0,
              "ticks": ""
             }
            },
            "type": "scattergl"
           }
          ],
          "scattermapbox": [
           {
            "marker": {
             "colorbar": {
              "outlinewidth": 0,
              "ticks": ""
             }
            },
            "type": "scattermapbox"
           }
          ],
          "scatterpolar": [
           {
            "marker": {
             "colorbar": {
              "outlinewidth": 0,
              "ticks": ""
             }
            },
            "type": "scatterpolar"
           }
          ],
          "scatterpolargl": [
           {
            "marker": {
             "colorbar": {
              "outlinewidth": 0,
              "ticks": ""
             }
            },
            "type": "scatterpolargl"
           }
          ],
          "scatterternary": [
           {
            "marker": {
             "colorbar": {
              "outlinewidth": 0,
              "ticks": ""
             }
            },
            "type": "scatterternary"
           }
          ],
          "surface": [
           {
            "colorbar": {
             "outlinewidth": 0,
             "ticks": ""
            },
            "colorscale": [
             [
              0,
              "#0d0887"
             ],
             [
              0.1111111111111111,
              "#46039f"
             ],
             [
              0.2222222222222222,
              "#7201a8"
             ],
             [
              0.3333333333333333,
              "#9c179e"
             ],
             [
              0.4444444444444444,
              "#bd3786"
             ],
             [
              0.5555555555555556,
              "#d8576b"
             ],
             [
              0.6666666666666666,
              "#ed7953"
             ],
             [
              0.7777777777777778,
              "#fb9f3a"
             ],
             [
              0.8888888888888888,
              "#fdca26"
             ],
             [
              1,
              "#f0f921"
             ]
            ],
            "type": "surface"
           }
          ],
          "table": [
           {
            "cells": {
             "fill": {
              "color": "#EBF0F8"
             },
             "line": {
              "color": "white"
             }
            },
            "header": {
             "fill": {
              "color": "#C8D4E3"
             },
             "line": {
              "color": "white"
             }
            },
            "type": "table"
           }
          ]
         },
         "layout": {
          "annotationdefaults": {
           "arrowcolor": "#2a3f5f",
           "arrowhead": 0,
           "arrowwidth": 1
          },
          "autotypenumbers": "strict",
          "coloraxis": {
           "colorbar": {
            "outlinewidth": 0,
            "ticks": ""
           }
          },
          "colorscale": {
           "diverging": [
            [
             0,
             "#8e0152"
            ],
            [
             0.1,
             "#c51b7d"
            ],
            [
             0.2,
             "#de77ae"
            ],
            [
             0.3,
             "#f1b6da"
            ],
            [
             0.4,
             "#fde0ef"
            ],
            [
             0.5,
             "#f7f7f7"
            ],
            [
             0.6,
             "#e6f5d0"
            ],
            [
             0.7,
             "#b8e186"
            ],
            [
             0.8,
             "#7fbc41"
            ],
            [
             0.9,
             "#4d9221"
            ],
            [
             1,
             "#276419"
            ]
           ],
           "sequential": [
            [
             0,
             "#0d0887"
            ],
            [
             0.1111111111111111,
             "#46039f"
            ],
            [
             0.2222222222222222,
             "#7201a8"
            ],
            [
             0.3333333333333333,
             "#9c179e"
            ],
            [
             0.4444444444444444,
             "#bd3786"
            ],
            [
             0.5555555555555556,
             "#d8576b"
            ],
            [
             0.6666666666666666,
             "#ed7953"
            ],
            [
             0.7777777777777778,
             "#fb9f3a"
            ],
            [
             0.8888888888888888,
             "#fdca26"
            ],
            [
             1,
             "#f0f921"
            ]
           ],
           "sequentialminus": [
            [
             0,
             "#0d0887"
            ],
            [
             0.1111111111111111,
             "#46039f"
            ],
            [
             0.2222222222222222,
             "#7201a8"
            ],
            [
             0.3333333333333333,
             "#9c179e"
            ],
            [
             0.4444444444444444,
             "#bd3786"
            ],
            [
             0.5555555555555556,
             "#d8576b"
            ],
            [
             0.6666666666666666,
             "#ed7953"
            ],
            [
             0.7777777777777778,
             "#fb9f3a"
            ],
            [
             0.8888888888888888,
             "#fdca26"
            ],
            [
             1,
             "#f0f921"
            ]
           ]
          },
          "colorway": [
           "#636efa",
           "#EF553B",
           "#00cc96",
           "#ab63fa",
           "#FFA15A",
           "#19d3f3",
           "#FF6692",
           "#B6E880",
           "#FF97FF",
           "#FECB52"
          ],
          "font": {
           "color": "#2a3f5f"
          },
          "geo": {
           "bgcolor": "white",
           "lakecolor": "white",
           "landcolor": "#E5ECF6",
           "showlakes": true,
           "showland": true,
           "subunitcolor": "white"
          },
          "hoverlabel": {
           "align": "left"
          },
          "hovermode": "closest",
          "mapbox": {
           "style": "light"
          },
          "paper_bgcolor": "white",
          "plot_bgcolor": "#E5ECF6",
          "polar": {
           "angularaxis": {
            "gridcolor": "white",
            "linecolor": "white",
            "ticks": ""
           },
           "bgcolor": "#E5ECF6",
           "radialaxis": {
            "gridcolor": "white",
            "linecolor": "white",
            "ticks": ""
           }
          },
          "scene": {
           "xaxis": {
            "backgroundcolor": "#E5ECF6",
            "gridcolor": "white",
            "gridwidth": 2,
            "linecolor": "white",
            "showbackground": true,
            "ticks": "",
            "zerolinecolor": "white"
           },
           "yaxis": {
            "backgroundcolor": "#E5ECF6",
            "gridcolor": "white",
            "gridwidth": 2,
            "linecolor": "white",
            "showbackground": true,
            "ticks": "",
            "zerolinecolor": "white"
           },
           "zaxis": {
            "backgroundcolor": "#E5ECF6",
            "gridcolor": "white",
            "gridwidth": 2,
            "linecolor": "white",
            "showbackground": true,
            "ticks": "",
            "zerolinecolor": "white"
           }
          },
          "shapedefaults": {
           "line": {
            "color": "#2a3f5f"
           }
          },
          "ternary": {
           "aaxis": {
            "gridcolor": "white",
            "linecolor": "white",
            "ticks": ""
           },
           "baxis": {
            "gridcolor": "white",
            "linecolor": "white",
            "ticks": ""
           },
           "bgcolor": "#E5ECF6",
           "caxis": {
            "gridcolor": "white",
            "linecolor": "white",
            "ticks": ""
           }
          },
          "title": {
           "x": 0.05
          },
          "xaxis": {
           "automargin": true,
           "gridcolor": "white",
           "linecolor": "white",
           "ticks": "",
           "title": {
            "standoff": 15
           },
           "zerolinecolor": "white",
           "zerolinewidth": 2
          },
          "yaxis": {
           "automargin": true,
           "gridcolor": "white",
           "linecolor": "white",
           "ticks": "",
           "title": {
            "standoff": 15
           },
           "zerolinecolor": "white",
           "zerolinewidth": 2
          }
         }
        },
        "title": {
         "font": {
          "color": "#000000",
          "family": "Lato-Bold",
          "size": 18
         },
         "text": "TELEFONICA BRASIL SA<br><sup>Histórico das medições</sup>"
        },
        "width": 1000,
        "xaxis": {
         "anchor": "y",
         "domain": [
          0,
          0.31999999999999995
         ],
         "tickfont": {
          "color": "#000000",
          "family": "Lato-Regular",
          "size": 12
         },
         "title": {
          "font": {
           "color": "#000000",
           "family": "Lato-Italic",
           "size": 14
          },
          "text": "referencia"
         }
        },
        "xaxis2": {
         "anchor": "y2",
         "domain": [
          0.33999999999999997,
          0.6599999999999999
         ],
         "matches": "x",
         "tickfont": {
          "color": "#000000",
          "family": "Lato-Regular",
          "size": 12
         },
         "title": {
          "font": {
           "color": "#000000",
           "family": "Lato-Italic",
           "size": 14
          },
          "text": "referencia"
         }
        },
        "xaxis3": {
         "anchor": "y3",
         "domain": [
          0.6799999999999999,
          0.9999999999999999
         ],
         "matches": "x",
         "tickfont": {
          "color": "#000000",
          "family": "Lato-Regular",
          "size": 12
         },
         "title": {
          "font": {
           "color": "#000000",
           "family": "Lato-Italic",
           "size": 14
          },
          "text": "referencia"
         }
        },
        "yaxis": {
         "anchor": "x",
         "domain": [
          0,
          1
         ],
         "tickfont": {
          "color": "#000000",
          "family": "Lato-Regular",
          "size": 12
         },
         "title": {
          "font": {
           "color": "#000000",
           "family": "Lato-Italic",
           "size": 14
          },
          "text": "quantidade"
         }
        },
        "yaxis2": {
         "anchor": "x2",
         "domain": [
          0,
          1
         ],
         "matches": "y",
         "showticklabels": false
        },
        "yaxis3": {
         "anchor": "x3",
         "domain": [
          0,
          1
         ],
         "matches": "y",
         "showticklabels": false
        }
       }
      }
     },
     "metadata": {},
     "output_type": "display_data"
    }
   ],
   "source": [
    "px.box(\n",
    "\ttarifas_cliente,\n",
    "\tx='referencia',\n",
    "\ty='quantidade',\n",
    "\tcolor='class_desc',\n",
    "\tfacet_col='tarifa_posto',\n",
    "\ttitle=f'{cliente}<br><sup>Histórico das medições</sup>',\n",
    "\tcolor_discrete_sequence=CATEGORICAL_GROUPS[7],\n",
    "\twidth=1000\n",
    ").update_layout(**LAYOUT_SPECS\n",
    ").update_xaxes(**LAYOUT_SPECS['xaxis'])"
   ]
  },
  {
   "cell_type": "code",
   "execution_count": 70,
   "metadata": {},
   "outputs": [
    {
     "data": {
      "application/vnd.plotly.v1+json": {
       "config": {
        "plotlyServerURL": "https://plot.ly"
       },
       "data": [
        {
         "alignmentgroup": "True",
         "hovertemplate": "un=KWH<br>posto=PONTA<br>referencia=%{x}<br>medido=%{y}<extra></extra>",
         "legendgroup": "KWH",
         "marker": {
          "color": "#1696d2"
         },
         "name": "KWH",
         "notched": false,
         "offsetgroup": "KWH",
         "orientation": "v",
         "showlegend": true,
         "type": "box",
         "x": [
          "2022-02-01T00:00:00",
          "2022-02-01T00:00:00",
          "2022-03-01T00:00:00",
          "2022-03-01T00:00:00",
          "2022-03-01T00:00:00",
          "2022-03-01T00:00:00",
          "2022-04-01T00:00:00",
          "2022-04-01T00:00:00",
          "2022-04-01T00:00:00",
          "2022-04-01T00:00:00",
          "2022-04-01T00:00:00",
          "2022-04-01T00:00:00",
          "2022-04-01T00:00:00",
          "2022-04-01T00:00:00",
          "2022-04-01T00:00:00",
          "2022-04-01T00:00:00",
          "2022-04-01T00:00:00",
          "2022-04-01T00:00:00",
          "2022-04-01T00:00:00",
          "2022-04-01T00:00:00",
          "2022-04-01T00:00:00",
          "2022-04-01T00:00:00",
          "2022-04-01T00:00:00",
          "2022-04-01T00:00:00",
          "2022-04-01T00:00:00",
          "2022-04-01T00:00:00",
          "2022-05-01T00:00:00",
          "2022-01-01T00:00:00",
          "2022-05-01T00:00:00",
          "2022-05-01T00:00:00",
          "2022-05-01T00:00:00",
          "2022-05-01T00:00:00",
          "2022-05-01T00:00:00",
          "2022-05-01T00:00:00",
          "2022-05-01T00:00:00"
         ],
         "x0": " ",
         "xaxis": "x",
         "y": [
          1005,
          1000,
          6804.1796,
          3718.8558,
          17377,
          2505,
          55350,
          1749,
          2116,
          2331,
          1840,
          1721,
          3213,
          2086.58,
          2003,
          6389,
          1293,
          1318,
          2178,
          30291,
          18485,
          2131,
          55,
          1140,
          28714,
          2002.44,
          1115,
          1122,
          25846,
          2398,
          3185,
          3185,
          2472,
          1507,
          5576
         ],
         "y0": " ",
         "yaxis": "y"
        },
        {
         "alignmentgroup": "True",
         "hovertemplate": "un=KWH<br>posto=FPONTA<br>referencia=%{x}<br>medido=%{y}<extra></extra>",
         "legendgroup": "KWH",
         "marker": {
          "color": "#1696d2"
         },
         "name": "KWH",
         "notched": false,
         "offsetgroup": "KWH",
         "orientation": "v",
         "showlegend": false,
         "type": "box",
         "x": [
          "2022-03-01T00:00:00",
          "2022-03-01T00:00:00",
          "2022-04-01T00:00:00"
         ],
         "x0": " ",
         "xaxis": "x2",
         "y": [
          50764.8388,
          33011.355,
          16706.45
         ],
         "y0": " ",
         "yaxis": "y2"
        },
        {
         "alignmentgroup": "True",
         "hovertemplate": "un=ERE<br>posto=PONTA<br>referencia=%{x}<br>medido=%{y}<extra></extra>",
         "legendgroup": "ERE",
         "marker": {
          "color": "#d2d2d2"
         },
         "name": "ERE",
         "notched": false,
         "offsetgroup": "ERE",
         "orientation": "v",
         "showlegend": true,
         "type": "box",
         "x": [
          "2022-04-01T00:00:00",
          "2022-04-01T00:00:00"
         ],
         "x0": " ",
         "xaxis": "x",
         "y": [
          1141,
          198.23
         ],
         "y0": " ",
         "yaxis": "y"
        },
        {
         "alignmentgroup": "True",
         "hovertemplate": "un=ERE<br>posto=FPONTA<br>referencia=%{x}<br>medido=%{y}<extra></extra>",
         "legendgroup": "ERE",
         "marker": {
          "color": "#d2d2d2"
         },
         "name": "ERE",
         "notched": false,
         "offsetgroup": "ERE",
         "orientation": "v",
         "showlegend": false,
         "type": "box",
         "x": [
          "2022-03-01T00:00:00",
          "2022-03-01T00:00:00",
          "2022-03-01T00:00:00",
          "2022-04-01T00:00:00",
          "2022-05-01T00:00:00",
          "2022-02-01T00:00:00"
         ],
         "x0": " ",
         "xaxis": "x2",
         "y": [
          0.21,
          113.7832,
          144.033,
          1617.98,
          0.29,
          3.2
         ],
         "y0": " ",
         "yaxis": "y2"
        },
        {
         "alignmentgroup": "True",
         "hovertemplate": "un=DRE<br>posto=PONTA<br>referencia=%{x}<br>medido=%{y}<extra></extra>",
         "legendgroup": "DRE",
         "marker": {
          "color": "#ec008b"
         },
         "name": "DRE",
         "notched": false,
         "offsetgroup": "DRE",
         "orientation": "v",
         "showlegend": true,
         "type": "box",
         "x": [
          "2022-03-01T00:00:00",
          "2022-03-01T00:00:00",
          "2022-03-01T00:00:00",
          "2022-04-01T00:00:00",
          "2022-05-01T00:00:00",
          "2022-04-01T00:00:00"
         ],
         "x0": " ",
         "xaxis": "x",
         "y": [
          32.6,
          125.9192,
          70.5651,
          41.18,
          32.43,
          33.87
         ],
         "y0": " ",
         "yaxis": "y"
        },
        {
         "alignmentgroup": "True",
         "hovertemplate": "un=DRE<br>posto=FPONTA<br>referencia=%{x}<br>medido=%{y}<extra></extra>",
         "legendgroup": "DRE",
         "marker": {
          "color": "#ec008b"
         },
         "name": "DRE",
         "notched": false,
         "offsetgroup": "DRE",
         "orientation": "v",
         "showlegend": false,
         "type": "box",
         "x": [
          "2022-03-01T00:00:00",
          "2022-03-01T00:00:00",
          "2022-03-01T00:00:00",
          "2022-04-01T00:00:00",
          "2022-05-01T00:00:00",
          "2022-03-01T00:00:00"
         ],
         "x0": " ",
         "xaxis": "x2",
         "y": [
          35.51,
          128.8056,
          73.431,
          42.64,
          34.65,
          35.79
         ],
         "y0": " ",
         "yaxis": "y2"
        },
        {
         "alignmentgroup": "True",
         "hovertemplate": "un=INJ<br>posto=PONTA<br>referencia=%{x}<br>medido=%{y}<extra></extra>",
         "legendgroup": "INJ",
         "marker": {
          "color": "#fdbf11"
         },
         "name": "INJ",
         "notched": false,
         "offsetgroup": "INJ",
         "orientation": "v",
         "showlegend": true,
         "type": "box",
         "x": [
          "2022-03-01T00:00:00",
          "2022-04-01T00:00:00",
          "2022-04-01T00:00:00",
          "2022-05-01T00:00:00"
         ],
         "x0": " ",
         "xaxis": "x",
         "y": [
          0,
          0,
          0,
          0
         ],
         "y0": " ",
         "yaxis": "y"
        },
        {
         "alignmentgroup": "True",
         "hovertemplate": "un=INJ<br>posto=FPONTA<br>referencia=%{x}<br>medido=%{y}<extra></extra>",
         "legendgroup": "INJ",
         "marker": {
          "color": "#fdbf11"
         },
         "name": "INJ",
         "notched": false,
         "offsetgroup": "INJ",
         "orientation": "v",
         "showlegend": false,
         "type": "box",
         "x": [
          "2022-03-01T00:00:00",
          "2022-03-01T00:00:00",
          "2022-04-01T00:00:00",
          "2022-05-01T00:00:00",
          "2022-05-01T00:00:00"
         ],
         "x0": " ",
         "xaxis": "x2",
         "y": [
          955177,
          0,
          0,
          0,
          253462
         ],
         "y0": " ",
         "yaxis": "y2"
        },
        {
         "alignmentgroup": "True",
         "hovertemplate": "un=KW<br>posto=PONTA<br>referencia=%{x}<br>medido=%{y}<extra></extra>",
         "legendgroup": "KW",
         "marker": {
          "color": "#332d2f"
         },
         "name": "KW",
         "notched": false,
         "offsetgroup": "KW",
         "orientation": "v",
         "showlegend": true,
         "type": "box",
         "x": [
          "2022-03-01T00:00:00",
          "2022-03-01T00:00:00",
          "2022-04-01T00:00:00",
          "2022-05-01T00:00:00"
         ],
         "x0": " ",
         "xaxis": "x",
         "y": [
          132.3808,
          72.078,
          39.95,
          37.56
         ],
         "y0": " ",
         "yaxis": "y"
        },
        {
         "alignmentgroup": "True",
         "hovertemplate": "un=KW<br>posto=FPONTA<br>referencia=%{x}<br>medido=%{y}<extra></extra>",
         "legendgroup": "KW",
         "marker": {
          "color": "#332d2f"
         },
         "name": "KW",
         "notched": false,
         "offsetgroup": "KW",
         "orientation": "v",
         "showlegend": false,
         "type": "box",
         "x": [
          "2022-03-01T00:00:00",
          "2022-03-01T00:00:00",
          "2022-05-01T00:00:00",
          "2022-05-01T00:00:00",
          "2022-05-01T00:00:00"
         ],
         "x0": " ",
         "xaxis": "x2",
         "y": [
          0,
          135.5296,
          38.87,
          39.69,
          0
         ],
         "y0": " ",
         "yaxis": "y2"
        },
        {
         "alignmentgroup": "True",
         "hovertemplate": "un=KVA<br>posto=PONTA<br>referencia=%{x}<br>medido=%{y}<extra></extra>",
         "legendgroup": "KVA",
         "marker": {
          "color": "#0a4c6a"
         },
         "name": "KVA",
         "notched": false,
         "offsetgroup": "KVA",
         "orientation": "v",
         "showlegend": true,
         "type": "box",
         "x": [
          "2022-04-01T00:00:00",
          "2022-05-01T00:00:00"
         ],
         "x0": " ",
         "xaxis": "x",
         "y": [
          13776,
          779
         ],
         "y0": " ",
         "yaxis": "y"
        }
       ],
       "layout": {
        "annotations": [
         {
          "font": {},
          "showarrow": false,
          "text": "posto=PONTA",
          "x": 0.245,
          "xanchor": "center",
          "xref": "paper",
          "y": 1,
          "yanchor": "bottom",
          "yref": "paper"
         },
         {
          "font": {},
          "showarrow": false,
          "text": "posto=FPONTA",
          "x": 0.755,
          "xanchor": "center",
          "xref": "paper",
          "y": 1,
          "yanchor": "bottom",
          "yref": "paper"
         }
        ],
        "boxmode": "group",
        "hoverlabel": {
         "font": {
          "family": "Lato-Regular",
          "size": 14
         }
        },
        "legend": {
         "font": {
          "color": "#000000",
          "family": "Lato-Regular",
          "size": 13
         },
         "title": {
          "font": {
           "color": "#000000",
           "family": "Lato-Bold",
           "size": 14
          },
          "text": "un"
         },
         "tracegroupgap": 0
        },
        "template": {
         "data": {
          "bar": [
           {
            "error_x": {
             "color": "#2a3f5f"
            },
            "error_y": {
             "color": "#2a3f5f"
            },
            "marker": {
             "line": {
              "color": "#E5ECF6",
              "width": 0.5
             },
             "pattern": {
              "fillmode": "overlay",
              "size": 10,
              "solidity": 0.2
             }
            },
            "type": "bar"
           }
          ],
          "barpolar": [
           {
            "marker": {
             "line": {
              "color": "#E5ECF6",
              "width": 0.5
             },
             "pattern": {
              "fillmode": "overlay",
              "size": 10,
              "solidity": 0.2
             }
            },
            "type": "barpolar"
           }
          ],
          "carpet": [
           {
            "aaxis": {
             "endlinecolor": "#2a3f5f",
             "gridcolor": "white",
             "linecolor": "white",
             "minorgridcolor": "white",
             "startlinecolor": "#2a3f5f"
            },
            "baxis": {
             "endlinecolor": "#2a3f5f",
             "gridcolor": "white",
             "linecolor": "white",
             "minorgridcolor": "white",
             "startlinecolor": "#2a3f5f"
            },
            "type": "carpet"
           }
          ],
          "choropleth": [
           {
            "colorbar": {
             "outlinewidth": 0,
             "ticks": ""
            },
            "type": "choropleth"
           }
          ],
          "contour": [
           {
            "colorbar": {
             "outlinewidth": 0,
             "ticks": ""
            },
            "colorscale": [
             [
              0,
              "#0d0887"
             ],
             [
              0.1111111111111111,
              "#46039f"
             ],
             [
              0.2222222222222222,
              "#7201a8"
             ],
             [
              0.3333333333333333,
              "#9c179e"
             ],
             [
              0.4444444444444444,
              "#bd3786"
             ],
             [
              0.5555555555555556,
              "#d8576b"
             ],
             [
              0.6666666666666666,
              "#ed7953"
             ],
             [
              0.7777777777777778,
              "#fb9f3a"
             ],
             [
              0.8888888888888888,
              "#fdca26"
             ],
             [
              1,
              "#f0f921"
             ]
            ],
            "type": "contour"
           }
          ],
          "contourcarpet": [
           {
            "colorbar": {
             "outlinewidth": 0,
             "ticks": ""
            },
            "type": "contourcarpet"
           }
          ],
          "heatmap": [
           {
            "colorbar": {
             "outlinewidth": 0,
             "ticks": ""
            },
            "colorscale": [
             [
              0,
              "#0d0887"
             ],
             [
              0.1111111111111111,
              "#46039f"
             ],
             [
              0.2222222222222222,
              "#7201a8"
             ],
             [
              0.3333333333333333,
              "#9c179e"
             ],
             [
              0.4444444444444444,
              "#bd3786"
             ],
             [
              0.5555555555555556,
              "#d8576b"
             ],
             [
              0.6666666666666666,
              "#ed7953"
             ],
             [
              0.7777777777777778,
              "#fb9f3a"
             ],
             [
              0.8888888888888888,
              "#fdca26"
             ],
             [
              1,
              "#f0f921"
             ]
            ],
            "type": "heatmap"
           }
          ],
          "heatmapgl": [
           {
            "colorbar": {
             "outlinewidth": 0,
             "ticks": ""
            },
            "colorscale": [
             [
              0,
              "#0d0887"
             ],
             [
              0.1111111111111111,
              "#46039f"
             ],
             [
              0.2222222222222222,
              "#7201a8"
             ],
             [
              0.3333333333333333,
              "#9c179e"
             ],
             [
              0.4444444444444444,
              "#bd3786"
             ],
             [
              0.5555555555555556,
              "#d8576b"
             ],
             [
              0.6666666666666666,
              "#ed7953"
             ],
             [
              0.7777777777777778,
              "#fb9f3a"
             ],
             [
              0.8888888888888888,
              "#fdca26"
             ],
             [
              1,
              "#f0f921"
             ]
            ],
            "type": "heatmapgl"
           }
          ],
          "histogram": [
           {
            "marker": {
             "pattern": {
              "fillmode": "overlay",
              "size": 10,
              "solidity": 0.2
             }
            },
            "type": "histogram"
           }
          ],
          "histogram2d": [
           {
            "colorbar": {
             "outlinewidth": 0,
             "ticks": ""
            },
            "colorscale": [
             [
              0,
              "#0d0887"
             ],
             [
              0.1111111111111111,
              "#46039f"
             ],
             [
              0.2222222222222222,
              "#7201a8"
             ],
             [
              0.3333333333333333,
              "#9c179e"
             ],
             [
              0.4444444444444444,
              "#bd3786"
             ],
             [
              0.5555555555555556,
              "#d8576b"
             ],
             [
              0.6666666666666666,
              "#ed7953"
             ],
             [
              0.7777777777777778,
              "#fb9f3a"
             ],
             [
              0.8888888888888888,
              "#fdca26"
             ],
             [
              1,
              "#f0f921"
             ]
            ],
            "type": "histogram2d"
           }
          ],
          "histogram2dcontour": [
           {
            "colorbar": {
             "outlinewidth": 0,
             "ticks": ""
            },
            "colorscale": [
             [
              0,
              "#0d0887"
             ],
             [
              0.1111111111111111,
              "#46039f"
             ],
             [
              0.2222222222222222,
              "#7201a8"
             ],
             [
              0.3333333333333333,
              "#9c179e"
             ],
             [
              0.4444444444444444,
              "#bd3786"
             ],
             [
              0.5555555555555556,
              "#d8576b"
             ],
             [
              0.6666666666666666,
              "#ed7953"
             ],
             [
              0.7777777777777778,
              "#fb9f3a"
             ],
             [
              0.8888888888888888,
              "#fdca26"
             ],
             [
              1,
              "#f0f921"
             ]
            ],
            "type": "histogram2dcontour"
           }
          ],
          "mesh3d": [
           {
            "colorbar": {
             "outlinewidth": 0,
             "ticks": ""
            },
            "type": "mesh3d"
           }
          ],
          "parcoords": [
           {
            "line": {
             "colorbar": {
              "outlinewidth": 0,
              "ticks": ""
             }
            },
            "type": "parcoords"
           }
          ],
          "pie": [
           {
            "automargin": true,
            "type": "pie"
           }
          ],
          "scatter": [
           {
            "marker": {
             "colorbar": {
              "outlinewidth": 0,
              "ticks": ""
             }
            },
            "type": "scatter"
           }
          ],
          "scatter3d": [
           {
            "line": {
             "colorbar": {
              "outlinewidth": 0,
              "ticks": ""
             }
            },
            "marker": {
             "colorbar": {
              "outlinewidth": 0,
              "ticks": ""
             }
            },
            "type": "scatter3d"
           }
          ],
          "scattercarpet": [
           {
            "marker": {
             "colorbar": {
              "outlinewidth": 0,
              "ticks": ""
             }
            },
            "type": "scattercarpet"
           }
          ],
          "scattergeo": [
           {
            "marker": {
             "colorbar": {
              "outlinewidth": 0,
              "ticks": ""
             }
            },
            "type": "scattergeo"
           }
          ],
          "scattergl": [
           {
            "marker": {
             "colorbar": {
              "outlinewidth": 0,
              "ticks": ""
             }
            },
            "type": "scattergl"
           }
          ],
          "scattermapbox": [
           {
            "marker": {
             "colorbar": {
              "outlinewidth": 0,
              "ticks": ""
             }
            },
            "type": "scattermapbox"
           }
          ],
          "scatterpolar": [
           {
            "marker": {
             "colorbar": {
              "outlinewidth": 0,
              "ticks": ""
             }
            },
            "type": "scatterpolar"
           }
          ],
          "scatterpolargl": [
           {
            "marker": {
             "colorbar": {
              "outlinewidth": 0,
              "ticks": ""
             }
            },
            "type": "scatterpolargl"
           }
          ],
          "scatterternary": [
           {
            "marker": {
             "colorbar": {
              "outlinewidth": 0,
              "ticks": ""
             }
            },
            "type": "scatterternary"
           }
          ],
          "surface": [
           {
            "colorbar": {
             "outlinewidth": 0,
             "ticks": ""
            },
            "colorscale": [
             [
              0,
              "#0d0887"
             ],
             [
              0.1111111111111111,
              "#46039f"
             ],
             [
              0.2222222222222222,
              "#7201a8"
             ],
             [
              0.3333333333333333,
              "#9c179e"
             ],
             [
              0.4444444444444444,
              "#bd3786"
             ],
             [
              0.5555555555555556,
              "#d8576b"
             ],
             [
              0.6666666666666666,
              "#ed7953"
             ],
             [
              0.7777777777777778,
              "#fb9f3a"
             ],
             [
              0.8888888888888888,
              "#fdca26"
             ],
             [
              1,
              "#f0f921"
             ]
            ],
            "type": "surface"
           }
          ],
          "table": [
           {
            "cells": {
             "fill": {
              "color": "#EBF0F8"
             },
             "line": {
              "color": "white"
             }
            },
            "header": {
             "fill": {
              "color": "#C8D4E3"
             },
             "line": {
              "color": "white"
             }
            },
            "type": "table"
           }
          ]
         },
         "layout": {
          "annotationdefaults": {
           "arrowcolor": "#2a3f5f",
           "arrowhead": 0,
           "arrowwidth": 1
          },
          "autotypenumbers": "strict",
          "coloraxis": {
           "colorbar": {
            "outlinewidth": 0,
            "ticks": ""
           }
          },
          "colorscale": {
           "diverging": [
            [
             0,
             "#8e0152"
            ],
            [
             0.1,
             "#c51b7d"
            ],
            [
             0.2,
             "#de77ae"
            ],
            [
             0.3,
             "#f1b6da"
            ],
            [
             0.4,
             "#fde0ef"
            ],
            [
             0.5,
             "#f7f7f7"
            ],
            [
             0.6,
             "#e6f5d0"
            ],
            [
             0.7,
             "#b8e186"
            ],
            [
             0.8,
             "#7fbc41"
            ],
            [
             0.9,
             "#4d9221"
            ],
            [
             1,
             "#276419"
            ]
           ],
           "sequential": [
            [
             0,
             "#0d0887"
            ],
            [
             0.1111111111111111,
             "#46039f"
            ],
            [
             0.2222222222222222,
             "#7201a8"
            ],
            [
             0.3333333333333333,
             "#9c179e"
            ],
            [
             0.4444444444444444,
             "#bd3786"
            ],
            [
             0.5555555555555556,
             "#d8576b"
            ],
            [
             0.6666666666666666,
             "#ed7953"
            ],
            [
             0.7777777777777778,
             "#fb9f3a"
            ],
            [
             0.8888888888888888,
             "#fdca26"
            ],
            [
             1,
             "#f0f921"
            ]
           ],
           "sequentialminus": [
            [
             0,
             "#0d0887"
            ],
            [
             0.1111111111111111,
             "#46039f"
            ],
            [
             0.2222222222222222,
             "#7201a8"
            ],
            [
             0.3333333333333333,
             "#9c179e"
            ],
            [
             0.4444444444444444,
             "#bd3786"
            ],
            [
             0.5555555555555556,
             "#d8576b"
            ],
            [
             0.6666666666666666,
             "#ed7953"
            ],
            [
             0.7777777777777778,
             "#fb9f3a"
            ],
            [
             0.8888888888888888,
             "#fdca26"
            ],
            [
             1,
             "#f0f921"
            ]
           ]
          },
          "colorway": [
           "#636efa",
           "#EF553B",
           "#00cc96",
           "#ab63fa",
           "#FFA15A",
           "#19d3f3",
           "#FF6692",
           "#B6E880",
           "#FF97FF",
           "#FECB52"
          ],
          "font": {
           "color": "#2a3f5f"
          },
          "geo": {
           "bgcolor": "white",
           "lakecolor": "white",
           "landcolor": "#E5ECF6",
           "showlakes": true,
           "showland": true,
           "subunitcolor": "white"
          },
          "hoverlabel": {
           "align": "left"
          },
          "hovermode": "closest",
          "mapbox": {
           "style": "light"
          },
          "paper_bgcolor": "white",
          "plot_bgcolor": "#E5ECF6",
          "polar": {
           "angularaxis": {
            "gridcolor": "white",
            "linecolor": "white",
            "ticks": ""
           },
           "bgcolor": "#E5ECF6",
           "radialaxis": {
            "gridcolor": "white",
            "linecolor": "white",
            "ticks": ""
           }
          },
          "scene": {
           "xaxis": {
            "backgroundcolor": "#E5ECF6",
            "gridcolor": "white",
            "gridwidth": 2,
            "linecolor": "white",
            "showbackground": true,
            "ticks": "",
            "zerolinecolor": "white"
           },
           "yaxis": {
            "backgroundcolor": "#E5ECF6",
            "gridcolor": "white",
            "gridwidth": 2,
            "linecolor": "white",
            "showbackground": true,
            "ticks": "",
            "zerolinecolor": "white"
           },
           "zaxis": {
            "backgroundcolor": "#E5ECF6",
            "gridcolor": "white",
            "gridwidth": 2,
            "linecolor": "white",
            "showbackground": true,
            "ticks": "",
            "zerolinecolor": "white"
           }
          },
          "shapedefaults": {
           "line": {
            "color": "#2a3f5f"
           }
          },
          "ternary": {
           "aaxis": {
            "gridcolor": "white",
            "linecolor": "white",
            "ticks": ""
           },
           "baxis": {
            "gridcolor": "white",
            "linecolor": "white",
            "ticks": ""
           },
           "bgcolor": "#E5ECF6",
           "caxis": {
            "gridcolor": "white",
            "linecolor": "white",
            "ticks": ""
           }
          },
          "title": {
           "x": 0.05
          },
          "xaxis": {
           "automargin": true,
           "gridcolor": "white",
           "linecolor": "white",
           "ticks": "",
           "title": {
            "standoff": 15
           },
           "zerolinecolor": "white",
           "zerolinewidth": 2
          },
          "yaxis": {
           "automargin": true,
           "gridcolor": "white",
           "linecolor": "white",
           "ticks": "",
           "title": {
            "standoff": 15
           },
           "zerolinecolor": "white",
           "zerolinewidth": 2
          }
         }
        },
        "title": {
         "font": {
          "color": "#000000",
          "family": "Lato-Bold",
          "size": 18
         },
         "text": "TELEFONICA BRASIL SA<br><sup>Histórico das medições</sup>"
        },
        "width": 1000,
        "xaxis": {
         "anchor": "y",
         "domain": [
          0,
          0.49
         ],
         "tickfont": {
          "color": "#000000",
          "family": "Lato-Regular",
          "size": 12
         },
         "title": {
          "font": {
           "color": "#000000",
           "family": "Lato-Italic",
           "size": 14
          },
          "text": "referencia"
         }
        },
        "xaxis2": {
         "anchor": "y2",
         "domain": [
          0.51,
          1
         ],
         "matches": "x",
         "tickfont": {
          "color": "#000000",
          "family": "Lato-Regular",
          "size": 12
         },
         "title": {
          "font": {
           "color": "#000000",
           "family": "Lato-Italic",
           "size": 14
          },
          "text": "referencia"
         }
        },
        "yaxis": {
         "anchor": "x",
         "domain": [
          0,
          1
         ],
         "tickfont": {
          "color": "#000000",
          "family": "Lato-Regular",
          "size": 12
         },
         "title": {
          "font": {
           "color": "#000000",
           "family": "Lato-Italic",
           "size": 14
          },
          "text": "medido"
         }
        },
        "yaxis2": {
         "anchor": "x2",
         "domain": [
          0,
          1
         ],
         "matches": "y",
         "showticklabels": false
        }
       }
      }
     },
     "metadata": {},
     "output_type": "display_data"
    }
   ],
   "source": [
    "px.box(\n",
    "\tconsumo_cliente,\n",
    "\tx='referencia',\n",
    "\ty='medido',\n",
    "\tcolor='un',\n",
    "\tfacet_col='posto',\n",
    "\ttitle=f'{cliente}<br><sup>Histórico das medições</sup>',\n",
    "\tcolor_discrete_sequence=CATEGORICAL_GROUPS[c1['un'].nunique()],\n",
    "\twidth=1000\n",
    ").update_layout(**LAYOUT_SPECS\n",
    ").update_xaxes(**LAYOUT_SPECS['xaxis'])"
   ]
  }
 ],
 "metadata": {
  "kernelspec": {
   "display_name": "Python 3.9.12 ('base')",
   "language": "python",
   "name": "python3"
  },
  "language_info": {
   "codemirror_mode": {
    "name": "ipython",
    "version": 3
   },
   "file_extension": ".py",
   "mimetype": "text/x-python",
   "name": "python",
   "nbconvert_exporter": "python",
   "pygments_lexer": "ipython3",
   "version": "3.9.12"
  },
  "orig_nbformat": 4,
  "vscode": {
   "interpreter": {
    "hash": "4cc37c5bde6f2c4a9abbb0f88e1ba241d8320ce9d430498035b829e5a00e7fb9"
   }
  }
 },
 "nbformat": 4,
 "nbformat_minor": 2
}
