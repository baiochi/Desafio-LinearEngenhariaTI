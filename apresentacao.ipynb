{
 "cells": [
  {
   "cell_type": "markdown",
   "metadata": {},
   "source": [
    "# Desafio técnico *Linear Engenharia TI*\n",
    "<hr>\n",
    "<font size=2>Autor: <a href='https://github.com/baiochi'>João Baiochi  "
   ]
  },
  {
   "cell_type": "code",
   "execution_count": 1,
   "metadata": {},
   "outputs": [],
   "source": [
    "# TODO\n",
    "\n",
    "# - FINALIZAR PERGUNTAS/QUESTOES\n",
    "# - Rever dataframe com merge em tarifas e consumo"
   ]
  },
  {
   "cell_type": "markdown",
   "metadata": {},
   "source": [
    "# Workflow  \n",
    "\n",
    "1. [Descrição do desafio](#item1)  \n",
    "2. [Bibliotecas e APIs  ](#item2)  \n",
    "> Descrição das bibliotecas utilizadas na exploração e análise dos dados.\n",
    "3. [Leitura dos dados](#item3)  \n",
    "> Carregando o arquivo e viualizando a estrutura dos dados.\n",
    "4. [Descrição das *features*](#item4)  \n",
    "> Entender qual o significado das features e labels para melhor contextualizar o problema,  \n",
    "Definir as perguntas.\n",
    "5. [Tratamento dos dados](#item5)  \n",
    "> Organização dos dataframes,  \n",
    "Atribuição dos tipos corretos,  \n",
    "Tratamento de dados faltantes.  \n",
    "6. [Análise dos dados](#item6)   \n",
    "> Distribuição das features,\n",
    "Responder as perguntas geradas.\n",
    "7. [Apresentação com *Dashboards* ](#item7)  \n",
    "> Cloud deployment com o *Streamlit*.  \n",
    "8. [Possíveis aplicações de ML](#item8)  \n",
    "> Algumas abordagens de Machine Learning que possam ser utilizadas.  "
   ]
  },
  {
   "cell_type": "markdown",
   "metadata": {},
   "source": [
    "# 1. <span id='item1'>Descrição do desafio"
   ]
  },
  {
   "cell_type": "markdown",
   "metadata": {},
   "source": []
  },
  {
   "cell_type": "markdown",
   "metadata": {},
   "source": [
    "# 2. <span id='item2'>Bibliotecas e APIs"
   ]
  },
  {
   "cell_type": "code",
   "execution_count": 2,
   "metadata": {},
   "outputs": [],
   "source": [
    "# Leitura de arquivos .json\n",
    "import json\n",
    "# Operações matemáticas\n",
    "import numpy as np\n",
    "# Operações com regex\n",
    "import re\n",
    "# Leitura e manipulação de dados\n",
    "import pandas as pd\n",
    "# Visualização interativa dos dados\n",
    "import plotly.express as px\n",
    "# Customizações para visualização os dados\n",
    "from utils.urban_layout import CATEGORICAL_GROUPS, LAYOUT_SPECS, SHADES"
   ]
  },
  {
   "cell_type": "code",
   "execution_count": 3,
   "metadata": {},
   "outputs": [],
   "source": [
    "# Remove o limite de colunas a serem mostradas\n",
    "pd.set_option('display.max_columns', None)"
   ]
  },
  {
   "cell_type": "markdown",
   "metadata": {},
   "source": [
    "# 3. <span id='item3'>Leitura dos dados"
   ]
  },
  {
   "cell_type": "markdown",
   "metadata": {},
   "source": [
    "Para ler os dados, podemos tanto usar a bilioteca `json` ou `pandas`, ambos fornecem meios diferentes para fazer a extração e organização nos dataframes."
   ]
  },
  {
   "cell_type": "code",
   "execution_count": 4,
   "metadata": {},
   "outputs": [],
   "source": [
    "# Carregando com json\n",
    "with open('data/consumo.json', 'r') as file:\n",
    "  json_data = json.load(file)\n",
    "# Carregando com pandas\n",
    "df = pd.read_json('data/consumo.json')\n",
    "\n",
    "# Mantendo uma cópia dos arquivos orginais\n",
    "raw_df = df.copy()\n",
    "raw_json_data = json_data.copy()"
   ]
  },
  {
   "cell_type": "markdown",
   "metadata": {},
   "source": [
    "`pandas` fornece uma rápido sumário dos dados: quais os tipos, se há dados faltantes(null), e quantidade de obervações.  "
   ]
  },
  {
   "cell_type": "code",
   "execution_count": 5,
   "metadata": {},
   "outputs": [
    {
     "name": "stdout",
     "output_type": "stream",
     "text": [
      "<class 'pandas.core.frame.DataFrame'>\n",
      "RangeIndex: 162 entries, 0 to 161\n",
      "Data columns (total 18 columns):\n",
      " #   Column                Non-Null Count  Dtype \n",
      "---  ------                --------------  ----- \n",
      " 0   _id                   162 non-null    object\n",
      " 1   estruturaConsumo      162 non-null    object\n",
      " 2   unique                162 non-null    object\n",
      " 3   cliente               162 non-null    object\n",
      " 4   classe                162 non-null    object\n",
      " 5   ligacao               162 non-null    object\n",
      " 6   referencia            162 non-null    object\n",
      " 7   data_vencimento       162 non-null    object\n",
      " 8   data_emissao          162 non-null    object\n",
      " 9   data_apresentacao     162 non-null    object\n",
      " 10  data_proxima_leitura  162 non-null    object\n",
      " 11  cnpj                  162 non-null    object\n",
      " 12  uc                    162 non-null    object\n",
      " 13  refaturamento         162 non-null    bool  \n",
      " 14  tarifas               162 non-null    object\n",
      " 15  createdAt             162 non-null    object\n",
      " 16  updatedAt             162 non-null    object\n",
      " 17  __v                   162 non-null    int64 \n",
      "dtypes: bool(1), int64(1), object(16)\n",
      "memory usage: 21.8+ KB\n"
     ]
    }
   ],
   "source": [
    "df.info()"
   ]
  },
  {
   "cell_type": "markdown",
   "metadata": {},
   "source": [
    "Também podemos visualizar as 5 primeiras linhas para ver como os dados foram ineridos. "
   ]
  },
  {
   "cell_type": "code",
   "execution_count": 6,
   "metadata": {},
   "outputs": [
    {
     "data": {
      "text/html": [
       "<div>\n",
       "<style scoped>\n",
       "    .dataframe tbody tr th:only-of-type {\n",
       "        vertical-align: middle;\n",
       "    }\n",
       "\n",
       "    .dataframe tbody tr th {\n",
       "        vertical-align: top;\n",
       "    }\n",
       "\n",
       "    .dataframe thead th {\n",
       "        text-align: right;\n",
       "    }\n",
       "</style>\n",
       "<table border=\"1\" class=\"dataframe\">\n",
       "  <thead>\n",
       "    <tr style=\"text-align: right;\">\n",
       "      <th></th>\n",
       "      <th>_id</th>\n",
       "      <th>estruturaConsumo</th>\n",
       "      <th>unique</th>\n",
       "      <th>cliente</th>\n",
       "      <th>classe</th>\n",
       "      <th>ligacao</th>\n",
       "      <th>referencia</th>\n",
       "      <th>data_vencimento</th>\n",
       "      <th>data_emissao</th>\n",
       "      <th>data_apresentacao</th>\n",
       "      <th>data_proxima_leitura</th>\n",
       "      <th>cnpj</th>\n",
       "      <th>uc</th>\n",
       "      <th>refaturamento</th>\n",
       "      <th>tarifas</th>\n",
       "      <th>createdAt</th>\n",
       "      <th>updatedAt</th>\n",
       "      <th>__v</th>\n",
       "    </tr>\n",
       "  </thead>\n",
       "  <tbody>\n",
       "    <tr>\n",
       "      <th>0</th>\n",
       "      <td>{'$oid': '62220ff138b5b03262a806d4'}</td>\n",
       "      <td>{'saldoPonta': '0', 'saldoForaPonta': '0', 'ex...</td>\n",
       "      <td>b45dc7a8-2aa8-4693-a7c2-2260c4f0b642</td>\n",
       "      <td>SUPERMERCADO PAREDAO LTDA</td>\n",
       "      <td>COMERCIAL / OUTROS SERVIÇOS E OUTRAS ATIVIDADES</td>\n",
       "      <td>TRIFASICO</td>\n",
       "      <td>2022-02</td>\n",
       "      <td>2022-04-11</td>\n",
       "      <td>2022-02-26</td>\n",
       "      <td>2022-03-04</td>\n",
       "      <td>2022-03-29</td>\n",
       "      <td>28.847.082/0001-23</td>\n",
       "      <td>6/732146-6</td>\n",
       "      <td>False</td>\n",
       "      <td>[{'cci': '0601', 'descricao': 'CONSUMO EM KWH'...</td>\n",
       "      <td>{'$date': '2022-03-04T13:11:13.417Z'}</td>\n",
       "      <td>{'$date': '2022-03-04T13:11:13.417Z'}</td>\n",
       "      <td>0</td>\n",
       "    </tr>\n",
       "    <tr>\n",
       "      <th>1</th>\n",
       "      <td>{'$oid': '62220ff138b5b03262a806da'}</td>\n",
       "      <td>{'saldoPonta': '0', 'saldoForaPonta': '0', 'ex...</td>\n",
       "      <td>1bcac16e-289a-45c4-8509-f98ad5b66bcb</td>\n",
       "      <td>TELEFONICA BRASIL SA</td>\n",
       "      <td>COMERCIAL / SERVIÇOS DE COMUNICAÇÕES E TELECOM...</td>\n",
       "      <td>TRIFASICO</td>\n",
       "      <td>2022-02</td>\n",
       "      <td>2022-03-15</td>\n",
       "      <td>2022-02-26</td>\n",
       "      <td>2022-03-08</td>\n",
       "      <td>2022-03-29</td>\n",
       "      <td>02.558.157/0001-62</td>\n",
       "      <td>6/2669086-7</td>\n",
       "      <td>False</td>\n",
       "      <td>[{'cci': '0601', 'descricao': 'CONSUMO EM KWH'...</td>\n",
       "      <td>{'$date': '2022-03-04T13:11:13.565Z'}</td>\n",
       "      <td>{'$date': '2022-03-04T13:11:13.565Z'}</td>\n",
       "      <td>0</td>\n",
       "    </tr>\n",
       "    <tr>\n",
       "      <th>2</th>\n",
       "      <td>{'$oid': '62220ff238b5b03262a806e0'}</td>\n",
       "      <td>{'saldoPonta': '0', 'saldoForaPonta': '0', 'ex...</td>\n",
       "      <td>37399592-abd1-4de3-bb28-1b3753caf972</td>\n",
       "      <td>TELEFONICA BRASIL SA</td>\n",
       "      <td>COMERCIAL / SERVIÇOS DE COMUNICAÇÕES E TELECOM...</td>\n",
       "      <td>BIFASICO</td>\n",
       "      <td>2022-02</td>\n",
       "      <td>2022-03-28</td>\n",
       "      <td>2022-02-26</td>\n",
       "      <td>2022-03-11</td>\n",
       "      <td>2022-03-29</td>\n",
       "      <td>02.558.157/0001-62</td>\n",
       "      <td>6/2668744-2</td>\n",
       "      <td>False</td>\n",
       "      <td>[{'cci': '0601', 'descricao': 'CONSUMO EM KWH'...</td>\n",
       "      <td>{'$date': '2022-03-04T13:11:14.121Z'}</td>\n",
       "      <td>{'$date': '2022-03-04T13:11:14.121Z'}</td>\n",
       "      <td>0</td>\n",
       "    </tr>\n",
       "    <tr>\n",
       "      <th>3</th>\n",
       "      <td>{'$oid': '62220ff338b5b03262a806ee'}</td>\n",
       "      <td>{'saldoPonta': '16769', 'saldoForaPonta': '180...</td>\n",
       "      <td>c0185cf7-f793-4c23-a593-b1ec1d41219a</td>\n",
       "      <td>COMERCIAL IOMAR DE ALIMENTOS LTDA EPP</td>\n",
       "      <td>COMERCIAL / COMERCIAL</td>\n",
       "      <td>TRIFASICO</td>\n",
       "      <td>2022-02</td>\n",
       "      <td>2022-04-13</td>\n",
       "      <td>2022-03-02</td>\n",
       "      <td>2022-03-04</td>\n",
       "      <td>2022-03-31</td>\n",
       "      <td>01.436.106/0001-03</td>\n",
       "      <td>6/336632-5</td>\n",
       "      <td>False</td>\n",
       "      <td>[{'cci': '0601', 'descricao': 'CONSUMO EM KWH ...</td>\n",
       "      <td>{'$date': '2022-03-04T13:11:15.541Z'}</td>\n",
       "      <td>{'$date': '2022-03-04T13:11:15.541Z'}</td>\n",
       "      <td>0</td>\n",
       "    </tr>\n",
       "    <tr>\n",
       "      <th>4</th>\n",
       "      <td>{'$oid': '62220ff538b5b03262a80702'}</td>\n",
       "      <td>{'saldoPonta': '222726', 'saldoForaPonta': '24...</td>\n",
       "      <td>161ce259-5c70-4818-b2c5-2eee335e5067</td>\n",
       "      <td>CONSORCIO GERADOR FAZENDA MODELO</td>\n",
       "      <td>COMERCIAL / OUTROS SERVIÇOS E OUTRAS ATIVIDADES</td>\n",
       "      <td>TRIFASICO</td>\n",
       "      <td>2022-03</td>\n",
       "      <td>2022-03-16</td>\n",
       "      <td>2022-03-03</td>\n",
       "      <td>2022-03-09</td>\n",
       "      <td>2022-03-30</td>\n",
       "      <td>33.372.528/0001-40</td>\n",
       "      <td>6/2731936-7</td>\n",
       "      <td>False</td>\n",
       "      <td>[{'cci': '0602', 'descricao': 'DEMANDA POTÊNCI...</td>\n",
       "      <td>{'$date': '2022-03-04T13:11:17.866Z'}</td>\n",
       "      <td>{'$date': '2022-03-04T13:11:17.866Z'}</td>\n",
       "      <td>0</td>\n",
       "    </tr>\n",
       "  </tbody>\n",
       "</table>\n",
       "</div>"
      ],
      "text/plain": [
       "                                    _id  \\\n",
       "0  {'$oid': '62220ff138b5b03262a806d4'}   \n",
       "1  {'$oid': '62220ff138b5b03262a806da'}   \n",
       "2  {'$oid': '62220ff238b5b03262a806e0'}   \n",
       "3  {'$oid': '62220ff338b5b03262a806ee'}   \n",
       "4  {'$oid': '62220ff538b5b03262a80702'}   \n",
       "\n",
       "                                    estruturaConsumo  \\\n",
       "0  {'saldoPonta': '0', 'saldoForaPonta': '0', 'ex...   \n",
       "1  {'saldoPonta': '0', 'saldoForaPonta': '0', 'ex...   \n",
       "2  {'saldoPonta': '0', 'saldoForaPonta': '0', 'ex...   \n",
       "3  {'saldoPonta': '16769', 'saldoForaPonta': '180...   \n",
       "4  {'saldoPonta': '222726', 'saldoForaPonta': '24...   \n",
       "\n",
       "                                 unique  \\\n",
       "0  b45dc7a8-2aa8-4693-a7c2-2260c4f0b642   \n",
       "1  1bcac16e-289a-45c4-8509-f98ad5b66bcb   \n",
       "2  37399592-abd1-4de3-bb28-1b3753caf972   \n",
       "3  c0185cf7-f793-4c23-a593-b1ec1d41219a   \n",
       "4  161ce259-5c70-4818-b2c5-2eee335e5067   \n",
       "\n",
       "                                 cliente  \\\n",
       "0              SUPERMERCADO PAREDAO LTDA   \n",
       "1                   TELEFONICA BRASIL SA   \n",
       "2                   TELEFONICA BRASIL SA   \n",
       "3  COMERCIAL IOMAR DE ALIMENTOS LTDA EPP   \n",
       "4       CONSORCIO GERADOR FAZENDA MODELO   \n",
       "\n",
       "                                              classe    ligacao referencia  \\\n",
       "0    COMERCIAL / OUTROS SERVIÇOS E OUTRAS ATIVIDADES  TRIFASICO    2022-02   \n",
       "1  COMERCIAL / SERVIÇOS DE COMUNICAÇÕES E TELECOM...  TRIFASICO    2022-02   \n",
       "2  COMERCIAL / SERVIÇOS DE COMUNICAÇÕES E TELECOM...   BIFASICO    2022-02   \n",
       "3                              COMERCIAL / COMERCIAL  TRIFASICO    2022-02   \n",
       "4    COMERCIAL / OUTROS SERVIÇOS E OUTRAS ATIVIDADES  TRIFASICO    2022-03   \n",
       "\n",
       "  data_vencimento data_emissao data_apresentacao data_proxima_leitura  \\\n",
       "0      2022-04-11   2022-02-26        2022-03-04           2022-03-29   \n",
       "1      2022-03-15   2022-02-26        2022-03-08           2022-03-29   \n",
       "2      2022-03-28   2022-02-26        2022-03-11           2022-03-29   \n",
       "3      2022-04-13   2022-03-02        2022-03-04           2022-03-31   \n",
       "4      2022-03-16   2022-03-03        2022-03-09           2022-03-30   \n",
       "\n",
       "                 cnpj           uc  refaturamento  \\\n",
       "0  28.847.082/0001-23   6/732146-6          False   \n",
       "1  02.558.157/0001-62  6/2669086-7          False   \n",
       "2  02.558.157/0001-62  6/2668744-2          False   \n",
       "3  01.436.106/0001-03   6/336632-5          False   \n",
       "4  33.372.528/0001-40  6/2731936-7          False   \n",
       "\n",
       "                                             tarifas  \\\n",
       "0  [{'cci': '0601', 'descricao': 'CONSUMO EM KWH'...   \n",
       "1  [{'cci': '0601', 'descricao': 'CONSUMO EM KWH'...   \n",
       "2  [{'cci': '0601', 'descricao': 'CONSUMO EM KWH'...   \n",
       "3  [{'cci': '0601', 'descricao': 'CONSUMO EM KWH ...   \n",
       "4  [{'cci': '0602', 'descricao': 'DEMANDA POTÊNCI...   \n",
       "\n",
       "                               createdAt  \\\n",
       "0  {'$date': '2022-03-04T13:11:13.417Z'}   \n",
       "1  {'$date': '2022-03-04T13:11:13.565Z'}   \n",
       "2  {'$date': '2022-03-04T13:11:14.121Z'}   \n",
       "3  {'$date': '2022-03-04T13:11:15.541Z'}   \n",
       "4  {'$date': '2022-03-04T13:11:17.866Z'}   \n",
       "\n",
       "                               updatedAt  __v  \n",
       "0  {'$date': '2022-03-04T13:11:13.417Z'}    0  \n",
       "1  {'$date': '2022-03-04T13:11:13.565Z'}    0  \n",
       "2  {'$date': '2022-03-04T13:11:14.121Z'}    0  \n",
       "3  {'$date': '2022-03-04T13:11:15.541Z'}    0  \n",
       "4  {'$date': '2022-03-04T13:11:17.866Z'}    0  "
      ]
     },
     "execution_count": 6,
     "metadata": {},
     "output_type": "execute_result"
    }
   ],
   "source": [
    "df.head()"
   ]
  },
  {
   "cell_type": "markdown",
   "metadata": {},
   "source": [
    "De início observa-se que várias colunas não estão num formato adequado, por exemplo as referentes as datas.  \n",
    "Algumas colunas também possuem dataframes aninhados."
   ]
  },
  {
   "cell_type": "code",
   "execution_count": 7,
   "metadata": {},
   "outputs": [
    {
     "data": {
      "text/plain": [
       "['_id', 'estruturaConsumo', 'tarifas', 'createdAt', 'updatedAt']"
      ]
     },
     "execution_count": 7,
     "metadata": {},
     "output_type": "execute_result"
    }
   ],
   "source": [
    "# Verificando quais colunas pertencem ao tipo dicionáro ou lista\n",
    "[column for column in df.columns if isinstance(df[column][0], (dict, list))]"
   ]
  },
  {
   "cell_type": "markdown",
   "metadata": {},
   "source": [
    "As colunas *_id*, *createdAt* e *updatedAt* podem ser normalizadas facilmente uma vez que possuem apenas 1 campo \"chave-valor\". Já as colunas *estruturaConsumo* e *tarifas* precisam ser analisadas com mais atenção, por conterem uma maior quantidade de informação e talvez mais dataframes aninhados."
   ]
  },
  {
   "cell_type": "markdown",
   "metadata": {},
   "source": [
    "## Analisando a coluna *estruturaConsumo*"
   ]
  },
  {
   "cell_type": "code",
   "execution_count": 8,
   "metadata": {},
   "outputs": [
    {
     "name": "stdout",
     "output_type": "stream",
     "text": [
      "saldoPonta         object\n",
      "saldoForaPonta     object\n",
      "expiraForaPonta    object\n",
      "expiraPonta        object\n",
      "saldoAcumulado     object\n",
      "expiraAcumulado    object\n",
      "leituraAnterior    object\n",
      "leituraAtual       object\n",
      "leituras           object\n",
      "dtype: object\n"
     ]
    },
    {
     "data": {
      "text/html": [
       "<div>\n",
       "<style scoped>\n",
       "    .dataframe tbody tr th:only-of-type {\n",
       "        vertical-align: middle;\n",
       "    }\n",
       "\n",
       "    .dataframe tbody tr th {\n",
       "        vertical-align: top;\n",
       "    }\n",
       "\n",
       "    .dataframe thead th {\n",
       "        text-align: right;\n",
       "    }\n",
       "</style>\n",
       "<table border=\"1\" class=\"dataframe\">\n",
       "  <thead>\n",
       "    <tr style=\"text-align: right;\">\n",
       "      <th></th>\n",
       "      <th>saldoPonta</th>\n",
       "      <th>saldoForaPonta</th>\n",
       "      <th>expiraForaPonta</th>\n",
       "      <th>expiraPonta</th>\n",
       "      <th>saldoAcumulado</th>\n",
       "      <th>expiraAcumulado</th>\n",
       "      <th>leituraAnterior</th>\n",
       "      <th>leituraAtual</th>\n",
       "      <th>leituras</th>\n",
       "    </tr>\n",
       "  </thead>\n",
       "  <tbody>\n",
       "    <tr>\n",
       "      <th>0</th>\n",
       "      <td>0</td>\n",
       "      <td>0</td>\n",
       "      <td>0</td>\n",
       "      <td>0</td>\n",
       "      <td>0</td>\n",
       "      <td>0</td>\n",
       "      <td>2022-01-28</td>\n",
       "      <td>2022-02-25</td>\n",
       "      <td>[{'un': 'KWH', 'posto': 'PONTA', 'medido': '24...</td>\n",
       "    </tr>\n",
       "  </tbody>\n",
       "</table>\n",
       "</div>"
      ],
      "text/plain": [
       "  saldoPonta saldoForaPonta expiraForaPonta expiraPonta saldoAcumulado  \\\n",
       "0          0              0               0           0              0   \n",
       "\n",
       "  expiraAcumulado leituraAnterior leituraAtual  \\\n",
       "0               0      2022-01-28   2022-02-25   \n",
       "\n",
       "                                            leituras  \n",
       "0  [{'un': 'KWH', 'posto': 'PONTA', 'medido': '24...  "
      ]
     },
     "execution_count": 8,
     "metadata": {},
     "output_type": "execute_result"
    }
   ],
   "source": [
    "# Achatando os dados dentro da coluna estruturaConsumo\n",
    "estruturaConsumo_df = pd.json_normalize(df['estruturaConsumo'])\n",
    "print(estruturaConsumo_df.dtypes)\n",
    "estruturaConsumo_df.head(1)"
   ]
  },
  {
   "cell_type": "code",
   "execution_count": 9,
   "metadata": {},
   "outputs": [
    {
     "data": {
      "text/plain": [
       "[{'un': 'KWH',\n",
       "  'posto': 'PONTA',\n",
       "  'medido': '24363',\n",
       "  'faturado': '24363',\n",
       "  '_id': {'$oid': '62220ff138b5b03262a806d9'}}]"
      ]
     },
     "execution_count": 9,
     "metadata": {},
     "output_type": "execute_result"
    }
   ],
   "source": [
    "estruturaConsumo_df['leituras'][0]"
   ]
  },
  {
   "cell_type": "markdown",
   "metadata": {},
   "source": [
    "O campo *estruturaConsumo* possuí algumas colunas com valores numéricos, data e uma com lista contendo outros dataframes. Esta é mais uma coluna que iremos normalizar, lembrando que uma observação do campo *estruturaConsumo* pode conter mais de um tipo de leitura.  "
   ]
  },
  {
   "cell_type": "code",
   "execution_count": 10,
   "metadata": {},
   "outputs": [
    {
     "data": {
      "application/vnd.plotly.v1+json": {
       "config": {
        "plotlyServerURL": "https://plot.ly"
       },
       "data": [
        {
         "alignmentgroup": "True",
         "bingroup": "x",
         "hovertemplate": "variable=leituras<br>value=%{x}<br>count=%{y}<extra></extra>",
         "legendgroup": "leituras",
         "marker": {
          "color": "#46ABDB",
          "line": {
           "color": "#0A4C6A",
           "width": 1.5
          },
          "opacity": 0.8,
          "pattern": {
           "shape": ""
          }
         },
         "name": "leituras",
         "offsetgroup": "leituras",
         "orientation": "v",
         "showlegend": true,
         "type": "histogram",
         "x": [
          1,
          1,
          1,
          9,
          4,
          10,
          8,
          1,
          1,
          1,
          1,
          1,
          3,
          2,
          1,
          1,
          1,
          1,
          1,
          1,
          1,
          1,
          10,
          1,
          1,
          1,
          1,
          1,
          1,
          1,
          1,
          1,
          1,
          1,
          1,
          1,
          1,
          1,
          9,
          4,
          1,
          1,
          1,
          1,
          2,
          3,
          1,
          1,
          1,
          1,
          1,
          1,
          1,
          1,
          1,
          1,
          1,
          10,
          1,
          1,
          1,
          1,
          1,
          1,
          1,
          1,
          1,
          1,
          1,
          1,
          1,
          1,
          1,
          1,
          9,
          1,
          1,
          1,
          1,
          4,
          1,
          1,
          1,
          1,
          1,
          1,
          1,
          2,
          1,
          1,
          1,
          1,
          2,
          1,
          1,
          1,
          1,
          2,
          1,
          1,
          1,
          1,
          1,
          1,
          1,
          2,
          1,
          1,
          1,
          1,
          1,
          8,
          8,
          5,
          3,
          5,
          3,
          3,
          4,
          6,
          3,
          5,
          3,
          3,
          3,
          3,
          5,
          4,
          2,
          2,
          1,
          6,
          3,
          4,
          4,
          4,
          4,
          1,
          2,
          1,
          1,
          1,
          6,
          10,
          9,
          6,
          8,
          1,
          2,
          1,
          1,
          1,
          1,
          1,
          10,
          1,
          1,
          1,
          1,
          1,
          1,
          1
         ],
         "xaxis": "x",
         "yaxis": "y"
        }
       ],
       "layout": {
        "barmode": "relative",
        "hoverlabel": {
         "font": {
          "family": "Lato-Regular",
          "size": 14
         }
        },
        "legend": {
         "font": {
          "color": "#000000",
          "family": "Lato-Regular",
          "size": 13
         },
         "title": {
          "font": {
           "color": "#000000",
           "family": "Lato-Bold",
           "size": 14
          },
          "text": "variable"
         },
         "tracegroupgap": 0
        },
        "showlegend": false,
        "template": {
         "data": {
          "bar": [
           {
            "error_x": {
             "color": "#2a3f5f"
            },
            "error_y": {
             "color": "#2a3f5f"
            },
            "marker": {
             "line": {
              "color": "#E5ECF6",
              "width": 0.5
             },
             "pattern": {
              "fillmode": "overlay",
              "size": 10,
              "solidity": 0.2
             }
            },
            "type": "bar"
           }
          ],
          "barpolar": [
           {
            "marker": {
             "line": {
              "color": "#E5ECF6",
              "width": 0.5
             },
             "pattern": {
              "fillmode": "overlay",
              "size": 10,
              "solidity": 0.2
             }
            },
            "type": "barpolar"
           }
          ],
          "carpet": [
           {
            "aaxis": {
             "endlinecolor": "#2a3f5f",
             "gridcolor": "white",
             "linecolor": "white",
             "minorgridcolor": "white",
             "startlinecolor": "#2a3f5f"
            },
            "baxis": {
             "endlinecolor": "#2a3f5f",
             "gridcolor": "white",
             "linecolor": "white",
             "minorgridcolor": "white",
             "startlinecolor": "#2a3f5f"
            },
            "type": "carpet"
           }
          ],
          "choropleth": [
           {
            "colorbar": {
             "outlinewidth": 0,
             "ticks": ""
            },
            "type": "choropleth"
           }
          ],
          "contour": [
           {
            "colorbar": {
             "outlinewidth": 0,
             "ticks": ""
            },
            "colorscale": [
             [
              0,
              "#0d0887"
             ],
             [
              0.1111111111111111,
              "#46039f"
             ],
             [
              0.2222222222222222,
              "#7201a8"
             ],
             [
              0.3333333333333333,
              "#9c179e"
             ],
             [
              0.4444444444444444,
              "#bd3786"
             ],
             [
              0.5555555555555556,
              "#d8576b"
             ],
             [
              0.6666666666666666,
              "#ed7953"
             ],
             [
              0.7777777777777778,
              "#fb9f3a"
             ],
             [
              0.8888888888888888,
              "#fdca26"
             ],
             [
              1,
              "#f0f921"
             ]
            ],
            "type": "contour"
           }
          ],
          "contourcarpet": [
           {
            "colorbar": {
             "outlinewidth": 0,
             "ticks": ""
            },
            "type": "contourcarpet"
           }
          ],
          "heatmap": [
           {
            "colorbar": {
             "outlinewidth": 0,
             "ticks": ""
            },
            "colorscale": [
             [
              0,
              "#0d0887"
             ],
             [
              0.1111111111111111,
              "#46039f"
             ],
             [
              0.2222222222222222,
              "#7201a8"
             ],
             [
              0.3333333333333333,
              "#9c179e"
             ],
             [
              0.4444444444444444,
              "#bd3786"
             ],
             [
              0.5555555555555556,
              "#d8576b"
             ],
             [
              0.6666666666666666,
              "#ed7953"
             ],
             [
              0.7777777777777778,
              "#fb9f3a"
             ],
             [
              0.8888888888888888,
              "#fdca26"
             ],
             [
              1,
              "#f0f921"
             ]
            ],
            "type": "heatmap"
           }
          ],
          "heatmapgl": [
           {
            "colorbar": {
             "outlinewidth": 0,
             "ticks": ""
            },
            "colorscale": [
             [
              0,
              "#0d0887"
             ],
             [
              0.1111111111111111,
              "#46039f"
             ],
             [
              0.2222222222222222,
              "#7201a8"
             ],
             [
              0.3333333333333333,
              "#9c179e"
             ],
             [
              0.4444444444444444,
              "#bd3786"
             ],
             [
              0.5555555555555556,
              "#d8576b"
             ],
             [
              0.6666666666666666,
              "#ed7953"
             ],
             [
              0.7777777777777778,
              "#fb9f3a"
             ],
             [
              0.8888888888888888,
              "#fdca26"
             ],
             [
              1,
              "#f0f921"
             ]
            ],
            "type": "heatmapgl"
           }
          ],
          "histogram": [
           {
            "marker": {
             "pattern": {
              "fillmode": "overlay",
              "size": 10,
              "solidity": 0.2
             }
            },
            "type": "histogram"
           }
          ],
          "histogram2d": [
           {
            "colorbar": {
             "outlinewidth": 0,
             "ticks": ""
            },
            "colorscale": [
             [
              0,
              "#0d0887"
             ],
             [
              0.1111111111111111,
              "#46039f"
             ],
             [
              0.2222222222222222,
              "#7201a8"
             ],
             [
              0.3333333333333333,
              "#9c179e"
             ],
             [
              0.4444444444444444,
              "#bd3786"
             ],
             [
              0.5555555555555556,
              "#d8576b"
             ],
             [
              0.6666666666666666,
              "#ed7953"
             ],
             [
              0.7777777777777778,
              "#fb9f3a"
             ],
             [
              0.8888888888888888,
              "#fdca26"
             ],
             [
              1,
              "#f0f921"
             ]
            ],
            "type": "histogram2d"
           }
          ],
          "histogram2dcontour": [
           {
            "colorbar": {
             "outlinewidth": 0,
             "ticks": ""
            },
            "colorscale": [
             [
              0,
              "#0d0887"
             ],
             [
              0.1111111111111111,
              "#46039f"
             ],
             [
              0.2222222222222222,
              "#7201a8"
             ],
             [
              0.3333333333333333,
              "#9c179e"
             ],
             [
              0.4444444444444444,
              "#bd3786"
             ],
             [
              0.5555555555555556,
              "#d8576b"
             ],
             [
              0.6666666666666666,
              "#ed7953"
             ],
             [
              0.7777777777777778,
              "#fb9f3a"
             ],
             [
              0.8888888888888888,
              "#fdca26"
             ],
             [
              1,
              "#f0f921"
             ]
            ],
            "type": "histogram2dcontour"
           }
          ],
          "mesh3d": [
           {
            "colorbar": {
             "outlinewidth": 0,
             "ticks": ""
            },
            "type": "mesh3d"
           }
          ],
          "parcoords": [
           {
            "line": {
             "colorbar": {
              "outlinewidth": 0,
              "ticks": ""
             }
            },
            "type": "parcoords"
           }
          ],
          "pie": [
           {
            "automargin": true,
            "type": "pie"
           }
          ],
          "scatter": [
           {
            "marker": {
             "colorbar": {
              "outlinewidth": 0,
              "ticks": ""
             }
            },
            "type": "scatter"
           }
          ],
          "scatter3d": [
           {
            "line": {
             "colorbar": {
              "outlinewidth": 0,
              "ticks": ""
             }
            },
            "marker": {
             "colorbar": {
              "outlinewidth": 0,
              "ticks": ""
             }
            },
            "type": "scatter3d"
           }
          ],
          "scattercarpet": [
           {
            "marker": {
             "colorbar": {
              "outlinewidth": 0,
              "ticks": ""
             }
            },
            "type": "scattercarpet"
           }
          ],
          "scattergeo": [
           {
            "marker": {
             "colorbar": {
              "outlinewidth": 0,
              "ticks": ""
             }
            },
            "type": "scattergeo"
           }
          ],
          "scattergl": [
           {
            "marker": {
             "colorbar": {
              "outlinewidth": 0,
              "ticks": ""
             }
            },
            "type": "scattergl"
           }
          ],
          "scattermapbox": [
           {
            "marker": {
             "colorbar": {
              "outlinewidth": 0,
              "ticks": ""
             }
            },
            "type": "scattermapbox"
           }
          ],
          "scatterpolar": [
           {
            "marker": {
             "colorbar": {
              "outlinewidth": 0,
              "ticks": ""
             }
            },
            "type": "scatterpolar"
           }
          ],
          "scatterpolargl": [
           {
            "marker": {
             "colorbar": {
              "outlinewidth": 0,
              "ticks": ""
             }
            },
            "type": "scatterpolargl"
           }
          ],
          "scatterternary": [
           {
            "marker": {
             "colorbar": {
              "outlinewidth": 0,
              "ticks": ""
             }
            },
            "type": "scatterternary"
           }
          ],
          "surface": [
           {
            "colorbar": {
             "outlinewidth": 0,
             "ticks": ""
            },
            "colorscale": [
             [
              0,
              "#0d0887"
             ],
             [
              0.1111111111111111,
              "#46039f"
             ],
             [
              0.2222222222222222,
              "#7201a8"
             ],
             [
              0.3333333333333333,
              "#9c179e"
             ],
             [
              0.4444444444444444,
              "#bd3786"
             ],
             [
              0.5555555555555556,
              "#d8576b"
             ],
             [
              0.6666666666666666,
              "#ed7953"
             ],
             [
              0.7777777777777778,
              "#fb9f3a"
             ],
             [
              0.8888888888888888,
              "#fdca26"
             ],
             [
              1,
              "#f0f921"
             ]
            ],
            "type": "surface"
           }
          ],
          "table": [
           {
            "cells": {
             "fill": {
              "color": "#EBF0F8"
             },
             "line": {
              "color": "white"
             }
            },
            "header": {
             "fill": {
              "color": "#C8D4E3"
             },
             "line": {
              "color": "white"
             }
            },
            "type": "table"
           }
          ]
         },
         "layout": {
          "annotationdefaults": {
           "arrowcolor": "#2a3f5f",
           "arrowhead": 0,
           "arrowwidth": 1
          },
          "autotypenumbers": "strict",
          "coloraxis": {
           "colorbar": {
            "outlinewidth": 0,
            "ticks": ""
           }
          },
          "colorscale": {
           "diverging": [
            [
             0,
             "#8e0152"
            ],
            [
             0.1,
             "#c51b7d"
            ],
            [
             0.2,
             "#de77ae"
            ],
            [
             0.3,
             "#f1b6da"
            ],
            [
             0.4,
             "#fde0ef"
            ],
            [
             0.5,
             "#f7f7f7"
            ],
            [
             0.6,
             "#e6f5d0"
            ],
            [
             0.7,
             "#b8e186"
            ],
            [
             0.8,
             "#7fbc41"
            ],
            [
             0.9,
             "#4d9221"
            ],
            [
             1,
             "#276419"
            ]
           ],
           "sequential": [
            [
             0,
             "#0d0887"
            ],
            [
             0.1111111111111111,
             "#46039f"
            ],
            [
             0.2222222222222222,
             "#7201a8"
            ],
            [
             0.3333333333333333,
             "#9c179e"
            ],
            [
             0.4444444444444444,
             "#bd3786"
            ],
            [
             0.5555555555555556,
             "#d8576b"
            ],
            [
             0.6666666666666666,
             "#ed7953"
            ],
            [
             0.7777777777777778,
             "#fb9f3a"
            ],
            [
             0.8888888888888888,
             "#fdca26"
            ],
            [
             1,
             "#f0f921"
            ]
           ],
           "sequentialminus": [
            [
             0,
             "#0d0887"
            ],
            [
             0.1111111111111111,
             "#46039f"
            ],
            [
             0.2222222222222222,
             "#7201a8"
            ],
            [
             0.3333333333333333,
             "#9c179e"
            ],
            [
             0.4444444444444444,
             "#bd3786"
            ],
            [
             0.5555555555555556,
             "#d8576b"
            ],
            [
             0.6666666666666666,
             "#ed7953"
            ],
            [
             0.7777777777777778,
             "#fb9f3a"
            ],
            [
             0.8888888888888888,
             "#fdca26"
            ],
            [
             1,
             "#f0f921"
            ]
           ]
          },
          "colorway": [
           "#636efa",
           "#EF553B",
           "#00cc96",
           "#ab63fa",
           "#FFA15A",
           "#19d3f3",
           "#FF6692",
           "#B6E880",
           "#FF97FF",
           "#FECB52"
          ],
          "font": {
           "color": "#2a3f5f"
          },
          "geo": {
           "bgcolor": "white",
           "lakecolor": "white",
           "landcolor": "#E5ECF6",
           "showlakes": true,
           "showland": true,
           "subunitcolor": "white"
          },
          "hoverlabel": {
           "align": "left"
          },
          "hovermode": "closest",
          "mapbox": {
           "style": "light"
          },
          "paper_bgcolor": "white",
          "plot_bgcolor": "#E5ECF6",
          "polar": {
           "angularaxis": {
            "gridcolor": "white",
            "linecolor": "white",
            "ticks": ""
           },
           "bgcolor": "#E5ECF6",
           "radialaxis": {
            "gridcolor": "white",
            "linecolor": "white",
            "ticks": ""
           }
          },
          "scene": {
           "xaxis": {
            "backgroundcolor": "#E5ECF6",
            "gridcolor": "white",
            "gridwidth": 2,
            "linecolor": "white",
            "showbackground": true,
            "ticks": "",
            "zerolinecolor": "white"
           },
           "yaxis": {
            "backgroundcolor": "#E5ECF6",
            "gridcolor": "white",
            "gridwidth": 2,
            "linecolor": "white",
            "showbackground": true,
            "ticks": "",
            "zerolinecolor": "white"
           },
           "zaxis": {
            "backgroundcolor": "#E5ECF6",
            "gridcolor": "white",
            "gridwidth": 2,
            "linecolor": "white",
            "showbackground": true,
            "ticks": "",
            "zerolinecolor": "white"
           }
          },
          "shapedefaults": {
           "line": {
            "color": "#2a3f5f"
           }
          },
          "ternary": {
           "aaxis": {
            "gridcolor": "white",
            "linecolor": "white",
            "ticks": ""
           },
           "baxis": {
            "gridcolor": "white",
            "linecolor": "white",
            "ticks": ""
           },
           "bgcolor": "#E5ECF6",
           "caxis": {
            "gridcolor": "white",
            "linecolor": "white",
            "ticks": ""
           }
          },
          "title": {
           "x": 0.05
          },
          "xaxis": {
           "automargin": true,
           "gridcolor": "white",
           "linecolor": "white",
           "ticks": "",
           "title": {
            "standoff": 15
           },
           "zerolinecolor": "white",
           "zerolinewidth": 2
          },
          "yaxis": {
           "automargin": true,
           "gridcolor": "white",
           "linecolor": "white",
           "ticks": "",
           "title": {
            "standoff": 15
           },
           "zerolinecolor": "white",
           "zerolinewidth": 2
          }
         }
        },
        "title": {
         "font": {
          "color": "#000000",
          "family": "Lato-Bold",
          "size": 18
         },
         "text": "Distribuição da quantidade de leituras"
        },
        "width": 800,
        "xaxis": {
         "anchor": "y",
         "domain": [
          0,
          1
         ],
         "tickfont": {
          "color": "#000000",
          "family": "Lato-Regular",
          "size": 12
         },
         "title": {
          "font": {
           "color": "#000000",
           "family": "Lato-Italic",
           "size": 14
          },
          "text": "Número de tarifas"
         }
        },
        "yaxis": {
         "anchor": "x",
         "domain": [
          0,
          1
         ],
         "tickfont": {
          "color": "#000000",
          "family": "Lato-Regular",
          "size": 12
         },
         "title": {
          "font": {
           "color": "#000000",
           "family": "Lato-Italic",
           "size": 14
          },
          "text": "Quantidade"
         }
        }
       }
      }
     },
     "metadata": {},
     "output_type": "display_data"
    }
   ],
   "source": [
    "# Selecionando o dado a ser plotado\n",
    "# Retorna um pd.Series com o tamanho de cada lista por linha\n",
    "plot_data = estruturaConsumo_df['leituras'].apply(lambda x : len(x))\n",
    "\n",
    "#\n",
    "px.histogram(\n",
    "\tdata_frame=plot_data,\t    \t\t\t\t\t# Dado a ser plotado\n",
    "\ttitle='Distribuição da quantidade de leituras',\t# Título do gráfico\n",
    "\twidth=800, opacity=0.8\t\t\t\t\t\t\t# Tamanho e alpha da cor\n",
    ").update_traces(\t\t\t\t\t\t\t\t\t\t\t\n",
    "\tmarker_color=SHADES['CYAN'][3], \t\t\t\t# Customização do layput da barra\t\n",
    "\tmarker_line_color=SHADES['CYAN'][6], \n",
    "\tmarker_line_width=1.5,\n",
    ").update_layout(\n",
    "\tshowlegend=False, \t\t\t\t\t\t\t\t# Esconde a legenda\n",
    "\txaxis_title='Número de tarifas',\t\t\t\t# Renomeia título do eixo x \n",
    "\tyaxis_title='Quantidade',\t\t\t\t\t\t# Renomeia título do eixo y \n",
    "\t**LAYOUT_SPECS\t\t\t\t\t\t\t\t\t# Customizações do layout\n",
    ")"
   ]
  },
  {
   "cell_type": "markdown",
   "metadata": {},
   "source": [
    "Para analisar os campos desta coluna *leituras*, vamos normalizar os dados separadamente."
   ]
  },
  {
   "cell_type": "code",
   "execution_count": 11,
   "metadata": {},
   "outputs": [
    {
     "data": {
      "text/html": [
       "<div>\n",
       "<style scoped>\n",
       "    .dataframe tbody tr th:only-of-type {\n",
       "        vertical-align: middle;\n",
       "    }\n",
       "\n",
       "    .dataframe tbody tr th {\n",
       "        vertical-align: top;\n",
       "    }\n",
       "\n",
       "    .dataframe thead th {\n",
       "        text-align: right;\n",
       "    }\n",
       "</style>\n",
       "<table border=\"1\" class=\"dataframe\">\n",
       "  <thead>\n",
       "    <tr style=\"text-align: right;\">\n",
       "      <th></th>\n",
       "      <th>un</th>\n",
       "      <th>posto</th>\n",
       "      <th>medido</th>\n",
       "      <th>faturado</th>\n",
       "      <th>_id.$oid</th>\n",
       "    </tr>\n",
       "  </thead>\n",
       "  <tbody>\n",
       "    <tr>\n",
       "      <th>0</th>\n",
       "      <td>KWH</td>\n",
       "      <td>PONTA</td>\n",
       "      <td>24363</td>\n",
       "      <td>24363</td>\n",
       "      <td>62220ff138b5b03262a806d9</td>\n",
       "    </tr>\n",
       "    <tr>\n",
       "      <th>1</th>\n",
       "      <td>KWH</td>\n",
       "      <td>PONTA</td>\n",
       "      <td>1005</td>\n",
       "      <td>1005</td>\n",
       "      <td>62220ff138b5b03262a806df</td>\n",
       "    </tr>\n",
       "    <tr>\n",
       "      <th>2</th>\n",
       "      <td>KWH</td>\n",
       "      <td>PONTA</td>\n",
       "      <td>1000</td>\n",
       "      <td>1000</td>\n",
       "      <td>62220ff238b5b03262a806e6</td>\n",
       "    </tr>\n",
       "    <tr>\n",
       "      <th>3</th>\n",
       "      <td>KWH</td>\n",
       "      <td>PONTA</td>\n",
       "      <td>1856.97</td>\n",
       "      <td>1856.97</td>\n",
       "      <td>62220ff338b5b03262a806f8</td>\n",
       "    </tr>\n",
       "    <tr>\n",
       "      <th>4</th>\n",
       "      <td>INJ</td>\n",
       "      <td>PONTA</td>\n",
       "      <td>0</td>\n",
       "      <td>1856.97</td>\n",
       "      <td>62220ff338b5b03262a806f9</td>\n",
       "    </tr>\n",
       "  </tbody>\n",
       "</table>\n",
       "</div>"
      ],
      "text/plain": [
       "    un  posto   medido faturado                  _id.$oid\n",
       "0  KWH  PONTA    24363    24363  62220ff138b5b03262a806d9\n",
       "1  KWH  PONTA     1005     1005  62220ff138b5b03262a806df\n",
       "2  KWH  PONTA     1000     1000  62220ff238b5b03262a806e6\n",
       "3  KWH  PONTA  1856.97  1856.97  62220ff338b5b03262a806f8\n",
       "4  INJ  PONTA        0  1856.97  62220ff338b5b03262a806f9"
      ]
     },
     "execution_count": 11,
     "metadata": {},
     "output_type": "execute_result"
    }
   ],
   "source": [
    "leituras_df = pd.json_normalize(\n",
    "\tdf['estruturaConsumo'], \n",
    "\trecord_path=['leituras']\n",
    ")\n",
    "leituras_df.head()"
   ]
  },
  {
   "cell_type": "code",
   "execution_count": 12,
   "metadata": {},
   "outputs": [
    {
     "name": "stdout",
     "output_type": "stream",
     "text": [
      "Labels da coluna \"un\": ['KWH' 'INJ' 'KW' 'ERE' 'DRE' 'KVA' 'ULTP']\n",
      "Labels da coluna \"posto\": ['PONTA' 'FPONTA']\n"
     ]
    }
   ],
   "source": [
    "for coluna in ['un', 'posto']:\n",
    "\tprint(f'Labels da coluna \"{coluna}\": {leituras_df[coluna].unique()}')"
   ]
  },
  {
   "cell_type": "markdown",
   "metadata": {},
   "source": [
    "Por enquanto concluímos quais *features* e *labels* devemos pesquisar para entender melhor o contexto."
   ]
  },
  {
   "cell_type": "markdown",
   "metadata": {},
   "source": [
    "## Analisando a coluna *tarifas*"
   ]
  },
  {
   "cell_type": "code",
   "execution_count": 13,
   "metadata": {},
   "outputs": [
    {
     "data": {
      "text/plain": [
       "0    [{'cci': '0601', 'descricao': 'CONSUMO EM KWH'...\n",
       "1    [{'cci': '0601', 'descricao': 'CONSUMO EM KWH'...\n",
       "2    [{'cci': '0601', 'descricao': 'CONSUMO EM KWH'...\n",
       "3    [{'cci': '0601', 'descricao': 'CONSUMO EM KWH ...\n",
       "4    [{'cci': '0602', 'descricao': 'DEMANDA POTÊNCI...\n",
       "Name: tarifas, dtype: object"
      ]
     },
     "execution_count": 13,
     "metadata": {},
     "output_type": "execute_result"
    }
   ],
   "source": [
    "df['tarifas'][:5]"
   ]
  },
  {
   "cell_type": "markdown",
   "metadata": {},
   "source": [
    "Esta coluna já se difere por ser uma lista contendo mais de um dataframe. Vamos aplicar o gráfico usado anteriormente para visualizar a distribuição do número de tarifas."
   ]
  },
  {
   "cell_type": "code",
   "execution_count": 14,
   "metadata": {},
   "outputs": [
    {
     "data": {
      "application/vnd.plotly.v1+json": {
       "config": {
        "plotlyServerURL": "https://plot.ly"
       },
       "data": [
        {
         "alignmentgroup": "True",
         "bingroup": "x",
         "hovertemplate": "variable=tarifas<br>value=%{x}<br>count=%{y}<extra></extra>",
         "legendgroup": "tarifas",
         "marker": {
          "color": "#FCCB41",
          "line": {
           "color": "#CA5800",
           "width": 1.5
          },
          "opacity": 0.8,
          "pattern": {
           "shape": ""
          }
         },
         "name": "tarifas",
         "offsetgroup": "tarifas",
         "orientation": "v",
         "showlegend": true,
         "type": "histogram",
         "x": [
          4,
          4,
          5,
          9,
          2,
          8,
          8,
          5,
          8,
          4,
          4,
          5,
          9,
          5,
          3,
          5,
          5,
          3,
          4,
          3,
          4,
          5,
          13,
          4,
          3,
          4,
          5,
          5,
          5,
          4,
          5,
          4,
          3,
          4,
          5,
          4,
          3,
          4,
          9,
          2,
          8,
          4,
          4,
          5,
          5,
          8,
          3,
          5,
          3,
          4,
          3,
          3,
          4,
          4,
          4,
          4,
          4,
          13,
          5,
          5,
          3,
          5,
          4,
          5,
          4,
          5,
          5,
          5,
          4,
          3,
          6,
          7,
          7,
          7,
          9,
          7,
          10,
          7,
          10,
          2,
          5,
          8,
          5,
          5,
          5,
          5,
          3,
          3,
          3,
          3,
          3,
          5,
          5,
          3,
          5,
          3,
          3,
          3,
          4,
          5,
          3,
          3,
          7,
          3,
          4,
          7,
          8,
          9,
          5,
          5,
          7,
          6,
          9,
          3,
          2,
          5,
          2,
          2,
          2,
          9,
          2,
          8,
          2,
          2,
          2,
          2,
          8,
          7,
          5,
          5,
          5,
          5,
          2,
          8,
          7,
          2,
          2,
          3,
          6,
          4,
          5,
          3,
          3,
          9,
          6,
          6,
          4,
          2,
          3,
          2,
          3,
          4,
          3,
          4,
          14,
          4,
          4,
          3,
          4,
          2,
          3,
          3
         ],
         "xaxis": "x",
         "yaxis": "y"
        }
       ],
       "layout": {
        "barmode": "relative",
        "hoverlabel": {
         "font": {
          "family": "Lato-Regular",
          "size": 14
         }
        },
        "legend": {
         "font": {
          "color": "#000000",
          "family": "Lato-Regular",
          "size": 13
         },
         "title": {
          "font": {
           "color": "#000000",
           "family": "Lato-Bold",
           "size": 14
          },
          "text": "variable"
         },
         "tracegroupgap": 0
        },
        "showlegend": false,
        "template": {
         "data": {
          "bar": [
           {
            "error_x": {
             "color": "#2a3f5f"
            },
            "error_y": {
             "color": "#2a3f5f"
            },
            "marker": {
             "line": {
              "color": "#E5ECF6",
              "width": 0.5
             },
             "pattern": {
              "fillmode": "overlay",
              "size": 10,
              "solidity": 0.2
             }
            },
            "type": "bar"
           }
          ],
          "barpolar": [
           {
            "marker": {
             "line": {
              "color": "#E5ECF6",
              "width": 0.5
             },
             "pattern": {
              "fillmode": "overlay",
              "size": 10,
              "solidity": 0.2
             }
            },
            "type": "barpolar"
           }
          ],
          "carpet": [
           {
            "aaxis": {
             "endlinecolor": "#2a3f5f",
             "gridcolor": "white",
             "linecolor": "white",
             "minorgridcolor": "white",
             "startlinecolor": "#2a3f5f"
            },
            "baxis": {
             "endlinecolor": "#2a3f5f",
             "gridcolor": "white",
             "linecolor": "white",
             "minorgridcolor": "white",
             "startlinecolor": "#2a3f5f"
            },
            "type": "carpet"
           }
          ],
          "choropleth": [
           {
            "colorbar": {
             "outlinewidth": 0,
             "ticks": ""
            },
            "type": "choropleth"
           }
          ],
          "contour": [
           {
            "colorbar": {
             "outlinewidth": 0,
             "ticks": ""
            },
            "colorscale": [
             [
              0,
              "#0d0887"
             ],
             [
              0.1111111111111111,
              "#46039f"
             ],
             [
              0.2222222222222222,
              "#7201a8"
             ],
             [
              0.3333333333333333,
              "#9c179e"
             ],
             [
              0.4444444444444444,
              "#bd3786"
             ],
             [
              0.5555555555555556,
              "#d8576b"
             ],
             [
              0.6666666666666666,
              "#ed7953"
             ],
             [
              0.7777777777777778,
              "#fb9f3a"
             ],
             [
              0.8888888888888888,
              "#fdca26"
             ],
             [
              1,
              "#f0f921"
             ]
            ],
            "type": "contour"
           }
          ],
          "contourcarpet": [
           {
            "colorbar": {
             "outlinewidth": 0,
             "ticks": ""
            },
            "type": "contourcarpet"
           }
          ],
          "heatmap": [
           {
            "colorbar": {
             "outlinewidth": 0,
             "ticks": ""
            },
            "colorscale": [
             [
              0,
              "#0d0887"
             ],
             [
              0.1111111111111111,
              "#46039f"
             ],
             [
              0.2222222222222222,
              "#7201a8"
             ],
             [
              0.3333333333333333,
              "#9c179e"
             ],
             [
              0.4444444444444444,
              "#bd3786"
             ],
             [
              0.5555555555555556,
              "#d8576b"
             ],
             [
              0.6666666666666666,
              "#ed7953"
             ],
             [
              0.7777777777777778,
              "#fb9f3a"
             ],
             [
              0.8888888888888888,
              "#fdca26"
             ],
             [
              1,
              "#f0f921"
             ]
            ],
            "type": "heatmap"
           }
          ],
          "heatmapgl": [
           {
            "colorbar": {
             "outlinewidth": 0,
             "ticks": ""
            },
            "colorscale": [
             [
              0,
              "#0d0887"
             ],
             [
              0.1111111111111111,
              "#46039f"
             ],
             [
              0.2222222222222222,
              "#7201a8"
             ],
             [
              0.3333333333333333,
              "#9c179e"
             ],
             [
              0.4444444444444444,
              "#bd3786"
             ],
             [
              0.5555555555555556,
              "#d8576b"
             ],
             [
              0.6666666666666666,
              "#ed7953"
             ],
             [
              0.7777777777777778,
              "#fb9f3a"
             ],
             [
              0.8888888888888888,
              "#fdca26"
             ],
             [
              1,
              "#f0f921"
             ]
            ],
            "type": "heatmapgl"
           }
          ],
          "histogram": [
           {
            "marker": {
             "pattern": {
              "fillmode": "overlay",
              "size": 10,
              "solidity": 0.2
             }
            },
            "type": "histogram"
           }
          ],
          "histogram2d": [
           {
            "colorbar": {
             "outlinewidth": 0,
             "ticks": ""
            },
            "colorscale": [
             [
              0,
              "#0d0887"
             ],
             [
              0.1111111111111111,
              "#46039f"
             ],
             [
              0.2222222222222222,
              "#7201a8"
             ],
             [
              0.3333333333333333,
              "#9c179e"
             ],
             [
              0.4444444444444444,
              "#bd3786"
             ],
             [
              0.5555555555555556,
              "#d8576b"
             ],
             [
              0.6666666666666666,
              "#ed7953"
             ],
             [
              0.7777777777777778,
              "#fb9f3a"
             ],
             [
              0.8888888888888888,
              "#fdca26"
             ],
             [
              1,
              "#f0f921"
             ]
            ],
            "type": "histogram2d"
           }
          ],
          "histogram2dcontour": [
           {
            "colorbar": {
             "outlinewidth": 0,
             "ticks": ""
            },
            "colorscale": [
             [
              0,
              "#0d0887"
             ],
             [
              0.1111111111111111,
              "#46039f"
             ],
             [
              0.2222222222222222,
              "#7201a8"
             ],
             [
              0.3333333333333333,
              "#9c179e"
             ],
             [
              0.4444444444444444,
              "#bd3786"
             ],
             [
              0.5555555555555556,
              "#d8576b"
             ],
             [
              0.6666666666666666,
              "#ed7953"
             ],
             [
              0.7777777777777778,
              "#fb9f3a"
             ],
             [
              0.8888888888888888,
              "#fdca26"
             ],
             [
              1,
              "#f0f921"
             ]
            ],
            "type": "histogram2dcontour"
           }
          ],
          "mesh3d": [
           {
            "colorbar": {
             "outlinewidth": 0,
             "ticks": ""
            },
            "type": "mesh3d"
           }
          ],
          "parcoords": [
           {
            "line": {
             "colorbar": {
              "outlinewidth": 0,
              "ticks": ""
             }
            },
            "type": "parcoords"
           }
          ],
          "pie": [
           {
            "automargin": true,
            "type": "pie"
           }
          ],
          "scatter": [
           {
            "marker": {
             "colorbar": {
              "outlinewidth": 0,
              "ticks": ""
             }
            },
            "type": "scatter"
           }
          ],
          "scatter3d": [
           {
            "line": {
             "colorbar": {
              "outlinewidth": 0,
              "ticks": ""
             }
            },
            "marker": {
             "colorbar": {
              "outlinewidth": 0,
              "ticks": ""
             }
            },
            "type": "scatter3d"
           }
          ],
          "scattercarpet": [
           {
            "marker": {
             "colorbar": {
              "outlinewidth": 0,
              "ticks": ""
             }
            },
            "type": "scattercarpet"
           }
          ],
          "scattergeo": [
           {
            "marker": {
             "colorbar": {
              "outlinewidth": 0,
              "ticks": ""
             }
            },
            "type": "scattergeo"
           }
          ],
          "scattergl": [
           {
            "marker": {
             "colorbar": {
              "outlinewidth": 0,
              "ticks": ""
             }
            },
            "type": "scattergl"
           }
          ],
          "scattermapbox": [
           {
            "marker": {
             "colorbar": {
              "outlinewidth": 0,
              "ticks": ""
             }
            },
            "type": "scattermapbox"
           }
          ],
          "scatterpolar": [
           {
            "marker": {
             "colorbar": {
              "outlinewidth": 0,
              "ticks": ""
             }
            },
            "type": "scatterpolar"
           }
          ],
          "scatterpolargl": [
           {
            "marker": {
             "colorbar": {
              "outlinewidth": 0,
              "ticks": ""
             }
            },
            "type": "scatterpolargl"
           }
          ],
          "scatterternary": [
           {
            "marker": {
             "colorbar": {
              "outlinewidth": 0,
              "ticks": ""
             }
            },
            "type": "scatterternary"
           }
          ],
          "surface": [
           {
            "colorbar": {
             "outlinewidth": 0,
             "ticks": ""
            },
            "colorscale": [
             [
              0,
              "#0d0887"
             ],
             [
              0.1111111111111111,
              "#46039f"
             ],
             [
              0.2222222222222222,
              "#7201a8"
             ],
             [
              0.3333333333333333,
              "#9c179e"
             ],
             [
              0.4444444444444444,
              "#bd3786"
             ],
             [
              0.5555555555555556,
              "#d8576b"
             ],
             [
              0.6666666666666666,
              "#ed7953"
             ],
             [
              0.7777777777777778,
              "#fb9f3a"
             ],
             [
              0.8888888888888888,
              "#fdca26"
             ],
             [
              1,
              "#f0f921"
             ]
            ],
            "type": "surface"
           }
          ],
          "table": [
           {
            "cells": {
             "fill": {
              "color": "#EBF0F8"
             },
             "line": {
              "color": "white"
             }
            },
            "header": {
             "fill": {
              "color": "#C8D4E3"
             },
             "line": {
              "color": "white"
             }
            },
            "type": "table"
           }
          ]
         },
         "layout": {
          "annotationdefaults": {
           "arrowcolor": "#2a3f5f",
           "arrowhead": 0,
           "arrowwidth": 1
          },
          "autotypenumbers": "strict",
          "coloraxis": {
           "colorbar": {
            "outlinewidth": 0,
            "ticks": ""
           }
          },
          "colorscale": {
           "diverging": [
            [
             0,
             "#8e0152"
            ],
            [
             0.1,
             "#c51b7d"
            ],
            [
             0.2,
             "#de77ae"
            ],
            [
             0.3,
             "#f1b6da"
            ],
            [
             0.4,
             "#fde0ef"
            ],
            [
             0.5,
             "#f7f7f7"
            ],
            [
             0.6,
             "#e6f5d0"
            ],
            [
             0.7,
             "#b8e186"
            ],
            [
             0.8,
             "#7fbc41"
            ],
            [
             0.9,
             "#4d9221"
            ],
            [
             1,
             "#276419"
            ]
           ],
           "sequential": [
            [
             0,
             "#0d0887"
            ],
            [
             0.1111111111111111,
             "#46039f"
            ],
            [
             0.2222222222222222,
             "#7201a8"
            ],
            [
             0.3333333333333333,
             "#9c179e"
            ],
            [
             0.4444444444444444,
             "#bd3786"
            ],
            [
             0.5555555555555556,
             "#d8576b"
            ],
            [
             0.6666666666666666,
             "#ed7953"
            ],
            [
             0.7777777777777778,
             "#fb9f3a"
            ],
            [
             0.8888888888888888,
             "#fdca26"
            ],
            [
             1,
             "#f0f921"
            ]
           ],
           "sequentialminus": [
            [
             0,
             "#0d0887"
            ],
            [
             0.1111111111111111,
             "#46039f"
            ],
            [
             0.2222222222222222,
             "#7201a8"
            ],
            [
             0.3333333333333333,
             "#9c179e"
            ],
            [
             0.4444444444444444,
             "#bd3786"
            ],
            [
             0.5555555555555556,
             "#d8576b"
            ],
            [
             0.6666666666666666,
             "#ed7953"
            ],
            [
             0.7777777777777778,
             "#fb9f3a"
            ],
            [
             0.8888888888888888,
             "#fdca26"
            ],
            [
             1,
             "#f0f921"
            ]
           ]
          },
          "colorway": [
           "#636efa",
           "#EF553B",
           "#00cc96",
           "#ab63fa",
           "#FFA15A",
           "#19d3f3",
           "#FF6692",
           "#B6E880",
           "#FF97FF",
           "#FECB52"
          ],
          "font": {
           "color": "#2a3f5f"
          },
          "geo": {
           "bgcolor": "white",
           "lakecolor": "white",
           "landcolor": "#E5ECF6",
           "showlakes": true,
           "showland": true,
           "subunitcolor": "white"
          },
          "hoverlabel": {
           "align": "left"
          },
          "hovermode": "closest",
          "mapbox": {
           "style": "light"
          },
          "paper_bgcolor": "white",
          "plot_bgcolor": "#E5ECF6",
          "polar": {
           "angularaxis": {
            "gridcolor": "white",
            "linecolor": "white",
            "ticks": ""
           },
           "bgcolor": "#E5ECF6",
           "radialaxis": {
            "gridcolor": "white",
            "linecolor": "white",
            "ticks": ""
           }
          },
          "scene": {
           "xaxis": {
            "backgroundcolor": "#E5ECF6",
            "gridcolor": "white",
            "gridwidth": 2,
            "linecolor": "white",
            "showbackground": true,
            "ticks": "",
            "zerolinecolor": "white"
           },
           "yaxis": {
            "backgroundcolor": "#E5ECF6",
            "gridcolor": "white",
            "gridwidth": 2,
            "linecolor": "white",
            "showbackground": true,
            "ticks": "",
            "zerolinecolor": "white"
           },
           "zaxis": {
            "backgroundcolor": "#E5ECF6",
            "gridcolor": "white",
            "gridwidth": 2,
            "linecolor": "white",
            "showbackground": true,
            "ticks": "",
            "zerolinecolor": "white"
           }
          },
          "shapedefaults": {
           "line": {
            "color": "#2a3f5f"
           }
          },
          "ternary": {
           "aaxis": {
            "gridcolor": "white",
            "linecolor": "white",
            "ticks": ""
           },
           "baxis": {
            "gridcolor": "white",
            "linecolor": "white",
            "ticks": ""
           },
           "bgcolor": "#E5ECF6",
           "caxis": {
            "gridcolor": "white",
            "linecolor": "white",
            "ticks": ""
           }
          },
          "title": {
           "x": 0.05
          },
          "xaxis": {
           "automargin": true,
           "gridcolor": "white",
           "linecolor": "white",
           "ticks": "",
           "title": {
            "standoff": 15
           },
           "zerolinecolor": "white",
           "zerolinewidth": 2
          },
          "yaxis": {
           "automargin": true,
           "gridcolor": "white",
           "linecolor": "white",
           "ticks": "",
           "title": {
            "standoff": 15
           },
           "zerolinecolor": "white",
           "zerolinewidth": 2
          }
         }
        },
        "title": {
         "font": {
          "color": "#000000",
          "family": "Lato-Bold",
          "size": 18
         },
         "text": "Distribuição da quantidade de tarifas"
        },
        "width": 800,
        "xaxis": {
         "anchor": "y",
         "domain": [
          0,
          1
         ],
         "tickfont": {
          "color": "#000000",
          "family": "Lato-Regular",
          "size": 12
         },
         "title": {
          "font": {
           "color": "#000000",
           "family": "Lato-Italic",
           "size": 14
          },
          "text": "Número de tarifas"
         }
        },
        "yaxis": {
         "anchor": "x",
         "domain": [
          0,
          1
         ],
         "tickfont": {
          "color": "#000000",
          "family": "Lato-Regular",
          "size": 12
         },
         "title": {
          "font": {
           "color": "#000000",
           "family": "Lato-Italic",
           "size": 14
          },
          "text": "Quantidade"
         }
        }
       }
      }
     },
     "metadata": {},
     "output_type": "display_data"
    }
   ],
   "source": [
    "# Selecionando o dado a ser plotado\n",
    "# Retorna um pd.Series com o tamanho de cada lista por linha\n",
    "plot_data = df['tarifas'].apply(lambda x : len(x))\n",
    "# Plotando com plotly express\n",
    "px.histogram(\n",
    "\tdata_frame=plot_data,\t    \t\t\t\t\t# Dado a ser plotado\n",
    "\ttitle='Distribuição da quantidade de tarifas',\t# Título do gráfico\n",
    "\twidth=800, opacity=0.8\t\t\t\t\t\t\t# Tamanho e alpha da cor\n",
    ").update_traces(\t\t\t\t\t\t\t\t\t\t\t\n",
    "\tmarker_color=SHADES['YELLOW'][3], \t\t\t\t# Customização do layout da barra\t\n",
    "\tmarker_line_color=SHADES['YELLOW'][6], \n",
    "\tmarker_line_width=1.5,\n",
    ").update_layout(\n",
    "\tshowlegend=False, \t\t\t\t\t\t\t\t# Esconde a legenda\n",
    "\txaxis_title='Número de tarifas',\t\t\t\t# Renomeia título do eixo x \n",
    "\tyaxis_title='Quantidade',\t\t\t\t\t\t# Renomeia título do eixo y \n",
    "\t**LAYOUT_SPECS\t\t\t\t\t\t\t\t\t# Customizações do layout\n",
    ")"
   ]
  },
  {
   "cell_type": "markdown",
   "metadata": {},
   "source": [
    "A distribuição das tarifas é bem diferente das leituras, portanto podemos questionar qual a relação entre elas, ou seja, se o número de tarifas aplicadas tem correlação entre a quantidade de itens medidos na *estruturaConsumo*."
   ]
  },
  {
   "cell_type": "code",
   "execution_count": 15,
   "metadata": {},
   "outputs": [
    {
     "data": {
      "application/vnd.plotly.v1+json": {
       "config": {
        "plotlyServerURL": "https://plot.ly"
       },
       "data": [
        {
         "hovertemplate": "variable=0<br>index=%{x}<br>value=%{y}<extra></extra>",
         "legendgroup": "0",
         "line": {
          "color": "#1696D2",
          "dash": "solid"
         },
         "marker": {
          "symbol": "circle"
         },
         "mode": "lines",
         "name": "0",
         "orientation": "v",
         "showlegend": true,
         "type": "scatter",
         "x": [
          0,
          1,
          2,
          3,
          4,
          5,
          6,
          7,
          8,
          9,
          10,
          11,
          12,
          13,
          14,
          15,
          16,
          17,
          18,
          19,
          20,
          21,
          22,
          23,
          24,
          25,
          26,
          27,
          28,
          29,
          30,
          31,
          32,
          33,
          34,
          35,
          36,
          37,
          38,
          39,
          40,
          41,
          42,
          43,
          44,
          45,
          46,
          47,
          48,
          49,
          50,
          51,
          52,
          53,
          54,
          55,
          56,
          57,
          58,
          59,
          60,
          61,
          62,
          63,
          64,
          65,
          66,
          67,
          68,
          69,
          70,
          71,
          72,
          73,
          74,
          75,
          76,
          77,
          78,
          79,
          80,
          81,
          82,
          83,
          84,
          85,
          86,
          87,
          88,
          89,
          90,
          91,
          92,
          93,
          94,
          95,
          96,
          97,
          98,
          99,
          100,
          101,
          102,
          103,
          104,
          105,
          106,
          107,
          108,
          109,
          110,
          111,
          112,
          113,
          114,
          115,
          116,
          117,
          118,
          119,
          120,
          121,
          122,
          123,
          124,
          125,
          126,
          127,
          128,
          129,
          130,
          131,
          132,
          133,
          134,
          135,
          136,
          137,
          138,
          139,
          140,
          141,
          142,
          143,
          144,
          145,
          146,
          147,
          148,
          149,
          150,
          151,
          152,
          153,
          154,
          155,
          156,
          157,
          158,
          159,
          160,
          161
         ],
         "xaxis": "x",
         "y": [
          3,
          3,
          4,
          0,
          -2,
          -2,
          0,
          4,
          7,
          3,
          3,
          4,
          6,
          3,
          2,
          4,
          4,
          2,
          3,
          2,
          3,
          4,
          3,
          3,
          2,
          3,
          4,
          4,
          4,
          3,
          4,
          3,
          2,
          3,
          4,
          3,
          2,
          3,
          0,
          -2,
          7,
          3,
          3,
          4,
          3,
          5,
          2,
          4,
          2,
          3,
          2,
          2,
          3,
          3,
          3,
          3,
          3,
          3,
          4,
          4,
          2,
          4,
          3,
          4,
          3,
          4,
          4,
          4,
          3,
          2,
          5,
          6,
          6,
          6,
          0,
          6,
          9,
          6,
          9,
          -2,
          4,
          7,
          4,
          4,
          4,
          4,
          2,
          1,
          2,
          2,
          2,
          4,
          3,
          2,
          4,
          2,
          2,
          1,
          3,
          4,
          2,
          2,
          6,
          2,
          3,
          5,
          7,
          8,
          4,
          4,
          6,
          -2,
          1,
          -2,
          -1,
          0,
          -1,
          -1,
          -2,
          3,
          -1,
          3,
          -1,
          -1,
          -1,
          -1,
          3,
          3,
          3,
          3,
          4,
          -1,
          -1,
          4,
          3,
          -2,
          -2,
          2,
          4,
          3,
          4,
          2,
          -3,
          -1,
          -3,
          0,
          -4,
          1,
          1,
          1,
          2,
          3,
          2,
          3,
          4,
          3,
          3,
          2,
          3,
          1,
          2,
          2
         ],
         "yaxis": "y"
        }
       ],
       "layout": {
        "hoverlabel": {
         "font": {
          "family": "Lato-Regular",
          "size": 14
         }
        },
        "legend": {
         "font": {
          "color": "#000000",
          "family": "Lato-Regular",
          "size": 13
         },
         "title": {
          "font": {
           "color": "#000000",
           "family": "Lato-Bold",
           "size": 14
          },
          "text": "variable"
         },
         "tracegroupgap": 0
        },
        "shapes": [
         {
          "line": {
           "color": "#332D2F"
          },
          "type": "line",
          "x0": 0,
          "x1": 160,
          "y0": 0,
          "y1": 0
         }
        ],
        "showlegend": false,
        "template": {
         "data": {
          "bar": [
           {
            "error_x": {
             "color": "#2a3f5f"
            },
            "error_y": {
             "color": "#2a3f5f"
            },
            "marker": {
             "line": {
              "color": "#E5ECF6",
              "width": 0.5
             },
             "pattern": {
              "fillmode": "overlay",
              "size": 10,
              "solidity": 0.2
             }
            },
            "type": "bar"
           }
          ],
          "barpolar": [
           {
            "marker": {
             "line": {
              "color": "#E5ECF6",
              "width": 0.5
             },
             "pattern": {
              "fillmode": "overlay",
              "size": 10,
              "solidity": 0.2
             }
            },
            "type": "barpolar"
           }
          ],
          "carpet": [
           {
            "aaxis": {
             "endlinecolor": "#2a3f5f",
             "gridcolor": "white",
             "linecolor": "white",
             "minorgridcolor": "white",
             "startlinecolor": "#2a3f5f"
            },
            "baxis": {
             "endlinecolor": "#2a3f5f",
             "gridcolor": "white",
             "linecolor": "white",
             "minorgridcolor": "white",
             "startlinecolor": "#2a3f5f"
            },
            "type": "carpet"
           }
          ],
          "choropleth": [
           {
            "colorbar": {
             "outlinewidth": 0,
             "ticks": ""
            },
            "type": "choropleth"
           }
          ],
          "contour": [
           {
            "colorbar": {
             "outlinewidth": 0,
             "ticks": ""
            },
            "colorscale": [
             [
              0,
              "#0d0887"
             ],
             [
              0.1111111111111111,
              "#46039f"
             ],
             [
              0.2222222222222222,
              "#7201a8"
             ],
             [
              0.3333333333333333,
              "#9c179e"
             ],
             [
              0.4444444444444444,
              "#bd3786"
             ],
             [
              0.5555555555555556,
              "#d8576b"
             ],
             [
              0.6666666666666666,
              "#ed7953"
             ],
             [
              0.7777777777777778,
              "#fb9f3a"
             ],
             [
              0.8888888888888888,
              "#fdca26"
             ],
             [
              1,
              "#f0f921"
             ]
            ],
            "type": "contour"
           }
          ],
          "contourcarpet": [
           {
            "colorbar": {
             "outlinewidth": 0,
             "ticks": ""
            },
            "type": "contourcarpet"
           }
          ],
          "heatmap": [
           {
            "colorbar": {
             "outlinewidth": 0,
             "ticks": ""
            },
            "colorscale": [
             [
              0,
              "#0d0887"
             ],
             [
              0.1111111111111111,
              "#46039f"
             ],
             [
              0.2222222222222222,
              "#7201a8"
             ],
             [
              0.3333333333333333,
              "#9c179e"
             ],
             [
              0.4444444444444444,
              "#bd3786"
             ],
             [
              0.5555555555555556,
              "#d8576b"
             ],
             [
              0.6666666666666666,
              "#ed7953"
             ],
             [
              0.7777777777777778,
              "#fb9f3a"
             ],
             [
              0.8888888888888888,
              "#fdca26"
             ],
             [
              1,
              "#f0f921"
             ]
            ],
            "type": "heatmap"
           }
          ],
          "heatmapgl": [
           {
            "colorbar": {
             "outlinewidth": 0,
             "ticks": ""
            },
            "colorscale": [
             [
              0,
              "#0d0887"
             ],
             [
              0.1111111111111111,
              "#46039f"
             ],
             [
              0.2222222222222222,
              "#7201a8"
             ],
             [
              0.3333333333333333,
              "#9c179e"
             ],
             [
              0.4444444444444444,
              "#bd3786"
             ],
             [
              0.5555555555555556,
              "#d8576b"
             ],
             [
              0.6666666666666666,
              "#ed7953"
             ],
             [
              0.7777777777777778,
              "#fb9f3a"
             ],
             [
              0.8888888888888888,
              "#fdca26"
             ],
             [
              1,
              "#f0f921"
             ]
            ],
            "type": "heatmapgl"
           }
          ],
          "histogram": [
           {
            "marker": {
             "pattern": {
              "fillmode": "overlay",
              "size": 10,
              "solidity": 0.2
             }
            },
            "type": "histogram"
           }
          ],
          "histogram2d": [
           {
            "colorbar": {
             "outlinewidth": 0,
             "ticks": ""
            },
            "colorscale": [
             [
              0,
              "#0d0887"
             ],
             [
              0.1111111111111111,
              "#46039f"
             ],
             [
              0.2222222222222222,
              "#7201a8"
             ],
             [
              0.3333333333333333,
              "#9c179e"
             ],
             [
              0.4444444444444444,
              "#bd3786"
             ],
             [
              0.5555555555555556,
              "#d8576b"
             ],
             [
              0.6666666666666666,
              "#ed7953"
             ],
             [
              0.7777777777777778,
              "#fb9f3a"
             ],
             [
              0.8888888888888888,
              "#fdca26"
             ],
             [
              1,
              "#f0f921"
             ]
            ],
            "type": "histogram2d"
           }
          ],
          "histogram2dcontour": [
           {
            "colorbar": {
             "outlinewidth": 0,
             "ticks": ""
            },
            "colorscale": [
             [
              0,
              "#0d0887"
             ],
             [
              0.1111111111111111,
              "#46039f"
             ],
             [
              0.2222222222222222,
              "#7201a8"
             ],
             [
              0.3333333333333333,
              "#9c179e"
             ],
             [
              0.4444444444444444,
              "#bd3786"
             ],
             [
              0.5555555555555556,
              "#d8576b"
             ],
             [
              0.6666666666666666,
              "#ed7953"
             ],
             [
              0.7777777777777778,
              "#fb9f3a"
             ],
             [
              0.8888888888888888,
              "#fdca26"
             ],
             [
              1,
              "#f0f921"
             ]
            ],
            "type": "histogram2dcontour"
           }
          ],
          "mesh3d": [
           {
            "colorbar": {
             "outlinewidth": 0,
             "ticks": ""
            },
            "type": "mesh3d"
           }
          ],
          "parcoords": [
           {
            "line": {
             "colorbar": {
              "outlinewidth": 0,
              "ticks": ""
             }
            },
            "type": "parcoords"
           }
          ],
          "pie": [
           {
            "automargin": true,
            "type": "pie"
           }
          ],
          "scatter": [
           {
            "marker": {
             "colorbar": {
              "outlinewidth": 0,
              "ticks": ""
             }
            },
            "type": "scatter"
           }
          ],
          "scatter3d": [
           {
            "line": {
             "colorbar": {
              "outlinewidth": 0,
              "ticks": ""
             }
            },
            "marker": {
             "colorbar": {
              "outlinewidth": 0,
              "ticks": ""
             }
            },
            "type": "scatter3d"
           }
          ],
          "scattercarpet": [
           {
            "marker": {
             "colorbar": {
              "outlinewidth": 0,
              "ticks": ""
             }
            },
            "type": "scattercarpet"
           }
          ],
          "scattergeo": [
           {
            "marker": {
             "colorbar": {
              "outlinewidth": 0,
              "ticks": ""
             }
            },
            "type": "scattergeo"
           }
          ],
          "scattergl": [
           {
            "marker": {
             "colorbar": {
              "outlinewidth": 0,
              "ticks": ""
             }
            },
            "type": "scattergl"
           }
          ],
          "scattermapbox": [
           {
            "marker": {
             "colorbar": {
              "outlinewidth": 0,
              "ticks": ""
             }
            },
            "type": "scattermapbox"
           }
          ],
          "scatterpolar": [
           {
            "marker": {
             "colorbar": {
              "outlinewidth": 0,
              "ticks": ""
             }
            },
            "type": "scatterpolar"
           }
          ],
          "scatterpolargl": [
           {
            "marker": {
             "colorbar": {
              "outlinewidth": 0,
              "ticks": ""
             }
            },
            "type": "scatterpolargl"
           }
          ],
          "scatterternary": [
           {
            "marker": {
             "colorbar": {
              "outlinewidth": 0,
              "ticks": ""
             }
            },
            "type": "scatterternary"
           }
          ],
          "surface": [
           {
            "colorbar": {
             "outlinewidth": 0,
             "ticks": ""
            },
            "colorscale": [
             [
              0,
              "#0d0887"
             ],
             [
              0.1111111111111111,
              "#46039f"
             ],
             [
              0.2222222222222222,
              "#7201a8"
             ],
             [
              0.3333333333333333,
              "#9c179e"
             ],
             [
              0.4444444444444444,
              "#bd3786"
             ],
             [
              0.5555555555555556,
              "#d8576b"
             ],
             [
              0.6666666666666666,
              "#ed7953"
             ],
             [
              0.7777777777777778,
              "#fb9f3a"
             ],
             [
              0.8888888888888888,
              "#fdca26"
             ],
             [
              1,
              "#f0f921"
             ]
            ],
            "type": "surface"
           }
          ],
          "table": [
           {
            "cells": {
             "fill": {
              "color": "#EBF0F8"
             },
             "line": {
              "color": "white"
             }
            },
            "header": {
             "fill": {
              "color": "#C8D4E3"
             },
             "line": {
              "color": "white"
             }
            },
            "type": "table"
           }
          ]
         },
         "layout": {
          "annotationdefaults": {
           "arrowcolor": "#2a3f5f",
           "arrowhead": 0,
           "arrowwidth": 1
          },
          "autotypenumbers": "strict",
          "coloraxis": {
           "colorbar": {
            "outlinewidth": 0,
            "ticks": ""
           }
          },
          "colorscale": {
           "diverging": [
            [
             0,
             "#8e0152"
            ],
            [
             0.1,
             "#c51b7d"
            ],
            [
             0.2,
             "#de77ae"
            ],
            [
             0.3,
             "#f1b6da"
            ],
            [
             0.4,
             "#fde0ef"
            ],
            [
             0.5,
             "#f7f7f7"
            ],
            [
             0.6,
             "#e6f5d0"
            ],
            [
             0.7,
             "#b8e186"
            ],
            [
             0.8,
             "#7fbc41"
            ],
            [
             0.9,
             "#4d9221"
            ],
            [
             1,
             "#276419"
            ]
           ],
           "sequential": [
            [
             0,
             "#0d0887"
            ],
            [
             0.1111111111111111,
             "#46039f"
            ],
            [
             0.2222222222222222,
             "#7201a8"
            ],
            [
             0.3333333333333333,
             "#9c179e"
            ],
            [
             0.4444444444444444,
             "#bd3786"
            ],
            [
             0.5555555555555556,
             "#d8576b"
            ],
            [
             0.6666666666666666,
             "#ed7953"
            ],
            [
             0.7777777777777778,
             "#fb9f3a"
            ],
            [
             0.8888888888888888,
             "#fdca26"
            ],
            [
             1,
             "#f0f921"
            ]
           ],
           "sequentialminus": [
            [
             0,
             "#0d0887"
            ],
            [
             0.1111111111111111,
             "#46039f"
            ],
            [
             0.2222222222222222,
             "#7201a8"
            ],
            [
             0.3333333333333333,
             "#9c179e"
            ],
            [
             0.4444444444444444,
             "#bd3786"
            ],
            [
             0.5555555555555556,
             "#d8576b"
            ],
            [
             0.6666666666666666,
             "#ed7953"
            ],
            [
             0.7777777777777778,
             "#fb9f3a"
            ],
            [
             0.8888888888888888,
             "#fdca26"
            ],
            [
             1,
             "#f0f921"
            ]
           ]
          },
          "colorway": [
           "#636efa",
           "#EF553B",
           "#00cc96",
           "#ab63fa",
           "#FFA15A",
           "#19d3f3",
           "#FF6692",
           "#B6E880",
           "#FF97FF",
           "#FECB52"
          ],
          "font": {
           "color": "#2a3f5f"
          },
          "geo": {
           "bgcolor": "white",
           "lakecolor": "white",
           "landcolor": "#E5ECF6",
           "showlakes": true,
           "showland": true,
           "subunitcolor": "white"
          },
          "hoverlabel": {
           "align": "left"
          },
          "hovermode": "closest",
          "mapbox": {
           "style": "light"
          },
          "paper_bgcolor": "white",
          "plot_bgcolor": "#E5ECF6",
          "polar": {
           "angularaxis": {
            "gridcolor": "white",
            "linecolor": "white",
            "ticks": ""
           },
           "bgcolor": "#E5ECF6",
           "radialaxis": {
            "gridcolor": "white",
            "linecolor": "white",
            "ticks": ""
           }
          },
          "scene": {
           "xaxis": {
            "backgroundcolor": "#E5ECF6",
            "gridcolor": "white",
            "gridwidth": 2,
            "linecolor": "white",
            "showbackground": true,
            "ticks": "",
            "zerolinecolor": "white"
           },
           "yaxis": {
            "backgroundcolor": "#E5ECF6",
            "gridcolor": "white",
            "gridwidth": 2,
            "linecolor": "white",
            "showbackground": true,
            "ticks": "",
            "zerolinecolor": "white"
           },
           "zaxis": {
            "backgroundcolor": "#E5ECF6",
            "gridcolor": "white",
            "gridwidth": 2,
            "linecolor": "white",
            "showbackground": true,
            "ticks": "",
            "zerolinecolor": "white"
           }
          },
          "shapedefaults": {
           "line": {
            "color": "#2a3f5f"
           }
          },
          "ternary": {
           "aaxis": {
            "gridcolor": "white",
            "linecolor": "white",
            "ticks": ""
           },
           "baxis": {
            "gridcolor": "white",
            "linecolor": "white",
            "ticks": ""
           },
           "bgcolor": "#E5ECF6",
           "caxis": {
            "gridcolor": "white",
            "linecolor": "white",
            "ticks": ""
           }
          },
          "title": {
           "x": 0.05
          },
          "xaxis": {
           "automargin": true,
           "gridcolor": "white",
           "linecolor": "white",
           "ticks": "",
           "title": {
            "standoff": 15
           },
           "zerolinecolor": "white",
           "zerolinewidth": 2
          },
          "yaxis": {
           "automargin": true,
           "gridcolor": "white",
           "linecolor": "white",
           "ticks": "",
           "title": {
            "standoff": 15
           },
           "zerolinecolor": "white",
           "zerolinewidth": 2
          }
         }
        },
        "title": {
         "font": {
          "color": "#000000",
          "family": "Lato-Bold",
          "size": 18
         },
         "text": "Diferença entre # de tarifas e medições na estruturaConsumo<br>\t<sup>p = 0.4979</sup>"
        },
        "width": 800,
        "xaxis": {
         "anchor": "y",
         "domain": [
          0,
          1
         ],
         "tickfont": {
          "color": "#000000",
          "family": "Lato-Regular",
          "size": 12
         },
         "title": {
          "font": {
           "color": "#000000",
           "family": "Lato-Italic",
           "size": 14
          },
          "text": "Índice da Fatura"
         }
        },
        "yaxis": {
         "anchor": "x",
         "domain": [
          0,
          1
         ],
         "tickfont": {
          "color": "#000000",
          "family": "Lato-Regular",
          "size": 12
         },
         "title": {
          "font": {
           "color": "#000000",
           "family": "Lato-Italic",
           "size": 14
          },
          "text": "Diferença"
         }
        }
       }
      }
     },
     "metadata": {},
     "output_type": "display_data"
    }
   ],
   "source": [
    "# Calculando a diferença entre quantidade de tarifas e quantidade\n",
    "# de medições feitas na estruturaConsumo de uma fatura\n",
    "dist_tarifas = df['tarifas'].apply(lambda x : len(x))\n",
    "dist_leituras = estruturaConsumo_df['leituras'].apply(lambda x : len(x))\n",
    "plot_data = dist_tarifas - dist_leituras\n",
    "p_corr = dist_tarifas.corr(dist_leituras)\n",
    "\n",
    "px.line(\n",
    "\tdata_frame = plot_data,\t\t\t\t\t\t\t# Dado a ser plotado\n",
    "\ttitle=f'Diferença entre # de tarifas\\\n",
    " e medições na estruturaConsumo<br>\\\n",
    "\t<sup>p = {p_corr:.4f}</sup>', \t\t\t\t\t# Título do gráfico\n",
    "\tcolor_discrete_sequence=[SHADES['CYAN'][4]], \t# Cor da linha\n",
    "\twidth=800, \t\t\t\t\t\t\t\t\t \t# Tamanho \n",
    ").add_shape(\n",
    "\ttype='line', x0=0, y0=0, x1=160, y1=0, \t\t\t # Desenha uma linha horizontal\n",
    "\tline_color=SHADES['GRAY'][4]\n",
    ").update_layout(\n",
    "\tshowlegend=False, \t\t\t\t\t\t\t \t # Esconde a legenda\n",
    "\txaxis_title='Índice da Fatura',\t\t\t\t     # Renomeia título do eixo x \n",
    "\tyaxis_title='Diferença',\t\t\t\t\t\t # Renomeia título do eixo y \n",
    "\t**LAYOUT_SPECS\t\t\t\t\t\t\t\t\t # Customizações do layout\n",
    ")"
   ]
  },
  {
   "cell_type": "markdown",
   "metadata": {},
   "source": [
    "Essa diferença possue uma leve correlação positiva, mas em alguns casos há mais quantidades de medições do que tarifas aplicadas na fatura.   \n",
    "  \n",
    "Agora vamos analisar quais os campos da coluna *tarifas*. Neste caso iremos utilizar a normalização através dos dados carregados pela biblioteca `json`"
   ]
  },
  {
   "cell_type": "code",
   "execution_count": 16,
   "metadata": {},
   "outputs": [
    {
     "name": "stdout",
     "output_type": "stream",
     "text": [
      "cci               object\n",
      "descricao         object\n",
      "quantidade       float64\n",
      "semTributos      float64\n",
      "comTributos      float64\n",
      "valorTotal       float64\n",
      "baseIcms         float64\n",
      "aliqIcms         float64\n",
      "icms             float64\n",
      "basePisCofins    float64\n",
      "pis              float64\n",
      "cofins           float64\n",
      "_id.$oid          object\n",
      "dtype: object\n"
     ]
    },
    {
     "data": {
      "text/html": [
       "<div>\n",
       "<style scoped>\n",
       "    .dataframe tbody tr th:only-of-type {\n",
       "        vertical-align: middle;\n",
       "    }\n",
       "\n",
       "    .dataframe tbody tr th {\n",
       "        vertical-align: top;\n",
       "    }\n",
       "\n",
       "    .dataframe thead th {\n",
       "        text-align: right;\n",
       "    }\n",
       "</style>\n",
       "<table border=\"1\" class=\"dataframe\">\n",
       "  <thead>\n",
       "    <tr style=\"text-align: right;\">\n",
       "      <th></th>\n",
       "      <th>cci</th>\n",
       "      <th>descricao</th>\n",
       "      <th>quantidade</th>\n",
       "      <th>semTributos</th>\n",
       "      <th>comTributos</th>\n",
       "      <th>valorTotal</th>\n",
       "      <th>baseIcms</th>\n",
       "      <th>aliqIcms</th>\n",
       "      <th>icms</th>\n",
       "      <th>basePisCofins</th>\n",
       "      <th>pis</th>\n",
       "      <th>cofins</th>\n",
       "      <th>_id.$oid</th>\n",
       "    </tr>\n",
       "  </thead>\n",
       "  <tbody>\n",
       "    <tr>\n",
       "      <th>0</th>\n",
       "      <td>0601</td>\n",
       "      <td>CONSUMO EM KWH</td>\n",
       "      <td>24363.0</td>\n",
       "      <td>0.6835</td>\n",
       "      <td>0.85548</td>\n",
       "      <td>20842.28</td>\n",
       "      <td>20842.28</td>\n",
       "      <td>17.0</td>\n",
       "      <td>3543.18</td>\n",
       "      <td>17299.10</td>\n",
       "      <td>115.40</td>\n",
       "      <td>531.58</td>\n",
       "      <td>62220ff138b5b03262a806d5</td>\n",
       "    </tr>\n",
       "    <tr>\n",
       "      <th>1</th>\n",
       "      <td>0601</td>\n",
       "      <td>ENERGIA ATV INJETADA OUC 02/2022 MPT</td>\n",
       "      <td>12429.0</td>\n",
       "      <td>0.6835</td>\n",
       "      <td>0.76897</td>\n",
       "      <td>-9557.65</td>\n",
       "      <td>-4308.07</td>\n",
       "      <td>17.0</td>\n",
       "      <td>-732.37</td>\n",
       "      <td>-8825.28</td>\n",
       "      <td>-58.87</td>\n",
       "      <td>-271.19</td>\n",
       "      <td>62220ff138b5b03262a806d6</td>\n",
       "    </tr>\n",
       "    <tr>\n",
       "      <th>2</th>\n",
       "      <td>0601</td>\n",
       "      <td>ADIC. B. VERMELHA</td>\n",
       "      <td>0.0</td>\n",
       "      <td>0.0000</td>\n",
       "      <td>0.00000</td>\n",
       "      <td>2121.05</td>\n",
       "      <td>2121.05</td>\n",
       "      <td>17.0</td>\n",
       "      <td>360.58</td>\n",
       "      <td>1760.47</td>\n",
       "      <td>11.74</td>\n",
       "      <td>54.09</td>\n",
       "      <td>62220ff138b5b03262a806d7</td>\n",
       "    </tr>\n",
       "  </tbody>\n",
       "</table>\n",
       "</div>"
      ],
      "text/plain": [
       "    cci                             descricao  quantidade  semTributos  \\\n",
       "0  0601                        CONSUMO EM KWH     24363.0       0.6835   \n",
       "1  0601  ENERGIA ATV INJETADA OUC 02/2022 MPT     12429.0       0.6835   \n",
       "2  0601                     ADIC. B. VERMELHA         0.0       0.0000   \n",
       "\n",
       "   comTributos  valorTotal  baseIcms  aliqIcms     icms  basePisCofins  \\\n",
       "0      0.85548    20842.28  20842.28      17.0  3543.18       17299.10   \n",
       "1      0.76897    -9557.65  -4308.07      17.0  -732.37       -8825.28   \n",
       "2      0.00000     2121.05   2121.05      17.0   360.58        1760.47   \n",
       "\n",
       "      pis  cofins                  _id.$oid  \n",
       "0  115.40  531.58  62220ff138b5b03262a806d5  \n",
       "1  -58.87 -271.19  62220ff138b5b03262a806d6  \n",
       "2   11.74   54.09  62220ff138b5b03262a806d7  "
      ]
     },
     "execution_count": 16,
     "metadata": {},
     "output_type": "execute_result"
    }
   ],
   "source": [
    "# Achatando os dados da coluna tarifas\n",
    "tarifas_df = pd.json_normalize(\n",
    "\tjson_data,\t\t\t\t\t# Dado carregado com json\n",
    "\trecord_path=['tarifas']\t# Caminho com os dados para normalizar\n",
    ")\n",
    "print(tarifas_df.dtypes)\n",
    "tarifas_df.head(3)"
   ]
  },
  {
   "cell_type": "markdown",
   "metadata": {},
   "source": [
    "Desta vez o formato dos arquivos foram carregados corretamente. Por último vamos analisar quais são as categorias para as colunas *cci* e *descricao*.  "
   ]
  },
  {
   "cell_type": "code",
   "execution_count": 17,
   "metadata": {},
   "outputs": [
    {
     "name": "stdout",
     "output_type": "stream",
     "text": [
      "Categorias para cci: ['0601' '0807' '0904' '0602' '0999' '0899' '0603' '0805' '0804' '0610'\n",
      " '0906' '0806']\n"
     ]
    }
   ],
   "source": [
    "print(f\"Categorias para cci: {tarifas_df['cci'].unique()}\")"
   ]
  },
  {
   "cell_type": "code",
   "execution_count": 18,
   "metadata": {},
   "outputs": [
    {
     "name": "stdout",
     "output_type": "stream",
     "text": [
      "Categorias para descricao: ['CONSUMO EM KWH' 'ENERGIA ATV INJETADA OUC 02/2022 MPT'\n",
      " 'ADIC. B. VERMELHA' 'CONTRIB DE ILUM PUB'\n",
      " 'COMPENS. P/INDICADOR-FIC ANUAL 12/2021' 'CONSUMO EM KWH - PONTA'\n",
      " 'ENERGIA ATV INJETADA OUC 2/2022 MPT' 'CONSUMO EM KWH - FORA PONTA'\n",
      " 'ENERGIA REATIVA EXCED EM KWH - FPONTA'\n",
      " 'DEMANDA DE POTÊNCIA MEDIDA - FORA PONTA'\n",
      " 'DEMANDA POTÊNCIA NÃO CONSUMIDA - F PONTA'\n",
      " 'DEV. DE ICMS JUDICIAL ( - ): ISENÇÃO ICMS S/ TUSD'\n",
      " 'ENERGIA REATIVA EXCED EM KWH - PONTA' 'DIF. CUSTO DISP. RES. 482.'\n",
      " 'ENERGIA ATV INJETADA OUC 03/2022 MPT' 'CREDITO ANTERIOR 02/2022'\n",
      " 'DEV. DE ICMS JUDICIAL ( - ) : ISENÇÃO ICMS S/ TUSD'\n",
      " 'DIF.CREDITO A DEVOLVER 03/2022' 'ENERGIA ATV INJETADA MUC 12/2021 MPT'\n",
      " 'ENERGIA ATV INJETADA OUC 3/2022 MPT' 'ENERGIA REATIVA EXCED EM KWH'\n",
      " 'CUSTO DE DISPONIBILIDADE' 'ENERGIA ATV INJETADA MUC 1/2022 MPT'\n",
      " 'DEMANDA DE POTÊNCIA MEDIDA - PONTA'\n",
      " 'DEMANDA POTÊNCIA NÃO CONSUMIDA - PONTA'\n",
      " 'DEMANDA POTÊNCIA REATIVA EXCEDENTE PONTA'\n",
      " 'DEMANDA POTÊNCIA REATIVA EXCED - F PONTA'\n",
      " 'COMPENSACAO POR INDICADOR -DIC 01/2022'\n",
      " 'ENERGIA ATV INJETADA OUC 04/2022 MPT' 'CREDITO ANTERIOR 03/2022'\n",
      " 'DIF.CREDITO A DEVOLVER 04/2022' 'DEV. ICMS JUD. TUSD INJET( - )'\n",
      " 'ENERGIA ATV INJETADA OUC 4/2022 MPT'\n",
      " 'ATUALIZAÇÃO MONET COMP INDIC. 01/2019'\n",
      " 'ATUALIZAÇÃO MONET COMP INDIC. 03/2019' 'CUSTO DE VISTORIA 04/2022'\n",
      " 'ATUALIZAÇÃO MONET COMP INDIC. 10/2019'\n",
      " 'ATUALIZAÇÃO MONET COMP INDIC. 12/2019'\n",
      " 'COMPENSACAO POR INDICADOR -DIC 01/2019' 'MULTA 03/2022'\n",
      " 'JUROS DE MORA 03/2022' 'COMPENSACAO POR INDICADOR -DIC 10/2019'\n",
      " 'COMP. INDICADOR-DIC TRIMESTRAL 03/2019'\n",
      " 'COMPENSACAO POR INDICADOR -DIC 02/2019'\n",
      " 'ATUALIZAÇÃO MONET COMP INDIC. 02/2019'\n",
      " 'ENERGIA ATV INJETADA OUC 05/2022 MPT'\n",
      " 'ENERGIA ATV INJETADA MUC 11/2021 MPT' 'CREDITO ANTERIOR 04/2022'\n",
      " 'ENERGIA ATV INJETADA MUC 04/2022 MPT'\n",
      " 'CUSTO DE EMISSÃO DE 2ª VIA 12/2015'\n",
      " 'INDEN VIOL PZO SOLUCAO RECLAM 03/2016' 'DIF.CREDITO A DEVOLVER 01/2022'\n",
      " 'JUROS DE MORA 01/2022' 'MULTA 01/2022' 'CREDITO ANTERIOR 01/2022'\n",
      " 'INDENIZ VIOL.PZO REL.AREA RUR 12/2021' 'DIF.CREDITO A DEVOLVER 02/2022'\n",
      " 'SUBSÍDIO' 'DEVOLUÇÃO SUBSÍDIO' 'ATUALIZAÇÃO MONET COMP INDIC. 09/2019'\n",
      " 'ENERGIA ATV INJETADA - FORA PONTA' 'ENERGIA ATV INJETADA - PONTA'\n",
      " 'RECEBIMENTO A MENOR 04/2022' 'JUROS DE MORA 04/2022' 'MULTA 04/2022'\n",
      " 'DEMANDA POTÊNCIA ATIVA - ULTRAP - F PONTA' 'JUROS DE MORA 12/2020'\n",
      " 'MULTA 12/2020' 'JUROS DE MORA 02/2020' 'MULTA 02/2020'\n",
      " 'JUROS DE MORA 12/2019' 'MULTA 12/2019' 'ATUALIZAÇÃO MONETÁRIA 12/2019'\n",
      " 'JUROS DE MORA 01/2020' 'MULTA 01/2020' 'ATUALIZAÇÃO MONETÁRIA 01/2020'\n",
      " 'JUROS DE MORA 04/2020' 'MULTA 04/2020' 'ATUALIZAÇÃO MONETÁRIA 04/2020'\n",
      " 'JUROS DE MORA 05/2020' 'MULTA 05/2020' 'ATUALIZAÇÃO MONETÁRIA 05/2020'\n",
      " 'JUROS DE MORA 06/2020' 'MULTA 06/2020' 'ATUALIZAÇÃO MONETÁRIA 06/2020'\n",
      " 'JUROS DE MORA 07/2020' 'MULTA 07/2020' 'ATUALIZAÇÃO MONETÁRIA 07/2020'\n",
      " 'JUROS DE MORA 12/2021' 'MULTA 12/2021' 'JUROS DE MORA 03/2020'\n",
      " 'MULTA 03/2020' 'ATUALIZAÇÃO MONETÁRIA 03/2020'\n",
      " 'ENERGIA ATV INJETADA OUC 5/2022 MPT'\n",
      " 'ENERGIA ATV INJETADA MUC 1/2022 OPT']\n"
     ]
    }
   ],
   "source": [
    "print(f\"Categorias para descricao: {tarifas_df['descricao'].unique()}\")"
   ]
  },
  {
   "cell_type": "markdown",
   "metadata": {},
   "source": [
    "# 4. <span id='item4'> Descrição das *features*"
   ]
  },
  {
   "cell_type": "markdown",
   "metadata": {},
   "source": [
    "Após esta breve visualização de como os dados estão estruturados, vamos entender melhor o significado das *features* e *labels* encontradas, para conseguir elaborar perguntas que irão definir o rumo da análise.  \n",
    "  \n",
    "As informacões a seguir foram retiradas através de consultas no site da [Energisa](https://www.energisa.com.br/) e da [Agência Nacional de Energia Elétrica (ANEEL)](https://www.gov.br/aneel/pt-br/centrais-de-conteudos/glossario)."
   ]
  },
  {
   "cell_type": "markdown",
   "metadata": {},
   "source": [
    "### Termos gerais\n",
    "\n",
    "**Consumo**: Quantidade de energia consumida em um mês, em KWH.  \n",
    "**Demanda**: Potência ativa a ser obrigatória e continuamente disponibilizada pela distribuidora, em KW.  \n",
    "\n",
    "**Postos tarifários**  \n",
    "Períodos de tempo do dia definidos pela distribuidora.  \n",
    "- Ponta: 3 horas consecutivas, onde o consumo de energia pela rede é maior.\n",
    "A tarifa nesse período é mais cara.\n",
    "- Fora de Ponta: demais horas do dia, a tarifa é mais barata.  \n",
    "\n",
    "**TE**: Tarifa de Energia (KWh)  \n",
    "**TUSD**: Tarifa de Uso do Sistema de Distribuição  \n",
    "\n",
    "**Energia consumida**: parcelas $TE$ e $TUSD_{energia}$ em $R$/KWh$  \n",
    "**Demanda contratada**: apenas a parcela $TUSD_{demanda}$ em $R$/KW$  \n",
    "  \n",
    "<font color='#1696D2'>*Tarifa Azul*\n",
    "- $TUSD_{energia}$ única\n",
    "- $TUSD_{demanda}$ Ponta/FPonta\n",
    "- $TE$ Ponta/FPonta</font>  \n",
    "\n",
    "<font color='#55B748'>*Tarifa Verde*\n",
    "- $TUSD_{energia}$ Ponta/FPonta\n",
    "- $TUSD_{demanda}$ única\n",
    "- $TE$ Ponta/FPonta</font>  \n",
    "\n",
    "Em resumo, a tarifa azul é mais atraente para locais que tem a necessidade de consumir mais energia no período de Ponta, pois dependendo da consecionária, a tarifa $TUSD_{energia}$ única costuma ser igual a $TUSD_{energia}$ FPonta. Por outro lado, a tarifa verde é interessante para locais que conseguem economizar energia no período de Ponta ou que necessitem de uma demanda maior."
   ]
  },
  {
   "cell_type": "markdown",
   "metadata": {},
   "source": [
    "  ### Signifcado das labels do campo *leituras*:  \n",
    "\n",
    "- KWH: Consumo, $TUSD_{energia}$\n",
    "- KW: Demanda de potência medida, $TUSD_{demanda}$\n",
    "- KVA: Energia reativa, [cobrada caso fator de potência < 0.92](http://www2.aneel.gov.br/aplicacoes/audiencia/arquivo/2012/065/resultado/ren2013569.pdf)  \n",
    "- ERE: Energia reativa excedente  \n",
    "- DRE: Demanda reativa excedente  \n",
    "- INJ: Quantidade de energia elétrica injetada nas redes do sistema  \n",
    "- ULTP: Ultrapasagem da demanda contratada"
   ]
  },
  {
   "cell_type": "markdown",
   "metadata": {},
   "source": [
    "### Visualizando as labels mais comuns da coluna *descricao* em *tarifas*"
   ]
  },
  {
   "cell_type": "code",
   "execution_count": 19,
   "metadata": {},
   "outputs": [],
   "source": [
    "# Seleciona apenas descrições com os termos mais comuns\n",
    "query = tarifas_df[tarifas_df['descricao'].str.contains('CONSUMO|ENERGIA|DEMANDA|MULTA')]\n",
    "# Excluí os valores numéricos (datas)\n",
    "query_results = query['descricao'].apply(lambda x : ' '.join([char for char in x.split() if char.isalpha()]))"
   ]
  },
  {
   "cell_type": "code",
   "execution_count": 20,
   "metadata": {},
   "outputs": [
    {
     "data": {
      "application/vnd.plotly.v1+json": {
       "config": {
        "plotlyServerURL": "https://plot.ly"
       },
       "data": [
        {
         "alignmentgroup": "True",
         "bingroup": "y",
         "hovertemplate": "classe=MULTA<br>count=%{x}<br>descricao=%{y}<extra></extra>",
         "legendgroup": "MULTA",
         "marker": {
          "color": "#000000",
          "line": {
           "color": "#1A1717",
           "width": 1.5
          },
          "opacity": 0.8,
          "pattern": {
           "shape": ""
          }
         },
         "name": "MULTA",
         "offsetgroup": "MULTA",
         "orientation": "h",
         "showlegend": true,
         "type": "histogram",
         "xaxis": "x",
         "y": [
          "MULTA",
          "MULTA",
          "MULTA",
          "MULTA",
          "MULTA",
          "MULTA",
          "MULTA",
          "MULTA",
          "MULTA",
          "MULTA",
          "MULTA",
          "MULTA",
          "MULTA",
          "MULTA",
          "MULTA",
          "MULTA",
          "MULTA",
          "MULTA"
         ],
         "yaxis": "y"
        },
        {
         "alignmentgroup": "True",
         "bingroup": "y",
         "hovertemplate": "classe=ENERGIA<br>count=%{x}<br>descricao=%{y}<extra></extra>",
         "legendgroup": "ENERGIA",
         "marker": {
          "color": "#d2d2d2",
          "line": {
           "color": "#1A1717",
           "width": 1.5
          },
          "opacity": 0.8,
          "pattern": {
           "shape": ""
          }
         },
         "name": "ENERGIA",
         "offsetgroup": "ENERGIA",
         "orientation": "h",
         "showlegend": true,
         "type": "histogram",
         "xaxis": "x",
         "y": [
          "ENERGIA REATIVA EXCED EM KWH PONTA",
          "ENERGIA REATIVA EXCED EM KWH PONTA",
          "ENERGIA REATIVA EXCED EM KWH PONTA",
          "ENERGIA REATIVA EXCED EM KWH PONTA",
          "ENERGIA REATIVA EXCED EM KWH PONTA",
          "ENERGIA REATIVA EXCED EM KWH PONTA",
          "ENERGIA REATIVA EXCED EM KWH PONTA",
          "ENERGIA REATIVA EXCED EM KWH PONTA",
          "ENERGIA REATIVA EXCED EM KWH PONTA",
          "ENERGIA REATIVA EXCED EM KWH FPONTA",
          "ENERGIA REATIVA EXCED EM KWH FPONTA",
          "ENERGIA REATIVA EXCED EM KWH FPONTA",
          "ENERGIA REATIVA EXCED EM KWH FPONTA",
          "ENERGIA REATIVA EXCED EM KWH FPONTA",
          "ENERGIA REATIVA EXCED EM KWH FPONTA",
          "ENERGIA REATIVA EXCED EM KWH FPONTA",
          "ENERGIA REATIVA EXCED EM KWH FPONTA",
          "ENERGIA REATIVA EXCED EM KWH FPONTA",
          "ENERGIA REATIVA EXCED EM KWH FPONTA",
          "ENERGIA REATIVA EXCED EM KWH FPONTA",
          "ENERGIA REATIVA EXCED EM KWH FPONTA",
          "ENERGIA REATIVA EXCED EM KWH FPONTA",
          "ENERGIA REATIVA EXCED EM KWH FPONTA",
          "ENERGIA REATIVA EXCED EM KWH FPONTA",
          "ENERGIA REATIVA EXCED EM KWH FPONTA",
          "ENERGIA REATIVA EXCED EM KWH FPONTA",
          "ENERGIA REATIVA EXCED EM KWH FPONTA",
          "ENERGIA REATIVA EXCED EM KWH FPONTA",
          "ENERGIA REATIVA EXCED EM KWH",
          "ENERGIA REATIVA EXCED EM KWH",
          "ENERGIA ATV INJETADA PONTA",
          "ENERGIA ATV INJETADA PONTA",
          "ENERGIA ATV INJETADA PONTA",
          "ENERGIA ATV INJETADA OUC MPT",
          "ENERGIA ATV INJETADA OUC MPT",
          "ENERGIA ATV INJETADA OUC MPT",
          "ENERGIA ATV INJETADA OUC MPT",
          "ENERGIA ATV INJETADA OUC MPT",
          "ENERGIA ATV INJETADA OUC MPT",
          "ENERGIA ATV INJETADA OUC MPT",
          "ENERGIA ATV INJETADA OUC MPT",
          "ENERGIA ATV INJETADA OUC MPT",
          "ENERGIA ATV INJETADA OUC MPT",
          "ENERGIA ATV INJETADA OUC MPT",
          "ENERGIA ATV INJETADA OUC MPT",
          "ENERGIA ATV INJETADA OUC MPT",
          "ENERGIA ATV INJETADA OUC MPT",
          "ENERGIA ATV INJETADA OUC MPT",
          "ENERGIA ATV INJETADA OUC MPT",
          "ENERGIA ATV INJETADA OUC MPT",
          "ENERGIA ATV INJETADA OUC MPT",
          "ENERGIA ATV INJETADA OUC MPT",
          "ENERGIA ATV INJETADA OUC MPT",
          "ENERGIA ATV INJETADA OUC MPT",
          "ENERGIA ATV INJETADA OUC MPT",
          "ENERGIA ATV INJETADA OUC MPT",
          "ENERGIA ATV INJETADA OUC MPT",
          "ENERGIA ATV INJETADA OUC MPT",
          "ENERGIA ATV INJETADA OUC MPT",
          "ENERGIA ATV INJETADA OUC MPT",
          "ENERGIA ATV INJETADA OUC MPT",
          "ENERGIA ATV INJETADA OUC MPT",
          "ENERGIA ATV INJETADA OUC MPT",
          "ENERGIA ATV INJETADA OUC MPT",
          "ENERGIA ATV INJETADA OUC MPT",
          "ENERGIA ATV INJETADA OUC MPT",
          "ENERGIA ATV INJETADA OUC MPT",
          "ENERGIA ATV INJETADA OUC MPT",
          "ENERGIA ATV INJETADA OUC MPT",
          "ENERGIA ATV INJETADA OUC MPT",
          "ENERGIA ATV INJETADA OUC MPT",
          "ENERGIA ATV INJETADA OUC MPT",
          "ENERGIA ATV INJETADA OUC MPT",
          "ENERGIA ATV INJETADA OUC MPT",
          "ENERGIA ATV INJETADA OUC MPT",
          "ENERGIA ATV INJETADA OUC MPT",
          "ENERGIA ATV INJETADA OUC MPT",
          "ENERGIA ATV INJETADA OUC MPT",
          "ENERGIA ATV INJETADA OUC MPT",
          "ENERGIA ATV INJETADA OUC MPT",
          "ENERGIA ATV INJETADA OUC MPT",
          "ENERGIA ATV INJETADA OUC MPT",
          "ENERGIA ATV INJETADA OUC MPT",
          "ENERGIA ATV INJETADA OUC MPT",
          "ENERGIA ATV INJETADA OUC MPT",
          "ENERGIA ATV INJETADA OUC MPT",
          "ENERGIA ATV INJETADA OUC MPT",
          "ENERGIA ATV INJETADA OUC MPT",
          "ENERGIA ATV INJETADA OUC MPT",
          "ENERGIA ATV INJETADA OUC MPT",
          "ENERGIA ATV INJETADA OUC MPT",
          "ENERGIA ATV INJETADA OUC MPT",
          "ENERGIA ATV INJETADA OUC MPT",
          "ENERGIA ATV INJETADA OUC MPT",
          "ENERGIA ATV INJETADA OUC MPT",
          "ENERGIA ATV INJETADA OUC MPT",
          "ENERGIA ATV INJETADA OUC MPT",
          "ENERGIA ATV INJETADA OUC MPT",
          "ENERGIA ATV INJETADA OUC MPT",
          "ENERGIA ATV INJETADA OUC MPT",
          "ENERGIA ATV INJETADA OUC MPT",
          "ENERGIA ATV INJETADA OUC MPT",
          "ENERGIA ATV INJETADA OUC MPT",
          "ENERGIA ATV INJETADA OUC MPT",
          "ENERGIA ATV INJETADA OUC MPT",
          "ENERGIA ATV INJETADA OUC MPT",
          "ENERGIA ATV INJETADA OUC MPT",
          "ENERGIA ATV INJETADA OUC MPT",
          "ENERGIA ATV INJETADA OUC MPT",
          "ENERGIA ATV INJETADA OUC MPT",
          "ENERGIA ATV INJETADA OUC MPT",
          "ENERGIA ATV INJETADA OUC MPT",
          "ENERGIA ATV INJETADA OUC MPT",
          "ENERGIA ATV INJETADA OUC MPT",
          "ENERGIA ATV INJETADA OUC MPT",
          "ENERGIA ATV INJETADA OUC MPT",
          "ENERGIA ATV INJETADA OUC MPT",
          "ENERGIA ATV INJETADA OUC MPT",
          "ENERGIA ATV INJETADA MUC OPT",
          "ENERGIA ATV INJETADA MUC MPT",
          "ENERGIA ATV INJETADA MUC MPT",
          "ENERGIA ATV INJETADA MUC MPT",
          "ENERGIA ATV INJETADA MUC MPT",
          "ENERGIA ATV INJETADA MUC MPT",
          "ENERGIA ATV INJETADA MUC MPT",
          "ENERGIA ATV INJETADA MUC MPT",
          "ENERGIA ATV INJETADA MUC MPT",
          "ENERGIA ATV INJETADA MUC MPT",
          "ENERGIA ATV INJETADA MUC MPT",
          "ENERGIA ATV INJETADA MUC MPT",
          "ENERGIA ATV INJETADA MUC MPT",
          "ENERGIA ATV INJETADA MUC MPT",
          "ENERGIA ATV INJETADA MUC MPT",
          "ENERGIA ATV INJETADA MUC MPT",
          "ENERGIA ATV INJETADA MUC MPT",
          "ENERGIA ATV INJETADA MUC MPT",
          "ENERGIA ATV INJETADA MUC MPT",
          "ENERGIA ATV INJETADA MUC MPT",
          "ENERGIA ATV INJETADA MUC MPT",
          "ENERGIA ATV INJETADA MUC MPT",
          "ENERGIA ATV INJETADA MUC MPT",
          "ENERGIA ATV INJETADA MUC MPT",
          "ENERGIA ATV INJETADA MUC MPT",
          "ENERGIA ATV INJETADA MUC MPT",
          "ENERGIA ATV INJETADA FORA PONTA",
          "ENERGIA ATV INJETADA FORA PONTA",
          "ENERGIA ATV INJETADA FORA PONTA",
          "ENERGIA ATV INJETADA FORA PONTA",
          "ENERGIA ATV INJETADA FORA PONTA",
          "ENERGIA ATV INJETADA FORA PONTA"
         ],
         "yaxis": "y"
        },
        {
         "alignmentgroup": "True",
         "bingroup": "y",
         "hovertemplate": "classe=DEMANDA<br>count=%{x}<br>descricao=%{y}<extra></extra>",
         "legendgroup": "DEMANDA",
         "marker": {
          "color": "#fdbf11",
          "line": {
           "color": "#1A1717",
           "width": 1.5
          },
          "opacity": 0.8,
          "pattern": {
           "shape": ""
          }
         },
         "name": "DEMANDA",
         "offsetgroup": "DEMANDA",
         "orientation": "h",
         "showlegend": true,
         "type": "histogram",
         "xaxis": "x",
         "y": [
          "DEMANDA POTÊNCIA REATIVA EXCEDENTE PONTA",
          "DEMANDA POTÊNCIA REATIVA EXCEDENTE PONTA",
          "DEMANDA POTÊNCIA REATIVA EXCEDENTE PONTA",
          "DEMANDA POTÊNCIA REATIVA EXCED F PONTA",
          "DEMANDA POTÊNCIA REATIVA EXCED F PONTA",
          "DEMANDA POTÊNCIA REATIVA EXCED F PONTA",
          "DEMANDA POTÊNCIA REATIVA EXCED F PONTA",
          "DEMANDA POTÊNCIA REATIVA EXCED F PONTA",
          "DEMANDA POTÊNCIA REATIVA EXCED F PONTA",
          "DEMANDA POTÊNCIA NÃO CONSUMIDA PONTA",
          "DEMANDA POTÊNCIA NÃO CONSUMIDA PONTA",
          "DEMANDA POTÊNCIA NÃO CONSUMIDA PONTA",
          "DEMANDA POTÊNCIA NÃO CONSUMIDA F PONTA",
          "DEMANDA POTÊNCIA NÃO CONSUMIDA F PONTA",
          "DEMANDA POTÊNCIA NÃO CONSUMIDA F PONTA",
          "DEMANDA POTÊNCIA NÃO CONSUMIDA F PONTA",
          "DEMANDA POTÊNCIA NÃO CONSUMIDA F PONTA",
          "DEMANDA POTÊNCIA NÃO CONSUMIDA F PONTA",
          "DEMANDA POTÊNCIA NÃO CONSUMIDA F PONTA",
          "DEMANDA POTÊNCIA NÃO CONSUMIDA F PONTA",
          "DEMANDA POTÊNCIA NÃO CONSUMIDA F PONTA",
          "DEMANDA POTÊNCIA NÃO CONSUMIDA F PONTA",
          "DEMANDA POTÊNCIA NÃO CONSUMIDA F PONTA",
          "DEMANDA POTÊNCIA NÃO CONSUMIDA F PONTA",
          "DEMANDA POTÊNCIA NÃO CONSUMIDA F PONTA",
          "DEMANDA POTÊNCIA NÃO CONSUMIDA F PONTA",
          "DEMANDA POTÊNCIA NÃO CONSUMIDA F PONTA",
          "DEMANDA POTÊNCIA NÃO CONSUMIDA F PONTA",
          "DEMANDA POTÊNCIA NÃO CONSUMIDA F PONTA",
          "DEMANDA POTÊNCIA NÃO CONSUMIDA F PONTA",
          "DEMANDA POTÊNCIA NÃO CONSUMIDA F PONTA",
          "DEMANDA POTÊNCIA NÃO CONSUMIDA F PONTA",
          "DEMANDA POTÊNCIA NÃO CONSUMIDA F PONTA",
          "DEMANDA POTÊNCIA NÃO CONSUMIDA F PONTA",
          "DEMANDA POTÊNCIA NÃO CONSUMIDA F PONTA",
          "DEMANDA POTÊNCIA NÃO CONSUMIDA F PONTA",
          "DEMANDA POTÊNCIA NÃO CONSUMIDA F PONTA",
          "DEMANDA POTÊNCIA NÃO CONSUMIDA F PONTA",
          "DEMANDA POTÊNCIA NÃO CONSUMIDA F PONTA",
          "DEMANDA POTÊNCIA NÃO CONSUMIDA F PONTA",
          "DEMANDA POTÊNCIA NÃO CONSUMIDA F PONTA",
          "DEMANDA POTÊNCIA NÃO CONSUMIDA F PONTA",
          "DEMANDA POTÊNCIA NÃO CONSUMIDA F PONTA",
          "DEMANDA POTÊNCIA NÃO CONSUMIDA F PONTA",
          "DEMANDA POTÊNCIA NÃO CONSUMIDA F PONTA",
          "DEMANDA POTÊNCIA NÃO CONSUMIDA F PONTA",
          "DEMANDA POTÊNCIA NÃO CONSUMIDA F PONTA",
          "DEMANDA POTÊNCIA NÃO CONSUMIDA F PONTA",
          "DEMANDA POTÊNCIA NÃO CONSUMIDA F PONTA",
          "DEMANDA POTÊNCIA NÃO CONSUMIDA F PONTA",
          "DEMANDA POTÊNCIA NÃO CONSUMIDA F PONTA",
          "DEMANDA POTÊNCIA NÃO CONSUMIDA F PONTA",
          "DEMANDA POTÊNCIA ATIVA ULTRAP F PONTA",
          "DEMANDA POTÊNCIA ATIVA ULTRAP F PONTA",
          "DEMANDA POTÊNCIA ATIVA ULTRAP F PONTA",
          "DEMANDA POTÊNCIA ATIVA ULTRAP F PONTA",
          "DEMANDA POTÊNCIA ATIVA ULTRAP F PONTA",
          "DEMANDA DE POTÊNCIA MEDIDA PONTA",
          "DEMANDA DE POTÊNCIA MEDIDA PONTA",
          "DEMANDA DE POTÊNCIA MEDIDA PONTA",
          "DEMANDA DE POTÊNCIA MEDIDA FORA PONTA",
          "DEMANDA DE POTÊNCIA MEDIDA FORA PONTA",
          "DEMANDA DE POTÊNCIA MEDIDA FORA PONTA",
          "DEMANDA DE POTÊNCIA MEDIDA FORA PONTA",
          "DEMANDA DE POTÊNCIA MEDIDA FORA PONTA",
          "DEMANDA DE POTÊNCIA MEDIDA FORA PONTA",
          "DEMANDA DE POTÊNCIA MEDIDA FORA PONTA",
          "DEMANDA DE POTÊNCIA MEDIDA FORA PONTA",
          "DEMANDA DE POTÊNCIA MEDIDA FORA PONTA",
          "DEMANDA DE POTÊNCIA MEDIDA FORA PONTA",
          "DEMANDA DE POTÊNCIA MEDIDA FORA PONTA",
          "DEMANDA DE POTÊNCIA MEDIDA FORA PONTA",
          "DEMANDA DE POTÊNCIA MEDIDA FORA PONTA",
          "DEMANDA DE POTÊNCIA MEDIDA FORA PONTA",
          "DEMANDA DE POTÊNCIA MEDIDA FORA PONTA",
          "DEMANDA DE POTÊNCIA MEDIDA FORA PONTA",
          "DEMANDA DE POTÊNCIA MEDIDA FORA PONTA",
          "DEMANDA DE POTÊNCIA MEDIDA FORA PONTA",
          "DEMANDA DE POTÊNCIA MEDIDA FORA PONTA",
          "DEMANDA DE POTÊNCIA MEDIDA FORA PONTA",
          "DEMANDA DE POTÊNCIA MEDIDA FORA PONTA",
          "DEMANDA DE POTÊNCIA MEDIDA FORA PONTA",
          "DEMANDA DE POTÊNCIA MEDIDA FORA PONTA"
         ],
         "yaxis": "y"
        },
        {
         "alignmentgroup": "True",
         "bingroup": "y",
         "hovertemplate": "classe=CONSUMO<br>count=%{x}<br>descricao=%{y}<extra></extra>",
         "legendgroup": "CONSUMO",
         "marker": {
          "color": "#1696d2",
          "line": {
           "color": "#1A1717",
           "width": 1.5
          },
          "opacity": 0.8,
          "pattern": {
           "shape": ""
          }
         },
         "name": "CONSUMO",
         "offsetgroup": "CONSUMO",
         "orientation": "h",
         "showlegend": true,
         "type": "histogram",
         "xaxis": "x",
         "y": [
          "CONSUMO EM KWH PONTA",
          "CONSUMO EM KWH PONTA",
          "CONSUMO EM KWH PONTA",
          "CONSUMO EM KWH PONTA",
          "CONSUMO EM KWH PONTA",
          "CONSUMO EM KWH PONTA",
          "CONSUMO EM KWH PONTA",
          "CONSUMO EM KWH PONTA",
          "CONSUMO EM KWH PONTA",
          "CONSUMO EM KWH PONTA",
          "CONSUMO EM KWH PONTA",
          "CONSUMO EM KWH FORA PONTA",
          "CONSUMO EM KWH FORA PONTA",
          "CONSUMO EM KWH FORA PONTA",
          "CONSUMO EM KWH FORA PONTA",
          "CONSUMO EM KWH FORA PONTA",
          "CONSUMO EM KWH FORA PONTA",
          "CONSUMO EM KWH FORA PONTA",
          "CONSUMO EM KWH FORA PONTA",
          "CONSUMO EM KWH FORA PONTA",
          "CONSUMO EM KWH FORA PONTA",
          "CONSUMO EM KWH FORA PONTA",
          "CONSUMO EM KWH FORA PONTA",
          "CONSUMO EM KWH FORA PONTA",
          "CONSUMO EM KWH FORA PONTA",
          "CONSUMO EM KWH",
          "CONSUMO EM KWH",
          "CONSUMO EM KWH",
          "CONSUMO EM KWH",
          "CONSUMO EM KWH",
          "CONSUMO EM KWH",
          "CONSUMO EM KWH",
          "CONSUMO EM KWH",
          "CONSUMO EM KWH",
          "CONSUMO EM KWH",
          "CONSUMO EM KWH",
          "CONSUMO EM KWH",
          "CONSUMO EM KWH",
          "CONSUMO EM KWH",
          "CONSUMO EM KWH",
          "CONSUMO EM KWH",
          "CONSUMO EM KWH",
          "CONSUMO EM KWH",
          "CONSUMO EM KWH",
          "CONSUMO EM KWH",
          "CONSUMO EM KWH",
          "CONSUMO EM KWH",
          "CONSUMO EM KWH",
          "CONSUMO EM KWH",
          "CONSUMO EM KWH",
          "CONSUMO EM KWH",
          "CONSUMO EM KWH",
          "CONSUMO EM KWH",
          "CONSUMO EM KWH",
          "CONSUMO EM KWH",
          "CONSUMO EM KWH",
          "CONSUMO EM KWH",
          "CONSUMO EM KWH",
          "CONSUMO EM KWH",
          "CONSUMO EM KWH",
          "CONSUMO EM KWH",
          "CONSUMO EM KWH",
          "CONSUMO EM KWH",
          "CONSUMO EM KWH",
          "CONSUMO EM KWH",
          "CONSUMO EM KWH",
          "CONSUMO EM KWH",
          "CONSUMO EM KWH",
          "CONSUMO EM KWH",
          "CONSUMO EM KWH",
          "CONSUMO EM KWH",
          "CONSUMO EM KWH",
          "CONSUMO EM KWH",
          "CONSUMO EM KWH",
          "CONSUMO EM KWH",
          "CONSUMO EM KWH",
          "CONSUMO EM KWH",
          "CONSUMO EM KWH",
          "CONSUMO EM KWH",
          "CONSUMO EM KWH",
          "CONSUMO EM KWH",
          "CONSUMO EM KWH",
          "CONSUMO EM KWH",
          "CONSUMO EM KWH",
          "CONSUMO EM KWH",
          "CONSUMO EM KWH",
          "CONSUMO EM KWH",
          "CONSUMO EM KWH",
          "CONSUMO EM KWH",
          "CONSUMO EM KWH",
          "CONSUMO EM KWH",
          "CONSUMO EM KWH",
          "CONSUMO EM KWH",
          "CONSUMO EM KWH",
          "CONSUMO EM KWH",
          "CONSUMO EM KWH",
          "CONSUMO EM KWH",
          "CONSUMO EM KWH",
          "CONSUMO EM KWH",
          "CONSUMO EM KWH",
          "CONSUMO EM KWH",
          "CONSUMO EM KWH",
          "CONSUMO EM KWH",
          "CONSUMO EM KWH",
          "CONSUMO EM KWH",
          "CONSUMO EM KWH",
          "CONSUMO EM KWH",
          "CONSUMO EM KWH",
          "CONSUMO EM KWH",
          "CONSUMO EM KWH",
          "CONSUMO EM KWH",
          "CONSUMO EM KWH",
          "CONSUMO EM KWH",
          "CONSUMO EM KWH",
          "CONSUMO EM KWH",
          "CONSUMO EM KWH",
          "CONSUMO EM KWH",
          "CONSUMO EM KWH",
          "CONSUMO EM KWH",
          "CONSUMO EM KWH",
          "CONSUMO EM KWH",
          "CONSUMO EM KWH",
          "CONSUMO EM KWH",
          "CONSUMO EM KWH",
          "CONSUMO EM KWH",
          "CONSUMO EM KWH",
          "CONSUMO EM KWH",
          "CONSUMO EM KWH",
          "CONSUMO EM KWH",
          "CONSUMO EM KWH",
          "CONSUMO EM KWH",
          "CONSUMO EM KWH"
         ],
         "yaxis": "y"
        }
       ],
       "layout": {
        "barmode": "relative",
        "hoverlabel": {
         "font": {
          "family": "Lato-Regular",
          "size": 14
         }
        },
        "legend": {
         "font": {
          "color": "#000000",
          "family": "Lato-Regular",
          "size": 13
         },
         "title": {
          "font": {
           "color": "#000000",
           "family": "Lato-Bold",
           "size": 14
          },
          "text": "classe"
         },
         "tracegroupgap": 0,
         "traceorder": "reversed"
        },
        "template": {
         "data": {
          "bar": [
           {
            "error_x": {
             "color": "#2a3f5f"
            },
            "error_y": {
             "color": "#2a3f5f"
            },
            "marker": {
             "line": {
              "color": "#E5ECF6",
              "width": 0.5
             },
             "pattern": {
              "fillmode": "overlay",
              "size": 10,
              "solidity": 0.2
             }
            },
            "type": "bar"
           }
          ],
          "barpolar": [
           {
            "marker": {
             "line": {
              "color": "#E5ECF6",
              "width": 0.5
             },
             "pattern": {
              "fillmode": "overlay",
              "size": 10,
              "solidity": 0.2
             }
            },
            "type": "barpolar"
           }
          ],
          "carpet": [
           {
            "aaxis": {
             "endlinecolor": "#2a3f5f",
             "gridcolor": "white",
             "linecolor": "white",
             "minorgridcolor": "white",
             "startlinecolor": "#2a3f5f"
            },
            "baxis": {
             "endlinecolor": "#2a3f5f",
             "gridcolor": "white",
             "linecolor": "white",
             "minorgridcolor": "white",
             "startlinecolor": "#2a3f5f"
            },
            "type": "carpet"
           }
          ],
          "choropleth": [
           {
            "colorbar": {
             "outlinewidth": 0,
             "ticks": ""
            },
            "type": "choropleth"
           }
          ],
          "contour": [
           {
            "colorbar": {
             "outlinewidth": 0,
             "ticks": ""
            },
            "colorscale": [
             [
              0,
              "#0d0887"
             ],
             [
              0.1111111111111111,
              "#46039f"
             ],
             [
              0.2222222222222222,
              "#7201a8"
             ],
             [
              0.3333333333333333,
              "#9c179e"
             ],
             [
              0.4444444444444444,
              "#bd3786"
             ],
             [
              0.5555555555555556,
              "#d8576b"
             ],
             [
              0.6666666666666666,
              "#ed7953"
             ],
             [
              0.7777777777777778,
              "#fb9f3a"
             ],
             [
              0.8888888888888888,
              "#fdca26"
             ],
             [
              1,
              "#f0f921"
             ]
            ],
            "type": "contour"
           }
          ],
          "contourcarpet": [
           {
            "colorbar": {
             "outlinewidth": 0,
             "ticks": ""
            },
            "type": "contourcarpet"
           }
          ],
          "heatmap": [
           {
            "colorbar": {
             "outlinewidth": 0,
             "ticks": ""
            },
            "colorscale": [
             [
              0,
              "#0d0887"
             ],
             [
              0.1111111111111111,
              "#46039f"
             ],
             [
              0.2222222222222222,
              "#7201a8"
             ],
             [
              0.3333333333333333,
              "#9c179e"
             ],
             [
              0.4444444444444444,
              "#bd3786"
             ],
             [
              0.5555555555555556,
              "#d8576b"
             ],
             [
              0.6666666666666666,
              "#ed7953"
             ],
             [
              0.7777777777777778,
              "#fb9f3a"
             ],
             [
              0.8888888888888888,
              "#fdca26"
             ],
             [
              1,
              "#f0f921"
             ]
            ],
            "type": "heatmap"
           }
          ],
          "heatmapgl": [
           {
            "colorbar": {
             "outlinewidth": 0,
             "ticks": ""
            },
            "colorscale": [
             [
              0,
              "#0d0887"
             ],
             [
              0.1111111111111111,
              "#46039f"
             ],
             [
              0.2222222222222222,
              "#7201a8"
             ],
             [
              0.3333333333333333,
              "#9c179e"
             ],
             [
              0.4444444444444444,
              "#bd3786"
             ],
             [
              0.5555555555555556,
              "#d8576b"
             ],
             [
              0.6666666666666666,
              "#ed7953"
             ],
             [
              0.7777777777777778,
              "#fb9f3a"
             ],
             [
              0.8888888888888888,
              "#fdca26"
             ],
             [
              1,
              "#f0f921"
             ]
            ],
            "type": "heatmapgl"
           }
          ],
          "histogram": [
           {
            "marker": {
             "pattern": {
              "fillmode": "overlay",
              "size": 10,
              "solidity": 0.2
             }
            },
            "type": "histogram"
           }
          ],
          "histogram2d": [
           {
            "colorbar": {
             "outlinewidth": 0,
             "ticks": ""
            },
            "colorscale": [
             [
              0,
              "#0d0887"
             ],
             [
              0.1111111111111111,
              "#46039f"
             ],
             [
              0.2222222222222222,
              "#7201a8"
             ],
             [
              0.3333333333333333,
              "#9c179e"
             ],
             [
              0.4444444444444444,
              "#bd3786"
             ],
             [
              0.5555555555555556,
              "#d8576b"
             ],
             [
              0.6666666666666666,
              "#ed7953"
             ],
             [
              0.7777777777777778,
              "#fb9f3a"
             ],
             [
              0.8888888888888888,
              "#fdca26"
             ],
             [
              1,
              "#f0f921"
             ]
            ],
            "type": "histogram2d"
           }
          ],
          "histogram2dcontour": [
           {
            "colorbar": {
             "outlinewidth": 0,
             "ticks": ""
            },
            "colorscale": [
             [
              0,
              "#0d0887"
             ],
             [
              0.1111111111111111,
              "#46039f"
             ],
             [
              0.2222222222222222,
              "#7201a8"
             ],
             [
              0.3333333333333333,
              "#9c179e"
             ],
             [
              0.4444444444444444,
              "#bd3786"
             ],
             [
              0.5555555555555556,
              "#d8576b"
             ],
             [
              0.6666666666666666,
              "#ed7953"
             ],
             [
              0.7777777777777778,
              "#fb9f3a"
             ],
             [
              0.8888888888888888,
              "#fdca26"
             ],
             [
              1,
              "#f0f921"
             ]
            ],
            "type": "histogram2dcontour"
           }
          ],
          "mesh3d": [
           {
            "colorbar": {
             "outlinewidth": 0,
             "ticks": ""
            },
            "type": "mesh3d"
           }
          ],
          "parcoords": [
           {
            "line": {
             "colorbar": {
              "outlinewidth": 0,
              "ticks": ""
             }
            },
            "type": "parcoords"
           }
          ],
          "pie": [
           {
            "automargin": true,
            "type": "pie"
           }
          ],
          "scatter": [
           {
            "marker": {
             "colorbar": {
              "outlinewidth": 0,
              "ticks": ""
             }
            },
            "type": "scatter"
           }
          ],
          "scatter3d": [
           {
            "line": {
             "colorbar": {
              "outlinewidth": 0,
              "ticks": ""
             }
            },
            "marker": {
             "colorbar": {
              "outlinewidth": 0,
              "ticks": ""
             }
            },
            "type": "scatter3d"
           }
          ],
          "scattercarpet": [
           {
            "marker": {
             "colorbar": {
              "outlinewidth": 0,
              "ticks": ""
             }
            },
            "type": "scattercarpet"
           }
          ],
          "scattergeo": [
           {
            "marker": {
             "colorbar": {
              "outlinewidth": 0,
              "ticks": ""
             }
            },
            "type": "scattergeo"
           }
          ],
          "scattergl": [
           {
            "marker": {
             "colorbar": {
              "outlinewidth": 0,
              "ticks": ""
             }
            },
            "type": "scattergl"
           }
          ],
          "scattermapbox": [
           {
            "marker": {
             "colorbar": {
              "outlinewidth": 0,
              "ticks": ""
             }
            },
            "type": "scattermapbox"
           }
          ],
          "scatterpolar": [
           {
            "marker": {
             "colorbar": {
              "outlinewidth": 0,
              "ticks": ""
             }
            },
            "type": "scatterpolar"
           }
          ],
          "scatterpolargl": [
           {
            "marker": {
             "colorbar": {
              "outlinewidth": 0,
              "ticks": ""
             }
            },
            "type": "scatterpolargl"
           }
          ],
          "scatterternary": [
           {
            "marker": {
             "colorbar": {
              "outlinewidth": 0,
              "ticks": ""
             }
            },
            "type": "scatterternary"
           }
          ],
          "surface": [
           {
            "colorbar": {
             "outlinewidth": 0,
             "ticks": ""
            },
            "colorscale": [
             [
              0,
              "#0d0887"
             ],
             [
              0.1111111111111111,
              "#46039f"
             ],
             [
              0.2222222222222222,
              "#7201a8"
             ],
             [
              0.3333333333333333,
              "#9c179e"
             ],
             [
              0.4444444444444444,
              "#bd3786"
             ],
             [
              0.5555555555555556,
              "#d8576b"
             ],
             [
              0.6666666666666666,
              "#ed7953"
             ],
             [
              0.7777777777777778,
              "#fb9f3a"
             ],
             [
              0.8888888888888888,
              "#fdca26"
             ],
             [
              1,
              "#f0f921"
             ]
            ],
            "type": "surface"
           }
          ],
          "table": [
           {
            "cells": {
             "fill": {
              "color": "#EBF0F8"
             },
             "line": {
              "color": "white"
             }
            },
            "header": {
             "fill": {
              "color": "#C8D4E3"
             },
             "line": {
              "color": "white"
             }
            },
            "type": "table"
           }
          ]
         },
         "layout": {
          "annotationdefaults": {
           "arrowcolor": "#2a3f5f",
           "arrowhead": 0,
           "arrowwidth": 1
          },
          "autotypenumbers": "strict",
          "coloraxis": {
           "colorbar": {
            "outlinewidth": 0,
            "ticks": ""
           }
          },
          "colorscale": {
           "diverging": [
            [
             0,
             "#8e0152"
            ],
            [
             0.1,
             "#c51b7d"
            ],
            [
             0.2,
             "#de77ae"
            ],
            [
             0.3,
             "#f1b6da"
            ],
            [
             0.4,
             "#fde0ef"
            ],
            [
             0.5,
             "#f7f7f7"
            ],
            [
             0.6,
             "#e6f5d0"
            ],
            [
             0.7,
             "#b8e186"
            ],
            [
             0.8,
             "#7fbc41"
            ],
            [
             0.9,
             "#4d9221"
            ],
            [
             1,
             "#276419"
            ]
           ],
           "sequential": [
            [
             0,
             "#0d0887"
            ],
            [
             0.1111111111111111,
             "#46039f"
            ],
            [
             0.2222222222222222,
             "#7201a8"
            ],
            [
             0.3333333333333333,
             "#9c179e"
            ],
            [
             0.4444444444444444,
             "#bd3786"
            ],
            [
             0.5555555555555556,
             "#d8576b"
            ],
            [
             0.6666666666666666,
             "#ed7953"
            ],
            [
             0.7777777777777778,
             "#fb9f3a"
            ],
            [
             0.8888888888888888,
             "#fdca26"
            ],
            [
             1,
             "#f0f921"
            ]
           ],
           "sequentialminus": [
            [
             0,
             "#0d0887"
            ],
            [
             0.1111111111111111,
             "#46039f"
            ],
            [
             0.2222222222222222,
             "#7201a8"
            ],
            [
             0.3333333333333333,
             "#9c179e"
            ],
            [
             0.4444444444444444,
             "#bd3786"
            ],
            [
             0.5555555555555556,
             "#d8576b"
            ],
            [
             0.6666666666666666,
             "#ed7953"
            ],
            [
             0.7777777777777778,
             "#fb9f3a"
            ],
            [
             0.8888888888888888,
             "#fdca26"
            ],
            [
             1,
             "#f0f921"
            ]
           ]
          },
          "colorway": [
           "#636efa",
           "#EF553B",
           "#00cc96",
           "#ab63fa",
           "#FFA15A",
           "#19d3f3",
           "#FF6692",
           "#B6E880",
           "#FF97FF",
           "#FECB52"
          ],
          "font": {
           "color": "#2a3f5f"
          },
          "geo": {
           "bgcolor": "white",
           "lakecolor": "white",
           "landcolor": "#E5ECF6",
           "showlakes": true,
           "showland": true,
           "subunitcolor": "white"
          },
          "hoverlabel": {
           "align": "left"
          },
          "hovermode": "closest",
          "mapbox": {
           "style": "light"
          },
          "paper_bgcolor": "white",
          "plot_bgcolor": "#E5ECF6",
          "polar": {
           "angularaxis": {
            "gridcolor": "white",
            "linecolor": "white",
            "ticks": ""
           },
           "bgcolor": "#E5ECF6",
           "radialaxis": {
            "gridcolor": "white",
            "linecolor": "white",
            "ticks": ""
           }
          },
          "scene": {
           "xaxis": {
            "backgroundcolor": "#E5ECF6",
            "gridcolor": "white",
            "gridwidth": 2,
            "linecolor": "white",
            "showbackground": true,
            "ticks": "",
            "zerolinecolor": "white"
           },
           "yaxis": {
            "backgroundcolor": "#E5ECF6",
            "gridcolor": "white",
            "gridwidth": 2,
            "linecolor": "white",
            "showbackground": true,
            "ticks": "",
            "zerolinecolor": "white"
           },
           "zaxis": {
            "backgroundcolor": "#E5ECF6",
            "gridcolor": "white",
            "gridwidth": 2,
            "linecolor": "white",
            "showbackground": true,
            "ticks": "",
            "zerolinecolor": "white"
           }
          },
          "shapedefaults": {
           "line": {
            "color": "#2a3f5f"
           }
          },
          "ternary": {
           "aaxis": {
            "gridcolor": "white",
            "linecolor": "white",
            "ticks": ""
           },
           "baxis": {
            "gridcolor": "white",
            "linecolor": "white",
            "ticks": ""
           },
           "bgcolor": "#E5ECF6",
           "caxis": {
            "gridcolor": "white",
            "linecolor": "white",
            "ticks": ""
           }
          },
          "title": {
           "x": 0.05
          },
          "xaxis": {
           "automargin": true,
           "gridcolor": "white",
           "linecolor": "white",
           "ticks": "",
           "title": {
            "standoff": 15
           },
           "zerolinecolor": "white",
           "zerolinewidth": 2
          },
          "yaxis": {
           "automargin": true,
           "gridcolor": "white",
           "linecolor": "white",
           "ticks": "",
           "title": {
            "standoff": 15
           },
           "zerolinecolor": "white",
           "zerolinewidth": 2
          }
         }
        },
        "title": {
         "font": {
          "color": "#000000",
          "family": "Lato-Bold",
          "size": 18
         },
         "text": "Descrições das tarifas mais comuns"
        },
        "width": 800,
        "xaxis": {
         "anchor": "y",
         "domain": [
          0,
          1
         ],
         "tickfont": {
          "color": "#000000",
          "family": "Lato-Regular",
          "size": 12
         },
         "title": {
          "font": {
           "color": "#000000",
           "family": "Lato-Italic",
           "size": 14
          },
          "text": "Quantidade"
         }
        },
        "yaxis": {
         "anchor": "x",
         "domain": [
          0,
          1
         ],
         "tickfont": {
          "color": "#000000",
          "family": "Lato-Regular",
          "size": 12
         },
         "title": {
          "font": {
           "color": "#000000",
           "family": "Lato-Italic",
           "size": 14
          },
          "text": "Descrição"
         }
        }
       }
      }
     },
     "metadata": {},
     "output_type": "display_data"
    }
   ],
   "source": [
    "# Selecionando o dado a ser plotado\n",
    "plot_data = pd.DataFrame({\n",
    "\t'descricao' : query_results,\n",
    "\t'classe' : query_results.apply(lambda x : x.split()[0])\n",
    "}).sort_values(by='descricao', ascending=False)\n",
    "# Plotando com plotly express\n",
    "px.histogram(\n",
    "\tdata_frame=plot_data,\t    \t\t\t\t\t# Dado a ser plotado\n",
    "\ty='descricao',\t\t\t\t\t\t\t\t\t# Muda a orientacão para a vertical\n",
    "\tcolor='classe',\t\t\t\t\t\t\t\t\t# Separa em classes\n",
    "\tcolor_discrete_sequence=CATEGORICAL_GROUPS[4],\t# Define as cores dos grupos\n",
    "\ttitle='Descrições das tarifas mais comuns',\t\t# Título do gráfico\n",
    "\twidth=800, opacity=0.8\t\t\t\t\t\t\t# Tamanho e alpha da cor\n",
    ").update_traces(\t\t\t\t\t\t\t\t\t\t\t\t\n",
    "\tmarker_line_color=SHADES['GRAY'][6], \t\t\t# Customização do layout da barra\t\n",
    "\tmarker_line_width=1.5,\n",
    ").update_layout(\n",
    "\tlegend_traceorder='reversed',\t\t\t\t\t# Corrige a legenda em orem alfabética\n",
    "\txaxis_title='Quantidade',\t\t\t\t\t\t# Renomeia título do eixo x \n",
    "\tyaxis_title='Descrição',\t\t\t\t\t\t# Renomeia título do eixo y \n",
    "\t**LAYOUT_SPECS\t\t\t\t\t\t\t\t\t# Customizações do layout\n",
    ")"
   ]
  },
  {
   "cell_type": "markdown",
   "metadata": {},
   "source": [
    "Algumas descrições pertencem à categoria do posto **Ponta/FPonta**:  \n",
    "- Consumo;  \n",
    "- Demanda medida;\n",
    "- Demanda não consumida; \n",
    "- Demanda ultrapassada;\n",
    "- Demanda reativa excedente. \n",
    "\n",
    "Outras são inependentes dessa classificação:\n",
    "- Energia ativa injetada;\n",
    "- Energia reativa excedente."
   ]
  },
  {
   "cell_type": "markdown",
   "metadata": {},
   "source": [
    "### Questões a serem analisadas:\n",
    "- Consumo (KWh) é maior na PONTA ou FPONTA?  \n",
    "- Demanda contratada (KW) está sendo utilizada acima ou abaixo?  \n",
    "- Relação entre a diferença do valor faturado e o valor medido. Se o valor medido for maior, qual o motivo do faturado ser menor? E no caso contrário? Existe algum comportamento comum para cada caso?\n",
    "- Como se comporta a fatura onde há alto valor medido de energia injetada(INJ)? Essa energia é proveniente de geração própria?  \n"
   ]
  },
  {
   "cell_type": "markdown",
   "metadata": {},
   "source": [
    "# 5. <span id='item5'>Tratamento dos dados"
   ]
  },
  {
   "cell_type": "markdown",
   "metadata": {},
   "source": [
    "Antes de iniciar a análise exploratória, vamos aplicar alguns ajustes."
   ]
  },
  {
   "cell_type": "markdown",
   "metadata": {},
   "source": [
    "## Features com tipo *dict*"
   ]
  },
  {
   "cell_type": "markdown",
   "metadata": {},
   "source": [
    "Iniciando pelo primeiro nível do arquivo *json*, será normalizada as colunas contendo valores do tipo *dict*, exceto as que contém outros valores aninhados (esturturaConsumo e tarifas)."
   ]
  },
  {
   "cell_type": "code",
   "execution_count": 21,
   "metadata": {},
   "outputs": [],
   "source": [
    "# Achatando os dados\n",
    "df['_id'] = pd.json_normalize(df['_id'])\n",
    "df['createdAt'] = pd.json_normalize(df['createdAt'])\n",
    "df['updatedAt'] = pd.json_normalize(df['updatedAt'])"
   ]
  },
  {
   "cell_type": "markdown",
   "metadata": {},
   "source": [
    "## Features do tipo *string*"
   ]
  },
  {
   "cell_type": "markdown",
   "metadata": {},
   "source": [
    "Agora conseguimos visualizar melhor as colunas com tipo *string*"
   ]
  },
  {
   "cell_type": "code",
   "execution_count": 22,
   "metadata": {},
   "outputs": [
    {
     "name": "stdout",
     "output_type": "stream",
     "text": [
      "Quantidade de valores únicos por feature\n"
     ]
    },
    {
     "data": {
      "text/plain": [
       "_id        162\n",
       "unique     162\n",
       "cliente     18\n",
       "classe      10\n",
       "ligacao      2\n",
       "cnpj        17\n",
       "uc          48\n",
       "dtype: int64"
      ]
     },
     "execution_count": 22,
     "metadata": {},
     "output_type": "execute_result"
    }
   ],
   "source": [
    "string_columns = [\n",
    "\t'_id', 'unique', 'cliente', \n",
    "\t'classe', 'ligacao', 'cnpj', 'uc',\n",
    "]\n",
    "print('Quantidade de valores únicos por feature')\n",
    "(df[string_columns]\n",
    ".apply(lambda x : x.nunique()))"
   ]
  },
  {
   "cell_type": "markdown",
   "metadata": {},
   "source": [
    "Temos valores únicos tanto para `_id` quanto parece `unique`, entretando  a feature `_id` se assemelha mais com um identificador relacionado a coleta dos dados, enquanto `unique` é a chave da fatura.  \n",
    "Vamos observar a relação desta chave com as demais features."
   ]
  },
  {
   "cell_type": "code",
   "execution_count": 23,
   "metadata": {},
   "outputs": [
    {
     "data": {
      "application/vnd.plotly.v1+json": {
       "config": {
        "plotlyServerURL": "https://plot.ly"
       },
       "data": [
        {
         "alignmentgroup": "True",
         "bingroup": "y",
         "histfunc": "sum",
         "hovertemplate": "Feature=uc<br>sum of Valor=%{x}<br>cliente=%{y}<extra></extra>",
         "legendgroup": "uc",
         "marker": {
          "color": "#000000",
          "line": {
           "color": "#1A1717",
           "width": 1.5
          },
          "opacity": 0.8,
          "pattern": {
           "shape": ""
          }
         },
         "name": "uc",
         "offsetgroup": "uc",
         "orientation": "h",
         "showlegend": true,
         "type": "histogram",
         "x": [
          3,
          59,
          19,
          3,
          1,
          1,
          2,
          3,
          1,
          27,
          2,
          2,
          3,
          6,
          2,
          3,
          23,
          2
         ],
         "xaxis": "x",
         "y": [
          "VENTOS DO NORTE - COMERCIO DE PRODUTOS",
          "TELEFONICA BRASIL SA",
          "TELEFONICA BRASIL S A",
          "SUPERMERCADO PAREDAO LTDA",
          "SUPERMERCADO ALAMEDA LTDA EPP",
          "SUPERMERCADO ALAMEDA LTDA",
          "SB SUPERMERCADO LTDA ME",
          "NERY ANDRADE NERY LTDA ME",
          "MW COMERCIO D E GENEROS ALIMENTICIOS LTDA",
          "MINERACAO COITE LTDA",
          "M ALVORADA LTDA EPP",
          "J C ANDRADE SOUZA ME",
          "IGUACU SUPERMERCADOS LTDA",
          "CONSORCIO GERADOR FAZENDA MODELO",
          "COMERCIO DE GENEROS ALIMENTICIOS V S LTDA - ME",
          "COMERCIAL IOMAR DE ALIMENTOS LTDA EPP",
          "AGUAS LEBRINHA LTDA",
          "AGUAS CUIABA S A CONCESSIONARIA DE SERVICOS"
         ],
         "yaxis": "y"
        },
        {
         "alignmentgroup": "True",
         "bingroup": "y",
         "histfunc": "sum",
         "hovertemplate": "Feature=cnpj<br>sum of Valor=%{x}<br>cliente=%{y}<extra></extra>",
         "legendgroup": "cnpj",
         "marker": {
          "color": "#d2d2d2",
          "line": {
           "color": "#1A1717",
           "width": 1.5
          },
          "opacity": 0.8,
          "pattern": {
           "shape": ""
          }
         },
         "name": "cnpj",
         "offsetgroup": "cnpj",
         "orientation": "h",
         "showlegend": true,
         "type": "histogram",
         "x": [
          3,
          59,
          19,
          3,
          1,
          1,
          2,
          3,
          1,
          27,
          2,
          2,
          3,
          6,
          2,
          3,
          23,
          2
         ],
         "xaxis": "x",
         "y": [
          "VENTOS DO NORTE - COMERCIO DE PRODUTOS",
          "TELEFONICA BRASIL SA",
          "TELEFONICA BRASIL S A",
          "SUPERMERCADO PAREDAO LTDA",
          "SUPERMERCADO ALAMEDA LTDA EPP",
          "SUPERMERCADO ALAMEDA LTDA",
          "SB SUPERMERCADO LTDA ME",
          "NERY ANDRADE NERY LTDA ME",
          "MW COMERCIO D E GENEROS ALIMENTICIOS LTDA",
          "MINERACAO COITE LTDA",
          "M ALVORADA LTDA EPP",
          "J C ANDRADE SOUZA ME",
          "IGUACU SUPERMERCADOS LTDA",
          "CONSORCIO GERADOR FAZENDA MODELO",
          "COMERCIO DE GENEROS ALIMENTICIOS V S LTDA - ME",
          "COMERCIAL IOMAR DE ALIMENTOS LTDA EPP",
          "AGUAS LEBRINHA LTDA",
          "AGUAS CUIABA S A CONCESSIONARIA DE SERVICOS"
         ],
         "yaxis": "y"
        },
        {
         "alignmentgroup": "True",
         "bingroup": "y",
         "histfunc": "sum",
         "hovertemplate": "Feature=ligacao<br>sum of Valor=%{x}<br>cliente=%{y}<extra></extra>",
         "legendgroup": "ligacao",
         "marker": {
          "color": "#fdbf11",
          "line": {
           "color": "#1A1717",
           "width": 1.5
          },
          "opacity": 0.8,
          "pattern": {
           "shape": ""
          }
         },
         "name": "ligacao",
         "offsetgroup": "ligacao",
         "orientation": "h",
         "showlegend": true,
         "type": "histogram",
         "x": [
          3,
          59,
          19,
          3,
          1,
          1,
          2,
          3,
          1,
          27,
          2,
          2,
          3,
          6,
          2,
          3,
          23,
          2
         ],
         "xaxis": "x",
         "y": [
          "VENTOS DO NORTE - COMERCIO DE PRODUTOS",
          "TELEFONICA BRASIL SA",
          "TELEFONICA BRASIL S A",
          "SUPERMERCADO PAREDAO LTDA",
          "SUPERMERCADO ALAMEDA LTDA EPP",
          "SUPERMERCADO ALAMEDA LTDA",
          "SB SUPERMERCADO LTDA ME",
          "NERY ANDRADE NERY LTDA ME",
          "MW COMERCIO D E GENEROS ALIMENTICIOS LTDA",
          "MINERACAO COITE LTDA",
          "M ALVORADA LTDA EPP",
          "J C ANDRADE SOUZA ME",
          "IGUACU SUPERMERCADOS LTDA",
          "CONSORCIO GERADOR FAZENDA MODELO",
          "COMERCIO DE GENEROS ALIMENTICIOS V S LTDA - ME",
          "COMERCIAL IOMAR DE ALIMENTOS LTDA EPP",
          "AGUAS LEBRINHA LTDA",
          "AGUAS CUIABA S A CONCESSIONARIA DE SERVICOS"
         ],
         "yaxis": "y"
        },
        {
         "alignmentgroup": "True",
         "bingroup": "y",
         "histfunc": "sum",
         "hovertemplate": "Feature=classe<br>sum of Valor=%{x}<br>cliente=%{y}<extra></extra>",
         "legendgroup": "classe",
         "marker": {
          "color": "#1696d2",
          "line": {
           "color": "#1A1717",
           "width": 1.5
          },
          "opacity": 0.8,
          "pattern": {
           "shape": ""
          }
         },
         "name": "classe",
         "offsetgroup": "classe",
         "orientation": "h",
         "showlegend": true,
         "type": "histogram",
         "x": [
          3,
          59,
          19,
          3,
          1,
          1,
          2,
          3,
          1,
          27,
          2,
          2,
          3,
          6,
          2,
          3,
          23,
          2
         ],
         "xaxis": "x",
         "y": [
          "VENTOS DO NORTE - COMERCIO DE PRODUTOS",
          "TELEFONICA BRASIL SA",
          "TELEFONICA BRASIL S A",
          "SUPERMERCADO PAREDAO LTDA",
          "SUPERMERCADO ALAMEDA LTDA EPP",
          "SUPERMERCADO ALAMEDA LTDA",
          "SB SUPERMERCADO LTDA ME",
          "NERY ANDRADE NERY LTDA ME",
          "MW COMERCIO D E GENEROS ALIMENTICIOS LTDA",
          "MINERACAO COITE LTDA",
          "M ALVORADA LTDA EPP",
          "J C ANDRADE SOUZA ME",
          "IGUACU SUPERMERCADOS LTDA",
          "CONSORCIO GERADOR FAZENDA MODELO",
          "COMERCIO DE GENEROS ALIMENTICIOS V S LTDA - ME",
          "COMERCIAL IOMAR DE ALIMENTOS LTDA EPP",
          "AGUAS LEBRINHA LTDA",
          "AGUAS CUIABA S A CONCESSIONARIA DE SERVICOS"
         ],
         "yaxis": "y"
        }
       ],
       "layout": {
        "barmode": "group",
        "hoverlabel": {
         "font": {
          "family": "Lato-Regular",
          "size": 14
         }
        },
        "legend": {
         "font": {
          "color": "#000000",
          "family": "Lato-Regular",
          "size": 13
         },
         "title": {
          "font": {
           "color": "#000000",
           "family": "Lato-Bold",
           "size": 14
          },
          "text": "Feature"
         },
         "tracegroupgap": 0
        },
        "template": {
         "data": {
          "bar": [
           {
            "error_x": {
             "color": "#2a3f5f"
            },
            "error_y": {
             "color": "#2a3f5f"
            },
            "marker": {
             "line": {
              "color": "#E5ECF6",
              "width": 0.5
             },
             "pattern": {
              "fillmode": "overlay",
              "size": 10,
              "solidity": 0.2
             }
            },
            "type": "bar"
           }
          ],
          "barpolar": [
           {
            "marker": {
             "line": {
              "color": "#E5ECF6",
              "width": 0.5
             },
             "pattern": {
              "fillmode": "overlay",
              "size": 10,
              "solidity": 0.2
             }
            },
            "type": "barpolar"
           }
          ],
          "carpet": [
           {
            "aaxis": {
             "endlinecolor": "#2a3f5f",
             "gridcolor": "white",
             "linecolor": "white",
             "minorgridcolor": "white",
             "startlinecolor": "#2a3f5f"
            },
            "baxis": {
             "endlinecolor": "#2a3f5f",
             "gridcolor": "white",
             "linecolor": "white",
             "minorgridcolor": "white",
             "startlinecolor": "#2a3f5f"
            },
            "type": "carpet"
           }
          ],
          "choropleth": [
           {
            "colorbar": {
             "outlinewidth": 0,
             "ticks": ""
            },
            "type": "choropleth"
           }
          ],
          "contour": [
           {
            "colorbar": {
             "outlinewidth": 0,
             "ticks": ""
            },
            "colorscale": [
             [
              0,
              "#0d0887"
             ],
             [
              0.1111111111111111,
              "#46039f"
             ],
             [
              0.2222222222222222,
              "#7201a8"
             ],
             [
              0.3333333333333333,
              "#9c179e"
             ],
             [
              0.4444444444444444,
              "#bd3786"
             ],
             [
              0.5555555555555556,
              "#d8576b"
             ],
             [
              0.6666666666666666,
              "#ed7953"
             ],
             [
              0.7777777777777778,
              "#fb9f3a"
             ],
             [
              0.8888888888888888,
              "#fdca26"
             ],
             [
              1,
              "#f0f921"
             ]
            ],
            "type": "contour"
           }
          ],
          "contourcarpet": [
           {
            "colorbar": {
             "outlinewidth": 0,
             "ticks": ""
            },
            "type": "contourcarpet"
           }
          ],
          "heatmap": [
           {
            "colorbar": {
             "outlinewidth": 0,
             "ticks": ""
            },
            "colorscale": [
             [
              0,
              "#0d0887"
             ],
             [
              0.1111111111111111,
              "#46039f"
             ],
             [
              0.2222222222222222,
              "#7201a8"
             ],
             [
              0.3333333333333333,
              "#9c179e"
             ],
             [
              0.4444444444444444,
              "#bd3786"
             ],
             [
              0.5555555555555556,
              "#d8576b"
             ],
             [
              0.6666666666666666,
              "#ed7953"
             ],
             [
              0.7777777777777778,
              "#fb9f3a"
             ],
             [
              0.8888888888888888,
              "#fdca26"
             ],
             [
              1,
              "#f0f921"
             ]
            ],
            "type": "heatmap"
           }
          ],
          "heatmapgl": [
           {
            "colorbar": {
             "outlinewidth": 0,
             "ticks": ""
            },
            "colorscale": [
             [
              0,
              "#0d0887"
             ],
             [
              0.1111111111111111,
              "#46039f"
             ],
             [
              0.2222222222222222,
              "#7201a8"
             ],
             [
              0.3333333333333333,
              "#9c179e"
             ],
             [
              0.4444444444444444,
              "#bd3786"
             ],
             [
              0.5555555555555556,
              "#d8576b"
             ],
             [
              0.6666666666666666,
              "#ed7953"
             ],
             [
              0.7777777777777778,
              "#fb9f3a"
             ],
             [
              0.8888888888888888,
              "#fdca26"
             ],
             [
              1,
              "#f0f921"
             ]
            ],
            "type": "heatmapgl"
           }
          ],
          "histogram": [
           {
            "marker": {
             "pattern": {
              "fillmode": "overlay",
              "size": 10,
              "solidity": 0.2
             }
            },
            "type": "histogram"
           }
          ],
          "histogram2d": [
           {
            "colorbar": {
             "outlinewidth": 0,
             "ticks": ""
            },
            "colorscale": [
             [
              0,
              "#0d0887"
             ],
             [
              0.1111111111111111,
              "#46039f"
             ],
             [
              0.2222222222222222,
              "#7201a8"
             ],
             [
              0.3333333333333333,
              "#9c179e"
             ],
             [
              0.4444444444444444,
              "#bd3786"
             ],
             [
              0.5555555555555556,
              "#d8576b"
             ],
             [
              0.6666666666666666,
              "#ed7953"
             ],
             [
              0.7777777777777778,
              "#fb9f3a"
             ],
             [
              0.8888888888888888,
              "#fdca26"
             ],
             [
              1,
              "#f0f921"
             ]
            ],
            "type": "histogram2d"
           }
          ],
          "histogram2dcontour": [
           {
            "colorbar": {
             "outlinewidth": 0,
             "ticks": ""
            },
            "colorscale": [
             [
              0,
              "#0d0887"
             ],
             [
              0.1111111111111111,
              "#46039f"
             ],
             [
              0.2222222222222222,
              "#7201a8"
             ],
             [
              0.3333333333333333,
              "#9c179e"
             ],
             [
              0.4444444444444444,
              "#bd3786"
             ],
             [
              0.5555555555555556,
              "#d8576b"
             ],
             [
              0.6666666666666666,
              "#ed7953"
             ],
             [
              0.7777777777777778,
              "#fb9f3a"
             ],
             [
              0.8888888888888888,
              "#fdca26"
             ],
             [
              1,
              "#f0f921"
             ]
            ],
            "type": "histogram2dcontour"
           }
          ],
          "mesh3d": [
           {
            "colorbar": {
             "outlinewidth": 0,
             "ticks": ""
            },
            "type": "mesh3d"
           }
          ],
          "parcoords": [
           {
            "line": {
             "colorbar": {
              "outlinewidth": 0,
              "ticks": ""
             }
            },
            "type": "parcoords"
           }
          ],
          "pie": [
           {
            "automargin": true,
            "type": "pie"
           }
          ],
          "scatter": [
           {
            "marker": {
             "colorbar": {
              "outlinewidth": 0,
              "ticks": ""
             }
            },
            "type": "scatter"
           }
          ],
          "scatter3d": [
           {
            "line": {
             "colorbar": {
              "outlinewidth": 0,
              "ticks": ""
             }
            },
            "marker": {
             "colorbar": {
              "outlinewidth": 0,
              "ticks": ""
             }
            },
            "type": "scatter3d"
           }
          ],
          "scattercarpet": [
           {
            "marker": {
             "colorbar": {
              "outlinewidth": 0,
              "ticks": ""
             }
            },
            "type": "scattercarpet"
           }
          ],
          "scattergeo": [
           {
            "marker": {
             "colorbar": {
              "outlinewidth": 0,
              "ticks": ""
             }
            },
            "type": "scattergeo"
           }
          ],
          "scattergl": [
           {
            "marker": {
             "colorbar": {
              "outlinewidth": 0,
              "ticks": ""
             }
            },
            "type": "scattergl"
           }
          ],
          "scattermapbox": [
           {
            "marker": {
             "colorbar": {
              "outlinewidth": 0,
              "ticks": ""
             }
            },
            "type": "scattermapbox"
           }
          ],
          "scatterpolar": [
           {
            "marker": {
             "colorbar": {
              "outlinewidth": 0,
              "ticks": ""
             }
            },
            "type": "scatterpolar"
           }
          ],
          "scatterpolargl": [
           {
            "marker": {
             "colorbar": {
              "outlinewidth": 0,
              "ticks": ""
             }
            },
            "type": "scatterpolargl"
           }
          ],
          "scatterternary": [
           {
            "marker": {
             "colorbar": {
              "outlinewidth": 0,
              "ticks": ""
             }
            },
            "type": "scatterternary"
           }
          ],
          "surface": [
           {
            "colorbar": {
             "outlinewidth": 0,
             "ticks": ""
            },
            "colorscale": [
             [
              0,
              "#0d0887"
             ],
             [
              0.1111111111111111,
              "#46039f"
             ],
             [
              0.2222222222222222,
              "#7201a8"
             ],
             [
              0.3333333333333333,
              "#9c179e"
             ],
             [
              0.4444444444444444,
              "#bd3786"
             ],
             [
              0.5555555555555556,
              "#d8576b"
             ],
             [
              0.6666666666666666,
              "#ed7953"
             ],
             [
              0.7777777777777778,
              "#fb9f3a"
             ],
             [
              0.8888888888888888,
              "#fdca26"
             ],
             [
              1,
              "#f0f921"
             ]
            ],
            "type": "surface"
           }
          ],
          "table": [
           {
            "cells": {
             "fill": {
              "color": "#EBF0F8"
             },
             "line": {
              "color": "white"
             }
            },
            "header": {
             "fill": {
              "color": "#C8D4E3"
             },
             "line": {
              "color": "white"
             }
            },
            "type": "table"
           }
          ]
         },
         "layout": {
          "annotationdefaults": {
           "arrowcolor": "#2a3f5f",
           "arrowhead": 0,
           "arrowwidth": 1
          },
          "autotypenumbers": "strict",
          "coloraxis": {
           "colorbar": {
            "outlinewidth": 0,
            "ticks": ""
           }
          },
          "colorscale": {
           "diverging": [
            [
             0,
             "#8e0152"
            ],
            [
             0.1,
             "#c51b7d"
            ],
            [
             0.2,
             "#de77ae"
            ],
            [
             0.3,
             "#f1b6da"
            ],
            [
             0.4,
             "#fde0ef"
            ],
            [
             0.5,
             "#f7f7f7"
            ],
            [
             0.6,
             "#e6f5d0"
            ],
            [
             0.7,
             "#b8e186"
            ],
            [
             0.8,
             "#7fbc41"
            ],
            [
             0.9,
             "#4d9221"
            ],
            [
             1,
             "#276419"
            ]
           ],
           "sequential": [
            [
             0,
             "#0d0887"
            ],
            [
             0.1111111111111111,
             "#46039f"
            ],
            [
             0.2222222222222222,
             "#7201a8"
            ],
            [
             0.3333333333333333,
             "#9c179e"
            ],
            [
             0.4444444444444444,
             "#bd3786"
            ],
            [
             0.5555555555555556,
             "#d8576b"
            ],
            [
             0.6666666666666666,
             "#ed7953"
            ],
            [
             0.7777777777777778,
             "#fb9f3a"
            ],
            [
             0.8888888888888888,
             "#fdca26"
            ],
            [
             1,
             "#f0f921"
            ]
           ],
           "sequentialminus": [
            [
             0,
             "#0d0887"
            ],
            [
             0.1111111111111111,
             "#46039f"
            ],
            [
             0.2222222222222222,
             "#7201a8"
            ],
            [
             0.3333333333333333,
             "#9c179e"
            ],
            [
             0.4444444444444444,
             "#bd3786"
            ],
            [
             0.5555555555555556,
             "#d8576b"
            ],
            [
             0.6666666666666666,
             "#ed7953"
            ],
            [
             0.7777777777777778,
             "#fb9f3a"
            ],
            [
             0.8888888888888888,
             "#fdca26"
            ],
            [
             1,
             "#f0f921"
            ]
           ]
          },
          "colorway": [
           "#636efa",
           "#EF553B",
           "#00cc96",
           "#ab63fa",
           "#FFA15A",
           "#19d3f3",
           "#FF6692",
           "#B6E880",
           "#FF97FF",
           "#FECB52"
          ],
          "font": {
           "color": "#2a3f5f"
          },
          "geo": {
           "bgcolor": "white",
           "lakecolor": "white",
           "landcolor": "#E5ECF6",
           "showlakes": true,
           "showland": true,
           "subunitcolor": "white"
          },
          "hoverlabel": {
           "align": "left"
          },
          "hovermode": "closest",
          "mapbox": {
           "style": "light"
          },
          "paper_bgcolor": "white",
          "plot_bgcolor": "#E5ECF6",
          "polar": {
           "angularaxis": {
            "gridcolor": "white",
            "linecolor": "white",
            "ticks": ""
           },
           "bgcolor": "#E5ECF6",
           "radialaxis": {
            "gridcolor": "white",
            "linecolor": "white",
            "ticks": ""
           }
          },
          "scene": {
           "xaxis": {
            "backgroundcolor": "#E5ECF6",
            "gridcolor": "white",
            "gridwidth": 2,
            "linecolor": "white",
            "showbackground": true,
            "ticks": "",
            "zerolinecolor": "white"
           },
           "yaxis": {
            "backgroundcolor": "#E5ECF6",
            "gridcolor": "white",
            "gridwidth": 2,
            "linecolor": "white",
            "showbackground": true,
            "ticks": "",
            "zerolinecolor": "white"
           },
           "zaxis": {
            "backgroundcolor": "#E5ECF6",
            "gridcolor": "white",
            "gridwidth": 2,
            "linecolor": "white",
            "showbackground": true,
            "ticks": "",
            "zerolinecolor": "white"
           }
          },
          "shapedefaults": {
           "line": {
            "color": "#2a3f5f"
           }
          },
          "ternary": {
           "aaxis": {
            "gridcolor": "white",
            "linecolor": "white",
            "ticks": ""
           },
           "baxis": {
            "gridcolor": "white",
            "linecolor": "white",
            "ticks": ""
           },
           "bgcolor": "#E5ECF6",
           "caxis": {
            "gridcolor": "white",
            "linecolor": "white",
            "ticks": ""
           }
          },
          "title": {
           "x": 0.05
          },
          "xaxis": {
           "automargin": true,
           "gridcolor": "white",
           "linecolor": "white",
           "ticks": "",
           "title": {
            "standoff": 15
           },
           "zerolinecolor": "white",
           "zerolinewidth": 2
          },
          "yaxis": {
           "automargin": true,
           "gridcolor": "white",
           "linecolor": "white",
           "ticks": "",
           "title": {
            "standoff": 15
           },
           "zerolinecolor": "white",
           "zerolinewidth": 2
          }
         }
        },
        "title": {
         "font": {
          "color": "#000000",
          "family": "Lato-Bold",
          "size": 18
         },
         "text": "Distribuição das features por cliente"
        },
        "width": 800,
        "xaxis": {
         "anchor": "y",
         "domain": [
          0,
          1
         ],
         "tickfont": {
          "color": "#000000",
          "family": "Lato-Regular",
          "size": 12
         },
         "title": {
          "font": {
           "color": "#000000",
           "family": "Lato-Italic",
           "size": 14
          },
          "text": "Quantidade"
         }
        },
        "yaxis": {
         "anchor": "x",
         "domain": [
          0,
          1
         ],
         "tickfont": {
          "color": "#000000",
          "family": "Lato-Regular",
          "size": 12
         },
         "title": {
          "font": {
           "color": "#000000",
           "family": "Lato-Italic",
           "size": 14
          },
          "text": "Cliente"
         }
        }
       }
      }
     },
     "metadata": {},
     "output_type": "display_data"
    }
   ],
   "source": [
    "# Selecionando o dado a ser plotado\n",
    "plot_columns = ['classe', 'ligacao', 'cnpj', 'uc']\n",
    "plot_data = (\n",
    "\tdf.groupby(by='cliente')\t\t\t\t# Agrupando por cliente\n",
    "\t[plot_columns]\t\t\t\t\t\t\t# Selecionando as colunas de interesse\n",
    "\t.count()\t\t\t\t\t\t\t\t# Contando os valores\n",
    "\t.reset_index()\t\t\t\t\t\t\t# Transformando para o formato \"tidy\"\n",
    "\t.melt(\n",
    "\t\tid_vars=['cliente'],\n",
    "\t\tvar_name='Feature', \n",
    "\t\tvalue_name='Valor')\n",
    "\t).sort_values(by='cliente', ascending=False)\t# Ordenando clientes por ordem alfabética\n",
    "# Plotando com plotly express\n",
    "px.histogram(\n",
    "\tdata_frame=plot_data,\t    \t\t\t\t\t# Dado a ser plotado\n",
    "\tx='Valor',\n",
    "\ty='cliente',\t\t\t\t\t\t\t\t\t# Muda a orientacão para a vertical\n",
    "\tcolor='Feature',\n",
    "\tcolor_discrete_sequence=CATEGORICAL_GROUPS[len(plot_columns)],\n",
    "\tbarmode='group',\n",
    "\ttitle='Distribuição das features por cliente',\t# Título do gráfico\n",
    "\twidth=800, opacity=0.8\t\t\t\t\t\t\t# Tamanho e alpha da cor\n",
    ").update_traces(\t\t\t\t\t\t\t\t\t\n",
    "\tmarker_line_color=SHADES['GRAY'][6], \t\t\t# Customização do layout da barra\n",
    "\tmarker_line_width=1.5,\n",
    ").update_layout(\n",
    "\txaxis_title='Quantidade',\t\t\t\t\t\t# Renomeia título do eixo x \n",
    "\tyaxis_title='Cliente',\t\t\t\t\t\t\t# Renomeia título do eixo y \n",
    "\t**LAYOUT_SPECS\t\t\t\t\t\t\t\t\t# Customizações do layout\n",
    ")"
   ]
  },
  {
   "cell_type": "markdown",
   "metadata": {},
   "source": [
    "Podemos observar que o cliente 'TELEFONICA BRASIL SA' está escrito de duas maneiras, isso explica porque existe 18 registros únicos de `clientes` e 17 de `cnpj`.  "
   ]
  },
  {
   "cell_type": "code",
   "execution_count": 24,
   "metadata": {},
   "outputs": [],
   "source": [
    "# Renomeando o valor alternativo para o cliente\n",
    "df['cliente'] = df['cliente'].replace({'TELEFONICA BRASIL S A': 'TELEFONICA BRASIL SA'})"
   ]
  },
  {
   "cell_type": "markdown",
   "metadata": {},
   "source": [
    "A coluna `__v` possuí apenas 1 valor, portanto iremos removê-la do dataframe"
   ]
  },
  {
   "cell_type": "code",
   "execution_count": 25,
   "metadata": {},
   "outputs": [
    {
     "name": "stdout",
     "output_type": "stream",
     "text": [
      "0    162\n",
      "Name: __v, dtype: int64\n"
     ]
    }
   ],
   "source": [
    "# Contagem dos valores da coluna\n",
    "print(df['__v'].value_counts())\n",
    "# Aplicando o drop da coluna\n",
    "df.drop(columns='__v', inplace=True)"
   ]
  },
  {
   "cell_type": "markdown",
   "metadata": {},
   "source": [
    "## Features do tipo *datetime*"
   ]
  },
  {
   "cell_type": "markdown",
   "metadata": {},
   "source": [
    "Atualizando o *dtype* das colunas com data para *datetime*"
   ]
  },
  {
   "cell_type": "code",
   "execution_count": 26,
   "metadata": {},
   "outputs": [],
   "source": [
    "# Selecionando as colunas com data\n",
    "colunas_date = [\n",
    "\t'referencia', 'data_vencimento', 'data_emissao', \n",
    "\t'data_apresentacao', 'data_proxima_leitura',\n",
    "\t'createdAt', 'updatedAt',\n",
    "\t]\n",
    "# Aplicando o cast para datetime\n",
    "for coluna in colunas_date:\n",
    "\tdf[coluna] =  pd.to_datetime(df[coluna])"
   ]
  },
  {
   "cell_type": "markdown",
   "metadata": {},
   "source": [
    "## `estruturaConsumo`"
   ]
  },
  {
   "cell_type": "markdown",
   "metadata": {},
   "source": [
    "Para a coluna `estruturaConsumo` vamos realizar a normalização feita anteriormente, dessa vez adicionando como metadados os valores do nível raiz, dessa forma conseguimos ter uma chave para cada linha resultante do achatamento na coluna `leituras`."
   ]
  },
  {
   "cell_type": "code",
   "execution_count": 27,
   "metadata": {},
   "outputs": [
    {
     "name": "stdout",
     "output_type": "stream",
     "text": [
      "Tipo dos dados: {dtype('O')}\n"
     ]
    },
    {
     "data": {
      "text/html": [
       "<div>\n",
       "<style scoped>\n",
       "    .dataframe tbody tr th:only-of-type {\n",
       "        vertical-align: middle;\n",
       "    }\n",
       "\n",
       "    .dataframe tbody tr th {\n",
       "        vertical-align: top;\n",
       "    }\n",
       "\n",
       "    .dataframe thead th {\n",
       "        text-align: right;\n",
       "    }\n",
       "</style>\n",
       "<table border=\"1\" class=\"dataframe\">\n",
       "  <thead>\n",
       "    <tr style=\"text-align: right;\">\n",
       "      <th></th>\n",
       "      <th>un</th>\n",
       "      <th>posto</th>\n",
       "      <th>medido</th>\n",
       "      <th>faturado</th>\n",
       "      <th>_id.$oid</th>\n",
       "      <th>saldoPonta</th>\n",
       "      <th>saldoForaPonta</th>\n",
       "      <th>expiraForaPonta</th>\n",
       "      <th>expiraPonta</th>\n",
       "      <th>saldoAcumulado</th>\n",
       "      <th>expiraAcumulado</th>\n",
       "      <th>leituraAnterior</th>\n",
       "      <th>leituraAtual</th>\n",
       "      <th>unique</th>\n",
       "    </tr>\n",
       "  </thead>\n",
       "  <tbody>\n",
       "    <tr>\n",
       "      <th>0</th>\n",
       "      <td>KWH</td>\n",
       "      <td>PONTA</td>\n",
       "      <td>24363</td>\n",
       "      <td>24363</td>\n",
       "      <td>62220ff138b5b03262a806d9</td>\n",
       "      <td>0</td>\n",
       "      <td>0</td>\n",
       "      <td>0</td>\n",
       "      <td>0</td>\n",
       "      <td>0</td>\n",
       "      <td>0</td>\n",
       "      <td>2022-01-28</td>\n",
       "      <td>2022-02-25</td>\n",
       "      <td>b45dc7a8-2aa8-4693-a7c2-2260c4f0b642</td>\n",
       "    </tr>\n",
       "    <tr>\n",
       "      <th>1</th>\n",
       "      <td>KWH</td>\n",
       "      <td>PONTA</td>\n",
       "      <td>1005</td>\n",
       "      <td>1005</td>\n",
       "      <td>62220ff138b5b03262a806df</td>\n",
       "      <td>0</td>\n",
       "      <td>0</td>\n",
       "      <td>0</td>\n",
       "      <td>0</td>\n",
       "      <td>0</td>\n",
       "      <td>0</td>\n",
       "      <td>2022-01-28</td>\n",
       "      <td>2022-02-25</td>\n",
       "      <td>1bcac16e-289a-45c4-8509-f98ad5b66bcb</td>\n",
       "    </tr>\n",
       "    <tr>\n",
       "      <th>2</th>\n",
       "      <td>KWH</td>\n",
       "      <td>PONTA</td>\n",
       "      <td>1000</td>\n",
       "      <td>1000</td>\n",
       "      <td>62220ff238b5b03262a806e6</td>\n",
       "      <td>0</td>\n",
       "      <td>0</td>\n",
       "      <td>0</td>\n",
       "      <td>0</td>\n",
       "      <td>0</td>\n",
       "      <td>0</td>\n",
       "      <td>2022-01-28</td>\n",
       "      <td>2022-02-25</td>\n",
       "      <td>37399592-abd1-4de3-bb28-1b3753caf972</td>\n",
       "    </tr>\n",
       "  </tbody>\n",
       "</table>\n",
       "</div>"
      ],
      "text/plain": [
       "    un  posto medido faturado                  _id.$oid saldoPonta  \\\n",
       "0  KWH  PONTA  24363    24363  62220ff138b5b03262a806d9          0   \n",
       "1  KWH  PONTA   1005     1005  62220ff138b5b03262a806df          0   \n",
       "2  KWH  PONTA   1000     1000  62220ff238b5b03262a806e6          0   \n",
       "\n",
       "  saldoForaPonta expiraForaPonta expiraPonta saldoAcumulado expiraAcumulado  \\\n",
       "0              0               0           0              0               0   \n",
       "1              0               0           0              0               0   \n",
       "2              0               0           0              0               0   \n",
       "\n",
       "  leituraAnterior leituraAtual                                unique  \n",
       "0      2022-01-28   2022-02-25  b45dc7a8-2aa8-4693-a7c2-2260c4f0b642  \n",
       "1      2022-01-28   2022-02-25  1bcac16e-289a-45c4-8509-f98ad5b66bcb  \n",
       "2      2022-01-28   2022-02-25  37399592-abd1-4de3-bb28-1b3753caf972  "
      ]
     },
     "execution_count": 27,
     "metadata": {},
     "output_type": "execute_result"
    }
   ],
   "source": [
    "# Adiciona os ids unique como nova chave para cada linha de estruturaConsumo\n",
    "for index, id_value in enumerate(df['unique']):\n",
    "\tdf['estruturaConsumo'].iloc[index]['unique'] = id_value\n",
    "\n",
    "# Seleciona as colunas e metadados (todas exceto leituras)\n",
    "meta_columns = list(pd.json_normalize(df['estruturaConsumo']).drop(columns='leituras'))\n",
    "\n",
    "# Normaliza os dados\n",
    "consumo_df = pd.json_normalize(\n",
    "\tdf['estruturaConsumo'], \n",
    "\trecord_path=['leituras'],\n",
    "\tmeta = meta_columns\n",
    ")\n",
    "print(f'Tipo dos dados: {set(consumo_df.dtypes)}')\n",
    "consumo_df.head(3)"
   ]
  },
  {
   "cell_type": "markdown",
   "metadata": {},
   "source": [
    "Os daods foram normalizados, porém todas colunas estão do tipo *object*. Quando há claramente valores numéricos em uma coluna e o mesmo é convertido para *object*, pode significar que existe algum valor não numérico, como uma string vazia. Vamos fazer essa verificação."
   ]
  },
  {
   "cell_type": "code",
   "execution_count": 28,
   "metadata": {},
   "outputs": [
    {
     "data": {
      "text/plain": [
       "un                  0\n",
       "posto               0\n",
       "medido              0\n",
       "faturado            0\n",
       "_id.$oid            0\n",
       "saldoPonta         56\n",
       "saldoForaPonta     56\n",
       "expiraForaPonta    56\n",
       "expiraPonta        56\n",
       "saldoAcumulado     56\n",
       "expiraAcumulado    56\n",
       "leituraAnterior     8\n",
       "leituraAtual        8\n",
       "unique              0\n",
       "dtype: int64"
      ]
     },
     "execution_count": 28,
     "metadata": {},
     "output_type": "execute_result"
    }
   ],
   "source": [
    "consumo_df.apply(lambda x: x == '').sum()"
   ]
  },
  {
   "cell_type": "markdown",
   "metadata": {},
   "source": [
    "De fato, as colunas referentes aos saldos e datas possuem alguns valores de strings vazias.\n",
    "Será necessário preencher esses campos com valores nulos(NaN) antes de fazer a atualização dos tipos de dados."
   ]
  },
  {
   "cell_type": "code",
   "execution_count": 29,
   "metadata": {},
   "outputs": [
    {
     "name": "stdout",
     "output_type": "stream",
     "text": [
      "<class 'pandas.core.frame.DataFrame'>\n",
      "RangeIndex: 362 entries, 0 to 361\n",
      "Data columns (total 14 columns):\n",
      " #   Column           Non-Null Count  Dtype         \n",
      "---  ------           --------------  -----         \n",
      " 0   un               362 non-null    object        \n",
      " 1   posto            362 non-null    object        \n",
      " 2   medido           362 non-null    float64       \n",
      " 3   faturado         362 non-null    float64       \n",
      " 4   _id.$oid         362 non-null    object        \n",
      " 5   saldoPonta       306 non-null    Int64         \n",
      " 6   saldoForaPonta   306 non-null    Int64         \n",
      " 7   expiraForaPonta  306 non-null    Int64         \n",
      " 8   expiraPonta      306 non-null    Int64         \n",
      " 9   saldoAcumulado   306 non-null    Int64         \n",
      " 10  expiraAcumulado  306 non-null    Int64         \n",
      " 11  leituraAnterior  354 non-null    datetime64[ns]\n",
      " 12  leituraAtual     354 non-null    datetime64[ns]\n",
      " 13  unique           362 non-null    object        \n",
      "dtypes: Int64(6), datetime64[ns](2), float64(2), object(4)\n",
      "memory usage: 41.8+ KB\n"
     ]
    }
   ],
   "source": [
    "# Preenche strings vazias com valores nulos\n",
    "consumo_df = consumo_df.replace(r'^\\s*$', np.nan, regex=True)\n",
    "\n",
    "# Selecionando as colunas para ser modificadas\n",
    "int_columns = [\n",
    "\t'saldoPonta', 'saldoForaPonta', \n",
    "\t'expiraForaPonta', 'expiraPonta', 'saldoAcumulado', \n",
    "\t'expiraAcumulado']\n",
    "float_columns = ['medido', 'faturado']\n",
    "date_columns = ['leituraAnterior', 'leituraAtual']\n",
    "\n",
    "# Aplicando os casts\n",
    "consumo_df[int_columns]       = consumo_df[int_columns].astype('Int64')\n",
    "consumo_df[float_columns]     = consumo_df[float_columns].astype('float64')\n",
    "consumo_df['leituraAnterior'] = pd.to_datetime(consumo_df['leituraAnterior'])\n",
    "consumo_df['leituraAtual']    = pd.to_datetime(consumo_df['leituraAtual'])\n",
    "\n",
    "# Verificando o sumário do dataframe\n",
    "consumo_df.info()"
   ]
  },
  {
   "cell_type": "markdown",
   "metadata": {},
   "source": [
    "Atualizando a coluna `estruturaConsumo` com os valores tratados."
   ]
  },
  {
   "cell_type": "code",
   "execution_count": 30,
   "metadata": {},
   "outputs": [],
   "source": [
    "# Convertendo o dataframe de volta ao formato dict\n",
    "df['estruturaConsumo'] = consumo_df.apply(lambda x : x.to_dict(), axis=1)"
   ]
  },
  {
   "cell_type": "markdown",
   "metadata": {},
   "source": [
    "## `tarifas`"
   ]
  },
  {
   "cell_type": "markdown",
   "metadata": {},
   "source": [
    "Para melhor acessar as informações, vamos carregar novamente a coluna tarifas, dessa vez associando como metadado o id `unique` da fatura."
   ]
  },
  {
   "cell_type": "code",
   "execution_count": 31,
   "metadata": {},
   "outputs": [
    {
     "data": {
      "text/html": [
       "<div>\n",
       "<style scoped>\n",
       "    .dataframe tbody tr th:only-of-type {\n",
       "        vertical-align: middle;\n",
       "    }\n",
       "\n",
       "    .dataframe tbody tr th {\n",
       "        vertical-align: top;\n",
       "    }\n",
       "\n",
       "    .dataframe thead th {\n",
       "        text-align: right;\n",
       "    }\n",
       "</style>\n",
       "<table border=\"1\" class=\"dataframe\">\n",
       "  <thead>\n",
       "    <tr style=\"text-align: right;\">\n",
       "      <th></th>\n",
       "      <th>cci</th>\n",
       "      <th>descricao</th>\n",
       "      <th>quantidade</th>\n",
       "      <th>semTributos</th>\n",
       "      <th>comTributos</th>\n",
       "      <th>valorTotal</th>\n",
       "      <th>baseIcms</th>\n",
       "      <th>aliqIcms</th>\n",
       "      <th>icms</th>\n",
       "      <th>basePisCofins</th>\n",
       "      <th>pis</th>\n",
       "      <th>cofins</th>\n",
       "      <th>_id.$oid</th>\n",
       "      <th>unique</th>\n",
       "    </tr>\n",
       "  </thead>\n",
       "  <tbody>\n",
       "    <tr>\n",
       "      <th>0</th>\n",
       "      <td>0601</td>\n",
       "      <td>CONSUMO EM KWH</td>\n",
       "      <td>24363.0</td>\n",
       "      <td>0.6835</td>\n",
       "      <td>0.85548</td>\n",
       "      <td>20842.28</td>\n",
       "      <td>20842.28</td>\n",
       "      <td>17.0</td>\n",
       "      <td>3543.18</td>\n",
       "      <td>17299.10</td>\n",
       "      <td>115.40</td>\n",
       "      <td>531.58</td>\n",
       "      <td>62220ff138b5b03262a806d5</td>\n",
       "      <td>b45dc7a8-2aa8-4693-a7c2-2260c4f0b642</td>\n",
       "    </tr>\n",
       "    <tr>\n",
       "      <th>1</th>\n",
       "      <td>0601</td>\n",
       "      <td>ENERGIA ATV INJETADA OUC 02/2022 MPT</td>\n",
       "      <td>12429.0</td>\n",
       "      <td>0.6835</td>\n",
       "      <td>0.76897</td>\n",
       "      <td>-9557.65</td>\n",
       "      <td>-4308.07</td>\n",
       "      <td>17.0</td>\n",
       "      <td>-732.37</td>\n",
       "      <td>-8825.28</td>\n",
       "      <td>-58.87</td>\n",
       "      <td>-271.19</td>\n",
       "      <td>62220ff138b5b03262a806d6</td>\n",
       "      <td>b45dc7a8-2aa8-4693-a7c2-2260c4f0b642</td>\n",
       "    </tr>\n",
       "    <tr>\n",
       "      <th>2</th>\n",
       "      <td>0601</td>\n",
       "      <td>ADIC. B. VERMELHA</td>\n",
       "      <td>0.0</td>\n",
       "      <td>0.0000</td>\n",
       "      <td>0.00000</td>\n",
       "      <td>2121.05</td>\n",
       "      <td>2121.05</td>\n",
       "      <td>17.0</td>\n",
       "      <td>360.58</td>\n",
       "      <td>1760.47</td>\n",
       "      <td>11.74</td>\n",
       "      <td>54.09</td>\n",
       "      <td>62220ff138b5b03262a806d7</td>\n",
       "      <td>b45dc7a8-2aa8-4693-a7c2-2260c4f0b642</td>\n",
       "    </tr>\n",
       "  </tbody>\n",
       "</table>\n",
       "</div>"
      ],
      "text/plain": [
       "    cci                             descricao  quantidade  semTributos  \\\n",
       "0  0601                        CONSUMO EM KWH     24363.0       0.6835   \n",
       "1  0601  ENERGIA ATV INJETADA OUC 02/2022 MPT     12429.0       0.6835   \n",
       "2  0601                     ADIC. B. VERMELHA         0.0       0.0000   \n",
       "\n",
       "   comTributos  valorTotal  baseIcms  aliqIcms     icms  basePisCofins  \\\n",
       "0      0.85548    20842.28  20842.28      17.0  3543.18       17299.10   \n",
       "1      0.76897    -9557.65  -4308.07      17.0  -732.37       -8825.28   \n",
       "2      0.00000     2121.05   2121.05      17.0   360.58        1760.47   \n",
       "\n",
       "      pis  cofins                  _id.$oid  \\\n",
       "0  115.40  531.58  62220ff138b5b03262a806d5   \n",
       "1  -58.87 -271.19  62220ff138b5b03262a806d6   \n",
       "2   11.74   54.09  62220ff138b5b03262a806d7   \n",
       "\n",
       "                                 unique  \n",
       "0  b45dc7a8-2aa8-4693-a7c2-2260c4f0b642  \n",
       "1  b45dc7a8-2aa8-4693-a7c2-2260c4f0b642  \n",
       "2  b45dc7a8-2aa8-4693-a7c2-2260c4f0b642  "
      ]
     },
     "execution_count": 31,
     "metadata": {},
     "output_type": "execute_result"
    }
   ],
   "source": [
    "tarifas_df = pd.json_normalize(\n",
    "\tjson_data,\t\t\t\t\t# Dado carregado com json\n",
    "\trecord_path=['tarifas'],\t# Caminho para achatar\n",
    "\tmeta=['unique']\t\t\t\t# Coluna de metadado\n",
    ")\n",
    "tarifas_df.head(3)"
   ]
  },
  {
   "cell_type": "markdown",
   "metadata": {},
   "source": [
    "Agora vamos adicionar uma nova coluna referente ao tipo da descrição, e uma ao posto."
   ]
  },
  {
   "cell_type": "code",
   "execution_count": 32,
   "metadata": {},
   "outputs": [],
   "source": [
    "tarifas_df['class_desc'] = tarifas_df['descricao'].apply(lambda x: x.split()[0])"
   ]
  },
  {
   "cell_type": "code",
   "execution_count": 33,
   "metadata": {},
   "outputs": [],
   "source": [
    "# Filtrando a descrição com regex\n",
    "tarifas_df['tarifa_posto'] = tarifas_df['descricao'].apply(\n",
    "\tlambda x: re.findall('PONTA|FORA PONTA|F PONTA|FPONTA', x))\n",
    "# Eliminando o formato de lista\n",
    "tarifas_df['tarifa_posto'] = tarifas_df['tarifa_posto'].apply(lambda x : x[0] if len(x)>0 else 'NA')\n",
    "# Normalizando as labels\n",
    "tarifas_df['tarifa_posto'] = tarifas_df['tarifa_posto'].replace({\n",
    "\t'F PONTA' : 'FPONTA',\n",
    "\t'FORA PONTA' : 'FPONTA',\n",
    "})"
   ]
  },
  {
   "cell_type": "code",
   "execution_count": 34,
   "metadata": {},
   "outputs": [
    {
     "name": "stdout",
     "output_type": "stream",
     "text": [
      "<class 'pandas.core.frame.DataFrame'>\n",
      "RangeIndex: 777 entries, 0 to 776\n",
      "Data columns (total 16 columns):\n",
      " #   Column         Non-Null Count  Dtype  \n",
      "---  ------         --------------  -----  \n",
      " 0   cci            777 non-null    object \n",
      " 1   descricao      777 non-null    object \n",
      " 2   quantidade     777 non-null    float64\n",
      " 3   semTributos    777 non-null    float64\n",
      " 4   comTributos    777 non-null    float64\n",
      " 5   valorTotal     777 non-null    float64\n",
      " 6   baseIcms       777 non-null    float64\n",
      " 7   aliqIcms       777 non-null    float64\n",
      " 8   icms           777 non-null    float64\n",
      " 9   basePisCofins  777 non-null    float64\n",
      " 10  pis            777 non-null    float64\n",
      " 11  cofins         777 non-null    float64\n",
      " 12  _id.$oid       777 non-null    object \n",
      " 13  unique         777 non-null    object \n",
      " 14  class_desc     777 non-null    object \n",
      " 15  tarifa_posto   777 non-null    object \n",
      "dtypes: float64(10), object(6)\n",
      "memory usage: 97.2+ KB\n"
     ]
    }
   ],
   "source": [
    "tarifas_df.info()"
   ]
  },
  {
   "cell_type": "markdown",
   "metadata": {},
   "source": [
    "Atualizando a coluna `tarifas` com os valores tratados."
   ]
  },
  {
   "cell_type": "code",
   "execution_count": 35,
   "metadata": {},
   "outputs": [
    {
     "data": {
      "text/html": [
       "<div>\n",
       "<style scoped>\n",
       "    .dataframe tbody tr th:only-of-type {\n",
       "        vertical-align: middle;\n",
       "    }\n",
       "\n",
       "    .dataframe tbody tr th {\n",
       "        vertical-align: top;\n",
       "    }\n",
       "\n",
       "    .dataframe thead th {\n",
       "        text-align: right;\n",
       "    }\n",
       "</style>\n",
       "<table border=\"1\" class=\"dataframe\">\n",
       "  <thead>\n",
       "    <tr style=\"text-align: right;\">\n",
       "      <th></th>\n",
       "      <th>unique</th>\n",
       "      <th>tarifas</th>\n",
       "    </tr>\n",
       "  </thead>\n",
       "  <tbody>\n",
       "    <tr>\n",
       "      <th>0</th>\n",
       "      <td>0044e06c-d45a-4ff1-907c-1d9ac4848945</td>\n",
       "      <td>[{'cci': '0601', 'descricao': 'CONSUMO EM KWH'...</td>\n",
       "    </tr>\n",
       "    <tr>\n",
       "      <th>1</th>\n",
       "      <td>02e9ef72-4a15-453e-a164-688bc64c189b</td>\n",
       "      <td>[{'cci': '0602', 'descricao': 'DEMANDA POTÊNCI...</td>\n",
       "    </tr>\n",
       "    <tr>\n",
       "      <th>2</th>\n",
       "      <td>051499f5-81ef-47a2-979a-8178e9915b53</td>\n",
       "      <td>[{'cci': '0601', 'descricao': 'CONSUMO EM KWH'...</td>\n",
       "    </tr>\n",
       "    <tr>\n",
       "      <th>3</th>\n",
       "      <td>093812c1-ab23-409f-8ff2-9dfffddbb64f</td>\n",
       "      <td>[{'cci': '0601', 'descricao': 'CONSUMO EM KWH'...</td>\n",
       "    </tr>\n",
       "    <tr>\n",
       "      <th>4</th>\n",
       "      <td>0bc7b143-9a0b-4c7d-b4dc-d5f68fd33775</td>\n",
       "      <td>[{'cci': '0601', 'descricao': 'CONSUMO EM KWH ...</td>\n",
       "    </tr>\n",
       "    <tr>\n",
       "      <th>...</th>\n",
       "      <td>...</td>\n",
       "      <td>...</td>\n",
       "    </tr>\n",
       "    <tr>\n",
       "      <th>157</th>\n",
       "      <td>f7cc0a2d-6c38-4b6b-9e9a-b46022c8af23</td>\n",
       "      <td>[{'cci': '0602', 'descricao': 'DEMANDA POTÊNCI...</td>\n",
       "    </tr>\n",
       "    <tr>\n",
       "      <th>158</th>\n",
       "      <td>f8c5ef05-fa88-4fb6-b0c7-2fc64134a166</td>\n",
       "      <td>[{'cci': '0601', 'descricao': 'CONSUMO EM KWH'...</td>\n",
       "    </tr>\n",
       "    <tr>\n",
       "      <th>159</th>\n",
       "      <td>fe1ad27b-808d-43b7-af3c-7da2ff2b551d</td>\n",
       "      <td>[{'cci': '0601', 'descricao': 'CONSUMO EM KWH'...</td>\n",
       "    </tr>\n",
       "    <tr>\n",
       "      <th>160</th>\n",
       "      <td>fe9e3273-73ca-49cf-8ea0-3a31984b4935</td>\n",
       "      <td>[{'cci': '0601', 'descricao': 'CONSUMO EM KWH ...</td>\n",
       "    </tr>\n",
       "    <tr>\n",
       "      <th>161</th>\n",
       "      <td>ff7699c8-4e6a-40e8-b8b5-7f7339b5b00e</td>\n",
       "      <td>[{'cci': '0601', 'descricao': 'CONSUMO EM KWH'...</td>\n",
       "    </tr>\n",
       "  </tbody>\n",
       "</table>\n",
       "<p>162 rows × 2 columns</p>\n",
       "</div>"
      ],
      "text/plain": [
       "                                   unique  \\\n",
       "0    0044e06c-d45a-4ff1-907c-1d9ac4848945   \n",
       "1    02e9ef72-4a15-453e-a164-688bc64c189b   \n",
       "2    051499f5-81ef-47a2-979a-8178e9915b53   \n",
       "3    093812c1-ab23-409f-8ff2-9dfffddbb64f   \n",
       "4    0bc7b143-9a0b-4c7d-b4dc-d5f68fd33775   \n",
       "..                                    ...   \n",
       "157  f7cc0a2d-6c38-4b6b-9e9a-b46022c8af23   \n",
       "158  f8c5ef05-fa88-4fb6-b0c7-2fc64134a166   \n",
       "159  fe1ad27b-808d-43b7-af3c-7da2ff2b551d   \n",
       "160  fe9e3273-73ca-49cf-8ea0-3a31984b4935   \n",
       "161  ff7699c8-4e6a-40e8-b8b5-7f7339b5b00e   \n",
       "\n",
       "                                               tarifas  \n",
       "0    [{'cci': '0601', 'descricao': 'CONSUMO EM KWH'...  \n",
       "1    [{'cci': '0602', 'descricao': 'DEMANDA POTÊNCI...  \n",
       "2    [{'cci': '0601', 'descricao': 'CONSUMO EM KWH'...  \n",
       "3    [{'cci': '0601', 'descricao': 'CONSUMO EM KWH'...  \n",
       "4    [{'cci': '0601', 'descricao': 'CONSUMO EM KWH ...  \n",
       "..                                                 ...  \n",
       "157  [{'cci': '0602', 'descricao': 'DEMANDA POTÊNCI...  \n",
       "158  [{'cci': '0601', 'descricao': 'CONSUMO EM KWH'...  \n",
       "159  [{'cci': '0601', 'descricao': 'CONSUMO EM KWH'...  \n",
       "160  [{'cci': '0601', 'descricao': 'CONSUMO EM KWH ...  \n",
       "161  [{'cci': '0601', 'descricao': 'CONSUMO EM KWH'...  \n",
       "\n",
       "[162 rows x 2 columns]"
      ]
     },
     "execution_count": 35,
     "metadata": {},
     "output_type": "execute_result"
    }
   ],
   "source": [
    "# Retornando ao formato de dicionários armazenados em lista\n",
    "tarifas_list = (\n",
    "\ttarifas_df\n",
    "\t.groupby('unique')\n",
    "\t.apply(lambda x : x[tarifas_df.drop(columns='unique').columns].to_dict('records'))\n",
    "\t.reset_index()\n",
    "\t.rename(columns={0:'tarifas'})\n",
    ")\n",
    "tarifas_list"
   ]
  },
  {
   "cell_type": "markdown",
   "metadata": {},
   "source": [
    "Como os dados `unique` não estão ordenados, será necessário fazer um merge."
   ]
  },
  {
   "cell_type": "code",
   "execution_count": 36,
   "metadata": {},
   "outputs": [
    {
     "name": "stdout",
     "output_type": "stream",
     "text": [
      "_id                                  object\n",
      "estruturaConsumo                     object\n",
      "unique                               object\n",
      "cliente                              object\n",
      "classe                               object\n",
      "ligacao                              object\n",
      "referencia                   datetime64[ns]\n",
      "data_vencimento              datetime64[ns]\n",
      "data_emissao                 datetime64[ns]\n",
      "data_apresentacao            datetime64[ns]\n",
      "data_proxima_leitura         datetime64[ns]\n",
      "cnpj                                 object\n",
      "uc                                   object\n",
      "refaturamento                          bool\n",
      "createdAt               datetime64[ns, UTC]\n",
      "updatedAt               datetime64[ns, UTC]\n",
      "tarifas                              object\n",
      "dtype: object\n"
     ]
    },
    {
     "data": {
      "text/html": [
       "<div>\n",
       "<style scoped>\n",
       "    .dataframe tbody tr th:only-of-type {\n",
       "        vertical-align: middle;\n",
       "    }\n",
       "\n",
       "    .dataframe tbody tr th {\n",
       "        vertical-align: top;\n",
       "    }\n",
       "\n",
       "    .dataframe thead th {\n",
       "        text-align: right;\n",
       "    }\n",
       "</style>\n",
       "<table border=\"1\" class=\"dataframe\">\n",
       "  <thead>\n",
       "    <tr style=\"text-align: right;\">\n",
       "      <th></th>\n",
       "      <th>_id</th>\n",
       "      <th>estruturaConsumo</th>\n",
       "      <th>unique</th>\n",
       "      <th>cliente</th>\n",
       "      <th>classe</th>\n",
       "      <th>ligacao</th>\n",
       "      <th>referencia</th>\n",
       "      <th>data_vencimento</th>\n",
       "      <th>data_emissao</th>\n",
       "      <th>data_apresentacao</th>\n",
       "      <th>data_proxima_leitura</th>\n",
       "      <th>cnpj</th>\n",
       "      <th>uc</th>\n",
       "      <th>refaturamento</th>\n",
       "      <th>createdAt</th>\n",
       "      <th>updatedAt</th>\n",
       "      <th>tarifas</th>\n",
       "    </tr>\n",
       "  </thead>\n",
       "  <tbody>\n",
       "    <tr>\n",
       "      <th>0</th>\n",
       "      <td>62220ff138b5b03262a806d4</td>\n",
       "      <td>{'un': 'KWH', 'posto': 'PONTA', 'medido': 2436...</td>\n",
       "      <td>b45dc7a8-2aa8-4693-a7c2-2260c4f0b642</td>\n",
       "      <td>SUPERMERCADO PAREDAO LTDA</td>\n",
       "      <td>COMERCIAL / OUTROS SERVIÇOS E OUTRAS ATIVIDADES</td>\n",
       "      <td>TRIFASICO</td>\n",
       "      <td>2022-02-01</td>\n",
       "      <td>2022-04-11</td>\n",
       "      <td>2022-02-26</td>\n",
       "      <td>2022-03-04</td>\n",
       "      <td>2022-03-29</td>\n",
       "      <td>28.847.082/0001-23</td>\n",
       "      <td>6/732146-6</td>\n",
       "      <td>False</td>\n",
       "      <td>2022-03-04 13:11:13.417000+00:00</td>\n",
       "      <td>2022-03-04 13:11:13.417000+00:00</td>\n",
       "      <td>[{'cci': '0601', 'descricao': 'CONSUMO EM KWH'...</td>\n",
       "    </tr>\n",
       "    <tr>\n",
       "      <th>1</th>\n",
       "      <td>62220ff138b5b03262a806da</td>\n",
       "      <td>{'un': 'KWH', 'posto': 'PONTA', 'medido': 1005...</td>\n",
       "      <td>1bcac16e-289a-45c4-8509-f98ad5b66bcb</td>\n",
       "      <td>TELEFONICA BRASIL SA</td>\n",
       "      <td>COMERCIAL / SERVIÇOS DE COMUNICAÇÕES E TELECOM...</td>\n",
       "      <td>TRIFASICO</td>\n",
       "      <td>2022-02-01</td>\n",
       "      <td>2022-03-15</td>\n",
       "      <td>2022-02-26</td>\n",
       "      <td>2022-03-08</td>\n",
       "      <td>2022-03-29</td>\n",
       "      <td>02.558.157/0001-62</td>\n",
       "      <td>6/2669086-7</td>\n",
       "      <td>False</td>\n",
       "      <td>2022-03-04 13:11:13.565000+00:00</td>\n",
       "      <td>2022-03-04 13:11:13.565000+00:00</td>\n",
       "      <td>[{'cci': '0601', 'descricao': 'CONSUMO EM KWH'...</td>\n",
       "    </tr>\n",
       "    <tr>\n",
       "      <th>2</th>\n",
       "      <td>62220ff238b5b03262a806e0</td>\n",
       "      <td>{'un': 'KWH', 'posto': 'PONTA', 'medido': 1000...</td>\n",
       "      <td>37399592-abd1-4de3-bb28-1b3753caf972</td>\n",
       "      <td>TELEFONICA BRASIL SA</td>\n",
       "      <td>COMERCIAL / SERVIÇOS DE COMUNICAÇÕES E TELECOM...</td>\n",
       "      <td>BIFASICO</td>\n",
       "      <td>2022-02-01</td>\n",
       "      <td>2022-03-28</td>\n",
       "      <td>2022-02-26</td>\n",
       "      <td>2022-03-11</td>\n",
       "      <td>2022-03-29</td>\n",
       "      <td>02.558.157/0001-62</td>\n",
       "      <td>6/2668744-2</td>\n",
       "      <td>False</td>\n",
       "      <td>2022-03-04 13:11:14.121000+00:00</td>\n",
       "      <td>2022-03-04 13:11:14.121000+00:00</td>\n",
       "      <td>[{'cci': '0601', 'descricao': 'CONSUMO EM KWH'...</td>\n",
       "    </tr>\n",
       "    <tr>\n",
       "      <th>3</th>\n",
       "      <td>62220ff338b5b03262a806ee</td>\n",
       "      <td>{'un': 'KWH', 'posto': 'PONTA', 'medido': 1856...</td>\n",
       "      <td>c0185cf7-f793-4c23-a593-b1ec1d41219a</td>\n",
       "      <td>COMERCIAL IOMAR DE ALIMENTOS LTDA EPP</td>\n",
       "      <td>COMERCIAL / COMERCIAL</td>\n",
       "      <td>TRIFASICO</td>\n",
       "      <td>2022-02-01</td>\n",
       "      <td>2022-04-13</td>\n",
       "      <td>2022-03-02</td>\n",
       "      <td>2022-03-04</td>\n",
       "      <td>2022-03-31</td>\n",
       "      <td>01.436.106/0001-03</td>\n",
       "      <td>6/336632-5</td>\n",
       "      <td>False</td>\n",
       "      <td>2022-03-04 13:11:15.541000+00:00</td>\n",
       "      <td>2022-03-04 13:11:15.541000+00:00</td>\n",
       "      <td>[{'cci': '0601', 'descricao': 'CONSUMO EM KWH ...</td>\n",
       "    </tr>\n",
       "    <tr>\n",
       "      <th>4</th>\n",
       "      <td>62220ff538b5b03262a80702</td>\n",
       "      <td>{'un': 'INJ', 'posto': 'PONTA', 'medido': 0.0,...</td>\n",
       "      <td>161ce259-5c70-4818-b2c5-2eee335e5067</td>\n",
       "      <td>CONSORCIO GERADOR FAZENDA MODELO</td>\n",
       "      <td>COMERCIAL / OUTROS SERVIÇOS E OUTRAS ATIVIDADES</td>\n",
       "      <td>TRIFASICO</td>\n",
       "      <td>2022-03-01</td>\n",
       "      <td>2022-03-16</td>\n",
       "      <td>2022-03-03</td>\n",
       "      <td>2022-03-09</td>\n",
       "      <td>2022-03-30</td>\n",
       "      <td>33.372.528/0001-40</td>\n",
       "      <td>6/2731936-7</td>\n",
       "      <td>False</td>\n",
       "      <td>2022-03-04 13:11:17.866000+00:00</td>\n",
       "      <td>2022-03-04 13:11:17.866000+00:00</td>\n",
       "      <td>[{'cci': '0602', 'descricao': 'DEMANDA POTÊNCI...</td>\n",
       "    </tr>\n",
       "  </tbody>\n",
       "</table>\n",
       "</div>"
      ],
      "text/plain": [
       "                        _id  \\\n",
       "0  62220ff138b5b03262a806d4   \n",
       "1  62220ff138b5b03262a806da   \n",
       "2  62220ff238b5b03262a806e0   \n",
       "3  62220ff338b5b03262a806ee   \n",
       "4  62220ff538b5b03262a80702   \n",
       "\n",
       "                                    estruturaConsumo  \\\n",
       "0  {'un': 'KWH', 'posto': 'PONTA', 'medido': 2436...   \n",
       "1  {'un': 'KWH', 'posto': 'PONTA', 'medido': 1005...   \n",
       "2  {'un': 'KWH', 'posto': 'PONTA', 'medido': 1000...   \n",
       "3  {'un': 'KWH', 'posto': 'PONTA', 'medido': 1856...   \n",
       "4  {'un': 'INJ', 'posto': 'PONTA', 'medido': 0.0,...   \n",
       "\n",
       "                                 unique  \\\n",
       "0  b45dc7a8-2aa8-4693-a7c2-2260c4f0b642   \n",
       "1  1bcac16e-289a-45c4-8509-f98ad5b66bcb   \n",
       "2  37399592-abd1-4de3-bb28-1b3753caf972   \n",
       "3  c0185cf7-f793-4c23-a593-b1ec1d41219a   \n",
       "4  161ce259-5c70-4818-b2c5-2eee335e5067   \n",
       "\n",
       "                                 cliente  \\\n",
       "0              SUPERMERCADO PAREDAO LTDA   \n",
       "1                   TELEFONICA BRASIL SA   \n",
       "2                   TELEFONICA BRASIL SA   \n",
       "3  COMERCIAL IOMAR DE ALIMENTOS LTDA EPP   \n",
       "4       CONSORCIO GERADOR FAZENDA MODELO   \n",
       "\n",
       "                                              classe    ligacao referencia  \\\n",
       "0    COMERCIAL / OUTROS SERVIÇOS E OUTRAS ATIVIDADES  TRIFASICO 2022-02-01   \n",
       "1  COMERCIAL / SERVIÇOS DE COMUNICAÇÕES E TELECOM...  TRIFASICO 2022-02-01   \n",
       "2  COMERCIAL / SERVIÇOS DE COMUNICAÇÕES E TELECOM...   BIFASICO 2022-02-01   \n",
       "3                              COMERCIAL / COMERCIAL  TRIFASICO 2022-02-01   \n",
       "4    COMERCIAL / OUTROS SERVIÇOS E OUTRAS ATIVIDADES  TRIFASICO 2022-03-01   \n",
       "\n",
       "  data_vencimento data_emissao data_apresentacao data_proxima_leitura  \\\n",
       "0      2022-04-11   2022-02-26        2022-03-04           2022-03-29   \n",
       "1      2022-03-15   2022-02-26        2022-03-08           2022-03-29   \n",
       "2      2022-03-28   2022-02-26        2022-03-11           2022-03-29   \n",
       "3      2022-04-13   2022-03-02        2022-03-04           2022-03-31   \n",
       "4      2022-03-16   2022-03-03        2022-03-09           2022-03-30   \n",
       "\n",
       "                 cnpj           uc  refaturamento  \\\n",
       "0  28.847.082/0001-23   6/732146-6          False   \n",
       "1  02.558.157/0001-62  6/2669086-7          False   \n",
       "2  02.558.157/0001-62  6/2668744-2          False   \n",
       "3  01.436.106/0001-03   6/336632-5          False   \n",
       "4  33.372.528/0001-40  6/2731936-7          False   \n",
       "\n",
       "                         createdAt                        updatedAt  \\\n",
       "0 2022-03-04 13:11:13.417000+00:00 2022-03-04 13:11:13.417000+00:00   \n",
       "1 2022-03-04 13:11:13.565000+00:00 2022-03-04 13:11:13.565000+00:00   \n",
       "2 2022-03-04 13:11:14.121000+00:00 2022-03-04 13:11:14.121000+00:00   \n",
       "3 2022-03-04 13:11:15.541000+00:00 2022-03-04 13:11:15.541000+00:00   \n",
       "4 2022-03-04 13:11:17.866000+00:00 2022-03-04 13:11:17.866000+00:00   \n",
       "\n",
       "                                             tarifas  \n",
       "0  [{'cci': '0601', 'descricao': 'CONSUMO EM KWH'...  \n",
       "1  [{'cci': '0601', 'descricao': 'CONSUMO EM KWH'...  \n",
       "2  [{'cci': '0601', 'descricao': 'CONSUMO EM KWH'...  \n",
       "3  [{'cci': '0601', 'descricao': 'CONSUMO EM KWH ...  \n",
       "4  [{'cci': '0602', 'descricao': 'DEMANDA POTÊNCI...  "
      ]
     },
     "execution_count": 36,
     "metadata": {},
     "output_type": "execute_result"
    }
   ],
   "source": [
    "# Dataframe com todos dados normalizados\n",
    "norm_df = pd.merge(\n",
    "\tleft=df.drop(columns='tarifas'),\n",
    "\tright=tarifas_list,\n",
    "\ton='unique'\n",
    ")\n",
    "print(norm_df.dtypes)\n",
    "norm_df.head()"
   ]
  },
  {
   "cell_type": "markdown",
   "metadata": {},
   "source": [
    "# 6. <span id='item6'>Análise dos dados"
   ]
  },
  {
   "cell_type": "markdown",
   "metadata": {},
   "source": [
    "## Distribuição das medições por cliente"
   ]
  },
  {
   "cell_type": "code",
   "execution_count": 39,
   "metadata": {},
   "outputs": [
    {
     "data": {
      "text/html": [
       "<div>\n",
       "<style scoped>\n",
       "    .dataframe tbody tr th:only-of-type {\n",
       "        vertical-align: middle;\n",
       "    }\n",
       "\n",
       "    .dataframe tbody tr th {\n",
       "        vertical-align: top;\n",
       "    }\n",
       "\n",
       "    .dataframe thead th {\n",
       "        text-align: right;\n",
       "    }\n",
       "</style>\n",
       "<table border=\"1\" class=\"dataframe\">\n",
       "  <thead>\n",
       "    <tr style=\"text-align: right;\">\n",
       "      <th></th>\n",
       "      <th>classe</th>\n",
       "      <th>ligacao</th>\n",
       "      <th>cnpj</th>\n",
       "      <th>uc</th>\n",
       "    </tr>\n",
       "    <tr>\n",
       "      <th>cliente</th>\n",
       "      <th></th>\n",
       "      <th></th>\n",
       "      <th></th>\n",
       "      <th></th>\n",
       "    </tr>\n",
       "  </thead>\n",
       "  <tbody>\n",
       "    <tr>\n",
       "      <th>AGUAS CUIABA S A CONCESSIONARIA DE SERVICOS</th>\n",
       "      <td>2</td>\n",
       "      <td>1</td>\n",
       "      <td>1</td>\n",
       "      <td>1</td>\n",
       "    </tr>\n",
       "    <tr>\n",
       "      <th>AGUAS LEBRINHA LTDA</th>\n",
       "      <td>2</td>\n",
       "      <td>1</td>\n",
       "      <td>1</td>\n",
       "      <td>1</td>\n",
       "    </tr>\n",
       "    <tr>\n",
       "      <th>COMERCIAL IOMAR DE ALIMENTOS LTDA EPP</th>\n",
       "      <td>1</td>\n",
       "      <td>1</td>\n",
       "      <td>1</td>\n",
       "      <td>1</td>\n",
       "    </tr>\n",
       "    <tr>\n",
       "      <th>COMERCIO DE GENEROS ALIMENTICIOS V S LTDA - ME</th>\n",
       "      <td>1</td>\n",
       "      <td>1</td>\n",
       "      <td>1</td>\n",
       "      <td>1</td>\n",
       "    </tr>\n",
       "    <tr>\n",
       "      <th>CONSORCIO GERADOR FAZENDA MODELO</th>\n",
       "      <td>2</td>\n",
       "      <td>1</td>\n",
       "      <td>1</td>\n",
       "      <td>1</td>\n",
       "    </tr>\n",
       "    <tr>\n",
       "      <th>IGUACU SUPERMERCADOS LTDA</th>\n",
       "      <td>1</td>\n",
       "      <td>1</td>\n",
       "      <td>1</td>\n",
       "      <td>1</td>\n",
       "    </tr>\n",
       "    <tr>\n",
       "      <th>J C ANDRADE SOUZA ME</th>\n",
       "      <td>1</td>\n",
       "      <td>1</td>\n",
       "      <td>1</td>\n",
       "      <td>1</td>\n",
       "    </tr>\n",
       "    <tr>\n",
       "      <th>M ALVORADA LTDA EPP</th>\n",
       "      <td>1</td>\n",
       "      <td>1</td>\n",
       "      <td>1</td>\n",
       "      <td>1</td>\n",
       "    </tr>\n",
       "    <tr>\n",
       "      <th>MINERACAO COITE LTDA</th>\n",
       "      <td>4</td>\n",
       "      <td>2</td>\n",
       "      <td>1</td>\n",
       "      <td>8</td>\n",
       "    </tr>\n",
       "    <tr>\n",
       "      <th>MW COMERCIO D E GENEROS ALIMENTICIOS LTDA</th>\n",
       "      <td>1</td>\n",
       "      <td>1</td>\n",
       "      <td>1</td>\n",
       "      <td>1</td>\n",
       "    </tr>\n",
       "    <tr>\n",
       "      <th>NERY ANDRADE NERY LTDA ME</th>\n",
       "      <td>1</td>\n",
       "      <td>1</td>\n",
       "      <td>1</td>\n",
       "      <td>1</td>\n",
       "    </tr>\n",
       "    <tr>\n",
       "      <th>SB SUPERMERCADO LTDA ME</th>\n",
       "      <td>1</td>\n",
       "      <td>1</td>\n",
       "      <td>1</td>\n",
       "      <td>1</td>\n",
       "    </tr>\n",
       "    <tr>\n",
       "      <th>SUPERMERCADO ALAMEDA LTDA</th>\n",
       "      <td>1</td>\n",
       "      <td>1</td>\n",
       "      <td>1</td>\n",
       "      <td>1</td>\n",
       "    </tr>\n",
       "    <tr>\n",
       "      <th>SUPERMERCADO ALAMEDA LTDA EPP</th>\n",
       "      <td>1</td>\n",
       "      <td>1</td>\n",
       "      <td>1</td>\n",
       "      <td>1</td>\n",
       "    </tr>\n",
       "    <tr>\n",
       "      <th>SUPERMERCADO PAREDAO LTDA</th>\n",
       "      <td>1</td>\n",
       "      <td>1</td>\n",
       "      <td>1</td>\n",
       "      <td>1</td>\n",
       "    </tr>\n",
       "    <tr>\n",
       "      <th>TELEFONICA BRASIL SA</th>\n",
       "      <td>4</td>\n",
       "      <td>2</td>\n",
       "      <td>1</td>\n",
       "      <td>25</td>\n",
       "    </tr>\n",
       "    <tr>\n",
       "      <th>VENTOS DO NORTE - COMERCIO DE PRODUTOS</th>\n",
       "      <td>1</td>\n",
       "      <td>1</td>\n",
       "      <td>1</td>\n",
       "      <td>1</td>\n",
       "    </tr>\n",
       "  </tbody>\n",
       "</table>\n",
       "</div>"
      ],
      "text/plain": [
       "                                                classe  ligacao  cnpj  uc\n",
       "cliente                                                                  \n",
       "AGUAS CUIABA S A CONCESSIONARIA DE SERVICOS          2        1     1   1\n",
       "AGUAS LEBRINHA LTDA                                  2        1     1   1\n",
       "COMERCIAL IOMAR DE ALIMENTOS LTDA EPP                1        1     1   1\n",
       "COMERCIO DE GENEROS ALIMENTICIOS V S LTDA - ME       1        1     1   1\n",
       "CONSORCIO GERADOR FAZENDA MODELO                     2        1     1   1\n",
       "IGUACU SUPERMERCADOS LTDA                            1        1     1   1\n",
       "J C ANDRADE SOUZA ME                                 1        1     1   1\n",
       "M ALVORADA LTDA EPP                                  1        1     1   1\n",
       "MINERACAO COITE LTDA                                 4        2     1   8\n",
       "MW COMERCIO D E GENEROS ALIMENTICIOS LTDA            1        1     1   1\n",
       "NERY ANDRADE NERY LTDA ME                            1        1     1   1\n",
       "SB SUPERMERCADO LTDA ME                              1        1     1   1\n",
       "SUPERMERCADO ALAMEDA LTDA                            1        1     1   1\n",
       "SUPERMERCADO ALAMEDA LTDA EPP                        1        1     1   1\n",
       "SUPERMERCADO PAREDAO LTDA                            1        1     1   1\n",
       "TELEFONICA BRASIL SA                                 4        2     1  25\n",
       "VENTOS DO NORTE - COMERCIO DE PRODUTOS               1        1     1   1"
      ]
     },
     "execution_count": 39,
     "metadata": {},
     "output_type": "execute_result"
    }
   ],
   "source": [
    "# Visualizando os registros únicos agrupados por cliente\n",
    "df.groupby(by='cliente')[['classe', 'ligacao', 'cnpj', 'uc']].nunique()"
   ]
  },
  {
   "cell_type": "markdown",
   "metadata": {},
   "source": [
    "Como o cliente 'TELEFONICA BRASIL SA' possuí mais dados em quantidade e variedade, vamos utilizá-lo como amostra para visualizar as distribuições do consumo e tarifas."
   ]
  },
  {
   "cell_type": "code",
   "execution_count": 40,
   "metadata": {},
   "outputs": [
    {
     "name": "stdout",
     "output_type": "stream",
     "text": [
      "<class 'pandas.core.frame.DataFrame'>\n",
      "Int64Index: 345 entries, 1 to 161\n",
      "Data columns (total 44 columns):\n",
      " #   Column                Non-Null Count  Dtype              \n",
      "---  ------                --------------  -----              \n",
      " 0   _id                   345 non-null    object             \n",
      " 1   unique                345 non-null    object             \n",
      " 2   cliente               345 non-null    object             \n",
      " 3   classe                345 non-null    object             \n",
      " 4   ligacao               345 non-null    object             \n",
      " 5   referencia            345 non-null    datetime64[ns]     \n",
      " 6   data_vencimento       345 non-null    datetime64[ns]     \n",
      " 7   data_emissao          345 non-null    datetime64[ns]     \n",
      " 8   data_apresentacao     345 non-null    datetime64[ns]     \n",
      " 9   data_proxima_leitura  345 non-null    datetime64[ns]     \n",
      " 10  cnpj                  345 non-null    object             \n",
      " 11  uc                    345 non-null    object             \n",
      " 12  refaturamento         345 non-null    bool               \n",
      " 13  createdAt             345 non-null    datetime64[ns, UTC]\n",
      " 14  updatedAt             345 non-null    datetime64[ns, UTC]\n",
      " 15  cci                   345 non-null    object             \n",
      " 16  descricao             345 non-null    object             \n",
      " 17  quantidade            345 non-null    float64            \n",
      " 18  semTributos           345 non-null    float64            \n",
      " 19  comTributos           345 non-null    float64            \n",
      " 20  valorTotal            345 non-null    float64            \n",
      " 21  baseIcms              345 non-null    float64            \n",
      " 22  aliqIcms              345 non-null    float64            \n",
      " 23  icms                  345 non-null    float64            \n",
      " 24  basePisCofins         345 non-null    float64            \n",
      " 25  pis                   345 non-null    float64            \n",
      " 26  cofins                345 non-null    float64            \n",
      " 27  _id.$oid              345 non-null    object             \n",
      " 28  class_desc            345 non-null    object             \n",
      " 29  tarifa_posto          345 non-null    object             \n",
      " 30  un                    345 non-null    object             \n",
      " 31  posto                 345 non-null    object             \n",
      " 32  medido                345 non-null    float64            \n",
      " 33  faturado              345 non-null    float64            \n",
      " 34  _id.$oid              345 non-null    object             \n",
      " 35  saldoPonta            271 non-null    object             \n",
      " 36  saldoForaPonta        271 non-null    object             \n",
      " 37  expiraForaPonta       271 non-null    object             \n",
      " 38  expiraPonta           271 non-null    object             \n",
      " 39  saldoAcumulado        271 non-null    object             \n",
      " 40  expiraAcumulado       271 non-null    object             \n",
      " 41  leituraAnterior       345 non-null    datetime64[ns]     \n",
      " 42  leituraAtual          345 non-null    datetime64[ns]     \n",
      " 43  unique                345 non-null    object             \n",
      "dtypes: bool(1), datetime64[ns, UTC](2), datetime64[ns](7), float64(12), object(22)\n",
      "memory usage: 118.9+ KB\n"
     ]
    }
   ],
   "source": [
    "cliente = 'TELEFONICA BRASIL SA'\n",
    "query_data = norm_df[norm_df['cliente']==cliente]\n",
    "# Normalizando os valores das tarifas\n",
    "query_data = query_data.explode('tarifas')\n",
    "query_data = pd.concat([\n",
    "\tquery_data.drop(columns='tarifas'),\n",
    "\tquery_data['tarifas'].apply(pd.Series)\n",
    "], axis=1)\n",
    "# Normalizando o valores de estruturaConsumo\n",
    "query_data = pd.concat([\n",
    "\tquery_data.drop(columns='estruturaConsumo'),\n",
    "\tquery_data['estruturaConsumo'].apply(pd.Series)\n",
    "], axis=1)\n",
    "query_data.info()"
   ]
  },
  {
   "cell_type": "code",
   "execution_count": 41,
   "metadata": {},
   "outputs": [
    {
     "data": {
      "text/html": [
       "<div>\n",
       "<style scoped>\n",
       "    .dataframe tbody tr th:only-of-type {\n",
       "        vertical-align: middle;\n",
       "    }\n",
       "\n",
       "    .dataframe tbody tr th {\n",
       "        vertical-align: top;\n",
       "    }\n",
       "\n",
       "    .dataframe thead th {\n",
       "        text-align: right;\n",
       "    }\n",
       "</style>\n",
       "<table border=\"1\" class=\"dataframe\">\n",
       "  <thead>\n",
       "    <tr style=\"text-align: right;\">\n",
       "      <th></th>\n",
       "      <th>_id</th>\n",
       "      <th>unique</th>\n",
       "      <th>cliente</th>\n",
       "      <th>classe</th>\n",
       "      <th>ligacao</th>\n",
       "      <th>referencia</th>\n",
       "      <th>data_vencimento</th>\n",
       "      <th>data_emissao</th>\n",
       "      <th>data_apresentacao</th>\n",
       "      <th>data_proxima_leitura</th>\n",
       "      <th>cnpj</th>\n",
       "      <th>uc</th>\n",
       "      <th>refaturamento</th>\n",
       "      <th>createdAt</th>\n",
       "      <th>updatedAt</th>\n",
       "      <th>cci</th>\n",
       "      <th>descricao</th>\n",
       "      <th>quantidade</th>\n",
       "      <th>semTributos</th>\n",
       "      <th>comTributos</th>\n",
       "      <th>valorTotal</th>\n",
       "      <th>baseIcms</th>\n",
       "      <th>aliqIcms</th>\n",
       "      <th>icms</th>\n",
       "      <th>basePisCofins</th>\n",
       "      <th>pis</th>\n",
       "      <th>cofins</th>\n",
       "      <th>_id.$oid</th>\n",
       "      <th>class_desc</th>\n",
       "      <th>tarifa_posto</th>\n",
       "      <th>un</th>\n",
       "      <th>posto</th>\n",
       "      <th>medido</th>\n",
       "      <th>faturado</th>\n",
       "      <th>_id.$oid</th>\n",
       "      <th>saldoPonta</th>\n",
       "      <th>saldoForaPonta</th>\n",
       "      <th>expiraForaPonta</th>\n",
       "      <th>expiraPonta</th>\n",
       "      <th>saldoAcumulado</th>\n",
       "      <th>expiraAcumulado</th>\n",
       "      <th>leituraAnterior</th>\n",
       "      <th>leituraAtual</th>\n",
       "      <th>unique</th>\n",
       "    </tr>\n",
       "  </thead>\n",
       "  <tbody>\n",
       "    <tr>\n",
       "      <th>1</th>\n",
       "      <td>62220ff138b5b03262a806da</td>\n",
       "      <td>1bcac16e-289a-45c4-8509-f98ad5b66bcb</td>\n",
       "      <td>TELEFONICA BRASIL SA</td>\n",
       "      <td>COMERCIAL / SERVIÇOS DE COMUNICAÇÕES E TELECOM...</td>\n",
       "      <td>TRIFASICO</td>\n",
       "      <td>2022-02-01</td>\n",
       "      <td>2022-03-15</td>\n",
       "      <td>2022-02-26</td>\n",
       "      <td>2022-03-08</td>\n",
       "      <td>2022-03-29</td>\n",
       "      <td>02.558.157/0001-62</td>\n",
       "      <td>6/2669086-7</td>\n",
       "      <td>False</td>\n",
       "      <td>2022-03-04 13:11:13.565000+00:00</td>\n",
       "      <td>2022-03-04 13:11:13.565000+00:00</td>\n",
       "      <td>0601</td>\n",
       "      <td>CONSUMO EM KWH</td>\n",
       "      <td>1005.0</td>\n",
       "      <td>0.6835</td>\n",
       "      <td>0.85548</td>\n",
       "      <td>859.76</td>\n",
       "      <td>859.76</td>\n",
       "      <td>17.0</td>\n",
       "      <td>146.16</td>\n",
       "      <td>713.60</td>\n",
       "      <td>4.76</td>\n",
       "      <td>21.92</td>\n",
       "      <td>62220ff138b5b03262a806db</td>\n",
       "      <td>CONSUMO</td>\n",
       "      <td>NA</td>\n",
       "      <td>KWH</td>\n",
       "      <td>PONTA</td>\n",
       "      <td>1005.0</td>\n",
       "      <td>1005.0</td>\n",
       "      <td>62220ff138b5b03262a806df</td>\n",
       "      <td>0</td>\n",
       "      <td>0</td>\n",
       "      <td>0</td>\n",
       "      <td>0</td>\n",
       "      <td>0</td>\n",
       "      <td>0</td>\n",
       "      <td>2022-01-28</td>\n",
       "      <td>2022-02-25</td>\n",
       "      <td>1bcac16e-289a-45c4-8509-f98ad5b66bcb</td>\n",
       "    </tr>\n",
       "    <tr>\n",
       "      <th>1</th>\n",
       "      <td>62220ff138b5b03262a806da</td>\n",
       "      <td>1bcac16e-289a-45c4-8509-f98ad5b66bcb</td>\n",
       "      <td>TELEFONICA BRASIL SA</td>\n",
       "      <td>COMERCIAL / SERVIÇOS DE COMUNICAÇÕES E TELECOM...</td>\n",
       "      <td>TRIFASICO</td>\n",
       "      <td>2022-02-01</td>\n",
       "      <td>2022-03-15</td>\n",
       "      <td>2022-02-26</td>\n",
       "      <td>2022-03-08</td>\n",
       "      <td>2022-03-29</td>\n",
       "      <td>02.558.157/0001-62</td>\n",
       "      <td>6/2669086-7</td>\n",
       "      <td>False</td>\n",
       "      <td>2022-03-04 13:11:13.565000+00:00</td>\n",
       "      <td>2022-03-04 13:11:13.565000+00:00</td>\n",
       "      <td>0601</td>\n",
       "      <td>ENERGIA ATV INJETADA OUC 02/2022 MPT</td>\n",
       "      <td>529.0</td>\n",
       "      <td>0.6835</td>\n",
       "      <td>0.76897</td>\n",
       "      <td>-406.79</td>\n",
       "      <td>-183.36</td>\n",
       "      <td>17.0</td>\n",
       "      <td>-31.17</td>\n",
       "      <td>-375.62</td>\n",
       "      <td>-2.50</td>\n",
       "      <td>-11.54</td>\n",
       "      <td>62220ff138b5b03262a806dc</td>\n",
       "      <td>ENERGIA</td>\n",
       "      <td>NA</td>\n",
       "      <td>KWH</td>\n",
       "      <td>PONTA</td>\n",
       "      <td>1005.0</td>\n",
       "      <td>1005.0</td>\n",
       "      <td>62220ff138b5b03262a806df</td>\n",
       "      <td>0</td>\n",
       "      <td>0</td>\n",
       "      <td>0</td>\n",
       "      <td>0</td>\n",
       "      <td>0</td>\n",
       "      <td>0</td>\n",
       "      <td>2022-01-28</td>\n",
       "      <td>2022-02-25</td>\n",
       "      <td>1bcac16e-289a-45c4-8509-f98ad5b66bcb</td>\n",
       "    </tr>\n",
       "  </tbody>\n",
       "</table>\n",
       "</div>"
      ],
      "text/plain": [
       "                        _id                                unique  \\\n",
       "1  62220ff138b5b03262a806da  1bcac16e-289a-45c4-8509-f98ad5b66bcb   \n",
       "1  62220ff138b5b03262a806da  1bcac16e-289a-45c4-8509-f98ad5b66bcb   \n",
       "\n",
       "                cliente                                             classe  \\\n",
       "1  TELEFONICA BRASIL SA  COMERCIAL / SERVIÇOS DE COMUNICAÇÕES E TELECOM...   \n",
       "1  TELEFONICA BRASIL SA  COMERCIAL / SERVIÇOS DE COMUNICAÇÕES E TELECOM...   \n",
       "\n",
       "     ligacao referencia data_vencimento data_emissao data_apresentacao  \\\n",
       "1  TRIFASICO 2022-02-01      2022-03-15   2022-02-26        2022-03-08   \n",
       "1  TRIFASICO 2022-02-01      2022-03-15   2022-02-26        2022-03-08   \n",
       "\n",
       "  data_proxima_leitura                cnpj           uc  refaturamento  \\\n",
       "1           2022-03-29  02.558.157/0001-62  6/2669086-7          False   \n",
       "1           2022-03-29  02.558.157/0001-62  6/2669086-7          False   \n",
       "\n",
       "                         createdAt                        updatedAt   cci  \\\n",
       "1 2022-03-04 13:11:13.565000+00:00 2022-03-04 13:11:13.565000+00:00  0601   \n",
       "1 2022-03-04 13:11:13.565000+00:00 2022-03-04 13:11:13.565000+00:00  0601   \n",
       "\n",
       "                              descricao  quantidade  semTributos  comTributos  \\\n",
       "1                        CONSUMO EM KWH      1005.0       0.6835      0.85548   \n",
       "1  ENERGIA ATV INJETADA OUC 02/2022 MPT       529.0       0.6835      0.76897   \n",
       "\n",
       "   valorTotal  baseIcms  aliqIcms    icms  basePisCofins   pis  cofins  \\\n",
       "1      859.76    859.76      17.0  146.16         713.60  4.76   21.92   \n",
       "1     -406.79   -183.36      17.0  -31.17        -375.62 -2.50  -11.54   \n",
       "\n",
       "                   _id.$oid class_desc tarifa_posto   un  posto  medido  \\\n",
       "1  62220ff138b5b03262a806db    CONSUMO           NA  KWH  PONTA  1005.0   \n",
       "1  62220ff138b5b03262a806dc    ENERGIA           NA  KWH  PONTA  1005.0   \n",
       "\n",
       "   faturado                  _id.$oid saldoPonta saldoForaPonta  \\\n",
       "1    1005.0  62220ff138b5b03262a806df          0              0   \n",
       "1    1005.0  62220ff138b5b03262a806df          0              0   \n",
       "\n",
       "  expiraForaPonta expiraPonta saldoAcumulado expiraAcumulado leituraAnterior  \\\n",
       "1               0           0              0               0      2022-01-28   \n",
       "1               0           0              0               0      2022-01-28   \n",
       "\n",
       "  leituraAtual                                unique  \n",
       "1   2022-02-25  1bcac16e-289a-45c4-8509-f98ad5b66bcb  \n",
       "1   2022-02-25  1bcac16e-289a-45c4-8509-f98ad5b66bcb  "
      ]
     },
     "execution_count": 41,
     "metadata": {},
     "output_type": "execute_result"
    }
   ],
   "source": [
    "query_data.head(2)"
   ]
  },
  {
   "cell_type": "code",
   "execution_count": null,
   "metadata": {},
   "outputs": [],
   "source": []
  },
  {
   "cell_type": "markdown",
   "metadata": {},
   "source": [
    "## Explorando `estruturaConsumo`"
   ]
  },
  {
   "cell_type": "code",
   "execution_count": 42,
   "metadata": {},
   "outputs": [
    {
     "data": {
      "text/html": [
       "<div>\n",
       "<style scoped>\n",
       "    .dataframe tbody tr th:only-of-type {\n",
       "        vertical-align: middle;\n",
       "    }\n",
       "\n",
       "    .dataframe tbody tr th {\n",
       "        vertical-align: top;\n",
       "    }\n",
       "\n",
       "    .dataframe thead tr th {\n",
       "        text-align: left;\n",
       "    }\n",
       "\n",
       "    .dataframe thead tr:last-of-type th {\n",
       "        text-align: right;\n",
       "    }\n",
       "</style>\n",
       "<table border=\"1\" class=\"dataframe\">\n",
       "  <thead>\n",
       "    <tr>\n",
       "      <th></th>\n",
       "      <th></th>\n",
       "      <th colspan=\"8\" halign=\"left\">medido</th>\n",
       "      <th colspan=\"8\" halign=\"left\">faturado</th>\n",
       "      <th colspan=\"8\" halign=\"left\">saldoPonta</th>\n",
       "      <th colspan=\"8\" halign=\"left\">saldoForaPonta</th>\n",
       "      <th colspan=\"8\" halign=\"left\">expiraForaPonta</th>\n",
       "      <th colspan=\"8\" halign=\"left\">expiraPonta</th>\n",
       "      <th colspan=\"8\" halign=\"left\">saldoAcumulado</th>\n",
       "      <th colspan=\"8\" halign=\"left\">expiraAcumulado</th>\n",
       "    </tr>\n",
       "    <tr>\n",
       "      <th></th>\n",
       "      <th></th>\n",
       "      <th>count</th>\n",
       "      <th>mean</th>\n",
       "      <th>std</th>\n",
       "      <th>min</th>\n",
       "      <th>25%</th>\n",
       "      <th>50%</th>\n",
       "      <th>75%</th>\n",
       "      <th>max</th>\n",
       "      <th>count</th>\n",
       "      <th>mean</th>\n",
       "      <th>std</th>\n",
       "      <th>min</th>\n",
       "      <th>25%</th>\n",
       "      <th>50%</th>\n",
       "      <th>75%</th>\n",
       "      <th>max</th>\n",
       "      <th>count</th>\n",
       "      <th>mean</th>\n",
       "      <th>std</th>\n",
       "      <th>min</th>\n",
       "      <th>25%</th>\n",
       "      <th>50%</th>\n",
       "      <th>75%</th>\n",
       "      <th>max</th>\n",
       "      <th>count</th>\n",
       "      <th>mean</th>\n",
       "      <th>std</th>\n",
       "      <th>min</th>\n",
       "      <th>25%</th>\n",
       "      <th>50%</th>\n",
       "      <th>75%</th>\n",
       "      <th>max</th>\n",
       "      <th>count</th>\n",
       "      <th>mean</th>\n",
       "      <th>std</th>\n",
       "      <th>min</th>\n",
       "      <th>25%</th>\n",
       "      <th>50%</th>\n",
       "      <th>75%</th>\n",
       "      <th>max</th>\n",
       "      <th>count</th>\n",
       "      <th>mean</th>\n",
       "      <th>std</th>\n",
       "      <th>min</th>\n",
       "      <th>25%</th>\n",
       "      <th>50%</th>\n",
       "      <th>75%</th>\n",
       "      <th>max</th>\n",
       "      <th>count</th>\n",
       "      <th>mean</th>\n",
       "      <th>std</th>\n",
       "      <th>min</th>\n",
       "      <th>25%</th>\n",
       "      <th>50%</th>\n",
       "      <th>75%</th>\n",
       "      <th>max</th>\n",
       "      <th>count</th>\n",
       "      <th>mean</th>\n",
       "      <th>std</th>\n",
       "      <th>min</th>\n",
       "      <th>25%</th>\n",
       "      <th>50%</th>\n",
       "      <th>75%</th>\n",
       "      <th>max</th>\n",
       "    </tr>\n",
       "    <tr>\n",
       "      <th>un</th>\n",
       "      <th>posto</th>\n",
       "      <th></th>\n",
       "      <th></th>\n",
       "      <th></th>\n",
       "      <th></th>\n",
       "      <th></th>\n",
       "      <th></th>\n",
       "      <th></th>\n",
       "      <th></th>\n",
       "      <th></th>\n",
       "      <th></th>\n",
       "      <th></th>\n",
       "      <th></th>\n",
       "      <th></th>\n",
       "      <th></th>\n",
       "      <th></th>\n",
       "      <th></th>\n",
       "      <th></th>\n",
       "      <th></th>\n",
       "      <th></th>\n",
       "      <th></th>\n",
       "      <th></th>\n",
       "      <th></th>\n",
       "      <th></th>\n",
       "      <th></th>\n",
       "      <th></th>\n",
       "      <th></th>\n",
       "      <th></th>\n",
       "      <th></th>\n",
       "      <th></th>\n",
       "      <th></th>\n",
       "      <th></th>\n",
       "      <th></th>\n",
       "      <th></th>\n",
       "      <th></th>\n",
       "      <th></th>\n",
       "      <th></th>\n",
       "      <th></th>\n",
       "      <th></th>\n",
       "      <th></th>\n",
       "      <th></th>\n",
       "      <th></th>\n",
       "      <th></th>\n",
       "      <th></th>\n",
       "      <th></th>\n",
       "      <th></th>\n",
       "      <th></th>\n",
       "      <th></th>\n",
       "      <th></th>\n",
       "      <th></th>\n",
       "      <th></th>\n",
       "      <th></th>\n",
       "      <th></th>\n",
       "      <th></th>\n",
       "      <th></th>\n",
       "      <th></th>\n",
       "      <th></th>\n",
       "      <th></th>\n",
       "      <th></th>\n",
       "      <th></th>\n",
       "      <th></th>\n",
       "      <th></th>\n",
       "      <th></th>\n",
       "      <th></th>\n",
       "      <th></th>\n",
       "    </tr>\n",
       "  </thead>\n",
       "  <tbody>\n",
       "    <tr>\n",
       "      <th rowspan=\"2\" valign=\"top\">DRE</th>\n",
       "      <th>FPONTA</th>\n",
       "      <td>20.0</td>\n",
       "      <td>220.079830</td>\n",
       "      <td>468.318089</td>\n",
       "      <td>0.00</td>\n",
       "      <td>0.4300</td>\n",
       "      <td>35.0800</td>\n",
       "      <td>50.63775</td>\n",
       "      <td>1.357780e+03</td>\n",
       "      <td>20.0</td>\n",
       "      <td>16.983000</td>\n",
       "      <td>44.712768</td>\n",
       "      <td>0.0</td>\n",
       "      <td>0.00</td>\n",
       "      <td>0.0000</td>\n",
       "      <td>1.2275</td>\n",
       "      <td>159.0700</td>\n",
       "      <td>17.0</td>\n",
       "      <td>45681.941176</td>\n",
       "      <td>52584.749378</td>\n",
       "      <td>0.0</td>\n",
       "      <td>621.00</td>\n",
       "      <td>16769.0</td>\n",
       "      <td>113938.00</td>\n",
       "      <td>113938.0</td>\n",
       "      <td>17.0</td>\n",
       "      <td>5.181902e+05</td>\n",
       "      <td>597240.993213</td>\n",
       "      <td>0.0</td>\n",
       "      <td>6569.0</td>\n",
       "      <td>180469.0</td>\n",
       "      <td>1294015.0</td>\n",
       "      <td>1294015.0</td>\n",
       "      <td>17.0</td>\n",
       "      <td>0.0</td>\n",
       "      <td>0.0</td>\n",
       "      <td>0.0</td>\n",
       "      <td>0.0</td>\n",
       "      <td>0.0</td>\n",
       "      <td>0.0</td>\n",
       "      <td>0.0</td>\n",
       "      <td>17.0</td>\n",
       "      <td>0.0</td>\n",
       "      <td>0.0</td>\n",
       "      <td>0.0</td>\n",
       "      <td>0.0</td>\n",
       "      <td>0.0</td>\n",
       "      <td>0.0</td>\n",
       "      <td>0.0</td>\n",
       "      <td>17.0</td>\n",
       "      <td>0.000000</td>\n",
       "      <td>0.000000</td>\n",
       "      <td>0.0</td>\n",
       "      <td>0.00</td>\n",
       "      <td>0.0</td>\n",
       "      <td>0.0</td>\n",
       "      <td>0.0</td>\n",
       "      <td>17.0</td>\n",
       "      <td>0.0</td>\n",
       "      <td>0.0</td>\n",
       "      <td>0.0</td>\n",
       "      <td>0.0</td>\n",
       "      <td>0.0</td>\n",
       "      <td>0.0</td>\n",
       "      <td>0.0</td>\n",
       "    </tr>\n",
       "    <tr>\n",
       "      <th>PONTA</th>\n",
       "      <td>12.0</td>\n",
       "      <td>36.732025</td>\n",
       "      <td>34.941622</td>\n",
       "      <td>0.40</td>\n",
       "      <td>15.3825</td>\n",
       "      <td>33.2350</td>\n",
       "      <td>41.30500</td>\n",
       "      <td>1.259192e+02</td>\n",
       "      <td>12.0</td>\n",
       "      <td>0.316667</td>\n",
       "      <td>0.573781</td>\n",
       "      <td>0.0</td>\n",
       "      <td>0.00</td>\n",
       "      <td>0.0000</td>\n",
       "      <td>0.2950</td>\n",
       "      <td>1.3200</td>\n",
       "      <td>9.0</td>\n",
       "      <td>22851.111111</td>\n",
       "      <td>35547.676371</td>\n",
       "      <td>0.0</td>\n",
       "      <td>1.00</td>\n",
       "      <td>13331.0</td>\n",
       "      <td>21929.00</td>\n",
       "      <td>113938.0</td>\n",
       "      <td>9.0</td>\n",
       "      <td>2.584468e+05</td>\n",
       "      <td>402863.945033</td>\n",
       "      <td>0.0</td>\n",
       "      <td>0.0</td>\n",
       "      <td>179161.0</td>\n",
       "      <td>236974.0</td>\n",
       "      <td>1294015.0</td>\n",
       "      <td>9.0</td>\n",
       "      <td>0.0</td>\n",
       "      <td>0.0</td>\n",
       "      <td>0.0</td>\n",
       "      <td>0.0</td>\n",
       "      <td>0.0</td>\n",
       "      <td>0.0</td>\n",
       "      <td>0.0</td>\n",
       "      <td>9.0</td>\n",
       "      <td>0.0</td>\n",
       "      <td>0.0</td>\n",
       "      <td>0.0</td>\n",
       "      <td>0.0</td>\n",
       "      <td>0.0</td>\n",
       "      <td>0.0</td>\n",
       "      <td>0.0</td>\n",
       "      <td>9.0</td>\n",
       "      <td>0.000000</td>\n",
       "      <td>0.000000</td>\n",
       "      <td>0.0</td>\n",
       "      <td>0.00</td>\n",
       "      <td>0.0</td>\n",
       "      <td>0.0</td>\n",
       "      <td>0.0</td>\n",
       "      <td>9.0</td>\n",
       "      <td>0.0</td>\n",
       "      <td>0.0</td>\n",
       "      <td>0.0</td>\n",
       "      <td>0.0</td>\n",
       "      <td>0.0</td>\n",
       "      <td>0.0</td>\n",
       "      <td>0.0</td>\n",
       "    </tr>\n",
       "    <tr>\n",
       "      <th rowspan=\"2\" valign=\"top\">ERE</th>\n",
       "      <th>FPONTA</th>\n",
       "      <td>23.0</td>\n",
       "      <td>548.226357</td>\n",
       "      <td>913.954384</td>\n",
       "      <td>0.00</td>\n",
       "      <td>0.2500</td>\n",
       "      <td>68.0000</td>\n",
       "      <td>910.00000</td>\n",
       "      <td>3.550000e+03</td>\n",
       "      <td>23.0</td>\n",
       "      <td>316.443748</td>\n",
       "      <td>618.714976</td>\n",
       "      <td>0.0</td>\n",
       "      <td>0.00</td>\n",
       "      <td>3.2000</td>\n",
       "      <td>128.9081</td>\n",
       "      <td>1775.9800</td>\n",
       "      <td>20.0</td>\n",
       "      <td>56102.950000</td>\n",
       "      <td>54560.007251</td>\n",
       "      <td>0.0</td>\n",
       "      <td>621.75</td>\n",
       "      <td>24410.5</td>\n",
       "      <td>113938.00</td>\n",
       "      <td>117590.0</td>\n",
       "      <td>20.0</td>\n",
       "      <td>6.327969e+05</td>\n",
       "      <td>615440.821914</td>\n",
       "      <td>0.0</td>\n",
       "      <td>6569.0</td>\n",
       "      <td>261726.5</td>\n",
       "      <td>1294015.0</td>\n",
       "      <td>1294015.0</td>\n",
       "      <td>20.0</td>\n",
       "      <td>0.0</td>\n",
       "      <td>0.0</td>\n",
       "      <td>0.0</td>\n",
       "      <td>0.0</td>\n",
       "      <td>0.0</td>\n",
       "      <td>0.0</td>\n",
       "      <td>0.0</td>\n",
       "      <td>20.0</td>\n",
       "      <td>0.0</td>\n",
       "      <td>0.0</td>\n",
       "      <td>0.0</td>\n",
       "      <td>0.0</td>\n",
       "      <td>0.0</td>\n",
       "      <td>0.0</td>\n",
       "      <td>0.0</td>\n",
       "      <td>20.0</td>\n",
       "      <td>0.000000</td>\n",
       "      <td>0.000000</td>\n",
       "      <td>0.0</td>\n",
       "      <td>0.00</td>\n",
       "      <td>0.0</td>\n",
       "      <td>0.0</td>\n",
       "      <td>0.0</td>\n",
       "      <td>20.0</td>\n",
       "      <td>0.0</td>\n",
       "      <td>0.0</td>\n",
       "      <td>0.0</td>\n",
       "      <td>0.0</td>\n",
       "      <td>0.0</td>\n",
       "      <td>0.0</td>\n",
       "      <td>0.0</td>\n",
       "    </tr>\n",
       "    <tr>\n",
       "      <th>PONTA</th>\n",
       "      <td>13.0</td>\n",
       "      <td>190.204885</td>\n",
       "      <td>346.703770</td>\n",
       "      <td>0.00</td>\n",
       "      <td>1.2500</td>\n",
       "      <td>7.9335</td>\n",
       "      <td>198.23000</td>\n",
       "      <td>1.141000e+03</td>\n",
       "      <td>13.0</td>\n",
       "      <td>190.204885</td>\n",
       "      <td>346.703770</td>\n",
       "      <td>0.0</td>\n",
       "      <td>1.25</td>\n",
       "      <td>7.9335</td>\n",
       "      <td>198.2300</td>\n",
       "      <td>1141.0000</td>\n",
       "      <td>10.0</td>\n",
       "      <td>14131.300000</td>\n",
       "      <td>35476.492900</td>\n",
       "      <td>0.0</td>\n",
       "      <td>0.25</td>\n",
       "      <td>311.0</td>\n",
       "      <td>9754.75</td>\n",
       "      <td>113938.0</td>\n",
       "      <td>10.0</td>\n",
       "      <td>1.635237e+05</td>\n",
       "      <td>402966.478201</td>\n",
       "      <td>0.0</td>\n",
       "      <td>0.0</td>\n",
       "      <td>3284.5</td>\n",
       "      <td>113334.5</td>\n",
       "      <td>1294015.0</td>\n",
       "      <td>10.0</td>\n",
       "      <td>0.0</td>\n",
       "      <td>0.0</td>\n",
       "      <td>0.0</td>\n",
       "      <td>0.0</td>\n",
       "      <td>0.0</td>\n",
       "      <td>0.0</td>\n",
       "      <td>0.0</td>\n",
       "      <td>10.0</td>\n",
       "      <td>0.0</td>\n",
       "      <td>0.0</td>\n",
       "      <td>0.0</td>\n",
       "      <td>0.0</td>\n",
       "      <td>0.0</td>\n",
       "      <td>0.0</td>\n",
       "      <td>0.0</td>\n",
       "      <td>10.0</td>\n",
       "      <td>56998.400000</td>\n",
       "      <td>120293.083561</td>\n",
       "      <td>0.0</td>\n",
       "      <td>0.00</td>\n",
       "      <td>0.0</td>\n",
       "      <td>0.0</td>\n",
       "      <td>296848.0</td>\n",
       "      <td>10.0</td>\n",
       "      <td>0.0</td>\n",
       "      <td>0.0</td>\n",
       "      <td>0.0</td>\n",
       "      <td>0.0</td>\n",
       "      <td>0.0</td>\n",
       "      <td>0.0</td>\n",
       "      <td>0.0</td>\n",
       "    </tr>\n",
       "    <tr>\n",
       "      <th rowspan=\"2\" valign=\"top\">INJ</th>\n",
       "      <th>FPONTA</th>\n",
       "      <td>32.0</td>\n",
       "      <td>520452.377188</td>\n",
       "      <td>685641.461979</td>\n",
       "      <td>0.00</td>\n",
       "      <td>0.0000</td>\n",
       "      <td>283786.0000</td>\n",
       "      <td>631232.75000</td>\n",
       "      <td>2.308221e+06</td>\n",
       "      <td>32.0</td>\n",
       "      <td>4921.388400</td>\n",
       "      <td>10891.472713</td>\n",
       "      <td>0.0</td>\n",
       "      <td>0.00</td>\n",
       "      <td>0.0000</td>\n",
       "      <td>344.5000</td>\n",
       "      <td>50764.8388</td>\n",
       "      <td>29.0</td>\n",
       "      <td>95992.310345</td>\n",
       "      <td>81911.290578</td>\n",
       "      <td>0.0</td>\n",
       "      <td>13331.00</td>\n",
       "      <td>113938.0</td>\n",
       "      <td>113938.00</td>\n",
       "      <td>222726.0</td>\n",
       "      <td>29.0</td>\n",
       "      <td>1.080796e+06</td>\n",
       "      <td>916431.241759</td>\n",
       "      <td>0.0</td>\n",
       "      <td>179161.0</td>\n",
       "      <td>1294015.0</td>\n",
       "      <td>1294015.0</td>\n",
       "      <td>2486446.0</td>\n",
       "      <td>29.0</td>\n",
       "      <td>0.0</td>\n",
       "      <td>0.0</td>\n",
       "      <td>0.0</td>\n",
       "      <td>0.0</td>\n",
       "      <td>0.0</td>\n",
       "      <td>0.0</td>\n",
       "      <td>0.0</td>\n",
       "      <td>29.0</td>\n",
       "      <td>0.0</td>\n",
       "      <td>0.0</td>\n",
       "      <td>0.0</td>\n",
       "      <td>0.0</td>\n",
       "      <td>0.0</td>\n",
       "      <td>0.0</td>\n",
       "      <td>0.0</td>\n",
       "      <td>29.0</td>\n",
       "      <td>0.000000</td>\n",
       "      <td>0.000000</td>\n",
       "      <td>0.0</td>\n",
       "      <td>0.00</td>\n",
       "      <td>0.0</td>\n",
       "      <td>0.0</td>\n",
       "      <td>0.0</td>\n",
       "      <td>29.0</td>\n",
       "      <td>0.0</td>\n",
       "      <td>0.0</td>\n",
       "      <td>0.0</td>\n",
       "      <td>0.0</td>\n",
       "      <td>0.0</td>\n",
       "      <td>0.0</td>\n",
       "      <td>0.0</td>\n",
       "    </tr>\n",
       "    <tr>\n",
       "      <th>PONTA</th>\n",
       "      <td>32.0</td>\n",
       "      <td>53941.500938</td>\n",
       "      <td>65885.498443</td>\n",
       "      <td>0.00</td>\n",
       "      <td>0.0000</td>\n",
       "      <td>33045.5000</td>\n",
       "      <td>71877.25000</td>\n",
       "      <td>2.162952e+05</td>\n",
       "      <td>32.0</td>\n",
       "      <td>586.930925</td>\n",
       "      <td>1382.345447</td>\n",
       "      <td>0.0</td>\n",
       "      <td>0.00</td>\n",
       "      <td>0.0000</td>\n",
       "      <td>6.9650</td>\n",
       "      <td>6804.1796</td>\n",
       "      <td>29.0</td>\n",
       "      <td>95992.310345</td>\n",
       "      <td>81911.290578</td>\n",
       "      <td>0.0</td>\n",
       "      <td>13331.00</td>\n",
       "      <td>113938.0</td>\n",
       "      <td>113938.00</td>\n",
       "      <td>222726.0</td>\n",
       "      <td>29.0</td>\n",
       "      <td>1.080796e+06</td>\n",
       "      <td>916431.241759</td>\n",
       "      <td>0.0</td>\n",
       "      <td>179161.0</td>\n",
       "      <td>1294015.0</td>\n",
       "      <td>1294015.0</td>\n",
       "      <td>2486446.0</td>\n",
       "      <td>29.0</td>\n",
       "      <td>0.0</td>\n",
       "      <td>0.0</td>\n",
       "      <td>0.0</td>\n",
       "      <td>0.0</td>\n",
       "      <td>0.0</td>\n",
       "      <td>0.0</td>\n",
       "      <td>0.0</td>\n",
       "      <td>29.0</td>\n",
       "      <td>0.0</td>\n",
       "      <td>0.0</td>\n",
       "      <td>0.0</td>\n",
       "      <td>0.0</td>\n",
       "      <td>0.0</td>\n",
       "      <td>0.0</td>\n",
       "      <td>0.0</td>\n",
       "      <td>29.0</td>\n",
       "      <td>0.000000</td>\n",
       "      <td>0.000000</td>\n",
       "      <td>0.0</td>\n",
       "      <td>0.00</td>\n",
       "      <td>0.0</td>\n",
       "      <td>0.0</td>\n",
       "      <td>0.0</td>\n",
       "      <td>29.0</td>\n",
       "      <td>0.0</td>\n",
       "      <td>0.0</td>\n",
       "      <td>0.0</td>\n",
       "      <td>0.0</td>\n",
       "      <td>0.0</td>\n",
       "      <td>0.0</td>\n",
       "      <td>0.0</td>\n",
       "    </tr>\n",
       "    <tr>\n",
       "      <th>KVA</th>\n",
       "      <th>PONTA</th>\n",
       "      <td>9.0</td>\n",
       "      <td>9288.777778</td>\n",
       "      <td>8270.222167</td>\n",
       "      <td>779.00</td>\n",
       "      <td>861.0000</td>\n",
       "      <td>13448.0000</td>\n",
       "      <td>15662.00000</td>\n",
       "      <td>2.041800e+04</td>\n",
       "      <td>9.0</td>\n",
       "      <td>0.000000</td>\n",
       "      <td>0.000000</td>\n",
       "      <td>0.0</td>\n",
       "      <td>0.00</td>\n",
       "      <td>0.0000</td>\n",
       "      <td>0.0000</td>\n",
       "      <td>0.0000</td>\n",
       "      <td>8.0</td>\n",
       "      <td>0.000000</td>\n",
       "      <td>0.000000</td>\n",
       "      <td>0.0</td>\n",
       "      <td>0.00</td>\n",
       "      <td>0.0</td>\n",
       "      <td>0.00</td>\n",
       "      <td>0.0</td>\n",
       "      <td>8.0</td>\n",
       "      <td>0.000000e+00</td>\n",
       "      <td>0.000000</td>\n",
       "      <td>0.0</td>\n",
       "      <td>0.0</td>\n",
       "      <td>0.0</td>\n",
       "      <td>0.0</td>\n",
       "      <td>0.0</td>\n",
       "      <td>8.0</td>\n",
       "      <td>0.0</td>\n",
       "      <td>0.0</td>\n",
       "      <td>0.0</td>\n",
       "      <td>0.0</td>\n",
       "      <td>0.0</td>\n",
       "      <td>0.0</td>\n",
       "      <td>0.0</td>\n",
       "      <td>8.0</td>\n",
       "      <td>0.0</td>\n",
       "      <td>0.0</td>\n",
       "      <td>0.0</td>\n",
       "      <td>0.0</td>\n",
       "      <td>0.0</td>\n",
       "      <td>0.0</td>\n",
       "      <td>0.0</td>\n",
       "      <td>8.0</td>\n",
       "      <td>207317.125000</td>\n",
       "      <td>144613.162996</td>\n",
       "      <td>0.0</td>\n",
       "      <td>92526.75</td>\n",
       "      <td>282838.0</td>\n",
       "      <td>302814.0</td>\n",
       "      <td>351932.0</td>\n",
       "      <td>8.0</td>\n",
       "      <td>0.0</td>\n",
       "      <td>0.0</td>\n",
       "      <td>0.0</td>\n",
       "      <td>0.0</td>\n",
       "      <td>0.0</td>\n",
       "      <td>0.0</td>\n",
       "      <td>0.0</td>\n",
       "    </tr>\n",
       "    <tr>\n",
       "      <th rowspan=\"2\" valign=\"top\">KW</th>\n",
       "      <th>FPONTA</th>\n",
       "      <td>49.0</td>\n",
       "      <td>587.093592</td>\n",
       "      <td>1154.279719</td>\n",
       "      <td>0.00</td>\n",
       "      <td>0.0000</td>\n",
       "      <td>0.0000</td>\n",
       "      <td>135.52960</td>\n",
       "      <td>3.494040e+03</td>\n",
       "      <td>49.0</td>\n",
       "      <td>1122.180335</td>\n",
       "      <td>1110.001129</td>\n",
       "      <td>0.0</td>\n",
       "      <td>57.00</td>\n",
       "      <td>1000.0000</td>\n",
       "      <td>1000.0000</td>\n",
       "      <td>3500.0000</td>\n",
       "      <td>46.0</td>\n",
       "      <td>93153.782609</td>\n",
       "      <td>70951.372615</td>\n",
       "      <td>0.0</td>\n",
       "      <td>14190.50</td>\n",
       "      <td>113938.0</td>\n",
       "      <td>113938.00</td>\n",
       "      <td>222726.0</td>\n",
       "      <td>46.0</td>\n",
       "      <td>1.048772e+06</td>\n",
       "      <td>794489.838631</td>\n",
       "      <td>0.0</td>\n",
       "      <td>179488.0</td>\n",
       "      <td>1294015.0</td>\n",
       "      <td>1294015.0</td>\n",
       "      <td>2486446.0</td>\n",
       "      <td>46.0</td>\n",
       "      <td>0.0</td>\n",
       "      <td>0.0</td>\n",
       "      <td>0.0</td>\n",
       "      <td>0.0</td>\n",
       "      <td>0.0</td>\n",
       "      <td>0.0</td>\n",
       "      <td>0.0</td>\n",
       "      <td>46.0</td>\n",
       "      <td>0.0</td>\n",
       "      <td>0.0</td>\n",
       "      <td>0.0</td>\n",
       "      <td>0.0</td>\n",
       "      <td>0.0</td>\n",
       "      <td>0.0</td>\n",
       "      <td>0.0</td>\n",
       "      <td>46.0</td>\n",
       "      <td>0.000000</td>\n",
       "      <td>0.000000</td>\n",
       "      <td>0.0</td>\n",
       "      <td>0.00</td>\n",
       "      <td>0.0</td>\n",
       "      <td>0.0</td>\n",
       "      <td>0.0</td>\n",
       "      <td>46.0</td>\n",
       "      <td>0.0</td>\n",
       "      <td>0.0</td>\n",
       "      <td>0.0</td>\n",
       "      <td>0.0</td>\n",
       "      <td>0.0</td>\n",
       "      <td>0.0</td>\n",
       "      <td>0.0</td>\n",
       "    </tr>\n",
       "    <tr>\n",
       "      <th>PONTA</th>\n",
       "      <td>21.0</td>\n",
       "      <td>1099.668990</td>\n",
       "      <td>1563.296100</td>\n",
       "      <td>0.00</td>\n",
       "      <td>17.8900</td>\n",
       "      <td>39.4600</td>\n",
       "      <td>2681.95000</td>\n",
       "      <td>3.491920e+03</td>\n",
       "      <td>21.0</td>\n",
       "      <td>5.714286</td>\n",
       "      <td>14.342743</td>\n",
       "      <td>0.0</td>\n",
       "      <td>0.00</td>\n",
       "      <td>0.0000</td>\n",
       "      <td>0.0000</td>\n",
       "      <td>40.0000</td>\n",
       "      <td>18.0</td>\n",
       "      <td>67822.333333</td>\n",
       "      <td>75199.033227</td>\n",
       "      <td>0.0</td>\n",
       "      <td>3201.25</td>\n",
       "      <td>24410.5</td>\n",
       "      <td>113938.00</td>\n",
       "      <td>222725.0</td>\n",
       "      <td>18.0</td>\n",
       "      <td>7.649438e+05</td>\n",
       "      <td>843809.491823</td>\n",
       "      <td>0.0</td>\n",
       "      <td>37231.5</td>\n",
       "      <td>261726.5</td>\n",
       "      <td>1294015.0</td>\n",
       "      <td>2486446.0</td>\n",
       "      <td>18.0</td>\n",
       "      <td>0.0</td>\n",
       "      <td>0.0</td>\n",
       "      <td>0.0</td>\n",
       "      <td>0.0</td>\n",
       "      <td>0.0</td>\n",
       "      <td>0.0</td>\n",
       "      <td>0.0</td>\n",
       "      <td>18.0</td>\n",
       "      <td>0.0</td>\n",
       "      <td>0.0</td>\n",
       "      <td>0.0</td>\n",
       "      <td>0.0</td>\n",
       "      <td>0.0</td>\n",
       "      <td>0.0</td>\n",
       "      <td>0.0</td>\n",
       "      <td>18.0</td>\n",
       "      <td>0.000000</td>\n",
       "      <td>0.000000</td>\n",
       "      <td>0.0</td>\n",
       "      <td>0.00</td>\n",
       "      <td>0.0</td>\n",
       "      <td>0.0</td>\n",
       "      <td>0.0</td>\n",
       "      <td>18.0</td>\n",
       "      <td>0.0</td>\n",
       "      <td>0.0</td>\n",
       "      <td>0.0</td>\n",
       "      <td>0.0</td>\n",
       "      <td>0.0</td>\n",
       "      <td>0.0</td>\n",
       "      <td>0.0</td>\n",
       "    </tr>\n",
       "    <tr>\n",
       "      <th rowspan=\"2\" valign=\"top\">KWH</th>\n",
       "      <th>FPONTA</th>\n",
       "      <td>21.0</td>\n",
       "      <td>9071.275419</td>\n",
       "      <td>13809.584213</td>\n",
       "      <td>0.00</td>\n",
       "      <td>0.0000</td>\n",
       "      <td>2.4000</td>\n",
       "      <td>17753.64000</td>\n",
       "      <td>5.076484e+04</td>\n",
       "      <td>21.0</td>\n",
       "      <td>9071.227800</td>\n",
       "      <td>13809.617055</td>\n",
       "      <td>0.0</td>\n",
       "      <td>0.00</td>\n",
       "      <td>2.4000</td>\n",
       "      <td>17753.6400</td>\n",
       "      <td>50764.8388</td>\n",
       "      <td>18.0</td>\n",
       "      <td>73935.277778</td>\n",
       "      <td>83017.312017</td>\n",
       "      <td>1.0</td>\n",
       "      <td>3666.25</td>\n",
       "      <td>24410.5</td>\n",
       "      <td>113938.00</td>\n",
       "      <td>222726.0</td>\n",
       "      <td>18.0</td>\n",
       "      <td>8.319199e+05</td>\n",
       "      <td>929488.840796</td>\n",
       "      <td>0.0</td>\n",
       "      <td>42157.5</td>\n",
       "      <td>261726.5</td>\n",
       "      <td>1294015.0</td>\n",
       "      <td>2486446.0</td>\n",
       "      <td>18.0</td>\n",
       "      <td>0.0</td>\n",
       "      <td>0.0</td>\n",
       "      <td>0.0</td>\n",
       "      <td>0.0</td>\n",
       "      <td>0.0</td>\n",
       "      <td>0.0</td>\n",
       "      <td>0.0</td>\n",
       "      <td>18.0</td>\n",
       "      <td>0.0</td>\n",
       "      <td>0.0</td>\n",
       "      <td>0.0</td>\n",
       "      <td>0.0</td>\n",
       "      <td>0.0</td>\n",
       "      <td>0.0</td>\n",
       "      <td>0.0</td>\n",
       "      <td>18.0</td>\n",
       "      <td>0.000000</td>\n",
       "      <td>0.000000</td>\n",
       "      <td>0.0</td>\n",
       "      <td>0.00</td>\n",
       "      <td>0.0</td>\n",
       "      <td>0.0</td>\n",
       "      <td>0.0</td>\n",
       "      <td>18.0</td>\n",
       "      <td>0.0</td>\n",
       "      <td>0.0</td>\n",
       "      <td>0.0</td>\n",
       "      <td>0.0</td>\n",
       "      <td>0.0</td>\n",
       "      <td>0.0</td>\n",
       "      <td>0.0</td>\n",
       "    </tr>\n",
       "    <tr>\n",
       "      <th>PONTA</th>\n",
       "      <td>125.0</td>\n",
       "      <td>5606.853163</td>\n",
       "      <td>10809.803681</td>\n",
       "      <td>0.00</td>\n",
       "      <td>1293.0000</td>\n",
       "      <td>2021.0000</td>\n",
       "      <td>3213.00000</td>\n",
       "      <td>6.428800e+04</td>\n",
       "      <td>125.0</td>\n",
       "      <td>5607.469163</td>\n",
       "      <td>10809.486372</td>\n",
       "      <td>0.0</td>\n",
       "      <td>1293.00</td>\n",
       "      <td>2021.0000</td>\n",
       "      <td>3213.0000</td>\n",
       "      <td>64288.0000</td>\n",
       "      <td>97.0</td>\n",
       "      <td>958.412371</td>\n",
       "      <td>4255.465595</td>\n",
       "      <td>0.0</td>\n",
       "      <td>0.00</td>\n",
       "      <td>0.0</td>\n",
       "      <td>0.00</td>\n",
       "      <td>26892.0</td>\n",
       "      <td>97.0</td>\n",
       "      <td>1.077469e+04</td>\n",
       "      <td>47202.783653</td>\n",
       "      <td>0.0</td>\n",
       "      <td>0.0</td>\n",
       "      <td>0.0</td>\n",
       "      <td>0.0</td>\n",
       "      <td>286479.0</td>\n",
       "      <td>97.0</td>\n",
       "      <td>0.0</td>\n",
       "      <td>0.0</td>\n",
       "      <td>0.0</td>\n",
       "      <td>0.0</td>\n",
       "      <td>0.0</td>\n",
       "      <td>0.0</td>\n",
       "      <td>0.0</td>\n",
       "      <td>97.0</td>\n",
       "      <td>0.0</td>\n",
       "      <td>0.0</td>\n",
       "      <td>0.0</td>\n",
       "      <td>0.0</td>\n",
       "      <td>0.0</td>\n",
       "      <td>0.0</td>\n",
       "      <td>0.0</td>\n",
       "      <td>97.0</td>\n",
       "      <td>30671.701031</td>\n",
       "      <td>78153.594420</td>\n",
       "      <td>0.0</td>\n",
       "      <td>0.00</td>\n",
       "      <td>0.0</td>\n",
       "      <td>1680.0</td>\n",
       "      <td>351932.0</td>\n",
       "      <td>97.0</td>\n",
       "      <td>0.0</td>\n",
       "      <td>0.0</td>\n",
       "      <td>0.0</td>\n",
       "      <td>0.0</td>\n",
       "      <td>0.0</td>\n",
       "      <td>0.0</td>\n",
       "      <td>0.0</td>\n",
       "    </tr>\n",
       "    <tr>\n",
       "      <th>ULTP</th>\n",
       "      <th>FPONTA</th>\n",
       "      <td>5.0</td>\n",
       "      <td>1169.974000</td>\n",
       "      <td>1340.343548</td>\n",
       "      <td>179.19</td>\n",
       "      <td>196.3800</td>\n",
       "      <td>198.7100</td>\n",
       "      <td>2592.00000</td>\n",
       "      <td>2.683590e+03</td>\n",
       "      <td>5.0</td>\n",
       "      <td>75.118000</td>\n",
       "      <td>107.836356</td>\n",
       "      <td>0.0</td>\n",
       "      <td>0.00</td>\n",
       "      <td>0.0000</td>\n",
       "      <td>142.0000</td>\n",
       "      <td>233.5900</td>\n",
       "      <td>5.0</td>\n",
       "      <td>157452.800000</td>\n",
       "      <td>59585.093863</td>\n",
       "      <td>113938.0</td>\n",
       "      <td>113938.00</td>\n",
       "      <td>113938.0</td>\n",
       "      <td>222725.00</td>\n",
       "      <td>222725.0</td>\n",
       "      <td>5.0</td>\n",
       "      <td>1.770987e+06</td>\n",
       "      <td>653121.356968</td>\n",
       "      <td>1294015.0</td>\n",
       "      <td>1294015.0</td>\n",
       "      <td>1294015.0</td>\n",
       "      <td>2486446.0</td>\n",
       "      <td>2486446.0</td>\n",
       "      <td>5.0</td>\n",
       "      <td>0.0</td>\n",
       "      <td>0.0</td>\n",
       "      <td>0.0</td>\n",
       "      <td>0.0</td>\n",
       "      <td>0.0</td>\n",
       "      <td>0.0</td>\n",
       "      <td>0.0</td>\n",
       "      <td>5.0</td>\n",
       "      <td>0.0</td>\n",
       "      <td>0.0</td>\n",
       "      <td>0.0</td>\n",
       "      <td>0.0</td>\n",
       "      <td>0.0</td>\n",
       "      <td>0.0</td>\n",
       "      <td>0.0</td>\n",
       "      <td>5.0</td>\n",
       "      <td>0.000000</td>\n",
       "      <td>0.000000</td>\n",
       "      <td>0.0</td>\n",
       "      <td>0.00</td>\n",
       "      <td>0.0</td>\n",
       "      <td>0.0</td>\n",
       "      <td>0.0</td>\n",
       "      <td>5.0</td>\n",
       "      <td>0.0</td>\n",
       "      <td>0.0</td>\n",
       "      <td>0.0</td>\n",
       "      <td>0.0</td>\n",
       "      <td>0.0</td>\n",
       "      <td>0.0</td>\n",
       "      <td>0.0</td>\n",
       "    </tr>\n",
       "  </tbody>\n",
       "</table>\n",
       "</div>"
      ],
      "text/plain": [
       "            medido                                                   \\\n",
       "             count           mean            std     min        25%   \n",
       "un   posto                                                            \n",
       "DRE  FPONTA   20.0     220.079830     468.318089    0.00     0.4300   \n",
       "     PONTA    12.0      36.732025      34.941622    0.40    15.3825   \n",
       "ERE  FPONTA   23.0     548.226357     913.954384    0.00     0.2500   \n",
       "     PONTA    13.0     190.204885     346.703770    0.00     1.2500   \n",
       "INJ  FPONTA   32.0  520452.377188  685641.461979    0.00     0.0000   \n",
       "     PONTA    32.0   53941.500938   65885.498443    0.00     0.0000   \n",
       "KVA  PONTA     9.0    9288.777778    8270.222167  779.00   861.0000   \n",
       "KW   FPONTA   49.0     587.093592    1154.279719    0.00     0.0000   \n",
       "     PONTA    21.0    1099.668990    1563.296100    0.00    17.8900   \n",
       "KWH  FPONTA   21.0    9071.275419   13809.584213    0.00     0.0000   \n",
       "     PONTA   125.0    5606.853163   10809.803681    0.00  1293.0000   \n",
       "ULTP FPONTA    5.0    1169.974000    1340.343548  179.19   196.3800   \n",
       "\n",
       "                                                     faturado               \\\n",
       "                     50%           75%           max    count         mean   \n",
       "un   posto                                                                   \n",
       "DRE  FPONTA      35.0800      50.63775  1.357780e+03     20.0    16.983000   \n",
       "     PONTA       33.2350      41.30500  1.259192e+02     12.0     0.316667   \n",
       "ERE  FPONTA      68.0000     910.00000  3.550000e+03     23.0   316.443748   \n",
       "     PONTA        7.9335     198.23000  1.141000e+03     13.0   190.204885   \n",
       "INJ  FPONTA  283786.0000  631232.75000  2.308221e+06     32.0  4921.388400   \n",
       "     PONTA    33045.5000   71877.25000  2.162952e+05     32.0   586.930925   \n",
       "KVA  PONTA    13448.0000   15662.00000  2.041800e+04      9.0     0.000000   \n",
       "KW   FPONTA       0.0000     135.52960  3.494040e+03     49.0  1122.180335   \n",
       "     PONTA       39.4600    2681.95000  3.491920e+03     21.0     5.714286   \n",
       "KWH  FPONTA       2.4000   17753.64000  5.076484e+04     21.0  9071.227800   \n",
       "     PONTA     2021.0000    3213.00000  6.428800e+04    125.0  5607.469163   \n",
       "ULTP FPONTA     198.7100    2592.00000  2.683590e+03      5.0    75.118000   \n",
       "\n",
       "                                                                            \\\n",
       "                      std  min      25%        50%         75%         max   \n",
       "un   posto                                                                   \n",
       "DRE  FPONTA     44.712768  0.0     0.00     0.0000      1.2275    159.0700   \n",
       "     PONTA       0.573781  0.0     0.00     0.0000      0.2950      1.3200   \n",
       "ERE  FPONTA    618.714976  0.0     0.00     3.2000    128.9081   1775.9800   \n",
       "     PONTA     346.703770  0.0     1.25     7.9335    198.2300   1141.0000   \n",
       "INJ  FPONTA  10891.472713  0.0     0.00     0.0000    344.5000  50764.8388   \n",
       "     PONTA    1382.345447  0.0     0.00     0.0000      6.9650   6804.1796   \n",
       "KVA  PONTA       0.000000  0.0     0.00     0.0000      0.0000      0.0000   \n",
       "KW   FPONTA   1110.001129  0.0    57.00  1000.0000   1000.0000   3500.0000   \n",
       "     PONTA      14.342743  0.0     0.00     0.0000      0.0000     40.0000   \n",
       "KWH  FPONTA  13809.617055  0.0     0.00     2.4000  17753.6400  50764.8388   \n",
       "     PONTA   10809.486372  0.0  1293.00  2021.0000   3213.0000  64288.0000   \n",
       "ULTP FPONTA    107.836356  0.0     0.00     0.0000    142.0000    233.5900   \n",
       "\n",
       "            saldoPonta                                                    \\\n",
       "                 count           mean           std       min        25%   \n",
       "un   posto                                                                 \n",
       "DRE  FPONTA       17.0   45681.941176  52584.749378       0.0     621.00   \n",
       "     PONTA         9.0   22851.111111  35547.676371       0.0       1.00   \n",
       "ERE  FPONTA       20.0   56102.950000  54560.007251       0.0     621.75   \n",
       "     PONTA        10.0   14131.300000  35476.492900       0.0       0.25   \n",
       "INJ  FPONTA       29.0   95992.310345  81911.290578       0.0   13331.00   \n",
       "     PONTA        29.0   95992.310345  81911.290578       0.0   13331.00   \n",
       "KVA  PONTA         8.0       0.000000      0.000000       0.0       0.00   \n",
       "KW   FPONTA       46.0   93153.782609  70951.372615       0.0   14190.50   \n",
       "     PONTA        18.0   67822.333333  75199.033227       0.0    3201.25   \n",
       "KWH  FPONTA       18.0   73935.277778  83017.312017       1.0    3666.25   \n",
       "     PONTA        97.0     958.412371   4255.465595       0.0       0.00   \n",
       "ULTP FPONTA        5.0  157452.800000  59585.093863  113938.0  113938.00   \n",
       "\n",
       "                                           saldoForaPonta                \\\n",
       "                  50%        75%       max          count          mean   \n",
       "un   posto                                                                \n",
       "DRE  FPONTA   16769.0  113938.00  113938.0           17.0  5.181902e+05   \n",
       "     PONTA    13331.0   21929.00  113938.0            9.0  2.584468e+05   \n",
       "ERE  FPONTA   24410.5  113938.00  117590.0           20.0  6.327969e+05   \n",
       "     PONTA      311.0    9754.75  113938.0           10.0  1.635237e+05   \n",
       "INJ  FPONTA  113938.0  113938.00  222726.0           29.0  1.080796e+06   \n",
       "     PONTA   113938.0  113938.00  222726.0           29.0  1.080796e+06   \n",
       "KVA  PONTA        0.0       0.00       0.0            8.0  0.000000e+00   \n",
       "KW   FPONTA  113938.0  113938.00  222726.0           46.0  1.048772e+06   \n",
       "     PONTA    24410.5  113938.00  222725.0           18.0  7.649438e+05   \n",
       "KWH  FPONTA   24410.5  113938.00  222726.0           18.0  8.319199e+05   \n",
       "     PONTA        0.0       0.00   26892.0           97.0  1.077469e+04   \n",
       "ULTP FPONTA  113938.0  222725.00  222725.0            5.0  1.770987e+06   \n",
       "\n",
       "                                                                        \\\n",
       "                       std        min        25%        50%        75%   \n",
       "un   posto                                                               \n",
       "DRE  FPONTA  597240.993213        0.0     6569.0   180469.0  1294015.0   \n",
       "     PONTA   402863.945033        0.0        0.0   179161.0   236974.0   \n",
       "ERE  FPONTA  615440.821914        0.0     6569.0   261726.5  1294015.0   \n",
       "     PONTA   402966.478201        0.0        0.0     3284.5   113334.5   \n",
       "INJ  FPONTA  916431.241759        0.0   179161.0  1294015.0  1294015.0   \n",
       "     PONTA   916431.241759        0.0   179161.0  1294015.0  1294015.0   \n",
       "KVA  PONTA        0.000000        0.0        0.0        0.0        0.0   \n",
       "KW   FPONTA  794489.838631        0.0   179488.0  1294015.0  1294015.0   \n",
       "     PONTA   843809.491823        0.0    37231.5   261726.5  1294015.0   \n",
       "KWH  FPONTA  929488.840796        0.0    42157.5   261726.5  1294015.0   \n",
       "     PONTA    47202.783653        0.0        0.0        0.0        0.0   \n",
       "ULTP FPONTA  653121.356968  1294015.0  1294015.0  1294015.0  2486446.0   \n",
       "\n",
       "                       expiraForaPonta                                     \\\n",
       "                   max           count mean  std  min  25%  50%  75%  max   \n",
       "un   posto                                                                  \n",
       "DRE  FPONTA  1294015.0            17.0  0.0  0.0  0.0  0.0  0.0  0.0  0.0   \n",
       "     PONTA   1294015.0             9.0  0.0  0.0  0.0  0.0  0.0  0.0  0.0   \n",
       "ERE  FPONTA  1294015.0            20.0  0.0  0.0  0.0  0.0  0.0  0.0  0.0   \n",
       "     PONTA   1294015.0            10.0  0.0  0.0  0.0  0.0  0.0  0.0  0.0   \n",
       "INJ  FPONTA  2486446.0            29.0  0.0  0.0  0.0  0.0  0.0  0.0  0.0   \n",
       "     PONTA   2486446.0            29.0  0.0  0.0  0.0  0.0  0.0  0.0  0.0   \n",
       "KVA  PONTA         0.0             8.0  0.0  0.0  0.0  0.0  0.0  0.0  0.0   \n",
       "KW   FPONTA  2486446.0            46.0  0.0  0.0  0.0  0.0  0.0  0.0  0.0   \n",
       "     PONTA   2486446.0            18.0  0.0  0.0  0.0  0.0  0.0  0.0  0.0   \n",
       "KWH  FPONTA  2486446.0            18.0  0.0  0.0  0.0  0.0  0.0  0.0  0.0   \n",
       "     PONTA    286479.0            97.0  0.0  0.0  0.0  0.0  0.0  0.0  0.0   \n",
       "ULTP FPONTA  2486446.0             5.0  0.0  0.0  0.0  0.0  0.0  0.0  0.0   \n",
       "\n",
       "            expiraPonta                                    saldoAcumulado  \\\n",
       "                  count mean  std  min  25%  50%  75%  max          count   \n",
       "un   posto                                                                  \n",
       "DRE  FPONTA        17.0  0.0  0.0  0.0  0.0  0.0  0.0  0.0           17.0   \n",
       "     PONTA          9.0  0.0  0.0  0.0  0.0  0.0  0.0  0.0            9.0   \n",
       "ERE  FPONTA        20.0  0.0  0.0  0.0  0.0  0.0  0.0  0.0           20.0   \n",
       "     PONTA         10.0  0.0  0.0  0.0  0.0  0.0  0.0  0.0           10.0   \n",
       "INJ  FPONTA        29.0  0.0  0.0  0.0  0.0  0.0  0.0  0.0           29.0   \n",
       "     PONTA         29.0  0.0  0.0  0.0  0.0  0.0  0.0  0.0           29.0   \n",
       "KVA  PONTA          8.0  0.0  0.0  0.0  0.0  0.0  0.0  0.0            8.0   \n",
       "KW   FPONTA        46.0  0.0  0.0  0.0  0.0  0.0  0.0  0.0           46.0   \n",
       "     PONTA         18.0  0.0  0.0  0.0  0.0  0.0  0.0  0.0           18.0   \n",
       "KWH  FPONTA        18.0  0.0  0.0  0.0  0.0  0.0  0.0  0.0           18.0   \n",
       "     PONTA         97.0  0.0  0.0  0.0  0.0  0.0  0.0  0.0           97.0   \n",
       "ULTP FPONTA         5.0  0.0  0.0  0.0  0.0  0.0  0.0  0.0            5.0   \n",
       "\n",
       "                                                                              \\\n",
       "                      mean            std  min       25%       50%       75%   \n",
       "un   posto                                                                     \n",
       "DRE  FPONTA       0.000000       0.000000  0.0      0.00       0.0       0.0   \n",
       "     PONTA        0.000000       0.000000  0.0      0.00       0.0       0.0   \n",
       "ERE  FPONTA       0.000000       0.000000  0.0      0.00       0.0       0.0   \n",
       "     PONTA    56998.400000  120293.083561  0.0      0.00       0.0       0.0   \n",
       "INJ  FPONTA       0.000000       0.000000  0.0      0.00       0.0       0.0   \n",
       "     PONTA        0.000000       0.000000  0.0      0.00       0.0       0.0   \n",
       "KVA  PONTA   207317.125000  144613.162996  0.0  92526.75  282838.0  302814.0   \n",
       "KW   FPONTA       0.000000       0.000000  0.0      0.00       0.0       0.0   \n",
       "     PONTA        0.000000       0.000000  0.0      0.00       0.0       0.0   \n",
       "KWH  FPONTA       0.000000       0.000000  0.0      0.00       0.0       0.0   \n",
       "     PONTA    30671.701031   78153.594420  0.0      0.00       0.0    1680.0   \n",
       "ULTP FPONTA       0.000000       0.000000  0.0      0.00       0.0       0.0   \n",
       "\n",
       "                      expiraAcumulado                                     \n",
       "                  max           count mean  std  min  25%  50%  75%  max  \n",
       "un   posto                                                                \n",
       "DRE  FPONTA       0.0            17.0  0.0  0.0  0.0  0.0  0.0  0.0  0.0  \n",
       "     PONTA        0.0             9.0  0.0  0.0  0.0  0.0  0.0  0.0  0.0  \n",
       "ERE  FPONTA       0.0            20.0  0.0  0.0  0.0  0.0  0.0  0.0  0.0  \n",
       "     PONTA   296848.0            10.0  0.0  0.0  0.0  0.0  0.0  0.0  0.0  \n",
       "INJ  FPONTA       0.0            29.0  0.0  0.0  0.0  0.0  0.0  0.0  0.0  \n",
       "     PONTA        0.0            29.0  0.0  0.0  0.0  0.0  0.0  0.0  0.0  \n",
       "KVA  PONTA   351932.0             8.0  0.0  0.0  0.0  0.0  0.0  0.0  0.0  \n",
       "KW   FPONTA       0.0            46.0  0.0  0.0  0.0  0.0  0.0  0.0  0.0  \n",
       "     PONTA        0.0            18.0  0.0  0.0  0.0  0.0  0.0  0.0  0.0  \n",
       "KWH  FPONTA       0.0            18.0  0.0  0.0  0.0  0.0  0.0  0.0  0.0  \n",
       "     PONTA   351932.0            97.0  0.0  0.0  0.0  0.0  0.0  0.0  0.0  \n",
       "ULTP FPONTA       0.0             5.0  0.0  0.0  0.0  0.0  0.0  0.0  0.0  "
      ]
     },
     "execution_count": 42,
     "metadata": {},
     "output_type": "execute_result"
    }
   ],
   "source": [
    "consumo_df.groupby(['un', 'posto']).describe()"
   ]
  },
  {
   "cell_type": "markdown",
   "metadata": {},
   "source": [
    "Criando uma *feature* `saldo_medido` = `faturado` - `medido`"
   ]
  },
  {
   "cell_type": "code",
   "execution_count": 43,
   "metadata": {},
   "outputs": [
    {
     "data": {
      "application/vnd.plotly.v1+json": {
       "config": {
        "plotlyServerURL": "https://plot.ly"
       },
       "data": [
        {
         "alignmentgroup": "True",
         "hovertemplate": "un=KWH<br>posto=%{x}<br>saldo_medido=%{y}<extra></extra>",
         "legendgroup": "KWH",
         "marker": {
          "color": "#1696d2"
         },
         "name": "KWH",
         "notched": false,
         "offsetgroup": "KWH",
         "orientation": "v",
         "showlegend": true,
         "type": "box",
         "x": [
          "PONTA",
          "PONTA",
          "PONTA",
          "PONTA",
          "FPONTA",
          "FPONTA",
          "PONTA",
          "FPONTA",
          "PONTA",
          "FPONTA",
          "PONTA",
          "PONTA",
          "PONTA",
          "PONTA",
          "PONTA",
          "PONTA",
          "PONTA",
          "PONTA",
          "PONTA",
          "PONTA",
          "PONTA",
          "PONTA",
          "PONTA",
          "PONTA",
          "PONTA",
          "PONTA",
          "FPONTA",
          "PONTA",
          "PONTA",
          "PONTA",
          "PONTA",
          "PONTA",
          "PONTA",
          "PONTA",
          "PONTA",
          "PONTA",
          "PONTA",
          "PONTA",
          "PONTA",
          "PONTA",
          "PONTA",
          "PONTA",
          "PONTA",
          "FPONTA",
          "FPONTA",
          "PONTA",
          "PONTA",
          "PONTA",
          "PONTA",
          "PONTA",
          "PONTA",
          "PONTA",
          "PONTA",
          "PONTA",
          "PONTA",
          "PONTA",
          "PONTA",
          "PONTA",
          "PONTA",
          "PONTA",
          "PONTA",
          "PONTA",
          "PONTA",
          "FPONTA",
          "PONTA",
          "PONTA",
          "PONTA",
          "PONTA",
          "PONTA",
          "PONTA",
          "PONTA",
          "PONTA",
          "PONTA",
          "PONTA",
          "PONTA",
          "PONTA",
          "PONTA",
          "PONTA",
          "PONTA",
          "PONTA",
          "PONTA",
          "FPONTA",
          "PONTA",
          "PONTA",
          "PONTA",
          "PONTA",
          "FPONTA",
          "PONTA",
          "PONTA",
          "PONTA",
          "PONTA",
          "PONTA",
          "PONTA",
          "PONTA",
          "PONTA",
          "PONTA",
          "PONTA",
          "PONTA",
          "PONTA",
          "PONTA",
          "PONTA",
          "PONTA",
          "PONTA",
          "PONTA",
          "PONTA",
          "PONTA",
          "PONTA",
          "PONTA",
          "PONTA",
          "PONTA",
          "PONTA",
          "PONTA",
          "PONTA",
          "PONTA",
          "PONTA",
          "PONTA",
          "FPONTA",
          "PONTA",
          "FPONTA",
          "FPONTA",
          "FPONTA",
          "FPONTA",
          "FPONTA",
          "FPONTA",
          "PONTA",
          "PONTA",
          "PONTA",
          "PONTA",
          "PONTA",
          "PONTA",
          "FPONTA",
          "FPONTA",
          "PONTA",
          "FPONTA",
          "PONTA",
          "PONTA",
          "PONTA",
          "PONTA",
          "FPONTA",
          "PONTA",
          "PONTA",
          "PONTA",
          "PONTA",
          "PONTA",
          "PONTA",
          "PONTA"
         ],
         "x0": " ",
         "xaxis": "x",
         "y": [
          0,
          0,
          0,
          0,
          0,
          0,
          0,
          0,
          0,
          0,
          0,
          0,
          0,
          0,
          0,
          0,
          0,
          0,
          0,
          0,
          0,
          0,
          0,
          0,
          0,
          0,
          0,
          0,
          0,
          0,
          0,
          0,
          0,
          0,
          0,
          0,
          0,
          45,
          0,
          0,
          0,
          0,
          0,
          0,
          0,
          0,
          0,
          0,
          0,
          0,
          0,
          0,
          0,
          0,
          0,
          0,
          0,
          0,
          0,
          0,
          0,
          0,
          0,
          0,
          0,
          0,
          0,
          0,
          0,
          0,
          0,
          0,
          0,
          0,
          0,
          0,
          0,
          16,
          16,
          0,
          0,
          0,
          0,
          0,
          0,
          0,
          0,
          0,
          0,
          0,
          0,
          0,
          0,
          0,
          0,
          0,
          0,
          0,
          0,
          0,
          0,
          0,
          0,
          0,
          0,
          0,
          0,
          0,
          0,
          0,
          0,
          0,
          0,
          0,
          0,
          0,
          0,
          0,
          0,
          0,
          -1,
          0,
          0,
          0,
          0,
          0,
          0,
          0,
          0,
          0,
          0,
          0,
          0,
          0,
          0,
          0,
          0,
          0,
          0,
          0,
          0,
          0,
          0,
          0,
          0,
          0
         ],
         "y0": " ",
         "yaxis": "y"
        },
        {
         "alignmentgroup": "True",
         "hovertemplate": "un=INJ<br>posto=%{x}<br>saldo_medido=%{y}<extra></extra>",
         "legendgroup": "INJ",
         "marker": {
          "color": "#d2d2d2"
         },
         "name": "INJ",
         "notched": false,
         "offsetgroup": "INJ",
         "orientation": "v",
         "showlegend": true,
         "type": "box",
         "x": [
          "PONTA",
          "FPONTA",
          "PONTA",
          "FPONTA",
          "PONTA",
          "FPONTA",
          "PONTA",
          "FPONTA",
          "PONTA",
          "FPONTA",
          "PONTA",
          "FPONTA",
          "PONTA",
          "FPONTA",
          "PONTA",
          "FPONTA",
          "PONTA",
          "FPONTA",
          "PONTA",
          "FPONTA",
          "PONTA",
          "FPONTA",
          "PONTA",
          "FPONTA",
          "PONTA",
          "FPONTA",
          "PONTA",
          "FPONTA",
          "PONTA",
          "FPONTA",
          "PONTA",
          "FPONTA",
          "PONTA",
          "FPONTA",
          "PONTA",
          "FPONTA",
          "PONTA",
          "FPONTA",
          "PONTA",
          "FPONTA",
          "PONTA",
          "FPONTA",
          "PONTA",
          "FPONTA",
          "PONTA",
          "FPONTA",
          "PONTA",
          "FPONTA",
          "PONTA",
          "FPONTA",
          "PONTA",
          "FPONTA",
          "PONTA",
          "FPONTA",
          "PONTA",
          "FPONTA",
          "PONTA",
          "FPONTA",
          "PONTA",
          "FPONTA",
          "PONTA",
          "FPONTA",
          "PONTA",
          "FPONTA"
         ],
         "x0": " ",
         "xaxis": "x",
         "y": [
          1856.97,
          16767.77,
          -91239,
          -955177,
          6804.1796,
          50764.8388,
          2086.58,
          16706.45,
          2002.44,
          18476.16,
          -85909,
          -858959,
          2231.5,
          18357.32,
          1780.75,
          17923.11,
          -26067,
          -253462,
          -19194,
          -209356,
          -9126.6,
          -95550,
          -67200,
          -384000,
          0,
          0,
          -92944,
          -584618,
          -48000,
          -320000,
          -32000,
          -80000,
          -34091,
          -314110,
          -36000,
          -436000,
          0,
          0,
          0,
          0,
          0,
          0,
          -18000,
          -60000,
          -58000,
          -622000,
          -61119,
          -658607,
          -56308,
          -501987,
          -50700,
          -591221,
          -216295.17,
          -2308221.03,
          -176790.55,
          -1814641.32,
          -175104.92,
          -1682752.09,
          -165582.72,
          -1881581.49,
          -206438,
          -2041498,
          2000.3,
          17753.64
         ],
         "y0": " ",
         "yaxis": "y"
        },
        {
         "alignmentgroup": "True",
         "hovertemplate": "un=KW<br>posto=%{x}<br>saldo_medido=%{y}<extra></extra>",
         "legendgroup": "KW",
         "marker": {
          "color": "#ec008b"
         },
         "name": "KW",
         "notched": false,
         "offsetgroup": "KW",
         "orientation": "v",
         "showlegend": true,
         "type": "box",
         "x": [
          "PONTA",
          "FPONTA",
          "FPONTA",
          "PONTA",
          "FPONTA",
          "PONTA",
          "FPONTA",
          "PONTA",
          "FPONTA",
          "PONTA",
          "FPONTA",
          "FPONTA",
          "PONTA",
          "FPONTA",
          "PONTA",
          "FPONTA",
          "FPONTA",
          "FPONTA",
          "FPONTA",
          "FPONTA",
          "FPONTA",
          "FPONTA",
          "PONTA",
          "FPONTA",
          "FPONTA",
          "PONTA",
          "FPONTA",
          "FPONTA",
          "FPONTA",
          "FPONTA",
          "PONTA",
          "FPONTA",
          "FPONTA",
          "PONTA",
          "FPONTA",
          "FPONTA",
          "FPONTA",
          "FPONTA",
          "FPONTA",
          "PONTA",
          "FPONTA",
          "PONTA",
          "FPONTA",
          "FPONTA",
          "FPONTA",
          "FPONTA",
          "PONTA",
          "FPONTA",
          "FPONTA",
          "FPONTA",
          "PONTA",
          "FPONTA",
          "FPONTA",
          "FPONTA",
          "PONTA",
          "FPONTA",
          "PONTA",
          "FPONTA",
          "PONTA",
          "FPONTA",
          "PONTA",
          "FPONTA",
          "PONTA",
          "FPONTA",
          "FPONTA",
          "FPONTA",
          "FPONTA",
          "FPONTA",
          "PONTA",
          "FPONTA"
         ],
         "x0": " ",
         "xaxis": "x",
         "y": [
          -36.74,
          17.15,
          2450,
          -132.3808,
          14.470400000000012,
          -72.078,
          0,
          0.04999999999999716,
          0,
          -36.24,
          18.130000000000003,
          2450,
          1.0799999999999983,
          0,
          -37.56,
          17.310000000000002,
          2450,
          30,
          30,
          30,
          886,
          883.2,
          -2592,
          0,
          2450,
          -2681.95,
          0,
          1000,
          1000,
          1000,
          0,
          -1198.71,
          1000,
          0,
          -1196.38,
          1000,
          1000,
          1000,
          1000,
          0,
          -1179.19,
          0,
          -1000,
          1000,
          1000,
          1000,
          -17.89,
          978.23,
          1000,
          1000,
          0,
          -1000,
          1000,
          1000,
          -3477.7,
          11.900000000000091,
          -3480.74,
          15.659999999999854,
          -3456.88,
          20.420000000000073,
          -3460.64,
          35.09999999999991,
          -3491.92,
          5.960000000000036,
          1000,
          1000,
          1000,
          1000,
          0.5399999999999991,
          0
         ],
         "y0": " ",
         "yaxis": "y"
        },
        {
         "alignmentgroup": "True",
         "hovertemplate": "un=ERE<br>posto=%{x}<br>saldo_medido=%{y}<extra></extra>",
         "legendgroup": "ERE",
         "marker": {
          "color": "#fdbf11"
         },
         "name": "ERE",
         "notched": false,
         "offsetgroup": "ERE",
         "orientation": "v",
         "showlegend": true,
         "type": "box",
         "x": [
          "FPONTA",
          "PONTA",
          "FPONTA",
          "PONTA",
          "FPONTA",
          "PONTA",
          "PONTA",
          "FPONTA",
          "FPONTA",
          "PONTA",
          "PONTA",
          "FPONTA",
          "FPONTA",
          "PONTA",
          "FPONTA",
          "PONTA",
          "FPONTA",
          "FPONTA",
          "FPONTA",
          "FPONTA",
          "FPONTA",
          "FPONTA",
          "FPONTA",
          "PONTA",
          "FPONTA",
          "FPONTA",
          "FPONTA",
          "PONTA",
          "FPONTA",
          "PONTA",
          "FPONTA",
          "PONTA",
          "FPONTA",
          "FPONTA",
          "PONTA",
          "FPONTA"
         ],
         "x0": " ",
         "xaxis": "x",
         "y": [
          0,
          0,
          0,
          0,
          0,
          0,
          0,
          0,
          0,
          0,
          0,
          0,
          0,
          0,
          0,
          0,
          0,
          0,
          -3550,
          -1361,
          -314,
          0,
          0,
          0,
          0,
          -106,
          0,
          0,
          0,
          0,
          0,
          0,
          0,
          0,
          0,
          0
         ],
         "y0": " ",
         "yaxis": "y"
        },
        {
         "alignmentgroup": "True",
         "hovertemplate": "un=DRE<br>posto=%{x}<br>saldo_medido=%{y}<extra></extra>",
         "legendgroup": "DRE",
         "marker": {
          "color": "#332d2f"
         },
         "name": "DRE",
         "notched": false,
         "offsetgroup": "DRE",
         "orientation": "v",
         "showlegend": true,
         "type": "box",
         "x": [
          "PONTA",
          "FPONTA",
          "PONTA",
          "FPONTA",
          "PONTA",
          "FPONTA",
          "PONTA",
          "FPONTA",
          "PONTA",
          "FPONTA",
          "PONTA",
          "FPONTA",
          "PONTA",
          "FPONTA",
          "FPONTA",
          "FPONTA",
          "FPONTA",
          "FPONTA",
          "FPONTA",
          "FPONTA",
          "PONTA",
          "FPONTA",
          "FPONTA",
          "FPONTA",
          "PONTA",
          "FPONTA",
          "PONTA",
          "FPONTA",
          "PONTA",
          "FPONTA",
          "PONTA",
          "FPONTA"
         ],
         "x0": " ",
         "xaxis": "x",
         "y": [
          -32.6,
          -35.51,
          -125.9192,
          -128.8056,
          -70.5651,
          -73.431,
          -40,
          -40.88,
          -32.43,
          -34.65,
          -40,
          -40.34,
          -33.87,
          -35.79,
          -14,
          -18.2,
          -1198.71,
          -1196.38,
          -1179.19,
          0,
          -20.37,
          -22.77,
          0,
          -0.08,
          -0.4,
          -0.42,
          -0.41,
          -0.43,
          -0.42,
          -0.43,
          -40,
          -41.92
         ],
         "y0": " ",
         "yaxis": "y"
        },
        {
         "alignmentgroup": "True",
         "hovertemplate": "un=KVA<br>posto=%{x}<br>saldo_medido=%{y}<extra></extra>",
         "legendgroup": "KVA",
         "marker": {
          "color": "#0a4c6a"
         },
         "name": "KVA",
         "notched": false,
         "offsetgroup": "KVA",
         "orientation": "v",
         "showlegend": true,
         "type": "box",
         "x": [
          "PONTA",
          "PONTA",
          "PONTA",
          "PONTA",
          "PONTA",
          "PONTA",
          "PONTA",
          "PONTA",
          "PONTA"
         ],
         "x0": " ",
         "xaxis": "x",
         "y": [
          -16974,
          -13776,
          -13448,
          -15662,
          -779,
          -861,
          -779,
          -902,
          -20418
         ],
         "y0": " ",
         "yaxis": "y"
        },
        {
         "alignmentgroup": "True",
         "hovertemplate": "un=ULTP<br>posto=%{x}<br>saldo_medido=%{y}<extra></extra>",
         "legendgroup": "ULTP",
         "marker": {
          "color": "#55b748"
         },
         "name": "ULTP",
         "notched": false,
         "offsetgroup": "ULTP",
         "orientation": "v",
         "showlegend": true,
         "type": "box",
         "x": [
          "FPONTA",
          "FPONTA",
          "FPONTA",
          "FPONTA",
          "FPONTA"
         ],
         "x0": " ",
         "xaxis": "x",
         "y": [
          -2450,
          -2450,
          -198.71,
          -196.38,
          -179.19
         ],
         "y0": " ",
         "yaxis": "y"
        }
       ],
       "layout": {
        "boxmode": "group",
        "hoverlabel": {
         "font": {
          "family": "Lato-Regular",
          "size": 14
         }
        },
        "legend": {
         "font": {
          "color": "#000000",
          "family": "Lato-Regular",
          "size": 13
         },
         "title": {
          "font": {
           "color": "#000000",
           "family": "Lato-Bold",
           "size": 14
          },
          "text": "un"
         },
         "tracegroupgap": 0
        },
        "template": {
         "data": {
          "bar": [
           {
            "error_x": {
             "color": "#2a3f5f"
            },
            "error_y": {
             "color": "#2a3f5f"
            },
            "marker": {
             "line": {
              "color": "#E5ECF6",
              "width": 0.5
             },
             "pattern": {
              "fillmode": "overlay",
              "size": 10,
              "solidity": 0.2
             }
            },
            "type": "bar"
           }
          ],
          "barpolar": [
           {
            "marker": {
             "line": {
              "color": "#E5ECF6",
              "width": 0.5
             },
             "pattern": {
              "fillmode": "overlay",
              "size": 10,
              "solidity": 0.2
             }
            },
            "type": "barpolar"
           }
          ],
          "carpet": [
           {
            "aaxis": {
             "endlinecolor": "#2a3f5f",
             "gridcolor": "white",
             "linecolor": "white",
             "minorgridcolor": "white",
             "startlinecolor": "#2a3f5f"
            },
            "baxis": {
             "endlinecolor": "#2a3f5f",
             "gridcolor": "white",
             "linecolor": "white",
             "minorgridcolor": "white",
             "startlinecolor": "#2a3f5f"
            },
            "type": "carpet"
           }
          ],
          "choropleth": [
           {
            "colorbar": {
             "outlinewidth": 0,
             "ticks": ""
            },
            "type": "choropleth"
           }
          ],
          "contour": [
           {
            "colorbar": {
             "outlinewidth": 0,
             "ticks": ""
            },
            "colorscale": [
             [
              0,
              "#0d0887"
             ],
             [
              0.1111111111111111,
              "#46039f"
             ],
             [
              0.2222222222222222,
              "#7201a8"
             ],
             [
              0.3333333333333333,
              "#9c179e"
             ],
             [
              0.4444444444444444,
              "#bd3786"
             ],
             [
              0.5555555555555556,
              "#d8576b"
             ],
             [
              0.6666666666666666,
              "#ed7953"
             ],
             [
              0.7777777777777778,
              "#fb9f3a"
             ],
             [
              0.8888888888888888,
              "#fdca26"
             ],
             [
              1,
              "#f0f921"
             ]
            ],
            "type": "contour"
           }
          ],
          "contourcarpet": [
           {
            "colorbar": {
             "outlinewidth": 0,
             "ticks": ""
            },
            "type": "contourcarpet"
           }
          ],
          "heatmap": [
           {
            "colorbar": {
             "outlinewidth": 0,
             "ticks": ""
            },
            "colorscale": [
             [
              0,
              "#0d0887"
             ],
             [
              0.1111111111111111,
              "#46039f"
             ],
             [
              0.2222222222222222,
              "#7201a8"
             ],
             [
              0.3333333333333333,
              "#9c179e"
             ],
             [
              0.4444444444444444,
              "#bd3786"
             ],
             [
              0.5555555555555556,
              "#d8576b"
             ],
             [
              0.6666666666666666,
              "#ed7953"
             ],
             [
              0.7777777777777778,
              "#fb9f3a"
             ],
             [
              0.8888888888888888,
              "#fdca26"
             ],
             [
              1,
              "#f0f921"
             ]
            ],
            "type": "heatmap"
           }
          ],
          "heatmapgl": [
           {
            "colorbar": {
             "outlinewidth": 0,
             "ticks": ""
            },
            "colorscale": [
             [
              0,
              "#0d0887"
             ],
             [
              0.1111111111111111,
              "#46039f"
             ],
             [
              0.2222222222222222,
              "#7201a8"
             ],
             [
              0.3333333333333333,
              "#9c179e"
             ],
             [
              0.4444444444444444,
              "#bd3786"
             ],
             [
              0.5555555555555556,
              "#d8576b"
             ],
             [
              0.6666666666666666,
              "#ed7953"
             ],
             [
              0.7777777777777778,
              "#fb9f3a"
             ],
             [
              0.8888888888888888,
              "#fdca26"
             ],
             [
              1,
              "#f0f921"
             ]
            ],
            "type": "heatmapgl"
           }
          ],
          "histogram": [
           {
            "marker": {
             "pattern": {
              "fillmode": "overlay",
              "size": 10,
              "solidity": 0.2
             }
            },
            "type": "histogram"
           }
          ],
          "histogram2d": [
           {
            "colorbar": {
             "outlinewidth": 0,
             "ticks": ""
            },
            "colorscale": [
             [
              0,
              "#0d0887"
             ],
             [
              0.1111111111111111,
              "#46039f"
             ],
             [
              0.2222222222222222,
              "#7201a8"
             ],
             [
              0.3333333333333333,
              "#9c179e"
             ],
             [
              0.4444444444444444,
              "#bd3786"
             ],
             [
              0.5555555555555556,
              "#d8576b"
             ],
             [
              0.6666666666666666,
              "#ed7953"
             ],
             [
              0.7777777777777778,
              "#fb9f3a"
             ],
             [
              0.8888888888888888,
              "#fdca26"
             ],
             [
              1,
              "#f0f921"
             ]
            ],
            "type": "histogram2d"
           }
          ],
          "histogram2dcontour": [
           {
            "colorbar": {
             "outlinewidth": 0,
             "ticks": ""
            },
            "colorscale": [
             [
              0,
              "#0d0887"
             ],
             [
              0.1111111111111111,
              "#46039f"
             ],
             [
              0.2222222222222222,
              "#7201a8"
             ],
             [
              0.3333333333333333,
              "#9c179e"
             ],
             [
              0.4444444444444444,
              "#bd3786"
             ],
             [
              0.5555555555555556,
              "#d8576b"
             ],
             [
              0.6666666666666666,
              "#ed7953"
             ],
             [
              0.7777777777777778,
              "#fb9f3a"
             ],
             [
              0.8888888888888888,
              "#fdca26"
             ],
             [
              1,
              "#f0f921"
             ]
            ],
            "type": "histogram2dcontour"
           }
          ],
          "mesh3d": [
           {
            "colorbar": {
             "outlinewidth": 0,
             "ticks": ""
            },
            "type": "mesh3d"
           }
          ],
          "parcoords": [
           {
            "line": {
             "colorbar": {
              "outlinewidth": 0,
              "ticks": ""
             }
            },
            "type": "parcoords"
           }
          ],
          "pie": [
           {
            "automargin": true,
            "type": "pie"
           }
          ],
          "scatter": [
           {
            "marker": {
             "colorbar": {
              "outlinewidth": 0,
              "ticks": ""
             }
            },
            "type": "scatter"
           }
          ],
          "scatter3d": [
           {
            "line": {
             "colorbar": {
              "outlinewidth": 0,
              "ticks": ""
             }
            },
            "marker": {
             "colorbar": {
              "outlinewidth": 0,
              "ticks": ""
             }
            },
            "type": "scatter3d"
           }
          ],
          "scattercarpet": [
           {
            "marker": {
             "colorbar": {
              "outlinewidth": 0,
              "ticks": ""
             }
            },
            "type": "scattercarpet"
           }
          ],
          "scattergeo": [
           {
            "marker": {
             "colorbar": {
              "outlinewidth": 0,
              "ticks": ""
             }
            },
            "type": "scattergeo"
           }
          ],
          "scattergl": [
           {
            "marker": {
             "colorbar": {
              "outlinewidth": 0,
              "ticks": ""
             }
            },
            "type": "scattergl"
           }
          ],
          "scattermapbox": [
           {
            "marker": {
             "colorbar": {
              "outlinewidth": 0,
              "ticks": ""
             }
            },
            "type": "scattermapbox"
           }
          ],
          "scatterpolar": [
           {
            "marker": {
             "colorbar": {
              "outlinewidth": 0,
              "ticks": ""
             }
            },
            "type": "scatterpolar"
           }
          ],
          "scatterpolargl": [
           {
            "marker": {
             "colorbar": {
              "outlinewidth": 0,
              "ticks": ""
             }
            },
            "type": "scatterpolargl"
           }
          ],
          "scatterternary": [
           {
            "marker": {
             "colorbar": {
              "outlinewidth": 0,
              "ticks": ""
             }
            },
            "type": "scatterternary"
           }
          ],
          "surface": [
           {
            "colorbar": {
             "outlinewidth": 0,
             "ticks": ""
            },
            "colorscale": [
             [
              0,
              "#0d0887"
             ],
             [
              0.1111111111111111,
              "#46039f"
             ],
             [
              0.2222222222222222,
              "#7201a8"
             ],
             [
              0.3333333333333333,
              "#9c179e"
             ],
             [
              0.4444444444444444,
              "#bd3786"
             ],
             [
              0.5555555555555556,
              "#d8576b"
             ],
             [
              0.6666666666666666,
              "#ed7953"
             ],
             [
              0.7777777777777778,
              "#fb9f3a"
             ],
             [
              0.8888888888888888,
              "#fdca26"
             ],
             [
              1,
              "#f0f921"
             ]
            ],
            "type": "surface"
           }
          ],
          "table": [
           {
            "cells": {
             "fill": {
              "color": "#EBF0F8"
             },
             "line": {
              "color": "white"
             }
            },
            "header": {
             "fill": {
              "color": "#C8D4E3"
             },
             "line": {
              "color": "white"
             }
            },
            "type": "table"
           }
          ]
         },
         "layout": {
          "annotationdefaults": {
           "arrowcolor": "#2a3f5f",
           "arrowhead": 0,
           "arrowwidth": 1
          },
          "autotypenumbers": "strict",
          "coloraxis": {
           "colorbar": {
            "outlinewidth": 0,
            "ticks": ""
           }
          },
          "colorscale": {
           "diverging": [
            [
             0,
             "#8e0152"
            ],
            [
             0.1,
             "#c51b7d"
            ],
            [
             0.2,
             "#de77ae"
            ],
            [
             0.3,
             "#f1b6da"
            ],
            [
             0.4,
             "#fde0ef"
            ],
            [
             0.5,
             "#f7f7f7"
            ],
            [
             0.6,
             "#e6f5d0"
            ],
            [
             0.7,
             "#b8e186"
            ],
            [
             0.8,
             "#7fbc41"
            ],
            [
             0.9,
             "#4d9221"
            ],
            [
             1,
             "#276419"
            ]
           ],
           "sequential": [
            [
             0,
             "#0d0887"
            ],
            [
             0.1111111111111111,
             "#46039f"
            ],
            [
             0.2222222222222222,
             "#7201a8"
            ],
            [
             0.3333333333333333,
             "#9c179e"
            ],
            [
             0.4444444444444444,
             "#bd3786"
            ],
            [
             0.5555555555555556,
             "#d8576b"
            ],
            [
             0.6666666666666666,
             "#ed7953"
            ],
            [
             0.7777777777777778,
             "#fb9f3a"
            ],
            [
             0.8888888888888888,
             "#fdca26"
            ],
            [
             1,
             "#f0f921"
            ]
           ],
           "sequentialminus": [
            [
             0,
             "#0d0887"
            ],
            [
             0.1111111111111111,
             "#46039f"
            ],
            [
             0.2222222222222222,
             "#7201a8"
            ],
            [
             0.3333333333333333,
             "#9c179e"
            ],
            [
             0.4444444444444444,
             "#bd3786"
            ],
            [
             0.5555555555555556,
             "#d8576b"
            ],
            [
             0.6666666666666666,
             "#ed7953"
            ],
            [
             0.7777777777777778,
             "#fb9f3a"
            ],
            [
             0.8888888888888888,
             "#fdca26"
            ],
            [
             1,
             "#f0f921"
            ]
           ]
          },
          "colorway": [
           "#636efa",
           "#EF553B",
           "#00cc96",
           "#ab63fa",
           "#FFA15A",
           "#19d3f3",
           "#FF6692",
           "#B6E880",
           "#FF97FF",
           "#FECB52"
          ],
          "font": {
           "color": "#2a3f5f"
          },
          "geo": {
           "bgcolor": "white",
           "lakecolor": "white",
           "landcolor": "#E5ECF6",
           "showlakes": true,
           "showland": true,
           "subunitcolor": "white"
          },
          "hoverlabel": {
           "align": "left"
          },
          "hovermode": "closest",
          "mapbox": {
           "style": "light"
          },
          "paper_bgcolor": "white",
          "plot_bgcolor": "#E5ECF6",
          "polar": {
           "angularaxis": {
            "gridcolor": "white",
            "linecolor": "white",
            "ticks": ""
           },
           "bgcolor": "#E5ECF6",
           "radialaxis": {
            "gridcolor": "white",
            "linecolor": "white",
            "ticks": ""
           }
          },
          "scene": {
           "xaxis": {
            "backgroundcolor": "#E5ECF6",
            "gridcolor": "white",
            "gridwidth": 2,
            "linecolor": "white",
            "showbackground": true,
            "ticks": "",
            "zerolinecolor": "white"
           },
           "yaxis": {
            "backgroundcolor": "#E5ECF6",
            "gridcolor": "white",
            "gridwidth": 2,
            "linecolor": "white",
            "showbackground": true,
            "ticks": "",
            "zerolinecolor": "white"
           },
           "zaxis": {
            "backgroundcolor": "#E5ECF6",
            "gridcolor": "white",
            "gridwidth": 2,
            "linecolor": "white",
            "showbackground": true,
            "ticks": "",
            "zerolinecolor": "white"
           }
          },
          "shapedefaults": {
           "line": {
            "color": "#2a3f5f"
           }
          },
          "ternary": {
           "aaxis": {
            "gridcolor": "white",
            "linecolor": "white",
            "ticks": ""
           },
           "baxis": {
            "gridcolor": "white",
            "linecolor": "white",
            "ticks": ""
           },
           "bgcolor": "#E5ECF6",
           "caxis": {
            "gridcolor": "white",
            "linecolor": "white",
            "ticks": ""
           }
          },
          "title": {
           "x": 0.05
          },
          "xaxis": {
           "automargin": true,
           "gridcolor": "white",
           "linecolor": "white",
           "ticks": "",
           "title": {
            "standoff": 15
           },
           "zerolinecolor": "white",
           "zerolinewidth": 2
          },
          "yaxis": {
           "automargin": true,
           "gridcolor": "white",
           "linecolor": "white",
           "ticks": "",
           "title": {
            "standoff": 15
           },
           "zerolinecolor": "white",
           "zerolinewidth": 2
          }
         }
        },
        "title": {
         "font": {
          "color": "#000000",
          "family": "Lato-Bold",
          "size": 18
         },
         "text": "Distribuição do saldo medido por grupo"
        },
        "width": 800,
        "xaxis": {
         "anchor": "y",
         "domain": [
          0,
          1
         ],
         "tickfont": {
          "color": "#000000",
          "family": "Lato-Regular",
          "size": 12
         },
         "title": {
          "font": {
           "color": "#000000",
           "family": "Lato-Italic",
           "size": 14
          },
          "text": "posto"
         }
        },
        "yaxis": {
         "anchor": "x",
         "domain": [
          0,
          1
         ],
         "tickfont": {
          "color": "#000000",
          "family": "Lato-Regular",
          "size": 12
         },
         "title": {
          "font": {
           "color": "#000000",
           "family": "Lato-Italic",
           "size": 14
          },
          "text": "saldo_medido"
         }
        }
       }
      }
     },
     "metadata": {},
     "output_type": "display_data"
    }
   ],
   "source": [
    "consumo_df['saldo_medido'] = consumo_df['faturado'] - consumo_df['medido']\n",
    "# Plotando a distribuição\n",
    "px.box(\n",
    "\tdata_frame=consumo_df, \n",
    "\tx='posto', \n",
    "\ty='saldo_medido', \n",
    "\tcolor='un',\n",
    "\ttitle='Distribuição do saldo medido por grupo', \n",
    "\twidth=800, \n",
    "\tcolor_discrete_sequence=CATEGORICAL_GROUPS[consumo_df['un'].nunique()]\n",
    ").update_layout(**LAYOUT_SPECS)"
   ]
  },
  {
   "cell_type": "markdown",
   "metadata": {},
   "source": [
    "A partir desta visualização podemos tirar conslusões de cada medição:  \n",
    "- `KWH`: com excessão de poucos outliers, todas as medições possuem saldo zero.\n",
    "- `KW`: observa-se que na categoria `PONTA` o saldo tem distribuição negativa, e na `FPONTA` o saldo é positivo. Como a demanda é contratada, isso significa que em geral os locais estão abaixo da demanda em períodos de FPONTA e acima dela nos períodos de PONTA.  \n",
    "- `ERE`: encontra-se alguns outliers(n=4) medidos no período de FPONTA.  \n",
    "- `DRE`: em ambos períodos o saldo é negativo, indicando que o valor medido é superior ao faturado.  \n",
    "- `KVA`: esta medida está presente em poucas observações(n=9), seu valor é negativo pois esse dado é apenas medido, não é cobrado na fatura.  \n",
    "- `INJ`: valores negativos podem significar uma grande quantidade de energia injetada proveniente de geração própria, por isso não é faturada.  \n",
    "- `ULTP`: a ultrapassagem foi registrada em apenas em períodos de `FPONTA`.  "
   ]
  },
  {
   "cell_type": "markdown",
   "metadata": {},
   "source": [
    "## Explorando `tarifas`"
   ]
  },
  {
   "cell_type": "code",
   "execution_count": null,
   "metadata": {},
   "outputs": [],
   "source": []
  },
  {
   "cell_type": "markdown",
   "metadata": {},
   "source": [
    "# 7. <span id='item7'>Apresentação em *Dashboards*"
   ]
  },
  {
   "cell_type": "markdown",
   "metadata": {},
   "source": [
    "Visualizando dados por cliente"
   ]
  },
  {
   "cell_type": "code",
   "execution_count": 44,
   "metadata": {},
   "outputs": [],
   "source": [
    "def select_client(name):\n",
    "\tcliente_query = norm_df[norm_df['cliente']==name]\n",
    "\n",
    "\ttarifas_cliente = pd.concat([\n",
    "\t\tcliente_query.drop(columns='tarifas'),\n",
    "\t\tcliente_query.explode('tarifas')['tarifas'].apply(pd.Series)\n",
    "\t], axis=1)\n",
    "\n",
    "\tconsumo_cliente = pd.concat([\n",
    "\t\tcliente_query.drop(columns='estruturaConsumo'),\n",
    "\t\tcliente_query['estruturaConsumo'].apply(pd.Series)\n",
    "\t], axis=1)\n",
    "\n",
    "\treturn tarifas_cliente, consumo_cliente"
   ]
  },
  {
   "cell_type": "code",
   "execution_count": 45,
   "metadata": {},
   "outputs": [],
   "source": [
    "cliente = 'AGUAS LEBRINHA LTDA'\n",
    "cliente_query = norm_df[norm_df['cliente']==cliente]"
   ]
  },
  {
   "cell_type": "code",
   "execution_count": 46,
   "metadata": {},
   "outputs": [
    {
     "data": {
      "application/vnd.plotly.v1+json": {
       "config": {
        "plotlyServerURL": "https://plot.ly"
       },
       "data": [
        {
         "alignmentgroup": "True",
         "customdata": [
          [
           "DEMANDA POTÊNCIA NÃO CONSUMIDA - F PONTA"
          ],
          [
           "DEMANDA POTÊNCIA NÃO CONSUMIDA - F PONTA"
          ],
          [
           "DEMANDA POTÊNCIA NÃO CONSUMIDA - F PONTA"
          ],
          [
           "DEMANDA DE POTÊNCIA MEDIDA - FORA PONTA"
          ],
          [
           "DEMANDA POTÊNCIA REATIVA EXCED - F PONTA"
          ],
          [
           "DEMANDA POTÊNCIA ATIVA - ULTRAP - F PONTA"
          ],
          [
           "DEMANDA POTÊNCIA NÃO CONSUMIDA - F PONTA"
          ],
          [
           "DEMANDA DE POTÊNCIA MEDIDA - FORA PONTA"
          ],
          [
           "DEMANDA POTÊNCIA REATIVA EXCED - F PONTA"
          ],
          [
           "DEMANDA POTÊNCIA ATIVA - ULTRAP - F PONTA"
          ],
          [
           "DEMANDA POTÊNCIA NÃO CONSUMIDA - F PONTA"
          ],
          [
           "DEMANDA POTÊNCIA NÃO CONSUMIDA - F PONTA"
          ],
          [
           "DEMANDA POTÊNCIA NÃO CONSUMIDA - F PONTA"
          ],
          [
           "DEMANDA POTÊNCIA NÃO CONSUMIDA - F PONTA"
          ],
          [
           "DEMANDA DE POTÊNCIA MEDIDA - FORA PONTA"
          ],
          [
           "DEMANDA POTÊNCIA REATIVA EXCED - F PONTA"
          ],
          [
           "DEMANDA POTÊNCIA ATIVA - ULTRAP - F PONTA"
          ],
          [
           "DEMANDA DE POTÊNCIA MEDIDA - FORA PONTA"
          ],
          [
           "DEMANDA POTÊNCIA NÃO CONSUMIDA - F PONTA"
          ],
          [
           "DEMANDA POTÊNCIA NÃO CONSUMIDA - F PONTA"
          ],
          [
           "DEMANDA POTÊNCIA NÃO CONSUMIDA - F PONTA"
          ],
          [
           "DEMANDA POTÊNCIA NÃO CONSUMIDA - F PONTA"
          ],
          [
           "DEMANDA DE POTÊNCIA MEDIDA - FORA PONTA"
          ],
          [
           "DEMANDA POTÊNCIA NÃO CONSUMIDA - F PONTA"
          ],
          [
           "DEMANDA POTÊNCIA NÃO CONSUMIDA - F PONTA"
          ],
          [
           "DEMANDA POTÊNCIA NÃO CONSUMIDA - F PONTA"
          ],
          [
           "DEMANDA DE POTÊNCIA MEDIDA - FORA PONTA"
          ],
          [
           "DEMANDA POTÊNCIA NÃO CONSUMIDA - F PONTA"
          ],
          [
           "DEMANDA POTÊNCIA NÃO CONSUMIDA - F PONTA"
          ],
          [
           "DEMANDA POTÊNCIA NÃO CONSUMIDA - F PONTA"
          ],
          [
           "DEMANDA POTÊNCIA NÃO CONSUMIDA - F PONTA"
          ],
          [
           "DEMANDA POTÊNCIA NÃO CONSUMIDA - F PONTA"
          ]
         ],
         "hovertemplate": "Data: %{x}<br>Valor medido: %{y}<br>Descrição: %{customdata[0]}",
         "legendgroup": "DEMANDA",
         "marker": {
          "color": "#1696d2",
          "pattern": {
           "shape": ""
          }
         },
         "name": "DEMANDA",
         "offsetgroup": "DEMANDA",
         "orientation": "v",
         "showlegend": true,
         "textposition": "auto",
         "type": "bar",
         "x": [
          "2021-06-01T00:00:00",
          "2021-07-01T00:00:00",
          "2022-05-01T00:00:00",
          "2020-04-01T00:00:00",
          "2020-04-01T00:00:00",
          "2020-04-01T00:00:00",
          "2021-12-01T00:00:00",
          "2020-02-01T00:00:00",
          "2020-02-01T00:00:00",
          "2020-02-01T00:00:00",
          "2021-10-01T00:00:00",
          "2021-09-01T00:00:00",
          "2021-08-01T00:00:00",
          "2021-11-01T00:00:00",
          "2020-03-01T00:00:00",
          "2020-03-01T00:00:00",
          "2020-03-01T00:00:00",
          "2020-06-01T00:00:00",
          "2020-06-01T00:00:00",
          "2020-07-01T00:00:00",
          "2020-08-01T00:00:00",
          "2020-09-01T00:00:00",
          "2020-10-01T00:00:00",
          "2020-10-01T00:00:00",
          "2022-01-01T00:00:00",
          "2022-02-01T00:00:00",
          "2020-05-01T00:00:00",
          "2020-05-01T00:00:00",
          "2022-03-01T00:00:00",
          "2022-04-01T00:00:00",
          "2020-12-01T00:00:00",
          "2021-04-01T00:00:00"
         ],
         "xaxis": "x",
         "y": [
          1000,
          1000,
          1000,
          1198.71,
          159.07,
          198.71,
          1000,
          1196.38,
          126.34,
          196.38,
          1000,
          1000,
          1000,
          1000,
          1179.19,
          49.82,
          179.19,
          979.95,
          20.05,
          1000,
          1000,
          1000,
          21.77,
          978.23,
          1000,
          1000,
          986.97,
          13.03,
          1000,
          1000,
          19.26,
          19.26
         ],
         "yaxis": "y"
        },
        {
         "alignmentgroup": "True",
         "customdata": [
          [
           "CONTRIB DE ILUM PUB"
          ],
          [
           "CONTRIB DE ILUM PUB"
          ],
          [
           "CONTRIB DE ILUM PUB"
          ],
          [
           "CONTRIB DE ILUM PUB"
          ],
          [
           "CONTRIB DE ILUM PUB"
          ],
          [
           "CONTRIB DE ILUM PUB"
          ],
          [
           "CONTRIB DE ILUM PUB"
          ],
          [
           "CONTRIB DE ILUM PUB"
          ],
          [
           "CONTRIB DE ILUM PUB"
          ],
          [
           "CONTRIB DE ILUM PUB"
          ],
          [
           "CONTRIB DE ILUM PUB"
          ],
          [
           "CONTRIB DE ILUM PUB"
          ],
          [
           "CONTRIB DE ILUM PUB"
          ],
          [
           "CONTRIB DE ILUM PUB"
          ],
          [
           "CONTRIB DE ILUM PUB"
          ],
          [
           "CONTRIB DE ILUM PUB"
          ],
          [
           "CONTRIB DE ILUM PUB"
          ],
          [
           "CONTRIB DE ILUM PUB"
          ],
          [
           "CONTRIB DE ILUM PUB"
          ],
          [
           "CONTRIB DE ILUM PUB"
          ],
          [
           "CONTRIB DE ILUM PUB"
          ],
          [
           "CONTRIB DE ILUM PUB"
          ],
          [
           "CONTRIB DE ILUM PUB"
          ]
         ],
         "hovertemplate": "Data: %{x}<br>Valor medido: %{y}<br>Descrição: %{customdata[0]}",
         "legendgroup": "CONTRIB",
         "marker": {
          "color": "#d2d2d2",
          "pattern": {
           "shape": ""
          }
         },
         "name": "CONTRIB",
         "offsetgroup": "CONTRIB",
         "orientation": "v",
         "showlegend": true,
         "textposition": "auto",
         "type": "bar",
         "x": [
          "2021-06-01T00:00:00",
          "2021-07-01T00:00:00",
          "2022-05-01T00:00:00",
          "2020-04-01T00:00:00",
          "2021-12-01T00:00:00",
          "2020-02-01T00:00:00",
          "2021-10-01T00:00:00",
          "2021-09-01T00:00:00",
          "2021-08-01T00:00:00",
          "2021-11-01T00:00:00",
          "2020-03-01T00:00:00",
          "2020-06-01T00:00:00",
          "2020-07-01T00:00:00",
          "2020-08-01T00:00:00",
          "2020-09-01T00:00:00",
          "2020-10-01T00:00:00",
          "2022-01-01T00:00:00",
          "2022-02-01T00:00:00",
          "2020-05-01T00:00:00",
          "2022-03-01T00:00:00",
          "2022-04-01T00:00:00",
          "2020-12-01T00:00:00",
          "2021-04-01T00:00:00"
         ],
         "xaxis": "x",
         "y": [
          0,
          0,
          0,
          0,
          0,
          0,
          0,
          0,
          0,
          0,
          0,
          0,
          0,
          0,
          0,
          0,
          0,
          0,
          0,
          0,
          0,
          0,
          0
         ],
         "yaxis": "y"
        },
        {
         "alignmentgroup": "True",
         "customdata": [
          [
           "CONSUMO EM KWH - FORA PONTA"
          ],
          [
           "CONSUMO EM KWH - FORA PONTA"
          ]
         ],
         "hovertemplate": "Data: %{x}<br>Valor medido: %{y}<br>Descrição: %{customdata[0]}",
         "legendgroup": "CONSUMO",
         "marker": {
          "color": "#ec008b",
          "pattern": {
           "shape": ""
          }
         },
         "name": "CONSUMO",
         "offsetgroup": "CONSUMO",
         "orientation": "v",
         "showlegend": true,
         "textposition": "auto",
         "type": "bar",
         "x": [
          "2020-04-01T00:00:00",
          "2022-02-01T00:00:00"
         ],
         "xaxis": "x",
         "y": [
          0,
          324
         ],
         "yaxis": "y"
        },
        {
         "alignmentgroup": "True",
         "customdata": [
          [
           "ENERGIA ATV INJETADA - FORA PONTA"
          ],
          [
           "ENERGIA REATIVA EXCED EM KWH - FPONTA"
          ],
          [
           "ENERGIA REATIVA EXCED EM KWH - FPONTA"
          ],
          [
           "ENERGIA REATIVA EXCED EM KWH - FPONTA"
          ],
          [
           "ENERGIA REATIVA EXCED EM KWH - FPONTA"
          ],
          [
           "ENERGIA REATIVA EXCED EM KWH - PONTA"
          ],
          [
           "ENERGIA REATIVA EXCED EM KWH - FPONTA"
          ],
          [
           "ENERGIA ATV INJETADA - FORA PONTA"
          ],
          [
           "ENERGIA REATIVA EXCED EM KWH - FPONTA"
          ]
         ],
         "hovertemplate": "Data: %{x}<br>Valor medido: %{y}<br>Descrição: %{customdata[0]}",
         "legendgroup": "ENERGIA",
         "marker": {
          "color": "#fdbf11",
          "pattern": {
           "shape": ""
          }
         },
         "name": "ENERGIA",
         "offsetgroup": "ENERGIA",
         "orientation": "v",
         "showlegend": true,
         "textposition": "auto",
         "type": "bar",
         "x": [
          "2020-04-01T00:00:00",
          "2020-04-01T00:00:00",
          "2020-02-01T00:00:00",
          "2020-03-01T00:00:00",
          "2020-06-01T00:00:00",
          "2020-10-01T00:00:00",
          "2020-10-01T00:00:00",
          "2022-02-01T00:00:00",
          "2020-05-01T00:00:00"
         ],
         "xaxis": "x",
         "y": [
          0,
          1358,
          3550,
          1361,
          314,
          0,
          68,
          324,
          106
         ],
         "yaxis": "y"
        },
        {
         "alignmentgroup": "True",
         "customdata": [
          [
           "JUROS DE MORA 02/2020"
          ],
          [
           "JUROS DE MORA 12/2019"
          ],
          [
           "JUROS DE MORA 01/2020"
          ],
          [
           "JUROS DE MORA 04/2020"
          ],
          [
           "JUROS DE MORA 05/2020"
          ],
          [
           "JUROS DE MORA 06/2020"
          ],
          [
           "JUROS DE MORA 07/2020"
          ],
          [
           "JUROS DE MORA 12/2021"
          ],
          [
           "JUROS DE MORA 01/2022"
          ],
          [
           "JUROS DE MORA 03/2020"
          ]
         ],
         "hovertemplate": "Data: %{x}<br>Valor medido: %{y}<br>Descrição: %{customdata[0]}",
         "legendgroup": "JUROS",
         "marker": {
          "color": "#332d2f",
          "pattern": {
           "shape": ""
          }
         },
         "name": "JUROS",
         "offsetgroup": "JUROS",
         "orientation": "v",
         "showlegend": true,
         "textposition": "auto",
         "type": "bar",
         "x": [
          "2020-04-01T00:00:00",
          "2020-02-01T00:00:00",
          "2020-03-01T00:00:00",
          "2020-06-01T00:00:00",
          "2020-07-01T00:00:00",
          "2020-08-01T00:00:00",
          "2020-09-01T00:00:00",
          "2022-02-01T00:00:00",
          "2022-02-01T00:00:00",
          "2020-05-01T00:00:00"
         ],
         "xaxis": "x",
         "y": [
          0,
          0,
          0,
          0,
          0,
          0,
          0,
          0,
          0,
          0
         ],
         "yaxis": "y"
        },
        {
         "alignmentgroup": "True",
         "customdata": [
          [
           "MULTA 02/2020"
          ],
          [
           "MULTA 12/2019"
          ],
          [
           "MULTA 01/2020"
          ],
          [
           "MULTA 04/2020"
          ],
          [
           "MULTA 05/2020"
          ],
          [
           "MULTA 06/2020"
          ],
          [
           "MULTA 07/2020"
          ],
          [
           "MULTA 12/2021"
          ],
          [
           "MULTA 01/2022"
          ],
          [
           "MULTA 03/2020"
          ]
         ],
         "hovertemplate": "Data: %{x}<br>Valor medido: %{y}<br>Descrição: %{customdata[0]}",
         "legendgroup": "MULTA",
         "marker": {
          "color": "#0a4c6a",
          "pattern": {
           "shape": ""
          }
         },
         "name": "MULTA",
         "offsetgroup": "MULTA",
         "orientation": "v",
         "showlegend": true,
         "textposition": "auto",
         "type": "bar",
         "x": [
          "2020-04-01T00:00:00",
          "2020-02-01T00:00:00",
          "2020-03-01T00:00:00",
          "2020-06-01T00:00:00",
          "2020-07-01T00:00:00",
          "2020-08-01T00:00:00",
          "2020-09-01T00:00:00",
          "2022-02-01T00:00:00",
          "2022-02-01T00:00:00",
          "2020-05-01T00:00:00"
         ],
         "xaxis": "x",
         "y": [
          0,
          0,
          0,
          0,
          0,
          0,
          0,
          0,
          0,
          0
         ],
         "yaxis": "y"
        },
        {
         "alignmentgroup": "True",
         "customdata": [
          [
           "ATUALIZAÇÃO MONETÁRIA 12/2019"
          ],
          [
           "ATUALIZAÇÃO MONETÁRIA 01/2020"
          ],
          [
           "ATUALIZAÇÃO MONETÁRIA 04/2020"
          ],
          [
           "ATUALIZAÇÃO MONETÁRIA 05/2020"
          ],
          [
           "ATUALIZAÇÃO MONETÁRIA 06/2020"
          ],
          [
           "ATUALIZAÇÃO MONETÁRIA 07/2020"
          ],
          [
           "ATUALIZAÇÃO MONETÁRIA 03/2020"
          ]
         ],
         "hovertemplate": "Data: %{x}<br>Valor medido: %{y}<br>Descrição: %{customdata[0]}",
         "legendgroup": "ATUALIZAÇÃO",
         "marker": {
          "color": "#55b748",
          "pattern": {
           "shape": ""
          }
         },
         "name": "ATUALIZAÇÃO",
         "offsetgroup": "ATUALIZAÇÃO",
         "orientation": "v",
         "showlegend": true,
         "textposition": "auto",
         "type": "bar",
         "x": [
          "2020-02-01T00:00:00",
          "2020-03-01T00:00:00",
          "2020-06-01T00:00:00",
          "2020-07-01T00:00:00",
          "2020-08-01T00:00:00",
          "2020-09-01T00:00:00",
          "2020-05-01T00:00:00"
         ],
         "xaxis": "x",
         "y": [
          0,
          0,
          0,
          0,
          0,
          0,
          0
         ],
         "yaxis": "y"
        }
       ],
       "layout": {
        "annotations": [
         {
          "font": {},
          "showarrow": false,
          "text": "uc=6/2731957-3",
          "x": 0.5,
          "xanchor": "center",
          "xref": "paper",
          "y": 1,
          "yanchor": "bottom",
          "yref": "paper"
         }
        ],
        "barmode": "group",
        "height": 600,
        "hoverlabel": {
         "font": {
          "family": "Lato-Regular",
          "size": 14
         }
        },
        "legend": {
         "font": {
          "color": "#000000",
          "family": "Lato-Regular",
          "size": 13
         },
         "title": {
          "font": {
           "color": "#000000",
           "family": "Lato-Bold",
           "size": 14
          },
          "text": "class_desc"
         },
         "tracegroupgap": 0
        },
        "template": {
         "data": {
          "bar": [
           {
            "error_x": {
             "color": "#2a3f5f"
            },
            "error_y": {
             "color": "#2a3f5f"
            },
            "marker": {
             "line": {
              "color": "#E5ECF6",
              "width": 0.5
             },
             "pattern": {
              "fillmode": "overlay",
              "size": 10,
              "solidity": 0.2
             }
            },
            "type": "bar"
           }
          ],
          "barpolar": [
           {
            "marker": {
             "line": {
              "color": "#E5ECF6",
              "width": 0.5
             },
             "pattern": {
              "fillmode": "overlay",
              "size": 10,
              "solidity": 0.2
             }
            },
            "type": "barpolar"
           }
          ],
          "carpet": [
           {
            "aaxis": {
             "endlinecolor": "#2a3f5f",
             "gridcolor": "white",
             "linecolor": "white",
             "minorgridcolor": "white",
             "startlinecolor": "#2a3f5f"
            },
            "baxis": {
             "endlinecolor": "#2a3f5f",
             "gridcolor": "white",
             "linecolor": "white",
             "minorgridcolor": "white",
             "startlinecolor": "#2a3f5f"
            },
            "type": "carpet"
           }
          ],
          "choropleth": [
           {
            "colorbar": {
             "outlinewidth": 0,
             "ticks": ""
            },
            "type": "choropleth"
           }
          ],
          "contour": [
           {
            "colorbar": {
             "outlinewidth": 0,
             "ticks": ""
            },
            "colorscale": [
             [
              0,
              "#0d0887"
             ],
             [
              0.1111111111111111,
              "#46039f"
             ],
             [
              0.2222222222222222,
              "#7201a8"
             ],
             [
              0.3333333333333333,
              "#9c179e"
             ],
             [
              0.4444444444444444,
              "#bd3786"
             ],
             [
              0.5555555555555556,
              "#d8576b"
             ],
             [
              0.6666666666666666,
              "#ed7953"
             ],
             [
              0.7777777777777778,
              "#fb9f3a"
             ],
             [
              0.8888888888888888,
              "#fdca26"
             ],
             [
              1,
              "#f0f921"
             ]
            ],
            "type": "contour"
           }
          ],
          "contourcarpet": [
           {
            "colorbar": {
             "outlinewidth": 0,
             "ticks": ""
            },
            "type": "contourcarpet"
           }
          ],
          "heatmap": [
           {
            "colorbar": {
             "outlinewidth": 0,
             "ticks": ""
            },
            "colorscale": [
             [
              0,
              "#0d0887"
             ],
             [
              0.1111111111111111,
              "#46039f"
             ],
             [
              0.2222222222222222,
              "#7201a8"
             ],
             [
              0.3333333333333333,
              "#9c179e"
             ],
             [
              0.4444444444444444,
              "#bd3786"
             ],
             [
              0.5555555555555556,
              "#d8576b"
             ],
             [
              0.6666666666666666,
              "#ed7953"
             ],
             [
              0.7777777777777778,
              "#fb9f3a"
             ],
             [
              0.8888888888888888,
              "#fdca26"
             ],
             [
              1,
              "#f0f921"
             ]
            ],
            "type": "heatmap"
           }
          ],
          "heatmapgl": [
           {
            "colorbar": {
             "outlinewidth": 0,
             "ticks": ""
            },
            "colorscale": [
             [
              0,
              "#0d0887"
             ],
             [
              0.1111111111111111,
              "#46039f"
             ],
             [
              0.2222222222222222,
              "#7201a8"
             ],
             [
              0.3333333333333333,
              "#9c179e"
             ],
             [
              0.4444444444444444,
              "#bd3786"
             ],
             [
              0.5555555555555556,
              "#d8576b"
             ],
             [
              0.6666666666666666,
              "#ed7953"
             ],
             [
              0.7777777777777778,
              "#fb9f3a"
             ],
             [
              0.8888888888888888,
              "#fdca26"
             ],
             [
              1,
              "#f0f921"
             ]
            ],
            "type": "heatmapgl"
           }
          ],
          "histogram": [
           {
            "marker": {
             "pattern": {
              "fillmode": "overlay",
              "size": 10,
              "solidity": 0.2
             }
            },
            "type": "histogram"
           }
          ],
          "histogram2d": [
           {
            "colorbar": {
             "outlinewidth": 0,
             "ticks": ""
            },
            "colorscale": [
             [
              0,
              "#0d0887"
             ],
             [
              0.1111111111111111,
              "#46039f"
             ],
             [
              0.2222222222222222,
              "#7201a8"
             ],
             [
              0.3333333333333333,
              "#9c179e"
             ],
             [
              0.4444444444444444,
              "#bd3786"
             ],
             [
              0.5555555555555556,
              "#d8576b"
             ],
             [
              0.6666666666666666,
              "#ed7953"
             ],
             [
              0.7777777777777778,
              "#fb9f3a"
             ],
             [
              0.8888888888888888,
              "#fdca26"
             ],
             [
              1,
              "#f0f921"
             ]
            ],
            "type": "histogram2d"
           }
          ],
          "histogram2dcontour": [
           {
            "colorbar": {
             "outlinewidth": 0,
             "ticks": ""
            },
            "colorscale": [
             [
              0,
              "#0d0887"
             ],
             [
              0.1111111111111111,
              "#46039f"
             ],
             [
              0.2222222222222222,
              "#7201a8"
             ],
             [
              0.3333333333333333,
              "#9c179e"
             ],
             [
              0.4444444444444444,
              "#bd3786"
             ],
             [
              0.5555555555555556,
              "#d8576b"
             ],
             [
              0.6666666666666666,
              "#ed7953"
             ],
             [
              0.7777777777777778,
              "#fb9f3a"
             ],
             [
              0.8888888888888888,
              "#fdca26"
             ],
             [
              1,
              "#f0f921"
             ]
            ],
            "type": "histogram2dcontour"
           }
          ],
          "mesh3d": [
           {
            "colorbar": {
             "outlinewidth": 0,
             "ticks": ""
            },
            "type": "mesh3d"
           }
          ],
          "parcoords": [
           {
            "line": {
             "colorbar": {
              "outlinewidth": 0,
              "ticks": ""
             }
            },
            "type": "parcoords"
           }
          ],
          "pie": [
           {
            "automargin": true,
            "type": "pie"
           }
          ],
          "scatter": [
           {
            "marker": {
             "colorbar": {
              "outlinewidth": 0,
              "ticks": ""
             }
            },
            "type": "scatter"
           }
          ],
          "scatter3d": [
           {
            "line": {
             "colorbar": {
              "outlinewidth": 0,
              "ticks": ""
             }
            },
            "marker": {
             "colorbar": {
              "outlinewidth": 0,
              "ticks": ""
             }
            },
            "type": "scatter3d"
           }
          ],
          "scattercarpet": [
           {
            "marker": {
             "colorbar": {
              "outlinewidth": 0,
              "ticks": ""
             }
            },
            "type": "scattercarpet"
           }
          ],
          "scattergeo": [
           {
            "marker": {
             "colorbar": {
              "outlinewidth": 0,
              "ticks": ""
             }
            },
            "type": "scattergeo"
           }
          ],
          "scattergl": [
           {
            "marker": {
             "colorbar": {
              "outlinewidth": 0,
              "ticks": ""
             }
            },
            "type": "scattergl"
           }
          ],
          "scattermapbox": [
           {
            "marker": {
             "colorbar": {
              "outlinewidth": 0,
              "ticks": ""
             }
            },
            "type": "scattermapbox"
           }
          ],
          "scatterpolar": [
           {
            "marker": {
             "colorbar": {
              "outlinewidth": 0,
              "ticks": ""
             }
            },
            "type": "scatterpolar"
           }
          ],
          "scatterpolargl": [
           {
            "marker": {
             "colorbar": {
              "outlinewidth": 0,
              "ticks": ""
             }
            },
            "type": "scatterpolargl"
           }
          ],
          "scatterternary": [
           {
            "marker": {
             "colorbar": {
              "outlinewidth": 0,
              "ticks": ""
             }
            },
            "type": "scatterternary"
           }
          ],
          "surface": [
           {
            "colorbar": {
             "outlinewidth": 0,
             "ticks": ""
            },
            "colorscale": [
             [
              0,
              "#0d0887"
             ],
             [
              0.1111111111111111,
              "#46039f"
             ],
             [
              0.2222222222222222,
              "#7201a8"
             ],
             [
              0.3333333333333333,
              "#9c179e"
             ],
             [
              0.4444444444444444,
              "#bd3786"
             ],
             [
              0.5555555555555556,
              "#d8576b"
             ],
             [
              0.6666666666666666,
              "#ed7953"
             ],
             [
              0.7777777777777778,
              "#fb9f3a"
             ],
             [
              0.8888888888888888,
              "#fdca26"
             ],
             [
              1,
              "#f0f921"
             ]
            ],
            "type": "surface"
           }
          ],
          "table": [
           {
            "cells": {
             "fill": {
              "color": "#EBF0F8"
             },
             "line": {
              "color": "white"
             }
            },
            "header": {
             "fill": {
              "color": "#C8D4E3"
             },
             "line": {
              "color": "white"
             }
            },
            "type": "table"
           }
          ]
         },
         "layout": {
          "annotationdefaults": {
           "arrowcolor": "#2a3f5f",
           "arrowhead": 0,
           "arrowwidth": 1
          },
          "autotypenumbers": "strict",
          "coloraxis": {
           "colorbar": {
            "outlinewidth": 0,
            "ticks": ""
           }
          },
          "colorscale": {
           "diverging": [
            [
             0,
             "#8e0152"
            ],
            [
             0.1,
             "#c51b7d"
            ],
            [
             0.2,
             "#de77ae"
            ],
            [
             0.3,
             "#f1b6da"
            ],
            [
             0.4,
             "#fde0ef"
            ],
            [
             0.5,
             "#f7f7f7"
            ],
            [
             0.6,
             "#e6f5d0"
            ],
            [
             0.7,
             "#b8e186"
            ],
            [
             0.8,
             "#7fbc41"
            ],
            [
             0.9,
             "#4d9221"
            ],
            [
             1,
             "#276419"
            ]
           ],
           "sequential": [
            [
             0,
             "#0d0887"
            ],
            [
             0.1111111111111111,
             "#46039f"
            ],
            [
             0.2222222222222222,
             "#7201a8"
            ],
            [
             0.3333333333333333,
             "#9c179e"
            ],
            [
             0.4444444444444444,
             "#bd3786"
            ],
            [
             0.5555555555555556,
             "#d8576b"
            ],
            [
             0.6666666666666666,
             "#ed7953"
            ],
            [
             0.7777777777777778,
             "#fb9f3a"
            ],
            [
             0.8888888888888888,
             "#fdca26"
            ],
            [
             1,
             "#f0f921"
            ]
           ],
           "sequentialminus": [
            [
             0,
             "#0d0887"
            ],
            [
             0.1111111111111111,
             "#46039f"
            ],
            [
             0.2222222222222222,
             "#7201a8"
            ],
            [
             0.3333333333333333,
             "#9c179e"
            ],
            [
             0.4444444444444444,
             "#bd3786"
            ],
            [
             0.5555555555555556,
             "#d8576b"
            ],
            [
             0.6666666666666666,
             "#ed7953"
            ],
            [
             0.7777777777777778,
             "#fb9f3a"
            ],
            [
             0.8888888888888888,
             "#fdca26"
            ],
            [
             1,
             "#f0f921"
            ]
           ]
          },
          "colorway": [
           "#636efa",
           "#EF553B",
           "#00cc96",
           "#ab63fa",
           "#FFA15A",
           "#19d3f3",
           "#FF6692",
           "#B6E880",
           "#FF97FF",
           "#FECB52"
          ],
          "font": {
           "color": "#2a3f5f"
          },
          "geo": {
           "bgcolor": "white",
           "lakecolor": "white",
           "landcolor": "#E5ECF6",
           "showlakes": true,
           "showland": true,
           "subunitcolor": "white"
          },
          "hoverlabel": {
           "align": "left"
          },
          "hovermode": "closest",
          "mapbox": {
           "style": "light"
          },
          "paper_bgcolor": "white",
          "plot_bgcolor": "#E5ECF6",
          "polar": {
           "angularaxis": {
            "gridcolor": "white",
            "linecolor": "white",
            "ticks": ""
           },
           "bgcolor": "#E5ECF6",
           "radialaxis": {
            "gridcolor": "white",
            "linecolor": "white",
            "ticks": ""
           }
          },
          "scene": {
           "xaxis": {
            "backgroundcolor": "#E5ECF6",
            "gridcolor": "white",
            "gridwidth": 2,
            "linecolor": "white",
            "showbackground": true,
            "ticks": "",
            "zerolinecolor": "white"
           },
           "yaxis": {
            "backgroundcolor": "#E5ECF6",
            "gridcolor": "white",
            "gridwidth": 2,
            "linecolor": "white",
            "showbackground": true,
            "ticks": "",
            "zerolinecolor": "white"
           },
           "zaxis": {
            "backgroundcolor": "#E5ECF6",
            "gridcolor": "white",
            "gridwidth": 2,
            "linecolor": "white",
            "showbackground": true,
            "ticks": "",
            "zerolinecolor": "white"
           }
          },
          "shapedefaults": {
           "line": {
            "color": "#2a3f5f"
           }
          },
          "ternary": {
           "aaxis": {
            "gridcolor": "white",
            "linecolor": "white",
            "ticks": ""
           },
           "baxis": {
            "gridcolor": "white",
            "linecolor": "white",
            "ticks": ""
           },
           "bgcolor": "#E5ECF6",
           "caxis": {
            "gridcolor": "white",
            "linecolor": "white",
            "ticks": ""
           }
          },
          "title": {
           "x": 0.05
          },
          "xaxis": {
           "automargin": true,
           "gridcolor": "white",
           "linecolor": "white",
           "ticks": "",
           "title": {
            "standoff": 15
           },
           "zerolinecolor": "white",
           "zerolinewidth": 2
          },
          "yaxis": {
           "automargin": true,
           "gridcolor": "white",
           "linecolor": "white",
           "ticks": "",
           "title": {
            "standoff": 15
           },
           "zerolinecolor": "white",
           "zerolinewidth": 2
          }
         }
        },
        "title": {
         "font": {
          "color": "#000000",
          "family": "Lato-Bold",
          "size": 18
         },
         "text": "AGUAS LEBRINHA LTDA<br><sup>Histórico por unidade consumidora</sup>"
        },
        "width": 1000,
        "xaxis": {
         "anchor": "y",
         "domain": [
          0,
          1
         ],
         "tickfont": {
          "color": "#000000",
          "family": "Lato-Regular",
          "size": 12
         },
         "title": {
          "font": {
           "color": "#000000",
           "family": "Lato-Italic",
           "size": 14
          },
          "text": "referencia"
         }
        },
        "yaxis": {
         "anchor": "x",
         "domain": [
          0,
          1
         ],
         "showticklabels": true,
         "tickfont": {
          "color": "#000000",
          "family": "Lato-Regular",
          "size": 12
         },
         "title": {
          "font": {
           "color": "#000000",
           "family": "Lato-Italic",
           "size": 14
          },
          "text": "quantidade"
         }
        }
       }
      }
     },
     "metadata": {},
     "output_type": "display_data"
    }
   ],
   "source": [
    "tarifas_cliente = pd.concat([\n",
    "\tcliente_query.drop(columns='tarifas'),\n",
    "\tcliente_query.explode('tarifas')['tarifas'].apply(pd.Series)\n",
    "], axis=1)\n",
    "\n",
    "px.bar(\n",
    "\ttarifas_cliente,\n",
    "\tx='referencia',\n",
    "\ty='quantidade',\n",
    "\tcolor='class_desc',\n",
    "\t#facet_row='posto',\n",
    "\tfacet_col='uc',\n",
    "\tcustom_data=['descricao'],\n",
    "\tbarmode='group',\n",
    "\ttitle=f'{cliente}<br><sup>Histórico por unidade consumidora</sup>',\n",
    "\tcolor_discrete_sequence=CATEGORICAL_GROUPS[tarifas_cliente['class_desc'].nunique()],\n",
    "\theight=600, width=1000\n",
    ").update_traces(\n",
    "    hovertemplate=\"<br>\".join([\n",
    "        \"Data: %{x}\",\n",
    "        \"Valor medido: %{y}\",\n",
    "        \"Descrição: %{customdata[0]}\",\n",
    "    ])\n",
    ").update_layout(**LAYOUT_SPECS\n",
    ").update_yaxes(matches=None, **LAYOUT_SPECS['yaxis']\n",
    ").for_each_yaxis(lambda yaxis: yaxis.update(showticklabels=True))"
   ]
  },
  {
   "cell_type": "code",
   "execution_count": 47,
   "metadata": {},
   "outputs": [
    {
     "data": {
      "application/vnd.plotly.v1+json": {
       "config": {
        "plotlyServerURL": "https://plot.ly"
       },
       "data": [
        {
         "alignmentgroup": "True",
         "hovertemplate": "un=ERE<br>posto=PONTA<br>referencia=%{x}<br>medido=%{y}<extra></extra>",
         "legendgroup": "ERE",
         "marker": {
          "color": "#000000",
          "pattern": {
           "shape": ""
          }
         },
         "name": "ERE",
         "offsetgroup": "ERE",
         "orientation": "v",
         "showlegend": true,
         "textposition": "auto",
         "type": "bar",
         "x": [
          "2021-06-01T00:00:00"
         ],
         "xaxis": "x",
         "y": [
          223.71
         ],
         "yaxis": "y"
        },
        {
         "alignmentgroup": "True",
         "hovertemplate": "un=ERE<br>posto=FPONTA<br>referencia=%{x}<br>medido=%{y}<extra></extra>",
         "legendgroup": "ERE",
         "marker": {
          "color": "#000000",
          "pattern": {
           "shape": ""
          }
         },
         "name": "ERE",
         "offsetgroup": "ERE",
         "orientation": "v",
         "showlegend": false,
         "textposition": "auto",
         "type": "bar",
         "x": [
          "2021-07-01T00:00:00"
         ],
         "xaxis": "x2",
         "y": [
          1775.98
         ],
         "yaxis": "y2"
        },
        {
         "alignmentgroup": "True",
         "hovertemplate": "un=DRE<br>posto=PONTA<br>referencia=%{x}<br>medido=%{y}<extra></extra>",
         "legendgroup": "DRE",
         "marker": {
          "color": "#d2d2d2",
          "pattern": {
           "shape": ""
          }
         },
         "name": "DRE",
         "offsetgroup": "DRE",
         "orientation": "v",
         "showlegend": true,
         "textposition": "auto",
         "type": "bar",
         "x": [
          "2022-05-01T00:00:00"
         ],
         "xaxis": "x",
         "y": [
          41.3
         ],
         "yaxis": "y"
        },
        {
         "alignmentgroup": "True",
         "hovertemplate": "un=DRE<br>posto=FPONTA<br>referencia=%{x}<br>medido=%{y}<extra></extra>",
         "legendgroup": "DRE",
         "marker": {
          "color": "#d2d2d2",
          "pattern": {
           "shape": ""
          }
         },
         "name": "DRE",
         "offsetgroup": "DRE",
         "orientation": "v",
         "showlegend": false,
         "textposition": "auto",
         "type": "bar",
         "x": [
          "2020-04-01T00:00:00"
         ],
         "xaxis": "x2",
         "y": [
          41.89
         ],
         "yaxis": "y2"
        },
        {
         "alignmentgroup": "True",
         "hovertemplate": "un=KWH<br>posto=PONTA<br>referencia=%{x}<br>medido=%{y}<extra></extra>",
         "legendgroup": "KWH",
         "marker": {
          "color": "#fdbf11",
          "pattern": {
           "shape": ""
          }
         },
         "name": "KWH",
         "offsetgroup": "KWH",
         "orientation": "v",
         "showlegend": true,
         "textposition": "auto",
         "type": "bar",
         "x": [
          "2021-12-01T00:00:00",
          "2020-02-01T00:00:00",
          "2021-10-01T00:00:00",
          "2021-09-01T00:00:00",
          "2021-08-01T00:00:00",
          "2021-11-01T00:00:00",
          "2020-03-01T00:00:00",
          "2020-06-01T00:00:00",
          "2020-07-01T00:00:00",
          "2020-08-01T00:00:00",
          "2020-09-01T00:00:00",
          "2020-10-01T00:00:00",
          "2022-01-01T00:00:00",
          "2022-02-01T00:00:00",
          "2020-05-01T00:00:00",
          "2022-03-01T00:00:00",
          "2022-04-01T00:00:00",
          "2020-12-01T00:00:00"
         ],
         "xaxis": "x",
         "y": [
          1217,
          1365,
          6037,
          1217,
          1347,
          1245,
          1347,
          2021,
          33797,
          2347,
          2536,
          2324,
          7315,
          84,
          84,
          1513,
          1780.75,
          1115
         ],
         "yaxis": "y"
        },
        {
         "alignmentgroup": "True",
         "hovertemplate": "un=INJ<br>posto=PONTA<br>referencia=%{x}<br>medido=%{y}<extra></extra>",
         "legendgroup": "INJ",
         "marker": {
          "color": "#1696d2",
          "pattern": {
           "shape": ""
          }
         },
         "name": "INJ",
         "offsetgroup": "INJ",
         "orientation": "v",
         "showlegend": true,
         "textposition": "auto",
         "type": "bar",
         "x": [
          "2021-04-01T00:00:00"
         ],
         "xaxis": "x",
         "y": [
          26067
         ],
         "yaxis": "y"
        }
       ],
       "layout": {
        "annotations": [
         {
          "font": {},
          "showarrow": false,
          "text": "posto=PONTA",
          "x": 0.245,
          "xanchor": "center",
          "xref": "paper",
          "y": 1,
          "yanchor": "bottom",
          "yref": "paper"
         },
         {
          "font": {},
          "showarrow": false,
          "text": "posto=FPONTA",
          "x": 0.755,
          "xanchor": "center",
          "xref": "paper",
          "y": 1,
          "yanchor": "bottom",
          "yref": "paper"
         }
        ],
        "barmode": "relative",
        "hoverlabel": {
         "font": {
          "family": "Lato-Regular",
          "size": 14
         }
        },
        "legend": {
         "font": {
          "color": "#000000",
          "family": "Lato-Regular",
          "size": 13
         },
         "title": {
          "font": {
           "color": "#000000",
           "family": "Lato-Bold",
           "size": 14
          },
          "text": "un"
         },
         "tracegroupgap": 0
        },
        "template": {
         "data": {
          "bar": [
           {
            "error_x": {
             "color": "#2a3f5f"
            },
            "error_y": {
             "color": "#2a3f5f"
            },
            "marker": {
             "line": {
              "color": "#E5ECF6",
              "width": 0.5
             },
             "pattern": {
              "fillmode": "overlay",
              "size": 10,
              "solidity": 0.2
             }
            },
            "type": "bar"
           }
          ],
          "barpolar": [
           {
            "marker": {
             "line": {
              "color": "#E5ECF6",
              "width": 0.5
             },
             "pattern": {
              "fillmode": "overlay",
              "size": 10,
              "solidity": 0.2
             }
            },
            "type": "barpolar"
           }
          ],
          "carpet": [
           {
            "aaxis": {
             "endlinecolor": "#2a3f5f",
             "gridcolor": "white",
             "linecolor": "white",
             "minorgridcolor": "white",
             "startlinecolor": "#2a3f5f"
            },
            "baxis": {
             "endlinecolor": "#2a3f5f",
             "gridcolor": "white",
             "linecolor": "white",
             "minorgridcolor": "white",
             "startlinecolor": "#2a3f5f"
            },
            "type": "carpet"
           }
          ],
          "choropleth": [
           {
            "colorbar": {
             "outlinewidth": 0,
             "ticks": ""
            },
            "type": "choropleth"
           }
          ],
          "contour": [
           {
            "colorbar": {
             "outlinewidth": 0,
             "ticks": ""
            },
            "colorscale": [
             [
              0,
              "#0d0887"
             ],
             [
              0.1111111111111111,
              "#46039f"
             ],
             [
              0.2222222222222222,
              "#7201a8"
             ],
             [
              0.3333333333333333,
              "#9c179e"
             ],
             [
              0.4444444444444444,
              "#bd3786"
             ],
             [
              0.5555555555555556,
              "#d8576b"
             ],
             [
              0.6666666666666666,
              "#ed7953"
             ],
             [
              0.7777777777777778,
              "#fb9f3a"
             ],
             [
              0.8888888888888888,
              "#fdca26"
             ],
             [
              1,
              "#f0f921"
             ]
            ],
            "type": "contour"
           }
          ],
          "contourcarpet": [
           {
            "colorbar": {
             "outlinewidth": 0,
             "ticks": ""
            },
            "type": "contourcarpet"
           }
          ],
          "heatmap": [
           {
            "colorbar": {
             "outlinewidth": 0,
             "ticks": ""
            },
            "colorscale": [
             [
              0,
              "#0d0887"
             ],
             [
              0.1111111111111111,
              "#46039f"
             ],
             [
              0.2222222222222222,
              "#7201a8"
             ],
             [
              0.3333333333333333,
              "#9c179e"
             ],
             [
              0.4444444444444444,
              "#bd3786"
             ],
             [
              0.5555555555555556,
              "#d8576b"
             ],
             [
              0.6666666666666666,
              "#ed7953"
             ],
             [
              0.7777777777777778,
              "#fb9f3a"
             ],
             [
              0.8888888888888888,
              "#fdca26"
             ],
             [
              1,
              "#f0f921"
             ]
            ],
            "type": "heatmap"
           }
          ],
          "heatmapgl": [
           {
            "colorbar": {
             "outlinewidth": 0,
             "ticks": ""
            },
            "colorscale": [
             [
              0,
              "#0d0887"
             ],
             [
              0.1111111111111111,
              "#46039f"
             ],
             [
              0.2222222222222222,
              "#7201a8"
             ],
             [
              0.3333333333333333,
              "#9c179e"
             ],
             [
              0.4444444444444444,
              "#bd3786"
             ],
             [
              0.5555555555555556,
              "#d8576b"
             ],
             [
              0.6666666666666666,
              "#ed7953"
             ],
             [
              0.7777777777777778,
              "#fb9f3a"
             ],
             [
              0.8888888888888888,
              "#fdca26"
             ],
             [
              1,
              "#f0f921"
             ]
            ],
            "type": "heatmapgl"
           }
          ],
          "histogram": [
           {
            "marker": {
             "pattern": {
              "fillmode": "overlay",
              "size": 10,
              "solidity": 0.2
             }
            },
            "type": "histogram"
           }
          ],
          "histogram2d": [
           {
            "colorbar": {
             "outlinewidth": 0,
             "ticks": ""
            },
            "colorscale": [
             [
              0,
              "#0d0887"
             ],
             [
              0.1111111111111111,
              "#46039f"
             ],
             [
              0.2222222222222222,
              "#7201a8"
             ],
             [
              0.3333333333333333,
              "#9c179e"
             ],
             [
              0.4444444444444444,
              "#bd3786"
             ],
             [
              0.5555555555555556,
              "#d8576b"
             ],
             [
              0.6666666666666666,
              "#ed7953"
             ],
             [
              0.7777777777777778,
              "#fb9f3a"
             ],
             [
              0.8888888888888888,
              "#fdca26"
             ],
             [
              1,
              "#f0f921"
             ]
            ],
            "type": "histogram2d"
           }
          ],
          "histogram2dcontour": [
           {
            "colorbar": {
             "outlinewidth": 0,
             "ticks": ""
            },
            "colorscale": [
             [
              0,
              "#0d0887"
             ],
             [
              0.1111111111111111,
              "#46039f"
             ],
             [
              0.2222222222222222,
              "#7201a8"
             ],
             [
              0.3333333333333333,
              "#9c179e"
             ],
             [
              0.4444444444444444,
              "#bd3786"
             ],
             [
              0.5555555555555556,
              "#d8576b"
             ],
             [
              0.6666666666666666,
              "#ed7953"
             ],
             [
              0.7777777777777778,
              "#fb9f3a"
             ],
             [
              0.8888888888888888,
              "#fdca26"
             ],
             [
              1,
              "#f0f921"
             ]
            ],
            "type": "histogram2dcontour"
           }
          ],
          "mesh3d": [
           {
            "colorbar": {
             "outlinewidth": 0,
             "ticks": ""
            },
            "type": "mesh3d"
           }
          ],
          "parcoords": [
           {
            "line": {
             "colorbar": {
              "outlinewidth": 0,
              "ticks": ""
             }
            },
            "type": "parcoords"
           }
          ],
          "pie": [
           {
            "automargin": true,
            "type": "pie"
           }
          ],
          "scatter": [
           {
            "marker": {
             "colorbar": {
              "outlinewidth": 0,
              "ticks": ""
             }
            },
            "type": "scatter"
           }
          ],
          "scatter3d": [
           {
            "line": {
             "colorbar": {
              "outlinewidth": 0,
              "ticks": ""
             }
            },
            "marker": {
             "colorbar": {
              "outlinewidth": 0,
              "ticks": ""
             }
            },
            "type": "scatter3d"
           }
          ],
          "scattercarpet": [
           {
            "marker": {
             "colorbar": {
              "outlinewidth": 0,
              "ticks": ""
             }
            },
            "type": "scattercarpet"
           }
          ],
          "scattergeo": [
           {
            "marker": {
             "colorbar": {
              "outlinewidth": 0,
              "ticks": ""
             }
            },
            "type": "scattergeo"
           }
          ],
          "scattergl": [
           {
            "marker": {
             "colorbar": {
              "outlinewidth": 0,
              "ticks": ""
             }
            },
            "type": "scattergl"
           }
          ],
          "scattermapbox": [
           {
            "marker": {
             "colorbar": {
              "outlinewidth": 0,
              "ticks": ""
             }
            },
            "type": "scattermapbox"
           }
          ],
          "scatterpolar": [
           {
            "marker": {
             "colorbar": {
              "outlinewidth": 0,
              "ticks": ""
             }
            },
            "type": "scatterpolar"
           }
          ],
          "scatterpolargl": [
           {
            "marker": {
             "colorbar": {
              "outlinewidth": 0,
              "ticks": ""
             }
            },
            "type": "scatterpolargl"
           }
          ],
          "scatterternary": [
           {
            "marker": {
             "colorbar": {
              "outlinewidth": 0,
              "ticks": ""
             }
            },
            "type": "scatterternary"
           }
          ],
          "surface": [
           {
            "colorbar": {
             "outlinewidth": 0,
             "ticks": ""
            },
            "colorscale": [
             [
              0,
              "#0d0887"
             ],
             [
              0.1111111111111111,
              "#46039f"
             ],
             [
              0.2222222222222222,
              "#7201a8"
             ],
             [
              0.3333333333333333,
              "#9c179e"
             ],
             [
              0.4444444444444444,
              "#bd3786"
             ],
             [
              0.5555555555555556,
              "#d8576b"
             ],
             [
              0.6666666666666666,
              "#ed7953"
             ],
             [
              0.7777777777777778,
              "#fb9f3a"
             ],
             [
              0.8888888888888888,
              "#fdca26"
             ],
             [
              1,
              "#f0f921"
             ]
            ],
            "type": "surface"
           }
          ],
          "table": [
           {
            "cells": {
             "fill": {
              "color": "#EBF0F8"
             },
             "line": {
              "color": "white"
             }
            },
            "header": {
             "fill": {
              "color": "#C8D4E3"
             },
             "line": {
              "color": "white"
             }
            },
            "type": "table"
           }
          ]
         },
         "layout": {
          "annotationdefaults": {
           "arrowcolor": "#2a3f5f",
           "arrowhead": 0,
           "arrowwidth": 1
          },
          "autotypenumbers": "strict",
          "coloraxis": {
           "colorbar": {
            "outlinewidth": 0,
            "ticks": ""
           }
          },
          "colorscale": {
           "diverging": [
            [
             0,
             "#8e0152"
            ],
            [
             0.1,
             "#c51b7d"
            ],
            [
             0.2,
             "#de77ae"
            ],
            [
             0.3,
             "#f1b6da"
            ],
            [
             0.4,
             "#fde0ef"
            ],
            [
             0.5,
             "#f7f7f7"
            ],
            [
             0.6,
             "#e6f5d0"
            ],
            [
             0.7,
             "#b8e186"
            ],
            [
             0.8,
             "#7fbc41"
            ],
            [
             0.9,
             "#4d9221"
            ],
            [
             1,
             "#276419"
            ]
           ],
           "sequential": [
            [
             0,
             "#0d0887"
            ],
            [
             0.1111111111111111,
             "#46039f"
            ],
            [
             0.2222222222222222,
             "#7201a8"
            ],
            [
             0.3333333333333333,
             "#9c179e"
            ],
            [
             0.4444444444444444,
             "#bd3786"
            ],
            [
             0.5555555555555556,
             "#d8576b"
            ],
            [
             0.6666666666666666,
             "#ed7953"
            ],
            [
             0.7777777777777778,
             "#fb9f3a"
            ],
            [
             0.8888888888888888,
             "#fdca26"
            ],
            [
             1,
             "#f0f921"
            ]
           ],
           "sequentialminus": [
            [
             0,
             "#0d0887"
            ],
            [
             0.1111111111111111,
             "#46039f"
            ],
            [
             0.2222222222222222,
             "#7201a8"
            ],
            [
             0.3333333333333333,
             "#9c179e"
            ],
            [
             0.4444444444444444,
             "#bd3786"
            ],
            [
             0.5555555555555556,
             "#d8576b"
            ],
            [
             0.6666666666666666,
             "#ed7953"
            ],
            [
             0.7777777777777778,
             "#fb9f3a"
            ],
            [
             0.8888888888888888,
             "#fdca26"
            ],
            [
             1,
             "#f0f921"
            ]
           ]
          },
          "colorway": [
           "#636efa",
           "#EF553B",
           "#00cc96",
           "#ab63fa",
           "#FFA15A",
           "#19d3f3",
           "#FF6692",
           "#B6E880",
           "#FF97FF",
           "#FECB52"
          ],
          "font": {
           "color": "#2a3f5f"
          },
          "geo": {
           "bgcolor": "white",
           "lakecolor": "white",
           "landcolor": "#E5ECF6",
           "showlakes": true,
           "showland": true,
           "subunitcolor": "white"
          },
          "hoverlabel": {
           "align": "left"
          },
          "hovermode": "closest",
          "mapbox": {
           "style": "light"
          },
          "paper_bgcolor": "white",
          "plot_bgcolor": "#E5ECF6",
          "polar": {
           "angularaxis": {
            "gridcolor": "white",
            "linecolor": "white",
            "ticks": ""
           },
           "bgcolor": "#E5ECF6",
           "radialaxis": {
            "gridcolor": "white",
            "linecolor": "white",
            "ticks": ""
           }
          },
          "scene": {
           "xaxis": {
            "backgroundcolor": "#E5ECF6",
            "gridcolor": "white",
            "gridwidth": 2,
            "linecolor": "white",
            "showbackground": true,
            "ticks": "",
            "zerolinecolor": "white"
           },
           "yaxis": {
            "backgroundcolor": "#E5ECF6",
            "gridcolor": "white",
            "gridwidth": 2,
            "linecolor": "white",
            "showbackground": true,
            "ticks": "",
            "zerolinecolor": "white"
           },
           "zaxis": {
            "backgroundcolor": "#E5ECF6",
            "gridcolor": "white",
            "gridwidth": 2,
            "linecolor": "white",
            "showbackground": true,
            "ticks": "",
            "zerolinecolor": "white"
           }
          },
          "shapedefaults": {
           "line": {
            "color": "#2a3f5f"
           }
          },
          "ternary": {
           "aaxis": {
            "gridcolor": "white",
            "linecolor": "white",
            "ticks": ""
           },
           "baxis": {
            "gridcolor": "white",
            "linecolor": "white",
            "ticks": ""
           },
           "bgcolor": "#E5ECF6",
           "caxis": {
            "gridcolor": "white",
            "linecolor": "white",
            "ticks": ""
           }
          },
          "title": {
           "x": 0.05
          },
          "xaxis": {
           "automargin": true,
           "gridcolor": "white",
           "linecolor": "white",
           "ticks": "",
           "title": {
            "standoff": 15
           },
           "zerolinecolor": "white",
           "zerolinewidth": 2
          },
          "yaxis": {
           "automargin": true,
           "gridcolor": "white",
           "linecolor": "white",
           "ticks": "",
           "title": {
            "standoff": 15
           },
           "zerolinecolor": "white",
           "zerolinewidth": 2
          }
         }
        },
        "title": {
         "font": {
          "color": "#000000",
          "family": "Lato-Bold",
          "size": 18
         },
         "text": "AGUAS LEBRINHA LTDA<br><sup>Histórico das medições</sup>"
        },
        "width": 1000,
        "xaxis": {
         "anchor": "y",
         "domain": [
          0,
          0.49
         ],
         "tickfont": {
          "color": "#000000",
          "family": "Lato-Regular",
          "size": 12
         },
         "title": {
          "font": {
           "color": "#000000",
           "family": "Lato-Italic",
           "size": 14
          },
          "text": "referencia"
         }
        },
        "xaxis2": {
         "anchor": "y2",
         "domain": [
          0.51,
          1
         ],
         "matches": "x",
         "tickfont": {
          "color": "#000000",
          "family": "Lato-Regular",
          "size": 12
         },
         "title": {
          "font": {
           "color": "#000000",
           "family": "Lato-Italic",
           "size": 14
          },
          "text": "referencia"
         }
        },
        "yaxis": {
         "anchor": "x",
         "domain": [
          0,
          1
         ],
         "tickfont": {
          "color": "#000000",
          "family": "Lato-Regular",
          "size": 12
         },
         "title": {
          "font": {
           "color": "#000000",
           "family": "Lato-Italic",
           "size": 14
          },
          "text": "medido"
         }
        },
        "yaxis2": {
         "anchor": "x2",
         "domain": [
          0,
          1
         ],
         "matches": "y",
         "showticklabels": false
        }
       }
      }
     },
     "metadata": {},
     "output_type": "display_data"
    }
   ],
   "source": [
    "consumo_cliente = pd.concat([\n",
    "\tcliente_query.drop(columns='estruturaConsumo'),\n",
    "\tcliente_query['estruturaConsumo'].apply(pd.Series)\n",
    "], axis=1)\n",
    "\n",
    "consumo_cliente['saldo'] = consumo_cliente['faturado'] - consumo_cliente['medido']\n",
    "\n",
    "px.bar(\n",
    "\tconsumo_cliente,\n",
    "\tx='referencia',\n",
    "\ty='medido',\n",
    "\tcolor='un',\n",
    "\tfacet_col='posto',\n",
    "\ttitle=f'{cliente}<br><sup>Histórico das medições</sup>',\n",
    "\tcolor_discrete_sequence=CATEGORICAL_GROUPS[consumo_cliente['un'].nunique()],\n",
    "\twidth=1000\n",
    ").update_layout(**LAYOUT_SPECS\n",
    ").update_xaxes(**LAYOUT_SPECS['xaxis'])"
   ]
  },
  {
   "cell_type": "code",
   "execution_count": 48,
   "metadata": {},
   "outputs": [],
   "source": [
    "t1, c1 = select_client('TELEFONICA BRASIL SA')"
   ]
  },
  {
   "cell_type": "code",
   "execution_count": 49,
   "metadata": {},
   "outputs": [
    {
     "ename": "ValueError",
     "evalue": "Value of 'facet_col' is not the name of a column in 'data_frame'. Expected one of ['_id', 'estruturaConsumo', 'unique', 'cliente', 'classe', 'ligacao', 'referencia', 'data_vencimento', 'data_emissao', 'data_apresentacao', 'data_proxima_leitura', 'cnpj', 'uc', 'refaturamento', 'createdAt', 'updatedAt', 'cci', 'descricao', 'quantidade', 'semTributos', 'comTributos', 'valorTotal', 'baseIcms', 'aliqIcms', 'icms', 'basePisCofins', 'pis', 'cofins', '_id.$oid', 'class_desc', 'tarifa_posto'] but received: posto",
     "output_type": "error",
     "traceback": [
      "\u001b[0;31m---------------------------------------------------------------------------\u001b[0m",
      "\u001b[0;31mValueError\u001b[0m                                Traceback (most recent call last)",
      "\u001b[1;32m/Users/baiochi/Desktop/LinearEngenharia challenge/apresentacao.ipynb Cell 109'\u001b[0m in \u001b[0;36m<cell line: 1>\u001b[0;34m()\u001b[0m\n\u001b[0;32m----> <a href='vscode-notebook-cell:/Users/baiochi/Desktop/LinearEngenharia%20challenge/apresentacao.ipynb#ch0000207?line=0'>1</a>\u001b[0m px\u001b[39m.\u001b[39;49mbox(\n\u001b[1;32m      <a href='vscode-notebook-cell:/Users/baiochi/Desktop/LinearEngenharia%20challenge/apresentacao.ipynb#ch0000207?line=1'>2</a>\u001b[0m \tt1,\n\u001b[1;32m      <a href='vscode-notebook-cell:/Users/baiochi/Desktop/LinearEngenharia%20challenge/apresentacao.ipynb#ch0000207?line=2'>3</a>\u001b[0m \tx\u001b[39m=\u001b[39;49m\u001b[39m'\u001b[39;49m\u001b[39mreferencia\u001b[39;49m\u001b[39m'\u001b[39;49m,\n\u001b[1;32m      <a href='vscode-notebook-cell:/Users/baiochi/Desktop/LinearEngenharia%20challenge/apresentacao.ipynb#ch0000207?line=3'>4</a>\u001b[0m \ty\u001b[39m=\u001b[39;49m\u001b[39m'\u001b[39;49m\u001b[39mquantidade\u001b[39;49m\u001b[39m'\u001b[39;49m,\n\u001b[1;32m      <a href='vscode-notebook-cell:/Users/baiochi/Desktop/LinearEngenharia%20challenge/apresentacao.ipynb#ch0000207?line=4'>5</a>\u001b[0m \tcolor\u001b[39m=\u001b[39;49m\u001b[39m'\u001b[39;49m\u001b[39mclass_desc\u001b[39;49m\u001b[39m'\u001b[39;49m,\n\u001b[1;32m      <a href='vscode-notebook-cell:/Users/baiochi/Desktop/LinearEngenharia%20challenge/apresentacao.ipynb#ch0000207?line=5'>6</a>\u001b[0m \tfacet_col\u001b[39m=\u001b[39;49m\u001b[39m'\u001b[39;49m\u001b[39mposto\u001b[39;49m\u001b[39m'\u001b[39;49m,\n\u001b[1;32m      <a href='vscode-notebook-cell:/Users/baiochi/Desktop/LinearEngenharia%20challenge/apresentacao.ipynb#ch0000207?line=6'>7</a>\u001b[0m \ttitle\u001b[39m=\u001b[39;49m\u001b[39mf\u001b[39;49m\u001b[39m'\u001b[39;49m\u001b[39m{\u001b[39;49;00mcliente\u001b[39m}\u001b[39;49;00m\u001b[39m<br><sup>Histórico das medições</sup>\u001b[39;49m\u001b[39m'\u001b[39;49m,\n\u001b[1;32m      <a href='vscode-notebook-cell:/Users/baiochi/Desktop/LinearEngenharia%20challenge/apresentacao.ipynb#ch0000207?line=7'>8</a>\u001b[0m \tcolor_discrete_sequence\u001b[39m=\u001b[39;49mCATEGORICAL_GROUPS[\u001b[39m7\u001b[39;49m],\n\u001b[1;32m      <a href='vscode-notebook-cell:/Users/baiochi/Desktop/LinearEngenharia%20challenge/apresentacao.ipynb#ch0000207?line=8'>9</a>\u001b[0m \twidth\u001b[39m=\u001b[39;49m\u001b[39m1000\u001b[39;49m\n\u001b[1;32m     <a href='vscode-notebook-cell:/Users/baiochi/Desktop/LinearEngenharia%20challenge/apresentacao.ipynb#ch0000207?line=9'>10</a>\u001b[0m )\u001b[39m.\u001b[39mupdate_layout(\u001b[39m*\u001b[39m\u001b[39m*\u001b[39mLAYOUT_SPECS\n\u001b[1;32m     <a href='vscode-notebook-cell:/Users/baiochi/Desktop/LinearEngenharia%20challenge/apresentacao.ipynb#ch0000207?line=10'>11</a>\u001b[0m )\u001b[39m.\u001b[39mupdate_xaxes(\u001b[39m*\u001b[39m\u001b[39m*\u001b[39mLAYOUT_SPECS[\u001b[39m'\u001b[39m\u001b[39mxaxis\u001b[39m\u001b[39m'\u001b[39m])\n",
      "File \u001b[0;32m~/opt/anaconda3/lib/python3.9/site-packages/plotly/express/_chart_types.py:652\u001b[0m, in \u001b[0;36mbox\u001b[0;34m(data_frame, x, y, color, facet_row, facet_col, facet_col_wrap, facet_row_spacing, facet_col_spacing, hover_name, hover_data, custom_data, animation_frame, animation_group, category_orders, labels, color_discrete_sequence, color_discrete_map, orientation, boxmode, log_x, log_y, range_x, range_y, points, notched, title, template, width, height)\u001b[0m\n\u001b[1;32m    611\u001b[0m \u001b[39mdef\u001b[39;00m \u001b[39mbox\u001b[39m(\n\u001b[1;32m    612\u001b[0m     data_frame\u001b[39m=\u001b[39m\u001b[39mNone\u001b[39;00m,\n\u001b[1;32m    613\u001b[0m     x\u001b[39m=\u001b[39m\u001b[39mNone\u001b[39;00m,\n\u001b[0;32m   (...)\u001b[0m\n\u001b[1;32m    641\u001b[0m     height\u001b[39m=\u001b[39m\u001b[39mNone\u001b[39;00m,\n\u001b[1;32m    642\u001b[0m ):\n\u001b[1;32m    643\u001b[0m     \u001b[39m\"\"\"\u001b[39;00m\n\u001b[1;32m    644\u001b[0m \u001b[39m    In a box plot, rows of `data_frame` are grouped together into a\u001b[39;00m\n\u001b[1;32m    645\u001b[0m \u001b[39m    box-and-whisker mark to visualize their distribution.\u001b[39;00m\n\u001b[0;32m   (...)\u001b[0m\n\u001b[1;32m    650\u001b[0m \u001b[39m    range (IQR: Q3-Q1), see \"points\" for other options.\u001b[39;00m\n\u001b[1;32m    651\u001b[0m \u001b[39m    \"\"\"\u001b[39;00m\n\u001b[0;32m--> 652\u001b[0m     \u001b[39mreturn\u001b[39;00m make_figure(\n\u001b[1;32m    653\u001b[0m         args\u001b[39m=\u001b[39;49m\u001b[39mlocals\u001b[39;49m(),\n\u001b[1;32m    654\u001b[0m         constructor\u001b[39m=\u001b[39;49mgo\u001b[39m.\u001b[39;49mBox,\n\u001b[1;32m    655\u001b[0m         trace_patch\u001b[39m=\u001b[39;49m\u001b[39mdict\u001b[39;49m(boxpoints\u001b[39m=\u001b[39;49mpoints, notched\u001b[39m=\u001b[39;49mnotched, x0\u001b[39m=\u001b[39;49m\u001b[39m\"\u001b[39;49m\u001b[39m \u001b[39;49m\u001b[39m\"\u001b[39;49m, y0\u001b[39m=\u001b[39;49m\u001b[39m\"\u001b[39;49m\u001b[39m \u001b[39;49m\u001b[39m\"\u001b[39;49m),\n\u001b[1;32m    656\u001b[0m         layout_patch\u001b[39m=\u001b[39;49m\u001b[39mdict\u001b[39;49m(boxmode\u001b[39m=\u001b[39;49mboxmode),\n\u001b[1;32m    657\u001b[0m     )\n",
      "File \u001b[0;32m~/opt/anaconda3/lib/python3.9/site-packages/plotly/express/_core.py:1945\u001b[0m, in \u001b[0;36mmake_figure\u001b[0;34m(args, constructor, trace_patch, layout_patch)\u001b[0m\n\u001b[1;32m   1942\u001b[0m layout_patch \u001b[39m=\u001b[39m layout_patch \u001b[39mor\u001b[39;00m {}\n\u001b[1;32m   1943\u001b[0m apply_default_cascade(args)\n\u001b[0;32m-> 1945\u001b[0m args \u001b[39m=\u001b[39m build_dataframe(args, constructor)\n\u001b[1;32m   1946\u001b[0m \u001b[39mif\u001b[39;00m constructor \u001b[39min\u001b[39;00m [go\u001b[39m.\u001b[39mTreemap, go\u001b[39m.\u001b[39mSunburst, go\u001b[39m.\u001b[39mIcicle] \u001b[39mand\u001b[39;00m args[\u001b[39m\"\u001b[39m\u001b[39mpath\u001b[39m\u001b[39m\"\u001b[39m] \u001b[39mis\u001b[39;00m \u001b[39mnot\u001b[39;00m \u001b[39mNone\u001b[39;00m:\n\u001b[1;32m   1947\u001b[0m     args \u001b[39m=\u001b[39m process_dataframe_hierarchy(args)\n",
      "File \u001b[0;32m~/opt/anaconda3/lib/python3.9/site-packages/plotly/express/_core.py:1405\u001b[0m, in \u001b[0;36mbuild_dataframe\u001b[0;34m(args, constructor)\u001b[0m\n\u001b[1;32m   1402\u001b[0m     args[\u001b[39m\"\u001b[39m\u001b[39mcolor\u001b[39m\u001b[39m\"\u001b[39m] \u001b[39m=\u001b[39m \u001b[39mNone\u001b[39;00m\n\u001b[1;32m   1403\u001b[0m \u001b[39m# now that things have been prepped, we do the systematic rewriting of `args`\u001b[39;00m\n\u001b[0;32m-> 1405\u001b[0m df_output, wide_id_vars \u001b[39m=\u001b[39m process_args_into_dataframe(\n\u001b[1;32m   1406\u001b[0m     args, wide_mode, var_name, value_name\n\u001b[1;32m   1407\u001b[0m )\n\u001b[1;32m   1409\u001b[0m \u001b[39m# now that `df_output` exists and `args` contains only references, we complete\u001b[39;00m\n\u001b[1;32m   1410\u001b[0m \u001b[39m# the special-case and wide-mode handling by further rewriting args and/or mutating\u001b[39;00m\n\u001b[1;32m   1411\u001b[0m \u001b[39m# df_output\u001b[39;00m\n\u001b[1;32m   1413\u001b[0m count_name \u001b[39m=\u001b[39m _escape_col_name(df_output, \u001b[39m\"\u001b[39m\u001b[39mcount\u001b[39m\u001b[39m\"\u001b[39m, [var_name, value_name])\n",
      "File \u001b[0;32m~/opt/anaconda3/lib/python3.9/site-packages/plotly/express/_core.py:1207\u001b[0m, in \u001b[0;36mprocess_args_into_dataframe\u001b[0;34m(args, wide_mode, var_name, value_name)\u001b[0m\n\u001b[1;32m   1205\u001b[0m         \u001b[39mif\u001b[39;00m argument \u001b[39m==\u001b[39m \u001b[39m\"\u001b[39m\u001b[39mindex\u001b[39m\u001b[39m\"\u001b[39m:\n\u001b[1;32m   1206\u001b[0m             err_msg \u001b[39m+\u001b[39m\u001b[39m=\u001b[39m \u001b[39m\"\u001b[39m\u001b[39m\\n\u001b[39;00m\u001b[39m To use the index, pass it in directly as `df.index`.\u001b[39m\u001b[39m\"\u001b[39m\n\u001b[0;32m-> 1207\u001b[0m         \u001b[39mraise\u001b[39;00m \u001b[39mValueError\u001b[39;00m(err_msg)\n\u001b[1;32m   1208\u001b[0m \u001b[39melif\u001b[39;00m length \u001b[39mand\u001b[39;00m \u001b[39mlen\u001b[39m(df_input[argument]) \u001b[39m!=\u001b[39m length:\n\u001b[1;32m   1209\u001b[0m     \u001b[39mraise\u001b[39;00m \u001b[39mValueError\u001b[39;00m(\n\u001b[1;32m   1210\u001b[0m         \u001b[39m\"\u001b[39m\u001b[39mAll arguments should have the same length. \u001b[39m\u001b[39m\"\u001b[39m\n\u001b[1;32m   1211\u001b[0m         \u001b[39m\"\u001b[39m\u001b[39mThe length of column argument `df[\u001b[39m\u001b[39m%s\u001b[39;00m\u001b[39m]` is \u001b[39m\u001b[39m%d\u001b[39;00m\u001b[39m, whereas the \u001b[39m\u001b[39m\"\u001b[39m\n\u001b[0;32m   (...)\u001b[0m\n\u001b[1;32m   1218\u001b[0m         )\n\u001b[1;32m   1219\u001b[0m     )\n",
      "\u001b[0;31mValueError\u001b[0m: Value of 'facet_col' is not the name of a column in 'data_frame'. Expected one of ['_id', 'estruturaConsumo', 'unique', 'cliente', 'classe', 'ligacao', 'referencia', 'data_vencimento', 'data_emissao', 'data_apresentacao', 'data_proxima_leitura', 'cnpj', 'uc', 'refaturamento', 'createdAt', 'updatedAt', 'cci', 'descricao', 'quantidade', 'semTributos', 'comTributos', 'valorTotal', 'baseIcms', 'aliqIcms', 'icms', 'basePisCofins', 'pis', 'cofins', '_id.$oid', 'class_desc', 'tarifa_posto'] but received: posto"
     ]
    }
   ],
   "source": [
    "px.box(\n",
    "\tt1,\n",
    "\tx='referencia',\n",
    "\ty='quantidade',\n",
    "\tcolor='class_desc',\n",
    "\tfacet_col='posto',\n",
    "\ttitle=f'{cliente}<br><sup>Histórico das medições</sup>',\n",
    "\tcolor_discrete_sequence=CATEGORICAL_GROUPS[7],\n",
    "\twidth=1000\n",
    ").update_layout(**LAYOUT_SPECS\n",
    ").update_xaxes(**LAYOUT_SPECS['xaxis'])"
   ]
  },
  {
   "cell_type": "code",
   "execution_count": null,
   "metadata": {},
   "outputs": [
    {
     "data": {
      "application/vnd.plotly.v1+json": {
       "config": {
        "plotlyServerURL": "https://plot.ly"
       },
       "data": [
        {
         "alignmentgroup": "True",
         "hovertemplate": "un=KWH<br>posto=PONTA<br>referencia=%{x}<br>medido=%{y}<extra></extra>",
         "legendgroup": "KWH",
         "marker": {
          "color": "#1696d2"
         },
         "name": "KWH",
         "notched": false,
         "offsetgroup": "KWH",
         "orientation": "v",
         "showlegend": true,
         "type": "box",
         "x": [
          "2022-02-01T00:00:00",
          "2022-02-01T00:00:00",
          "2022-03-01T00:00:00",
          "2022-03-01T00:00:00",
          "2022-03-01T00:00:00",
          "2022-04-01T00:00:00",
          "2022-04-01T00:00:00",
          "2022-04-01T00:00:00",
          "2022-04-01T00:00:00",
          "2022-04-01T00:00:00",
          "2022-04-01T00:00:00",
          "2022-04-01T00:00:00",
          "2022-04-01T00:00:00",
          "2022-04-01T00:00:00",
          "2022-04-01T00:00:00",
          "2022-04-01T00:00:00",
          "2022-04-01T00:00:00",
          "2022-04-01T00:00:00",
          "2022-04-01T00:00:00",
          "2022-04-01T00:00:00",
          "2022-05-01T00:00:00",
          "2022-01-01T00:00:00",
          "2022-05-01T00:00:00",
          "2022-05-01T00:00:00",
          "2022-05-01T00:00:00",
          "2022-05-01T00:00:00",
          "2022-05-01T00:00:00",
          "2022-05-01T00:00:00"
         ],
         "x0": " ",
         "xaxis": "x",
         "y": [
          1005,
          1000,
          3718.8558,
          17377,
          2505,
          55350,
          2331,
          1840,
          1721,
          3213,
          2003,
          6389,
          1293,
          1318,
          2178,
          30291,
          18485,
          1140,
          28714,
          2002.44,
          1115,
          1122,
          25846,
          2398,
          3185,
          3185,
          2472,
          5576
         ],
         "y0": " ",
         "yaxis": "y"
        },
        {
         "alignmentgroup": "True",
         "hovertemplate": "un=KWH<br>posto=FPONTA<br>referencia=%{x}<br>medido=%{y}<extra></extra>",
         "legendgroup": "KWH",
         "marker": {
          "color": "#1696d2"
         },
         "name": "KWH",
         "notched": false,
         "offsetgroup": "KWH",
         "orientation": "v",
         "showlegend": false,
         "type": "box",
         "x": [
          "2022-03-01T00:00:00",
          "2022-04-01T00:00:00"
         ],
         "x0": " ",
         "xaxis": "x2",
         "y": [
          33011.355,
          16706.45
         ],
         "y0": " ",
         "yaxis": "y2"
        },
        {
         "alignmentgroup": "True",
         "hovertemplate": "un=ERE<br>posto=PONTA<br>referencia=%{x}<br>medido=%{y}<extra></extra>",
         "legendgroup": "ERE",
         "marker": {
          "color": "#d2d2d2"
         },
         "name": "ERE",
         "notched": false,
         "offsetgroup": "ERE",
         "orientation": "v",
         "showlegend": true,
         "type": "box",
         "x": [
          "2022-04-01T00:00:00",
          "2022-04-01T00:00:00"
         ],
         "x0": " ",
         "xaxis": "x",
         "y": [
          1141,
          198.23
         ],
         "y0": " ",
         "yaxis": "y"
        },
        {
         "alignmentgroup": "True",
         "hovertemplate": "un=ERE<br>posto=FPONTA<br>referencia=%{x}<br>medido=%{y}<extra></extra>",
         "legendgroup": "ERE",
         "marker": {
          "color": "#d2d2d2"
         },
         "name": "ERE",
         "notched": false,
         "offsetgroup": "ERE",
         "orientation": "v",
         "showlegend": false,
         "type": "box",
         "x": [
          "2022-03-01T00:00:00",
          "2022-03-01T00:00:00",
          "2022-03-01T00:00:00",
          "2022-04-01T00:00:00",
          "2022-05-01T00:00:00",
          "2022-02-01T00:00:00"
         ],
         "x0": " ",
         "xaxis": "x2",
         "y": [
          0.21,
          113.7832,
          144.033,
          1617.98,
          0.29,
          3.2
         ],
         "y0": " ",
         "yaxis": "y2"
        },
        {
         "alignmentgroup": "True",
         "hovertemplate": "un=DRE<br>posto=PONTA<br>referencia=%{x}<br>medido=%{y}<extra></extra>",
         "legendgroup": "DRE",
         "marker": {
          "color": "#ec008b"
         },
         "name": "DRE",
         "notched": false,
         "offsetgroup": "DRE",
         "orientation": "v",
         "showlegend": true,
         "type": "box",
         "x": [
          "2022-03-01T00:00:00",
          "2022-03-01T00:00:00",
          "2022-05-01T00:00:00",
          "2022-04-01T00:00:00"
         ],
         "x0": " ",
         "xaxis": "x",
         "y": [
          32.6,
          70.5651,
          32.43,
          33.87
         ],
         "y0": " ",
         "yaxis": "y"
        },
        {
         "alignmentgroup": "True",
         "hovertemplate": "un=DRE<br>posto=FPONTA<br>referencia=%{x}<br>medido=%{y}<extra></extra>",
         "legendgroup": "DRE",
         "marker": {
          "color": "#ec008b"
         },
         "name": "DRE",
         "notched": false,
         "offsetgroup": "DRE",
         "orientation": "v",
         "showlegend": false,
         "type": "box",
         "x": [
          "2022-03-01T00:00:00",
          "2022-04-01T00:00:00",
          "2022-03-01T00:00:00"
         ],
         "x0": " ",
         "xaxis": "x2",
         "y": [
          128.8056,
          42.64,
          35.79
         ],
         "y0": " ",
         "yaxis": "y2"
        },
        {
         "alignmentgroup": "True",
         "hovertemplate": "un=KW<br>posto=PONTA<br>referencia=%{x}<br>medido=%{y}<extra></extra>",
         "legendgroup": "KW",
         "marker": {
          "color": "#fdbf11"
         },
         "name": "KW",
         "notched": false,
         "offsetgroup": "KW",
         "orientation": "v",
         "showlegend": true,
         "type": "box",
         "x": [
          "2022-03-01T00:00:00",
          "2022-03-01T00:00:00",
          "2022-04-01T00:00:00"
         ],
         "x0": " ",
         "xaxis": "x",
         "y": [
          132.3808,
          72.078,
          39.95
         ],
         "y0": " ",
         "yaxis": "y"
        },
        {
         "alignmentgroup": "True",
         "hovertemplate": "un=KW<br>posto=FPONTA<br>referencia=%{x}<br>medido=%{y}<extra></extra>",
         "legendgroup": "KW",
         "marker": {
          "color": "#fdbf11"
         },
         "name": "KW",
         "notched": false,
         "offsetgroup": "KW",
         "orientation": "v",
         "showlegend": false,
         "type": "box",
         "x": [
          "2022-03-01T00:00:00",
          "2022-03-01T00:00:00",
          "2022-05-01T00:00:00",
          "2022-05-01T00:00:00",
          "2022-05-01T00:00:00"
         ],
         "x0": " ",
         "xaxis": "x2",
         "y": [
          0,
          135.5296,
          38.87,
          39.69,
          0
         ],
         "y0": " ",
         "yaxis": "y2"
        },
        {
         "alignmentgroup": "True",
         "hovertemplate": "un=INJ<br>posto=PONTA<br>referencia=%{x}<br>medido=%{y}<extra></extra>",
         "legendgroup": "INJ",
         "marker": {
          "color": "#332d2f"
         },
         "name": "INJ",
         "notched": false,
         "offsetgroup": "INJ",
         "orientation": "v",
         "showlegend": true,
         "type": "box",
         "x": [
          "2022-03-01T00:00:00",
          "2022-04-01T00:00:00"
         ],
         "x0": " ",
         "xaxis": "x",
         "y": [
          0,
          0
         ],
         "y0": " ",
         "yaxis": "y"
        },
        {
         "alignmentgroup": "True",
         "hovertemplate": "un=INJ<br>posto=FPONTA<br>referencia=%{x}<br>medido=%{y}<extra></extra>",
         "legendgroup": "INJ",
         "marker": {
          "color": "#332d2f"
         },
         "name": "INJ",
         "notched": false,
         "offsetgroup": "INJ",
         "orientation": "v",
         "showlegend": false,
         "type": "box",
         "x": [
          "2022-03-01T00:00:00",
          "2022-04-01T00:00:00",
          "2022-05-01T00:00:00"
         ],
         "x0": " ",
         "xaxis": "x2",
         "y": [
          0,
          0,
          0
         ],
         "y0": " ",
         "yaxis": "y2"
        },
        {
         "alignmentgroup": "True",
         "hovertemplate": "un=KVA<br>posto=PONTA<br>referencia=%{x}<br>medido=%{y}<extra></extra>",
         "legendgroup": "KVA",
         "marker": {
          "color": "#0a4c6a"
         },
         "name": "KVA",
         "notched": false,
         "offsetgroup": "KVA",
         "orientation": "v",
         "showlegend": true,
         "type": "box",
         "x": [
          "2022-05-01T00:00:00"
         ],
         "x0": " ",
         "xaxis": "x",
         "y": [
          779
         ],
         "y0": " ",
         "yaxis": "y"
        }
       ],
       "layout": {
        "annotations": [
         {
          "font": {},
          "showarrow": false,
          "text": "posto=PONTA",
          "x": 0.245,
          "xanchor": "center",
          "xref": "paper",
          "y": 1,
          "yanchor": "bottom",
          "yref": "paper"
         },
         {
          "font": {},
          "showarrow": false,
          "text": "posto=FPONTA",
          "x": 0.755,
          "xanchor": "center",
          "xref": "paper",
          "y": 1,
          "yanchor": "bottom",
          "yref": "paper"
         }
        ],
        "boxmode": "group",
        "hoverlabel": {
         "font": {
          "family": "Lato-Regular",
          "size": 14
         }
        },
        "legend": {
         "font": {
          "color": "#000000",
          "family": "Lato-Regular",
          "size": 13
         },
         "title": {
          "font": {
           "color": "#000000",
           "family": "Lato-Bold",
           "size": 14
          },
          "text": "un"
         },
         "tracegroupgap": 0
        },
        "template": {
         "data": {
          "bar": [
           {
            "error_x": {
             "color": "#2a3f5f"
            },
            "error_y": {
             "color": "#2a3f5f"
            },
            "marker": {
             "line": {
              "color": "#E5ECF6",
              "width": 0.5
             },
             "pattern": {
              "fillmode": "overlay",
              "size": 10,
              "solidity": 0.2
             }
            },
            "type": "bar"
           }
          ],
          "barpolar": [
           {
            "marker": {
             "line": {
              "color": "#E5ECF6",
              "width": 0.5
             },
             "pattern": {
              "fillmode": "overlay",
              "size": 10,
              "solidity": 0.2
             }
            },
            "type": "barpolar"
           }
          ],
          "carpet": [
           {
            "aaxis": {
             "endlinecolor": "#2a3f5f",
             "gridcolor": "white",
             "linecolor": "white",
             "minorgridcolor": "white",
             "startlinecolor": "#2a3f5f"
            },
            "baxis": {
             "endlinecolor": "#2a3f5f",
             "gridcolor": "white",
             "linecolor": "white",
             "minorgridcolor": "white",
             "startlinecolor": "#2a3f5f"
            },
            "type": "carpet"
           }
          ],
          "choropleth": [
           {
            "colorbar": {
             "outlinewidth": 0,
             "ticks": ""
            },
            "type": "choropleth"
           }
          ],
          "contour": [
           {
            "colorbar": {
             "outlinewidth": 0,
             "ticks": ""
            },
            "colorscale": [
             [
              0,
              "#0d0887"
             ],
             [
              0.1111111111111111,
              "#46039f"
             ],
             [
              0.2222222222222222,
              "#7201a8"
             ],
             [
              0.3333333333333333,
              "#9c179e"
             ],
             [
              0.4444444444444444,
              "#bd3786"
             ],
             [
              0.5555555555555556,
              "#d8576b"
             ],
             [
              0.6666666666666666,
              "#ed7953"
             ],
             [
              0.7777777777777778,
              "#fb9f3a"
             ],
             [
              0.8888888888888888,
              "#fdca26"
             ],
             [
              1,
              "#f0f921"
             ]
            ],
            "type": "contour"
           }
          ],
          "contourcarpet": [
           {
            "colorbar": {
             "outlinewidth": 0,
             "ticks": ""
            },
            "type": "contourcarpet"
           }
          ],
          "heatmap": [
           {
            "colorbar": {
             "outlinewidth": 0,
             "ticks": ""
            },
            "colorscale": [
             [
              0,
              "#0d0887"
             ],
             [
              0.1111111111111111,
              "#46039f"
             ],
             [
              0.2222222222222222,
              "#7201a8"
             ],
             [
              0.3333333333333333,
              "#9c179e"
             ],
             [
              0.4444444444444444,
              "#bd3786"
             ],
             [
              0.5555555555555556,
              "#d8576b"
             ],
             [
              0.6666666666666666,
              "#ed7953"
             ],
             [
              0.7777777777777778,
              "#fb9f3a"
             ],
             [
              0.8888888888888888,
              "#fdca26"
             ],
             [
              1,
              "#f0f921"
             ]
            ],
            "type": "heatmap"
           }
          ],
          "heatmapgl": [
           {
            "colorbar": {
             "outlinewidth": 0,
             "ticks": ""
            },
            "colorscale": [
             [
              0,
              "#0d0887"
             ],
             [
              0.1111111111111111,
              "#46039f"
             ],
             [
              0.2222222222222222,
              "#7201a8"
             ],
             [
              0.3333333333333333,
              "#9c179e"
             ],
             [
              0.4444444444444444,
              "#bd3786"
             ],
             [
              0.5555555555555556,
              "#d8576b"
             ],
             [
              0.6666666666666666,
              "#ed7953"
             ],
             [
              0.7777777777777778,
              "#fb9f3a"
             ],
             [
              0.8888888888888888,
              "#fdca26"
             ],
             [
              1,
              "#f0f921"
             ]
            ],
            "type": "heatmapgl"
           }
          ],
          "histogram": [
           {
            "marker": {
             "pattern": {
              "fillmode": "overlay",
              "size": 10,
              "solidity": 0.2
             }
            },
            "type": "histogram"
           }
          ],
          "histogram2d": [
           {
            "colorbar": {
             "outlinewidth": 0,
             "ticks": ""
            },
            "colorscale": [
             [
              0,
              "#0d0887"
             ],
             [
              0.1111111111111111,
              "#46039f"
             ],
             [
              0.2222222222222222,
              "#7201a8"
             ],
             [
              0.3333333333333333,
              "#9c179e"
             ],
             [
              0.4444444444444444,
              "#bd3786"
             ],
             [
              0.5555555555555556,
              "#d8576b"
             ],
             [
              0.6666666666666666,
              "#ed7953"
             ],
             [
              0.7777777777777778,
              "#fb9f3a"
             ],
             [
              0.8888888888888888,
              "#fdca26"
             ],
             [
              1,
              "#f0f921"
             ]
            ],
            "type": "histogram2d"
           }
          ],
          "histogram2dcontour": [
           {
            "colorbar": {
             "outlinewidth": 0,
             "ticks": ""
            },
            "colorscale": [
             [
              0,
              "#0d0887"
             ],
             [
              0.1111111111111111,
              "#46039f"
             ],
             [
              0.2222222222222222,
              "#7201a8"
             ],
             [
              0.3333333333333333,
              "#9c179e"
             ],
             [
              0.4444444444444444,
              "#bd3786"
             ],
             [
              0.5555555555555556,
              "#d8576b"
             ],
             [
              0.6666666666666666,
              "#ed7953"
             ],
             [
              0.7777777777777778,
              "#fb9f3a"
             ],
             [
              0.8888888888888888,
              "#fdca26"
             ],
             [
              1,
              "#f0f921"
             ]
            ],
            "type": "histogram2dcontour"
           }
          ],
          "mesh3d": [
           {
            "colorbar": {
             "outlinewidth": 0,
             "ticks": ""
            },
            "type": "mesh3d"
           }
          ],
          "parcoords": [
           {
            "line": {
             "colorbar": {
              "outlinewidth": 0,
              "ticks": ""
             }
            },
            "type": "parcoords"
           }
          ],
          "pie": [
           {
            "automargin": true,
            "type": "pie"
           }
          ],
          "scatter": [
           {
            "marker": {
             "colorbar": {
              "outlinewidth": 0,
              "ticks": ""
             }
            },
            "type": "scatter"
           }
          ],
          "scatter3d": [
           {
            "line": {
             "colorbar": {
              "outlinewidth": 0,
              "ticks": ""
             }
            },
            "marker": {
             "colorbar": {
              "outlinewidth": 0,
              "ticks": ""
             }
            },
            "type": "scatter3d"
           }
          ],
          "scattercarpet": [
           {
            "marker": {
             "colorbar": {
              "outlinewidth": 0,
              "ticks": ""
             }
            },
            "type": "scattercarpet"
           }
          ],
          "scattergeo": [
           {
            "marker": {
             "colorbar": {
              "outlinewidth": 0,
              "ticks": ""
             }
            },
            "type": "scattergeo"
           }
          ],
          "scattergl": [
           {
            "marker": {
             "colorbar": {
              "outlinewidth": 0,
              "ticks": ""
             }
            },
            "type": "scattergl"
           }
          ],
          "scattermapbox": [
           {
            "marker": {
             "colorbar": {
              "outlinewidth": 0,
              "ticks": ""
             }
            },
            "type": "scattermapbox"
           }
          ],
          "scatterpolar": [
           {
            "marker": {
             "colorbar": {
              "outlinewidth": 0,
              "ticks": ""
             }
            },
            "type": "scatterpolar"
           }
          ],
          "scatterpolargl": [
           {
            "marker": {
             "colorbar": {
              "outlinewidth": 0,
              "ticks": ""
             }
            },
            "type": "scatterpolargl"
           }
          ],
          "scatterternary": [
           {
            "marker": {
             "colorbar": {
              "outlinewidth": 0,
              "ticks": ""
             }
            },
            "type": "scatterternary"
           }
          ],
          "surface": [
           {
            "colorbar": {
             "outlinewidth": 0,
             "ticks": ""
            },
            "colorscale": [
             [
              0,
              "#0d0887"
             ],
             [
              0.1111111111111111,
              "#46039f"
             ],
             [
              0.2222222222222222,
              "#7201a8"
             ],
             [
              0.3333333333333333,
              "#9c179e"
             ],
             [
              0.4444444444444444,
              "#bd3786"
             ],
             [
              0.5555555555555556,
              "#d8576b"
             ],
             [
              0.6666666666666666,
              "#ed7953"
             ],
             [
              0.7777777777777778,
              "#fb9f3a"
             ],
             [
              0.8888888888888888,
              "#fdca26"
             ],
             [
              1,
              "#f0f921"
             ]
            ],
            "type": "surface"
           }
          ],
          "table": [
           {
            "cells": {
             "fill": {
              "color": "#EBF0F8"
             },
             "line": {
              "color": "white"
             }
            },
            "header": {
             "fill": {
              "color": "#C8D4E3"
             },
             "line": {
              "color": "white"
             }
            },
            "type": "table"
           }
          ]
         },
         "layout": {
          "annotationdefaults": {
           "arrowcolor": "#2a3f5f",
           "arrowhead": 0,
           "arrowwidth": 1
          },
          "autotypenumbers": "strict",
          "coloraxis": {
           "colorbar": {
            "outlinewidth": 0,
            "ticks": ""
           }
          },
          "colorscale": {
           "diverging": [
            [
             0,
             "#8e0152"
            ],
            [
             0.1,
             "#c51b7d"
            ],
            [
             0.2,
             "#de77ae"
            ],
            [
             0.3,
             "#f1b6da"
            ],
            [
             0.4,
             "#fde0ef"
            ],
            [
             0.5,
             "#f7f7f7"
            ],
            [
             0.6,
             "#e6f5d0"
            ],
            [
             0.7,
             "#b8e186"
            ],
            [
             0.8,
             "#7fbc41"
            ],
            [
             0.9,
             "#4d9221"
            ],
            [
             1,
             "#276419"
            ]
           ],
           "sequential": [
            [
             0,
             "#0d0887"
            ],
            [
             0.1111111111111111,
             "#46039f"
            ],
            [
             0.2222222222222222,
             "#7201a8"
            ],
            [
             0.3333333333333333,
             "#9c179e"
            ],
            [
             0.4444444444444444,
             "#bd3786"
            ],
            [
             0.5555555555555556,
             "#d8576b"
            ],
            [
             0.6666666666666666,
             "#ed7953"
            ],
            [
             0.7777777777777778,
             "#fb9f3a"
            ],
            [
             0.8888888888888888,
             "#fdca26"
            ],
            [
             1,
             "#f0f921"
            ]
           ],
           "sequentialminus": [
            [
             0,
             "#0d0887"
            ],
            [
             0.1111111111111111,
             "#46039f"
            ],
            [
             0.2222222222222222,
             "#7201a8"
            ],
            [
             0.3333333333333333,
             "#9c179e"
            ],
            [
             0.4444444444444444,
             "#bd3786"
            ],
            [
             0.5555555555555556,
             "#d8576b"
            ],
            [
             0.6666666666666666,
             "#ed7953"
            ],
            [
             0.7777777777777778,
             "#fb9f3a"
            ],
            [
             0.8888888888888888,
             "#fdca26"
            ],
            [
             1,
             "#f0f921"
            ]
           ]
          },
          "colorway": [
           "#636efa",
           "#EF553B",
           "#00cc96",
           "#ab63fa",
           "#FFA15A",
           "#19d3f3",
           "#FF6692",
           "#B6E880",
           "#FF97FF",
           "#FECB52"
          ],
          "font": {
           "color": "#2a3f5f"
          },
          "geo": {
           "bgcolor": "white",
           "lakecolor": "white",
           "landcolor": "#E5ECF6",
           "showlakes": true,
           "showland": true,
           "subunitcolor": "white"
          },
          "hoverlabel": {
           "align": "left"
          },
          "hovermode": "closest",
          "mapbox": {
           "style": "light"
          },
          "paper_bgcolor": "white",
          "plot_bgcolor": "#E5ECF6",
          "polar": {
           "angularaxis": {
            "gridcolor": "white",
            "linecolor": "white",
            "ticks": ""
           },
           "bgcolor": "#E5ECF6",
           "radialaxis": {
            "gridcolor": "white",
            "linecolor": "white",
            "ticks": ""
           }
          },
          "scene": {
           "xaxis": {
            "backgroundcolor": "#E5ECF6",
            "gridcolor": "white",
            "gridwidth": 2,
            "linecolor": "white",
            "showbackground": true,
            "ticks": "",
            "zerolinecolor": "white"
           },
           "yaxis": {
            "backgroundcolor": "#E5ECF6",
            "gridcolor": "white",
            "gridwidth": 2,
            "linecolor": "white",
            "showbackground": true,
            "ticks": "",
            "zerolinecolor": "white"
           },
           "zaxis": {
            "backgroundcolor": "#E5ECF6",
            "gridcolor": "white",
            "gridwidth": 2,
            "linecolor": "white",
            "showbackground": true,
            "ticks": "",
            "zerolinecolor": "white"
           }
          },
          "shapedefaults": {
           "line": {
            "color": "#2a3f5f"
           }
          },
          "ternary": {
           "aaxis": {
            "gridcolor": "white",
            "linecolor": "white",
            "ticks": ""
           },
           "baxis": {
            "gridcolor": "white",
            "linecolor": "white",
            "ticks": ""
           },
           "bgcolor": "#E5ECF6",
           "caxis": {
            "gridcolor": "white",
            "linecolor": "white",
            "ticks": ""
           }
          },
          "title": {
           "x": 0.05
          },
          "xaxis": {
           "automargin": true,
           "gridcolor": "white",
           "linecolor": "white",
           "ticks": "",
           "title": {
            "standoff": 15
           },
           "zerolinecolor": "white",
           "zerolinewidth": 2
          },
          "yaxis": {
           "automargin": true,
           "gridcolor": "white",
           "linecolor": "white",
           "ticks": "",
           "title": {
            "standoff": 15
           },
           "zerolinecolor": "white",
           "zerolinewidth": 2
          }
         }
        },
        "title": {
         "font": {
          "color": "#000000",
          "family": "Lato-Bold",
          "size": 18
         },
         "text": "AGUAS LEBRINHA LTDA<br><sup>Histórico das medições</sup>"
        },
        "width": 1000,
        "xaxis": {
         "anchor": "y",
         "domain": [
          0,
          0.49
         ],
         "tickfont": {
          "color": "#000000",
          "family": "Lato-Regular",
          "size": 12
         },
         "title": {
          "font": {
           "color": "#000000",
           "family": "Lato-Italic",
           "size": 14
          },
          "text": "referencia"
         }
        },
        "xaxis2": {
         "anchor": "y2",
         "domain": [
          0.51,
          1
         ],
         "matches": "x",
         "tickfont": {
          "color": "#000000",
          "family": "Lato-Regular",
          "size": 12
         },
         "title": {
          "font": {
           "color": "#000000",
           "family": "Lato-Italic",
           "size": 14
          },
          "text": "referencia"
         }
        },
        "yaxis": {
         "anchor": "x",
         "domain": [
          0,
          1
         ],
         "tickfont": {
          "color": "#000000",
          "family": "Lato-Regular",
          "size": 12
         },
         "title": {
          "font": {
           "color": "#000000",
           "family": "Lato-Italic",
           "size": 14
          },
          "text": "medido"
         }
        },
        "yaxis2": {
         "anchor": "x2",
         "domain": [
          0,
          1
         ],
         "matches": "y",
         "showticklabels": false
        }
       }
      }
     },
     "metadata": {},
     "output_type": "display_data"
    }
   ],
   "source": [
    "px.box(\n",
    "\tc1,\n",
    "\tx='referencia',\n",
    "\ty='medido',\n",
    "\tcolor='un',\n",
    "\tfacet_col='posto',\n",
    "\ttitle=f'{cliente}<br><sup>Histórico das medições</sup>',\n",
    "\tcolor_discrete_sequence=CATEGORICAL_GROUPS[c1['un'].nunique()],\n",
    "\twidth=1000\n",
    ").update_layout(**LAYOUT_SPECS\n",
    ").update_xaxes(**LAYOUT_SPECS['xaxis'])"
   ]
  },
  {
   "cell_type": "markdown",
   "metadata": {},
   "source": [
    "# 8. <span id='item8'>Possíveis aplicações de ML"
   ]
  },
  {
   "cell_type": "code",
   "execution_count": null,
   "metadata": {},
   "outputs": [],
   "source": []
  }
 ],
 "metadata": {
  "kernelspec": {
   "display_name": "Python 3.9.12 ('base')",
   "language": "python",
   "name": "python3"
  },
  "language_info": {
   "codemirror_mode": {
    "name": "ipython",
    "version": 3
   },
   "file_extension": ".py",
   "mimetype": "text/x-python",
   "name": "python",
   "nbconvert_exporter": "python",
   "pygments_lexer": "ipython3",
   "version": "3.9.12"
  },
  "orig_nbformat": 4,
  "vscode": {
   "interpreter": {
    "hash": "4cc37c5bde6f2c4a9abbb0f88e1ba241d8320ce9d430498035b829e5a00e7fb9"
   }
  }
 },
 "nbformat": 4,
 "nbformat_minor": 2
}
